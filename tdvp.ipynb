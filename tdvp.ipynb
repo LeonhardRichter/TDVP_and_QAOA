{
 "cells": [
  {
   "cell_type": "markdown",
   "metadata": {},
   "source": [
    "# TDVP numerical test \\#1\n",
    "\n",
    "The goal is to use the TDVP to simulate the time evolution of a simple Hamiltonian, when state space is restricted to some manifold Furthermore a goal is to compare this method with directly solving the SE and projecting to the manifold.\n",
    "\n",
    "The first example will be $\\mathcal{M}= S^2$ and $H=\\sigma_x$ to generate an X-rotation of a 1-qubit system. Note that the Bloch-sphere is a restriction of the entire 2-dim $\\mathcal{H}$ onto a sphere. "
   ]
  },
  {
   "cell_type": "code",
   "execution_count": 3,
   "metadata": {},
   "outputs": [],
   "source": [
    "from math import * \n",
    "import numpy as np\n",
    "import scipy as sp\n",
    "\n",
    "import jax\n",
    "import jax.numpy as jnp\n",
    "\n",
    "import matplotlib.pyplot as plt\n",
    "\n",
    "import qutip as qt"
   ]
  },
  {
   "cell_type": "code",
   "execution_count": 4,
   "metadata": {},
   "outputs": [
    {
     "data": {
      "text/plain": [
       "matrix([[0.+0.j, 1.+0.j],\n",
       "        [1.+0.j, 0.+0.j]])"
      ]
     },
     "execution_count": 4,
     "metadata": {},
     "output_type": "execute_result"
    }
   ],
   "source": [
    "H = np.matrix(qt.sigmax().full())\n",
    "H"
   ]
  },
  {
   "cell_type": "code",
   "execution_count": 87,
   "metadata": {},
   "outputs": [],
   "source": [
    "def psi(params:np.array):\n",
    "    theta, phi = params\n",
    "    ket0=np.matrix(qt.basis(2,0).full().flatten())\n",
    "    ket1=np.matrix(qt.basis(2,1).full().flatten())\n",
    "    # assert -np.pi<=theta<np.pi, f\"theta={theta} out of bounds.\"\n",
    "    # assert 0<=phi<2*np.pi, f\"phi={phi} out of bounds.\"\n",
    "    return np.cos(theta/2)*ket0 + np.exp(1j*phi)*np.sin(theta/2)*ket1"
   ]
  },
  {
   "cell_type": "code",
   "execution_count": 6,
   "metadata": {},
   "outputs": [
    {
     "data": {
      "text/plain": [
       "array([1.+0.j, 0.+0.j])"
      ]
     },
     "execution_count": 6,
     "metadata": {},
     "output_type": "execute_result"
    }
   ],
   "source": [
    "qt.basis(2,0).full().flatten()"
   ]
  },
  {
   "cell_type": "code",
   "execution_count": 7,
   "metadata": {},
   "outputs": [
    {
     "data": {
      "text/plain": [
       "array([0.70710678+0.j, 0.70710678+0.j])"
      ]
     },
     "execution_count": 7,
     "metadata": {},
     "output_type": "execute_result"
    }
   ],
   "source": [
    "psi([pi/2,0])"
   ]
  },
  {
   "cell_type": "code",
   "execution_count": 8,
   "metadata": {},
   "outputs": [],
   "source": [
    "jacpsi = jax.jacfwd(psi)"
   ]
  },
  {
   "cell_type": "code",
   "execution_count": 9,
   "metadata": {},
   "outputs": [],
   "source": [
    "z=np.array([1.1,2.2])"
   ]
  },
  {
   "cell_type": "code",
   "execution_count": 10,
   "metadata": {},
   "outputs": [],
   "source": [
    "# jacpsi(z)"
   ]
  },
  {
   "cell_type": "code",
   "execution_count": 11,
   "metadata": {},
   "outputs": [],
   "source": [
    "def f(x,y):\n",
    "    return np.array([x**2+y, 5*+np.sin(y)]) "
   ]
  },
  {
   "cell_type": "code",
   "execution_count": 12,
   "metadata": {},
   "outputs": [],
   "source": [
    "# jf = jax.jacfwd(f)\n",
    "# X=np.array([1.0,1.0])\n",
    "# jf(X)"
   ]
  },
  {
   "cell_type": "code",
   "execution_count": 13,
   "metadata": {},
   "outputs": [],
   "source": [
    "def finitediff(f,i=0,epsilon=0.00000001):\n",
    "    def df(params):\n",
    "        theta,phi=params\n",
    "        if i==0:\n",
    "            dtheta=theta+epsilon\n",
    "            dphi=phi\n",
    "        if i==1:\n",
    "            dphi=phi+epsilon\n",
    "            dtheta=theta\n",
    "        return (f([dtheta,dphi])-f([theta,phi]))/epsilon\n",
    "    return df"
   ]
  },
  {
   "cell_type": "code",
   "execution_count": 43,
   "metadata": {},
   "outputs": [],
   "source": [
    "def df(func,epsilon=0.00000001):\n",
    "    def d_func(params):\n",
    "        return(np.matrix([finitediff(func,i=0,epsilon=epsilon)(params),finitediff(func,i=1,epsilon=epsilon)(params)]))\n",
    "    return d_func"
   ]
  },
  {
   "cell_type": "code",
   "execution_count": 61,
   "metadata": {},
   "outputs": [
    {
     "data": {
      "text/plain": [
       "matrix([[0. +0.j, 0.5+0.j],\n",
       "        [0. +0.j, 0. +0.j]])"
      ]
     },
     "execution_count": 61,
     "metadata": {},
     "output_type": "execute_result"
    }
   ],
   "source": [
    "df(psi)((0,0))"
   ]
  },
  {
   "cell_type": "code",
   "execution_count": 63,
   "metadata": {},
   "outputs": [],
   "source": [
    "dpsi = finitediff(psi,1)"
   ]
  },
  {
   "cell_type": "code",
   "execution_count": 64,
   "metadata": {},
   "outputs": [
    {
     "data": {
      "text/plain": [
       "array([ 0.        +0.j        , -0.40342268+0.25903472j])"
      ]
     },
     "execution_count": 64,
     "metadata": {},
     "output_type": "execute_result"
    }
   ],
   "source": [
    "dpsi([1,1])"
   ]
  },
  {
   "cell_type": "code",
   "execution_count": 16,
   "metadata": {},
   "outputs": [],
   "source": [
    "def G(params,psi)->np.array:\n",
    "    def G_j_k(j, k):\n",
    "        dpsi_j = finitediff(psi, j)\n",
    "        dpsi_k = finitediff(psi, k)\n",
    "        return np.dot(dpsi_j(params), dpsi_k(params))\n",
    "    return(np.matrix([[G_j_k(0, 0), G_j_k(0, 1)],\n",
    "                     [G_j_k(1, 0), G_j_k(1, 1)]]))\n"
   ]
  },
  {
   "cell_type": "code",
   "execution_count": 17,
   "metadata": {},
   "outputs": [
    {
     "data": {
      "text/plain": [
       "matrix([[-0.02266177+0.17507411j, -0.19128685-0.08754387j]])"
      ]
     },
     "execution_count": 17,
     "metadata": {},
     "output_type": "execute_result"
    }
   ],
   "source": [
    "G([1,1],psi)[0]"
   ]
  },
  {
   "cell_type": "code",
   "execution_count": 83,
   "metadata": {},
   "outputs": [],
   "source": [
    "def time_evo(psi,params,stepsize=0.1):\n",
    "    params = params\n",
    "    #compute partial derivatives\n",
    "    dpsi = df(psi)\n",
    "    # define step from t to t+\\Delta t\n",
    "    def step(params):\n",
    "        # define gradient dphi H phi\n",
    "        grad = np.matrix([(dpsi(params)[i]*H*psi(params).T).item(0)for i in range(2)])\n",
    "        # calculate step vector and add\n",
    "        step_vec = -1j*stepsize*np.linalg.inv(G(params,psi))*grad.T\n",
    "        step_lenght = np.linalg.norm(step_vec)\n",
    "        return (step_lenght,params + step_vec)\n",
    "    t=0\n",
    "    step_lenght = 1\n",
    "\n",
    "    while t<=10000 and step_lenght>10^(-10):\n",
    "        t+=1\n",
    "        step_lenght, params = step(params)\n",
    "\n",
    "    return step(params)\n",
    "\n",
    "\n",
    "    "
   ]
  },
  {
   "cell_type": "code",
   "execution_count": 89,
   "metadata": {},
   "outputs": [
    {
     "ename": "ValueError",
     "evalue": "matrix must be 2-dimensional",
     "output_type": "error",
     "traceback": [
      "\u001b[0;31m---------------------------------------------------------------------------\u001b[0m",
      "\u001b[0;31mValueError\u001b[0m                                Traceback (most recent call last)",
      "\u001b[1;32m/home/leonhard/Documents/Uni/Bachelor/Semester 8/Bachelorarbeit /TDVP_and_QAOA/tdvp.ipynb Cell 20'\u001b[0m in \u001b[0;36m<cell line: 1>\u001b[0;34m()\u001b[0m\n\u001b[0;32m----> <a href='vscode-notebook-cell:/home/leonhard/Documents/Uni/Bachelor/Semester%208/Bachelorarbeit%20/TDVP_and_QAOA/tdvp.ipynb#ch0000017?line=0'>1</a>\u001b[0m time_evo(psi,(\u001b[39m1\u001b[39;49m,\u001b[39m1\u001b[39;49m))\n",
      "\u001b[1;32m/home/leonhard/Documents/Uni/Bachelor/Semester 8/Bachelorarbeit /TDVP_and_QAOA/tdvp.ipynb Cell 19'\u001b[0m in \u001b[0;36mtime_evo\u001b[0;34m(psi, params, stepsize)\u001b[0m\n\u001b[1;32m     <a href='vscode-notebook-cell:/home/leonhard/Documents/Uni/Bachelor/Semester%208/Bachelorarbeit%20/TDVP_and_QAOA/tdvp.ipynb#ch0000016?line=15'>16</a>\u001b[0m \u001b[39mwhile\u001b[39;00m t\u001b[39m<\u001b[39m\u001b[39m=\u001b[39m\u001b[39m10000\u001b[39m \u001b[39mand\u001b[39;00m step_lenght\u001b[39m>\u001b[39m\u001b[39m10\u001b[39m\u001b[39m^\u001b[39m(\u001b[39m-\u001b[39m\u001b[39m10\u001b[39m):\n\u001b[1;32m     <a href='vscode-notebook-cell:/home/leonhard/Documents/Uni/Bachelor/Semester%208/Bachelorarbeit%20/TDVP_and_QAOA/tdvp.ipynb#ch0000016?line=16'>17</a>\u001b[0m     t\u001b[39m+\u001b[39m\u001b[39m=\u001b[39m\u001b[39m1\u001b[39m\n\u001b[0;32m---> <a href='vscode-notebook-cell:/home/leonhard/Documents/Uni/Bachelor/Semester%208/Bachelorarbeit%20/TDVP_and_QAOA/tdvp.ipynb#ch0000016?line=17'>18</a>\u001b[0m     step_lenght, params \u001b[39m=\u001b[39m step(params)\n\u001b[1;32m     <a href='vscode-notebook-cell:/home/leonhard/Documents/Uni/Bachelor/Semester%208/Bachelorarbeit%20/TDVP_and_QAOA/tdvp.ipynb#ch0000016?line=19'>20</a>\u001b[0m \u001b[39mreturn\u001b[39;00m step(params)\n",
      "\u001b[1;32m/home/leonhard/Documents/Uni/Bachelor/Semester 8/Bachelorarbeit /TDVP_and_QAOA/tdvp.ipynb Cell 19'\u001b[0m in \u001b[0;36mtime_evo.<locals>.step\u001b[0;34m(params)\u001b[0m\n\u001b[1;32m      <a href='vscode-notebook-cell:/home/leonhard/Documents/Uni/Bachelor/Semester%208/Bachelorarbeit%20/TDVP_and_QAOA/tdvp.ipynb#ch0000016?line=5'>6</a>\u001b[0m \u001b[39mdef\u001b[39;00m \u001b[39mstep\u001b[39m(params):\n\u001b[1;32m      <a href='vscode-notebook-cell:/home/leonhard/Documents/Uni/Bachelor/Semester%208/Bachelorarbeit%20/TDVP_and_QAOA/tdvp.ipynb#ch0000016?line=6'>7</a>\u001b[0m     \u001b[39m# define gradient dphi H phi\u001b[39;00m\n\u001b[0;32m----> <a href='vscode-notebook-cell:/home/leonhard/Documents/Uni/Bachelor/Semester%208/Bachelorarbeit%20/TDVP_and_QAOA/tdvp.ipynb#ch0000016?line=7'>8</a>\u001b[0m     grad \u001b[39m=\u001b[39m np\u001b[39m.\u001b[39mmatrix([(dpsi(params)[i]\u001b[39m*\u001b[39mH\u001b[39m*\u001b[39mnp\u001b[39m.\u001b[39mmatrix(psi(params))\u001b[39m.\u001b[39mT)\u001b[39m.\u001b[39mitem(\u001b[39m0\u001b[39m)\u001b[39mfor\u001b[39;00m i \u001b[39min\u001b[39;00m \u001b[39mrange\u001b[39m(\u001b[39m2\u001b[39m)])\n\u001b[1;32m      <a href='vscode-notebook-cell:/home/leonhard/Documents/Uni/Bachelor/Semester%208/Bachelorarbeit%20/TDVP_and_QAOA/tdvp.ipynb#ch0000016?line=8'>9</a>\u001b[0m     \u001b[39m# calculate step vector and add\u001b[39;00m\n\u001b[1;32m     <a href='vscode-notebook-cell:/home/leonhard/Documents/Uni/Bachelor/Semester%208/Bachelorarbeit%20/TDVP_and_QAOA/tdvp.ipynb#ch0000016?line=9'>10</a>\u001b[0m     step_vec \u001b[39m=\u001b[39m \u001b[39m-\u001b[39m\u001b[39m1\u001b[39mj\u001b[39m*\u001b[39mstepsize\u001b[39m*\u001b[39mnp\u001b[39m.\u001b[39mlinalg\u001b[39m.\u001b[39minv(G(params,psi))\u001b[39m*\u001b[39mgrad\u001b[39m.\u001b[39mT\n",
      "\u001b[1;32m/home/leonhard/Documents/Uni/Bachelor/Semester 8/Bachelorarbeit /TDVP_and_QAOA/tdvp.ipynb Cell 19'\u001b[0m in \u001b[0;36m<listcomp>\u001b[0;34m(.0)\u001b[0m\n\u001b[1;32m      <a href='vscode-notebook-cell:/home/leonhard/Documents/Uni/Bachelor/Semester%208/Bachelorarbeit%20/TDVP_and_QAOA/tdvp.ipynb#ch0000016?line=5'>6</a>\u001b[0m \u001b[39mdef\u001b[39;00m \u001b[39mstep\u001b[39m(params):\n\u001b[1;32m      <a href='vscode-notebook-cell:/home/leonhard/Documents/Uni/Bachelor/Semester%208/Bachelorarbeit%20/TDVP_and_QAOA/tdvp.ipynb#ch0000016?line=6'>7</a>\u001b[0m     \u001b[39m# define gradient dphi H phi\u001b[39;00m\n\u001b[0;32m----> <a href='vscode-notebook-cell:/home/leonhard/Documents/Uni/Bachelor/Semester%208/Bachelorarbeit%20/TDVP_and_QAOA/tdvp.ipynb#ch0000016?line=7'>8</a>\u001b[0m     grad \u001b[39m=\u001b[39m np\u001b[39m.\u001b[39mmatrix([(dpsi(params)[i]\u001b[39m*\u001b[39mH\u001b[39m*\u001b[39mnp\u001b[39m.\u001b[39mmatrix(psi(params))\u001b[39m.\u001b[39mT)\u001b[39m.\u001b[39mitem(\u001b[39m0\u001b[39m)\u001b[39mfor\u001b[39;00m i \u001b[39min\u001b[39;00m \u001b[39mrange\u001b[39m(\u001b[39m2\u001b[39m)])\n\u001b[1;32m      <a href='vscode-notebook-cell:/home/leonhard/Documents/Uni/Bachelor/Semester%208/Bachelorarbeit%20/TDVP_and_QAOA/tdvp.ipynb#ch0000016?line=8'>9</a>\u001b[0m     \u001b[39m# calculate step vector and add\u001b[39;00m\n\u001b[1;32m     <a href='vscode-notebook-cell:/home/leonhard/Documents/Uni/Bachelor/Semester%208/Bachelorarbeit%20/TDVP_and_QAOA/tdvp.ipynb#ch0000016?line=9'>10</a>\u001b[0m     step_vec \u001b[39m=\u001b[39m \u001b[39m-\u001b[39m\u001b[39m1\u001b[39mj\u001b[39m*\u001b[39mstepsize\u001b[39m*\u001b[39mnp\u001b[39m.\u001b[39mlinalg\u001b[39m.\u001b[39minv(G(params,psi))\u001b[39m*\u001b[39mgrad\u001b[39m.\u001b[39mT\n",
      "\u001b[1;32m/home/leonhard/Documents/Uni/Bachelor/Semester 8/Bachelorarbeit /TDVP_and_QAOA/tdvp.ipynb Cell 13'\u001b[0m in \u001b[0;36mdf.<locals>.d_func\u001b[0;34m(params)\u001b[0m\n\u001b[1;32m      <a href='vscode-notebook-cell:/home/leonhard/Documents/Uni/Bachelor/Semester%208/Bachelorarbeit%20/TDVP_and_QAOA/tdvp.ipynb#ch0000020?line=1'>2</a>\u001b[0m \u001b[39mdef\u001b[39;00m \u001b[39md_func\u001b[39m(params):\n\u001b[0;32m----> <a href='vscode-notebook-cell:/home/leonhard/Documents/Uni/Bachelor/Semester%208/Bachelorarbeit%20/TDVP_and_QAOA/tdvp.ipynb#ch0000020?line=2'>3</a>\u001b[0m     \u001b[39mreturn\u001b[39;00m(np\u001b[39m.\u001b[39;49mmatrix([finitediff(func,i\u001b[39m=\u001b[39;49m\u001b[39m0\u001b[39;49m,epsilon\u001b[39m=\u001b[39;49mepsilon)(params),finitediff(func,i\u001b[39m=\u001b[39;49m\u001b[39m1\u001b[39;49m,epsilon\u001b[39m=\u001b[39;49mepsilon)(params)]))\n",
      "File \u001b[0;32m~/anaconda3/envs/qutip-env/lib/python3.10/site-packages/numpy/matrixlib/defmatrix.py:149\u001b[0m, in \u001b[0;36mmatrix.__new__\u001b[0;34m(subtype, data, dtype, copy)\u001b[0m\n\u001b[1;32m    147\u001b[0m shape \u001b[39m=\u001b[39m arr\u001b[39m.\u001b[39mshape\n\u001b[1;32m    148\u001b[0m \u001b[39mif\u001b[39;00m (ndim \u001b[39m>\u001b[39m \u001b[39m2\u001b[39m):\n\u001b[0;32m--> 149\u001b[0m     \u001b[39mraise\u001b[39;00m \u001b[39mValueError\u001b[39;00m(\u001b[39m\"\u001b[39m\u001b[39mmatrix must be 2-dimensional\u001b[39m\u001b[39m\"\u001b[39m)\n\u001b[1;32m    150\u001b[0m \u001b[39melif\u001b[39;00m ndim \u001b[39m==\u001b[39m \u001b[39m0\u001b[39m:\n\u001b[1;32m    151\u001b[0m     shape \u001b[39m=\u001b[39m (\u001b[39m1\u001b[39m, \u001b[39m1\u001b[39m)\n",
      "\u001b[0;31mValueError\u001b[0m: matrix must be 2-dimensional"
     ]
    }
   ],
   "source": [
    "time_evo(psi,(1,1))"
   ]
  },
  {
   "cell_type": "code",
   "execution_count": 39,
   "metadata": {},
   "outputs": [
    {
     "ename": "TypeError",
     "evalue": "'list' object cannot be interpreted as an integer",
     "output_type": "error",
     "traceback": [
      "\u001b[0;31m---------------------------------------------------------------------------\u001b[0m",
      "\u001b[0;31mTypeError\u001b[0m                                 Traceback (most recent call last)",
      "\u001b[1;32m/home/leonhard/Documents/Uni/Bachelor/Semester 8/Bachelorarbeit /TDVP_and_QAOA/tdvp.ipynb Cell 19'\u001b[0m in \u001b[0;36m<cell line: 1>\u001b[0;34m()\u001b[0m\n\u001b[0;32m----> <a href='vscode-notebook-cell:/home/leonhard/Documents/Uni/Bachelor/Semester%208/Bachelorarbeit%20/TDVP_and_QAOA/tdvp.ipynb#ch0000018?line=0'>1</a>\u001b[0m np\u001b[39m.\u001b[39;49mmatrix([[\u001b[39m1\u001b[39;49m,\u001b[39m2\u001b[39;49m],[\u001b[39m3\u001b[39;49m,\u001b[39m4\u001b[39;49m]])\u001b[39m.\u001b[39;49mitem([\u001b[39m0\u001b[39;49m,\u001b[39m0\u001b[39;49m])\n",
      "\u001b[0;31mTypeError\u001b[0m: 'list' object cannot be interpreted as an integer"
     ]
    }
   ],
   "source": [
    "np.matrix([[1,2],[3,4]])"
   ]
  },
  {
   "cell_type": "code",
   "execution_count": 59,
   "metadata": {},
   "outputs": [
    {
     "data": {
      "text/plain": [
       "(1, 1)"
      ]
     },
     "execution_count": 59,
     "metadata": {},
     "output_type": "execute_result"
    }
   ],
   "source": [
    "(np.matrix([1,1])*H*np.matrix([1,1]).T).shape"
   ]
  },
  {
   "cell_type": "code",
   "execution_count": null,
   "metadata": {},
   "outputs": [],
   "source": []
  }
 ],
 "metadata": {
  "interpreter": {
   "hash": "fe45c953e7d91ced0867b19789acd0ab1d9439aa0b1f4fae31fd46e88f74aeab"
  },
  "kernelspec": {
   "display_name": "Python 3.10.4 ('qutip-env')",
   "language": "python",
   "name": "python3"
  },
  "language_info": {
   "codemirror_mode": {
    "name": "ipython",
    "version": 3
   },
   "file_extension": ".py",
   "mimetype": "text/x-python",
   "name": "python",
   "nbconvert_exporter": "python",
   "pygments_lexer": "ipython3",
   "version": "3.10.4"
  },
  "orig_nbformat": 4
 },
 "nbformat": 4,
 "nbformat_minor": 2
}
