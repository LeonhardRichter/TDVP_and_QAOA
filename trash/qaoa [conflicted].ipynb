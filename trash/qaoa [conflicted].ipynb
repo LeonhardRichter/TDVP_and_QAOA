{
 "cells": [
  {
   "cell_type": "code",
   "execution_count": 55,
   "metadata": {},
   "outputs": [],
   "source": [
    "from abc import ABCMeta\n",
    "from typing import Union, Iterable, Callable\\\n",
    "\n",
    "from itertools import combinations\n",
    "\n",
    "from qutip import *\n",
    "from qutip.qip.operations import *\n",
    "from qutip.qip.circuit import QubitCircuit, Gate\n",
    "\n",
    "import numpy as np\n",
    "from numpy.typing import ArrayLike\n",
    "from numpy import pi\n",
    "\n",
    "import scipy as sp\n",
    "import scipy.integrate as spint\n",
    "import scipy.linalg as splinalg\n",
    "import scipy.optimize as spopt\n",
    "\n",
    "import plotly.express as px\n",
    "\n",
    "import matplotlib.pyplot as plt"
   ]
  },
  {
   "cell_type": "markdown",
   "metadata": {},
   "source": [
    "Implemet simple ´qaoa´ solver for general Hamiltonian given as $Z$-polynomial\n",
    "\n",
    "$$\n",
    "\n",
    "    H = C + \\sum_{i}c_{i}Z_{i} + \\sum_{i,j}c_{i,j}Z_{i}Z_{j} + \\sum_{i,j,k}c_{i,j,k}Z_{i}Z_{j}Z_{k} + \\dots\n",
    "\n",
    "$$\n",
    "\\\\\n",
    "For that write global functions for all parts of `qaoa` $\\rightarrow$ *trial state preperation*, *measurement*, computing the *expectation* .\n",
    "Write custom, abstract `OPTIMIZER` class wich can be substituted by scipy optimizers like `cobyla` and then later by the `tdvp optimizer`. "
   ]
  },
  {
   "cell_type": "code",
   "execution_count": 54,
   "metadata": {},
   "outputs": [],
   "source": [
    "def sz(n:int,i:int):\n",
    "    return expand_operator(sigmaz(),n,i,[2 for _ in range(n)])\n",
    "\n",
    "def sx(n:int,i:int):\n",
    "    return expand_operator(sigmax(),n,i,[2 for _ in range(n)])\n",
    "    \n",
    "H = tensor(sigmaz(),sigmaz(),sigmaz())\n",
    "B = sum([sx(3,_) for _ in range(3)])\n",
    "minus = (basis(2,0)-basis(2,1)).unit()\n",
    "minus_minus = tensor(minus,minus)\n",
    "\n",
    "def rzz(arg_value):\n",
    "    return tensor(rz(arg_value),rz(-arg_value))"
   ]
  },
  {
   "cell_type": "code",
   "execution_count": 5,
   "metadata": {},
   "outputs": [
    {
     "data": {
      "text/latex": [
       "Quantum object: dims = [[2, 2, 2], [2, 2, 2]], shape = (8, 8), type = oper, isherm = True\\begin{equation*}\\left(\\begin{array}{*{11}c}0.0 & 1.0 & 1.0 & 0.0 & 1.0 & 0.0 & 0.0 & 0.0\\\\1.0 & 0.0 & 0.0 & 1.0 & 0.0 & 1.0 & 0.0 & 0.0\\\\1.0 & 0.0 & 0.0 & 1.0 & 0.0 & 0.0 & 1.0 & 0.0\\\\0.0 & 1.0 & 1.0 & 0.0 & 0.0 & 0.0 & 0.0 & 1.0\\\\1.0 & 0.0 & 0.0 & 0.0 & 0.0 & 1.0 & 1.0 & 0.0\\\\0.0 & 1.0 & 0.0 & 0.0 & 1.0 & 0.0 & 0.0 & 1.0\\\\0.0 & 0.0 & 1.0 & 0.0 & 1.0 & 0.0 & 0.0 & 1.0\\\\0.0 & 0.0 & 0.0 & 1.0 & 0.0 & 1.0 & 1.0 & 0.0\\\\\\end{array}\\right)\\end{equation*}"
      ],
      "text/plain": [
       "Quantum object: dims = [[2, 2, 2], [2, 2, 2]], shape = (8, 8), type = oper, isherm = True\n",
       "Qobj data =\n",
       "[[0. 1. 1. 0. 1. 0. 0. 0.]\n",
       " [1. 0. 0. 1. 0. 1. 0. 0.]\n",
       " [1. 0. 0. 1. 0. 0. 1. 0.]\n",
       " [0. 1. 1. 0. 0. 0. 0. 1.]\n",
       " [1. 0. 0. 0. 0. 1. 1. 0.]\n",
       " [0. 1. 0. 0. 1. 0. 0. 1.]\n",
       " [0. 0. 1. 0. 1. 0. 0. 1.]\n",
       " [0. 0. 0. 1. 0. 1. 1. 0.]]"
      ]
     },
     "execution_count": 5,
     "metadata": {},
     "output_type": "execute_result"
    }
   ],
   "source": [
    "B"
   ]
  },
  {
   "cell_type": "code",
   "execution_count": 142,
   "metadata": {},
   "outputs": [],
   "source": [
    "def qaoa_circuit(p: int,  betas: list[float], gammas: list[float],\n",
    "                 hamiltonian: Union[ArrayLike, Qobj] = None,\n",
    "                 qubo:ArrayLike=None, linears:ArrayLike=None, quadratics:ArrayLike=None,\n",
    "                 initial_state: Qobj=minus_minus, mixer: Qobj = None) -> QubitCircuit:\n",
    "    # initiailize mixer operator\n",
    "    n = 0\n",
    "\n",
    "    # check input mode, prefere qubo mode\n",
    "    if linears is not None and quadratics is not None:\n",
    "        linears = np.array(linears)\n",
    "        quadratics = np.array(quadratics)\n",
    "        qubo = quadratics.copy()\n",
    "        linears += quadratics.diagonal()\n",
    "        np.fill_diagonal(qubo,linears)\n",
    "    # enter if either qubo input or linears and quadratics were given\n",
    "    if qubo is not None:\n",
    "        qubo = np.array(qubo)\n",
    "        n = qubo.shape[0]\n",
    "        print(n)\n",
    "        # define what to apply to the circuit in each H_p turn\n",
    "        def qcH(gamma:float):\n",
    "            qc = QubitCircuit(n)\n",
    "            qc.user_gates = {\"RZZ\",rzz}\n",
    "            for j in range(n):\n",
    "                print(j)\n",
    "                qc.add_gate(\"RZ\",targets=j, arg_value=2*gamma*qubo[j][j])\n",
    "            for j,k in combinations(range(n),2):\n",
    "                qc.add_gate(\"RZZ\", targets=[j,k], arg_value=2*gamma*qubo[j][k])\n",
    "            return qc\n",
    "    # if no qubo data is given but a Qobj hamiltonian, exponiate it\n",
    "    elif hamiltonian is not None:\n",
    "        assert hamiltonian.isherm, \"hamiltonian must be hermetian\"\n",
    "        n = np.log2(hamiltonian.dims[0][0])\n",
    "        def qcH(gamma:float):\n",
    "            def H_exp(arg_value):\n",
    "                return (-1j*arg_value*H).expm()\n",
    "            qc = QubitCircuit(n)\n",
    "            qc.user_gates = {\"H_exp\":H_exp}\n",
    "            qc.add_gate(\"H_exp\", arg_value=gamma)\n",
    "\n",
    "    assert n>0\n",
    "    assert qcH is not None\n",
    "\n",
    "    # define mixer circuit\n",
    "    if mixer is None:\n",
    "        initial_state_list = ['+' for _ in range(n)]\n",
    "        def qcB(beta:float):\n",
    "            qc = QubitCircuit(n)\n",
    "            qc.add_1q_gate(\"RX\",arg_value=2*beta)\n",
    "            return qc\n",
    "    else:\n",
    "        initial_state_list = None\n",
    "        print(\"Computing groundstate of mixer\")\n",
    "        initial_state = mixer.groundstate()[1]\n",
    "        def B_exp(arg_value):\n",
    "                return (-1j*arg_value*mixer).expm()\n",
    "        def qcB(beta:float):\n",
    "            qc = QubitCircuit(n)\n",
    "            qc.user_gates = {\"B_exp\":B_exp}\n",
    "            qc.add_gate(\"B_exp\", arg_value=beta)\n",
    "\n",
    "\n",
    "    qc = QubitCircuit(n, input_states=initial_state_list)\n",
    "\n",
    "    for i in range(p):\n",
    "        qc.add_circuit(qcH(gammas[i]))\n",
    "        qc.add_circuit(qcB(betas[i]))\n",
    "\n",
    "    return qc\n"
   ]
  },
  {
   "cell_type": "code",
   "execution_count": 144,
   "metadata": {},
   "outputs": [
    {
     "name": "stdout",
     "output_type": "stream",
     "text": [
      "2\n",
      "0\n",
      "1\n",
      "0\n",
      "1\n"
     ]
    }
   ],
   "source": [
    "qaoa = qaoa_circuit(2,[.1,.2],[.3,.4],qubo=np.array([[1,2],[0,3]]))"
   ]
  },
  {
   "cell_type": "code",
   "execution_count": 148,
   "metadata": {},
   "outputs": [
    {
     "data": {
      "text/plain": [
       "[Quantum object: dims = [[2, 2], [2, 2]], shape = (4, 4), type = oper, isherm = False\n",
       " Qobj data =\n",
       " [[0.95533649-0.29552021j 0.        +0.j         0.        +0.j\n",
       "   0.        +0.j        ]\n",
       "  [0.        +0.j         0.95533649-0.29552021j 0.        +0.j\n",
       "   0.        +0.j        ]\n",
       "  [0.        +0.j         0.        +0.j         0.95533649+0.29552021j\n",
       "   0.        +0.j        ]\n",
       "  [0.        +0.j         0.        +0.j         0.        +0.j\n",
       "   0.95533649+0.29552021j]],\n",
       " Quantum object: dims = [[2, 2], [2, 2]], shape = (4, 4), type = oper, isherm = False\n",
       " Qobj data =\n",
       " [[0.62160997-0.78332691j 0.        +0.j         0.        +0.j\n",
       "   0.        +0.j        ]\n",
       "  [0.        +0.j         0.62160997+0.78332691j 0.        +0.j\n",
       "   0.        +0.j        ]\n",
       "  [0.        +0.j         0.        +0.j         0.62160997-0.78332691j\n",
       "   0.        +0.j        ]\n",
       "  [0.        +0.j         0.        +0.j         0.        +0.j\n",
       "   0.62160997+0.78332691j]],\n",
       " Quantum object: dims = [[2, 2], [2, 2]], shape = (4, 4), type = oper, isherm = False\n",
       " Qobj data =\n",
       " [[0.99500417+0.j         0.        +0.j         0.        -0.09983342j\n",
       "   0.        +0.j        ]\n",
       "  [0.        +0.j         0.99500417+0.j         0.        +0.j\n",
       "   0.        -0.09983342j]\n",
       "  [0.        -0.09983342j 0.        +0.j         0.99500417+0.j\n",
       "   0.        +0.j        ]\n",
       "  [0.        +0.j         0.        -0.09983342j 0.        +0.j\n",
       "   0.99500417+0.j        ]],\n",
       " Quantum object: dims = [[2, 2], [2, 2]], shape = (4, 4), type = oper, isherm = False\n",
       " Qobj data =\n",
       " [[0.99500417+0.j         0.        -0.09983342j 0.        +0.j\n",
       "   0.        +0.j        ]\n",
       "  [0.        -0.09983342j 0.99500417+0.j         0.        +0.j\n",
       "   0.        +0.j        ]\n",
       "  [0.        +0.j         0.        +0.j         0.99500417+0.j\n",
       "   0.        -0.09983342j]\n",
       "  [0.        +0.j         0.        +0.j         0.        -0.09983342j\n",
       "   0.99500417+0.j        ]],\n",
       " Quantum object: dims = [[2, 2], [2, 2]], shape = (4, 4), type = oper, isherm = False\n",
       " Qobj data =\n",
       " [[0.92106099-0.38941834j 0.        +0.j         0.        +0.j\n",
       "   0.        +0.j        ]\n",
       "  [0.        +0.j         0.92106099-0.38941834j 0.        +0.j\n",
       "   0.        +0.j        ]\n",
       "  [0.        +0.j         0.        +0.j         0.92106099+0.38941834j\n",
       "   0.        +0.j        ]\n",
       "  [0.        +0.j         0.        +0.j         0.        +0.j\n",
       "   0.92106099+0.38941834j]],\n",
       " Quantum object: dims = [[2, 2], [2, 2]], shape = (4, 4), type = oper, isherm = False\n",
       " Qobj data =\n",
       " [[0.36235775-0.93203909j 0.        +0.j         0.        +0.j\n",
       "   0.        +0.j        ]\n",
       "  [0.        +0.j         0.36235775+0.93203909j 0.        +0.j\n",
       "   0.        +0.j        ]\n",
       "  [0.        +0.j         0.        +0.j         0.36235775-0.93203909j\n",
       "   0.        +0.j        ]\n",
       "  [0.        +0.j         0.        +0.j         0.        +0.j\n",
       "   0.36235775+0.93203909j]],\n",
       " Quantum object: dims = [[2, 2], [2, 2]], shape = (4, 4), type = oper, isherm = False\n",
       " Qobj data =\n",
       " [[0.98006658+0.j         0.        +0.j         0.        -0.19866933j\n",
       "   0.        +0.j        ]\n",
       "  [0.        +0.j         0.98006658+0.j         0.        +0.j\n",
       "   0.        -0.19866933j]\n",
       "  [0.        -0.19866933j 0.        +0.j         0.98006658+0.j\n",
       "   0.        +0.j        ]\n",
       "  [0.        +0.j         0.        -0.19866933j 0.        +0.j\n",
       "   0.98006658+0.j        ]],\n",
       " Quantum object: dims = [[2, 2], [2, 2]], shape = (4, 4), type = oper, isherm = False\n",
       " Qobj data =\n",
       " [[0.98006658+0.j         0.        -0.19866933j 0.        +0.j\n",
       "   0.        +0.j        ]\n",
       "  [0.        -0.19866933j 0.98006658+0.j         0.        +0.j\n",
       "   0.        +0.j        ]\n",
       "  [0.        +0.j         0.        +0.j         0.98006658+0.j\n",
       "   0.        -0.19866933j]\n",
       "  [0.        +0.j         0.        +0.j         0.        -0.19866933j\n",
       "   0.98006658+0.j        ]]]"
      ]
     },
     "execution_count": 148,
     "metadata": {},
     "output_type": "execute_result"
    }
   ],
   "source": [
    "qaoa.propagators()"
   ]
  },
  {
   "cell_type": "code",
   "execution_count": null,
   "metadata": {},
   "outputs": [],
   "source": []
  },
  {
   "cell_type": "code",
   "execution_count": 8,
   "metadata": {},
   "outputs": [],
   "source": [
    "def expectation(circuit, function) -> float:\n",
    "    pass"
   ]
  },
  {
   "cell_type": "code",
   "execution_count": null,
   "metadata": {},
   "outputs": [],
   "source": [
    "class OPTIMIZER(metaclass=ABCMeta):\n",
    "    pass"
   ]
  },
  {
   "cell_type": "code",
   "execution_count": 50,
   "metadata": {},
   "outputs": [],
   "source": [
    "A = np.matrix([[1,2,3],[4,5,6],[7,8,9]])\n",
    "B = np.full((3,3),1)\n",
    "C = np.matrix([1,2,3])"
   ]
  },
  {
   "cell_type": "code",
   "execution_count": 51,
   "metadata": {},
   "outputs": [
    {
     "data": {
      "text/plain": [
       "matrix([[ 6,  6,  6],\n",
       "        [15, 15, 15],\n",
       "        [24, 24, 24]])"
      ]
     },
     "execution_count": 51,
     "metadata": {},
     "output_type": "execute_result"
    }
   ],
   "source": [
    "A*B"
   ]
  },
  {
   "cell_type": "code",
   "execution_count": 107,
   "metadata": {},
   "outputs": [
    {
     "name": "stdout",
     "output_type": "stream",
     "text": [
      "enter\n",
      "2\n"
     ]
    }
   ],
   "source": [
    "qubo=np.array([[1,2],[0,3]])\n",
    "if qubo is not None:\n",
    "    qubo = np.array(qubo)\n",
    "    linears = qubo.diagonal(