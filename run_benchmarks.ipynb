{
 "cells": [
  {
   "cell_type": "code",
   "execution_count": 1,
   "metadata": {},
   "outputs": [],
   "source": [
    "import pickle\n",
    "\n",
    "from benchmark import bench_frame, bench_instance, load_instances, bench_looping\n",
    "from itertools import product\n",
    "import pandas as pd"
   ]
  },
  {
   "cell_type": "code",
   "execution_count": 2,
   "metadata": {},
   "outputs": [
    {
     "name": "stdout",
     "output_type": "stream",
     "text": [
      "n= 4\n",
      "Running benchmark on 30 instances with optimizers ('tdvp', 'scipy')\n",
      "optimizing with tdvp\n",
      "donestep 30\n",
      "\n",
      "(0.8014513085660163, 1.11345414897319)\n",
      "optimizing with scipy\n",
      "Done Scipy_optim\n",
      "\n",
      "optimizing with tdvp\n",
      "donestep 53\n",
      "\n",
      "(0.8520130451202542, 0.43636558168432055)\n",
      "optimizing with scipy\n",
      "Done Scipy_optim\n",
      "\n",
      "optimizing with tdvp\n",
      "donestep 71\n",
      "\n",
      "(2.3541257492514114, 0.8901289183568541)\n",
      "optimizing with scipy\n",
      "Done Scipy_optim\n",
      "\n",
      "optimizing with tdvp\n",
      "donestep 59\n",
      "\n",
      "(0.8541600303985797, 0.3959328878737594)\n",
      "optimizing with scipy\n",
      "Done Scipy_optim\n",
      "\n",
      "optimizing with tdvp\n",
      "donestep 67\n",
      "\n",
      "(0.7604510868618969, 1.3059836727713627)\n",
      "optimizing with scipy\n",
      "Done Scipy_optim\n",
      "\n",
      "optimizing with tdvp\n",
      "donestep 55\n",
      "\n",
      "(0.7478627077207184, 1.2509706947164387)\n",
      "optimizing with scipy\n",
      "Done Scipy_optim\n",
      "\n",
      "optimizing with tdvp\n",
      "donestep 84\n",
      "\n",
      "(0.7927551116507464, 0.3220978669803389, 0.30946559356927456, 1.0081125530745998)\n",
      "optimizing with scipy\n",
      "Done Scipy_optim\n",
      "\n",
      "optimizing with tdvp\n",
      "donestep 80\n",
      "\n",
      "(0.8346181529735911, 0.25373586488685246, 0.4735726493970853, 1.4121479009801603)\n",
      "optimizing with scipy\n",
      "Done Scipy_optim\n",
      "\n",
      "optimizing with tdvp\n",
      "donestep 105\n",
      "\n",
      "(0.8210656573334462, 0.12326948199022819, 0.3313767169021085, 1.0690562056541588)\n",
      "optimizing with scipy\n",
      "Done Scipy_optim\n",
      "\n",
      "optimizing with tdvp\n",
      "donestep 38\n",
      "\n",
      "(0.8630234995297903, 0.9403847818779079, 0.8992293228784239, 1.0562787453593387)\n",
      "optimizing with scipy\n",
      "Done Scipy_optim\n",
      "\n",
      "optimizing with tdvp\n",
      "donestep 141\n",
      "\n",
      "(0.8205683954590123, 0.10604766445320075, 0.30365217314329185, 0.9645744023767401)\n",
      "optimizing with scipy\n",
      "Done Scipy_optim\n",
      "\n",
      "optimizing with tdvp\n",
      "donestep 105\n",
      "\n",
      "(0.6856587106065357, 1.5265715202113828, 0.782210253597009, 1.00806348368555)\n",
      "optimizing with scipy\n",
      "Done Scipy_optim\n",
      "\n",
      "optimizing with tdvp\n",
      "donestep 49\n",
      "\n",
      "(0.8478123322203661, 0.8530458366353509, 0.9223631685235314, 0.9319148822081471, 1.1835178493771263, 1.1330382629390134)\n",
      "optimizing with scipy\n",
      "Done Scipy_optim\n",
      "\n",
      "optimizing with tdvp\n",
      "rhs step 1649\r"
     ]
    }
   ],
   "source": [
    "for n in range(4, 7, 1):\n",
    "    print(\"n=\",n)\n",
    "    bench_frame(\n",
    "        load_instances(n),\n",
    "        optimizers={\"tdvp\": True, \"scipy\": True, \"gradient_descent\": False},\n",
    "        path=f\"./results/n{n}_results.p\",\n",
    "        tollarance=1e-1,\n",
    "        max_iter=1,\n",
    "        tdvp_range=10,\n",
    "    )\n"
   ]
  },
  {
   "cell_type": "code",
   "execution_count": null,
   "metadata": {},
   "outputs": [
    {
     "name": "stdout",
     "output_type": "stream",
     "text": [
      "Running benchmark on instance with 4 with optimizers ('tdvp', 'scipy')\n",
      "optimizing with tdvp\n",
      "rhs step 72\r"
     ]
    },
    {
     "ename": "KeyboardInterrupt",
     "evalue": "",
     "output_type": "error",
     "traceback": [
      "\u001B[0;31m---------------------------------------------------------------------------\u001B[0m",
      "\u001B[0;31mKeyboardInterrupt\u001B[0m                         Traceback (most recent call last)",
      "Cell \u001B[0;32mIn [8], line 1\u001B[0m\n\u001B[0;32m----> 1\u001B[0m bench_instance(\n\u001B[1;32m      2\u001B[0m             load_instances(\u001B[39m4\u001B[39;49m)[\u001B[39m'\u001B[39;49m\u001B[39minstance\u001B[39;49m\u001B[39m'\u001B[39;49m]\u001B[39m.\u001B[39;49mloc[(\u001B[39m5\u001B[39;49m,\u001B[39m5\u001B[39;49m)],\n\u001B[1;32m      3\u001B[0m             optimizers\u001B[39m=\u001B[39;49m{\u001B[39m\"\u001B[39;49m\u001B[39mtdvp\u001B[39;49m\u001B[39m\"\u001B[39;49m: \u001B[39mTrue\u001B[39;49;00m, \u001B[39m\"\u001B[39;49m\u001B[39mscipy\u001B[39;49m\u001B[39m\"\u001B[39;49m: \u001B[39mTrue\u001B[39;49;00m, \u001B[39m\"\u001B[39;49m\u001B[39mgradient_descent\u001B[39;49m\u001B[39m\"\u001B[39;49m: \u001B[39mFalse\u001B[39;49;00m},\n\u001B[1;32m      4\u001B[0m             path\u001B[39m=\u001B[39;49m\u001B[39mf\u001B[39;49m\u001B[39m\"\u001B[39;49m\u001B[39m./results/n\u001B[39;49m\u001B[39m{\u001B[39;49;00mn\u001B[39m}\u001B[39;49;00m\u001B[39m_results.p\u001B[39;49m\u001B[39m\"\u001B[39;49m,\n\u001B[1;32m      5\u001B[0m             tollarance\u001B[39m=\u001B[39;49m\u001B[39m1e-2\u001B[39;49m,\n\u001B[1;32m      6\u001B[0m             max_iter\u001B[39m=\u001B[39;49m\u001B[39m1\u001B[39;49m,\n\u001B[1;32m      7\u001B[0m             tdvp_range\u001B[39m=\u001B[39;49m\u001B[39m10\u001B[39;49m,\n\u001B[1;32m      8\u001B[0m         )\n",
      "File \u001B[0;32m~/Documents/Uni/Bachelorarbeit /TDVP_and_QAOA/benchmark.py:348\u001B[0m, in \u001B[0;36mbench_instance\u001B[0;34m(input, p, optimizers, tollarance, max_iter, tdvp_range, auto_save, path, print_msg)\u001B[0m\n\u001B[1;32m    346\u001B[0m \u001B[39mif\u001B[39;00m optimizers\u001B[39m.\u001B[39mget(\u001B[39m\"\u001B[39m\u001B[39mtdvp\u001B[39m\u001B[39m\"\u001B[39m, \u001B[39mFalse\u001B[39;00m):\n\u001B[1;32m    347\u001B[0m     \u001B[39mprint\u001B[39m(\u001B[39m\"\u001B[39m\u001B[39moptimizing with tdvp\u001B[39m\u001B[39m\"\u001B[39m)\n\u001B[0;32m--> 348\u001B[0m     tdvp_res \u001B[39m=\u001B[39m tdvp_optimize_qaoa(\n\u001B[1;32m    349\u001B[0m         qaoa\u001B[39m=\u001B[39;49mqaoa,\n\u001B[1;32m    350\u001B[0m         delta_0\u001B[39m=\u001B[39;49mdelta_0,\n\u001B[1;32m    351\u001B[0m         Delta\u001B[39m=\u001B[39;49m\u001B[39m100\u001B[39;49m,\n\u001B[1;32m    352\u001B[0m         grad_tol\u001B[39m=\u001B[39;49mtollarance,\n\u001B[1;32m    353\u001B[0m         int_mode\u001B[39m=\u001B[39;49m\u001B[39m\"\u001B[39;49m\u001B[39mRK45\u001B[39;49m\u001B[39m\"\u001B[39;49m,\n\u001B[1;32m    354\u001B[0m         max_iter\u001B[39m=\u001B[39;49mmax_iter,\n\u001B[1;32m    355\u001B[0m     )\n\u001B[1;32m    356\u001B[0m     results[\u001B[39m\"\u001B[39m\u001B[39mtdvp\u001B[39m\u001B[39m\"\u001B[39m] \u001B[39m=\u001B[39m tdvp_res\n\u001B[1;32m    358\u001B[0m \u001B[39mif\u001B[39;00m optimizers\u001B[39m.\u001B[39mget(\u001B[39m\"\u001B[39m\u001B[39mscipy\u001B[39m\u001B[39m\"\u001B[39m, \u001B[39mFalse\u001B[39;00m):\n",
      "File \u001B[0;32m~/Documents/Uni/Bachelorarbeit /TDVP_and_QAOA/qaoa_and_tdvp.py:1182\u001B[0m, in \u001B[0;36mtdvp_optimize_qaoa\u001B[0;34m(qaoa, delta_0, Delta, rhs_mode, int_mode, grad_tol, max_iter, num_of_path_points)\u001B[0m\n\u001B[1;32m   1180\u001B[0m \u001B[39mwhile\u001B[39;00m go_on \u001B[39mand\u001B[39;00m \u001B[39miter\u001B[39m \u001B[39m<\u001B[39m max_iter:\n\u001B[1;32m   1181\u001B[0m     \u001B[39miter\u001B[39m \u001B[39m+\u001B[39m\u001B[39m=\u001B[39m \u001B[39m1\u001B[39m\n\u001B[0;32m-> 1182\u001B[0m     int_result \u001B[39m=\u001B[39m integrate\u001B[39m.\u001B[39;49msolve_ivp(\n\u001B[1;32m   1183\u001B[0m         fun\u001B[39m=\u001B[39;49mtdvp_rhs,\n\u001B[1;32m   1184\u001B[0m         t_span\u001B[39m=\u001B[39;49m(t_0, t_1),\n\u001B[1;32m   1185\u001B[0m         y0\u001B[39m=\u001B[39;49mdelta,\n\u001B[1;32m   1186\u001B[0m         method\u001B[39m=\u001B[39;49mint_mode,\n\u001B[1;32m   1187\u001B[0m         \u001B[39m# t_eval=eval_points,\u001B[39;49;00m\n\u001B[1;32m   1188\u001B[0m         events\u001B[39m=\u001B[39;49m[\n\u001B[1;32m   1189\u001B[0m             tdvp_terminal,  \u001B[39m# tdvp_max_steps\u001B[39;49;00m\n\u001B[1;32m   1190\u001B[0m         ],\n\u001B[1;32m   1191\u001B[0m     )\n\u001B[1;32m   1192\u001B[0m     nfev \u001B[39m+\u001B[39m\u001B[39m=\u001B[39m int_result\u001B[39m.\u001B[39mnfev\n\u001B[1;32m   1193\u001B[0m     times\u001B[39m.\u001B[39mextend(int_result\u001B[39m.\u001B[39mt)\n",
      "File \u001B[0;32m~/anaconda3/envs/qutip-env/lib/python3.10/site-packages/scipy/integrate/_ivp/ivp.py:589\u001B[0m, in \u001B[0;36msolve_ivp\u001B[0;34m(fun, t_span, y0, method, t_eval, dense_output, events, vectorized, args, **options)\u001B[0m\n\u001B[1;32m    587\u001B[0m status \u001B[39m=\u001B[39m \u001B[39mNone\u001B[39;00m\n\u001B[1;32m    588\u001B[0m \u001B[39mwhile\u001B[39;00m status \u001B[39mis\u001B[39;00m \u001B[39mNone\u001B[39;00m:\n\u001B[0;32m--> 589\u001B[0m     message \u001B[39m=\u001B[39m solver\u001B[39m.\u001B[39;49mstep()\n\u001B[1;32m    591\u001B[0m     \u001B[39mif\u001B[39;00m solver\u001B[39m.\u001B[39mstatus \u001B[39m==\u001B[39m \u001B[39m'\u001B[39m\u001B[39mfinished\u001B[39m\u001B[39m'\u001B[39m:\n\u001B[1;32m    592\u001B[0m         status \u001B[39m=\u001B[39m \u001B[39m0\u001B[39m\n",
      "File \u001B[0;32m~/anaconda3/envs/qutip-env/lib/python3.10/site-packages/scipy/integrate/_ivp/base.py:181\u001B[0m, in \u001B[0;36mOdeSolver.step\u001B[0;34m(self)\u001B[0m\n\u001B[1;32m    179\u001B[0m \u001B[39melse\u001B[39;00m:\n\u001B[1;32m    180\u001B[0m     t \u001B[39m=\u001B[39m \u001B[39mself\u001B[39m\u001B[39m.\u001B[39mt\n\u001B[0;32m--> 181\u001B[0m     success, message \u001B[39m=\u001B[39m \u001B[39mself\u001B[39;49m\u001B[39m.\u001B[39;49m_step_impl()\n\u001B[1;32m    183\u001B[0m     \u001B[39mif\u001B[39;00m \u001B[39mnot\u001B[39;00m success:\n\u001B[1;32m    184\u001B[0m         \u001B[39mself\u001B[39m\u001B[39m.\u001B[39mstatus \u001B[39m=\u001B[39m \u001B[39m'\u001B[39m\u001B[39mfailed\u001B[39m\u001B[39m'\u001B[39m\n",
      "File \u001B[0;32m~/anaconda3/envs/qutip-env/lib/python3.10/site-packages/scipy/integrate/_ivp/rk.py:144\u001B[0m, in \u001B[0;36mRungeKutta._step_impl\u001B[0;34m(self)\u001B[0m\n\u001B[1;32m    141\u001B[0m h \u001B[39m=\u001B[39m t_new \u001B[39m-\u001B[39m t\n\u001B[1;32m    142\u001B[0m h_abs \u001B[39m=\u001B[39m np\u001B[39m.\u001B[39mabs(h)\n\u001B[0;32m--> 144\u001B[0m y_new, f_new \u001B[39m=\u001B[39m rk_step(\u001B[39mself\u001B[39;49m\u001B[39m.\u001B[39;49mfun, t, y, \u001B[39mself\u001B[39;49m\u001B[39m.\u001B[39;49mf, h, \u001B[39mself\u001B[39;49m\u001B[39m.\u001B[39;49mA,\n\u001B[1;32m    145\u001B[0m                        \u001B[39mself\u001B[39;49m\u001B[39m.\u001B[39;49mB, \u001B[39mself\u001B[39;49m\u001B[39m.\u001B[39;49mC, \u001B[39mself\u001B[39;49m\u001B[39m.\u001B[39;49mK)\n\u001B[1;32m    146\u001B[0m scale \u001B[39m=\u001B[39m atol \u001B[39m+\u001B[39m np\u001B[39m.\u001B[39mmaximum(np\u001B[39m.\u001B[39mabs(y), np\u001B[39m.\u001B[39mabs(y_new)) \u001B[39m*\u001B[39m rtol\n\u001B[1;32m    147\u001B[0m error_norm \u001B[39m=\u001B[39m \u001B[39mself\u001B[39m\u001B[39m.\u001B[39m_estimate_error_norm(\u001B[39mself\u001B[39m\u001B[39m.\u001B[39mK, h, scale)\n",
      "File \u001B[0;32m~/anaconda3/envs/qutip-env/lib/python3.10/site-packages/scipy/integrate/_ivp/rk.py:64\u001B[0m, in \u001B[0;36mrk_step\u001B[0;34m(fun, t, y, f, h, A, B, C, K)\u001B[0m\n\u001B[1;32m     62\u001B[0m \u001B[39mfor\u001B[39;00m s, (a, c) \u001B[39min\u001B[39;00m \u001B[39menumerate\u001B[39m(\u001B[39mzip\u001B[39m(A[\u001B[39m1\u001B[39m:], C[\u001B[39m1\u001B[39m:]), start\u001B[39m=\u001B[39m\u001B[39m1\u001B[39m):\n\u001B[1;32m     63\u001B[0m     dy \u001B[39m=\u001B[39m np\u001B[39m.\u001B[39mdot(K[:s]\u001B[39m.\u001B[39mT, a[:s]) \u001B[39m*\u001B[39m h\n\u001B[0;32m---> 64\u001B[0m     K[s] \u001B[39m=\u001B[39m fun(t \u001B[39m+\u001B[39;49m c \u001B[39m*\u001B[39;49m h, y \u001B[39m+\u001B[39;49m dy)\n\u001B[1;32m     66\u001B[0m y_new \u001B[39m=\u001B[39m y \u001B[39m+\u001B[39m h \u001B[39m*\u001B[39m np\u001B[39m.\u001B[39mdot(K[:\u001B[39m-\u001B[39m\u001B[39m1\u001B[39m]\u001B[39m.\u001B[39mT, B)\n\u001B[1;32m     67\u001B[0m f_new \u001B[39m=\u001B[39m fun(t \u001B[39m+\u001B[39m h, y_new)\n",
      "File \u001B[0;32m~/anaconda3/envs/qutip-env/lib/python3.10/site-packages/scipy/integrate/_ivp/base.py:138\u001B[0m, in \u001B[0;36mOdeSolver.__init__.<locals>.fun\u001B[0;34m(t, y)\u001B[0m\n\u001B[1;32m    136\u001B[0m \u001B[39mdef\u001B[39;00m \u001B[39mfun\u001B[39m(t, y):\n\u001B[1;32m    137\u001B[0m     \u001B[39mself\u001B[39m\u001B[39m.\u001B[39mnfev \u001B[39m+\u001B[39m\u001B[39m=\u001B[39m \u001B[39m1\u001B[39m\n\u001B[0;32m--> 138\u001B[0m     \u001B[39mreturn\u001B[39;00m \u001B[39mself\u001B[39;49m\u001B[39m.\u001B[39;49mfun_single(t, y)\n",
      "File \u001B[0;32m~/anaconda3/envs/qutip-env/lib/python3.10/site-packages/scipy/integrate/_ivp/base.py:20\u001B[0m, in \u001B[0;36mcheck_arguments.<locals>.fun_wrapped\u001B[0;34m(t, y)\u001B[0m\n\u001B[1;32m     19\u001B[0m \u001B[39mdef\u001B[39;00m \u001B[39mfun_wrapped\u001B[39m(t, y):\n\u001B[0;32m---> 20\u001B[0m     \u001B[39mreturn\u001B[39;00m np\u001B[39m.\u001B[39masarray(fun(t, y), dtype\u001B[39m=\u001B[39mdtype)\n",
      "File \u001B[0;32m~/Documents/Uni/Bachelorarbeit /TDVP_and_QAOA/qaoa_and_tdvp.py:1115\u001B[0m, in \u001B[0;36mtdvp_optimize_qaoa.<locals>.tdvp_rhs\u001B[0;34m(t, x)\u001B[0m\n\u001B[1;32m   1113\u001B[0m rhs_step \u001B[39m+\u001B[39m\u001B[39m=\u001B[39m \u001B[39m1\u001B[39m\n\u001B[1;32m   1114\u001B[0m \u001B[39mprint\u001B[39m(\u001B[39mf\u001B[39m\u001B[39m\"\u001B[39m\u001B[39mrhs step \u001B[39m\u001B[39m{\u001B[39;00mrhs_step\u001B[39m}\u001B[39;00m\u001B[39m\"\u001B[39m, end\u001B[39m=\u001B[39m\u001B[39m\"\u001B[39m\u001B[39m\\r\u001B[39;00m\u001B[39m\"\u001B[39m)\n\u001B[0;32m-> 1115\u001B[0m \u001B[39mreturn\u001B[39;00m qaoa_tdvp_rhs(t, x, qaoa)\n",
      "File \u001B[0;32m~/Documents/Uni/Bachelorarbeit /TDVP_and_QAOA/qaoa_and_tdvp.py:994\u001B[0m, in \u001B[0;36mqaoa_tdvp_rhs\u001B[0;34m(t, x, qaoa)\u001B[0m\n\u001B[1;32m    992\u001B[0m _ \u001B[39m=\u001B[39m t\n\u001B[1;32m    993\u001B[0m inv_real_gram \u001B[39m=\u001B[39m linalg\u001B[39m.\u001B[39minv(\u001B[39m2\u001B[39m \u001B[39m*\u001B[39m np\u001B[39m.\u001B[39mreal(qaoa\u001B[39m.\u001B[39mgram(x)))\n\u001B[0;32m--> 994\u001B[0m real_grad \u001B[39m=\u001B[39m \u001B[39m2\u001B[39m \u001B[39m*\u001B[39m np\u001B[39m.\u001B[39mreal(qaoa\u001B[39m.\u001B[39;49mgrad(x))\n\u001B[1;32m    995\u001B[0m \u001B[39mreturn\u001B[39;00m np\u001B[39m.\u001B[39marray(\u001B[39m-\u001B[39minv_real_gram \u001B[39m*\u001B[39m real_grad\u001B[39m.\u001B[39mT)\u001B[39m.\u001B[39mflatten()\n",
      "File \u001B[0;32m~/Documents/Uni/Bachelorarbeit /TDVP_and_QAOA/qaoa_and_tdvp.py:631\u001B[0m, in \u001B[0;36mQAOA.grad\u001B[0;34m(self, delta)\u001B[0m\n\u001B[1;32m    625\u001B[0m \u001B[39mdef\u001B[39;00m \u001B[39mgrad\u001B[39m(\n\u001B[1;32m    626\u001B[0m     \u001B[39mself\u001B[39m,\n\u001B[1;32m    627\u001B[0m     delta: \u001B[39mtuple\u001B[39m[\u001B[39mfloat\u001B[39m],\n\u001B[1;32m    628\u001B[0m     \u001B[39m# **kwargs #not sure if necessary\u001B[39;00m\n\u001B[1;32m    629\u001B[0m ) \u001B[39m-\u001B[39m\u001B[39m>\u001B[39m NDArray:\n\u001B[1;32m    630\u001B[0m     \u001B[39mreturn\u001B[39;00m np\u001B[39m.\u001B[39mmatrix(\n\u001B[0;32m--> 631\u001B[0m         \u001B[39mself\u001B[39;49m\u001B[39m.\u001B[39;49mmapping(\u001B[39mself\u001B[39;49m\u001B[39m.\u001B[39;49m_grad_element, \u001B[39mrange\u001B[39;49m(\u001B[39mlen\u001B[39;49m(delta)), task_args\u001B[39m=\u001B[39;49m(delta,))\n\u001B[1;32m    632\u001B[0m     )\n",
      "File \u001B[0;32m~/anaconda3/envs/qutip-env/lib/python3.10/site-packages/qutip/parallel.py:230\u001B[0m, in \u001B[0;36mparallel_map\u001B[0;34m(task, values, task_args, task_kwargs, **kwargs)\u001B[0m\n\u001B[1;32m    228\u001B[0m     pool\u001B[39m.\u001B[39mterminate()\n\u001B[1;32m    229\u001B[0m     pool\u001B[39m.\u001B[39mjoin()\n\u001B[0;32m--> 230\u001B[0m     \u001B[39mraise\u001B[39;00m e\n\u001B[1;32m    232\u001B[0m progress_bar\u001B[39m.\u001B[39mfinished()\n\u001B[1;32m    233\u001B[0m os\u001B[39m.\u001B[39menviron[\u001B[39m'\u001B[39m\u001B[39mQUTIP_IN_PARALLEL\u001B[39m\u001B[39m'\u001B[39m] \u001B[39m=\u001B[39m \u001B[39m'\u001B[39m\u001B[39mFALSE\u001B[39m\u001B[39m'\u001B[39m\n",
      "File \u001B[0;32m~/anaconda3/envs/qutip-env/lib/python3.10/site-packages/qutip/parallel.py:223\u001B[0m, in \u001B[0;36mparallel_map\u001B[0;34m(task, values, task_args, task_kwargs, **kwargs)\u001B[0m\n\u001B[1;32m    220\u001B[0m         \u001B[39mfor\u001B[39;00m ar \u001B[39min\u001B[39;00m async_res:\n\u001B[1;32m    221\u001B[0m             ar\u001B[39m.\u001B[39mwait(timeout\u001B[39m=\u001B[39m\u001B[39m0.1\u001B[39m)\n\u001B[0;32m--> 223\u001B[0m     pool\u001B[39m.\u001B[39;49mterminate()\n\u001B[1;32m    224\u001B[0m     pool\u001B[39m.\u001B[39mjoin()\n\u001B[1;32m    226\u001B[0m \u001B[39mexcept\u001B[39;00m \u001B[39mKeyboardInterrupt\u001B[39;00m \u001B[39mas\u001B[39;00m e:\n",
      "File \u001B[0;32m~/anaconda3/envs/qutip-env/lib/python3.10/multiprocessing/pool.py:657\u001B[0m, in \u001B[0;36mPool.terminate\u001B[0;34m(self)\u001B[0m\n\u001B[1;32m    655\u001B[0m util\u001B[39m.\u001B[39mdebug(\u001B[39m'\u001B[39m\u001B[39mterminating pool\u001B[39m\u001B[39m'\u001B[39m)\n\u001B[1;32m    656\u001B[0m \u001B[39mself\u001B[39m\u001B[39m.\u001B[39m_state \u001B[39m=\u001B[39m TERMINATE\n\u001B[0;32m--> 657\u001B[0m \u001B[39mself\u001B[39;49m\u001B[39m.\u001B[39;49m_terminate()\n",
      "File \u001B[0;32m~/anaconda3/envs/qutip-env/lib/python3.10/multiprocessing/util.py:224\u001B[0m, in \u001B[0;36mFinalize.__call__\u001B[0;34m(self, wr, _finalizer_registry, sub_debug, getpid)\u001B[0m\n\u001B[1;32m    221\u001B[0m \u001B[39melse\u001B[39;00m:\n\u001B[1;32m    222\u001B[0m     sub_debug(\u001B[39m'\u001B[39m\u001B[39mfinalizer calling \u001B[39m\u001B[39m%s\u001B[39;00m\u001B[39m with args \u001B[39m\u001B[39m%s\u001B[39;00m\u001B[39m and kwargs \u001B[39m\u001B[39m%s\u001B[39;00m\u001B[39m'\u001B[39m,\n\u001B[1;32m    223\u001B[0m               \u001B[39mself\u001B[39m\u001B[39m.\u001B[39m_callback, \u001B[39mself\u001B[39m\u001B[39m.\u001B[39m_args, \u001B[39mself\u001B[39m\u001B[39m.\u001B[39m_kwargs)\n\u001B[0;32m--> 224\u001B[0m     res \u001B[39m=\u001B[39m \u001B[39mself\u001B[39;49m\u001B[39m.\u001B[39;49m_callback(\u001B[39m*\u001B[39;49m\u001B[39mself\u001B[39;49m\u001B[39m.\u001B[39;49m_args, \u001B[39m*\u001B[39;49m\u001B[39m*\u001B[39;49m\u001B[39mself\u001B[39;49m\u001B[39m.\u001B[39;49m_kwargs)\n\u001B[1;32m    225\u001B[0m \u001B[39mself\u001B[39m\u001B[39m.\u001B[39m_weakref \u001B[39m=\u001B[39m \u001B[39mself\u001B[39m\u001B[39m.\u001B[39m_callback \u001B[39m=\u001B[39m \u001B[39mself\u001B[39m\u001B[39m.\u001B[39m_args \u001B[39m=\u001B[39m \\\n\u001B[1;32m    226\u001B[0m                 \u001B[39mself\u001B[39m\u001B[39m.\u001B[39m_kwargs \u001B[39m=\u001B[39m \u001B[39mself\u001B[39m\u001B[39m.\u001B[39m_key \u001B[39m=\u001B[39m \u001B[39mNone\u001B[39;00m\n\u001B[1;32m    227\u001B[0m \u001B[39mreturn\u001B[39;00m res\n",
      "File \u001B[0;32m~/anaconda3/envs/qutip-env/lib/python3.10/multiprocessing/pool.py:732\u001B[0m, in \u001B[0;36mPool._terminate_pool\u001B[0;34m(cls, taskqueue, inqueue, outqueue, pool, change_notifier, worker_handler, task_handler, result_handler, cache)\u001B[0m\n\u001B[1;32m    729\u001B[0m \u001B[39mif\u001B[39;00m p\u001B[39m.\u001B[39mis_alive():\n\u001B[1;32m    730\u001B[0m     \u001B[39m# worker has not yet exited\u001B[39;00m\n\u001B[1;32m    731\u001B[0m     util\u001B[39m.\u001B[39mdebug(\u001B[39m'\u001B[39m\u001B[39mcleaning up worker \u001B[39m\u001B[39m%d\u001B[39;00m\u001B[39m'\u001B[39m \u001B[39m%\u001B[39m p\u001B[39m.\u001B[39mpid)\n\u001B[0;32m--> 732\u001B[0m     p\u001B[39m.\u001B[39;49mjoin()\n",
      "File \u001B[0;32m~/anaconda3/envs/qutip-env/lib/python3.10/multiprocessing/process.py:149\u001B[0m, in \u001B[0;36mBaseProcess.join\u001B[0;34m(self, timeout)\u001B[0m\n\u001B[1;32m    147\u001B[0m \u001B[39massert\u001B[39;00m \u001B[39mself\u001B[39m\u001B[39m.\u001B[39m_parent_pid \u001B[39m==\u001B[39m os\u001B[39m.\u001B[39mgetpid(), \u001B[39m'\u001B[39m\u001B[39mcan only join a child process\u001B[39m\u001B[39m'\u001B[39m\n\u001B[1;32m    148\u001B[0m \u001B[39massert\u001B[39;00m \u001B[39mself\u001B[39m\u001B[39m.\u001B[39m_popen \u001B[39mis\u001B[39;00m \u001B[39mnot\u001B[39;00m \u001B[39mNone\u001B[39;00m, \u001B[39m'\u001B[39m\u001B[39mcan only join a started process\u001B[39m\u001B[39m'\u001B[39m\n\u001B[0;32m--> 149\u001B[0m res \u001B[39m=\u001B[39m \u001B[39mself\u001B[39;49m\u001B[39m.\u001B[39;49m_popen\u001B[39m.\u001B[39;49mwait(timeout)\n\u001B[1;32m    150\u001B[0m \u001B[39mif\u001B[39;00m res \u001B[39mis\u001B[39;00m \u001B[39mnot\u001B[39;00m \u001B[39mNone\u001B[39;00m:\n\u001B[1;32m    151\u001B[0m     _children\u001B[39m.\u001B[39mdiscard(\u001B[39mself\u001B[39m)\n",
      "File \u001B[0;32m~/anaconda3/envs/qutip-env/lib/python3.10/multiprocessing/popen_fork.py:43\u001B[0m, in \u001B[0;36mPopen.wait\u001B[0;34m(self, timeout)\u001B[0m\n\u001B[1;32m     41\u001B[0m             \u001B[39mreturn\u001B[39;00m \u001B[39mNone\u001B[39;00m\n\u001B[1;32m     42\u001B[0m     \u001B[39m# This shouldn't block if wait() returned successfully.\u001B[39;00m\n\u001B[0;32m---> 43\u001B[0m     \u001B[39mreturn\u001B[39;00m \u001B[39mself\u001B[39;49m\u001B[39m.\u001B[39;49mpoll(os\u001B[39m.\u001B[39;49mWNOHANG \u001B[39mif\u001B[39;49;00m timeout \u001B[39m==\u001B[39;49m \u001B[39m0.0\u001B[39;49m \u001B[39melse\u001B[39;49;00m \u001B[39m0\u001B[39;49m)\n\u001B[1;32m     44\u001B[0m \u001B[39mreturn\u001B[39;00m \u001B[39mself\u001B[39m\u001B[39m.\u001B[39mreturncode\n",
      "File \u001B[0;32m~/anaconda3/envs/qutip-env/lib/python3.10/multiprocessing/popen_fork.py:27\u001B[0m, in \u001B[0;36mPopen.poll\u001B[0;34m(self, flag)\u001B[0m\n\u001B[1;32m     25\u001B[0m \u001B[39mif\u001B[39;00m \u001B[39mself\u001B[39m\u001B[39m.\u001B[39mreturncode \u001B[39mis\u001B[39;00m \u001B[39mNone\u001B[39;00m:\n\u001B[1;32m     26\u001B[0m     \u001B[39mtry\u001B[39;00m:\n\u001B[0;32m---> 27\u001B[0m         pid, sts \u001B[39m=\u001B[39m os\u001B[39m.\u001B[39;49mwaitpid(\u001B[39mself\u001B[39;49m\u001B[39m.\u001B[39;49mpid, flag)\n\u001B[1;32m     28\u001B[0m     \u001B[39mexcept\u001B[39;00m \u001B[39mOSError\u001B[39;00m:\n\u001B[1;32m     29\u001B[0m         \u001B[39m# Child process not yet created. See #1731717\u001B[39;00m\n\u001B[1;32m     30\u001B[0m         \u001B[39m# e.errno == errno.ECHILD == 10\u001B[39;00m\n\u001B[1;32m     31\u001B[0m         \u001B[39mreturn\u001B[39;00m \u001B[39mNone\u001B[39;00m\n",
      "\u001B[0;31mKeyboardInterrupt\u001B[0m: "
     ]
    }
   ],
   "source": [
    "bench_instance(\n",
    "            load_instances(4)['instance'].loc[(5,5)],\n",
    "            optimizers={\"tdvp\": True, \"scipy\": True, \"gradient_descent\": False},\n",
    "            path=f\"./results/n{n}_results.p\",\n",
    "            tollarance=1e-2,\n",
    "            max_iter=1,\n",
    "            tdvp_range=10,\n",
    "        )"
   ]
  },
  {
   "cell_type": "code",
   "execution_count": null,
   "metadata": {},
   "outputs": [],
   "source": []
  }
 ],
 "metadata": {
  "kernelspec": {
   "display_name": "Python 3.10.6 ('qutip-env')",
   "language": "python",
   "name": "python3"
  },
  "language_info": {
   "codemirror_mode": {
    "name": "ipython",
    "version": 3
   },
   "file_extension": ".py",
   "mimetype": "text/x-python",
   "name": "python",
   "nbconvert_exporter": "python",
   "pygments_lexer": "ipython3",
   "version": "3.10.6"
  },
  "orig_nbformat": 4,
  "vscode": {
   "interpreter": {
    "hash": "fe45c953e7d91ced0867b19789acd0ab1d9439aa0b1f4fae31fd46e88f74aeab"
   }
  }
 },
 "nbformat": 4,
 "nbformat_minor": 2
}
