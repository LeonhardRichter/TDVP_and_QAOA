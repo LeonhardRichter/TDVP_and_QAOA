{
 "cells": [
  {
   "cell_type": "code",
   "execution_count": 1,
   "metadata": {
    "notebookRunGroups": {
     "groupValue": "1"
    }
   },
   "outputs": [],
   "source": [
    "import pickle\n",
    "from benchmark import bench_frame, bench_instance, load_instances, bench_looping, bench_series\n",
    "from qaoa_and_tdvp import tdvp_optimize_qaoa, QAOA\n",
    "from itertools import product\n",
    "import pandas as pd\n",
    "import networkx as nx"
   ]
  },
  {
   "cell_type": "code",
   "execution_count": 11,
   "metadata": {
    "collapsed": false
   },
   "outputs": [
    {
     "name": "stdout",
     "output_type": "stream",
     "text": [
      "Running benchmark on instance with 3 with optimizers ('gradient_descent',)\n",
      "optimizing with gradient descent\n",
      "done 36\n",
      "\n"
     ]
    },
    {
     "data": {
      "text/html": [
       "<div>\n",
       "<style scoped>\n",
       "    .dataframe tbody tr th:only-of-type {\n",
       "        vertical-align: middle;\n",
       "    }\n",
       "\n",
       "    .dataframe tbody tr th {\n",
       "        vertical-align: top;\n",
       "    }\n",
       "\n",
       "    .dataframe thead th {\n",
       "        text-align: right;\n",
       "    }\n",
       "</style>\n",
       "<table border=\"1\" class=\"dataframe\">\n",
       "  <thead>\n",
       "    <tr style=\"text-align: right;\">\n",
       "      <th></th>\n",
       "      <th>tdvp</th>\n",
       "      <th>scipy</th>\n",
       "      <th>gradient_descent</th>\n",
       "    </tr>\n",
       "  </thead>\n",
       "  <tbody>\n",
       "    <tr>\n",
       "      <th>algorithm</th>\n",
       "      <td>NaN</td>\n",
       "      <td>NaN</td>\n",
       "      <td>gradient_descent</td>\n",
       "    </tr>\n",
       "    <tr>\n",
       "      <th>delta</th>\n",
       "      <td>NaN</td>\n",
       "      <td>NaN</td>\n",
       "      <td>(0.7841055865421822, 0.3788649232939747)</td>\n",
       "    </tr>\n",
       "    <tr>\n",
       "      <th>delta_0</th>\n",
       "      <td>NaN</td>\n",
       "      <td>NaN</td>\n",
       "      <td>(1, 1)</td>\n",
       "    </tr>\n",
       "    <tr>\n",
       "      <th>instance</th>\n",
       "      <td>NaN</td>\n",
       "      <td>NaN</td>\n",
       "      <td>&lt;MaxCut.MaxCut object at 0x7f2e9cf36890&gt;</td>\n",
       "    </tr>\n",
       "    <tr>\n",
       "      <th>message</th>\n",
       "      <td>NaN</td>\n",
       "      <td>NaN</td>\n",
       "      <td>Gradient descent solver terminated with       ...</td>\n",
       "    </tr>\n",
       "    <tr>\n",
       "      <th>n</th>\n",
       "      <td>NaN</td>\n",
       "      <td>NaN</td>\n",
       "      <td>3</td>\n",
       "    </tr>\n",
       "    <tr>\n",
       "      <th>num_fun_calls</th>\n",
       "      <td>NaN</td>\n",
       "      <td>NaN</td>\n",
       "      <td>None</td>\n",
       "    </tr>\n",
       "    <tr>\n",
       "      <th>p</th>\n",
       "      <td>NaN</td>\n",
       "      <td>NaN</td>\n",
       "      <td>1</td>\n",
       "    </tr>\n",
       "    <tr>\n",
       "      <th>path</th>\n",
       "      <td>NaN</td>\n",
       "      <td>NaN</td>\n",
       "      <td>[(1.040621328523116, 0.8884064211779332), (1.0...</td>\n",
       "    </tr>\n",
       "    <tr>\n",
       "      <th>real duration</th>\n",
       "      <td>NaN</td>\n",
       "      <td>NaN</td>\n",
       "      <td>2.888626</td>\n",
       "    </tr>\n",
       "    <tr>\n",
       "      <th>res</th>\n",
       "      <td>NaN</td>\n",
       "      <td>NaN</td>\n",
       "      <td>\\n        gradient_descent with general gradie...</td>\n",
       "    </tr>\n",
       "    <tr>\n",
       "      <th>steps</th>\n",
       "      <td>NaN</td>\n",
       "      <td>NaN</td>\n",
       "      <td>37</td>\n",
       "    </tr>\n",
       "    <tr>\n",
       "      <th>tollarance</th>\n",
       "      <td>NaN</td>\n",
       "      <td>NaN</td>\n",
       "      <td>0.01</td>\n",
       "    </tr>\n",
       "    <tr>\n",
       "      <th>value</th>\n",
       "      <td>NaN</td>\n",
       "      <td>NaN</td>\n",
       "      <td>-5.057147</td>\n",
       "    </tr>\n",
       "  </tbody>\n",
       "</table>\n",
       "</div>"
      ],
      "text/plain": [
       "              tdvp scipy                                   gradient_descent\n",
       "algorithm      NaN   NaN                                   gradient_descent\n",
       "delta          NaN   NaN           (0.7841055865421822, 0.3788649232939747)\n",
       "delta_0        NaN   NaN                                             (1, 1)\n",
       "instance       NaN   NaN           <MaxCut.MaxCut object at 0x7f2e9cf36890>\n",
       "message        NaN   NaN  Gradient descent solver terminated with       ...\n",
       "n              NaN   NaN                                                  3\n",
       "num_fun_calls  NaN   NaN                                               None\n",
       "p              NaN   NaN                                                  1\n",
       "path           NaN   NaN  [(1.040621328523116, 0.8884064211779332), (1.0...\n",
       "real duration  NaN   NaN                                           2.888626\n",
       "res            NaN   NaN  \\n        gradient_descent with general gradie...\n",
       "steps          NaN   NaN                                                 37\n",
       "tollarance     NaN   NaN                                               0.01\n",
       "value          NaN   NaN                                          -5.057147"
      ]
     },
     "execution_count": 11,
     "metadata": {},
     "output_type": "execute_result"
    }
   ],
   "source": [
    "# bench_instance(\n",
    "#     df.loc[5,1].instance,\n",
    "#     optimizers={\"tdvp\": False, \"scipy\": False, \"gradient_descent\": True},\n",
    "#     tollarance=1e-2,\n",
    "#     max_iter=10,\n",
    "#     max_steps=3000,\n",
    "#     tdvp_range=10,\n",
    "# )"
   ]
  },
  {
   "cell_type": "code",
   "execution_count": 7,
   "metadata": {
    "notebookRunGroups": {
     "groupValue": "1"
    },
    "pycharm": {
     "is_executing": true
    }
   },
   "outputs": [
    {
     "name": "stdout",
     "output_type": "stream",
     "text": [
      "n= 3\n",
      "Running benchmark on 6 instances with optimizers ('tdvp', 'scipy')\n",
      "optimizing with tdvp\n",
      "rhs step 197\r"
     ]
    },
    {
     "ename": "UnboundLocalError",
     "evalue": "local variable 'pool' referenced before assignment",
     "output_type": "error",
     "traceback": [
      "\u001B[0;31m---------------------------------------------------------------------------\u001B[0m",
      "\u001B[0;31mKeyboardInterrupt\u001B[0m                         Traceback (most recent call last)",
      "File \u001B[0;32m~/anaconda3/envs/qutip-env/lib/python3.10/site-packages/qutip/parallel.py:213\u001B[0m, in \u001B[0;36mparallel_map\u001B[0;34m(task, values, task_args, task_kwargs, **kwargs)\u001B[0m\n\u001B[1;32m    212\u001B[0m \u001B[39mtry\u001B[39;00m:\n\u001B[0;32m--> 213\u001B[0m     pool \u001B[39m=\u001B[39m Pool(processes\u001B[39m=\u001B[39;49mkw[\u001B[39m'\u001B[39;49m\u001B[39mnum_cpus\u001B[39;49m\u001B[39m'\u001B[39;49m])\n\u001B[1;32m    215\u001B[0m     async_res \u001B[39m=\u001B[39m [pool\u001B[39m.\u001B[39mapply_async(task, (value,) \u001B[39m+\u001B[39m task_args, task_kwargs,\n\u001B[1;32m    216\u001B[0m                                   _update_progress_bar)\n\u001B[1;32m    217\u001B[0m                  \u001B[39mfor\u001B[39;00m value \u001B[39min\u001B[39;00m values]\n",
      "File \u001B[0;32m~/anaconda3/envs/qutip-env/lib/python3.10/multiprocessing/context.py:119\u001B[0m, in \u001B[0;36mBaseContext.Pool\u001B[0;34m(self, processes, initializer, initargs, maxtasksperchild)\u001B[0m\n\u001B[1;32m    118\u001B[0m \u001B[39mfrom\u001B[39;00m \u001B[39m.\u001B[39;00m\u001B[39mpool\u001B[39;00m \u001B[39mimport\u001B[39;00m Pool\n\u001B[0;32m--> 119\u001B[0m \u001B[39mreturn\u001B[39;00m Pool(processes, initializer, initargs, maxtasksperchild,\n\u001B[1;32m    120\u001B[0m             context\u001B[39m=\u001B[39;49m\u001B[39mself\u001B[39;49m\u001B[39m.\u001B[39;49mget_context())\n",
      "File \u001B[0;32m~/anaconda3/envs/qutip-env/lib/python3.10/multiprocessing/pool.py:215\u001B[0m, in \u001B[0;36mPool.__init__\u001B[0;34m(self, processes, initializer, initargs, maxtasksperchild, context)\u001B[0m\n\u001B[1;32m    214\u001B[0m \u001B[39mtry\u001B[39;00m:\n\u001B[0;32m--> 215\u001B[0m     \u001B[39mself\u001B[39;49m\u001B[39m.\u001B[39;49m_repopulate_pool()\n\u001B[1;32m    216\u001B[0m \u001B[39mexcept\u001B[39;00m \u001B[39mException\u001B[39;00m:\n",
      "File \u001B[0;32m~/anaconda3/envs/qutip-env/lib/python3.10/multiprocessing/pool.py:306\u001B[0m, in \u001B[0;36mPool._repopulate_pool\u001B[0;34m(self)\u001B[0m\n\u001B[1;32m    305\u001B[0m \u001B[39mdef\u001B[39;00m \u001B[39m_repopulate_pool\u001B[39m(\u001B[39mself\u001B[39m):\n\u001B[0;32m--> 306\u001B[0m     \u001B[39mreturn\u001B[39;00m \u001B[39mself\u001B[39;49m\u001B[39m.\u001B[39;49m_repopulate_pool_static(\u001B[39mself\u001B[39;49m\u001B[39m.\u001B[39;49m_ctx, \u001B[39mself\u001B[39;49m\u001B[39m.\u001B[39;49mProcess,\n\u001B[1;32m    307\u001B[0m                                         \u001B[39mself\u001B[39;49m\u001B[39m.\u001B[39;49m_processes,\n\u001B[1;32m    308\u001B[0m                                         \u001B[39mself\u001B[39;49m\u001B[39m.\u001B[39;49m_pool, \u001B[39mself\u001B[39;49m\u001B[39m.\u001B[39;49m_inqueue,\n\u001B[1;32m    309\u001B[0m                                         \u001B[39mself\u001B[39;49m\u001B[39m.\u001B[39;49m_outqueue, \u001B[39mself\u001B[39;49m\u001B[39m.\u001B[39;49m_initializer,\n\u001B[1;32m    310\u001B[0m                                         \u001B[39mself\u001B[39;49m\u001B[39m.\u001B[39;49m_initargs,\n\u001B[1;32m    311\u001B[0m                                         \u001B[39mself\u001B[39;49m\u001B[39m.\u001B[39;49m_maxtasksperchild,\n\u001B[1;32m    312\u001B[0m                                         \u001B[39mself\u001B[39;49m\u001B[39m.\u001B[39;49m_wrap_exception)\n",
      "File \u001B[0;32m~/anaconda3/envs/qutip-env/lib/python3.10/multiprocessing/pool.py:329\u001B[0m, in \u001B[0;36mPool._repopulate_pool_static\u001B[0;34m(ctx, Process, processes, pool, inqueue, outqueue, initializer, initargs, maxtasksperchild, wrap_exception)\u001B[0m\n\u001B[1;32m    328\u001B[0m w\u001B[39m.\u001B[39mdaemon \u001B[39m=\u001B[39m \u001B[39mTrue\u001B[39;00m\n\u001B[0;32m--> 329\u001B[0m w\u001B[39m.\u001B[39;49mstart()\n\u001B[1;32m    330\u001B[0m pool\u001B[39m.\u001B[39mappend(w)\n",
      "File \u001B[0;32m~/anaconda3/envs/qutip-env/lib/python3.10/multiprocessing/process.py:121\u001B[0m, in \u001B[0;36mBaseProcess.start\u001B[0;34m(self)\u001B[0m\n\u001B[1;32m    120\u001B[0m _cleanup()\n\u001B[0;32m--> 121\u001B[0m \u001B[39mself\u001B[39m\u001B[39m.\u001B[39m_popen \u001B[39m=\u001B[39m \u001B[39mself\u001B[39;49m\u001B[39m.\u001B[39;49m_Popen(\u001B[39mself\u001B[39;49m)\n\u001B[1;32m    122\u001B[0m \u001B[39mself\u001B[39m\u001B[39m.\u001B[39m_sentinel \u001B[39m=\u001B[39m \u001B[39mself\u001B[39m\u001B[39m.\u001B[39m_popen\u001B[39m.\u001B[39msentinel\n",
      "File \u001B[0;32m~/anaconda3/envs/qutip-env/lib/python3.10/multiprocessing/context.py:281\u001B[0m, in \u001B[0;36mForkProcess._Popen\u001B[0;34m(process_obj)\u001B[0m\n\u001B[1;32m    280\u001B[0m \u001B[39mfrom\u001B[39;00m \u001B[39m.\u001B[39;00m\u001B[39mpopen_fork\u001B[39;00m \u001B[39mimport\u001B[39;00m Popen\n\u001B[0;32m--> 281\u001B[0m \u001B[39mreturn\u001B[39;00m Popen(process_obj)\n",
      "File \u001B[0;32m~/anaconda3/envs/qutip-env/lib/python3.10/multiprocessing/popen_fork.py:16\u001B[0m, in \u001B[0;36mPopen.__init__\u001B[0;34m(self, process_obj)\u001B[0m\n\u001B[1;32m     15\u001B[0m \u001B[39mdef\u001B[39;00m \u001B[39m__init__\u001B[39m(\u001B[39mself\u001B[39m, process_obj):\n\u001B[0;32m---> 16\u001B[0m     util\u001B[39m.\u001B[39;49m_flush_std_streams()\n\u001B[1;32m     17\u001B[0m     \u001B[39mself\u001B[39m\u001B[39m.\u001B[39mreturncode \u001B[39m=\u001B[39m \u001B[39mNone\u001B[39;00m\n",
      "File \u001B[0;32m~/anaconda3/envs/qutip-env/lib/python3.10/multiprocessing/util.py:435\u001B[0m, in \u001B[0;36m_flush_std_streams\u001B[0;34m()\u001B[0m\n\u001B[1;32m    434\u001B[0m \u001B[39mtry\u001B[39;00m:\n\u001B[0;32m--> 435\u001B[0m     sys\u001B[39m.\u001B[39;49mstdout\u001B[39m.\u001B[39;49mflush()\n\u001B[1;32m    436\u001B[0m \u001B[39mexcept\u001B[39;00m (\u001B[39mAttributeError\u001B[39;00m, \u001B[39mValueError\u001B[39;00m):\n",
      "File \u001B[0;32m~/anaconda3/envs/qutip-env/lib/python3.10/site-packages/ipykernel/iostream.py:480\u001B[0m, in \u001B[0;36mOutStream.flush\u001B[0;34m(self)\u001B[0m\n\u001B[1;32m    479\u001B[0m \u001B[39m# and give a timeout to avoid\u001B[39;00m\n\u001B[0;32m--> 480\u001B[0m \u001B[39mif\u001B[39;00m \u001B[39mnot\u001B[39;00m evt\u001B[39m.\u001B[39;49mwait(\u001B[39mself\u001B[39;49m\u001B[39m.\u001B[39;49mflush_timeout):\n\u001B[1;32m    481\u001B[0m     \u001B[39m# write directly to __stderr__ instead of warning because\u001B[39;00m\n\u001B[1;32m    482\u001B[0m     \u001B[39m# if this is happening sys.stderr may be the problem.\u001B[39;00m\n\u001B[1;32m    483\u001B[0m     \u001B[39mprint\u001B[39m(\u001B[39m\"\u001B[39m\u001B[39mIOStream.flush timed out\u001B[39m\u001B[39m\"\u001B[39m, file\u001B[39m=\u001B[39msys\u001B[39m.\u001B[39m__stderr__)\n",
      "File \u001B[0;32m~/anaconda3/envs/qutip-env/lib/python3.10/threading.py:607\u001B[0m, in \u001B[0;36mEvent.wait\u001B[0;34m(self, timeout)\u001B[0m\n\u001B[1;32m    606\u001B[0m \u001B[39mif\u001B[39;00m \u001B[39mnot\u001B[39;00m signaled:\n\u001B[0;32m--> 607\u001B[0m     signaled \u001B[39m=\u001B[39m \u001B[39mself\u001B[39;49m\u001B[39m.\u001B[39;49m_cond\u001B[39m.\u001B[39;49mwait(timeout)\n\u001B[1;32m    608\u001B[0m \u001B[39mreturn\u001B[39;00m signaled\n",
      "File \u001B[0;32m~/anaconda3/envs/qutip-env/lib/python3.10/threading.py:324\u001B[0m, in \u001B[0;36mCondition.wait\u001B[0;34m(self, timeout)\u001B[0m\n\u001B[1;32m    323\u001B[0m \u001B[39mif\u001B[39;00m timeout \u001B[39m>\u001B[39m \u001B[39m0\u001B[39m:\n\u001B[0;32m--> 324\u001B[0m     gotit \u001B[39m=\u001B[39m waiter\u001B[39m.\u001B[39;49macquire(\u001B[39mTrue\u001B[39;49;00m, timeout)\n\u001B[1;32m    325\u001B[0m \u001B[39melse\u001B[39;00m:\n",
      "\u001B[0;31mKeyboardInterrupt\u001B[0m: ",
      "\nDuring handling of the above exception, another exception occurred:\n",
      "\u001B[0;31mUnboundLocalError\u001B[0m                         Traceback (most recent call last)",
      "Cell \u001B[0;32mIn [7], line 3\u001B[0m\n\u001B[1;32m      1\u001B[0m \u001B[39mfor\u001B[39;00m n \u001B[39min\u001B[39;00m [\u001B[39m3\u001B[39m]:\n\u001B[1;32m      2\u001B[0m     \u001B[39mprint\u001B[39m(\u001B[39m\"\u001B[39m\u001B[39mn=\u001B[39m\u001B[39m\"\u001B[39m,n)\n\u001B[0;32m----> 3\u001B[0m     bench_frame(\n\u001B[1;32m      4\u001B[0m         load_instances(n,p_min\u001B[39m=\u001B[39;49m\u001B[39m3\u001B[39;49m,p_max\u001B[39m=\u001B[39;49m\u001B[39m5\u001B[39;49m),\n\u001B[1;32m      5\u001B[0m         optimizers\u001B[39m=\u001B[39;49m{\u001B[39m\"\u001B[39;49m\u001B[39mtdvp\u001B[39;49m\u001B[39m\"\u001B[39;49m: \u001B[39mTrue\u001B[39;49;00m, \u001B[39m\"\u001B[39;49m\u001B[39mscipy\u001B[39;49m\u001B[39m\"\u001B[39;49m: \u001B[39mTrue\u001B[39;49;00m, \u001B[39m\"\u001B[39;49m\u001B[39mgradient_descent\u001B[39;49m\u001B[39m\"\u001B[39;49m: \u001B[39mFalse\u001B[39;49;00m},\n\u001B[1;32m      6\u001B[0m         path\u001B[39m=\u001B[39;49m\u001B[39mf\u001B[39;49m\u001B[39m\"\u001B[39;49m\u001B[39m./results/n\u001B[39;49m\u001B[39m{\u001B[39;49;00mn\u001B[39m}\u001B[39;49;00m\u001B[39mresults_p3_5.p\u001B[39;49m\u001B[39m\"\u001B[39;49m,\n\u001B[1;32m      7\u001B[0m         tollarance\u001B[39m=\u001B[39;49m\u001B[39m1e-2\u001B[39;49m,\n\u001B[1;32m      8\u001B[0m         max_iter\u001B[39m=\u001B[39;49m\u001B[39m10\u001B[39;49m,\n\u001B[1;32m      9\u001B[0m         max_steps\u001B[39m=\u001B[39;49m\u001B[39m3000\u001B[39;49m,\n\u001B[1;32m     10\u001B[0m         tdvp_range\u001B[39m=\u001B[39;49m\u001B[39m10\u001B[39;49m,\n\u001B[1;32m     11\u001B[0m     )\n",
      "File \u001B[0;32m~/Documents/Uni/Bachelorarbeit /TDVP_and_QAOA/benchmark.py:496\u001B[0m, in \u001B[0;36mbench_frame\u001B[0;34m(input, p, optimizers, tollarance, max_iter, max_steps, tdvp_range, auto_save, path, print_msg)\u001B[0m\n\u001B[1;32m    492\u001B[0m \u001B[39mif\u001B[39;00m print_msg:\n\u001B[1;32m    493\u001B[0m     \u001B[39mprint\u001B[39m(\n\u001B[1;32m    494\u001B[0m         \u001B[39mf\u001B[39m\u001B[39m\"\u001B[39m\u001B[39mRunning benchmark on \u001B[39m\u001B[39m{\u001B[39;00m\u001B[39mlen\u001B[39m(\u001B[39minput\u001B[39m)\u001B[39m}\u001B[39;00m\u001B[39m instances with optimizers \u001B[39m\u001B[39m{\u001B[39;00m\u001B[39mtuple\u001B[39m(key \u001B[39mfor\u001B[39;00m key,value \u001B[39min\u001B[39;00m optimizers\u001B[39m.\u001B[39mitems() \u001B[39mif\u001B[39;00m value)\u001B[39m}\u001B[39;00m\u001B[39m\"\u001B[39m\n\u001B[1;32m    495\u001B[0m     )\n\u001B[0;32m--> 496\u001B[0m out \u001B[39m=\u001B[39m \u001B[39minput\u001B[39;49m\u001B[39m.\u001B[39;49mapply(\n\u001B[1;32m    497\u001B[0m     \u001B[39mlambda\u001B[39;49;00m x: bench_series(\n\u001B[1;32m    498\u001B[0m         x,\n\u001B[1;32m    499\u001B[0m         optimizers\u001B[39m=\u001B[39;49moptimizers,\n\u001B[1;32m    500\u001B[0m         tollarance\u001B[39m=\u001B[39;49mtollarance,\n\u001B[1;32m    501\u001B[0m         max_iter\u001B[39m=\u001B[39;49mmax_iter,\n\u001B[1;32m    502\u001B[0m         max_steps\u001B[39m=\u001B[39;49mmax_steps,\n\u001B[1;32m    503\u001B[0m         tdvp_range\u001B[39m=\u001B[39;49mtdvp_range,\n\u001B[1;32m    504\u001B[0m         auto_save\u001B[39m=\u001B[39;49mauto_save,\n\u001B[1;32m    505\u001B[0m         path\u001B[39m=\u001B[39;49mpath,\n\u001B[1;32m    506\u001B[0m         print_msg\u001B[39m=\u001B[39;49m\u001B[39mFalse\u001B[39;49;00m,\n\u001B[1;32m    507\u001B[0m     ),  \u001B[39m# type: ignore\u001B[39;49;00m\n\u001B[1;32m    508\u001B[0m     axis\u001B[39m=\u001B[39;49m\u001B[39m1\u001B[39;49m,\n\u001B[1;32m    509\u001B[0m )\n\u001B[1;32m    510\u001B[0m \u001B[39m# type: ignore\u001B[39;00m\n\u001B[1;32m    511\u001B[0m \u001B[39mif\u001B[39;00m path \u001B[39mis\u001B[39;00m \u001B[39mnot\u001B[39;00m \u001B[39mNone\u001B[39;00m:\n",
      "File \u001B[0;32m~/anaconda3/envs/qutip-env/lib/python3.10/site-packages/pandas/core/frame.py:9555\u001B[0m, in \u001B[0;36mDataFrame.apply\u001B[0;34m(self, func, axis, raw, result_type, args, **kwargs)\u001B[0m\n\u001B[1;32m   9544\u001B[0m \u001B[39mfrom\u001B[39;00m \u001B[39mpandas\u001B[39;00m\u001B[39m.\u001B[39;00m\u001B[39mcore\u001B[39;00m\u001B[39m.\u001B[39;00m\u001B[39mapply\u001B[39;00m \u001B[39mimport\u001B[39;00m frame_apply\n\u001B[1;32m   9546\u001B[0m op \u001B[39m=\u001B[39m frame_apply(\n\u001B[1;32m   9547\u001B[0m     \u001B[39mself\u001B[39m,\n\u001B[1;32m   9548\u001B[0m     func\u001B[39m=\u001B[39mfunc,\n\u001B[0;32m   (...)\u001B[0m\n\u001B[1;32m   9553\u001B[0m     kwargs\u001B[39m=\u001B[39mkwargs,\n\u001B[1;32m   9554\u001B[0m )\n\u001B[0;32m-> 9555\u001B[0m \u001B[39mreturn\u001B[39;00m op\u001B[39m.\u001B[39;49mapply()\u001B[39m.\u001B[39m__finalize__(\u001B[39mself\u001B[39m, method\u001B[39m=\u001B[39m\u001B[39m\"\u001B[39m\u001B[39mapply\u001B[39m\u001B[39m\"\u001B[39m)\n",
      "File \u001B[0;32m~/anaconda3/envs/qutip-env/lib/python3.10/site-packages/pandas/core/apply.py:746\u001B[0m, in \u001B[0;36mFrameApply.apply\u001B[0;34m(self)\u001B[0m\n\u001B[1;32m    743\u001B[0m \u001B[39melif\u001B[39;00m \u001B[39mself\u001B[39m\u001B[39m.\u001B[39mraw:\n\u001B[1;32m    744\u001B[0m     \u001B[39mreturn\u001B[39;00m \u001B[39mself\u001B[39m\u001B[39m.\u001B[39mapply_raw()\n\u001B[0;32m--> 746\u001B[0m \u001B[39mreturn\u001B[39;00m \u001B[39mself\u001B[39;49m\u001B[39m.\u001B[39;49mapply_standard()\n",
      "File \u001B[0;32m~/anaconda3/envs/qutip-env/lib/python3.10/site-packages/pandas/core/apply.py:873\u001B[0m, in \u001B[0;36mFrameApply.apply_standard\u001B[0;34m(self)\u001B[0m\n\u001B[1;32m    872\u001B[0m \u001B[39mdef\u001B[39;00m \u001B[39mapply_standard\u001B[39m(\u001B[39mself\u001B[39m):\n\u001B[0;32m--> 873\u001B[0m     results, res_index \u001B[39m=\u001B[39m \u001B[39mself\u001B[39;49m\u001B[39m.\u001B[39;49mapply_series_generator()\n\u001B[1;32m    875\u001B[0m     \u001B[39m# wrap results\u001B[39;00m\n\u001B[1;32m    876\u001B[0m     \u001B[39mreturn\u001B[39;00m \u001B[39mself\u001B[39m\u001B[39m.\u001B[39mwrap_results(results, res_index)\n",
      "File \u001B[0;32m~/anaconda3/envs/qutip-env/lib/python3.10/site-packages/pandas/core/apply.py:889\u001B[0m, in \u001B[0;36mFrameApply.apply_series_generator\u001B[0;34m(self)\u001B[0m\n\u001B[1;32m    886\u001B[0m \u001B[39mwith\u001B[39;00m option_context(\u001B[39m\"\u001B[39m\u001B[39mmode.chained_assignment\u001B[39m\u001B[39m\"\u001B[39m, \u001B[39mNone\u001B[39;00m):\n\u001B[1;32m    887\u001B[0m     \u001B[39mfor\u001B[39;00m i, v \u001B[39min\u001B[39;00m \u001B[39menumerate\u001B[39m(series_gen):\n\u001B[1;32m    888\u001B[0m         \u001B[39m# ignore SettingWithCopy here in case the user mutates\u001B[39;00m\n\u001B[0;32m--> 889\u001B[0m         results[i] \u001B[39m=\u001B[39m \u001B[39mself\u001B[39;49m\u001B[39m.\u001B[39;49mf(v)\n\u001B[1;32m    890\u001B[0m         \u001B[39mif\u001B[39;00m \u001B[39misinstance\u001B[39m(results[i], ABCSeries):\n\u001B[1;32m    891\u001B[0m             \u001B[39m# If we have a view on v, we need to make a copy because\u001B[39;00m\n\u001B[1;32m    892\u001B[0m             \u001B[39m#  series_generator will swap out the underlying data\u001B[39;00m\n\u001B[1;32m    893\u001B[0m             results[i] \u001B[39m=\u001B[39m results[i]\u001B[39m.\u001B[39mcopy(deep\u001B[39m=\u001B[39m\u001B[39mFalse\u001B[39;00m)\n",
      "File \u001B[0;32m~/Documents/Uni/Bachelorarbeit /TDVP_and_QAOA/benchmark.py:497\u001B[0m, in \u001B[0;36mbench_frame.<locals>.<lambda>\u001B[0;34m(x)\u001B[0m\n\u001B[1;32m    492\u001B[0m \u001B[39mif\u001B[39;00m print_msg:\n\u001B[1;32m    493\u001B[0m     \u001B[39mprint\u001B[39m(\n\u001B[1;32m    494\u001B[0m         \u001B[39mf\u001B[39m\u001B[39m\"\u001B[39m\u001B[39mRunning benchmark on \u001B[39m\u001B[39m{\u001B[39;00m\u001B[39mlen\u001B[39m(\u001B[39minput\u001B[39m)\u001B[39m}\u001B[39;00m\u001B[39m instances with optimizers \u001B[39m\u001B[39m{\u001B[39;00m\u001B[39mtuple\u001B[39m(key \u001B[39mfor\u001B[39;00m key,value \u001B[39min\u001B[39;00m optimizers\u001B[39m.\u001B[39mitems() \u001B[39mif\u001B[39;00m value)\u001B[39m}\u001B[39;00m\u001B[39m\"\u001B[39m\n\u001B[1;32m    495\u001B[0m     )\n\u001B[1;32m    496\u001B[0m out \u001B[39m=\u001B[39m \u001B[39minput\u001B[39m\u001B[39m.\u001B[39mapply(\n\u001B[0;32m--> 497\u001B[0m     \u001B[39mlambda\u001B[39;00m x: bench_series(\n\u001B[1;32m    498\u001B[0m         x,\n\u001B[1;32m    499\u001B[0m         optimizers\u001B[39m=\u001B[39;49moptimizers,\n\u001B[1;32m    500\u001B[0m         tollarance\u001B[39m=\u001B[39;49mtollarance,\n\u001B[1;32m    501\u001B[0m         max_iter\u001B[39m=\u001B[39;49mmax_iter,\n\u001B[1;32m    502\u001B[0m         max_steps\u001B[39m=\u001B[39;49mmax_steps,\n\u001B[1;32m    503\u001B[0m         tdvp_range\u001B[39m=\u001B[39;49mtdvp_range,\n\u001B[1;32m    504\u001B[0m         auto_save\u001B[39m=\u001B[39;49mauto_save,\n\u001B[1;32m    505\u001B[0m         path\u001B[39m=\u001B[39;49mpath,\n\u001B[1;32m    506\u001B[0m         print_msg\u001B[39m=\u001B[39;49m\u001B[39mFalse\u001B[39;49;00m,\n\u001B[1;32m    507\u001B[0m     ),  \u001B[39m# type: ignore\u001B[39;00m\n\u001B[1;32m    508\u001B[0m     axis\u001B[39m=\u001B[39m\u001B[39m1\u001B[39m,\n\u001B[1;32m    509\u001B[0m )\n\u001B[1;32m    510\u001B[0m \u001B[39m# type: ignore\u001B[39;00m\n\u001B[1;32m    511\u001B[0m \u001B[39mif\u001B[39;00m path \u001B[39mis\u001B[39;00m \u001B[39mnot\u001B[39;00m \u001B[39mNone\u001B[39;00m:\n",
      "File \u001B[0;32m~/Documents/Uni/Bachelorarbeit /TDVP_and_QAOA/benchmark.py:453\u001B[0m, in \u001B[0;36mbench_series\u001B[0;34m(input, p, optimizers, tollarance, max_iter, max_steps, tdvp_range, auto_save, path, print_msg)\u001B[0m\n\u001B[1;32m    440\u001B[0m \u001B[39mdef\u001B[39;00m \u001B[39mbench_series\u001B[39m(\n\u001B[1;32m    441\u001B[0m     \u001B[39minput\u001B[39m: pd\u001B[39m.\u001B[39mSeries,\n\u001B[1;32m    442\u001B[0m     p: \u001B[39mint\u001B[39m \u001B[39m|\u001B[39m \u001B[39mNone\u001B[39;00m \u001B[39m=\u001B[39m \u001B[39mNone\u001B[39;00m,\n\u001B[0;32m   (...)\u001B[0m\n\u001B[1;32m    450\u001B[0m     print_msg: \u001B[39mbool\u001B[39m \u001B[39m=\u001B[39m \u001B[39mTrue\u001B[39;00m,\n\u001B[1;32m    451\u001B[0m ) \u001B[39m-\u001B[39m\u001B[39m>\u001B[39m pd\u001B[39m.\u001B[39mDataFrame \u001B[39m|\u001B[39m pd\u001B[39m.\u001B[39mSeries:\n\u001B[1;32m    452\u001B[0m     \u001B[39mtry\u001B[39;00m:\n\u001B[0;32m--> 453\u001B[0m         out \u001B[39m=\u001B[39m bench_instance(\n\u001B[1;32m    454\u001B[0m             \u001B[39minput\u001B[39;49m[\u001B[39m\"\u001B[39;49m\u001B[39minstance\u001B[39;49m\u001B[39m\"\u001B[39;49m],\n\u001B[1;32m    455\u001B[0m             p\u001B[39m=\u001B[39;49m\u001B[39minput\u001B[39;49m\u001B[39m.\u001B[39;49mname[\u001B[39m0\u001B[39;49m],  \u001B[39m# type: ignore\u001B[39;49;00m\n\u001B[1;32m    456\u001B[0m             optimizers\u001B[39m=\u001B[39;49moptimizers,\n\u001B[1;32m    457\u001B[0m             tollarance\u001B[39m=\u001B[39;49mtollarance,\n\u001B[1;32m    458\u001B[0m             max_iter\u001B[39m=\u001B[39;49mmax_iter,\n\u001B[1;32m    459\u001B[0m             max_steps\u001B[39m=\u001B[39;49mmax_steps,\n\u001B[1;32m    460\u001B[0m             tdvp_range\u001B[39m=\u001B[39;49mtdvp_range,\n\u001B[1;32m    461\u001B[0m             auto_save\u001B[39m=\u001B[39;49mauto_save,\n\u001B[1;32m    462\u001B[0m             path\u001B[39m=\u001B[39;49mpath,\n\u001B[1;32m    463\u001B[0m             print_msg\u001B[39m=\u001B[39;49m\u001B[39mFalse\u001B[39;49;00m,\n\u001B[1;32m    464\u001B[0m         )\n\u001B[1;32m    465\u001B[0m     \u001B[39mexcept\u001B[39;00m LinAlgError:\n\u001B[1;32m    466\u001B[0m         out \u001B[39m=\u001B[39m \u001B[39minput\u001B[39m\n",
      "File \u001B[0;32m~/Documents/Uni/Bachelorarbeit /TDVP_and_QAOA/benchmark.py:350\u001B[0m, in \u001B[0;36mbench_instance\u001B[0;34m(input, p, optimizers, tollarance, max_iter, max_steps, tdvp_range, auto_save, path, print_msg)\u001B[0m\n\u001B[1;32m    348\u001B[0m \u001B[39mtry\u001B[39;00m:\n\u001B[1;32m    349\u001B[0m     \u001B[39mprint\u001B[39m(\u001B[39m\"\u001B[39m\u001B[39moptimizing with tdvp\u001B[39m\u001B[39m\"\u001B[39m)\n\u001B[0;32m--> 350\u001B[0m     tdvp_res \u001B[39m=\u001B[39m tdvp_optimize_qaoa(\n\u001B[1;32m    351\u001B[0m         qaoa\u001B[39m=\u001B[39;49mqaoa,\n\u001B[1;32m    352\u001B[0m         delta_0\u001B[39m=\u001B[39;49mdelta_0,\n\u001B[1;32m    353\u001B[0m         Delta\u001B[39m=\u001B[39;49m\u001B[39m100\u001B[39;49m,\n\u001B[1;32m    354\u001B[0m         grad_tol\u001B[39m=\u001B[39;49mtollarance,\n\u001B[1;32m    355\u001B[0m         int_mode\u001B[39m=\u001B[39;49m\u001B[39m\"\u001B[39;49m\u001B[39mRK45\u001B[39;49m\u001B[39m\"\u001B[39;49m,\n\u001B[1;32m    356\u001B[0m         max_iter\u001B[39m=\u001B[39;49mmax_iter,\n\u001B[1;32m    357\u001B[0m         max_steps\u001B[39m=\u001B[39;49mmax_steps,\n\u001B[1;32m    358\u001B[0m     )\n\u001B[1;32m    359\u001B[0m \u001B[39mexcept\u001B[39;00m LinAlgError:\n\u001B[1;32m    360\u001B[0m     \u001B[39mprint\u001B[39m(\u001B[39mf\u001B[39m\u001B[39m'\u001B[39m\u001B[39mLinAlgError at p=\u001B[39m\u001B[39m{\u001B[39;00mp\u001B[39m}\u001B[39;00m\u001B[39m and instance \u001B[39m\u001B[39m{\u001B[39;00m\u001B[39minput\u001B[39m\u001B[39m}\u001B[39;00m\u001B[39m'\u001B[39m)\n",
      "File \u001B[0;32m~/Documents/Uni/Bachelorarbeit /TDVP_and_QAOA/qaoa_and_tdvp.py:1193\u001B[0m, in \u001B[0;36mtdvp_optimize_qaoa\u001B[0;34m(qaoa, delta_0, Delta, rhs_mode, int_mode, grad_tol, max_iter, max_steps)\u001B[0m\n\u001B[1;32m   1191\u001B[0m \u001B[39mwhile\u001B[39;00m go_on \u001B[39mand\u001B[39;00m \u001B[39miter\u001B[39m \u001B[39m<\u001B[39m max_iter:\n\u001B[1;32m   1192\u001B[0m     \u001B[39miter\u001B[39m \u001B[39m+\u001B[39m\u001B[39m=\u001B[39m \u001B[39m1\u001B[39m\n\u001B[0;32m-> 1193\u001B[0m     int_result \u001B[39m=\u001B[39m integrate\u001B[39m.\u001B[39;49msolve_ivp(\n\u001B[1;32m   1194\u001B[0m         fun\u001B[39m=\u001B[39;49mtdvp_rhs,\n\u001B[1;32m   1195\u001B[0m         t_span\u001B[39m=\u001B[39;49m(t_0, t_1),\n\u001B[1;32m   1196\u001B[0m         y0\u001B[39m=\u001B[39;49mdelta,\n\u001B[1;32m   1197\u001B[0m         method\u001B[39m=\u001B[39;49mint_mode,\n\u001B[1;32m   1198\u001B[0m         \u001B[39m# t_eval=eval_points,\u001B[39;49;00m\n\u001B[1;32m   1199\u001B[0m         events\u001B[39m=\u001B[39;49m[\n\u001B[1;32m   1200\u001B[0m             tdvp_terminal, tdvp_max_steps\n\u001B[1;32m   1201\u001B[0m         ],\n\u001B[1;32m   1202\u001B[0m     )\n\u001B[1;32m   1203\u001B[0m     nfev \u001B[39m+\u001B[39m\u001B[39m=\u001B[39m int_result\u001B[39m.\u001B[39mnfev\n\u001B[1;32m   1204\u001B[0m     times\u001B[39m.\u001B[39mextend(int_result\u001B[39m.\u001B[39mt)\n",
      "File \u001B[0;32m~/anaconda3/envs/qutip-env/lib/python3.10/site-packages/scipy/integrate/_ivp/ivp.py:614\u001B[0m, in \u001B[0;36msolve_ivp\u001B[0;34m(fun, t_span, y0, method, t_eval, dense_output, events, vectorized, args, **options)\u001B[0m\n\u001B[1;32m    611\u001B[0m \u001B[39mif\u001B[39;00m sol \u001B[39mis\u001B[39;00m \u001B[39mNone\u001B[39;00m:\n\u001B[1;32m    612\u001B[0m     sol \u001B[39m=\u001B[39m solver\u001B[39m.\u001B[39mdense_output()\n\u001B[0;32m--> 614\u001B[0m root_indices, roots, terminate \u001B[39m=\u001B[39m handle_events(\n\u001B[1;32m    615\u001B[0m     sol, events, active_events, is_terminal, t_old, t)\n\u001B[1;32m    617\u001B[0m \u001B[39mfor\u001B[39;00m e, te \u001B[39min\u001B[39;00m \u001B[39mzip\u001B[39m(root_indices, roots):\n\u001B[1;32m    618\u001B[0m     t_events[e]\u001B[39m.\u001B[39mappend(te)\n",
      "File \u001B[0;32m~/anaconda3/envs/qutip-env/lib/python3.10/site-packages/scipy/integrate/_ivp/ivp.py:108\u001B[0m, in \u001B[0;36mhandle_events\u001B[0;34m(sol, events, active_events, is_terminal, t_old, t)\u001B[0m\n\u001B[1;32m     81\u001B[0m \u001B[39mdef\u001B[39;00m \u001B[39mhandle_events\u001B[39m(sol, events, active_events, is_terminal, t_old, t):\n\u001B[1;32m     82\u001B[0m     \u001B[39m\"\"\"Helper function to handle events.\u001B[39;00m\n\u001B[1;32m     83\u001B[0m \n\u001B[1;32m     84\u001B[0m \u001B[39m    Parameters\u001B[39;00m\n\u001B[0;32m   (...)\u001B[0m\n\u001B[1;32m    106\u001B[0m \u001B[39m        Whether a terminal event occurred.\u001B[39;00m\n\u001B[1;32m    107\u001B[0m \u001B[39m    \"\"\"\u001B[39;00m\n\u001B[0;32m--> 108\u001B[0m     roots \u001B[39m=\u001B[39m [solve_event_equation(events[event_index], sol, t_old, t)\n\u001B[1;32m    109\u001B[0m              \u001B[39mfor\u001B[39;00m event_index \u001B[39min\u001B[39;00m active_events]\n\u001B[1;32m    111\u001B[0m     roots \u001B[39m=\u001B[39m np\u001B[39m.\u001B[39masarray(roots)\n\u001B[1;32m    113\u001B[0m     \u001B[39mif\u001B[39;00m np\u001B[39m.\u001B[39many(is_terminal[active_events]):\n",
      "File \u001B[0;32m~/anaconda3/envs/qutip-env/lib/python3.10/site-packages/scipy/integrate/_ivp/ivp.py:108\u001B[0m, in \u001B[0;36m<listcomp>\u001B[0;34m(.0)\u001B[0m\n\u001B[1;32m     81\u001B[0m \u001B[39mdef\u001B[39;00m \u001B[39mhandle_events\u001B[39m(sol, events, active_events, is_terminal, t_old, t):\n\u001B[1;32m     82\u001B[0m     \u001B[39m\"\"\"Helper function to handle events.\u001B[39;00m\n\u001B[1;32m     83\u001B[0m \n\u001B[1;32m     84\u001B[0m \u001B[39m    Parameters\u001B[39;00m\n\u001B[0;32m   (...)\u001B[0m\n\u001B[1;32m    106\u001B[0m \u001B[39m        Whether a terminal event occurred.\u001B[39;00m\n\u001B[1;32m    107\u001B[0m \u001B[39m    \"\"\"\u001B[39;00m\n\u001B[0;32m--> 108\u001B[0m     roots \u001B[39m=\u001B[39m [solve_event_equation(events[event_index], sol, t_old, t)\n\u001B[1;32m    109\u001B[0m              \u001B[39mfor\u001B[39;00m event_index \u001B[39min\u001B[39;00m active_events]\n\u001B[1;32m    111\u001B[0m     roots \u001B[39m=\u001B[39m np\u001B[39m.\u001B[39masarray(roots)\n\u001B[1;32m    113\u001B[0m     \u001B[39mif\u001B[39;00m np\u001B[39m.\u001B[39many(is_terminal[active_events]):\n",
      "File \u001B[0;32m~/anaconda3/envs/qutip-env/lib/python3.10/site-packages/scipy/integrate/_ivp/ivp.py:77\u001B[0m, in \u001B[0;36msolve_event_equation\u001B[0;34m(event, sol, t_old, t)\u001B[0m\n\u001B[1;32m     54\u001B[0m \u001B[39m\"\"\"Solve an equation corresponding to an ODE event.\u001B[39;00m\n\u001B[1;32m     55\u001B[0m \n\u001B[1;32m     56\u001B[0m \u001B[39mThe equation is ``event(t, y(t)) = 0``, here ``y(t)`` is known from an\u001B[39;00m\n\u001B[0;32m   (...)\u001B[0m\n\u001B[1;32m     74\u001B[0m \u001B[39m    Found solution.\u001B[39;00m\n\u001B[1;32m     75\u001B[0m \u001B[39m\"\"\"\u001B[39;00m\n\u001B[1;32m     76\u001B[0m \u001B[39mfrom\u001B[39;00m \u001B[39mscipy\u001B[39;00m\u001B[39m.\u001B[39;00m\u001B[39moptimize\u001B[39;00m \u001B[39mimport\u001B[39;00m brentq\n\u001B[0;32m---> 77\u001B[0m \u001B[39mreturn\u001B[39;00m brentq(\u001B[39mlambda\u001B[39;49;00m t: event(t, sol(t)), t_old, t,\n\u001B[1;32m     78\u001B[0m               xtol\u001B[39m=\u001B[39;49m\u001B[39m4\u001B[39;49m \u001B[39m*\u001B[39;49m EPS, rtol\u001B[39m=\u001B[39;49m\u001B[39m4\u001B[39;49m \u001B[39m*\u001B[39;49m EPS)\n",
      "File \u001B[0;32m~/anaconda3/envs/qutip-env/lib/python3.10/site-packages/scipy/optimize/_zeros_py.py:783\u001B[0m, in \u001B[0;36mbrentq\u001B[0;34m(f, a, b, args, xtol, rtol, maxiter, full_output, disp)\u001B[0m\n\u001B[1;32m    781\u001B[0m \u001B[39mif\u001B[39;00m rtol \u001B[39m<\u001B[39m _rtol:\n\u001B[1;32m    782\u001B[0m     \u001B[39mraise\u001B[39;00m \u001B[39mValueError\u001B[39;00m(\u001B[39m\"\u001B[39m\u001B[39mrtol too small (\u001B[39m\u001B[39m%g\u001B[39;00m\u001B[39m < \u001B[39m\u001B[39m%g\u001B[39;00m\u001B[39m)\u001B[39m\u001B[39m\"\u001B[39m \u001B[39m%\u001B[39m (rtol, _rtol))\n\u001B[0;32m--> 783\u001B[0m r \u001B[39m=\u001B[39m _zeros\u001B[39m.\u001B[39;49m_brentq(f, a, b, xtol, rtol, maxiter, args, full_output, disp)\n\u001B[1;32m    784\u001B[0m \u001B[39mreturn\u001B[39;00m results_c(full_output, r)\n",
      "File \u001B[0;32m~/anaconda3/envs/qutip-env/lib/python3.10/site-packages/scipy/integrate/_ivp/ivp.py:77\u001B[0m, in \u001B[0;36msolve_event_equation.<locals>.<lambda>\u001B[0;34m(t)\u001B[0m\n\u001B[1;32m     54\u001B[0m \u001B[39m\"\"\"Solve an equation corresponding to an ODE event.\u001B[39;00m\n\u001B[1;32m     55\u001B[0m \n\u001B[1;32m     56\u001B[0m \u001B[39mThe equation is ``event(t, y(t)) = 0``, here ``y(t)`` is known from an\u001B[39;00m\n\u001B[0;32m   (...)\u001B[0m\n\u001B[1;32m     74\u001B[0m \u001B[39m    Found solution.\u001B[39;00m\n\u001B[1;32m     75\u001B[0m \u001B[39m\"\"\"\u001B[39;00m\n\u001B[1;32m     76\u001B[0m \u001B[39mfrom\u001B[39;00m \u001B[39mscipy\u001B[39;00m\u001B[39m.\u001B[39;00m\u001B[39moptimize\u001B[39;00m \u001B[39mimport\u001B[39;00m brentq\n\u001B[0;32m---> 77\u001B[0m \u001B[39mreturn\u001B[39;00m brentq(\u001B[39mlambda\u001B[39;00m t: event(t, sol(t)), t_old, t,\n\u001B[1;32m     78\u001B[0m               xtol\u001B[39m=\u001B[39m\u001B[39m4\u001B[39m \u001B[39m*\u001B[39m EPS, rtol\u001B[39m=\u001B[39m\u001B[39m4\u001B[39m \u001B[39m*\u001B[39m EPS)\n",
      "File \u001B[0;32m~/Documents/Uni/Bachelorarbeit /TDVP_and_QAOA/qaoa_and_tdvp.py:1140\u001B[0m, in \u001B[0;36mtdvp_optimize_qaoa.<locals>.tdvp_terminal\u001B[0;34m(t, x)\u001B[0m\n\u001B[1;32m   1138\u001B[0m \u001B[39mdef\u001B[39;00m \u001B[39mtdvp_terminal\u001B[39m(t, x) \u001B[39m-\u001B[39m\u001B[39m>\u001B[39m \u001B[39mfloat\u001B[39m:\n\u001B[1;32m   1139\u001B[0m     \u001B[39mreturn\u001B[39;00m (\n\u001B[0;32m-> 1140\u001B[0m         linalg\u001B[39m.\u001B[39mnorm(tdvp_rhs(t, x)) \u001B[39m-\u001B[39m grad_tol\n\u001B[1;32m   1141\u001B[0m     )\n",
      "File \u001B[0;32m~/Documents/Uni/Bachelorarbeit /TDVP_and_QAOA/qaoa_and_tdvp.py:1120\u001B[0m, in \u001B[0;36mtdvp_optimize_qaoa.<locals>.tdvp_rhs\u001B[0;34m(t, x)\u001B[0m\n\u001B[1;32m   1118\u001B[0m rhs_step \u001B[39m+\u001B[39m\u001B[39m=\u001B[39m \u001B[39m1\u001B[39m\n\u001B[1;32m   1119\u001B[0m \u001B[39mprint\u001B[39m(\u001B[39mf\u001B[39m\u001B[39m\"\u001B[39m\u001B[39mrhs step \u001B[39m\u001B[39m{\u001B[39;00mrhs_step\u001B[39m}\u001B[39;00m\u001B[39m\"\u001B[39m, end\u001B[39m=\u001B[39m\u001B[39m\"\u001B[39m\u001B[39m\\r\u001B[39;00m\u001B[39m\"\u001B[39m)\n\u001B[0;32m-> 1120\u001B[0m \u001B[39mreturn\u001B[39;00m qaoa_tdvp_rhs(t, x, qaoa)\n",
      "File \u001B[0;32m~/Documents/Uni/Bachelorarbeit /TDVP_and_QAOA/qaoa_and_tdvp.py:999\u001B[0m, in \u001B[0;36mqaoa_tdvp_rhs\u001B[0;34m(t, x, qaoa)\u001B[0m\n\u001B[1;32m    987\u001B[0m \u001B[39m\"\"\"right hand side of linear equation system of tdvp. In the right format for the scipy solvers.\u001B[39;00m\n\u001B[1;32m    988\u001B[0m \u001B[39mUses the qaoa class to calculate the gradient and gram matrix.\u001B[39;00m\n\u001B[1;32m    989\u001B[0m \u001B[39mInverts the gram matrix using the scipy linalg.inv.\u001B[39;00m\n\u001B[0;32m   (...)\u001B[0m\n\u001B[1;32m    996\u001B[0m \u001B[39m    NDArray: the matrix defining the RHS of the equation\u001B[39;00m\n\u001B[1;32m    997\u001B[0m \u001B[39m\"\"\"\u001B[39;00m\n\u001B[1;32m    998\u001B[0m _ \u001B[39m=\u001B[39m t\n\u001B[0;32m--> 999\u001B[0m inv_real_gram \u001B[39m=\u001B[39m linalg\u001B[39m.\u001B[39minv(\u001B[39m2\u001B[39m \u001B[39m*\u001B[39m np\u001B[39m.\u001B[39mreal(qaoa\u001B[39m.\u001B[39;49mgram(x)))\n\u001B[1;32m   1000\u001B[0m real_grad \u001B[39m=\u001B[39m \u001B[39m2\u001B[39m \u001B[39m*\u001B[39m np\u001B[39m.\u001B[39mreal(qaoa\u001B[39m.\u001B[39mgrad(x))\n\u001B[1;32m   1001\u001B[0m \u001B[39mreturn\u001B[39;00m np\u001B[39m.\u001B[39marray(\u001B[39m-\u001B[39minv_real_gram \u001B[39m*\u001B[39m real_grad\u001B[39m.\u001B[39mT)\u001B[39m.\u001B[39mflatten()\n",
      "File \u001B[0;32m~/Documents/Uni/Bachelorarbeit /TDVP_and_QAOA/qaoa_and_tdvp.py:552\u001B[0m, in \u001B[0;36mQAOA.gram\u001B[0;34m(self, delta)\u001B[0m\n\u001B[1;32m    549\u001B[0m gram \u001B[39m=\u001B[39m np\u001B[39m.\u001B[39mzeros((\u001B[39m2\u001B[39m \u001B[39m*\u001B[39m \u001B[39mself\u001B[39m\u001B[39m.\u001B[39mp, \u001B[39m2\u001B[39m \u001B[39m*\u001B[39m \u001B[39mself\u001B[39m\u001B[39m.\u001B[39mp), dtype\u001B[39m=\u001B[39mnp\u001B[39m.\u001B[39mcomplex128)\n\u001B[1;32m    550\u001B[0m \u001B[39m# populate the upper triangular part and diagonal of the gram matrix using self._Gij\u001B[39;00m\n\u001B[1;32m    551\u001B[0m \u001B[39m# np.triu_indices returns the indices of the upper triangular part of a matrix\u001B[39;00m\n\u001B[0;32m--> 552\u001B[0m gram[np\u001B[39m.\u001B[39mtriu_indices(\u001B[39m2\u001B[39m \u001B[39m*\u001B[39m \u001B[39mself\u001B[39m\u001B[39m.\u001B[39mp)] \u001B[39m=\u001B[39m \u001B[39mself\u001B[39;49m\u001B[39m.\u001B[39;49mmapping(\n\u001B[1;32m    553\u001B[0m     task\u001B[39m=\u001B[39;49m\u001B[39mself\u001B[39;49m\u001B[39m.\u001B[39;49m_Gij,\n\u001B[1;32m    554\u001B[0m     values\u001B[39m=\u001B[39;49m\u001B[39mlist\u001B[39;49m(\n\u001B[1;32m    555\u001B[0m         combinations_with_replacement(\u001B[39mrange\u001B[39;49m(\u001B[39m2\u001B[39;49m \u001B[39m*\u001B[39;49m \u001B[39mself\u001B[39;49m\u001B[39m.\u001B[39;49mp), r\u001B[39m=\u001B[39;49m\u001B[39m2\u001B[39;49m)\n\u001B[1;32m    556\u001B[0m     ),  \u001B[39m# all combinations of indices, including the diagonal\u001B[39;49;00m\n\u001B[1;32m    557\u001B[0m     task_args\u001B[39m=\u001B[39;49m(delta,),\n\u001B[1;32m    558\u001B[0m )\n\u001B[1;32m    559\u001B[0m \u001B[39m# use that the gram matrix is hermetian\u001B[39;00m\n\u001B[1;32m    560\u001B[0m \u001B[39m# np.tril_indices returns the indices of the lower triangular part of a matrix, -1 to exclude the diagonal\u001B[39;00m\n\u001B[1;32m    561\u001B[0m gram \u001B[39m=\u001B[39m gram \u001B[39m+\u001B[39m np\u001B[39m.\u001B[39mconj(gram\u001B[39m.\u001B[39mT) \u001B[39m-\u001B[39m np\u001B[39m.\u001B[39mdiag(gram\u001B[39m.\u001B[39mdiagonal())\n",
      "File \u001B[0;32m~/anaconda3/envs/qutip-env/lib/python3.10/site-packages/qutip/parallel.py:228\u001B[0m, in \u001B[0;36mparallel_map\u001B[0;34m(task, values, task_args, task_kwargs, **kwargs)\u001B[0m\n\u001B[1;32m    226\u001B[0m \u001B[39mexcept\u001B[39;00m \u001B[39mKeyboardInterrupt\u001B[39;00m \u001B[39mas\u001B[39;00m e:\n\u001B[1;32m    227\u001B[0m     os\u001B[39m.\u001B[39menviron[\u001B[39m'\u001B[39m\u001B[39mQUTIP_IN_PARALLEL\u001B[39m\u001B[39m'\u001B[39m] \u001B[39m=\u001B[39m \u001B[39m'\u001B[39m\u001B[39mFALSE\u001B[39m\u001B[39m'\u001B[39m\n\u001B[0;32m--> 228\u001B[0m     pool\u001B[39m.\u001B[39mterminate()\n\u001B[1;32m    229\u001B[0m     pool\u001B[39m.\u001B[39mjoin()\n\u001B[1;32m    230\u001B[0m     \u001B[39mraise\u001B[39;00m e\n",
      "\u001B[0;31mUnboundLocalError\u001B[0m: local variable 'pool' referenced before assignment"
     ]
    }
   ],
   "source": [
    "for n in [3]:\n",
    "    print(\"n=\",n)\n",
    "    bench_frame(\n",
    "        load_instances(n,p_min=3,p_max=5),\n",
    "        optimizers={\"tdvp\": True, \"scipy\": True, \"gradient_descent\": False},\n",
    "        path=f\"./results/n{n}results_p3_5.p\",\n",
    "        tollarance=1e-2,\n",
    "        max_iter=10,\n",
    "        max_steps=3000,\n",
    "        tdvp_range=10,\n",
    "    )\n"
   ]
  },
  {
   "cell_type": "code",
   "execution_count": null,
   "metadata": {
    "collapsed": false
   },
   "outputs": [],
   "source": []
  }
 ],
 "metadata": {
  "kernelspec": {
   "display_name": "Python 3.10.6 ('qutip-env')",
   "language": "python",
   "name": "python3"
  },
  "language_info": {
   "codemirror_mode": {
    "name": "ipython",
    "version": 3
   },
   "file_extension": ".py",
   "mimetype": "text/x-python",
   "name": "python",
   "nbconvert_exporter": "python",
   "pygments_lexer": "ipython3",
   "version": "3.10.6"
  },
  "orig_nbformat": 4,
  "vscode": {
   "interpreter": {
    "hash": "fe45c953e7d91ced0867b19789acd0ab1d9439aa0b1f4fae31fd46e88f74aeab"
   }
  }
 },
 "nbformat": 4,
 "nbformat_minor": 2
}
