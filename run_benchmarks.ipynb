{
 "cells": [
  {
   "cell_type": "code",
   "execution_count": 1,
   "metadata": {
    "notebookRunGroups": {
     "groupValue": "1"
    }
   },
   "outputs": [],
   "source": [
    "import pickle\n",
    "from benchmark import bench_frame, bench_instance, load_instances, bench_looping, bench_series\n",
    "from qaoa_and_tdvp import tdvp_optimize_qaoa, QAOA\n",
    "from itertools import product\n",
    "import pandas as pd\n",
    "import networkx as nx"
   ]
  },
  {
   "cell_type": "code",
   "execution_count": 11,
   "metadata": {
    "collapsed": false
   },
   "outputs": [
    {
     "name": "stdout",
     "output_type": "stream",
     "text": [
      "Running benchmark on instance with 3 with optimizers ('gradient_descent',)\n",
      "optimizing with gradient descent\n",
      "done 36\n",
      "\n"
     ]
    },
    {
     "data": {
      "text/html": [
       "<div>\n",
       "<style scoped>\n",
       "    .dataframe tbody tr th:only-of-type {\n",
       "        vertical-align: middle;\n",
       "    }\n",
       "\n",
       "    .dataframe tbody tr th {\n",
       "        vertical-align: top;\n",
       "    }\n",
       "\n",
       "    .dataframe thead th {\n",
       "        text-align: right;\n",
       "    }\n",
       "</style>\n",
       "<table border=\"1\" class=\"dataframe\">\n",
       "  <thead>\n",
       "    <tr style=\"text-align: right;\">\n",
       "      <th></th>\n",
       "      <th>tdvp</th>\n",
       "      <th>scipy</th>\n",
       "      <th>gradient_descent</th>\n",
       "    </tr>\n",
       "  </thead>\n",
       "  <tbody>\n",
       "    <tr>\n",
       "      <th>algorithm</th>\n",
       "      <td>NaN</td>\n",
       "      <td>NaN</td>\n",
       "      <td>gradient_descent</td>\n",
       "    </tr>\n",
       "    <tr>\n",
       "      <th>delta</th>\n",
       "      <td>NaN</td>\n",
       "      <td>NaN</td>\n",
       "      <td>(0.7841055865421822, 0.3788649232939747)</td>\n",
       "    </tr>\n",
       "    <tr>\n",
       "      <th>delta_0</th>\n",
       "      <td>NaN</td>\n",
       "      <td>NaN</td>\n",
       "      <td>(1, 1)</td>\n",
       "    </tr>\n",
       "    <tr>\n",
       "      <th>instance</th>\n",
       "      <td>NaN</td>\n",
       "      <td>NaN</td>\n",
       "      <td>&lt;MaxCut.MaxCut object at 0x7f2e9cf36890&gt;</td>\n",
       "    </tr>\n",
       "    <tr>\n",
       "      <th>message</th>\n",
       "      <td>NaN</td>\n",
       "      <td>NaN</td>\n",
       "      <td>Gradient descent solver terminated with       ...</td>\n",
       "    </tr>\n",
       "    <tr>\n",
       "      <th>n</th>\n",
       "      <td>NaN</td>\n",
       "      <td>NaN</td>\n",
       "      <td>3</td>\n",
       "    </tr>\n",
       "    <tr>\n",
       "      <th>num_fun_calls</th>\n",
       "      <td>NaN</td>\n",
       "      <td>NaN</td>\n",
       "      <td>None</td>\n",
       "    </tr>\n",
       "    <tr>\n",
       "      <th>p</th>\n",
       "      <td>NaN</td>\n",
       "      <td>NaN</td>\n",
       "      <td>1</td>\n",
       "    </tr>\n",
       "    <tr>\n",
       "      <th>path</th>\n",
       "      <td>NaN</td>\n",
       "      <td>NaN</td>\n",
       "      <td>[(1.040621328523116, 0.8884064211779332), (1.0...</td>\n",
       "    </tr>\n",
       "    <tr>\n",
       "      <th>real duration</th>\n",
       "      <td>NaN</td>\n",
       "      <td>NaN</td>\n",
       "      <td>2.888626</td>\n",
       "    </tr>\n",
       "    <tr>\n",
       "      <th>res</th>\n",
       "      <td>NaN</td>\n",
       "      <td>NaN</td>\n",
       "      <td>\\n        gradient_descent with general gradie...</td>\n",
       "    </tr>\n",
       "    <tr>\n",
       "      <th>steps</th>\n",
       "      <td>NaN</td>\n",
       "      <td>NaN</td>\n",
       "      <td>37</td>\n",
       "    </tr>\n",
       "    <tr>\n",
       "      <th>tollarance</th>\n",
       "      <td>NaN</td>\n",
       "      <td>NaN</td>\n",
       "      <td>0.01</td>\n",
       "    </tr>\n",
       "    <tr>\n",
       "      <th>value</th>\n",
       "      <td>NaN</td>\n",
       "      <td>NaN</td>\n",
       "      <td>-5.057147</td>\n",
       "    </tr>\n",
       "  </tbody>\n",
       "</table>\n",
       "</div>"
      ],
      "text/plain": [
       "              tdvp scipy                                   gradient_descent\n",
       "algorithm      NaN   NaN                                   gradient_descent\n",
       "delta          NaN   NaN           (0.7841055865421822, 0.3788649232939747)\n",
       "delta_0        NaN   NaN                                             (1, 1)\n",
       "instance       NaN   NaN           <MaxCut.MaxCut object at 0x7f2e9cf36890>\n",
       "message        NaN   NaN  Gradient descent solver terminated with       ...\n",
       "n              NaN   NaN                                                  3\n",
       "num_fun_calls  NaN   NaN                                               None\n",
       "p              NaN   NaN                                                  1\n",
       "path           NaN   NaN  [(1.040621328523116, 0.8884064211779332), (1.0...\n",
       "real duration  NaN   NaN                                           2.888626\n",
       "res            NaN   NaN  \\n        gradient_descent with general gradie...\n",
       "steps          NaN   NaN                                                 37\n",
       "tollarance     NaN   NaN                                               0.01\n",
       "value          NaN   NaN                                          -5.057147"
      ]
     },
     "execution_count": 11,
     "metadata": {},
     "output_type": "execute_result"
    }
   ],
   "source": [
    "# bench_instance(\n",
    "#     df.loc[5,1].instance,\n",
    "#     optimizers={\"tdvp\": False, \"scipy\": False, \"gradient_descent\": True},\n",
    "#     tollarance=1e-2,\n",
    "#     max_iter=10,\n",
    "#     max_steps=3000,\n",
    "#     tdvp_range=10,\n",
    "# )"
   ]
  },
  {
   "cell_type": "code",
   "execution_count": 6,
   "metadata": {
    "notebookRunGroups": {
     "groupValue": "1"
    },
    "pycharm": {
     "is_executing": true
    }
   },
   "outputs": [
    {
     "name": "stdout",
     "output_type": "stream",
     "text": [
      "n= 5\n",
      "Running benchmark on 20 instances with optimizers ('gradient_descent',)\n",
      "optimizing with gradient descent\n",
      "done 198\n",
      "\n",
      "optimizing with gradient descent\n",
      "done 42\n",
      "\n",
      "optimizing with gradient descent\n",
      "done 58\n",
      "\n",
      "optimizing with gradient descent\n",
      "done 2999\n",
      "\n",
      "optimizing with gradient descent\n",
      "done 144\n",
      "\n",
      "optimizing with gradient descent\n",
      "done 109\n",
      "\n",
      "optimizing with gradient descent\n",
      "done 31\n",
      "\n",
      "optimizing with gradient descent\n",
      "done 395\n",
      "\n",
      "optimizing with gradient descent\n",
      "done 23\n",
      "\n",
      "optimizing with gradient descent\n",
      "done 64\n",
      "\n",
      "optimizing with gradient descent\n",
      "done 2999\n",
      "\n",
      "optimizing with gradient descent\n",
      "done 2999\n",
      "\n",
      "optimizing with gradient descent\n",
      "done 56\n",
      "\n",
      "optimizing with gradient descent\n",
      "done 2999\n",
      "\n",
      "optimizing with gradient descent\n",
      "done 2999\n",
      "\n",
      "optimizing with gradient descent\n",
      "done 2999\n",
      "\n",
      "optimizing with gradient descent\n",
      "done 2999\n",
      "\n",
      "optimizing with gradient descent\n",
      "done 2999\n",
      "\n",
      "optimizing with gradient descent\n",
      "done 2999\n",
      "\n",
      "optimizing with gradient descent\n",
      "done 106\n",
      "\n"
     ]
    }
   ],
   "source": [
    "for n in [5]:\n",
    "    print(\"n=\",n)\n",
    "    bench_frame(\n",
    "        load_instances(n,p_min=1,p_max=2),\n",
    "        optimizers={\"tdvp\": False, \"scipy\": False, \"gradient_descent\": True},\n",
    "        path=f\"./results/n{n}results_grad.p\",\n",
    "        tollarance=1e-2,\n",
    "        max_iter=10,\n",
    "        max_steps=3000,\n",
    "        tdvp_range=10,\n",
    "    )\n"
   ]
  },
  {
   "cell_type": "code",
   "execution_count": null,
   "metadata": {
    "collapsed": false
   },
   "outputs": [],
   "source": []
  }
 ],
 "metadata": {
  "kernelspec": {
   "display_name": "Python 3.10.6 ('qutip-env')",
   "language": "python",
   "name": "python3"
  },
  "language_info": {
   "codemirror_mode": {
    "name": "ipython",
    "version": 3
   },
   "file_extension": ".py",
   "mimetype": "text/x-python",
   "name": "python",
   "nbconvert_exporter": "python",
   "pygments_lexer": "ipython3",
   "version": "3.10.6"
  },
  "orig_nbformat": 4,
  "vscode": {
   "interpreter": {
    "hash": "fe45c953e7d91ced0867b19789acd0ab1d9439aa0b1f4fae31fd46e88f74aeab"
   }
  }
 },
 "nbformat": 4,
 "nbformat_minor": 2
}
