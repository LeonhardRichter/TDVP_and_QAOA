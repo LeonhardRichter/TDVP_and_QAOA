{
  "cells": [
    {
      "cell_type": "code",
      "execution_count": 1,
      "metadata": {},
      "outputs": [],
      "source": [
        "import pickle\n",
        "\n",
        "from benchmark import bench_frame, bench_instance, load_instances, bench_looping\n",
        "from itertools import product\n",
        "import pandas as pd"
      ]
    },
    {
      "cell_type": "code",
      "execution_count": 2,
      "metadata": {},
      "outputs": [
        {
          "name": "stdout",
          "output_type": "stream",
          "text": [
            "n= 4\n",
            "Running benchmark on 30 instances with optimizers ('tdvp', 'scipy')\n",
            "optimizing with tdvp\n",
            "donestep 52\n",
            "\n",
            "(0.7825060145768947, 1.1303744630416939)\n",
            "optimizing with scipy\n",
            "Done Scipy_optim\n",
            "\n",
            "optimizing with tdvp\n",
            "donestep 73\n",
            "\n",
            "(0.7706875640639393, 0.3921558722501158)\n",
            "optimizing with scipy\n",
            "Done Scipy_optim\n",
            "\n",
            "optimizing with tdvp\n",
            "donestep 91\n",
            "\n",
            "(2.4510815456638686, 0.8622865216798898)\n",
            "optimizing with scipy\n",
            "Done Scipy_optim\n",
            "\n",
            "optimizing with tdvp\n",
            "rhs step 15\r"
          ]
        }
      ],
      "source": [
        "for n in range(4, 9, 2):\n",
        "    print(\"n=\",n)\n",
        "    bench_looping(\n",
        "        load_instances(n),\n",
        "        optimizers={\"tdvp\": True, \"scipy\": True, \"gradient_descent\": False},\n",
        "        path=f\"./results/n{n}_results.p\",\n",
        "    )\n"
      ]
    },
    {
      "cell_type": "code",
      "execution_count": null,
      "metadata": {},
      "outputs": [],
      "source": []
    }
  ],
  "metadata": {
    "kernelspec": {
      "display_name": "Python 3.10.6 ('qutip-env')",
      "language": "python",
      "name": "python3"
    },
    "language_info": {
      "codemirror_mode": {
        "name": "ipython",
        "version": 3
      },
      "file_extension": ".py",
      "mimetype": "text/x-python",
      "name": "python",
      "nbconvert_exporter": "python",
      "pygments_lexer": "ipython3",
      "version": "3.10.6"
    },
    "orig_nbformat": 4,
    "vscode": {
      "interpreter": {
        "hash": "fe45c953e7d91ced0867b19789acd0ab1d9439aa0b1f4fae31fd46e88f74aeab"
      }
    }
  },
  "nbformat": 4,
  "nbformat_minor": 2
}
