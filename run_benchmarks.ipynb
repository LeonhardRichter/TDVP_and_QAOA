{
 "cells": [
  {
   "cell_type": "code",
   "execution_count": 1,
   "metadata": {},
   "outputs": [],
   "source": [
    "import pickle\n",
    "\n",
    "from benchmark import bench_frame, bench_instance\n",
    "from itertools import product\n",
    "import pandas as pd"
   ]
  },
  {
   "cell_type": "code",
   "execution_count": 1,
   "metadata": {},
   "outputs": [
    {
     "ename": "NameError",
     "evalue": "name 'pickle' is not defined",
     "output_type": "error",
     "traceback": [
      "\u001b[0;31m---------------------------------------------------------------------------\u001b[0m",
      "\u001b[0;31mNameError\u001b[0m                                 Traceback (most recent call last)",
      "Cell \u001b[0;32mIn [1], line 3\u001b[0m\n\u001b[1;32m      1\u001b[0m n \u001b[39m=\u001b[39m \u001b[39m6\u001b[39m\n\u001b[1;32m      2\u001b[0m \u001b[39mwith\u001b[39;00m \u001b[39mopen\u001b[39m(\u001b[39mf\u001b[39m\u001b[39m\"\u001b[39m\u001b[39m./instances/n\u001b[39m\u001b[39m{\u001b[39;00mn\u001b[39m}\u001b[39;00m\u001b[39m_instances.p\u001b[39m\u001b[39m\"\u001b[39m,\u001b[39m\"\u001b[39m\u001b[39mrb\u001b[39m\u001b[39m\"\u001b[39m) \u001b[39mas\u001b[39;00m f:\n\u001b[0;32m----> 3\u001b[0m     instances \u001b[39m=\u001b[39m pickle\u001b[39m.\u001b[39mload(f)\n\u001b[1;32m      5\u001b[0m instances \u001b[39m=\u001b[39m \u001b[39mdict\u001b[39m(\u001b[39menumerate\u001b[39m(instances))\n\u001b[1;32m      7\u001b[0m arrays\u001b[39m=\u001b[39m[\n\u001b[1;32m      8\u001b[0m     \u001b[39mlist\u001b[39m(\u001b[39mrange\u001b[39m(\u001b[39m1\u001b[39m,\u001b[39m6\u001b[39m)),\n\u001b[1;32m      9\u001b[0m     \u001b[39mlist\u001b[39m(instances\u001b[39m.\u001b[39mkeys()),\n\u001b[1;32m     10\u001b[0m ]\n",
      "\u001b[0;31mNameError\u001b[0m: name 'pickle' is not defined"
     ]
    }
   ],
   "source": [
    "n = 6\n",
    "with open(f\"./instances/n{n}_instances.p\",\"rb\") as f:\n",
    "    instances = pickle.load(f)\n",
    "\n",
    "instances = dict(enumerate(instances))\n",
    "\n",
    "arrays=[\n",
    "    list(range(1,6)),\n",
    "    list(instances.keys()),\n",
    "]\n",
    "\n",
    "tuples = product(*arrays)\n",
    "index = pd.MultiIndex.from_tuples(tuples, names=[\"p\",\"i\"])\n",
    "df = pd.DataFrame(index=index, columns=[\"instance\", 'tdvp', 'scipy', 'gradient_descent'])\n",
    "# df['instances'] = df.apply(lambda x: 0, axis=0)\n",
    "for (p,i) in df.index:\n",
    "    df['instance'][(p,i)] = instances[i]\n",
    "df"
   ]
  },
  {
   "cell_type": "code",
   "execution_count": 3,
   "metadata": {},
   "outputs": [
    {
     "name": "stdout",
     "output_type": "stream",
     "text": [
      "Running benchmark on instance with 5 with optimizers <generator object bench_instance.<locals>.<genexpr> at 0x7f4ecb9cdbd0>\n",
      "optimizing with tdvp\n",
      "rhs step 1\r"
     ]
    },
    {
     "ename": "OSError",
     "evalue": "[Errno 28] No space left on device",
     "output_type": "error",
     "traceback": [
      "\u001b[0;31m---------------------------------------------------------------------------\u001b[0m",
      "\u001b[0;31mOSError\u001b[0m                                   Traceback (most recent call last)",
      "Cell \u001b[0;32mIn [3], line 1\u001b[0m\n\u001b[0;32m----> 1\u001b[0m bench_instance(\n\u001b[1;32m      2\u001b[0m     df[\u001b[39m\"\u001b[39;49m\u001b[39minstance\u001b[39;49m\u001b[39m\"\u001b[39;49m]\u001b[39m.\u001b[39;49mloc[\u001b[39m5\u001b[39;49m, \u001b[39m0\u001b[39;49m],\n\u001b[1;32m      3\u001b[0m     p\u001b[39m=\u001b[39;49m\u001b[39m5\u001b[39;49m,\n\u001b[1;32m      4\u001b[0m     tollarance\u001b[39m=\u001b[39;49m\u001b[39m0.1\u001b[39;49m,\n\u001b[1;32m      5\u001b[0m     optimizers\u001b[39m=\u001b[39;49m{\u001b[39m\"\u001b[39;49m\u001b[39mtdvp\u001b[39;49m\u001b[39m\"\u001b[39;49m: \u001b[39mTrue\u001b[39;49;00m, \u001b[39m\"\u001b[39;49m\u001b[39mscipy\u001b[39;49m\u001b[39m\"\u001b[39;49m: \u001b[39mTrue\u001b[39;49;00m, \u001b[39m\"\u001b[39;49m\u001b[39mgradient_descent\u001b[39;49m\u001b[39m\"\u001b[39;49m: \u001b[39mFalse\u001b[39;49;00m},\n\u001b[1;32m      6\u001b[0m )\n",
      "File \u001b[0;32m/workspaces/TDVP_and_QAOA/benchmark.py:326\u001b[0m, in \u001b[0;36mbench_instance\u001b[0;34m(input, p, optimizers, tollarance, auto_save, path, print_msg)\u001b[0m\n\u001b[1;32m    324\u001b[0m \u001b[39mif\u001b[39;00m optimizers\u001b[39m.\u001b[39mget(\u001b[39m\"\u001b[39m\u001b[39mtdvp\u001b[39m\u001b[39m\"\u001b[39m, \u001b[39mFalse\u001b[39;00m):\n\u001b[1;32m    325\u001b[0m     \u001b[39mprint\u001b[39m(\u001b[39m\"\u001b[39m\u001b[39moptimizing with tdvp\u001b[39m\u001b[39m\"\u001b[39m)\n\u001b[0;32m--> 326\u001b[0m     tdvp_res \u001b[39m=\u001b[39m tdvp_optimize_qaoa(\n\u001b[1;32m    327\u001b[0m         qaoa\u001b[39m=\u001b[39;49mqaoa,\n\u001b[1;32m    328\u001b[0m         delta_0\u001b[39m=\u001b[39;49mdelta_0,\n\u001b[1;32m    329\u001b[0m         Delta\u001b[39m=\u001b[39;49m\u001b[39m100\u001b[39;49m,\n\u001b[1;32m    330\u001b[0m         grad_tol\u001b[39m=\u001b[39;49mtollarance,\n\u001b[1;32m    331\u001b[0m         int_mode\u001b[39m=\u001b[39;49m\u001b[39m\"\u001b[39;49m\u001b[39mRK45\u001b[39;49m\u001b[39m\"\u001b[39;49m,\n\u001b[1;32m    332\u001b[0m         max_iter\u001b[39m=\u001b[39;49m\u001b[39m100\u001b[39;49m,\n\u001b[1;32m    333\u001b[0m     )\n\u001b[1;32m    334\u001b[0m     results[\u001b[39m\"\u001b[39m\u001b[39mtdvp\u001b[39m\u001b[39m\"\u001b[39m] \u001b[39m=\u001b[39m tdvp_res\n\u001b[1;32m    336\u001b[0m \u001b[39mif\u001b[39;00m optimizers\u001b[39m.\u001b[39mget(\u001b[39m\"\u001b[39m\u001b[39mscipy\u001b[39m\u001b[39m\"\u001b[39m, \u001b[39mFalse\u001b[39;00m):\n",
      "File \u001b[0;32m/workspaces/TDVP_and_QAOA/qaoa_and_tdvp.py:1182\u001b[0m, in \u001b[0;36mtdvp_optimize_qaoa\u001b[0;34m(qaoa, delta_0, Delta, rhs_mode, int_mode, grad_tol, max_iter, num_of_path_points)\u001b[0m\n\u001b[1;32m   1180\u001b[0m \u001b[39mwhile\u001b[39;00m go_on \u001b[39mand\u001b[39;00m \u001b[39miter\u001b[39m \u001b[39m<\u001b[39m max_iter:\n\u001b[1;32m   1181\u001b[0m     \u001b[39miter\u001b[39m \u001b[39m+\u001b[39m\u001b[39m=\u001b[39m \u001b[39m1\u001b[39m\n\u001b[0;32m-> 1182\u001b[0m     int_result \u001b[39m=\u001b[39m integrate\u001b[39m.\u001b[39;49msolve_ivp(\n\u001b[1;32m   1183\u001b[0m         fun\u001b[39m=\u001b[39;49mtdvp_rhs,\n\u001b[1;32m   1184\u001b[0m         t_span\u001b[39m=\u001b[39;49m(t_0, t_1),\n\u001b[1;32m   1185\u001b[0m         y0\u001b[39m=\u001b[39;49mdelta,\n\u001b[1;32m   1186\u001b[0m         method\u001b[39m=\u001b[39;49mint_mode,\n\u001b[1;32m   1187\u001b[0m         \u001b[39m# t_eval=eval_points,\u001b[39;49;00m\n\u001b[1;32m   1188\u001b[0m         events\u001b[39m=\u001b[39;49m[\n\u001b[1;32m   1189\u001b[0m             tdvp_terminal,  \u001b[39m# tdvp_max_steps\u001b[39;49;00m\n\u001b[1;32m   1190\u001b[0m         ],\n\u001b[1;32m   1191\u001b[0m     )\n\u001b[1;32m   1192\u001b[0m     nfev \u001b[39m+\u001b[39m\u001b[39m=\u001b[39m int_result\u001b[39m.\u001b[39mnfev\n\u001b[1;32m   1193\u001b[0m     times\u001b[39m.\u001b[39mextend(int_result\u001b[39m.\u001b[39mt)\n",
      "File \u001b[0;32m/opt/conda/envs/qutip/lib/python3.10/site-packages/scipy/integrate/_ivp/ivp.py:555\u001b[0m, in \u001b[0;36msolve_ivp\u001b[0;34m(fun, t_span, y0, method, t_eval, dense_output, events, vectorized, args, **options)\u001b[0m\n\u001b[1;32m    552\u001b[0m \u001b[39mif\u001b[39;00m method \u001b[39min\u001b[39;00m METHODS:\n\u001b[1;32m    553\u001b[0m     method \u001b[39m=\u001b[39m METHODS[method]\n\u001b[0;32m--> 555\u001b[0m solver \u001b[39m=\u001b[39m method(fun, t0, y0, tf, vectorized\u001b[39m=\u001b[39;49mvectorized, \u001b[39m*\u001b[39;49m\u001b[39m*\u001b[39;49moptions)\n\u001b[1;32m    557\u001b[0m \u001b[39mif\u001b[39;00m t_eval \u001b[39mis\u001b[39;00m \u001b[39mNone\u001b[39;00m:\n\u001b[1;32m    558\u001b[0m     ts \u001b[39m=\u001b[39m [t0]\n",
      "File \u001b[0;32m/opt/conda/envs/qutip/lib/python3.10/site-packages/scipy/integrate/_ivp/rk.py:94\u001b[0m, in \u001b[0;36mRungeKutta.__init__\u001b[0;34m(self, fun, t0, y0, t_bound, max_step, rtol, atol, vectorized, first_step, **extraneous)\u001b[0m\n\u001b[1;32m     92\u001b[0m \u001b[39mself\u001b[39m\u001b[39m.\u001b[39mmax_step \u001b[39m=\u001b[39m validate_max_step(max_step)\n\u001b[1;32m     93\u001b[0m \u001b[39mself\u001b[39m\u001b[39m.\u001b[39mrtol, \u001b[39mself\u001b[39m\u001b[39m.\u001b[39matol \u001b[39m=\u001b[39m validate_tol(rtol, atol, \u001b[39mself\u001b[39m\u001b[39m.\u001b[39mn)\n\u001b[0;32m---> 94\u001b[0m \u001b[39mself\u001b[39m\u001b[39m.\u001b[39mf \u001b[39m=\u001b[39m \u001b[39mself\u001b[39;49m\u001b[39m.\u001b[39;49mfun(\u001b[39mself\u001b[39;49m\u001b[39m.\u001b[39;49mt, \u001b[39mself\u001b[39;49m\u001b[39m.\u001b[39;49my)\n\u001b[1;32m     95\u001b[0m \u001b[39mif\u001b[39;00m first_step \u001b[39mis\u001b[39;00m \u001b[39mNone\u001b[39;00m:\n\u001b[1;32m     96\u001b[0m     \u001b[39mself\u001b[39m\u001b[39m.\u001b[39mh_abs \u001b[39m=\u001b[39m select_initial_step(\n\u001b[1;32m     97\u001b[0m         \u001b[39mself\u001b[39m\u001b[39m.\u001b[39mfun, \u001b[39mself\u001b[39m\u001b[39m.\u001b[39mt, \u001b[39mself\u001b[39m\u001b[39m.\u001b[39my, \u001b[39mself\u001b[39m\u001b[39m.\u001b[39mf, \u001b[39mself\u001b[39m\u001b[39m.\u001b[39mdirection,\n\u001b[1;32m     98\u001b[0m         \u001b[39mself\u001b[39m\u001b[39m.\u001b[39merror_estimator_order, \u001b[39mself\u001b[39m\u001b[39m.\u001b[39mrtol, \u001b[39mself\u001b[39m\u001b[39m.\u001b[39matol)\n",
      "File \u001b[0;32m/opt/conda/envs/qutip/lib/python3.10/site-packages/scipy/integrate/_ivp/base.py:138\u001b[0m, in \u001b[0;36mOdeSolver.__init__.<locals>.fun\u001b[0;34m(t, y)\u001b[0m\n\u001b[1;32m    136\u001b[0m \u001b[39mdef\u001b[39;00m \u001b[39mfun\u001b[39m(t, y):\n\u001b[1;32m    137\u001b[0m     \u001b[39mself\u001b[39m\u001b[39m.\u001b[39mnfev \u001b[39m+\u001b[39m\u001b[39m=\u001b[39m \u001b[39m1\u001b[39m\n\u001b[0;32m--> 138\u001b[0m     \u001b[39mreturn\u001b[39;00m \u001b[39mself\u001b[39;49m\u001b[39m.\u001b[39;49mfun_single(t, y)\n",
      "File \u001b[0;32m/opt/conda/envs/qutip/lib/python3.10/site-packages/scipy/integrate/_ivp/base.py:20\u001b[0m, in \u001b[0;36mcheck_arguments.<locals>.fun_wrapped\u001b[0;34m(t, y)\u001b[0m\n\u001b[1;32m     19\u001b[0m \u001b[39mdef\u001b[39;00m \u001b[39mfun_wrapped\u001b[39m(t, y):\n\u001b[0;32m---> 20\u001b[0m     \u001b[39mreturn\u001b[39;00m np\u001b[39m.\u001b[39masarray(fun(t, y), dtype\u001b[39m=\u001b[39mdtype)\n",
      "File \u001b[0;32m/workspaces/TDVP_and_QAOA/qaoa_and_tdvp.py:1115\u001b[0m, in \u001b[0;36mtdvp_optimize_qaoa.<locals>.tdvp_rhs\u001b[0;34m(t, x)\u001b[0m\n\u001b[1;32m   1113\u001b[0m rhs_step \u001b[39m+\u001b[39m\u001b[39m=\u001b[39m \u001b[39m1\u001b[39m\n\u001b[1;32m   1114\u001b[0m \u001b[39mprint\u001b[39m(\u001b[39mf\u001b[39m\u001b[39m\"\u001b[39m\u001b[39mrhs step \u001b[39m\u001b[39m{\u001b[39;00mrhs_step\u001b[39m}\u001b[39;00m\u001b[39m\"\u001b[39m, end\u001b[39m=\u001b[39m\u001b[39m\"\u001b[39m\u001b[39m\\r\u001b[39;00m\u001b[39m\"\u001b[39m)\n\u001b[0;32m-> 1115\u001b[0m \u001b[39mreturn\u001b[39;00m qaoa_tdvp_rhs(t, x, qaoa)\n",
      "File \u001b[0;32m/workspaces/TDVP_and_QAOA/qaoa_and_tdvp.py:993\u001b[0m, in \u001b[0;36mqaoa_tdvp_rhs\u001b[0;34m(t, x, qaoa)\u001b[0m\n\u001b[1;32m    981\u001b[0m \u001b[39m\"\"\"right hand side of linear equation system of tdvp. In the right format for the scipy solvers.\u001b[39;00m\n\u001b[1;32m    982\u001b[0m \u001b[39mUses the qaoa class to calculate the gradient and gram matrix.\u001b[39;00m\n\u001b[1;32m    983\u001b[0m \u001b[39mInverts the gram matrix using the scipy linalg.inv.\u001b[39;00m\n\u001b[0;32m   (...)\u001b[0m\n\u001b[1;32m    990\u001b[0m \u001b[39m    NDArray: the matrix defining the RHS of the equation\u001b[39;00m\n\u001b[1;32m    991\u001b[0m \u001b[39m\"\"\"\u001b[39;00m\n\u001b[1;32m    992\u001b[0m _ \u001b[39m=\u001b[39m t\n\u001b[0;32m--> 993\u001b[0m inv_real_gram \u001b[39m=\u001b[39m linalg\u001b[39m.\u001b[39minv(\u001b[39m2\u001b[39m \u001b[39m*\u001b[39m np\u001b[39m.\u001b[39mreal(qaoa\u001b[39m.\u001b[39;49mgram(x)))\n\u001b[1;32m    994\u001b[0m real_grad \u001b[39m=\u001b[39m \u001b[39m2\u001b[39m \u001b[39m*\u001b[39m np\u001b[39m.\u001b[39mreal(qaoa\u001b[39m.\u001b[39mgrad(x))\n\u001b[1;32m    995\u001b[0m \u001b[39mreturn\u001b[39;00m np\u001b[39m.\u001b[39marray(\u001b[39m-\u001b[39minv_real_gram \u001b[39m*\u001b[39m real_grad\u001b[39m.\u001b[39mT)\u001b[39m.\u001b[39mflatten()\n",
      "File \u001b[0;32m/workspaces/TDVP_and_QAOA/qaoa_and_tdvp.py:546\u001b[0m, in \u001b[0;36mQAOA.gram\u001b[0;34m(self, delta)\u001b[0m\n\u001b[1;32m    543\u001b[0m gram \u001b[39m=\u001b[39m np\u001b[39m.\u001b[39mzeros((\u001b[39m2\u001b[39m \u001b[39m*\u001b[39m \u001b[39mself\u001b[39m\u001b[39m.\u001b[39mp, \u001b[39m2\u001b[39m \u001b[39m*\u001b[39m \u001b[39mself\u001b[39m\u001b[39m.\u001b[39mp), dtype\u001b[39m=\u001b[39mnp\u001b[39m.\u001b[39mcomplex128)\n\u001b[1;32m    544\u001b[0m \u001b[39m# populate the upper triangular part and diagonal of the gram matrix using self._Gij\u001b[39;00m\n\u001b[1;32m    545\u001b[0m \u001b[39m# np.triu_indices returns the indices of the upper triangular part of a matrix\u001b[39;00m\n\u001b[0;32m--> 546\u001b[0m gram[np\u001b[39m.\u001b[39mtriu_indices(\u001b[39m2\u001b[39m \u001b[39m*\u001b[39m \u001b[39mself\u001b[39m\u001b[39m.\u001b[39mp)] \u001b[39m=\u001b[39m \u001b[39mself\u001b[39;49m\u001b[39m.\u001b[39;49mmapping(\n\u001b[1;32m    547\u001b[0m     task\u001b[39m=\u001b[39;49m\u001b[39mself\u001b[39;49m\u001b[39m.\u001b[39;49m_Gij,\n\u001b[1;32m    548\u001b[0m     values\u001b[39m=\u001b[39;49m\u001b[39mlist\u001b[39;49m(\n\u001b[1;32m    549\u001b[0m         combinations_with_replacement(\u001b[39mrange\u001b[39;49m(\u001b[39m2\u001b[39;49m \u001b[39m*\u001b[39;49m \u001b[39mself\u001b[39;49m\u001b[39m.\u001b[39;49mp), r\u001b[39m=\u001b[39;49m\u001b[39m2\u001b[39;49m)\n\u001b[1;32m    550\u001b[0m     ),  \u001b[39m# all combinations of indices, including the diagonal\u001b[39;49;00m\n\u001b[1;32m    551\u001b[0m     task_args\u001b[39m=\u001b[39;49m(delta,),\n\u001b[1;32m    552\u001b[0m )\n\u001b[1;32m    553\u001b[0m \u001b[39m# use that the gram matrix is hermetian\u001b[39;00m\n\u001b[1;32m    554\u001b[0m \u001b[39m# np.tril_indices returns the indices of the lower triangular part of a matrix, -1 to exclude the diagonal\u001b[39;00m\n\u001b[1;32m    555\u001b[0m gram \u001b[39m=\u001b[39m gram \u001b[39m+\u001b[39m np\u001b[39m.\u001b[39mconj(gram\u001b[39m.\u001b[39mT) \u001b[39m-\u001b[39m np\u001b[39m.\u001b[39mdiag(gram\u001b[39m.\u001b[39mdiagonal())\n",
      "File \u001b[0;32m/opt/conda/envs/qutip/lib/python3.10/site-packages/qutip/parallel.py:213\u001b[0m, in \u001b[0;36mparallel_map\u001b[0;34m(task, values, task_args, task_kwargs, **kwargs)\u001b[0m\n\u001b[1;32m    210\u001b[0m     progress_bar\u001b[39m.\u001b[39mupdate(nfinished[\u001b[39m0\u001b[39m])\n\u001b[1;32m    212\u001b[0m \u001b[39mtry\u001b[39;00m:\n\u001b[0;32m--> 213\u001b[0m     pool \u001b[39m=\u001b[39m Pool(processes\u001b[39m=\u001b[39;49mkw[\u001b[39m'\u001b[39;49m\u001b[39mnum_cpus\u001b[39;49m\u001b[39m'\u001b[39;49m])\n\u001b[1;32m    215\u001b[0m     async_res \u001b[39m=\u001b[39m [pool\u001b[39m.\u001b[39mapply_async(task, (value,) \u001b[39m+\u001b[39m task_args, task_kwargs,\n\u001b[1;32m    216\u001b[0m                                   _update_progress_bar)\n\u001b[1;32m    217\u001b[0m                  \u001b[39mfor\u001b[39;00m value \u001b[39min\u001b[39;00m values]\n\u001b[1;32m    219\u001b[0m     \u001b[39mwhile\u001b[39;00m \u001b[39mnot\u001b[39;00m \u001b[39mall\u001b[39m([ar\u001b[39m.\u001b[39mready() \u001b[39mfor\u001b[39;00m ar \u001b[39min\u001b[39;00m async_res]):\n",
      "File \u001b[0;32m/opt/conda/envs/qutip/lib/python3.10/multiprocessing/context.py:119\u001b[0m, in \u001b[0;36mBaseContext.Pool\u001b[0;34m(self, processes, initializer, initargs, maxtasksperchild)\u001b[0m\n\u001b[1;32m    117\u001b[0m \u001b[39m'''Returns a process pool object'''\u001b[39;00m\n\u001b[1;32m    118\u001b[0m \u001b[39mfrom\u001b[39;00m \u001b[39m.\u001b[39;00m\u001b[39mpool\u001b[39;00m \u001b[39mimport\u001b[39;00m Pool\n\u001b[0;32m--> 119\u001b[0m \u001b[39mreturn\u001b[39;00m Pool(processes, initializer, initargs, maxtasksperchild,\n\u001b[1;32m    120\u001b[0m             context\u001b[39m=\u001b[39;49m\u001b[39mself\u001b[39;49m\u001b[39m.\u001b[39;49mget_context())\n",
      "File \u001b[0;32m/opt/conda/envs/qutip/lib/python3.10/multiprocessing/pool.py:196\u001b[0m, in \u001b[0;36mPool.__init__\u001b[0;34m(self, processes, initializer, initargs, maxtasksperchild, context)\u001b[0m\n\u001b[1;32m    192\u001b[0m \u001b[39mself\u001b[39m\u001b[39m.\u001b[39m_taskqueue \u001b[39m=\u001b[39m queue\u001b[39m.\u001b[39mSimpleQueue()\n\u001b[1;32m    193\u001b[0m \u001b[39m# The _change_notifier queue exist to wake up self._handle_workers()\u001b[39;00m\n\u001b[1;32m    194\u001b[0m \u001b[39m# when the cache (self._cache) is empty or when there is a change in\u001b[39;00m\n\u001b[1;32m    195\u001b[0m \u001b[39m# the _state variable of the thread that runs _handle_workers.\u001b[39;00m\n\u001b[0;32m--> 196\u001b[0m \u001b[39mself\u001b[39m\u001b[39m.\u001b[39m_change_notifier \u001b[39m=\u001b[39m \u001b[39mself\u001b[39;49m\u001b[39m.\u001b[39;49m_ctx\u001b[39m.\u001b[39;49mSimpleQueue()\n\u001b[1;32m    197\u001b[0m \u001b[39mself\u001b[39m\u001b[39m.\u001b[39m_cache \u001b[39m=\u001b[39m _PoolCache(notifier\u001b[39m=\u001b[39m\u001b[39mself\u001b[39m\u001b[39m.\u001b[39m_change_notifier)\n\u001b[1;32m    198\u001b[0m \u001b[39mself\u001b[39m\u001b[39m.\u001b[39m_maxtasksperchild \u001b[39m=\u001b[39m maxtasksperchild\n",
      "File \u001b[0;32m/opt/conda/envs/qutip/lib/python3.10/multiprocessing/context.py:113\u001b[0m, in \u001b[0;36mBaseContext.SimpleQueue\u001b[0;34m(self)\u001b[0m\n\u001b[1;32m    111\u001b[0m \u001b[39m'''Returns a queue object'''\u001b[39;00m\n\u001b[1;32m    112\u001b[0m \u001b[39mfrom\u001b[39;00m \u001b[39m.\u001b[39;00m\u001b[39mqueues\u001b[39;00m \u001b[39mimport\u001b[39;00m SimpleQueue\n\u001b[0;32m--> 113\u001b[0m \u001b[39mreturn\u001b[39;00m SimpleQueue(ctx\u001b[39m=\u001b[39;49m\u001b[39mself\u001b[39;49m\u001b[39m.\u001b[39;49mget_context())\n",
      "File \u001b[0;32m/opt/conda/envs/qutip/lib/python3.10/multiprocessing/queues.py:346\u001b[0m, in \u001b[0;36mSimpleQueue.__init__\u001b[0;34m(self, ctx)\u001b[0m\n\u001b[1;32m    344\u001b[0m     \u001b[39mself\u001b[39m\u001b[39m.\u001b[39m_wlock \u001b[39m=\u001b[39m \u001b[39mNone\u001b[39;00m\n\u001b[1;32m    345\u001b[0m \u001b[39melse\u001b[39;00m:\n\u001b[0;32m--> 346\u001b[0m     \u001b[39mself\u001b[39m\u001b[39m.\u001b[39m_wlock \u001b[39m=\u001b[39m ctx\u001b[39m.\u001b[39;49mLock()\n",
      "File \u001b[0;32m/opt/conda/envs/qutip/lib/python3.10/multiprocessing/context.py:68\u001b[0m, in \u001b[0;36mBaseContext.Lock\u001b[0;34m(self)\u001b[0m\n\u001b[1;32m     66\u001b[0m \u001b[39m'''Returns a non-recursive lock object'''\u001b[39;00m\n\u001b[1;32m     67\u001b[0m \u001b[39mfrom\u001b[39;00m \u001b[39m.\u001b[39;00m\u001b[39msynchronize\u001b[39;00m \u001b[39mimport\u001b[39;00m Lock\n\u001b[0;32m---> 68\u001b[0m \u001b[39mreturn\u001b[39;00m Lock(ctx\u001b[39m=\u001b[39;49m\u001b[39mself\u001b[39;49m\u001b[39m.\u001b[39;49mget_context())\n",
      "File \u001b[0;32m/opt/conda/envs/qutip/lib/python3.10/multiprocessing/synchronize.py:162\u001b[0m, in \u001b[0;36mLock.__init__\u001b[0;34m(self, ctx)\u001b[0m\n\u001b[1;32m    161\u001b[0m \u001b[39mdef\u001b[39;00m \u001b[39m__init__\u001b[39m(\u001b[39mself\u001b[39m, \u001b[39m*\u001b[39m, ctx):\n\u001b[0;32m--> 162\u001b[0m     SemLock\u001b[39m.\u001b[39;49m\u001b[39m__init__\u001b[39;49m(\u001b[39mself\u001b[39;49m, SEMAPHORE, \u001b[39m1\u001b[39;49m, \u001b[39m1\u001b[39;49m, ctx\u001b[39m=\u001b[39;49mctx)\n",
      "File \u001b[0;32m/opt/conda/envs/qutip/lib/python3.10/multiprocessing/synchronize.py:57\u001b[0m, in \u001b[0;36mSemLock.__init__\u001b[0;34m(self, kind, value, maxvalue, ctx)\u001b[0m\n\u001b[1;32m     55\u001b[0m \u001b[39mfor\u001b[39;00m i \u001b[39min\u001b[39;00m \u001b[39mrange\u001b[39m(\u001b[39m100\u001b[39m):\n\u001b[1;32m     56\u001b[0m     \u001b[39mtry\u001b[39;00m:\n\u001b[0;32m---> 57\u001b[0m         sl \u001b[39m=\u001b[39m \u001b[39mself\u001b[39m\u001b[39m.\u001b[39m_semlock \u001b[39m=\u001b[39m _multiprocessing\u001b[39m.\u001b[39;49mSemLock(\n\u001b[1;32m     58\u001b[0m             kind, value, maxvalue, \u001b[39mself\u001b[39;49m\u001b[39m.\u001b[39;49m_make_name(),\n\u001b[1;32m     59\u001b[0m             unlink_now)\n\u001b[1;32m     60\u001b[0m     \u001b[39mexcept\u001b[39;00m \u001b[39mFileExistsError\u001b[39;00m:\n\u001b[1;32m     61\u001b[0m         \u001b[39mpass\u001b[39;00m\n",
      "\u001b[0;31mOSError\u001b[0m: [Errno 28] No space left on device"
     ]
    }
   ],
   "source": [
    "bench_instance(\n",
    "    df[\"instance\"].loc[5, 0],\n",
    "    p=5,\n",
    "    tollarance=0.1,\n",
    "    optimizers={\"tdvp\": True, \"scipy\": True, \"gradient_descent\": False},\n",
    ")\n"
   ]
  },
  {
   "cell_type": "code",
   "execution_count": null,
   "metadata": {},
   "outputs": [],
   "source": [
    "results = bench_frame(\n",
    "    df,\n",
    "    optimizers={\"tdvp\": True, \"scipy\": True, \"gradient_descent\": False},\n",
    "    path=f\"./results/n{n}_results.p\",\n",
    ")\n"
   ]
  },
  {
   "cell_type": "code",
   "execution_count": null,
   "metadata": {},
   "outputs": [],
   "source": []
  }
 ],
 "metadata": {
  "kernelspec": {
   "display_name": "Python 3.10.6 ('qutip-env')",
   "language": "python",
   "name": "python3"
  },
  "language_info": {
   "codemirror_mode": {
    "name": "ipython",
    "version": 3
   },
   "file_extension": ".py",
   "mimetype": "text/x-python",
   "name": "python",
   "nbconvert_exporter": "python",
   "pygments_lexer": "ipython3",
   "version": "3.10.6"
  },
  "orig_nbformat": 4,
  "vscode": {
   "interpreter": {
    "hash": "fe45c953e7d91ced0867b19789acd0ab1d9439aa0b1f4fae31fd46e88f74aeab"
   }
  }
 },
 "nbformat": 4,
 "nbformat_minor": 2
}
