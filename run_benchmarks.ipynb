{
  "cells": [
    {
      "cell_type": "code",
      "execution_count": 1,
      "metadata": {},
      "outputs": [],
      "source": [
        "import pickle\n",
        "\n",
        "from benchmark import bench_frame, bench_instance, load_instances\n",
        "from itertools import product\n",
        "import pandas as pd"
      ]
    },
    {
      "cell_type": "code",
      "execution_count": 1,
      "metadata": {},
      "outputs": [
        {
          "name": "stdout",
          "output_type": "stream",
          "text": [
            "n= 4\n",
            "Running benchmark on 30 instances with optimizers ('tdvp', 'scipy')\n",
            "optimizing with tdvp\n",
            "donestep 61\n",
            "\n",
            "(0.782506014576895, 1.1303744630416939)\n",
            "optimizing with scipy\n",
            "Done Scipy_optim\n",
            "\n",
            "optimizing with tdvp\n",
            "donestep 76\n",
            "\n",
            "(0.7706875640639392, 0.39215587225011517)\n",
            "optimizing with scipy\n",
            "Done Scipy_optim\n",
            "\n",
            "optimizing with tdvp\n",
            "donestep 90\n",
            "\n",
            "(2.451081545663867, 0.8622865216798915)\n",
            "optimizing with scipy\n",
            "Done Scipy_optim\n",
            "\n",
            "optimizing with tdvp\n",
            "donestep 75\n",
            "\n",
            "(0.7808545793012707, 0.36175275725318606)\n",
            "optimizing with scipy\n",
            "Done Scipy_optim\n",
            "\n",
            "optimizing with tdvp\n",
            "donestep 82\n",
            "\n",
            "(0.6746001186805993, 1.2975793376790994)\n",
            "optimizing with scipy\n",
            "Done Scipy_optim\n",
            "\n",
            "optimizing with tdvp\n",
            "donestep 159\n",
            "\n",
            "(0.6523405623530965, 1.2384005378371181)\n",
            "optimizing with scipy\n",
            "Done Scipy_optim\n",
            "\n",
            "optimizing with tdvp\n",
            "rhs step 7\r"
          ]
        }
      ],
      "source": [
        "for n in range(4, 9, 2):\n",
        "    print(\"n=\",n)\n",
        "    bench_frame(\n",
        "        load_instances(n),\n",
        "        optimizers={\"tdvp\": True, \"scipy\": True, \"gradient_descent\": False},\n",
        "        path=f\"./results/n{n}_results.p\",\n",
        "    )\n"
      ]
    },
    {
      "cell_type": "code",
      "execution_count": null,
      "metadata": {},
      "outputs": [],
      "source": []
    }
  ],
  "metadata": {
    "kernelspec": {
      "display_name": "Python 3.10.6 ('qutip-env')",
      "language": "python",
      "name": "python3"
    },
    "language_info": {
      "codemirror_mode": {
        "name": "ipython",
        "version": 3
      },
      "file_extension": ".py",
      "mimetype": "text/x-python",
      "name": "python",
      "nbconvert_exporter": "python",
      "pygments_lexer": "ipython3",
      "version": "3.10.6"
    },
    "orig_nbformat": 4,
    "vscode": {
      "interpreter": {
        "hash": "fe45c953e7d91ced0867b19789acd0ab1d9439aa0b1f4fae31fd46e88f74aeab"
      }
    }
  },
  "nbformat": 4,
  "nbformat_minor": 2
}
