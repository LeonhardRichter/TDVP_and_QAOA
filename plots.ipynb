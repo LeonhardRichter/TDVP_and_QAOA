{
 "cells": [
  {
   "cell_type": "code",
   "execution_count": 3,
   "metadata": {
    "collapsed": true
   },
   "outputs": [],
   "source": [
    "import pickle\n",
    "import matplotlib.pyplot as plt\n",
    "import pandas as pd\n",
    "import plotly.express as px\n",
    "import plotly.graph_objects as go\n",
    "from qaoa_and_tdvp import QAOAResult\n",
    "import math\n"
   ]
  },
  {
   "cell_type": "code",
   "execution_count": 4,
   "metadata": {
    "collapsed": false
   },
   "outputs": [],
   "source": [
    "n=4"
   ]
  },
  {
   "cell_type": "code",
   "execution_count": 5,
   "metadata": {
    "collapsed": false
   },
   "outputs": [
    {
     "data": {
      "text/html": [
       "<div>\n",
       "<style scoped>\n",
       "    .dataframe tbody tr th:only-of-type {\n",
       "        vertical-align: middle;\n",
       "    }\n",
       "\n",
       "    .dataframe tbody tr th {\n",
       "        vertical-align: top;\n",
       "    }\n",
       "\n",
       "    .dataframe thead th {\n",
       "        text-align: right;\n",
       "    }\n",
       "</style>\n",
       "<table border=\"1\" class=\"dataframe\">\n",
       "  <thead>\n",
       "    <tr style=\"text-align: right;\">\n",
       "      <th></th>\n",
       "      <th></th>\n",
       "      <th>instance</th>\n",
       "      <th>tdvp</th>\n",
       "      <th>scipy</th>\n",
       "      <th>gradient_descent</th>\n",
       "    </tr>\n",
       "    <tr>\n",
       "      <th>p</th>\n",
       "      <th>i</th>\n",
       "      <th></th>\n",
       "      <th></th>\n",
       "      <th></th>\n",
       "      <th></th>\n",
       "    </tr>\n",
       "  </thead>\n",
       "  <tbody>\n",
       "    <tr>\n",
       "      <th rowspan=\"6\" valign=\"top\">1</th>\n",
       "      <th>0</th>\n",
       "      <td>&lt;MaxCut.MaxCut object at 0x7f4133ccd330&gt;</td>\n",
       "      <td>instance                                    &lt;M...</td>\n",
       "      <td>instance                                    &lt;M...</td>\n",
       "      <td>instance                             NaN\n",
       "p    ...</td>\n",
       "    </tr>\n",
       "    <tr>\n",
       "      <th>1</th>\n",
       "      <td>&lt;MaxCut.MaxCut object at 0x7f40e6a3fd60&gt;</td>\n",
       "      <td>instance                                    &lt;M...</td>\n",
       "      <td>instance                                    &lt;M...</td>\n",
       "      <td>instance                             NaN\n",
       "p    ...</td>\n",
       "    </tr>\n",
       "    <tr>\n",
       "      <th>2</th>\n",
       "      <td>&lt;MaxCut.MaxCut object at 0x7f40e6a3fe50&gt;</td>\n",
       "      <td>instance                                    &lt;M...</td>\n",
       "      <td>instance                                    &lt;M...</td>\n",
       "      <td>instance                             NaN\n",
       "p    ...</td>\n",
       "    </tr>\n",
       "    <tr>\n",
       "      <th>3</th>\n",
       "      <td>&lt;MaxCut.MaxCut object at 0x7f40e6a74130&gt;</td>\n",
       "      <td>instance                                    &lt;M...</td>\n",
       "      <td>instance                                    &lt;M...</td>\n",
       "      <td>instance                             NaN\n",
       "p    ...</td>\n",
       "    </tr>\n",
       "    <tr>\n",
       "      <th>4</th>\n",
       "      <td>&lt;MaxCut.MaxCut object at 0x7f40e6a743d0&gt;</td>\n",
       "      <td>instance                                    &lt;M...</td>\n",
       "      <td>instance                                    &lt;M...</td>\n",
       "      <td>instance                             NaN\n",
       "p    ...</td>\n",
       "    </tr>\n",
       "    <tr>\n",
       "      <th>5</th>\n",
       "      <td>&lt;MaxCut.MaxCut object at 0x7f40e6a74670&gt;</td>\n",
       "      <td>instance                                    &lt;M...</td>\n",
       "      <td>instance                                    &lt;M...</td>\n",
       "      <td>instance                             NaN\n",
       "p    ...</td>\n",
       "    </tr>\n",
       "  </tbody>\n",
       "</table>\n",
       "</div>"
      ],
      "text/plain": [
       "                                     instance  \\\n",
       "p i                                             \n",
       "1 0  <MaxCut.MaxCut object at 0x7f4133ccd330>   \n",
       "  1  <MaxCut.MaxCut object at 0x7f40e6a3fd60>   \n",
       "  2  <MaxCut.MaxCut object at 0x7f40e6a3fe50>   \n",
       "  3  <MaxCut.MaxCut object at 0x7f40e6a74130>   \n",
       "  4  <MaxCut.MaxCut object at 0x7f40e6a743d0>   \n",
       "  5  <MaxCut.MaxCut object at 0x7f40e6a74670>   \n",
       "\n",
       "                                                  tdvp  \\\n",
       "p i                                                      \n",
       "1 0  instance                                    <M...   \n",
       "  1  instance                                    <M...   \n",
       "  2  instance                                    <M...   \n",
       "  3  instance                                    <M...   \n",
       "  4  instance                                    <M...   \n",
       "  5  instance                                    <M...   \n",
       "\n",
       "                                                 scipy  \\\n",
       "p i                                                      \n",
       "1 0  instance                                    <M...   \n",
       "  1  instance                                    <M...   \n",
       "  2  instance                                    <M...   \n",
       "  3  instance                                    <M...   \n",
       "  4  instance                                    <M...   \n",
       "  5  instance                                    <M...   \n",
       "\n",
       "                                      gradient_descent  \n",
       "p i                                                     \n",
       "1 0  instance                             NaN\n",
       "p    ...  \n",
       "  1  instance                             NaN\n",
       "p    ...  \n",
       "  2  instance                             NaN\n",
       "p    ...  \n",
       "  3  instance                             NaN\n",
       "p    ...  \n",
       "  4  instance                             NaN\n",
       "p    ...  \n",
       "  5  instance                             NaN\n",
       "p    ...  "
      ]
     },
     "execution_count": 5,
     "metadata": {},
     "output_type": "execute_result"
    }
   ],
   "source": [
    "with open(f'.//results//n{n}_data.p', 'rb') as file:\n",
    "    data = pickle.load(file)\n",
    "data.head(6)"
   ]
  },
  {
   "cell_type": "code",
   "execution_count": 6,
   "metadata": {
    "collapsed": false
   },
   "outputs": [
    {
     "data": {
      "text/html": [
       "<div>\n",
       "<style scoped>\n",
       "    .dataframe tbody tr th:only-of-type {\n",
       "        vertical-align: middle;\n",
       "    }\n",
       "\n",
       "    .dataframe tbody tr th {\n",
       "        vertical-align: top;\n",
       "    }\n",
       "\n",
       "    .dataframe thead tr th {\n",
       "        text-align: left;\n",
       "    }\n",
       "\n",
       "    .dataframe thead tr:last-of-type th {\n",
       "        text-align: right;\n",
       "    }\n",
       "</style>\n",
       "<table border=\"1\" class=\"dataframe\">\n",
       "  <thead>\n",
       "    <tr>\n",
       "      <th></th>\n",
       "      <th></th>\n",
       "      <th colspan=\"4\" halign=\"left\">expectation approximation ratio</th>\n",
       "      <th colspan=\"4\" halign=\"left\">groundspace overlap</th>\n",
       "      <th colspan=\"2\" halign=\"left\">groundspace sharpness</th>\n",
       "      <th>...</th>\n",
       "      <th colspan=\"2\" halign=\"left\">gate count</th>\n",
       "      <th colspan=\"4\" halign=\"left\">num_fun_calls</th>\n",
       "      <th colspan=\"4\" halign=\"left\">steps</th>\n",
       "    </tr>\n",
       "    <tr>\n",
       "      <th></th>\n",
       "      <th></th>\n",
       "      <th>mean</th>\n",
       "      <th>std</th>\n",
       "      <th>min</th>\n",
       "      <th>max</th>\n",
       "      <th>mean</th>\n",
       "      <th>std</th>\n",
       "      <th>min</th>\n",
       "      <th>max</th>\n",
       "      <th>mean</th>\n",
       "      <th>std</th>\n",
       "      <th>...</th>\n",
       "      <th>min</th>\n",
       "      <th>max</th>\n",
       "      <th>mean</th>\n",
       "      <th>std</th>\n",
       "      <th>min</th>\n",
       "      <th>max</th>\n",
       "      <th>mean</th>\n",
       "      <th>std</th>\n",
       "      <th>min</th>\n",
       "      <th>max</th>\n",
       "    </tr>\n",
       "    <tr>\n",
       "      <th>algorithm</th>\n",
       "      <th>p</th>\n",
       "      <th></th>\n",
       "      <th></th>\n",
       "      <th></th>\n",
       "      <th></th>\n",
       "      <th></th>\n",
       "      <th></th>\n",
       "      <th></th>\n",
       "      <th></th>\n",
       "      <th></th>\n",
       "      <th></th>\n",
       "      <th></th>\n",
       "      <th></th>\n",
       "      <th></th>\n",
       "      <th></th>\n",
       "      <th></th>\n",
       "      <th></th>\n",
       "      <th></th>\n",
       "      <th></th>\n",
       "      <th></th>\n",
       "      <th></th>\n",
       "      <th></th>\n",
       "    </tr>\n",
       "  </thead>\n",
       "  <tbody>\n",
       "    <tr>\n",
       "      <th rowspan=\"5\" valign=\"top\">tdvp</th>\n",
       "      <th>1</th>\n",
       "      <td>0.555697</td>\n",
       "      <td>0.320149</td>\n",
       "      <td>0.133846</td>\n",
       "      <td>0.963225</td>\n",
       "      <td>0.464344</td>\n",
       "      <td>0.373130</td>\n",
       "      <td>0.019871</td>\n",
       "      <td>0.962394</td>\n",
       "      <td>0.331865</td>\n",
       "      <td>0.164583</td>\n",
       "      <td>...</td>\n",
       "      <td>1.069340e+06</td>\n",
       "      <td>1.938870e+06</td>\n",
       "      <td>55.000000</td>\n",
       "      <td>7.014271</td>\n",
       "      <td>44.0</td>\n",
       "      <td>62.0</td>\n",
       "      <td>75.666667</td>\n",
       "      <td>7.312090</td>\n",
       "      <td>62.0</td>\n",
       "      <td>82.0</td>\n",
       "    </tr>\n",
       "    <tr>\n",
       "      <th>2</th>\n",
       "      <td>0.914538</td>\n",
       "      <td>0.023949</td>\n",
       "      <td>0.873142</td>\n",
       "      <td>0.947408</td>\n",
       "      <td>0.895209</td>\n",
       "      <td>0.049664</td>\n",
       "      <td>0.831052</td>\n",
       "      <td>0.943499</td>\n",
       "      <td>0.297600</td>\n",
       "      <td>0.061860</td>\n",
       "      <td>...</td>\n",
       "      <td>1.101945e+07</td>\n",
       "      <td>1.254455e+08</td>\n",
       "      <td>194.000000</td>\n",
       "      <td>203.399115</td>\n",
       "      <td>56.0</td>\n",
       "      <td>602.0</td>\n",
       "      <td>235.000000</td>\n",
       "      <td>232.458168</td>\n",
       "      <td>79.0</td>\n",
       "      <td>701.0</td>\n",
       "    </tr>\n",
       "    <tr>\n",
       "      <th>3</th>\n",
       "      <td>0.926812</td>\n",
       "      <td>0.027653</td>\n",
       "      <td>0.895857</td>\n",
       "      <td>0.966206</td>\n",
       "      <td>0.866436</td>\n",
       "      <td>0.068250</td>\n",
       "      <td>0.795922</td>\n",
       "      <td>0.967577</td>\n",
       "      <td>0.324697</td>\n",
       "      <td>0.090627</td>\n",
       "      <td>...</td>\n",
       "      <td>3.665482e+07</td>\n",
       "      <td>1.293696e+09</td>\n",
       "      <td>548.666667</td>\n",
       "      <td>1003.912081</td>\n",
       "      <td>0.0</td>\n",
       "      <td>2588.0</td>\n",
       "      <td>774.600000</td>\n",
       "      <td>1247.291987</td>\n",
       "      <td>85.0</td>\n",
       "      <td>3000.0</td>\n",
       "    </tr>\n",
       "    <tr>\n",
       "      <th>4</th>\n",
       "      <td>0.943432</td>\n",
       "      <td>0.049538</td>\n",
       "      <td>0.869999</td>\n",
       "      <td>0.974706</td>\n",
       "      <td>0.930693</td>\n",
       "      <td>0.062414</td>\n",
       "      <td>0.843536</td>\n",
       "      <td>0.977556</td>\n",
       "      <td>0.232359</td>\n",
       "      <td>0.100608</td>\n",
       "      <td>...</td>\n",
       "      <td>1.450715e+08</td>\n",
       "      <td>2.956321e+08</td>\n",
       "      <td>83.333333</td>\n",
       "      <td>71.079298</td>\n",
       "      <td>0.0</td>\n",
       "      <td>182.0</td>\n",
       "      <td>157.000000</td>\n",
       "      <td>45.731098</td>\n",
       "      <td>126.0</td>\n",
       "      <td>225.0</td>\n",
       "    </tr>\n",
       "    <tr>\n",
       "      <th>5</th>\n",
       "      <td>0.969683</td>\n",
       "      <td>0.032257</td>\n",
       "      <td>0.935768</td>\n",
       "      <td>0.999978</td>\n",
       "      <td>0.960623</td>\n",
       "      <td>0.048394</td>\n",
       "      <td>0.906591</td>\n",
       "      <td>0.999983</td>\n",
       "      <td>0.150136</td>\n",
       "      <td>0.143481</td>\n",
       "      <td>...</td>\n",
       "      <td>5.209588e+08</td>\n",
       "      <td>4.559181e+09</td>\n",
       "      <td>370.000000</td>\n",
       "      <td>621.564478</td>\n",
       "      <td>0.0</td>\n",
       "      <td>1574.0</td>\n",
       "      <td>850.000000</td>\n",
       "      <td>826.339519</td>\n",
       "      <td>179.0</td>\n",
       "      <td>1773.0</td>\n",
       "    </tr>\n",
       "    <tr>\n",
       "      <th rowspan=\"5\" valign=\"top\">scipy</th>\n",
       "      <th>1</th>\n",
       "      <td>0.578786</td>\n",
       "      <td>0.215603</td>\n",
       "      <td>0.322760</td>\n",
       "      <td>0.795440</td>\n",
       "      <td>0.385312</td>\n",
       "      <td>0.334051</td>\n",
       "      <td>0.015630</td>\n",
       "      <td>0.792068</td>\n",
       "      <td>0.346479</td>\n",
       "      <td>0.169024</td>\n",
       "      <td>...</td>\n",
       "      <td>1.848000e+03</td>\n",
       "      <td>3.808000e+03</td>\n",
       "      <td>22.500000</td>\n",
       "      <td>3.619392</td>\n",
       "      <td>19.0</td>\n",
       "      <td>27.0</td>\n",
       "      <td>22.500000</td>\n",
       "      <td>3.619392</td>\n",
       "      <td>19.0</td>\n",
       "      <td>27.0</td>\n",
       "    </tr>\n",
       "    <tr>\n",
       "      <th>2</th>\n",
       "      <td>0.850797</td>\n",
       "      <td>0.141596</td>\n",
       "      <td>0.562920</td>\n",
       "      <td>0.918540</td>\n",
       "      <td>0.786808</td>\n",
       "      <td>0.231791</td>\n",
       "      <td>0.335994</td>\n",
       "      <td>0.946846</td>\n",
       "      <td>0.338920</td>\n",
       "      <td>0.098601</td>\n",
       "      <td>...</td>\n",
       "      <td>4.608000e+03</td>\n",
       "      <td>1.310400e+04</td>\n",
       "      <td>74.666667</td>\n",
       "      <td>33.152174</td>\n",
       "      <td>35.0</td>\n",
       "      <td>116.0</td>\n",
       "      <td>74.666667</td>\n",
       "      <td>33.152174</td>\n",
       "      <td>35.0</td>\n",
       "      <td>116.0</td>\n",
       "    </tr>\n",
       "    <tr>\n",
       "      <th>3</th>\n",
       "      <td>0.880351</td>\n",
       "      <td>0.073960</td>\n",
       "      <td>0.760516</td>\n",
       "      <td>0.973016</td>\n",
       "      <td>0.816939</td>\n",
       "      <td>0.087629</td>\n",
       "      <td>0.752143</td>\n",
       "      <td>0.968308</td>\n",
       "      <td>0.366746</td>\n",
       "      <td>0.101873</td>\n",
       "      <td>...</td>\n",
       "      <td>5.824000e+03</td>\n",
       "      <td>1.851200e+04</td>\n",
       "      <td>96.000000</td>\n",
       "      <td>52.664979</td>\n",
       "      <td>54.0</td>\n",
       "      <td>177.0</td>\n",
       "      <td>96.000000</td>\n",
       "      <td>52.664979</td>\n",
       "      <td>54.0</td>\n",
       "      <td>177.0</td>\n",
       "    </tr>\n",
       "    <tr>\n",
       "      <th>4</th>\n",
       "      <td>0.832498</td>\n",
       "      <td>0.142717</td>\n",
       "      <td>0.623810</td>\n",
       "      <td>0.981445</td>\n",
       "      <td>0.681178</td>\n",
       "      <td>0.360276</td>\n",
       "      <td>0.043834</td>\n",
       "      <td>0.980620</td>\n",
       "      <td>0.308058</td>\n",
       "      <td>0.130118</td>\n",
       "      <td>...</td>\n",
       "      <td>1.108800e+04</td>\n",
       "      <td>1.779200e+04</td>\n",
       "      <td>102.166667</td>\n",
       "      <td>23.250090</td>\n",
       "      <td>79.0</td>\n",
       "      <td>138.0</td>\n",
       "      <td>102.166667</td>\n",
       "      <td>23.250090</td>\n",
       "      <td>79.0</td>\n",
       "      <td>138.0</td>\n",
       "    </tr>\n",
       "    <tr>\n",
       "      <th>5</th>\n",
       "      <td>0.941948</td>\n",
       "      <td>0.074239</td>\n",
       "      <td>0.821507</td>\n",
       "      <td>0.995812</td>\n",
       "      <td>0.910507</td>\n",
       "      <td>0.117591</td>\n",
       "      <td>0.735778</td>\n",
       "      <td>0.996740</td>\n",
       "      <td>0.214588</td>\n",
       "      <td>0.169398</td>\n",
       "      <td>...</td>\n",
       "      <td>1.394400e+04</td>\n",
       "      <td>4.032000e+04</td>\n",
       "      <td>156.833333</td>\n",
       "      <td>91.750568</td>\n",
       "      <td>82.0</td>\n",
       "      <td>335.0</td>\n",
       "      <td>156.833333</td>\n",
       "      <td>91.750568</td>\n",
       "      <td>82.0</td>\n",
       "      <td>335.0</td>\n",
       "    </tr>\n",
       "    <tr>\n",
       "      <th rowspan=\"5\" valign=\"top\">gradient_descent</th>\n",
       "      <th>1</th>\n",
       "      <td>NaN</td>\n",
       "      <td>NaN</td>\n",
       "      <td>NaN</td>\n",
       "      <td>NaN</td>\n",
       "      <td>NaN</td>\n",
       "      <td>NaN</td>\n",
       "      <td>NaN</td>\n",
       "      <td>NaN</td>\n",
       "      <td>NaN</td>\n",
       "      <td>NaN</td>\n",
       "      <td>...</td>\n",
       "      <td>NaN</td>\n",
       "      <td>NaN</td>\n",
       "      <td>NaN</td>\n",
       "      <td>NaN</td>\n",
       "      <td>NaN</td>\n",
       "      <td>NaN</td>\n",
       "      <td>NaN</td>\n",
       "      <td>NaN</td>\n",
       "      <td>NaN</td>\n",
       "      <td>NaN</td>\n",
       "    </tr>\n",
       "    <tr>\n",
       "      <th>2</th>\n",
       "      <td>NaN</td>\n",
       "      <td>NaN</td>\n",
       "      <td>NaN</td>\n",
       "      <td>NaN</td>\n",
       "      <td>NaN</td>\n",
       "      <td>NaN</td>\n",
       "      <td>NaN</td>\n",
       "      <td>NaN</td>\n",
       "      <td>NaN</td>\n",
       "      <td>NaN</td>\n",
       "      <td>...</td>\n",
       "      <td>NaN</td>\n",
       "      <td>NaN</td>\n",
       "      <td>NaN</td>\n",
       "      <td>NaN</td>\n",
       "      <td>NaN</td>\n",
       "      <td>NaN</td>\n",
       "      <td>NaN</td>\n",
       "      <td>NaN</td>\n",
       "      <td>NaN</td>\n",
       "      <td>NaN</td>\n",
       "    </tr>\n",
       "    <tr>\n",
       "      <th>3</th>\n",
       "      <td>NaN</td>\n",
       "      <td>NaN</td>\n",
       "      <td>NaN</td>\n",
       "      <td>NaN</td>\n",
       "      <td>NaN</td>\n",
       "      <td>NaN</td>\n",
       "      <td>NaN</td>\n",
       "      <td>NaN</td>\n",
       "      <td>NaN</td>\n",
       "      <td>NaN</td>\n",
       "      <td>...</td>\n",
       "      <td>NaN</td>\n",
       "      <td>NaN</td>\n",
       "      <td>NaN</td>\n",
       "      <td>NaN</td>\n",
       "      <td>NaN</td>\n",
       "      <td>NaN</td>\n",
       "      <td>NaN</td>\n",
       "      <td>NaN</td>\n",
       "      <td>NaN</td>\n",
       "      <td>NaN</td>\n",
       "    </tr>\n",
       "    <tr>\n",
       "      <th>4</th>\n",
       "      <td>NaN</td>\n",
       "      <td>NaN</td>\n",
       "      <td>NaN</td>\n",
       "      <td>NaN</td>\n",
       "      <td>NaN</td>\n",
       "      <td>NaN</td>\n",
       "      <td>NaN</td>\n",
       "      <td>NaN</td>\n",
       "      <td>NaN</td>\n",
       "      <td>NaN</td>\n",
       "      <td>...</td>\n",
       "      <td>NaN</td>\n",
       "      <td>NaN</td>\n",
       "      <td>NaN</td>\n",
       "      <td>NaN</td>\n",
       "      <td>NaN</td>\n",
       "      <td>NaN</td>\n",
       "      <td>NaN</td>\n",
       "      <td>NaN</td>\n",
       "      <td>NaN</td>\n",
       "      <td>NaN</td>\n",
       "    </tr>\n",
       "    <tr>\n",
       "      <th>5</th>\n",
       "      <td>NaN</td>\n",
       "      <td>NaN</td>\n",
       "      <td>NaN</td>\n",
       "      <td>NaN</td>\n",
       "      <td>NaN</td>\n",
       "      <td>NaN</td>\n",
       "      <td>NaN</td>\n",
       "      <td>NaN</td>\n",
       "      <td>NaN</td>\n",
       "      <td>NaN</td>\n",
       "      <td>...</td>\n",
       "      <td>NaN</td>\n",
       "      <td>NaN</td>\n",
       "      <td>NaN</td>\n",
       "      <td>NaN</td>\n",
       "      <td>NaN</td>\n",
       "      <td>NaN</td>\n",
       "      <td>NaN</td>\n",
       "      <td>NaN</td>\n",
       "      <td>NaN</td>\n",
       "      <td>NaN</td>\n",
       "    </tr>\n",
       "  </tbody>\n",
       "</table>\n",
       "<p>15 rows × 32 columns</p>\n",
       "</div>"
      ],
      "text/plain": [
       "                   expectation approximation ratio                      \\\n",
       "                                              mean       std       min   \n",
       "algorithm        p                                                       \n",
       "tdvp             1                        0.555697  0.320149  0.133846   \n",
       "                 2                        0.914538  0.023949  0.873142   \n",
       "                 3                        0.926812  0.027653  0.895857   \n",
       "                 4                        0.943432  0.049538  0.869999   \n",
       "                 5                        0.969683  0.032257  0.935768   \n",
       "scipy            1                        0.578786  0.215603  0.322760   \n",
       "                 2                        0.850797  0.141596  0.562920   \n",
       "                 3                        0.880351  0.073960  0.760516   \n",
       "                 4                        0.832498  0.142717  0.623810   \n",
       "                 5                        0.941948  0.074239  0.821507   \n",
       "gradient_descent 1                             NaN       NaN       NaN   \n",
       "                 2                             NaN       NaN       NaN   \n",
       "                 3                             NaN       NaN       NaN   \n",
       "                 4                             NaN       NaN       NaN   \n",
       "                 5                             NaN       NaN       NaN   \n",
       "\n",
       "                             groundspace overlap                      \\\n",
       "                         max                mean       std       min   \n",
       "algorithm        p                                                     \n",
       "tdvp             1  0.963225            0.464344  0.373130  0.019871   \n",
       "                 2  0.947408            0.895209  0.049664  0.831052   \n",
       "                 3  0.966206            0.866436  0.068250  0.795922   \n",
       "                 4  0.974706            0.930693  0.062414  0.843536   \n",
       "                 5  0.999978            0.960623  0.048394  0.906591   \n",
       "scipy            1  0.795440            0.385312  0.334051  0.015630   \n",
       "                 2  0.918540            0.786808  0.231791  0.335994   \n",
       "                 3  0.973016            0.816939  0.087629  0.752143   \n",
       "                 4  0.981445            0.681178  0.360276  0.043834   \n",
       "                 5  0.995812            0.910507  0.117591  0.735778   \n",
       "gradient_descent 1       NaN                 NaN       NaN       NaN   \n",
       "                 2       NaN                 NaN       NaN       NaN   \n",
       "                 3       NaN                 NaN       NaN       NaN   \n",
       "                 4       NaN                 NaN       NaN       NaN   \n",
       "                 5       NaN                 NaN       NaN       NaN   \n",
       "\n",
       "                             groundspace sharpness            ...  \\\n",
       "                         max                  mean       std  ...   \n",
       "algorithm        p                                            ...   \n",
       "tdvp             1  0.962394              0.331865  0.164583  ...   \n",
       "                 2  0.943499              0.297600  0.061860  ...   \n",
       "                 3  0.967577              0.324697  0.090627  ...   \n",
       "                 4  0.977556              0.232359  0.100608  ...   \n",
       "                 5  0.999983              0.150136  0.143481  ...   \n",
       "scipy            1  0.792068              0.346479  0.169024  ...   \n",
       "                 2  0.946846              0.338920  0.098601  ...   \n",
       "                 3  0.968308              0.366746  0.101873  ...   \n",
       "                 4  0.980620              0.308058  0.130118  ...   \n",
       "                 5  0.996740              0.214588  0.169398  ...   \n",
       "gradient_descent 1       NaN                   NaN       NaN  ...   \n",
       "                 2       NaN                   NaN       NaN  ...   \n",
       "                 3       NaN                   NaN       NaN  ...   \n",
       "                 4       NaN                   NaN       NaN  ...   \n",
       "                 5       NaN                   NaN       NaN  ...   \n",
       "\n",
       "                      gate count               num_fun_calls               \\\n",
       "                             min           max          mean          std   \n",
       "algorithm        p                                                          \n",
       "tdvp             1  1.069340e+06  1.938870e+06     55.000000     7.014271   \n",
       "                 2  1.101945e+07  1.254455e+08    194.000000   203.399115   \n",
       "                 3  3.665482e+07  1.293696e+09    548.666667  1003.912081   \n",
       "                 4  1.450715e+08  2.956321e+08     83.333333    71.079298   \n",
       "                 5  5.209588e+08  4.559181e+09    370.000000   621.564478   \n",
       "scipy            1  1.848000e+03  3.808000e+03     22.500000     3.619392   \n",
       "                 2  4.608000e+03  1.310400e+04     74.666667    33.152174   \n",
       "                 3  5.824000e+03  1.851200e+04     96.000000    52.664979   \n",
       "                 4  1.108800e+04  1.779200e+04    102.166667    23.250090   \n",
       "                 5  1.394400e+04  4.032000e+04    156.833333    91.750568   \n",
       "gradient_descent 1           NaN           NaN           NaN          NaN   \n",
       "                 2           NaN           NaN           NaN          NaN   \n",
       "                 3           NaN           NaN           NaN          NaN   \n",
       "                 4           NaN           NaN           NaN          NaN   \n",
       "                 5           NaN           NaN           NaN          NaN   \n",
       "\n",
       "                                       steps                              \n",
       "                     min     max        mean          std    min     max  \n",
       "algorithm        p                                                        \n",
       "tdvp             1  44.0    62.0   75.666667     7.312090   62.0    82.0  \n",
       "                 2  56.0   602.0  235.000000   232.458168   79.0   701.0  \n",
       "                 3   0.0  2588.0  774.600000  1247.291987   85.0  3000.0  \n",
       "                 4   0.0   182.0  157.000000    45.731098  126.0   225.0  \n",
       "                 5   0.0  1574.0  850.000000   826.339519  179.0  1773.0  \n",
       "scipy            1  19.0    27.0   22.500000     3.619392   19.0    27.0  \n",
       "                 2  35.0   116.0   74.666667    33.152174   35.0   116.0  \n",
       "                 3  54.0   177.0   96.000000    52.664979   54.0   177.0  \n",
       "                 4  79.0   138.0  102.166667    23.250090   79.0   138.0  \n",
       "                 5  82.0   335.0  156.833333    91.750568   82.0   335.0  \n",
       "gradient_descent 1   NaN     NaN         NaN          NaN    NaN     NaN  \n",
       "                 2   NaN     NaN         NaN          NaN    NaN     NaN  \n",
       "                 3   NaN     NaN         NaN          NaN    NaN     NaN  \n",
       "                 4   NaN     NaN         NaN          NaN    NaN     NaN  \n",
       "                 5   NaN     NaN         NaN          NaN    NaN     NaN  \n",
       "\n",
       "[15 rows x 32 columns]"
      ]
     },
     "execution_count": 6,
     "metadata": {},
     "output_type": "execute_result"
    }
   ],
   "source": [
    "with open(f'.//results//n{n}_stats.p', 'rb') as file:\n",
    "    stats = pickle.load(file)\n",
    "stats"
   ]
  },
  {
   "cell_type": "code",
   "execution_count": 7,
   "metadata": {
    "collapsed": false
   },
   "outputs": [
    {
     "data": {
      "text/html": [
       "<div>\n",
       "<style scoped>\n",
       "    .dataframe tbody tr th:only-of-type {\n",
       "        vertical-align: middle;\n",
       "    }\n",
       "\n",
       "    .dataframe tbody tr th {\n",
       "        vertical-align: top;\n",
       "    }\n",
       "\n",
       "    .dataframe thead th {\n",
       "        text-align: right;\n",
       "    }\n",
       "</style>\n",
       "<table border=\"1\" class=\"dataframe\">\n",
       "  <thead>\n",
       "    <tr style=\"text-align: right;\">\n",
       "      <th></th>\n",
       "      <th>algorithm</th>\n",
       "      <th>p</th>\n",
       "      <th>mean</th>\n",
       "      <th>std</th>\n",
       "      <th>min</th>\n",
       "      <th>max</th>\n",
       "    </tr>\n",
       "  </thead>\n",
       "  <tbody>\n",
       "    <tr>\n",
       "      <th>0</th>\n",
       "      <td>tdvp</td>\n",
       "      <td>1</td>\n",
       "      <td>0.555697</td>\n",
       "      <td>0.320149</td>\n",
       "      <td>0.133846</td>\n",
       "      <td>0.963225</td>\n",
       "    </tr>\n",
       "    <tr>\n",
       "      <th>1</th>\n",
       "      <td>tdvp</td>\n",
       "      <td>2</td>\n",
       "      <td>0.914538</td>\n",
       "      <td>0.023949</td>\n",
       "      <td>0.873142</td>\n",
       "      <td>0.947408</td>\n",
       "    </tr>\n",
       "    <tr>\n",
       "      <th>2</th>\n",
       "      <td>tdvp</td>\n",
       "      <td>3</td>\n",
       "      <td>0.926812</td>\n",
       "      <td>0.027653</td>\n",
       "      <td>0.895857</td>\n",
       "      <td>0.966206</td>\n",
       "    </tr>\n",
       "    <tr>\n",
       "      <th>3</th>\n",
       "      <td>tdvp</td>\n",
       "      <td>4</td>\n",
       "      <td>0.943432</td>\n",
       "      <td>0.049538</td>\n",
       "      <td>0.869999</td>\n",
       "      <td>0.974706</td>\n",
       "    </tr>\n",
       "    <tr>\n",
       "      <th>4</th>\n",
       "      <td>tdvp</td>\n",
       "      <td>5</td>\n",
       "      <td>0.969683</td>\n",
       "      <td>0.032257</td>\n",
       "      <td>0.935768</td>\n",
       "      <td>0.999978</td>\n",
       "    </tr>\n",
       "    <tr>\n",
       "      <th>5</th>\n",
       "      <td>scipy</td>\n",
       "      <td>1</td>\n",
       "      <td>0.578786</td>\n",
       "      <td>0.215603</td>\n",
       "      <td>0.322760</td>\n",
       "      <td>0.795440</td>\n",
       "    </tr>\n",
       "    <tr>\n",
       "      <th>6</th>\n",
       "      <td>scipy</td>\n",
       "      <td>2</td>\n",
       "      <td>0.850797</td>\n",
       "      <td>0.141596</td>\n",
       "      <td>0.562920</td>\n",
       "      <td>0.918540</td>\n",
       "    </tr>\n",
       "    <tr>\n",
       "      <th>7</th>\n",
       "      <td>scipy</td>\n",
       "      <td>3</td>\n",
       "      <td>0.880351</td>\n",
       "      <td>0.073960</td>\n",
       "      <td>0.760516</td>\n",
       "      <td>0.973016</td>\n",
       "    </tr>\n",
       "    <tr>\n",
       "      <th>8</th>\n",
       "      <td>scipy</td>\n",
       "      <td>4</td>\n",
       "      <td>0.832498</td>\n",
       "      <td>0.142717</td>\n",
       "      <td>0.623810</td>\n",
       "      <td>0.981445</td>\n",
       "    </tr>\n",
       "    <tr>\n",
       "      <th>9</th>\n",
       "      <td>scipy</td>\n",
       "      <td>5</td>\n",
       "      <td>0.941948</td>\n",
       "      <td>0.074239</td>\n",
       "      <td>0.821507</td>\n",
       "      <td>0.995812</td>\n",
       "    </tr>\n",
       "    <tr>\n",
       "      <th>10</th>\n",
       "      <td>gradient_descent</td>\n",
       "      <td>1</td>\n",
       "      <td>NaN</td>\n",
       "      <td>NaN</td>\n",
       "      <td>NaN</td>\n",
       "      <td>NaN</td>\n",
       "    </tr>\n",
       "    <tr>\n",
       "      <th>11</th>\n",
       "      <td>gradient_descent</td>\n",
       "      <td>2</td>\n",
       "      <td>NaN</td>\n",
       "      <td>NaN</td>\n",
       "      <td>NaN</td>\n",
       "      <td>NaN</td>\n",
       "    </tr>\n",
       "    <tr>\n",
       "      <th>12</th>\n",
       "      <td>gradient_descent</td>\n",
       "      <td>3</td>\n",
       "      <td>NaN</td>\n",
       "      <td>NaN</td>\n",
       "      <td>NaN</td>\n",
       "      <td>NaN</td>\n",
       "    </tr>\n",
       "    <tr>\n",
       "      <th>13</th>\n",
       "      <td>gradient_descent</td>\n",
       "      <td>4</td>\n",
       "      <td>NaN</td>\n",
       "      <td>NaN</td>\n",
       "      <td>NaN</td>\n",
       "      <td>NaN</td>\n",
       "    </tr>\n",
       "    <tr>\n",
       "      <th>14</th>\n",
       "      <td>gradient_descent</td>\n",
       "      <td>5</td>\n",
       "      <td>NaN</td>\n",
       "      <td>NaN</td>\n",
       "      <td>NaN</td>\n",
       "      <td>NaN</td>\n",
       "    </tr>\n",
       "  </tbody>\n",
       "</table>\n",
       "</div>"
      ],
      "text/plain": [
       "           algorithm  p      mean       std       min       max\n",
       "0               tdvp  1  0.555697  0.320149  0.133846  0.963225\n",
       "1               tdvp  2  0.914538  0.023949  0.873142  0.947408\n",
       "2               tdvp  3  0.926812  0.027653  0.895857  0.966206\n",
       "3               tdvp  4  0.943432  0.049538  0.869999  0.974706\n",
       "4               tdvp  5  0.969683  0.032257  0.935768  0.999978\n",
       "5              scipy  1  0.578786  0.215603  0.322760  0.795440\n",
       "6              scipy  2  0.850797  0.141596  0.562920  0.918540\n",
       "7              scipy  3  0.880351  0.073960  0.760516  0.973016\n",
       "8              scipy  4  0.832498  0.142717  0.623810  0.981445\n",
       "9              scipy  5  0.941948  0.074239  0.821507  0.995812\n",
       "10  gradient_descent  1       NaN       NaN       NaN       NaN\n",
       "11  gradient_descent  2       NaN       NaN       NaN       NaN\n",
       "12  gradient_descent  3       NaN       NaN       NaN       NaN\n",
       "13  gradient_descent  4       NaN       NaN       NaN       NaN\n",
       "14  gradient_descent  5       NaN       NaN       NaN       NaN"
      ]
     },
     "execution_count": 7,
     "metadata": {},
     "output_type": "execute_result"
    }
   ],
   "source": [
    "stats['expectation approximation ratio'].reset_index()"
   ]
  },
  {
   "cell_type": "code",
   "execution_count": 55,
   "metadata": {},
   "outputs": [],
   "source": [
    "def algo_num(algo:str)->int:\n",
    "    assert algo in {'tdvp','scipy','gradient_descent'}\n",
    "    if algo=='tdvp':\n",
    "        return 1\n",
    "    elif algo=='scipy':\n",
    "        return 0\n",
    "    elif algo=='gradient_descent':\n",
    "        return -1"
   ]
  },
  {
   "cell_type": "code",
   "execution_count": 58,
   "metadata": {},
   "outputs": [],
   "source": [
    "BA_template = dict(\n",
    "    layout=go.Layout(\n",
    "    template='plotly_white',\n",
    "    yaxis=dict(\n",
    "        range = [0,1.1],\n",
    "        tickmode = 'linear',\n",
    "        tick0 = 0,\n",
    "        dtick = .2,\n",
    "        autorange=False,\n",
    "        linewidth = 1,\n",
    "        linecolor = 'black',\n",
    "        gridcolor = 'lightgrey',\n",
    "        zerolinecolor = 'black',\n",
    "\n",
    "    ),\n",
    "    xaxis = dict(\n",
    "        tickmode = 'linear',\n",
    "        tick0 = 1,\n",
    "        dtick = 1,\n",
    "        range=[-.5,5],\n",
    "        autorange=True,\n",
    "        # type='category',\n",
    "        linewidth = 1,\n",
    "        linecolor = 'black',\n",
    "        gridcolor = 'lightgrey',\n",
    "        # zerolinecolor = 'black',\n",
    "\n",
    "    ),\n",
    "    font=dict(\n",
    "        family='Computer Modern',\n",
    "        size=11,\n",
    "    ),\n",
    "    legend=dict(\n",
    "        yanchor=\"bottom\",\n",
    "        y=0.01,\n",
    "        xanchor=\"right\",\n",
    "        x=.99,\n",
    "        \n",
    "    ),\n",
    "    # paper_bgcolor='rgba(0,0,0,0)',   # transparent background\n",
    "    plot_bgcolor='rgba(0,0,0,0)',)\n",
    ")"
   ]
  },
  {
   "cell_type": "code",
   "execution_count": 92,
   "metadata": {
    "collapsed": false
   },
   "outputs": [
    {
     "data": {
      "application/vnd.plotly.v1+json": {
       "config": {
        "plotlyServerURL": "https://plot.ly"
       },
       "data": [
        {
         "alignmentgroup": "True",
         "hovertemplate": "algorithm=TDVP<br>p=%{x}<br>expectation approximation ratio=%{y}<extra></extra>",
         "legendgroup": "TDVP",
         "marker": {
          "color": "#636efa"
         },
         "name": "TDVP",
         "notched": false,
         "offsetgroup": "tdvp",
         "orientation": "v",
         "quartilemethod": "inclusive",
         "showlegend": true,
         "type": "box",
         "x": [
          1,
          1,
          1,
          1,
          1,
          1,
          2,
          2,
          2,
          2,
          2,
          2,
          3,
          3,
          3,
          3,
          3,
          3,
          4,
          4,
          4,
          4,
          4,
          4,
          5,
          5,
          5,
          5,
          5,
          5
         ],
         "x0": " ",
         "xaxis": "x",
         "y": [
          0.52193828153963,
          0.8880028480154419,
          0.3228089271866118,
          0.9632252053458201,
          0.13384647796964863,
          0.5043619914779066,
          0.8731416902445398,
          0.9159961480481603,
          0.9108455941028738,
          0.9199551537220306,
          0.9474084375051172,
          0.9198793802412082,
          0.9053451078595783,
          0.8958571822061743,
          0.9345664570067939,
          0.9662061733227744,
          0.932083285396774,
          null,
          0.9747057777279092,
          0.9716805790052311,
          0.9573417235464392,
          null,
          0.8699991409885066,
          null,
          null,
          0.9999776397402755,
          0.9733020834223239,
          null,
          0.9357684016166762,
          null
         ],
         "y0": " ",
         "yaxis": "y"
        },
        {
         "alignmentgroup": "True",
         "hovertemplate": "algorithm=COBYLA<br>p=%{x}<br>expectation approximation ratio=%{y}<extra></extra>",
         "legendgroup": "COBYLA",
         "marker": {
          "color": "#EF553B"
         },
         "name": "COBYLA",
         "notched": false,
         "offsetgroup": "scipy",
         "orientation": "v",
         "quartilemethod": "inclusive",
         "showlegend": true,
         "type": "box",
         "x": [
          1,
          1,
          1,
          1,
          1,
          1,
          2,
          2,
          2,
          2,
          2,
          2,
          3,
          3,
          3,
          3,
          3,
          3,
          4,
          4,
          4,
          4,
          4,
          4,
          5,
          5,
          5,
          5,
          5,
          5
         ],
         "x0": " ",
         "xaxis": "x",
         "y": [
          0.7799662237788235,
          0.3276053256974091,
          0.3227601789485898,
          0.7021352109240994,
          0.5448122393175796,
          0.7954397619788438,
          0.884422563186278,
          0.9153276458048862,
          0.9185400902307068,
          0.9168179879641575,
          0.5629195712961277,
          0.9067534274112826,
          0.8752626979983399,
          0.9208419770316046,
          0.8394642675404452,
          0.9730155528306108,
          0.7605163710877753,
          0.9130032179126492,
          0.9814446591532002,
          0.9360289173134761,
          0.6238102473007959,
          0.9171191461188334,
          0.6976480391855345,
          0.8389381812067649,
          0.9755984613060869,
          0.9910887451925835,
          0.8769605876029043,
          0.9907221407437554,
          0.821506949221113,
          0.9958124608910823
         ],
         "y0": " ",
         "yaxis": "y"
        }
       ],
       "layout": {
        "boxmode": "group",
        "legend": {
         "title": {
          "text": "Algorithm"
         },
         "tracegroupgap": 0
        },
        "margin": {
         "t": 60
        },
        "template": {
         "data": {
          "bar": [
           {
            "error_x": {
             "color": "#2a3f5f"
            },
            "error_y": {
             "color": "#2a3f5f"
            },
            "marker": {
             "line": {
              "color": "#E5ECF6",
              "width": 0.5
             },
             "pattern": {
              "fillmode": "overlay",
              "size": 10,
              "solidity": 0.2
             }
            },
            "type": "bar"
           }
          ],
          "barpolar": [
           {
            "marker": {
             "line": {
              "color": "#E5ECF6",
              "width": 0.5
             },
             "pattern": {
              "fillmode": "overlay",
              "size": 10,
              "solidity": 0.2
             }
            },
            "type": "barpolar"
           }
          ],
          "carpet": [
           {
            "aaxis": {
             "endlinecolor": "#2a3f5f",
             "gridcolor": "white",
             "linecolor": "white",
             "minorgridcolor": "white",
             "startlinecolor": "#2a3f5f"
            },
            "baxis": {
             "endlinecolor": "#2a3f5f",
             "gridcolor": "white",
             "linecolor": "white",
             "minorgridcolor": "white",
             "startlinecolor": "#2a3f5f"
            },
            "type": "carpet"
           }
          ],
          "choropleth": [
           {
            "colorbar": {
             "outlinewidth": 0,
             "ticks": ""
            },
            "type": "choropleth"
           }
          ],
          "contour": [
           {
            "colorbar": {
             "outlinewidth": 0,
             "ticks": ""
            },
            "colorscale": [
             [
              0,
              "#0d0887"
             ],
             [
              0.1111111111111111,
              "#46039f"
             ],
             [
              0.2222222222222222,
              "#7201a8"
             ],
             [
              0.3333333333333333,
              "#9c179e"
             ],
             [
              0.4444444444444444,
              "#bd3786"
             ],
             [
              0.5555555555555556,
              "#d8576b"
             ],
             [
              0.6666666666666666,
              "#ed7953"
             ],
             [
              0.7777777777777778,
              "#fb9f3a"
             ],
             [
              0.8888888888888888,
              "#fdca26"
             ],
             [
              1,
              "#f0f921"
             ]
            ],
            "type": "contour"
           }
          ],
          "contourcarpet": [
           {
            "colorbar": {
             "outlinewidth": 0,
             "ticks": ""
            },
            "type": "contourcarpet"
           }
          ],
          "heatmap": [
           {
            "colorbar": {
             "outlinewidth": 0,
             "ticks": ""
            },
            "colorscale": [
             [
              0,
              "#0d0887"
             ],
             [
              0.1111111111111111,
              "#46039f"
             ],
             [
              0.2222222222222222,
              "#7201a8"
             ],
             [
              0.3333333333333333,
              "#9c179e"
             ],
             [
              0.4444444444444444,
              "#bd3786"
             ],
             [
              0.5555555555555556,
              "#d8576b"
             ],
             [
              0.6666666666666666,
              "#ed7953"
             ],
             [
              0.7777777777777778,
              "#fb9f3a"
             ],
             [
              0.8888888888888888,
              "#fdca26"
             ],
             [
              1,
              "#f0f921"
             ]
            ],
            "type": "heatmap"
           }
          ],
          "heatmapgl": [
           {
            "colorbar": {
             "outlinewidth": 0,
             "ticks": ""
            },
            "colorscale": [
             [
              0,
              "#0d0887"
             ],
             [
              0.1111111111111111,
              "#46039f"
             ],
             [
              0.2222222222222222,
              "#7201a8"
             ],
             [
              0.3333333333333333,
              "#9c179e"
             ],
             [
              0.4444444444444444,
              "#bd3786"
             ],
             [
              0.5555555555555556,
              "#d8576b"
             ],
             [
              0.6666666666666666,
              "#ed7953"
             ],
             [
              0.7777777777777778,
              "#fb9f3a"
             ],
             [
              0.8888888888888888,
              "#fdca26"
             ],
             [
              1,
              "#f0f921"
             ]
            ],
            "type": "heatmapgl"
           }
          ],
          "histogram": [
           {
            "marker": {
             "pattern": {
              "fillmode": "overlay",
              "size": 10,
              "solidity": 0.2
             }
            },
            "type": "histogram"
           }
          ],
          "histogram2d": [
           {
            "colorbar": {
             "outlinewidth": 0,
             "ticks": ""
            },
            "colorscale": [
             [
              0,
              "#0d0887"
             ],
             [
              0.1111111111111111,
              "#46039f"
             ],
             [
              0.2222222222222222,
              "#7201a8"
             ],
             [
              0.3333333333333333,
              "#9c179e"
             ],
             [
              0.4444444444444444,
              "#bd3786"
             ],
             [
              0.5555555555555556,
              "#d8576b"
             ],
             [
              0.6666666666666666,
              "#ed7953"
             ],
             [
              0.7777777777777778,
              "#fb9f3a"
             ],
             [
              0.8888888888888888,
              "#fdca26"
             ],
             [
              1,
              "#f0f921"
             ]
            ],
            "type": "histogram2d"
           }
          ],
          "histogram2dcontour": [
           {
            "colorbar": {
             "outlinewidth": 0,
             "ticks": ""
            },
            "colorscale": [
             [
              0,
              "#0d0887"
             ],
             [
              0.1111111111111111,
              "#46039f"
             ],
             [
              0.2222222222222222,
              "#7201a8"
             ],
             [
              0.3333333333333333,
              "#9c179e"
             ],
             [
              0.4444444444444444,
              "#bd3786"
             ],
             [
              0.5555555555555556,
              "#d8576b"
             ],
             [
              0.6666666666666666,
              "#ed7953"
             ],
             [
              0.7777777777777778,
              "#fb9f3a"
             ],
             [
              0.8888888888888888,
              "#fdca26"
             ],
             [
              1,
              "#f0f921"
             ]
            ],
            "type": "histogram2dcontour"
           }
          ],
          "mesh3d": [
           {
            "colorbar": {
             "outlinewidth": 0,
             "ticks": ""
            },
            "type": "mesh3d"
           }
          ],
          "parcoords": [
           {
            "line": {
             "colorbar": {
              "outlinewidth": 0,
              "ticks": ""
             }
            },
            "type": "parcoords"
           }
          ],
          "pie": [
           {
            "automargin": true,
            "type": "pie"
           }
          ],
          "scatter": [
           {
            "fillpattern": {
             "fillmode": "overlay",
             "size": 10,
             "solidity": 0.2
            },
            "type": "scatter"
           }
          ],
          "scatter3d": [
           {
            "line": {
             "colorbar": {
              "outlinewidth": 0,
              "ticks": ""
             }
            },
            "marker": {
             "colorbar": {
              "outlinewidth": 0,
              "ticks": ""
             }
            },
            "type": "scatter3d"
           }
          ],
          "scattercarpet": [
           {
            "marker": {
             "colorbar": {
              "outlinewidth": 0,
              "ticks": ""
             }
            },
            "type": "scattercarpet"
           }
          ],
          "scattergeo": [
           {
            "marker": {
             "colorbar": {
              "outlinewidth": 0,
              "ticks": ""
             }
            },
            "type": "scattergeo"
           }
          ],
          "scattergl": [
           {
            "marker": {
             "colorbar": {
              "outlinewidth": 0,
              "ticks": ""
             }
            },
            "type": "scattergl"
           }
          ],
          "scattermapbox": [
           {
            "marker": {
             "colorbar": {
              "outlinewidth": 0,
              "ticks": ""
             }
            },
            "type": "scattermapbox"
           }
          ],
          "scatterpolar": [
           {
            "marker": {
             "colorbar": {
              "outlinewidth": 0,
              "ticks": ""
             }
            },
            "type": "scatterpolar"
           }
          ],
          "scatterpolargl": [
           {
            "marker": {
             "colorbar": {
              "outlinewidth": 0,
              "ticks": ""
             }
            },
            "type": "scatterpolargl"
           }
          ],
          "scatterternary": [
           {
            "marker": {
             "colorbar": {
              "outlinewidth": 0,
              "ticks": ""
             }
            },
            "type": "scatterternary"
           }
          ],
          "surface": [
           {
            "colorbar": {
             "outlinewidth": 0,
             "ticks": ""
            },
            "colorscale": [
             [
              0,
              "#0d0887"
             ],
             [
              0.1111111111111111,
              "#46039f"
             ],
             [
              0.2222222222222222,
              "#7201a8"
             ],
             [
              0.3333333333333333,
              "#9c179e"
             ],
             [
              0.4444444444444444,
              "#bd3786"
             ],
             [
              0.5555555555555556,
              "#d8576b"
             ],
             [
              0.6666666666666666,
              "#ed7953"
             ],
             [
              0.7777777777777778,
              "#fb9f3a"
             ],
             [
              0.8888888888888888,
              "#fdca26"
             ],
             [
              1,
              "#f0f921"
             ]
            ],
            "type": "surface"
           }
          ],
          "table": [
           {
            "cells": {
             "fill": {
              "color": "#EBF0F8"
             },
             "line": {
              "color": "white"
             }
            },
            "header": {
             "fill": {
              "color": "#C8D4E3"
             },
             "line": {
              "color": "white"
             }
            },
            "type": "table"
           }
          ]
         },
         "layout": {
          "font": {
           "family": "Computer Modern",
           "size": 11
          },
          "legend": {
           "x": 0.99,
           "xanchor": "right",
           "y": 0.01,
           "yanchor": "bottom"
          },
          "plot_bgcolor": "rgba(0,0,0,0)",
          "template": {
           "data": {
            "bar": [
             {
              "error_x": {
               "color": "#2a3f5f"
              },
              "error_y": {
               "color": "#2a3f5f"
              },
              "marker": {
               "line": {
                "color": "white",
                "width": 0.5
               },
               "pattern": {
                "fillmode": "overlay",
                "size": 10,
                "solidity": 0.2
               }
              },
              "type": "bar"
             }
            ],
            "barpolar": [
             {
              "marker": {
               "line": {
                "color": "white",
                "width": 0.5
               },
               "pattern": {
                "fillmode": "overlay",
                "size": 10,
                "solidity": 0.2
               }
              },
              "type": "barpolar"
             }
            ],
            "carpet": [
             {
              "aaxis": {
               "endlinecolor": "#2a3f5f",
               "gridcolor": "#C8D4E3",
               "linecolor": "#C8D4E3",
               "minorgridcolor": "#C8D4E3",
               "startlinecolor": "#2a3f5f"
              },
              "baxis": {
               "endlinecolor": "#2a3f5f",
               "gridcolor": "#C8D4E3",
               "linecolor": "#C8D4E3",
               "minorgridcolor": "#C8D4E3",
               "startlinecolor": "#2a3f5f"
              },
              "type": "carpet"
             }
            ],
            "choropleth": [
             {
              "colorbar": {
               "outlinewidth": 0,
               "ticks": ""
              },
              "type": "choropleth"
             }
            ],
            "contour": [
             {
              "colorbar": {
               "outlinewidth": 0,
               "ticks": ""
              },
              "colorscale": [
               [
                0,
                "#0d0887"
               ],
               [
                0.1111111111111111,
                "#46039f"
               ],
               [
                0.2222222222222222,
                "#7201a8"
               ],
               [
                0.3333333333333333,
                "#9c179e"
               ],
               [
                0.4444444444444444,
                "#bd3786"
               ],
               [
                0.5555555555555556,
                "#d8576b"
               ],
               [
                0.6666666666666666,
                "#ed7953"
               ],
               [
                0.7777777777777778,
                "#fb9f3a"
               ],
               [
                0.8888888888888888,
                "#fdca26"
               ],
               [
                1,
                "#f0f921"
               ]
              ],
              "type": "contour"
             }
            ],
            "contourcarpet": [
             {
              "colorbar": {
               "outlinewidth": 0,
               "ticks": ""
              },
              "type": "contourcarpet"
             }
            ],
            "heatmap": [
             {
              "colorbar": {
               "outlinewidth": 0,
               "ticks": ""
              },
              "colorscale": [
               [
                0,
                "#0d0887"
               ],
               [
                0.1111111111111111,
                "#46039f"
               ],
               [
                0.2222222222222222,
                "#7201a8"
               ],
               [
                0.3333333333333333,
                "#9c179e"
               ],
               [
                0.4444444444444444,
                "#bd3786"
               ],
               [
                0.5555555555555556,
                "#d8576b"
               ],
               [
                0.6666666666666666,
                "#ed7953"
               ],
               [
                0.7777777777777778,
                "#fb9f3a"
               ],
               [
                0.8888888888888888,
                "#fdca26"
               ],
               [
                1,
                "#f0f921"
               ]
              ],
              "type": "heatmap"
             }
            ],
            "heatmapgl": [
             {
              "colorbar": {
               "outlinewidth": 0,
               "ticks": ""
              },
              "colorscale": [
               [
                0,
                "#0d0887"
               ],
               [
                0.1111111111111111,
                "#46039f"
               ],
               [
                0.2222222222222222,
                "#7201a8"
               ],
               [
                0.3333333333333333,
                "#9c179e"
               ],
               [
                0.4444444444444444,
                "#bd3786"
               ],
               [
                0.5555555555555556,
                "#d8576b"
               ],
               [
                0.6666666666666666,
                "#ed7953"
               ],
               [
                0.7777777777777778,
                "#fb9f3a"
               ],
               [
                0.8888888888888888,
                "#fdca26"
               ],
               [
                1,
                "#f0f921"
               ]
              ],
              "type": "heatmapgl"
             }
            ],
            "histogram": [
             {
              "marker": {
               "pattern": {
                "fillmode": "overlay",
                "size": 10,
                "solidity": 0.2
               }
              },
              "type": "histogram"
             }
            ],
            "histogram2d": [
             {
              "colorbar": {
               "outlinewidth": 0,
               "ticks": ""
              },
              "colorscale": [
               [
                0,
                "#0d0887"
               ],
               [
                0.1111111111111111,
                "#46039f"
               ],
               [
                0.2222222222222222,
                "#7201a8"
               ],
               [
                0.3333333333333333,
                "#9c179e"
               ],
               [
                0.4444444444444444,
                "#bd3786"
               ],
               [
                0.5555555555555556,
                "#d8576b"
               ],
               [
                0.6666666666666666,
                "#ed7953"
               ],
               [
                0.7777777777777778,
                "#fb9f3a"
               ],
               [
                0.8888888888888888,
                "#fdca26"
               ],
               [
                1,
                "#f0f921"
               ]
              ],
              "type": "histogram2d"
             }
            ],
            "histogram2dcontour": [
             {
              "colorbar": {
               "outlinewidth": 0,
               "ticks": ""
              },
              "colorscale": [
               [
                0,
                "#0d0887"
               ],
               [
                0.1111111111111111,
                "#46039f"
               ],
               [
                0.2222222222222222,
                "#7201a8"
               ],
               [
                0.3333333333333333,
                "#9c179e"
               ],
               [
                0.4444444444444444,
                "#bd3786"
               ],
               [
                0.5555555555555556,
                "#d8576b"
               ],
               [
                0.6666666666666666,
                "#ed7953"
               ],
               [
                0.7777777777777778,
                "#fb9f3a"
               ],
               [
                0.8888888888888888,
                "#fdca26"
               ],
               [
                1,
                "#f0f921"
               ]
              ],
              "type": "histogram2dcontour"
             }
            ],
            "mesh3d": [
             {
              "colorbar": {
               "outlinewidth": 0,
               "ticks": ""
              },
              "type": "mesh3d"
             }
            ],
            "parcoords": [
             {
              "line": {
               "colorbar": {
                "outlinewidth": 0,
                "ticks": ""
               }
              },
              "type": "parcoords"
             }
            ],
            "pie": [
             {
              "automargin": true,
              "type": "pie"
             }
            ],
            "scatter": [
             {
              "fillpattern": {
               "fillmode": "overlay",
               "size": 10,
               "solidity": 0.2
              },
              "type": "scatter"
             }
            ],
            "scatter3d": [
             {
              "line": {
               "colorbar": {
                "outlinewidth": 0,
                "ticks": ""
               }
              },
              "marker": {
               "colorbar": {
                "outlinewidth": 0,
                "ticks": ""
               }
              },
              "type": "scatter3d"
             }
            ],
            "scattercarpet": [
             {
              "marker": {
               "colorbar": {
                "outlinewidth": 0,
                "ticks": ""
               }
              },
              "type": "scattercarpet"
             }
            ],
            "scattergeo": [
             {
              "marker": {
               "colorbar": {
                "outlinewidth": 0,
                "ticks": ""
               }
              },
              "type": "scattergeo"
             }
            ],
            "scattergl": [
             {
              "marker": {
               "colorbar": {
                "outlinewidth": 0,
                "ticks": ""
               }
              },
              "type": "scattergl"
             }
            ],
            "scattermapbox": [
             {
              "marker": {
               "colorbar": {
                "outlinewidth": 0,
                "ticks": ""
               }
              },
              "type": "scattermapbox"
             }
            ],
            "scatterpolar": [
             {
              "marker": {
               "colorbar": {
                "outlinewidth": 0,
                "ticks": ""
               }
              },
              "type": "scatterpolar"
             }
            ],
            "scatterpolargl": [
             {
              "marker": {
               "colorbar": {
                "outlinewidth": 0,
                "ticks": ""
               }
              },
              "type": "scatterpolargl"
             }
            ],
            "scatterternary": [
             {
              "marker": {
               "colorbar": {
                "outlinewidth": 0,
                "ticks": ""
               }
              },
              "type": "scatterternary"
             }
            ],
            "surface": [
             {
              "colorbar": {
               "outlinewidth": 0,
               "ticks": ""
              },
              "colorscale": [
               [
                0,
                "#0d0887"
               ],
               [
                0.1111111111111111,
                "#46039f"
               ],
               [
                0.2222222222222222,
                "#7201a8"
               ],
               [
                0.3333333333333333,
                "#9c179e"
               ],
               [
                0.4444444444444444,
                "#bd3786"
               ],
               [
                0.5555555555555556,
                "#d8576b"
               ],
               [
                0.6666666666666666,
                "#ed7953"
               ],
               [
                0.7777777777777778,
                "#fb9f3a"
               ],
               [
                0.8888888888888888,
                "#fdca26"
               ],
               [
                1,
                "#f0f921"
               ]
              ],
              "type": "surface"
             }
            ],
            "table": [
             {
              "cells": {
               "fill": {
                "color": "#EBF0F8"
               },
               "line": {
                "color": "white"
               }
              },
              "header": {
               "fill": {
                "color": "#C8D4E3"
               },
               "line": {
                "color": "white"
               }
              },
              "type": "table"
             }
            ]
           },
           "layout": {
            "annotationdefaults": {
             "arrowcolor": "#2a3f5f",
             "arrowhead": 0,
             "arrowwidth": 1
            },
            "autotypenumbers": "strict",
            "coloraxis": {
             "colorbar": {
              "outlinewidth": 0,
              "ticks": ""
             }
            },
            "colorscale": {
             "diverging": [
              [
               0,
               "#8e0152"
              ],
              [
               0.1,
               "#c51b7d"
              ],
              [
               0.2,
               "#de77ae"
              ],
              [
               0.3,
               "#f1b6da"
              ],
              [
               0.4,
               "#fde0ef"
              ],
              [
               0.5,
               "#f7f7f7"
              ],
              [
               0.6,
               "#e6f5d0"
              ],
              [
               0.7,
               "#b8e186"
              ],
              [
               0.8,
               "#7fbc41"
              ],
              [
               0.9,
               "#4d9221"
              ],
              [
               1,
               "#276419"
              ]
             ],
             "sequential": [
              [
               0,
               "#0d0887"
              ],
              [
               0.1111111111111111,
               "#46039f"
              ],
              [
               0.2222222222222222,
               "#7201a8"
              ],
              [
               0.3333333333333333,
               "#9c179e"
              ],
              [
               0.4444444444444444,
               "#bd3786"
              ],
              [
               0.5555555555555556,
               "#d8576b"
              ],
              [
               0.6666666666666666,
               "#ed7953"
              ],
              [
               0.7777777777777778,
               "#fb9f3a"
              ],
              [
               0.8888888888888888,
               "#fdca26"
              ],
              [
               1,
               "#f0f921"
              ]
             ],
             "sequentialminus": [
              [
               0,
               "#0d0887"
              ],
              [
               0.1111111111111111,
               "#46039f"
              ],
              [
               0.2222222222222222,
               "#7201a8"
              ],
              [
               0.3333333333333333,
               "#9c179e"
              ],
              [
               0.4444444444444444,
               "#bd3786"
              ],
              [
               0.5555555555555556,
               "#d8576b"
              ],
              [
               0.6666666666666666,
               "#ed7953"
              ],
              [
               0.7777777777777778,
               "#fb9f3a"
              ],
              [
               0.8888888888888888,
               "#fdca26"
              ],
              [
               1,
               "#f0f921"
              ]
             ]
            },
            "colorway": [
             "#636efa",
             "#EF553B",
             "#00cc96",
             "#ab63fa",
             "#FFA15A",
             "#19d3f3",
             "#FF6692",
             "#B6E880",
             "#FF97FF",
             "#FECB52"
            ],
            "font": {
             "color": "#2a3f5f"
            },
            "geo": {
             "bgcolor": "white",
             "lakecolor": "white",
             "landcolor": "white",
             "showlakes": true,
             "showland": true,
             "subunitcolor": "#C8D4E3"
            },
            "hoverlabel": {
             "align": "left"
            },
            "hovermode": "closest",
            "mapbox": {
             "style": "light"
            },
            "paper_bgcolor": "white",
            "plot_bgcolor": "white",
            "polar": {
             "angularaxis": {
              "gridcolor": "#EBF0F8",
              "linecolor": "#EBF0F8",
              "ticks": ""
             },
             "bgcolor": "white",
             "radialaxis": {
              "gridcolor": "#EBF0F8",
              "linecolor": "#EBF0F8",
              "ticks": ""
             }
            },
            "scene": {
             "xaxis": {
              "backgroundcolor": "white",
              "gridcolor": "#DFE8F3",
              "gridwidth": 2,
              "linecolor": "#EBF0F8",
              "showbackground": true,
              "ticks": "",
              "zerolinecolor": "#EBF0F8"
             },
             "yaxis": {
              "backgroundcolor": "white",
              "gridcolor": "#DFE8F3",
              "gridwidth": 2,
              "linecolor": "#EBF0F8",
              "showbackground": true,
              "ticks": "",
              "zerolinecolor": "#EBF0F8"
             },
             "zaxis": {
              "backgroundcolor": "white",
              "gridcolor": "#DFE8F3",
              "gridwidth": 2,
              "linecolor": "#EBF0F8",
              "showbackground": true,
              "ticks": "",
              "zerolinecolor": "#EBF0F8"
             }
            },
            "shapedefaults": {
             "line": {
              "color": "#2a3f5f"
             }
            },
            "ternary": {
             "aaxis": {
              "gridcolor": "#DFE8F3",
              "linecolor": "#A2B1C6",
              "ticks": ""
             },
             "baxis": {
              "gridcolor": "#DFE8F3",
              "linecolor": "#A2B1C6",
              "ticks": ""
             },
             "bgcolor": "white",
             "caxis": {
              "gridcolor": "#DFE8F3",
              "linecolor": "#A2B1C6",
              "ticks": ""
             }
            },
            "title": {
             "x": 0.05
            },
            "xaxis": {
             "automargin": true,
             "gridcolor": "#EBF0F8",
             "linecolor": "#EBF0F8",
             "ticks": "",
             "title": {
              "standoff": 15
             },
             "zerolinecolor": "#EBF0F8",
             "zerolinewidth": 2
            },
            "yaxis": {
             "automargin": true,
             "gridcolor": "#EBF0F8",
             "linecolor": "#EBF0F8",
             "ticks": "",
             "title": {
              "standoff": 15
             },
             "zerolinecolor": "#EBF0F8",
             "zerolinewidth": 2
            }
           }
          },
          "xaxis": {
           "autorange": true,
           "dtick": 1,
           "gridcolor": "lightgrey",
           "linecolor": "black",
           "linewidth": 1,
           "range": [
            -0.5,
            5
           ],
           "tick0": 1,
           "tickmode": "linear"
          },
          "yaxis": {
           "autorange": false,
           "dtick": 0.2,
           "gridcolor": "lightgrey",
           "linecolor": "black",
           "linewidth": 1,
           "range": [
            0,
            1.1
           ],
           "tick0": 0,
           "tickmode": "linear",
           "zerolinecolor": "black"
          }
         }
        },
        "width": 700,
        "xaxis": {
         "anchor": "y",
         "domain": [
          0,
          1
         ],
         "title": {
          "text": "p"
         }
        },
        "yaxis": {
         "anchor": "x",
         "domain": [
          0,
          1
         ],
         "title": {
          "text": "Expectation of the approximation ratio"
         }
        }
       }
      }
     },
     "metadata": {},
     "output_type": "display_data"
    }
   ],
   "source": [
    "meas = 'expectation approximation ratio'\n",
    "df = stats[meas].reset_index()\n",
    "df = df[df['algorithm']!='gradient_descent']\n",
    "# df['alg_i'] = \n",
    "\n",
    "# TODO: add different symbols for different algorithms (colorblind friendly), \n",
    "# TODO: make scatter plot nice (transparency, etc.)\n",
    "\n",
    "gridcolor = 'lightgrey'\n",
    "\n",
    "#flattend_data\n",
    "data_red = pd.concat([\n",
    "    data['tdvp'].apply(lambda x: x),\n",
    "    data['scipy'].apply(lambda x:x),\n",
    "    data['gradient_descent'].apply(lambda x:x)\n",
    "]).reset_index(drop=True)\n",
    "\n",
    "scatter = px.scatter(\n",
    "    data_frame=df,\n",
    "    x=df['p']+.1*df['algorithm'].apply(algo_num), # for the offset\n",
    "    y='mean',\n",
    "    error_y='std',\n",
    "    color='algorithm',\n",
    "    symbol='algorithm',\n",
    "    # barmode='group',\n",
    ")\n",
    "\n",
    "\n",
    "box = px.box(\n",
    "    data_frame=data_red,\n",
    "    x='p',\n",
    "    y=meas,\n",
    "    color='algorithm',\n",
    "    # points='all',\n",
    ")\n",
    "box.update_traces(quartilemethod=\"inclusive\") # or \"inclusive\", or \"linear\" by default\n",
    "\n",
    "fig = box\n",
    "\n",
    "# rename traces \n",
    "newnames = {'tdvp':'TDVP', 'scipy':'COBYLA', 'gradient_descent':'GD'}\n",
    "fig.for_each_trace(lambda t: t.update(name = newnames.get(t.name,''),\n",
    "                                      legendgroup = newnames.get(t.name,''),\n",
    "                                      hovertemplate = t.hovertemplate.replace(t.name, newnames[t.name])\n",
    "                                     )\n",
    "                  )\n",
    "\n",
    "fig.update_layout(\n",
    "    template=BA_template,\n",
    "    xaxis_title='p',\n",
    "    yaxis_title=\"Expectation of the approximation ratio\",\n",
    "    legend_title_text='Algorithm',\n",
    "    width= 700,\n",
    ")\n",
    "\n",
    "fig.show()"
   ]
  },
  {
   "cell_type": "code",
   "execution_count": null,
   "metadata": {
    "collapsed": false
   },
   "outputs": [],
   "source": []
  }
 ],
 "metadata": {
  "kernelspec": {
   "display_name": "Python 3.10.6 ('qutip-env')",
   "language": "python",
   "name": "python3"
  },
  "language_info": {
   "codemirror_mode": {
    "name": "ipython",
    "version": 3
   },
   "file_extension": ".py",
   "mimetype": "text/x-python",
   "name": "python",
   "nbconvert_exporter": "python",
   "pygments_lexer": "ipython3",
   "version": "3.10.6"
  },
  "vscode": {
   "interpreter": {
    "hash": "fe45c953e7d91ced0867b19789acd0ab1d9439aa0b1f4fae31fd46e88f74aeab"
   }
  }
 },
 "nbformat": 4,
 "nbformat_minor": 0
}
