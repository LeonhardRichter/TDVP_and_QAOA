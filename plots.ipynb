{
 "cells": [
  {
   "cell_type": "code",
   "execution_count": 53,
   "metadata": {
    "collapsed": true
   },
   "outputs": [],
   "source": [
    "import pickle\n",
    "import matplotlib.pyplot as plt\n",
    "import pandas as pd\n",
    "import plotly.express as px\n",
    "import plotly.graph_objects as go\n",
    "from qaoa_and_tdvp import QAOAResult\n",
    "import math\n"
   ]
  },
  {
   "cell_type": "code",
   "execution_count": 2,
   "outputs": [],
   "source": [
    "n=4"
   ],
   "metadata": {
    "collapsed": false
   }
  },
  {
   "cell_type": "code",
   "execution_count": 3,
   "outputs": [
    {
     "data": {
      "text/plain": "                                     instance  \\\np i                                             \n1 0  <MaxCut.MaxCut object at 0x7fa3ac7d7040>   \n  1  <MaxCut.MaxCut object at 0x7fa3a860b220>   \n  2  <MaxCut.MaxCut object at 0x7fa3399e8280>   \n  3  <MaxCut.MaxCut object at 0x7fa3399e8520>   \n  4  <MaxCut.MaxCut object at 0x7fa3399e87c0>   \n  5  <MaxCut.MaxCut object at 0x7fa3399e8a60>   \n2 0  <MaxCut.MaxCut object at 0x7fa3ac7d7040>   \n  1  <MaxCut.MaxCut object at 0x7fa3a860b220>   \n  2  <MaxCut.MaxCut object at 0x7fa3399e8280>   \n  3  <MaxCut.MaxCut object at 0x7fa3399e8520>   \n  4  <MaxCut.MaxCut object at 0x7fa3399e87c0>   \n  5  <MaxCut.MaxCut object at 0x7fa3399e8a60>   \n3 0  <MaxCut.MaxCut object at 0x7fa3ac7d7040>   \n  1  <MaxCut.MaxCut object at 0x7fa3a860b220>   \n  2  <MaxCut.MaxCut object at 0x7fa3399e8280>   \n  3  <MaxCut.MaxCut object at 0x7fa3399e8520>   \n  4  <MaxCut.MaxCut object at 0x7fa3399e87c0>   \n  5  <MaxCut.MaxCut object at 0x7fa3399e8a60>   \n4 0  <MaxCut.MaxCut object at 0x7fa3ac7d7040>   \n  1  <MaxCut.MaxCut object at 0x7fa3a860b220>   \n  2  <MaxCut.MaxCut object at 0x7fa3399e8280>   \n  3  <MaxCut.MaxCut object at 0x7fa3399e8520>   \n  4  <MaxCut.MaxCut object at 0x7fa3399e87c0>   \n  5  <MaxCut.MaxCut object at 0x7fa3399e8a60>   \n5 0  <MaxCut.MaxCut object at 0x7fa3ac7d7040>   \n  1  <MaxCut.MaxCut object at 0x7fa3a860b220>   \n  2  <MaxCut.MaxCut object at 0x7fa3399e8280>   \n  3  <MaxCut.MaxCut object at 0x7fa3399e8520>   \n  4  <MaxCut.MaxCut object at 0x7fa3399e87c0>   \n  5  <MaxCut.MaxCut object at 0x7fa3399e8a60>   \n\n                                                  tdvp  \\\np i                                                      \n1 0  instance                                    <M...   \n  1  instance                                    <M...   \n  2  instance                                    <M...   \n  3  instance                                    <M...   \n  4  instance                                    <M...   \n  5  instance                                    <M...   \n2 0  instance                                    <M...   \n  1  instance                                    <M...   \n  2  instance                                    <M...   \n  3  instance                                    <M...   \n  4  instance                                    <M...   \n  5  instance                                    <M...   \n3 0  instance                                    <M...   \n  1  instance                                    <M...   \n  2  instance                                    <M...   \n  3  instance                                    <M...   \n  4  instance                                    <M...   \n  5  instance                                    <M...   \n4 0  instance                                    <M...   \n  1  instance                                    <M...   \n  2  instance                                    <M...   \n  3  instance                                    <M...   \n  4  instance                                    <M...   \n  5  instance                                    <M...   \n5 0  instance                                    <M...   \n  1  instance                                    <M...   \n  2  instance                                    <M...   \n  3  instance                                    <M...   \n  4  instance                                    <M...   \n  5  instance                                    <M...   \n\n                                                 scipy  \\\np i                                                      \n1 0  instance                                    <M...   \n  1  instance                                    <M...   \n  2  instance                                    <M...   \n  3  instance                                    <M...   \n  4  instance                                    <M...   \n  5  instance                                    <M...   \n2 0  instance                                    <M...   \n  1  instance                                    <M...   \n  2  instance                                    <M...   \n  3  instance                                    <M...   \n  4  instance                                    <M...   \n  5  instance                                    <M...   \n3 0  instance                                    <M...   \n  1  instance                                    <M...   \n  2  instance                                    <M...   \n  3  instance                                    <M...   \n  4  instance                                    <M...   \n  5  instance                                    <M...   \n4 0  instance                                    <M...   \n  1  instance                                    <M...   \n  2  instance                                    <M...   \n  3  instance                                    <M...   \n  4  instance                                    <M...   \n  5  instance                                    <M...   \n5 0  instance                                    <M...   \n  1  instance                                    <M...   \n  2  instance                                    <M...   \n  3  instance                                    <M...   \n  4  instance                                    <M...   \n  5  instance                                    <M...   \n\n                                      gradient_descent  \np i                                                     \n1 0  instance                             NaN\np    ...  \n  1  instance                             NaN\np    ...  \n  2  instance                             NaN\np    ...  \n  3  instance                             NaN\np    ...  \n  4  instance                             NaN\np    ...  \n  5  instance                             NaN\np    ...  \n2 0  instance                             NaN\np    ...  \n  1  instance                             NaN\np    ...  \n  2  instance                             NaN\np    ...  \n  3  instance                             NaN\np    ...  \n  4  instance                             NaN\np    ...  \n  5  instance                             NaN\np    ...  \n3 0  instance                             NaN\np    ...  \n  1  instance                             NaN\np    ...  \n  2  instance                             NaN\np    ...  \n  3  instance                             NaN\np    ...  \n  4  instance                             NaN\np    ...  \n  5  instance                             NaN\np    ...  \n4 0  instance                             NaN\np    ...  \n  1  instance                             NaN\np    ...  \n  2  instance                             NaN\np    ...  \n  3  instance                             NaN\np    ...  \n  4  instance                             NaN\np    ...  \n  5  instance                             NaN\np    ...  \n5 0  instance                             NaN\np    ...  \n  1  instance                             NaN\np    ...  \n  2  instance                             NaN\np    ...  \n  3  instance                             NaN\np    ...  \n  4  instance                             NaN\np    ...  \n  5  instance                             NaN\np    ...  ",
      "text/html": "<div>\n<style scoped>\n    .dataframe tbody tr th:only-of-type {\n        vertical-align: middle;\n    }\n\n    .dataframe tbody tr th {\n        vertical-align: top;\n    }\n\n    .dataframe thead th {\n        text-align: right;\n    }\n</style>\n<table border=\"1\" class=\"dataframe\">\n  <thead>\n    <tr style=\"text-align: right;\">\n      <th></th>\n      <th></th>\n      <th>instance</th>\n      <th>tdvp</th>\n      <th>scipy</th>\n      <th>gradient_descent</th>\n    </tr>\n    <tr>\n      <th>p</th>\n      <th>i</th>\n      <th></th>\n      <th></th>\n      <th></th>\n      <th></th>\n    </tr>\n  </thead>\n  <tbody>\n    <tr>\n      <th rowspan=\"6\" valign=\"top\">1</th>\n      <th>0</th>\n      <td>&lt;MaxCut.MaxCut object at 0x7fa3ac7d7040&gt;</td>\n      <td>instance                                    &lt;M...</td>\n      <td>instance                                    &lt;M...</td>\n      <td>instance                             NaN\np    ...</td>\n    </tr>\n    <tr>\n      <th>1</th>\n      <td>&lt;MaxCut.MaxCut object at 0x7fa3a860b220&gt;</td>\n      <td>instance                                    &lt;M...</td>\n      <td>instance                                    &lt;M...</td>\n      <td>instance                             NaN\np    ...</td>\n    </tr>\n    <tr>\n      <th>2</th>\n      <td>&lt;MaxCut.MaxCut object at 0x7fa3399e8280&gt;</td>\n      <td>instance                                    &lt;M...</td>\n      <td>instance                                    &lt;M...</td>\n      <td>instance                             NaN\np    ...</td>\n    </tr>\n    <tr>\n      <th>3</th>\n      <td>&lt;MaxCut.MaxCut object at 0x7fa3399e8520&gt;</td>\n      <td>instance                                    &lt;M...</td>\n      <td>instance                                    &lt;M...</td>\n      <td>instance                             NaN\np    ...</td>\n    </tr>\n    <tr>\n      <th>4</th>\n      <td>&lt;MaxCut.MaxCut object at 0x7fa3399e87c0&gt;</td>\n      <td>instance                                    &lt;M...</td>\n      <td>instance                                    &lt;M...</td>\n      <td>instance                             NaN\np    ...</td>\n    </tr>\n    <tr>\n      <th>5</th>\n      <td>&lt;MaxCut.MaxCut object at 0x7fa3399e8a60&gt;</td>\n      <td>instance                                    &lt;M...</td>\n      <td>instance                                    &lt;M...</td>\n      <td>instance                             NaN\np    ...</td>\n    </tr>\n    <tr>\n      <th rowspan=\"6\" valign=\"top\">2</th>\n      <th>0</th>\n      <td>&lt;MaxCut.MaxCut object at 0x7fa3ac7d7040&gt;</td>\n      <td>instance                                    &lt;M...</td>\n      <td>instance                                    &lt;M...</td>\n      <td>instance                             NaN\np    ...</td>\n    </tr>\n    <tr>\n      <th>1</th>\n      <td>&lt;MaxCut.MaxCut object at 0x7fa3a860b220&gt;</td>\n      <td>instance                                    &lt;M...</td>\n      <td>instance                                    &lt;M...</td>\n      <td>instance                             NaN\np    ...</td>\n    </tr>\n    <tr>\n      <th>2</th>\n      <td>&lt;MaxCut.MaxCut object at 0x7fa3399e8280&gt;</td>\n      <td>instance                                    &lt;M...</td>\n      <td>instance                                    &lt;M...</td>\n      <td>instance                             NaN\np    ...</td>\n    </tr>\n    <tr>\n      <th>3</th>\n      <td>&lt;MaxCut.MaxCut object at 0x7fa3399e8520&gt;</td>\n      <td>instance                                    &lt;M...</td>\n      <td>instance                                    &lt;M...</td>\n      <td>instance                             NaN\np    ...</td>\n    </tr>\n    <tr>\n      <th>4</th>\n      <td>&lt;MaxCut.MaxCut object at 0x7fa3399e87c0&gt;</td>\n      <td>instance                                    &lt;M...</td>\n      <td>instance                                    &lt;M...</td>\n      <td>instance                             NaN\np    ...</td>\n    </tr>\n    <tr>\n      <th>5</th>\n      <td>&lt;MaxCut.MaxCut object at 0x7fa3399e8a60&gt;</td>\n      <td>instance                                    &lt;M...</td>\n      <td>instance                                    &lt;M...</td>\n      <td>instance                             NaN\np    ...</td>\n    </tr>\n    <tr>\n      <th rowspan=\"6\" valign=\"top\">3</th>\n      <th>0</th>\n      <td>&lt;MaxCut.MaxCut object at 0x7fa3ac7d7040&gt;</td>\n      <td>instance                                    &lt;M...</td>\n      <td>instance                                    &lt;M...</td>\n      <td>instance                             NaN\np    ...</td>\n    </tr>\n    <tr>\n      <th>1</th>\n      <td>&lt;MaxCut.MaxCut object at 0x7fa3a860b220&gt;</td>\n      <td>instance                                    &lt;M...</td>\n      <td>instance                                    &lt;M...</td>\n      <td>instance                             NaN\np    ...</td>\n    </tr>\n    <tr>\n      <th>2</th>\n      <td>&lt;MaxCut.MaxCut object at 0x7fa3399e8280&gt;</td>\n      <td>instance                                    &lt;M...</td>\n      <td>instance                                    &lt;M...</td>\n      <td>instance                             NaN\np    ...</td>\n    </tr>\n    <tr>\n      <th>3</th>\n      <td>&lt;MaxCut.MaxCut object at 0x7fa3399e8520&gt;</td>\n      <td>instance                                    &lt;M...</td>\n      <td>instance                                    &lt;M...</td>\n      <td>instance                             NaN\np    ...</td>\n    </tr>\n    <tr>\n      <th>4</th>\n      <td>&lt;MaxCut.MaxCut object at 0x7fa3399e87c0&gt;</td>\n      <td>instance                                    &lt;M...</td>\n      <td>instance                                    &lt;M...</td>\n      <td>instance                             NaN\np    ...</td>\n    </tr>\n    <tr>\n      <th>5</th>\n      <td>&lt;MaxCut.MaxCut object at 0x7fa3399e8a60&gt;</td>\n      <td>instance                                    &lt;M...</td>\n      <td>instance                                    &lt;M...</td>\n      <td>instance                             NaN\np    ...</td>\n    </tr>\n    <tr>\n      <th rowspan=\"6\" valign=\"top\">4</th>\n      <th>0</th>\n      <td>&lt;MaxCut.MaxCut object at 0x7fa3ac7d7040&gt;</td>\n      <td>instance                                    &lt;M...</td>\n      <td>instance                                    &lt;M...</td>\n      <td>instance                             NaN\np    ...</td>\n    </tr>\n    <tr>\n      <th>1</th>\n      <td>&lt;MaxCut.MaxCut object at 0x7fa3a860b220&gt;</td>\n      <td>instance                                    &lt;M...</td>\n      <td>instance                                    &lt;M...</td>\n      <td>instance                             NaN\np    ...</td>\n    </tr>\n    <tr>\n      <th>2</th>\n      <td>&lt;MaxCut.MaxCut object at 0x7fa3399e8280&gt;</td>\n      <td>instance                                    &lt;M...</td>\n      <td>instance                                    &lt;M...</td>\n      <td>instance                             NaN\np    ...</td>\n    </tr>\n    <tr>\n      <th>3</th>\n      <td>&lt;MaxCut.MaxCut object at 0x7fa3399e8520&gt;</td>\n      <td>instance                                    &lt;M...</td>\n      <td>instance                                    &lt;M...</td>\n      <td>instance                             NaN\np    ...</td>\n    </tr>\n    <tr>\n      <th>4</th>\n      <td>&lt;MaxCut.MaxCut object at 0x7fa3399e87c0&gt;</td>\n      <td>instance                                    &lt;M...</td>\n      <td>instance                                    &lt;M...</td>\n      <td>instance                             NaN\np    ...</td>\n    </tr>\n    <tr>\n      <th>5</th>\n      <td>&lt;MaxCut.MaxCut object at 0x7fa3399e8a60&gt;</td>\n      <td>instance                                    &lt;M...</td>\n      <td>instance                                    &lt;M...</td>\n      <td>instance                             NaN\np    ...</td>\n    </tr>\n    <tr>\n      <th rowspan=\"6\" valign=\"top\">5</th>\n      <th>0</th>\n      <td>&lt;MaxCut.MaxCut object at 0x7fa3ac7d7040&gt;</td>\n      <td>instance                                    &lt;M...</td>\n      <td>instance                                    &lt;M...</td>\n      <td>instance                             NaN\np    ...</td>\n    </tr>\n    <tr>\n      <th>1</th>\n      <td>&lt;MaxCut.MaxCut object at 0x7fa3a860b220&gt;</td>\n      <td>instance                                    &lt;M...</td>\n      <td>instance                                    &lt;M...</td>\n      <td>instance                             NaN\np    ...</td>\n    </tr>\n    <tr>\n      <th>2</th>\n      <td>&lt;MaxCut.MaxCut object at 0x7fa3399e8280&gt;</td>\n      <td>instance                                    &lt;M...</td>\n      <td>instance                                    &lt;M...</td>\n      <td>instance                             NaN\np    ...</td>\n    </tr>\n    <tr>\n      <th>3</th>\n      <td>&lt;MaxCut.MaxCut object at 0x7fa3399e8520&gt;</td>\n      <td>instance                                    &lt;M...</td>\n      <td>instance                                    &lt;M...</td>\n      <td>instance                             NaN\np    ...</td>\n    </tr>\n    <tr>\n      <th>4</th>\n      <td>&lt;MaxCut.MaxCut object at 0x7fa3399e87c0&gt;</td>\n      <td>instance                                    &lt;M...</td>\n      <td>instance                                    &lt;M...</td>\n      <td>instance                             NaN\np    ...</td>\n    </tr>\n    <tr>\n      <th>5</th>\n      <td>&lt;MaxCut.MaxCut object at 0x7fa3399e8a60&gt;</td>\n      <td>instance                                    &lt;M...</td>\n      <td>instance                                    &lt;M...</td>\n      <td>instance                             NaN\np    ...</td>\n    </tr>\n  </tbody>\n</table>\n</div>"
     },
     "execution_count": 3,
     "metadata": {},
     "output_type": "execute_result"
    }
   ],
   "source": [
    "with open(f'.//results//n{n}_data.p', 'rb') as file:\n",
    "    data = pickle.load(file)\n",
    "data"
   ],
   "metadata": {
    "collapsed": false
   }
  },
  {
   "cell_type": "code",
   "execution_count": 4,
   "outputs": [
    {
     "data": {
      "text/plain": "                   expectation approximation ratio                      \\\n                                              mean       std       min   \nalgorithm        p                                                       \ntdvp             1                        0.555697  0.320149  0.133846   \n                 2                        0.914538  0.023949  0.873142   \n                 3                        0.926812  0.027653  0.895857   \n                 4                        0.943432  0.049538  0.869999   \n                 5                        0.969683  0.032257  0.935768   \nscipy            1                        0.578786  0.215603  0.322760   \n                 2                        0.850797  0.141596  0.562920   \n                 3                        0.880351  0.073960  0.760516   \n                 4                        0.832498  0.142717  0.623810   \n                 5                        0.941948  0.074239  0.821507   \ngradient_descent 1                             NaN       NaN       NaN   \n                 2                             NaN       NaN       NaN   \n                 3                             NaN       NaN       NaN   \n                 4                             NaN       NaN       NaN   \n                 5                             NaN       NaN       NaN   \n\n                             groundspace overlap                      \\\n                         max                mean       std       min   \nalgorithm        p                                                     \ntdvp             1  0.963225            0.464344  0.373130  0.019871   \n                 2  0.947408            0.895209  0.049664  0.831052   \n                 3  0.966206            0.866436  0.068250  0.795922   \n                 4  0.974706            0.930693  0.062414  0.843536   \n                 5  0.999978            0.960623  0.048394  0.906591   \nscipy            1  0.795440            0.385312  0.334051  0.015630   \n                 2  0.918540            0.786808  0.231791  0.335994   \n                 3  0.973016            0.816939  0.087629  0.752143   \n                 4  0.981445            0.681178  0.360276  0.043834   \n                 5  0.995812            0.910507  0.117591  0.735778   \ngradient_descent 1       NaN                 NaN       NaN       NaN   \n                 2       NaN                 NaN       NaN       NaN   \n                 3       NaN                 NaN       NaN       NaN   \n                 4       NaN                 NaN       NaN       NaN   \n                 5       NaN                 NaN       NaN       NaN   \n\n                             groundspace sharpness            ...  \\\n                         max                  mean       std  ...   \nalgorithm        p                                            ...   \ntdvp             1  0.962394              0.331865  0.164583  ...   \n                 2  0.943499              0.297600  0.061860  ...   \n                 3  0.967577              0.324697  0.090627  ...   \n                 4  0.977556              0.232359  0.100608  ...   \n                 5  0.999983              0.150136  0.143481  ...   \nscipy            1  0.792068              0.346479  0.169024  ...   \n                 2  0.946846              0.338920  0.098601  ...   \n                 3  0.968308              0.366746  0.101873  ...   \n                 4  0.980620              0.308058  0.130118  ...   \n                 5  0.996740              0.214588  0.169398  ...   \ngradient_descent 1       NaN                   NaN       NaN  ...   \n                 2       NaN                   NaN       NaN  ...   \n                 3       NaN                   NaN       NaN  ...   \n                 4       NaN                   NaN       NaN  ...   \n                 5       NaN                   NaN       NaN  ...   \n\n                      gate count               num_fun_calls               \\\n                             min           max          mean          std   \nalgorithm        p                                                          \ntdvp             1  1.069340e+06  1.938870e+06     55.000000     7.014271   \n                 2  1.101945e+07  1.254455e+08    194.000000   203.399115   \n                 3  3.665482e+07  1.293696e+09    548.666667  1003.912081   \n                 4  1.450715e+08  2.956321e+08     83.333333    71.079298   \n                 5  5.209588e+08  4.559181e+09    370.000000   621.564478   \nscipy            1  1.848000e+03  3.808000e+03     22.500000     3.619392   \n                 2  4.608000e+03  1.310400e+04     74.666667    33.152174   \n                 3  5.824000e+03  1.851200e+04     96.000000    52.664979   \n                 4  1.108800e+04  1.779200e+04    102.166667    23.250090   \n                 5  1.394400e+04  4.032000e+04    156.833333    91.750568   \ngradient_descent 1           NaN           NaN           NaN          NaN   \n                 2           NaN           NaN           NaN          NaN   \n                 3           NaN           NaN           NaN          NaN   \n                 4           NaN           NaN           NaN          NaN   \n                 5           NaN           NaN           NaN          NaN   \n\n                                       steps                              \n                     min     max        mean          std    min     max  \nalgorithm        p                                                        \ntdvp             1  44.0    62.0   75.666667     7.312090   62.0    82.0  \n                 2  56.0   602.0  235.000000   232.458168   79.0   701.0  \n                 3   0.0  2588.0  774.600000  1247.291987   85.0  3000.0  \n                 4   0.0   182.0  157.000000    45.731098  126.0   225.0  \n                 5   0.0  1574.0  850.000000   826.339519  179.0  1773.0  \nscipy            1  19.0    27.0   22.500000     3.619392   19.0    27.0  \n                 2  35.0   116.0   74.666667    33.152174   35.0   116.0  \n                 3  54.0   177.0   96.000000    52.664979   54.0   177.0  \n                 4  79.0   138.0  102.166667    23.250090   79.0   138.0  \n                 5  82.0   335.0  156.833333    91.750568   82.0   335.0  \ngradient_descent 1   NaN     NaN         NaN          NaN    NaN     NaN  \n                 2   NaN     NaN         NaN          NaN    NaN     NaN  \n                 3   NaN     NaN         NaN          NaN    NaN     NaN  \n                 4   NaN     NaN         NaN          NaN    NaN     NaN  \n                 5   NaN     NaN         NaN          NaN    NaN     NaN  \n\n[15 rows x 32 columns]",
      "text/html": "<div>\n<style scoped>\n    .dataframe tbody tr th:only-of-type {\n        vertical-align: middle;\n    }\n\n    .dataframe tbody tr th {\n        vertical-align: top;\n    }\n\n    .dataframe thead tr th {\n        text-align: left;\n    }\n\n    .dataframe thead tr:last-of-type th {\n        text-align: right;\n    }\n</style>\n<table border=\"1\" class=\"dataframe\">\n  <thead>\n    <tr>\n      <th></th>\n      <th></th>\n      <th colspan=\"4\" halign=\"left\">expectation approximation ratio</th>\n      <th colspan=\"4\" halign=\"left\">groundspace overlap</th>\n      <th colspan=\"2\" halign=\"left\">groundspace sharpness</th>\n      <th>...</th>\n      <th colspan=\"2\" halign=\"left\">gate count</th>\n      <th colspan=\"4\" halign=\"left\">num_fun_calls</th>\n      <th colspan=\"4\" halign=\"left\">steps</th>\n    </tr>\n    <tr>\n      <th></th>\n      <th></th>\n      <th>mean</th>\n      <th>std</th>\n      <th>min</th>\n      <th>max</th>\n      <th>mean</th>\n      <th>std</th>\n      <th>min</th>\n      <th>max</th>\n      <th>mean</th>\n      <th>std</th>\n      <th>...</th>\n      <th>min</th>\n      <th>max</th>\n      <th>mean</th>\n      <th>std</th>\n      <th>min</th>\n      <th>max</th>\n      <th>mean</th>\n      <th>std</th>\n      <th>min</th>\n      <th>max</th>\n    </tr>\n    <tr>\n      <th>algorithm</th>\n      <th>p</th>\n      <th></th>\n      <th></th>\n      <th></th>\n      <th></th>\n      <th></th>\n      <th></th>\n      <th></th>\n      <th></th>\n      <th></th>\n      <th></th>\n      <th></th>\n      <th></th>\n      <th></th>\n      <th></th>\n      <th></th>\n      <th></th>\n      <th></th>\n      <th></th>\n      <th></th>\n      <th></th>\n      <th></th>\n    </tr>\n  </thead>\n  <tbody>\n    <tr>\n      <th rowspan=\"5\" valign=\"top\">tdvp</th>\n      <th>1</th>\n      <td>0.555697</td>\n      <td>0.320149</td>\n      <td>0.133846</td>\n      <td>0.963225</td>\n      <td>0.464344</td>\n      <td>0.373130</td>\n      <td>0.019871</td>\n      <td>0.962394</td>\n      <td>0.331865</td>\n      <td>0.164583</td>\n      <td>...</td>\n      <td>1.069340e+06</td>\n      <td>1.938870e+06</td>\n      <td>55.000000</td>\n      <td>7.014271</td>\n      <td>44.0</td>\n      <td>62.0</td>\n      <td>75.666667</td>\n      <td>7.312090</td>\n      <td>62.0</td>\n      <td>82.0</td>\n    </tr>\n    <tr>\n      <th>2</th>\n      <td>0.914538</td>\n      <td>0.023949</td>\n      <td>0.873142</td>\n      <td>0.947408</td>\n      <td>0.895209</td>\n      <td>0.049664</td>\n      <td>0.831052</td>\n      <td>0.943499</td>\n      <td>0.297600</td>\n      <td>0.061860</td>\n      <td>...</td>\n      <td>1.101945e+07</td>\n      <td>1.254455e+08</td>\n      <td>194.000000</td>\n      <td>203.399115</td>\n      <td>56.0</td>\n      <td>602.0</td>\n      <td>235.000000</td>\n      <td>232.458168</td>\n      <td>79.0</td>\n      <td>701.0</td>\n    </tr>\n    <tr>\n      <th>3</th>\n      <td>0.926812</td>\n      <td>0.027653</td>\n      <td>0.895857</td>\n      <td>0.966206</td>\n      <td>0.866436</td>\n      <td>0.068250</td>\n      <td>0.795922</td>\n      <td>0.967577</td>\n      <td>0.324697</td>\n      <td>0.090627</td>\n      <td>...</td>\n      <td>3.665482e+07</td>\n      <td>1.293696e+09</td>\n      <td>548.666667</td>\n      <td>1003.912081</td>\n      <td>0.0</td>\n      <td>2588.0</td>\n      <td>774.600000</td>\n      <td>1247.291987</td>\n      <td>85.0</td>\n      <td>3000.0</td>\n    </tr>\n    <tr>\n      <th>4</th>\n      <td>0.943432</td>\n      <td>0.049538</td>\n      <td>0.869999</td>\n      <td>0.974706</td>\n      <td>0.930693</td>\n      <td>0.062414</td>\n      <td>0.843536</td>\n      <td>0.977556</td>\n      <td>0.232359</td>\n      <td>0.100608</td>\n      <td>...</td>\n      <td>1.450715e+08</td>\n      <td>2.956321e+08</td>\n      <td>83.333333</td>\n      <td>71.079298</td>\n      <td>0.0</td>\n      <td>182.0</td>\n      <td>157.000000</td>\n      <td>45.731098</td>\n      <td>126.0</td>\n      <td>225.0</td>\n    </tr>\n    <tr>\n      <th>5</th>\n      <td>0.969683</td>\n      <td>0.032257</td>\n      <td>0.935768</td>\n      <td>0.999978</td>\n      <td>0.960623</td>\n      <td>0.048394</td>\n      <td>0.906591</td>\n      <td>0.999983</td>\n      <td>0.150136</td>\n      <td>0.143481</td>\n      <td>...</td>\n      <td>5.209588e+08</td>\n      <td>4.559181e+09</td>\n      <td>370.000000</td>\n      <td>621.564478</td>\n      <td>0.0</td>\n      <td>1574.0</td>\n      <td>850.000000</td>\n      <td>826.339519</td>\n      <td>179.0</td>\n      <td>1773.0</td>\n    </tr>\n    <tr>\n      <th rowspan=\"5\" valign=\"top\">scipy</th>\n      <th>1</th>\n      <td>0.578786</td>\n      <td>0.215603</td>\n      <td>0.322760</td>\n      <td>0.795440</td>\n      <td>0.385312</td>\n      <td>0.334051</td>\n      <td>0.015630</td>\n      <td>0.792068</td>\n      <td>0.346479</td>\n      <td>0.169024</td>\n      <td>...</td>\n      <td>1.848000e+03</td>\n      <td>3.808000e+03</td>\n      <td>22.500000</td>\n      <td>3.619392</td>\n      <td>19.0</td>\n      <td>27.0</td>\n      <td>22.500000</td>\n      <td>3.619392</td>\n      <td>19.0</td>\n      <td>27.0</td>\n    </tr>\n    <tr>\n      <th>2</th>\n      <td>0.850797</td>\n      <td>0.141596</td>\n      <td>0.562920</td>\n      <td>0.918540</td>\n      <td>0.786808</td>\n      <td>0.231791</td>\n      <td>0.335994</td>\n      <td>0.946846</td>\n      <td>0.338920</td>\n      <td>0.098601</td>\n      <td>...</td>\n      <td>4.608000e+03</td>\n      <td>1.310400e+04</td>\n      <td>74.666667</td>\n      <td>33.152174</td>\n      <td>35.0</td>\n      <td>116.0</td>\n      <td>74.666667</td>\n      <td>33.152174</td>\n      <td>35.0</td>\n      <td>116.0</td>\n    </tr>\n    <tr>\n      <th>3</th>\n      <td>0.880351</td>\n      <td>0.073960</td>\n      <td>0.760516</td>\n      <td>0.973016</td>\n      <td>0.816939</td>\n      <td>0.087629</td>\n      <td>0.752143</td>\n      <td>0.968308</td>\n      <td>0.366746</td>\n      <td>0.101873</td>\n      <td>...</td>\n      <td>5.824000e+03</td>\n      <td>1.851200e+04</td>\n      <td>96.000000</td>\n      <td>52.664979</td>\n      <td>54.0</td>\n      <td>177.0</td>\n      <td>96.000000</td>\n      <td>52.664979</td>\n      <td>54.0</td>\n      <td>177.0</td>\n    </tr>\n    <tr>\n      <th>4</th>\n      <td>0.832498</td>\n      <td>0.142717</td>\n      <td>0.623810</td>\n      <td>0.981445</td>\n      <td>0.681178</td>\n      <td>0.360276</td>\n      <td>0.043834</td>\n      <td>0.980620</td>\n      <td>0.308058</td>\n      <td>0.130118</td>\n      <td>...</td>\n      <td>1.108800e+04</td>\n      <td>1.779200e+04</td>\n      <td>102.166667</td>\n      <td>23.250090</td>\n      <td>79.0</td>\n      <td>138.0</td>\n      <td>102.166667</td>\n      <td>23.250090</td>\n      <td>79.0</td>\n      <td>138.0</td>\n    </tr>\n    <tr>\n      <th>5</th>\n      <td>0.941948</td>\n      <td>0.074239</td>\n      <td>0.821507</td>\n      <td>0.995812</td>\n      <td>0.910507</td>\n      <td>0.117591</td>\n      <td>0.735778</td>\n      <td>0.996740</td>\n      <td>0.214588</td>\n      <td>0.169398</td>\n      <td>...</td>\n      <td>1.394400e+04</td>\n      <td>4.032000e+04</td>\n      <td>156.833333</td>\n      <td>91.750568</td>\n      <td>82.0</td>\n      <td>335.0</td>\n      <td>156.833333</td>\n      <td>91.750568</td>\n      <td>82.0</td>\n      <td>335.0</td>\n    </tr>\n    <tr>\n      <th rowspan=\"5\" valign=\"top\">gradient_descent</th>\n      <th>1</th>\n      <td>NaN</td>\n      <td>NaN</td>\n      <td>NaN</td>\n      <td>NaN</td>\n      <td>NaN</td>\n      <td>NaN</td>\n      <td>NaN</td>\n      <td>NaN</td>\n      <td>NaN</td>\n      <td>NaN</td>\n      <td>...</td>\n      <td>NaN</td>\n      <td>NaN</td>\n      <td>NaN</td>\n      <td>NaN</td>\n      <td>NaN</td>\n      <td>NaN</td>\n      <td>NaN</td>\n      <td>NaN</td>\n      <td>NaN</td>\n      <td>NaN</td>\n    </tr>\n    <tr>\n      <th>2</th>\n      <td>NaN</td>\n      <td>NaN</td>\n      <td>NaN</td>\n      <td>NaN</td>\n      <td>NaN</td>\n      <td>NaN</td>\n      <td>NaN</td>\n      <td>NaN</td>\n      <td>NaN</td>\n      <td>NaN</td>\n      <td>...</td>\n      <td>NaN</td>\n      <td>NaN</td>\n      <td>NaN</td>\n      <td>NaN</td>\n      <td>NaN</td>\n      <td>NaN</td>\n      <td>NaN</td>\n      <td>NaN</td>\n      <td>NaN</td>\n      <td>NaN</td>\n    </tr>\n    <tr>\n      <th>3</th>\n      <td>NaN</td>\n      <td>NaN</td>\n      <td>NaN</td>\n      <td>NaN</td>\n      <td>NaN</td>\n      <td>NaN</td>\n      <td>NaN</td>\n      <td>NaN</td>\n      <td>NaN</td>\n      <td>NaN</td>\n      <td>...</td>\n      <td>NaN</td>\n      <td>NaN</td>\n      <td>NaN</td>\n      <td>NaN</td>\n      <td>NaN</td>\n      <td>NaN</td>\n      <td>NaN</td>\n      <td>NaN</td>\n      <td>NaN</td>\n      <td>NaN</td>\n    </tr>\n    <tr>\n      <th>4</th>\n      <td>NaN</td>\n      <td>NaN</td>\n      <td>NaN</td>\n      <td>NaN</td>\n      <td>NaN</td>\n      <td>NaN</td>\n      <td>NaN</td>\n      <td>NaN</td>\n      <td>NaN</td>\n      <td>NaN</td>\n      <td>...</td>\n      <td>NaN</td>\n      <td>NaN</td>\n      <td>NaN</td>\n      <td>NaN</td>\n      <td>NaN</td>\n      <td>NaN</td>\n      <td>NaN</td>\n      <td>NaN</td>\n      <td>NaN</td>\n      <td>NaN</td>\n    </tr>\n    <tr>\n      <th>5</th>\n      <td>NaN</td>\n      <td>NaN</td>\n      <td>NaN</td>\n      <td>NaN</td>\n      <td>NaN</td>\n      <td>NaN</td>\n      <td>NaN</td>\n      <td>NaN</td>\n      <td>NaN</td>\n      <td>NaN</td>\n      <td>...</td>\n      <td>NaN</td>\n      <td>NaN</td>\n      <td>NaN</td>\n      <td>NaN</td>\n      <td>NaN</td>\n      <td>NaN</td>\n      <td>NaN</td>\n      <td>NaN</td>\n      <td>NaN</td>\n      <td>NaN</td>\n    </tr>\n  </tbody>\n</table>\n<p>15 rows × 32 columns</p>\n</div>"
     },
     "execution_count": 4,
     "metadata": {},
     "output_type": "execute_result"
    }
   ],
   "source": [
    "with open(f'.//results//n{n}_stats.p', 'rb') as file:\n",
    "    stats = pickle.load(file)\n",
    "stats"
   ],
   "metadata": {
    "collapsed": false
   }
  },
  {
   "cell_type": "code",
   "execution_count": 8,
   "outputs": [
    {
     "data": {
      "text/plain": "  algorithm  p      mean       std       min       max\n0      tdvp  1  0.555697  0.320149  0.133846  0.963225\n1      tdvp  2  0.914538  0.023949  0.873142  0.947408\n2      tdvp  3  0.926812  0.027653  0.895857  0.966206\n3      tdvp  4  0.943432  0.049538  0.869999  0.974706\n4      tdvp  5  0.969683  0.032257  0.935768  0.999978",
      "text/html": "<div>\n<style scoped>\n    .dataframe tbody tr th:only-of-type {\n        vertical-align: middle;\n    }\n\n    .dataframe tbody tr th {\n        vertical-align: top;\n    }\n\n    .dataframe thead th {\n        text-align: right;\n    }\n</style>\n<table border=\"1\" class=\"dataframe\">\n  <thead>\n    <tr style=\"text-align: right;\">\n      <th></th>\n      <th>algorithm</th>\n      <th>p</th>\n      <th>mean</th>\n      <th>std</th>\n      <th>min</th>\n      <th>max</th>\n    </tr>\n  </thead>\n  <tbody>\n    <tr>\n      <th>0</th>\n      <td>tdvp</td>\n      <td>1</td>\n      <td>0.555697</td>\n      <td>0.320149</td>\n      <td>0.133846</td>\n      <td>0.963225</td>\n    </tr>\n    <tr>\n      <th>1</th>\n      <td>tdvp</td>\n      <td>2</td>\n      <td>0.914538</td>\n      <td>0.023949</td>\n      <td>0.873142</td>\n      <td>0.947408</td>\n    </tr>\n    <tr>\n      <th>2</th>\n      <td>tdvp</td>\n      <td>3</td>\n      <td>0.926812</td>\n      <td>0.027653</td>\n      <td>0.895857</td>\n      <td>0.966206</td>\n    </tr>\n    <tr>\n      <th>3</th>\n      <td>tdvp</td>\n      <td>4</td>\n      <td>0.943432</td>\n      <td>0.049538</td>\n      <td>0.869999</td>\n      <td>0.974706</td>\n    </tr>\n    <tr>\n      <th>4</th>\n      <td>tdvp</td>\n      <td>5</td>\n      <td>0.969683</td>\n      <td>0.032257</td>\n      <td>0.935768</td>\n      <td>0.999978</td>\n    </tr>\n  </tbody>\n</table>\n</div>"
     },
     "execution_count": 8,
     "metadata": {},
     "output_type": "execute_result"
    }
   ],
   "source": [
    "stats['expectation approximation ratio'].reset_index()"
   ],
   "metadata": {
    "collapsed": false
   }
  },
  {
   "cell_type": "code",
   "execution_count": 36,
   "outputs": [
    {
     "name": "stderr",
     "output_type": "stream",
     "text": [
      "/tmp/ipykernel_818564/1747328897.py:1: FutureWarning:\n",
      "\n",
      "The frame.append method is deprecated and will be removed from pandas in a future version. Use pandas.concat instead.\n",
      "\n",
      "/tmp/ipykernel_818564/1747328897.py:1: FutureWarning:\n",
      "\n",
      "The frame.append method is deprecated and will be removed from pandas in a future version. Use pandas.concat instead.\n",
      "\n"
     ]
    },
    {
     "data": {
      "text/plain": "                                    instance    p    n delta_0  tollarance  \\\n0   <MaxCut.MaxCut object at 0x7fa3ac7d7040>  1.0  4.0  (1, 1)        0.01   \n1   <MaxCut.MaxCut object at 0x7fa3a860b220>  1.0  4.0  (1, 1)        0.01   \n2   <MaxCut.MaxCut object at 0x7fa3399e8280>  1.0  4.0  (1, 1)        0.01   \n3   <MaxCut.MaxCut object at 0x7fa3399e8520>  1.0  4.0  (1, 1)        0.01   \n4   <MaxCut.MaxCut object at 0x7fa3399e87c0>  1.0  4.0  (1, 1)        0.01   \n..                                       ...  ...  ...     ...         ...   \n85                                       NaN  NaN  NaN     NaN         NaN   \n86                                       NaN  NaN  NaN     NaN         NaN   \n87                                       NaN  NaN  NaN     NaN         NaN   \n88                                       NaN  NaN  NaN     NaN         NaN   \n89                                       NaN  NaN  NaN     NaN         NaN   \n\n   algorithm                                                res  \\\n0       tdvp  \\n        tdvp_optimizer with circuit gradient...   \n1       tdvp  \\n        tdvp_optimizer with circuit gradient...   \n2       tdvp  \\n        tdvp_optimizer with circuit gradient...   \n3       tdvp  \\n        tdvp_optimizer with circuit gradient...   \n4       tdvp  \\n        tdvp_optimizer with circuit gradient...   \n..       ...                                                ...   \n85       NaN                                                NaN   \n86       NaN                                                NaN   \n87       NaN                                                NaN   \n88       NaN                                                NaN   \n89       NaN                                                NaN   \n\n                                        delta     value  \\\n0     (0.8004614859841208, 1.200017375920161) -2.740176   \n1   (0.7853259863082644, 0.41804050898088735) -4.662015   \n2    (2.3897286877156425, 0.9088555633913564) -2.259662   \n3   (0.7882339542400119, 0.38060095993982723) -6.742576   \n4      (0.735143438057328, 1.342046739627778) -1.171157   \n..                                        ...       ...   \n85                                        NaN       NaN   \n86                                        NaN       NaN   \n87                                        NaN       NaN   \n88                                        NaN       NaN   \n89                                        NaN       NaN   \n\n                                                 path  ...  answer  \\\n0   [(1.0, 1.0), (0.9308945581487198, 1.0484637612...  ...     0.0   \n1   [(1.0, 1.0), (1.0064270736538048, 0.9480476815...  ...     0.0   \n2   [(1.0, 1.0), (1.0549283194149366, 1.0176357595...  ...     8.0   \n3   [(1.0, 1.0), (1.0003446899954056, 0.9469224183...  ...     0.0   \n4   [(1.0, 1.0), (1.0972843306639006, 1.0432905049...  ...     5.0   \n..                                                ...  ...     ...   \n85                                                NaN  ...     NaN   \n86                                                NaN  ...     NaN   \n87                                                NaN  ...     NaN   \n88                                                NaN  ...     NaN   \n89                                                NaN  ...     NaN   \n\n    bin_answer  best_cost_value approximation ratio  \\\n0         0000            -5.25            1.000000   \n1         0000            -5.25            1.000000   \n2         1000            -7.00            0.785714   \n3         0000            -7.00            1.000000   \n4         0101            -8.75            0.314286   \n..         ...              ...                 ...   \n85         NaN              NaN                 NaN   \n86         NaN              NaN                 NaN   \n87         NaN              NaN                 NaN   \n88         NaN              NaN                 NaN   \n89         NaN              NaN                 NaN   \n\n    expectation approximation ratio  circuit count gate count  path length  \\\n0                          0.521938         6697.0  1069340.0     0.314422   \n1                          0.888003         8533.0  1362522.0     0.681773   \n2                          0.322809         8533.0  1607754.0     1.458107   \n3                          0.963225         8857.0  1668804.0     0.736806   \n4                          0.133846         8533.0  1852986.0     0.995218   \n..                              ...            ...        ...          ...   \n85                              NaN            NaN        NaN          NaN   \n86                              NaN            NaN        NaN          NaN   \n87                              NaN            NaN        NaN          NaN   \n88                              NaN            NaN        NaN          NaN   \n89                              NaN            NaN        NaN          NaN   \n\n    groundspace overlap  groundspace sharpness  \n0              0.452550               0.497743  \n1              0.729768               0.444079  \n2              0.019871               0.139555  \n3              0.962394               0.190241  \n4              0.053116               0.224265  \n..                  ...                    ...  \n85                  NaN                    NaN  \n86                  NaN                    NaN  \n87                  NaN                    NaN  \n88                  NaN                    NaN  \n89                  NaN                    NaN  \n\n[90 rows x 25 columns]",
      "text/html": "<div>\n<style scoped>\n    .dataframe tbody tr th:only-of-type {\n        vertical-align: middle;\n    }\n\n    .dataframe tbody tr th {\n        vertical-align: top;\n    }\n\n    .dataframe thead th {\n        text-align: right;\n    }\n</style>\n<table border=\"1\" class=\"dataframe\">\n  <thead>\n    <tr style=\"text-align: right;\">\n      <th></th>\n      <th>instance</th>\n      <th>p</th>\n      <th>n</th>\n      <th>delta_0</th>\n      <th>tollarance</th>\n      <th>algorithm</th>\n      <th>res</th>\n      <th>delta</th>\n      <th>value</th>\n      <th>path</th>\n      <th>...</th>\n      <th>answer</th>\n      <th>bin_answer</th>\n      <th>best_cost_value</th>\n      <th>approximation ratio</th>\n      <th>expectation approximation ratio</th>\n      <th>circuit count</th>\n      <th>gate count</th>\n      <th>path length</th>\n      <th>groundspace overlap</th>\n      <th>groundspace sharpness</th>\n    </tr>\n  </thead>\n  <tbody>\n    <tr>\n      <th>0</th>\n      <td>&lt;MaxCut.MaxCut object at 0x7fa3ac7d7040&gt;</td>\n      <td>1.0</td>\n      <td>4.0</td>\n      <td>(1, 1)</td>\n      <td>0.01</td>\n      <td>tdvp</td>\n      <td>\\n        tdvp_optimizer with circuit gradient...</td>\n      <td>(0.8004614859841208, 1.200017375920161)</td>\n      <td>-2.740176</td>\n      <td>[(1.0, 1.0), (0.9308945581487198, 1.0484637612...</td>\n      <td>...</td>\n      <td>0.0</td>\n      <td>0000</td>\n      <td>-5.25</td>\n      <td>1.000000</td>\n      <td>0.521938</td>\n      <td>6697.0</td>\n      <td>1069340.0</td>\n      <td>0.314422</td>\n      <td>0.452550</td>\n      <td>0.497743</td>\n    </tr>\n    <tr>\n      <th>1</th>\n      <td>&lt;MaxCut.MaxCut object at 0x7fa3a860b220&gt;</td>\n      <td>1.0</td>\n      <td>4.0</td>\n      <td>(1, 1)</td>\n      <td>0.01</td>\n      <td>tdvp</td>\n      <td>\\n        tdvp_optimizer with circuit gradient...</td>\n      <td>(0.7853259863082644, 0.41804050898088735)</td>\n      <td>-4.662015</td>\n      <td>[(1.0, 1.0), (1.0064270736538048, 0.9480476815...</td>\n      <td>...</td>\n      <td>0.0</td>\n      <td>0000</td>\n      <td>-5.25</td>\n      <td>1.000000</td>\n      <td>0.888003</td>\n      <td>8533.0</td>\n      <td>1362522.0</td>\n      <td>0.681773</td>\n      <td>0.729768</td>\n      <td>0.444079</td>\n    </tr>\n    <tr>\n      <th>2</th>\n      <td>&lt;MaxCut.MaxCut object at 0x7fa3399e8280&gt;</td>\n      <td>1.0</td>\n      <td>4.0</td>\n      <td>(1, 1)</td>\n      <td>0.01</td>\n      <td>tdvp</td>\n      <td>\\n        tdvp_optimizer with circuit gradient...</td>\n      <td>(2.3897286877156425, 0.9088555633913564)</td>\n      <td>-2.259662</td>\n      <td>[(1.0, 1.0), (1.0549283194149366, 1.0176357595...</td>\n      <td>...</td>\n      <td>8.0</td>\n      <td>1000</td>\n      <td>-7.00</td>\n      <td>0.785714</td>\n      <td>0.322809</td>\n      <td>8533.0</td>\n      <td>1607754.0</td>\n      <td>1.458107</td>\n      <td>0.019871</td>\n      <td>0.139555</td>\n    </tr>\n    <tr>\n      <th>3</th>\n      <td>&lt;MaxCut.MaxCut object at 0x7fa3399e8520&gt;</td>\n      <td>1.0</td>\n      <td>4.0</td>\n      <td>(1, 1)</td>\n      <td>0.01</td>\n      <td>tdvp</td>\n      <td>\\n        tdvp_optimizer with circuit gradient...</td>\n      <td>(0.7882339542400119, 0.38060095993982723)</td>\n      <td>-6.742576</td>\n      <td>[(1.0, 1.0), (1.0003446899954056, 0.9469224183...</td>\n      <td>...</td>\n      <td>0.0</td>\n      <td>0000</td>\n      <td>-7.00</td>\n      <td>1.000000</td>\n      <td>0.963225</td>\n      <td>8857.0</td>\n      <td>1668804.0</td>\n      <td>0.736806</td>\n      <td>0.962394</td>\n      <td>0.190241</td>\n    </tr>\n    <tr>\n      <th>4</th>\n      <td>&lt;MaxCut.MaxCut object at 0x7fa3399e87c0&gt;</td>\n      <td>1.0</td>\n      <td>4.0</td>\n      <td>(1, 1)</td>\n      <td>0.01</td>\n      <td>tdvp</td>\n      <td>\\n        tdvp_optimizer with circuit gradient...</td>\n      <td>(0.735143438057328, 1.342046739627778)</td>\n      <td>-1.171157</td>\n      <td>[(1.0, 1.0), (1.0972843306639006, 1.0432905049...</td>\n      <td>...</td>\n      <td>5.0</td>\n      <td>0101</td>\n      <td>-8.75</td>\n      <td>0.314286</td>\n      <td>0.133846</td>\n      <td>8533.0</td>\n      <td>1852986.0</td>\n      <td>0.995218</td>\n      <td>0.053116</td>\n      <td>0.224265</td>\n    </tr>\n    <tr>\n      <th>...</th>\n      <td>...</td>\n      <td>...</td>\n      <td>...</td>\n      <td>...</td>\n      <td>...</td>\n      <td>...</td>\n      <td>...</td>\n      <td>...</td>\n      <td>...</td>\n      <td>...</td>\n      <td>...</td>\n      <td>...</td>\n      <td>...</td>\n      <td>...</td>\n      <td>...</td>\n      <td>...</td>\n      <td>...</td>\n      <td>...</td>\n      <td>...</td>\n      <td>...</td>\n      <td>...</td>\n    </tr>\n    <tr>\n      <th>85</th>\n      <td>NaN</td>\n      <td>NaN</td>\n      <td>NaN</td>\n      <td>NaN</td>\n      <td>NaN</td>\n      <td>NaN</td>\n      <td>NaN</td>\n      <td>NaN</td>\n      <td>NaN</td>\n      <td>NaN</td>\n      <td>...</td>\n      <td>NaN</td>\n      <td>NaN</td>\n      <td>NaN</td>\n      <td>NaN</td>\n      <td>NaN</td>\n      <td>NaN</td>\n      <td>NaN</td>\n      <td>NaN</td>\n      <td>NaN</td>\n      <td>NaN</td>\n    </tr>\n    <tr>\n      <th>86</th>\n      <td>NaN</td>\n      <td>NaN</td>\n      <td>NaN</td>\n      <td>NaN</td>\n      <td>NaN</td>\n      <td>NaN</td>\n      <td>NaN</td>\n      <td>NaN</td>\n      <td>NaN</td>\n      <td>NaN</td>\n      <td>...</td>\n      <td>NaN</td>\n      <td>NaN</td>\n      <td>NaN</td>\n      <td>NaN</td>\n      <td>NaN</td>\n      <td>NaN</td>\n      <td>NaN</td>\n      <td>NaN</td>\n      <td>NaN</td>\n      <td>NaN</td>\n    </tr>\n    <tr>\n      <th>87</th>\n      <td>NaN</td>\n      <td>NaN</td>\n      <td>NaN</td>\n      <td>NaN</td>\n      <td>NaN</td>\n      <td>NaN</td>\n      <td>NaN</td>\n      <td>NaN</td>\n      <td>NaN</td>\n      <td>NaN</td>\n      <td>...</td>\n      <td>NaN</td>\n      <td>NaN</td>\n      <td>NaN</td>\n      <td>NaN</td>\n      <td>NaN</td>\n      <td>NaN</td>\n      <td>NaN</td>\n      <td>NaN</td>\n      <td>NaN</td>\n      <td>NaN</td>\n    </tr>\n    <tr>\n      <th>88</th>\n      <td>NaN</td>\n      <td>NaN</td>\n      <td>NaN</td>\n      <td>NaN</td>\n      <td>NaN</td>\n      <td>NaN</td>\n      <td>NaN</td>\n      <td>NaN</td>\n      <td>NaN</td>\n      <td>NaN</td>\n      <td>...</td>\n      <td>NaN</td>\n      <td>NaN</td>\n      <td>NaN</td>\n      <td>NaN</td>\n      <td>NaN</td>\n      <td>NaN</td>\n      <td>NaN</td>\n      <td>NaN</td>\n      <td>NaN</td>\n      <td>NaN</td>\n    </tr>\n    <tr>\n      <th>89</th>\n      <td>NaN</td>\n      <td>NaN</td>\n      <td>NaN</td>\n      <td>NaN</td>\n      <td>NaN</td>\n      <td>NaN</td>\n      <td>NaN</td>\n      <td>NaN</td>\n      <td>NaN</td>\n      <td>NaN</td>\n      <td>...</td>\n      <td>NaN</td>\n      <td>NaN</td>\n      <td>NaN</td>\n      <td>NaN</td>\n      <td>NaN</td>\n      <td>NaN</td>\n      <td>NaN</td>\n      <td>NaN</td>\n      <td>NaN</td>\n      <td>NaN</td>\n    </tr>\n  </tbody>\n</table>\n<p>90 rows × 25 columns</p>\n</div>"
     },
     "execution_count": 36,
     "metadata": {},
     "output_type": "execute_result"
    }
   ],
   "source": [],
   "metadata": {
    "collapsed": false
   }
  },
  {
   "cell_type": "code",
   "execution_count": 72,
   "outputs": [
    {
     "data": {
      "application/vnd.plotly.v1+json": {
       "data": [
        {
         "alignmentgroup": "True",
         "hovertemplate": "algorithm=tdvp<br>p=%{x}<br>expectation approximation ratio=%{y}<extra></extra>",
         "legendgroup": "tdvp",
         "marker": {
          "color": "#636efa"
         },
         "name": "tdvp",
         "notched": false,
         "offsetgroup": "tdvp",
         "orientation": "v",
         "showlegend": true,
         "x": [
          1.0,
          1.0,
          1.0,
          1.0,
          1.0,
          1.0,
          2.0,
          2.0,
          2.0,
          2.0,
          2.0,
          2.0,
          3.0,
          3.0,
          3.0,
          3.0,
          3.0,
          3.0,
          4.0,
          4.0,
          4.0,
          4.0,
          4.0,
          4.0,
          5.0,
          5.0,
          5.0,
          5.0,
          5.0,
          5.0
         ],
         "x0": " ",
         "xaxis": "x",
         "y": [
          0.52193828153963,
          0.8880028480154419,
          0.3228089271866118,
          0.9632252053458201,
          0.13384647796964863,
          0.5043619914779066,
          0.8731416902445398,
          0.9159961480481603,
          0.9108455941028738,
          0.9199551537220306,
          0.9474084375051172,
          0.9198793802412082,
          0.9053451078595783,
          0.8958571822061743,
          0.9345664570067939,
          0.9662061733227744,
          0.932083285396774,
          null,
          0.9747057777279092,
          0.9716805790052311,
          0.9573417235464392,
          null,
          0.8699991409885066,
          null,
          null,
          0.9999776397402755,
          0.9733020834223239,
          null,
          0.9357684016166762,
          null
         ],
         "y0": " ",
         "yaxis": "y",
         "type": "box"
        },
        {
         "alignmentgroup": "True",
         "hovertemplate": "algorithm=scipy<br>p=%{x}<br>expectation approximation ratio=%{y}<extra></extra>",
         "legendgroup": "scipy",
         "marker": {
          "color": "#EF553B"
         },
         "name": "scipy",
         "notched": false,
         "offsetgroup": "scipy",
         "orientation": "v",
         "showlegend": true,
         "x": [
          1.0,
          1.0,
          1.0,
          1.0,
          1.0,
          1.0,
          2.0,
          2.0,
          2.0,
          2.0,
          2.0,
          2.0,
          3.0,
          3.0,
          3.0,
          3.0,
          3.0,
          3.0,
          4.0,
          4.0,
          4.0,
          4.0,
          4.0,
          4.0,
          5.0,
          5.0,
          5.0,
          5.0,
          5.0,
          5.0
         ],
         "x0": " ",
         "xaxis": "x",
         "y": [
          0.7799662237788235,
          0.3276053256974091,
          0.3227601789485898,
          0.7021352109240994,
          0.5448122393175796,
          0.7954397619788438,
          0.884422563186278,
          0.9153276458048862,
          0.9185400902307068,
          0.9168179879641575,
          0.5629195712961277,
          0.9067534274112826,
          0.8752626979983399,
          0.9208419770316046,
          0.8394642675404452,
          0.9730155528306108,
          0.7605163710877753,
          0.9130032179126492,
          0.9814446591532002,
          0.9360289173134761,
          0.6238102473007959,
          0.9171191461188334,
          0.6976480391855345,
          0.8389381812067649,
          0.9755984613060869,
          0.9910887451925835,
          0.8769605876029043,
          0.9907221407437554,
          0.821506949221113,
          0.9958124608910823
         ],
         "y0": " ",
         "yaxis": "y",
         "type": "box"
        }
       ],
       "layout": {
        "template": {
         "data": {
          "histogram2dcontour": [
           {
            "type": "histogram2dcontour",
            "colorbar": {
             "outlinewidth": 0,
             "ticks": ""
            },
            "colorscale": [
             [
              0.0,
              "#0d0887"
             ],
             [
              0.1111111111111111,
              "#46039f"
             ],
             [
              0.2222222222222222,
              "#7201a8"
             ],
             [
              0.3333333333333333,
              "#9c179e"
             ],
             [
              0.4444444444444444,
              "#bd3786"
             ],
             [
              0.5555555555555556,
              "#d8576b"
             ],
             [
              0.6666666666666666,
              "#ed7953"
             ],
             [
              0.7777777777777778,
              "#fb9f3a"
             ],
             [
              0.8888888888888888,
              "#fdca26"
             ],
             [
              1.0,
              "#f0f921"
             ]
            ]
           }
          ],
          "choropleth": [
           {
            "type": "choropleth",
            "colorbar": {
             "outlinewidth": 0,
             "ticks": ""
            }
           }
          ],
          "histogram2d": [
           {
            "type": "histogram2d",
            "colorbar": {
             "outlinewidth": 0,
             "ticks": ""
            },
            "colorscale": [
             [
              0.0,
              "#0d0887"
             ],
             [
              0.1111111111111111,
              "#46039f"
             ],
             [
              0.2222222222222222,
              "#7201a8"
             ],
             [
              0.3333333333333333,
              "#9c179e"
             ],
             [
              0.4444444444444444,
              "#bd3786"
             ],
             [
              0.5555555555555556,
              "#d8576b"
             ],
             [
              0.6666666666666666,
              "#ed7953"
             ],
             [
              0.7777777777777778,
              "#fb9f3a"
             ],
             [
              0.8888888888888888,
              "#fdca26"
             ],
             [
              1.0,
              "#f0f921"
             ]
            ]
           }
          ],
          "heatmap": [
           {
            "type": "heatmap",
            "colorbar": {
             "outlinewidth": 0,
             "ticks": ""
            },
            "colorscale": [
             [
              0.0,
              "#0d0887"
             ],
             [
              0.1111111111111111,
              "#46039f"
             ],
             [
              0.2222222222222222,
              "#7201a8"
             ],
             [
              0.3333333333333333,
              "#9c179e"
             ],
             [
              0.4444444444444444,
              "#bd3786"
             ],
             [
              0.5555555555555556,
              "#d8576b"
             ],
             [
              0.6666666666666666,
              "#ed7953"
             ],
             [
              0.7777777777777778,
              "#fb9f3a"
             ],
             [
              0.8888888888888888,
              "#fdca26"
             ],
             [
              1.0,
              "#f0f921"
             ]
            ]
           }
          ],
          "heatmapgl": [
           {
            "type": "heatmapgl",
            "colorbar": {
             "outlinewidth": 0,
             "ticks": ""
            },
            "colorscale": [
             [
              0.0,
              "#0d0887"
             ],
             [
              0.1111111111111111,
              "#46039f"
             ],
             [
              0.2222222222222222,
              "#7201a8"
             ],
             [
              0.3333333333333333,
              "#9c179e"
             ],
             [
              0.4444444444444444,
              "#bd3786"
             ],
             [
              0.5555555555555556,
              "#d8576b"
             ],
             [
              0.6666666666666666,
              "#ed7953"
             ],
             [
              0.7777777777777778,
              "#fb9f3a"
             ],
             [
              0.8888888888888888,
              "#fdca26"
             ],
             [
              1.0,
              "#f0f921"
             ]
            ]
           }
          ],
          "contourcarpet": [
           {
            "type": "contourcarpet",
            "colorbar": {
             "outlinewidth": 0,
             "ticks": ""
            }
           }
          ],
          "contour": [
           {
            "type": "contour",
            "colorbar": {
             "outlinewidth": 0,
             "ticks": ""
            },
            "colorscale": [
             [
              0.0,
              "#0d0887"
             ],
             [
              0.1111111111111111,
              "#46039f"
             ],
             [
              0.2222222222222222,
              "#7201a8"
             ],
             [
              0.3333333333333333,
              "#9c179e"
             ],
             [
              0.4444444444444444,
              "#bd3786"
             ],
             [
              0.5555555555555556,
              "#d8576b"
             ],
             [
              0.6666666666666666,
              "#ed7953"
             ],
             [
              0.7777777777777778,
              "#fb9f3a"
             ],
             [
              0.8888888888888888,
              "#fdca26"
             ],
             [
              1.0,
              "#f0f921"
             ]
            ]
           }
          ],
          "surface": [
           {
            "type": "surface",
            "colorbar": {
             "outlinewidth": 0,
             "ticks": ""
            },
            "colorscale": [
             [
              0.0,
              "#0d0887"
             ],
             [
              0.1111111111111111,
              "#46039f"
             ],
             [
              0.2222222222222222,
              "#7201a8"
             ],
             [
              0.3333333333333333,
              "#9c179e"
             ],
             [
              0.4444444444444444,
              "#bd3786"
             ],
             [
              0.5555555555555556,
              "#d8576b"
             ],
             [
              0.6666666666666666,
              "#ed7953"
             ],
             [
              0.7777777777777778,
              "#fb9f3a"
             ],
             [
              0.8888888888888888,
              "#fdca26"
             ],
             [
              1.0,
              "#f0f921"
             ]
            ]
           }
          ],
          "mesh3d": [
           {
            "type": "mesh3d",
            "colorbar": {
             "outlinewidth": 0,
             "ticks": ""
            }
           }
          ],
          "scatter": [
           {
            "marker": {
             "line": {
              "color": "#283442"
             }
            },
            "type": "scatter"
           }
          ],
          "parcoords": [
           {
            "type": "parcoords",
            "line": {
             "colorbar": {
              "outlinewidth": 0,
              "ticks": ""
             }
            }
           }
          ],
          "scatterpolargl": [
           {
            "type": "scatterpolargl",
            "marker": {
             "colorbar": {
              "outlinewidth": 0,
              "ticks": ""
             }
            }
           }
          ],
          "bar": [
           {
            "error_x": {
             "color": "#f2f5fa"
            },
            "error_y": {
             "color": "#f2f5fa"
            },
            "marker": {
             "line": {
              "color": "rgb(17,17,17)",
              "width": 0.5
             },
             "pattern": {
              "fillmode": "overlay",
              "size": 10,
              "solidity": 0.2
             }
            },
            "type": "bar"
           }
          ],
          "scattergeo": [
           {
            "type": "scattergeo",
            "marker": {
             "colorbar": {
              "outlinewidth": 0,
              "ticks": ""
             }
            }
           }
          ],
          "scatterpolar": [
           {
            "type": "scatterpolar",
            "marker": {
             "colorbar": {
              "outlinewidth": 0,
              "ticks": ""
             }
            }
           }
          ],
          "histogram": [
           {
            "marker": {
             "pattern": {
              "fillmode": "overlay",
              "size": 10,
              "solidity": 0.2
             }
            },
            "type": "histogram"
           }
          ],
          "scattergl": [
           {
            "marker": {
             "line": {
              "color": "#283442"
             }
            },
            "type": "scattergl"
           }
          ],
          "scatter3d": [
           {
            "type": "scatter3d",
            "line": {
             "colorbar": {
              "outlinewidth": 0,
              "ticks": ""
             }
            },
            "marker": {
             "colorbar": {
              "outlinewidth": 0,
              "ticks": ""
             }
            }
           }
          ],
          "scattermapbox": [
           {
            "type": "scattermapbox",
            "marker": {
             "colorbar": {
              "outlinewidth": 0,
              "ticks": ""
             }
            }
           }
          ],
          "scatterternary": [
           {
            "type": "scatterternary",
            "marker": {
             "colorbar": {
              "outlinewidth": 0,
              "ticks": ""
             }
            }
           }
          ],
          "scattercarpet": [
           {
            "type": "scattercarpet",
            "marker": {
             "colorbar": {
              "outlinewidth": 0,
              "ticks": ""
             }
            }
           }
          ],
          "carpet": [
           {
            "aaxis": {
             "endlinecolor": "#A2B1C6",
             "gridcolor": "#506784",
             "linecolor": "#506784",
             "minorgridcolor": "#506784",
             "startlinecolor": "#A2B1C6"
            },
            "baxis": {
             "endlinecolor": "#A2B1C6",
             "gridcolor": "#506784",
             "linecolor": "#506784",
             "minorgridcolor": "#506784",
             "startlinecolor": "#A2B1C6"
            },
            "type": "carpet"
           }
          ],
          "table": [
           {
            "cells": {
             "fill": {
              "color": "#506784"
             },
             "line": {
              "color": "rgb(17,17,17)"
             }
            },
            "header": {
             "fill": {
              "color": "#2a3f5f"
             },
             "line": {
              "color": "rgb(17,17,17)"
             }
            },
            "type": "table"
           }
          ],
          "barpolar": [
           {
            "marker": {
             "line": {
              "color": "rgb(17,17,17)",
              "width": 0.5
             },
             "pattern": {
              "fillmode": "overlay",
              "size": 10,
              "solidity": 0.2
             }
            },
            "type": "barpolar"
           }
          ],
          "pie": [
           {
            "automargin": true,
            "type": "pie"
           }
          ]
         },
         "layout": {
          "autotypenumbers": "strict",
          "colorway": [
           "#636efa",
           "#EF553B",
           "#00cc96",
           "#ab63fa",
           "#FFA15A",
           "#19d3f3",
           "#FF6692",
           "#B6E880",
           "#FF97FF",
           "#FECB52"
          ],
          "font": {
           "color": "#f2f5fa"
          },
          "hovermode": "closest",
          "hoverlabel": {
           "align": "left"
          },
          "paper_bgcolor": "rgb(17,17,17)",
          "plot_bgcolor": "rgb(17,17,17)",
          "polar": {
           "bgcolor": "rgb(17,17,17)",
           "angularaxis": {
            "gridcolor": "#506784",
            "linecolor": "#506784",
            "ticks": ""
           },
           "radialaxis": {
            "gridcolor": "#506784",
            "linecolor": "#506784",
            "ticks": ""
           }
          },
          "ternary": {
           "bgcolor": "rgb(17,17,17)",
           "aaxis": {
            "gridcolor": "#506784",
            "linecolor": "#506784",
            "ticks": ""
           },
           "baxis": {
            "gridcolor": "#506784",
            "linecolor": "#506784",
            "ticks": ""
           },
           "caxis": {
            "gridcolor": "#506784",
            "linecolor": "#506784",
            "ticks": ""
           }
          },
          "coloraxis": {
           "colorbar": {
            "outlinewidth": 0,
            "ticks": ""
           }
          },
          "colorscale": {
           "sequential": [
            [
             0.0,
             "#0d0887"
            ],
            [
             0.1111111111111111,
             "#46039f"
            ],
            [
             0.2222222222222222,
             "#7201a8"
            ],
            [
             0.3333333333333333,
             "#9c179e"
            ],
            [
             0.4444444444444444,
             "#bd3786"
            ],
            [
             0.5555555555555556,
             "#d8576b"
            ],
            [
             0.6666666666666666,
             "#ed7953"
            ],
            [
             0.7777777777777778,
             "#fb9f3a"
            ],
            [
             0.8888888888888888,
             "#fdca26"
            ],
            [
             1.0,
             "#f0f921"
            ]
           ],
           "sequentialminus": [
            [
             0.0,
             "#0d0887"
            ],
            [
             0.1111111111111111,
             "#46039f"
            ],
            [
             0.2222222222222222,
             "#7201a8"
            ],
            [
             0.3333333333333333,
             "#9c179e"
            ],
            [
             0.4444444444444444,
             "#bd3786"
            ],
            [
             0.5555555555555556,
             "#d8576b"
            ],
            [
             0.6666666666666666,
             "#ed7953"
            ],
            [
             0.7777777777777778,
             "#fb9f3a"
            ],
            [
             0.8888888888888888,
             "#fdca26"
            ],
            [
             1.0,
             "#f0f921"
            ]
           ],
           "diverging": [
            [
             0,
             "#8e0152"
            ],
            [
             0.1,
             "#c51b7d"
            ],
            [
             0.2,
             "#de77ae"
            ],
            [
             0.3,
             "#f1b6da"
            ],
            [
             0.4,
             "#fde0ef"
            ],
            [
             0.5,
             "#f7f7f7"
            ],
            [
             0.6,
             "#e6f5d0"
            ],
            [
             0.7,
             "#b8e186"
            ],
            [
             0.8,
             "#7fbc41"
            ],
            [
             0.9,
             "#4d9221"
            ],
            [
             1,
             "#276419"
            ]
           ]
          },
          "xaxis": {
           "gridcolor": "#283442",
           "linecolor": "#506784",
           "ticks": "",
           "title": {
            "standoff": 15
           },
           "zerolinecolor": "#283442",
           "automargin": true,
           "zerolinewidth": 2
          },
          "yaxis": {
           "gridcolor": "#283442",
           "linecolor": "#506784",
           "ticks": "",
           "title": {
            "standoff": 15
           },
           "zerolinecolor": "#283442",
           "automargin": true,
           "zerolinewidth": 2
          },
          "scene": {
           "xaxis": {
            "backgroundcolor": "rgb(17,17,17)",
            "gridcolor": "#506784",
            "linecolor": "#506784",
            "showbackground": true,
            "ticks": "",
            "zerolinecolor": "#C8D4E3",
            "gridwidth": 2
           },
           "yaxis": {
            "backgroundcolor": "rgb(17,17,17)",
            "gridcolor": "#506784",
            "linecolor": "#506784",
            "showbackground": true,
            "ticks": "",
            "zerolinecolor": "#C8D4E3",
            "gridwidth": 2
           },
           "zaxis": {
            "backgroundcolor": "rgb(17,17,17)",
            "gridcolor": "#506784",
            "linecolor": "#506784",
            "showbackground": true,
            "ticks": "",
            "zerolinecolor": "#C8D4E3",
            "gridwidth": 2
           }
          },
          "shapedefaults": {
           "line": {
            "color": "#f2f5fa"
           }
          },
          "annotationdefaults": {
           "arrowcolor": "#f2f5fa",
           "arrowhead": 0,
           "arrowwidth": 1
          },
          "geo": {
           "bgcolor": "rgb(17,17,17)",
           "landcolor": "rgb(17,17,17)",
           "subunitcolor": "#506784",
           "showland": true,
           "showlakes": true,
           "lakecolor": "rgb(17,17,17)"
          },
          "title": {
           "x": 0.05
          },
          "updatemenudefaults": {
           "bgcolor": "#506784",
           "borderwidth": 0
          },
          "sliderdefaults": {
           "bgcolor": "#C8D4E3",
           "borderwidth": 1,
           "bordercolor": "rgb(17,17,17)",
           "tickwidth": 0
          },
          "mapbox": {
           "style": "dark"
          }
         }
        },
        "xaxis": {
         "anchor": "y",
         "domain": [
          0.0,
          1.0
         ],
         "title": {
          "text": "p"
         },
         "tickmode": "linear",
         "tick0": 0,
         "dtick": 1,
         "range": [
          0,
          5
         ]
        },
        "yaxis": {
         "anchor": "x",
         "domain": [
          0.0,
          1.0
         ],
         "title": {
          "text": "expectation approximation ratio"
         },
         "range": [
          0,
          1
         ]
        },
        "legend": {
         "title": {
          "text": "algorithm"
         },
         "tracegroupgap": 0
        },
        "margin": {
         "t": 60
        },
        "boxmode": "group"
       },
       "config": {
        "plotlyServerURL": "https://plot.ly"
       }
      },
      "text/html": "<div>                            <div id=\"5e35ca80-0aca-4aa4-91ee-a809bcb0ca8a\" class=\"plotly-graph-div\" style=\"height:525px; width:100%;\"></div>            <script type=\"text/javascript\">                require([\"plotly\"], function(Plotly) {                    window.PLOTLYENV=window.PLOTLYENV || {};                                    if (document.getElementById(\"5e35ca80-0aca-4aa4-91ee-a809bcb0ca8a\")) {                    Plotly.newPlot(                        \"5e35ca80-0aca-4aa4-91ee-a809bcb0ca8a\",                        [{\"alignmentgroup\":\"True\",\"hovertemplate\":\"algorithm=tdvp<br>p=%{x}<br>expectation approximation ratio=%{y}<extra></extra>\",\"legendgroup\":\"tdvp\",\"marker\":{\"color\":\"#636efa\"},\"name\":\"tdvp\",\"notched\":false,\"offsetgroup\":\"tdvp\",\"orientation\":\"v\",\"showlegend\":true,\"x\":[1.0,1.0,1.0,1.0,1.0,1.0,2.0,2.0,2.0,2.0,2.0,2.0,3.0,3.0,3.0,3.0,3.0,3.0,4.0,4.0,4.0,4.0,4.0,4.0,5.0,5.0,5.0,5.0,5.0,5.0],\"x0\":\" \",\"xaxis\":\"x\",\"y\":[0.52193828153963,0.8880028480154419,0.3228089271866118,0.9632252053458201,0.13384647796964863,0.5043619914779066,0.8731416902445398,0.9159961480481603,0.9108455941028738,0.9199551537220306,0.9474084375051172,0.9198793802412082,0.9053451078595783,0.8958571822061743,0.9345664570067939,0.9662061733227744,0.932083285396774,null,0.9747057777279092,0.9716805790052311,0.9573417235464392,null,0.8699991409885066,null,null,0.9999776397402755,0.9733020834223239,null,0.9357684016166762,null],\"y0\":\" \",\"yaxis\":\"y\",\"type\":\"box\"},{\"alignmentgroup\":\"True\",\"hovertemplate\":\"algorithm=scipy<br>p=%{x}<br>expectation approximation ratio=%{y}<extra></extra>\",\"legendgroup\":\"scipy\",\"marker\":{\"color\":\"#EF553B\"},\"name\":\"scipy\",\"notched\":false,\"offsetgroup\":\"scipy\",\"orientation\":\"v\",\"showlegend\":true,\"x\":[1.0,1.0,1.0,1.0,1.0,1.0,2.0,2.0,2.0,2.0,2.0,2.0,3.0,3.0,3.0,3.0,3.0,3.0,4.0,4.0,4.0,4.0,4.0,4.0,5.0,5.0,5.0,5.0,5.0,5.0],\"x0\":\" \",\"xaxis\":\"x\",\"y\":[0.7799662237788235,0.3276053256974091,0.3227601789485898,0.7021352109240994,0.5448122393175796,0.7954397619788438,0.884422563186278,0.9153276458048862,0.9185400902307068,0.9168179879641575,0.5629195712961277,0.9067534274112826,0.8752626979983399,0.9208419770316046,0.8394642675404452,0.9730155528306108,0.7605163710877753,0.9130032179126492,0.9814446591532002,0.9360289173134761,0.6238102473007959,0.9171191461188334,0.6976480391855345,0.8389381812067649,0.9755984613060869,0.9910887451925835,0.8769605876029043,0.9907221407437554,0.821506949221113,0.9958124608910823],\"y0\":\" \",\"yaxis\":\"y\",\"type\":\"box\"}],                        {\"template\":{\"data\":{\"histogram2dcontour\":[{\"type\":\"histogram2dcontour\",\"colorbar\":{\"outlinewidth\":0,\"ticks\":\"\"},\"colorscale\":[[0.0,\"#0d0887\"],[0.1111111111111111,\"#46039f\"],[0.2222222222222222,\"#7201a8\"],[0.3333333333333333,\"#9c179e\"],[0.4444444444444444,\"#bd3786\"],[0.5555555555555556,\"#d8576b\"],[0.6666666666666666,\"#ed7953\"],[0.7777777777777778,\"#fb9f3a\"],[0.8888888888888888,\"#fdca26\"],[1.0,\"#f0f921\"]]}],\"choropleth\":[{\"type\":\"choropleth\",\"colorbar\":{\"outlinewidth\":0,\"ticks\":\"\"}}],\"histogram2d\":[{\"type\":\"histogram2d\",\"colorbar\":{\"outlinewidth\":0,\"ticks\":\"\"},\"colorscale\":[[0.0,\"#0d0887\"],[0.1111111111111111,\"#46039f\"],[0.2222222222222222,\"#7201a8\"],[0.3333333333333333,\"#9c179e\"],[0.4444444444444444,\"#bd3786\"],[0.5555555555555556,\"#d8576b\"],[0.6666666666666666,\"#ed7953\"],[0.7777777777777778,\"#fb9f3a\"],[0.8888888888888888,\"#fdca26\"],[1.0,\"#f0f921\"]]}],\"heatmap\":[{\"type\":\"heatmap\",\"colorbar\":{\"outlinewidth\":0,\"ticks\":\"\"},\"colorscale\":[[0.0,\"#0d0887\"],[0.1111111111111111,\"#46039f\"],[0.2222222222222222,\"#7201a8\"],[0.3333333333333333,\"#9c179e\"],[0.4444444444444444,\"#bd3786\"],[0.5555555555555556,\"#d8576b\"],[0.6666666666666666,\"#ed7953\"],[0.7777777777777778,\"#fb9f3a\"],[0.8888888888888888,\"#fdca26\"],[1.0,\"#f0f921\"]]}],\"heatmapgl\":[{\"type\":\"heatmapgl\",\"colorbar\":{\"outlinewidth\":0,\"ticks\":\"\"},\"colorscale\":[[0.0,\"#0d0887\"],[0.1111111111111111,\"#46039f\"],[0.2222222222222222,\"#7201a8\"],[0.3333333333333333,\"#9c179e\"],[0.4444444444444444,\"#bd3786\"],[0.5555555555555556,\"#d8576b\"],[0.6666666666666666,\"#ed7953\"],[0.7777777777777778,\"#fb9f3a\"],[0.8888888888888888,\"#fdca26\"],[1.0,\"#f0f921\"]]}],\"contourcarpet\":[{\"type\":\"contourcarpet\",\"colorbar\":{\"outlinewidth\":0,\"ticks\":\"\"}}],\"contour\":[{\"type\":\"contour\",\"colorbar\":{\"outlinewidth\":0,\"ticks\":\"\"},\"colorscale\":[[0.0,\"#0d0887\"],[0.1111111111111111,\"#46039f\"],[0.2222222222222222,\"#7201a8\"],[0.3333333333333333,\"#9c179e\"],[0.4444444444444444,\"#bd3786\"],[0.5555555555555556,\"#d8576b\"],[0.6666666666666666,\"#ed7953\"],[0.7777777777777778,\"#fb9f3a\"],[0.8888888888888888,\"#fdca26\"],[1.0,\"#f0f921\"]]}],\"surface\":[{\"type\":\"surface\",\"colorbar\":{\"outlinewidth\":0,\"ticks\":\"\"},\"colorscale\":[[0.0,\"#0d0887\"],[0.1111111111111111,\"#46039f\"],[0.2222222222222222,\"#7201a8\"],[0.3333333333333333,\"#9c179e\"],[0.4444444444444444,\"#bd3786\"],[0.5555555555555556,\"#d8576b\"],[0.6666666666666666,\"#ed7953\"],[0.7777777777777778,\"#fb9f3a\"],[0.8888888888888888,\"#fdca26\"],[1.0,\"#f0f921\"]]}],\"mesh3d\":[{\"type\":\"mesh3d\",\"colorbar\":{\"outlinewidth\":0,\"ticks\":\"\"}}],\"scatter\":[{\"marker\":{\"line\":{\"color\":\"#283442\"}},\"type\":\"scatter\"}],\"parcoords\":[{\"type\":\"parcoords\",\"line\":{\"colorbar\":{\"outlinewidth\":0,\"ticks\":\"\"}}}],\"scatterpolargl\":[{\"type\":\"scatterpolargl\",\"marker\":{\"colorbar\":{\"outlinewidth\":0,\"ticks\":\"\"}}}],\"bar\":[{\"error_x\":{\"color\":\"#f2f5fa\"},\"error_y\":{\"color\":\"#f2f5fa\"},\"marker\":{\"line\":{\"color\":\"rgb(17,17,17)\",\"width\":0.5},\"pattern\":{\"fillmode\":\"overlay\",\"size\":10,\"solidity\":0.2}},\"type\":\"bar\"}],\"scattergeo\":[{\"type\":\"scattergeo\",\"marker\":{\"colorbar\":{\"outlinewidth\":0,\"ticks\":\"\"}}}],\"scatterpolar\":[{\"type\":\"scatterpolar\",\"marker\":{\"colorbar\":{\"outlinewidth\":0,\"ticks\":\"\"}}}],\"histogram\":[{\"marker\":{\"pattern\":{\"fillmode\":\"overlay\",\"size\":10,\"solidity\":0.2}},\"type\":\"histogram\"}],\"scattergl\":[{\"marker\":{\"line\":{\"color\":\"#283442\"}},\"type\":\"scattergl\"}],\"scatter3d\":[{\"type\":\"scatter3d\",\"line\":{\"colorbar\":{\"outlinewidth\":0,\"ticks\":\"\"}},\"marker\":{\"colorbar\":{\"outlinewidth\":0,\"ticks\":\"\"}}}],\"scattermapbox\":[{\"type\":\"scattermapbox\",\"marker\":{\"colorbar\":{\"outlinewidth\":0,\"ticks\":\"\"}}}],\"scatterternary\":[{\"type\":\"scatterternary\",\"marker\":{\"colorbar\":{\"outlinewidth\":0,\"ticks\":\"\"}}}],\"scattercarpet\":[{\"type\":\"scattercarpet\",\"marker\":{\"colorbar\":{\"outlinewidth\":0,\"ticks\":\"\"}}}],\"carpet\":[{\"aaxis\":{\"endlinecolor\":\"#A2B1C6\",\"gridcolor\":\"#506784\",\"linecolor\":\"#506784\",\"minorgridcolor\":\"#506784\",\"startlinecolor\":\"#A2B1C6\"},\"baxis\":{\"endlinecolor\":\"#A2B1C6\",\"gridcolor\":\"#506784\",\"linecolor\":\"#506784\",\"minorgridcolor\":\"#506784\",\"startlinecolor\":\"#A2B1C6\"},\"type\":\"carpet\"}],\"table\":[{\"cells\":{\"fill\":{\"color\":\"#506784\"},\"line\":{\"color\":\"rgb(17,17,17)\"}},\"header\":{\"fill\":{\"color\":\"#2a3f5f\"},\"line\":{\"color\":\"rgb(17,17,17)\"}},\"type\":\"table\"}],\"barpolar\":[{\"marker\":{\"line\":{\"color\":\"rgb(17,17,17)\",\"width\":0.5},\"pattern\":{\"fillmode\":\"overlay\",\"size\":10,\"solidity\":0.2}},\"type\":\"barpolar\"}],\"pie\":[{\"automargin\":true,\"type\":\"pie\"}]},\"layout\":{\"autotypenumbers\":\"strict\",\"colorway\":[\"#636efa\",\"#EF553B\",\"#00cc96\",\"#ab63fa\",\"#FFA15A\",\"#19d3f3\",\"#FF6692\",\"#B6E880\",\"#FF97FF\",\"#FECB52\"],\"font\":{\"color\":\"#f2f5fa\"},\"hovermode\":\"closest\",\"hoverlabel\":{\"align\":\"left\"},\"paper_bgcolor\":\"rgb(17,17,17)\",\"plot_bgcolor\":\"rgb(17,17,17)\",\"polar\":{\"bgcolor\":\"rgb(17,17,17)\",\"angularaxis\":{\"gridcolor\":\"#506784\",\"linecolor\":\"#506784\",\"ticks\":\"\"},\"radialaxis\":{\"gridcolor\":\"#506784\",\"linecolor\":\"#506784\",\"ticks\":\"\"}},\"ternary\":{\"bgcolor\":\"rgb(17,17,17)\",\"aaxis\":{\"gridcolor\":\"#506784\",\"linecolor\":\"#506784\",\"ticks\":\"\"},\"baxis\":{\"gridcolor\":\"#506784\",\"linecolor\":\"#506784\",\"ticks\":\"\"},\"caxis\":{\"gridcolor\":\"#506784\",\"linecolor\":\"#506784\",\"ticks\":\"\"}},\"coloraxis\":{\"colorbar\":{\"outlinewidth\":0,\"ticks\":\"\"}},\"colorscale\":{\"sequential\":[[0.0,\"#0d0887\"],[0.1111111111111111,\"#46039f\"],[0.2222222222222222,\"#7201a8\"],[0.3333333333333333,\"#9c179e\"],[0.4444444444444444,\"#bd3786\"],[0.5555555555555556,\"#d8576b\"],[0.6666666666666666,\"#ed7953\"],[0.7777777777777778,\"#fb9f3a\"],[0.8888888888888888,\"#fdca26\"],[1.0,\"#f0f921\"]],\"sequentialminus\":[[0.0,\"#0d0887\"],[0.1111111111111111,\"#46039f\"],[0.2222222222222222,\"#7201a8\"],[0.3333333333333333,\"#9c179e\"],[0.4444444444444444,\"#bd3786\"],[0.5555555555555556,\"#d8576b\"],[0.6666666666666666,\"#ed7953\"],[0.7777777777777778,\"#fb9f3a\"],[0.8888888888888888,\"#fdca26\"],[1.0,\"#f0f921\"]],\"diverging\":[[0,\"#8e0152\"],[0.1,\"#c51b7d\"],[0.2,\"#de77ae\"],[0.3,\"#f1b6da\"],[0.4,\"#fde0ef\"],[0.5,\"#f7f7f7\"],[0.6,\"#e6f5d0\"],[0.7,\"#b8e186\"],[0.8,\"#7fbc41\"],[0.9,\"#4d9221\"],[1,\"#276419\"]]},\"xaxis\":{\"gridcolor\":\"#283442\",\"linecolor\":\"#506784\",\"ticks\":\"\",\"title\":{\"standoff\":15},\"zerolinecolor\":\"#283442\",\"automargin\":true,\"zerolinewidth\":2},\"yaxis\":{\"gridcolor\":\"#283442\",\"linecolor\":\"#506784\",\"ticks\":\"\",\"title\":{\"standoff\":15},\"zerolinecolor\":\"#283442\",\"automargin\":true,\"zerolinewidth\":2},\"scene\":{\"xaxis\":{\"backgroundcolor\":\"rgb(17,17,17)\",\"gridcolor\":\"#506784\",\"linecolor\":\"#506784\",\"showbackground\":true,\"ticks\":\"\",\"zerolinecolor\":\"#C8D4E3\",\"gridwidth\":2},\"yaxis\":{\"backgroundcolor\":\"rgb(17,17,17)\",\"gridcolor\":\"#506784\",\"linecolor\":\"#506784\",\"showbackground\":true,\"ticks\":\"\",\"zerolinecolor\":\"#C8D4E3\",\"gridwidth\":2},\"zaxis\":{\"backgroundcolor\":\"rgb(17,17,17)\",\"gridcolor\":\"#506784\",\"linecolor\":\"#506784\",\"showbackground\":true,\"ticks\":\"\",\"zerolinecolor\":\"#C8D4E3\",\"gridwidth\":2}},\"shapedefaults\":{\"line\":{\"color\":\"#f2f5fa\"}},\"annotationdefaults\":{\"arrowcolor\":\"#f2f5fa\",\"arrowhead\":0,\"arrowwidth\":1},\"geo\":{\"bgcolor\":\"rgb(17,17,17)\",\"landcolor\":\"rgb(17,17,17)\",\"subunitcolor\":\"#506784\",\"showland\":true,\"showlakes\":true,\"lakecolor\":\"rgb(17,17,17)\"},\"title\":{\"x\":0.05},\"updatemenudefaults\":{\"bgcolor\":\"#506784\",\"borderwidth\":0},\"sliderdefaults\":{\"bgcolor\":\"#C8D4E3\",\"borderwidth\":1,\"bordercolor\":\"rgb(17,17,17)\",\"tickwidth\":0},\"mapbox\":{\"style\":\"dark\"}}},\"xaxis\":{\"anchor\":\"y\",\"domain\":[0.0,1.0],\"title\":{\"text\":\"p\"},\"tickmode\":\"linear\",\"tick0\":0,\"dtick\":1,\"range\":[0,5]},\"yaxis\":{\"anchor\":\"x\",\"domain\":[0.0,1.0],\"title\":{\"text\":\"expectation approximation ratio\"},\"range\":[0,1]},\"legend\":{\"title\":{\"text\":\"algorithm\"},\"tracegroupgap\":0},\"margin\":{\"t\":60},\"boxmode\":\"group\"},                        {\"responsive\": true}                    ).then(function(){\n                            \nvar gd = document.getElementById('5e35ca80-0aca-4aa4-91ee-a809bcb0ca8a');\nvar x = new MutationObserver(function (mutations, observer) {{\n        var display = window.getComputedStyle(gd).display;\n        if (!display || display === 'none') {{\n            console.log([gd, 'removed!']);\n            Plotly.purge(gd);\n            observer.disconnect();\n        }}\n}});\n\n// Listen for the removal of the full notebook cells\nvar notebookContainer = gd.closest('#notebook-container');\nif (notebookContainer) {{\n    x.observe(notebookContainer, {childList: true});\n}}\n\n// Listen for the clearing of the current output cell\nvar outputEl = gd.closest('.output');\nif (outputEl) {{\n    x.observe(outputEl, {childList: true});\n}}\n\n                        })                };                });            </script>        </div>"
     },
     "metadata": {},
     "output_type": "display_data"
    }
   ],
   "source": [
    "meas = 'expectation approximation ratio'\n",
    "df = stats[meas].reset_index()\n",
    "df = df[df['algorithm']!='gradient_descent']\n",
    "\n",
    "#flattend_data\n",
    "data_red = pd.concat([\n",
    "    data['tdvp'].apply(lambda x: x),\n",
    "    data['scipy'].apply(lambda x:x),\n",
    "    data['gradient_descent'].apply(lambda x:x)\n",
    "]).reset_index(drop=True)\n",
    "\n",
    "scatter = px.scatter(\n",
    "    data_frame=df,\n",
    "    x='p',\n",
    "    y='mean',\n",
    "    error_y='std',\n",
    "    color='algorithm',\n",
    ")\n",
    "\n",
    "box = px.box(\n",
    "    data_frame=data_red,\n",
    "    x='p',\n",
    "    y=meas,\n",
    "    color='algorithm'\n",
    ")\n",
    "# box.update_traces(quartilemethod=\"exclusive\") # or \"inclusive\", or \"linear\" by default\n",
    "\n",
    "fig = box\n",
    "\n",
    "fig.update_layout(\n",
    "    yaxis=dict(\n",
    "        range = [0,1],\n",
    "\n",
    "    ),\n",
    "    xaxis = dict(\n",
    "        tickmode = 'linear',\n",
    "        tick0 = 0,\n",
    "        dtick = 1,\n",
    "        range=[0,5],\n",
    "    )\n",
    ")\n",
    "\n",
    "fig.show()"
   ],
   "metadata": {
    "collapsed": false
   }
  },
  {
   "cell_type": "code",
   "execution_count": 7,
   "outputs": [],
   "source": [],
   "metadata": {
    "collapsed": false
   }
  }
 ],
 "metadata": {
  "kernelspec": {
   "display_name": "Python 3",
   "language": "python",
   "name": "python3"
  },
  "language_info": {
   "codemirror_mode": {
    "name": "ipython",
    "version": 2
   },
   "file_extension": ".py",
   "mimetype": "text/x-python",
   "name": "python",
   "nbconvert_exporter": "python",
   "pygments_lexer": "ipython2",
   "version": "2.7.6"
  }
 },
 "nbformat": 4,
 "nbformat_minor": 0
}
