{
 "cells": [
  {
   "cell_type": "code",
   "execution_count": null,
   "metadata": {
    "collapsed": true
   },
   "outputs": [],
   "source": [
    "import pickle\n",
    "import matplotlib.pyplot as plt\n",
    "import pandas as pd\n",
    "import plotly.express as px\n",
    "import plotly.graph_objects as go\n",
    "from qaoa_and_tdvp import QAOAResult\n",
    "import math\n",
    "from scipy.interpolate import griddata\n",
    "import numpy as np\n",
    "from qaoa_and_tdvp import QAOA"
   ]
  },
  {
   "cell_type": "code",
   "execution_count": null,
   "metadata": {
    "collapsed": false
   },
   "outputs": [],
   "source": [
    "with open(f'.//results//data.p', 'rb') as file:\n",
    "    data = pickle.load(file)\n",
    "data.head(6)"
   ]
  },
  {
   "cell_type": "code",
   "execution_count": null,
   "metadata": {
    "collapsed": false
   },
   "outputs": [],
   "source": [
    "with open(f'.//results//stats.p', 'rb') as file:\n",
    "    stats = pickle.load(file)\n",
    "stats"
   ]
  },
  {
   "cell_type": "code",
   "execution_count": null,
   "metadata": {
    "collapsed": false
   },
   "outputs": [],
   "source": [
    "stats['expectation approximation ratio'].reset_index()"
   ]
  },
  {
   "cell_type": "code",
   "execution_count": null,
   "metadata": {},
   "outputs": [],
   "source": [
    "def algo_num(algo:str)->int:\n",
    "    assert algo in {'tdvp','scipy','gradient_descent'}\n",
    "    if algo=='tdvp':\n",
    "        return 1\n",
    "    elif algo=='scipy':\n",
    "        return 0\n",
    "    elif algo=='gradient_descent':\n",
    "        return -1"
   ]
  },
  {
   "cell_type": "code",
   "execution_count": null,
   "metadata": {},
   "outputs": [],
   "source": [
    "BA_template = dict(\n",
    "    layout=go.Layout(\n",
    "    template='plotly_white',\n",
    "    yaxis=dict(\n",
    "        range = [0,1.1],\n",
    "        tickmode = 'linear',\n",
    "        tick0 = 0,\n",
    "        dtick = .2,\n",
    "        autorange=False,\n",
    "        linewidth = 1,\n",
    "        linecolor = 'black',\n",
    "        gridcolor = 'lightgrey',\n",
    "        zerolinecolor = 'black',\n",
    "\n",
    "    ),\n",
    "    xaxis = dict(\n",
    "        tickmode = 'linear',\n",
    "        tick0 = 1,\n",
    "        dtick = 1,\n",
    "        range=[-.5,5],\n",
    "        autorange=True,\n",
    "        # type='category',\n",
    "        linewidth = 1,\n",
    "        linecolor = 'black',\n",
    "        gridcolor = 'lightgrey',\n",
    "        # zerolinecolor = 'black',\n",
    "\n",
    "    ),\n",
    "    font=dict(\n",
    "        family='Computer Modern',\n",
    "        size=11,\n",
    "    ),\n",
    "    legend=dict(\n",
    "        yanchor=\"bottom\",\n",
    "        y=0.01,\n",
    "        xanchor=\"right\",\n",
    "        x=.99,\n",
    "        \n",
    "    ),\n",
    "    # paper_bgcolor='rgba(0,0,0,0)',   # transparent background\n",
    "    plot_bgcolor='rgba(0,0,0,0)',)\n",
    ")"
   ]
  },
  {
   "cell_type": "code",
   "execution_count": null,
   "metadata": {},
   "outputs": [],
   "source": [
    "stats.xs(3, level='n')"
   ]
  },
  {
   "cell_type": "code",
   "execution_count": null,
   "metadata": {},
   "outputs": [],
   "source": [
    "meas = 'expectation approximation ratio'\n",
    "n=3\n",
    "df = stats[meas].xs(3, level='n').reset_index()\n",
    "df"
   ]
  },
  {
   "cell_type": "code",
   "execution_count": null,
   "metadata": {},
   "outputs": [],
   "source": [
    "#flattend_data\n",
    "data_red = pd.concat([\n",
    "    data['tdvp'].xs(n,level='n').apply(lambda x: x),\n",
    "    data['scipy'].xs(n,level='n').apply(lambda x:x),\n",
    "    data['gradient_descent'].xs(n,level='n').apply(lambda x:x)\n",
    "]).reset_index(drop=True)\n",
    "data_red"
   ]
  },
  {
   "cell_type": "code",
   "execution_count": null,
   "metadata": {
    "collapsed": false
   },
   "outputs": [],
   "source": [
    "\n",
    "\n",
    "# TODO: add different symbols for different algorithms (colorblind friendly), \n",
    "# TODO: make scatter plot nice (transparency, etc.)\n",
    "\n",
    "gridcolor = 'lightgrey'\n",
    "\n",
    "\n",
    "\n",
    "scatter = px.scatter(\n",
    "    data_frame=df,\n",
    "    x=df['p']+.1*df['Algorithm'].apply(algo_num), # for the offset\n",
    "    y='mean',\n",
    "    error_y='std',\n",
    "    color='Algorithm',\n",
    "    symbol='Algorithm',\n",
    "    # barmode='group',\n",
    ")\n",
    "\n",
    "\n",
    "box = px.box(\n",
    "    data_frame=data_red,\n",
    "    x='p',\n",
    "    y=meas,\n",
    "    color='algorithm',\n",
    "    # points='all',\n",
    ")\n",
    "box.update_traces(quartilemethod=\"inclusive\") # or \"inclusive\", or \"linear\" by default\n",
    "\n",
    "fig = box\n",
    "\n",
    "# rename traces \n",
    "newnames = {'tdvp':'TDVP', 'scipy':'COBYLA', 'gradient_descent':'GD'}\n",
    "fig.for_each_trace(lambda t: t.update(name = newnames.get(t.name,''),\n",
    "                                      legendgroup = newnames.get(t.name,''),\n",
    "                                      hovertemplate = t.hovertemplate.replace(t.name, newnames[t.name])\n",
    "                                     )\n",
    "                  )\n",
    "\n",
    "fig.update_layout(\n",
    "    template=BA_template,\n",
    "    xaxis_title='p',\n",
    "    yaxis_title=\"Expectation of the approximation ratio\",\n",
    "    legend_title_text='Algorithm',\n",
    "    width= 700,\n",
    ")\n",
    "\n",
    "fig.show()"
   ]
  },
  {
   "cell_type": "code",
   "execution_count": null,
   "metadata": {},
   "outputs": [],
   "source": [
    "with open(\"./results/grid_search_n5_p2_i5.p\",'rb') as file:\n",
    "    grid_search = pickle.load(file)"
   ]
  },
  {
   "cell_type": "code",
   "execution_count": null,
   "metadata": {},
   "outputs": [],
   "source": [
    "with open(\"results/data.p\",'rb') as file:\n",
    "    data = pickle.load(file)"
   ]
  },
  {
   "cell_type": "code",
   "execution_count": null,
   "metadata": {},
   "outputs": [],
   "source": [
    "idx = (5,1,5)\n",
    "qaoa = QAOA(data.loc[idx]['instance'],p=idx[1])"
   ]
  },
  {
   "cell_type": "code",
   "execution_count": null,
   "metadata": {},
   "outputs": [],
   "source": [
    "tdvp_path = data.loc[idx]['tdvp']['path']\n",
    "tdvp_x = np.array([d[0] for d in tdvp_path])\n",
    "tdvp_y = np.array([d[1] for d in tdvp_path])\n",
    "tdvp_z = np.array([qaoa.expectation(d) for d in tdvp_path])"
   ]
  },
  {
   "cell_type": "code",
   "execution_count": null,
   "metadata": {},
   "outputs": [],
   "source": [
    "grid_search.max()"
   ]
  },
  {
   "cell_type": "code",
   "execution_count": null,
   "metadata": {},
   "outputs": [],
   "source": [
    "Zlandscape.shape"
   ]
  },
  {
   "cell_type": "code",
   "execution_count": null,
   "metadata": {},
   "outputs": [],
   "source": [
    "griddata((tdvp_x,tdvp_y),tdvp_z,(xi,yi))"
   ]
  },
  {
   "cell_type": "code",
   "execution_count": null,
   "metadata": {},
   "outputs": [],
   "source": [
    "\n",
    "df = grid_search\n",
    "\n",
    "x = np.array(df.beta)\n",
    "y = np.array(df.gamma)\n",
    "z = np.array(df.value)\n",
    "\n",
    "\n",
    "xi = np.linspace(x.min(), x.max(), 100)\n",
    "yi = np.linspace(y.min(), y.max(), 100)\n",
    "\n",
    "X,Y = np.meshgrid(xi,yi)\n",
    "\n",
    "Zlandscape = griddata((x,y),z,(X,Y), method='cubic')\n",
    "\n",
    "\n",
    "Zpath_tdvp = griddata((tdvp_x,tdvp_y),tdvp_z,(xi,yi))\n",
    "\n",
    "fig = go.Figure(\n",
    "    go.Surface(\n",
    "        x=xi,\n",
    "        y=yi,\n",
    "        z=Zlandscape\n",
    "        ),\n",
    "    # go.Scatter3d(\n",
    "    #     x=tdvp_x,\n",
    "    #     y=tdvp_y,\n",
    "    #     z=tdvp_z,\n",
    "    #     mode='markers'\n",
    "    # )\n",
    "    )\n",
    "\n",
    "fig.update_layout(\n",
    "    template=BA_template,\n",
    "    width=1000,\n",
    "    height=1000\n",
    ")\n",
    "fig.show()\n",
    "fig.write_html('./plots/grid_seach_n5_p1_i5_landscape.html')"
   ]
  },
  {
   "cell_type": "code",
   "execution_count": null,
   "metadata": {},
   "outputs": [],
   "source": []
  }
 ],
 "metadata": {
  "kernelspec": {
   "display_name": "Python 3.10.6 ('qutip')",
   "language": "python",
   "name": "python3"
  },
  "language_info": {
   "codemirror_mode": {
    "name": "ipython",
    "version": 3
   },
   "file_extension": ".py",
   "mimetype": "text/x-python",
   "name": "python",
   "nbconvert_exporter": "python",
   "pygments_lexer": "ipython3",
   "version": "3.10.6"
  },
  "vscode": {
   "interpreter": {
    "hash": "ac5096f61b14d4a794e132e9aa17cbc4b47493c680fede8d7b41c74edeea4bea"
   }
  }
 },
 "nbformat": 4,
 "nbformat_minor": 0
}
