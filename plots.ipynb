{
 "cells": [
  {
   "cell_type": "code",
   "execution_count": 1,
   "metadata": {
    "collapsed": true
   },
   "outputs": [],
   "source": [
    "import pickle\n",
    "import matplotlib.pyplot as plt\n",
    "import plotly.express as px\n",
    "import plotly.graph_objects as go\n",
    "from qaoa_and_tdvp import QAOAResult\n",
    "import math\n"
   ]
  },
  {
   "cell_type": "code",
   "execution_count": 20,
   "outputs": [
    {
     "data": {
      "text/plain": "                   expectation approximation ratio                      \\\n                                              mean       std       min   \nalgorithm        p                                                       \ntdvp             1                        0.555697  0.320149  0.133846   \n                 2                        0.914538  0.023949  0.873142   \n                 3                        0.926812  0.027653  0.895857   \n                 4                        0.943432  0.049538  0.869999   \n                 5                        0.969683  0.032257  0.935768   \nscipy            1                        0.578786  0.215603  0.322760   \n                 2                        0.850797  0.141596  0.562920   \n                 3                        0.880351  0.073960  0.760516   \n                 4                        0.832498  0.142717  0.623810   \n                 5                        0.941948  0.074239  0.821507   \ngradient_descent 1                             NaN       NaN       NaN   \n                 2                             NaN       NaN       NaN   \n                 3                             NaN       NaN       NaN   \n                 4                             NaN       NaN       NaN   \n                 5                             NaN       NaN       NaN   \n\n                             groundspace overlap                      \\\n                         max                mean       std       min   \nalgorithm        p                                                     \ntdvp             1  0.963225            0.464344  0.373130  0.019871   \n                 2  0.947408            0.895209  0.049664  0.831052   \n                 3  0.966206            0.866436  0.068250  0.795922   \n                 4  0.974706            0.930693  0.062414  0.843536   \n                 5  0.999978            0.960623  0.048394  0.906591   \nscipy            1  0.795440            0.385312  0.334051  0.015630   \n                 2  0.918540            0.786808  0.231791  0.335994   \n                 3  0.973016            0.816939  0.087629  0.752143   \n                 4  0.981445            0.681178  0.360276  0.043834   \n                 5  0.995812            0.910507  0.117591  0.735778   \ngradient_descent 1       NaN                 NaN       NaN       NaN   \n                 2       NaN                 NaN       NaN       NaN   \n                 3       NaN                 NaN       NaN       NaN   \n                 4       NaN                 NaN       NaN       NaN   \n                 5       NaN                 NaN       NaN       NaN   \n\n                             groundspace sharpness            ...  \\\n                         max                  mean       std  ...   \nalgorithm        p                                            ...   \ntdvp             1  0.962394              0.331865  0.164583  ...   \n                 2  0.943499              0.297600  0.061860  ...   \n                 3  0.967577              0.324697  0.090627  ...   \n                 4  0.977556              0.232359  0.100608  ...   \n                 5  0.999983              0.150136  0.143481  ...   \nscipy            1  0.792068              0.346479  0.169024  ...   \n                 2  0.946846              0.338920  0.098601  ...   \n                 3  0.968308              0.366746  0.101873  ...   \n                 4  0.980620              0.308058  0.130118  ...   \n                 5  0.996740              0.214588  0.169398  ...   \ngradient_descent 1       NaN                   NaN       NaN  ...   \n                 2       NaN                   NaN       NaN  ...   \n                 3       NaN                   NaN       NaN  ...   \n                 4       NaN                   NaN       NaN  ...   \n                 5       NaN                   NaN       NaN  ...   \n\n                      gate count               num_fun_calls               \\\n                             min           max          mean          std   \nalgorithm        p                                                          \ntdvp             1  1.069340e+06  1.938870e+06     55.000000     7.014271   \n                 2  1.101945e+07  1.254455e+08    194.000000   203.399115   \n                 3  3.665482e+07  1.293696e+09    548.666667  1003.912081   \n                 4  1.450715e+08  2.956321e+08     83.333333    71.079298   \n                 5  5.209588e+08  4.559181e+09    370.000000   621.564478   \nscipy            1  1.848000e+03  3.808000e+03     22.500000     3.619392   \n                 2  4.608000e+03  1.310400e+04     74.666667    33.152174   \n                 3  5.824000e+03  1.851200e+04     96.000000    52.664979   \n                 4  1.108800e+04  1.779200e+04    102.166667    23.250090   \n                 5  1.394400e+04  4.032000e+04    156.833333    91.750568   \ngradient_descent 1           NaN           NaN           NaN          NaN   \n                 2           NaN           NaN           NaN          NaN   \n                 3           NaN           NaN           NaN          NaN   \n                 4           NaN           NaN           NaN          NaN   \n                 5           NaN           NaN           NaN          NaN   \n\n                                       steps                              \n                     min     max        mean          std    min     max  \nalgorithm        p                                                        \ntdvp             1  44.0    62.0   75.666667     7.312090   62.0    82.0  \n                 2  56.0   602.0  235.000000   232.458168   79.0   701.0  \n                 3   0.0  2588.0  774.600000  1247.291987   85.0  3000.0  \n                 4   0.0   182.0  157.000000    45.731098  126.0   225.0  \n                 5   0.0  1574.0  850.000000   826.339519  179.0  1773.0  \nscipy            1  19.0    27.0   22.500000     3.619392   19.0    27.0  \n                 2  35.0   116.0   74.666667    33.152174   35.0   116.0  \n                 3  54.0   177.0   96.000000    52.664979   54.0   177.0  \n                 4  79.0   138.0  102.166667    23.250090   79.0   138.0  \n                 5  82.0   335.0  156.833333    91.750568   82.0   335.0  \ngradient_descent 1   NaN     NaN         NaN          NaN    NaN     NaN  \n                 2   NaN     NaN         NaN          NaN    NaN     NaN  \n                 3   NaN     NaN         NaN          NaN    NaN     NaN  \n                 4   NaN     NaN         NaN          NaN    NaN     NaN  \n                 5   NaN     NaN         NaN          NaN    NaN     NaN  \n\n[15 rows x 32 columns]",
      "text/html": "<div>\n<style scoped>\n    .dataframe tbody tr th:only-of-type {\n        vertical-align: middle;\n    }\n\n    .dataframe tbody tr th {\n        vertical-align: top;\n    }\n\n    .dataframe thead tr th {\n        text-align: left;\n    }\n\n    .dataframe thead tr:last-of-type th {\n        text-align: right;\n    }\n</style>\n<table border=\"1\" class=\"dataframe\">\n  <thead>\n    <tr>\n      <th></th>\n      <th></th>\n      <th colspan=\"4\" halign=\"left\">expectation approximation ratio</th>\n      <th colspan=\"4\" halign=\"left\">groundspace overlap</th>\n      <th colspan=\"2\" halign=\"left\">groundspace sharpness</th>\n      <th>...</th>\n      <th colspan=\"2\" halign=\"left\">gate count</th>\n      <th colspan=\"4\" halign=\"left\">num_fun_calls</th>\n      <th colspan=\"4\" halign=\"left\">steps</th>\n    </tr>\n    <tr>\n      <th></th>\n      <th></th>\n      <th>mean</th>\n      <th>std</th>\n      <th>min</th>\n      <th>max</th>\n      <th>mean</th>\n      <th>std</th>\n      <th>min</th>\n      <th>max</th>\n      <th>mean</th>\n      <th>std</th>\n      <th>...</th>\n      <th>min</th>\n      <th>max</th>\n      <th>mean</th>\n      <th>std</th>\n      <th>min</th>\n      <th>max</th>\n      <th>mean</th>\n      <th>std</th>\n      <th>min</th>\n      <th>max</th>\n    </tr>\n    <tr>\n      <th>algorithm</th>\n      <th>p</th>\n      <th></th>\n      <th></th>\n      <th></th>\n      <th></th>\n      <th></th>\n      <th></th>\n      <th></th>\n      <th></th>\n      <th></th>\n      <th></th>\n      <th></th>\n      <th></th>\n      <th></th>\n      <th></th>\n      <th></th>\n      <th></th>\n      <th></th>\n      <th></th>\n      <th></th>\n      <th></th>\n      <th></th>\n    </tr>\n  </thead>\n  <tbody>\n    <tr>\n      <th rowspan=\"5\" valign=\"top\">tdvp</th>\n      <th>1</th>\n      <td>0.555697</td>\n      <td>0.320149</td>\n      <td>0.133846</td>\n      <td>0.963225</td>\n      <td>0.464344</td>\n      <td>0.373130</td>\n      <td>0.019871</td>\n      <td>0.962394</td>\n      <td>0.331865</td>\n      <td>0.164583</td>\n      <td>...</td>\n      <td>1.069340e+06</td>\n      <td>1.938870e+06</td>\n      <td>55.000000</td>\n      <td>7.014271</td>\n      <td>44.0</td>\n      <td>62.0</td>\n      <td>75.666667</td>\n      <td>7.312090</td>\n      <td>62.0</td>\n      <td>82.0</td>\n    </tr>\n    <tr>\n      <th>2</th>\n      <td>0.914538</td>\n      <td>0.023949</td>\n      <td>0.873142</td>\n      <td>0.947408</td>\n      <td>0.895209</td>\n      <td>0.049664</td>\n      <td>0.831052</td>\n      <td>0.943499</td>\n      <td>0.297600</td>\n      <td>0.061860</td>\n      <td>...</td>\n      <td>1.101945e+07</td>\n      <td>1.254455e+08</td>\n      <td>194.000000</td>\n      <td>203.399115</td>\n      <td>56.0</td>\n      <td>602.0</td>\n      <td>235.000000</td>\n      <td>232.458168</td>\n      <td>79.0</td>\n      <td>701.0</td>\n    </tr>\n    <tr>\n      <th>3</th>\n      <td>0.926812</td>\n      <td>0.027653</td>\n      <td>0.895857</td>\n      <td>0.966206</td>\n      <td>0.866436</td>\n      <td>0.068250</td>\n      <td>0.795922</td>\n      <td>0.967577</td>\n      <td>0.324697</td>\n      <td>0.090627</td>\n      <td>...</td>\n      <td>3.665482e+07</td>\n      <td>1.293696e+09</td>\n      <td>548.666667</td>\n      <td>1003.912081</td>\n      <td>0.0</td>\n      <td>2588.0</td>\n      <td>774.600000</td>\n      <td>1247.291987</td>\n      <td>85.0</td>\n      <td>3000.0</td>\n    </tr>\n    <tr>\n      <th>4</th>\n      <td>0.943432</td>\n      <td>0.049538</td>\n      <td>0.869999</td>\n      <td>0.974706</td>\n      <td>0.930693</td>\n      <td>0.062414</td>\n      <td>0.843536</td>\n      <td>0.977556</td>\n      <td>0.232359</td>\n      <td>0.100608</td>\n      <td>...</td>\n      <td>1.450715e+08</td>\n      <td>2.956321e+08</td>\n      <td>83.333333</td>\n      <td>71.079298</td>\n      <td>0.0</td>\n      <td>182.0</td>\n      <td>157.000000</td>\n      <td>45.731098</td>\n      <td>126.0</td>\n      <td>225.0</td>\n    </tr>\n    <tr>\n      <th>5</th>\n      <td>0.969683</td>\n      <td>0.032257</td>\n      <td>0.935768</td>\n      <td>0.999978</td>\n      <td>0.960623</td>\n      <td>0.048394</td>\n      <td>0.906591</td>\n      <td>0.999983</td>\n      <td>0.150136</td>\n      <td>0.143481</td>\n      <td>...</td>\n      <td>5.209588e+08</td>\n      <td>4.559181e+09</td>\n      <td>370.000000</td>\n      <td>621.564478</td>\n      <td>0.0</td>\n      <td>1574.0</td>\n      <td>850.000000</td>\n      <td>826.339519</td>\n      <td>179.0</td>\n      <td>1773.0</td>\n    </tr>\n    <tr>\n      <th rowspan=\"5\" valign=\"top\">scipy</th>\n      <th>1</th>\n      <td>0.578786</td>\n      <td>0.215603</td>\n      <td>0.322760</td>\n      <td>0.795440</td>\n      <td>0.385312</td>\n      <td>0.334051</td>\n      <td>0.015630</td>\n      <td>0.792068</td>\n      <td>0.346479</td>\n      <td>0.169024</td>\n      <td>...</td>\n      <td>1.848000e+03</td>\n      <td>3.808000e+03</td>\n      <td>22.500000</td>\n      <td>3.619392</td>\n      <td>19.0</td>\n      <td>27.0</td>\n      <td>22.500000</td>\n      <td>3.619392</td>\n      <td>19.0</td>\n      <td>27.0</td>\n    </tr>\n    <tr>\n      <th>2</th>\n      <td>0.850797</td>\n      <td>0.141596</td>\n      <td>0.562920</td>\n      <td>0.918540</td>\n      <td>0.786808</td>\n      <td>0.231791</td>\n      <td>0.335994</td>\n      <td>0.946846</td>\n      <td>0.338920</td>\n      <td>0.098601</td>\n      <td>...</td>\n      <td>4.608000e+03</td>\n      <td>1.310400e+04</td>\n      <td>74.666667</td>\n      <td>33.152174</td>\n      <td>35.0</td>\n      <td>116.0</td>\n      <td>74.666667</td>\n      <td>33.152174</td>\n      <td>35.0</td>\n      <td>116.0</td>\n    </tr>\n    <tr>\n      <th>3</th>\n      <td>0.880351</td>\n      <td>0.073960</td>\n      <td>0.760516</td>\n      <td>0.973016</td>\n      <td>0.816939</td>\n      <td>0.087629</td>\n      <td>0.752143</td>\n      <td>0.968308</td>\n      <td>0.366746</td>\n      <td>0.101873</td>\n      <td>...</td>\n      <td>5.824000e+03</td>\n      <td>1.851200e+04</td>\n      <td>96.000000</td>\n      <td>52.664979</td>\n      <td>54.0</td>\n      <td>177.0</td>\n      <td>96.000000</td>\n      <td>52.664979</td>\n      <td>54.0</td>\n      <td>177.0</td>\n    </tr>\n    <tr>\n      <th>4</th>\n      <td>0.832498</td>\n      <td>0.142717</td>\n      <td>0.623810</td>\n      <td>0.981445</td>\n      <td>0.681178</td>\n      <td>0.360276</td>\n      <td>0.043834</td>\n      <td>0.980620</td>\n      <td>0.308058</td>\n      <td>0.130118</td>\n      <td>...</td>\n      <td>1.108800e+04</td>\n      <td>1.779200e+04</td>\n      <td>102.166667</td>\n      <td>23.250090</td>\n      <td>79.0</td>\n      <td>138.0</td>\n      <td>102.166667</td>\n      <td>23.250090</td>\n      <td>79.0</td>\n      <td>138.0</td>\n    </tr>\n    <tr>\n      <th>5</th>\n      <td>0.941948</td>\n      <td>0.074239</td>\n      <td>0.821507</td>\n      <td>0.995812</td>\n      <td>0.910507</td>\n      <td>0.117591</td>\n      <td>0.735778</td>\n      <td>0.996740</td>\n      <td>0.214588</td>\n      <td>0.169398</td>\n      <td>...</td>\n      <td>1.394400e+04</td>\n      <td>4.032000e+04</td>\n      <td>156.833333</td>\n      <td>91.750568</td>\n      <td>82.0</td>\n      <td>335.0</td>\n      <td>156.833333</td>\n      <td>91.750568</td>\n      <td>82.0</td>\n      <td>335.0</td>\n    </tr>\n    <tr>\n      <th rowspan=\"5\" valign=\"top\">gradient_descent</th>\n      <th>1</th>\n      <td>NaN</td>\n      <td>NaN</td>\n      <td>NaN</td>\n      <td>NaN</td>\n      <td>NaN</td>\n      <td>NaN</td>\n      <td>NaN</td>\n      <td>NaN</td>\n      <td>NaN</td>\n      <td>NaN</td>\n      <td>...</td>\n      <td>NaN</td>\n      <td>NaN</td>\n      <td>NaN</td>\n      <td>NaN</td>\n      <td>NaN</td>\n      <td>NaN</td>\n      <td>NaN</td>\n      <td>NaN</td>\n      <td>NaN</td>\n      <td>NaN</td>\n    </tr>\n    <tr>\n      <th>2</th>\n      <td>NaN</td>\n      <td>NaN</td>\n      <td>NaN</td>\n      <td>NaN</td>\n      <td>NaN</td>\n      <td>NaN</td>\n      <td>NaN</td>\n      <td>NaN</td>\n      <td>NaN</td>\n      <td>NaN</td>\n      <td>...</td>\n      <td>NaN</td>\n      <td>NaN</td>\n      <td>NaN</td>\n      <td>NaN</td>\n      <td>NaN</td>\n      <td>NaN</td>\n      <td>NaN</td>\n      <td>NaN</td>\n      <td>NaN</td>\n      <td>NaN</td>\n    </tr>\n    <tr>\n      <th>3</th>\n      <td>NaN</td>\n      <td>NaN</td>\n      <td>NaN</td>\n      <td>NaN</td>\n      <td>NaN</td>\n      <td>NaN</td>\n      <td>NaN</td>\n      <td>NaN</td>\n      <td>NaN</td>\n      <td>NaN</td>\n      <td>...</td>\n      <td>NaN</td>\n      <td>NaN</td>\n      <td>NaN</td>\n      <td>NaN</td>\n      <td>NaN</td>\n      <td>NaN</td>\n      <td>NaN</td>\n      <td>NaN</td>\n      <td>NaN</td>\n      <td>NaN</td>\n    </tr>\n    <tr>\n      <th>4</th>\n      <td>NaN</td>\n      <td>NaN</td>\n      <td>NaN</td>\n      <td>NaN</td>\n      <td>NaN</td>\n      <td>NaN</td>\n      <td>NaN</td>\n      <td>NaN</td>\n      <td>NaN</td>\n      <td>NaN</td>\n      <td>...</td>\n      <td>NaN</td>\n      <td>NaN</td>\n      <td>NaN</td>\n      <td>NaN</td>\n      <td>NaN</td>\n      <td>NaN</td>\n      <td>NaN</td>\n      <td>NaN</td>\n      <td>NaN</td>\n      <td>NaN</td>\n    </tr>\n    <tr>\n      <th>5</th>\n      <td>NaN</td>\n      <td>NaN</td>\n      <td>NaN</td>\n      <td>NaN</td>\n      <td>NaN</td>\n      <td>NaN</td>\n      <td>NaN</td>\n      <td>NaN</td>\n      <td>NaN</td>\n      <td>NaN</td>\n      <td>...</td>\n      <td>NaN</td>\n      <td>NaN</td>\n      <td>NaN</td>\n      <td>NaN</td>\n      <td>NaN</td>\n      <td>NaN</td>\n      <td>NaN</td>\n      <td>NaN</td>\n      <td>NaN</td>\n      <td>NaN</td>\n    </tr>\n  </tbody>\n</table>\n<p>15 rows × 32 columns</p>\n</div>"
     },
     "execution_count": 20,
     "metadata": {},
     "output_type": "execute_result"
    }
   ],
   "source": [
    "with open('.//results//n4_stats.p', 'rb') as file:\n",
    "    stats = pickle.load(file)\n",
    "stats"
   ],
   "metadata": {
    "collapsed": false
   }
  },
  {
   "cell_type": "code",
   "execution_count": 13,
   "outputs": [],
   "source": [
    "stats.columns = ['_'.join(col) for col in stats.columns]"
   ],
   "metadata": {
    "collapsed": false
   }
  },
  {
   "cell_type": "code",
   "execution_count": 14,
   "outputs": [
    {
     "data": {
      "text/plain": "                    expectation approximation ratio_mean  \\\nalgorithm        p                                         \ntdvp             1                              0.555697   \n                 2                              0.914538   \n                 3                              0.926812   \n                 4                              0.943432   \n                 5                              0.969683   \nscipy            1                              0.578786   \n                 2                              0.850797   \n                 3                              0.880351   \n                 4                              0.832498   \n                 5                              0.941948   \ngradient_descent 1                                   NaN   \n                 2                                   NaN   \n                 3                                   NaN   \n                 4                                   NaN   \n                 5                                   NaN   \n\n                    expectation approximation ratio_std  \\\nalgorithm        p                                        \ntdvp             1                             0.320149   \n                 2                             0.023949   \n                 3                             0.027653   \n                 4                             0.049538   \n                 5                             0.032257   \nscipy            1                             0.215603   \n                 2                             0.141596   \n                 3                             0.073960   \n                 4                             0.142717   \n                 5                             0.074239   \ngradient_descent 1                                  NaN   \n                 2                                  NaN   \n                 3                                  NaN   \n                 4                                  NaN   \n                 5                                  NaN   \n\n                    expectation approximation ratio_min  \\\nalgorithm        p                                        \ntdvp             1                             0.133846   \n                 2                             0.873142   \n                 3                             0.895857   \n                 4                             0.869999   \n                 5                             0.935768   \nscipy            1                             0.322760   \n                 2                             0.562920   \n                 3                             0.760516   \n                 4                             0.623810   \n                 5                             0.821507   \ngradient_descent 1                                  NaN   \n                 2                                  NaN   \n                 3                                  NaN   \n                 4                                  NaN   \n                 5                                  NaN   \n\n                    expectation approximation ratio_max  \\\nalgorithm        p                                        \ntdvp             1                             0.963225   \n                 2                             0.947408   \n                 3                             0.966206   \n                 4                             0.974706   \n                 5                             0.999978   \nscipy            1                             0.795440   \n                 2                             0.918540   \n                 3                             0.973016   \n                 4                             0.981445   \n                 5                             0.995812   \ngradient_descent 1                                  NaN   \n                 2                                  NaN   \n                 3                                  NaN   \n                 4                                  NaN   \n                 5                                  NaN   \n\n                    groundspace overlap_mean  groundspace overlap_std  \\\nalgorithm        p                                                      \ntdvp             1                  0.464344                 0.373130   \n                 2                  0.895209                 0.049664   \n                 3                  0.866436                 0.068250   \n                 4                  0.930693                 0.062414   \n                 5                  0.960623                 0.048394   \nscipy            1                  0.385312                 0.334051   \n                 2                  0.786808                 0.231791   \n                 3                  0.816939                 0.087629   \n                 4                  0.681178                 0.360276   \n                 5                  0.910507                 0.117591   \ngradient_descent 1                       NaN                      NaN   \n                 2                       NaN                      NaN   \n                 3                       NaN                      NaN   \n                 4                       NaN                      NaN   \n                 5                       NaN                      NaN   \n\n                    groundspace overlap_min  groundspace overlap_max  \\\nalgorithm        p                                                     \ntdvp             1                 0.019871                 0.962394   \n                 2                 0.831052                 0.943499   \n                 3                 0.795922                 0.967577   \n                 4                 0.843536                 0.977556   \n                 5                 0.906591                 0.999983   \nscipy            1                 0.015630                 0.792068   \n                 2                 0.335994                 0.946846   \n                 3                 0.752143                 0.968308   \n                 4                 0.043834                 0.980620   \n                 5                 0.735778                 0.996740   \ngradient_descent 1                      NaN                      NaN   \n                 2                      NaN                      NaN   \n                 3                      NaN                      NaN   \n                 4                      NaN                      NaN   \n                 5                      NaN                      NaN   \n\n                    groundspace sharpness_mean  groundspace sharpness_std  \\\nalgorithm        p                                                          \ntdvp             1                    0.331865                   0.164583   \n                 2                    0.297600                   0.061860   \n                 3                    0.324697                   0.090627   \n                 4                    0.232359                   0.100608   \n                 5                    0.150136                   0.143481   \nscipy            1                    0.346479                   0.169024   \n                 2                    0.338920                   0.098601   \n                 3                    0.366746                   0.101873   \n                 4                    0.308058                   0.130118   \n                 5                    0.214588                   0.169398   \ngradient_descent 1                         NaN                        NaN   \n                 2                         NaN                        NaN   \n                 3                         NaN                        NaN   \n                 4                         NaN                        NaN   \n                 5                         NaN                        NaN   \n\n                    ...  gate count_min  gate count_max  num_fun_calls_mean  \\\nalgorithm        p  ...                                                       \ntdvp             1  ...    1.069340e+06    1.938870e+06           55.000000   \n                 2  ...    1.101945e+07    1.254455e+08          194.000000   \n                 3  ...    3.665482e+07    1.293696e+09          548.666667   \n                 4  ...    1.450715e+08    2.956321e+08           83.333333   \n                 5  ...    5.209588e+08    4.559181e+09          370.000000   \nscipy            1  ...    1.848000e+03    3.808000e+03           22.500000   \n                 2  ...    4.608000e+03    1.310400e+04           74.666667   \n                 3  ...    5.824000e+03    1.851200e+04           96.000000   \n                 4  ...    1.108800e+04    1.779200e+04          102.166667   \n                 5  ...    1.394400e+04    4.032000e+04          156.833333   \ngradient_descent 1  ...             NaN             NaN                 NaN   \n                 2  ...             NaN             NaN                 NaN   \n                 3  ...             NaN             NaN                 NaN   \n                 4  ...             NaN             NaN                 NaN   \n                 5  ...             NaN             NaN                 NaN   \n\n                    num_fun_calls_std  num_fun_calls_min  num_fun_calls_max  \\\nalgorithm        p                                                            \ntdvp             1           7.014271               44.0               62.0   \n                 2         203.399115               56.0              602.0   \n                 3        1003.912081                0.0             2588.0   \n                 4          71.079298                0.0              182.0   \n                 5         621.564478                0.0             1574.0   \nscipy            1           3.619392               19.0               27.0   \n                 2          33.152174               35.0              116.0   \n                 3          52.664979               54.0              177.0   \n                 4          23.250090               79.0              138.0   \n                 5          91.750568               82.0              335.0   \ngradient_descent 1                NaN                NaN                NaN   \n                 2                NaN                NaN                NaN   \n                 3                NaN                NaN                NaN   \n                 4                NaN                NaN                NaN   \n                 5                NaN                NaN                NaN   \n\n                    steps_mean    steps_std  steps_min  steps_max  \nalgorithm        p                                                 \ntdvp             1   75.666667     7.312090       62.0       82.0  \n                 2  235.000000   232.458168       79.0      701.0  \n                 3  774.600000  1247.291987       85.0     3000.0  \n                 4  157.000000    45.731098      126.0      225.0  \n                 5  850.000000   826.339519      179.0     1773.0  \nscipy            1   22.500000     3.619392       19.0       27.0  \n                 2   74.666667    33.152174       35.0      116.0  \n                 3   96.000000    52.664979       54.0      177.0  \n                 4  102.166667    23.250090       79.0      138.0  \n                 5  156.833333    91.750568       82.0      335.0  \ngradient_descent 1         NaN          NaN        NaN        NaN  \n                 2         NaN          NaN        NaN        NaN  \n                 3         NaN          NaN        NaN        NaN  \n                 4         NaN          NaN        NaN        NaN  \n                 5         NaN          NaN        NaN        NaN  \n\n[15 rows x 32 columns]",
      "text/html": "<div>\n<style scoped>\n    .dataframe tbody tr th:only-of-type {\n        vertical-align: middle;\n    }\n\n    .dataframe tbody tr th {\n        vertical-align: top;\n    }\n\n    .dataframe thead th {\n        text-align: right;\n    }\n</style>\n<table border=\"1\" class=\"dataframe\">\n  <thead>\n    <tr style=\"text-align: right;\">\n      <th></th>\n      <th></th>\n      <th>expectation approximation ratio_mean</th>\n      <th>expectation approximation ratio_std</th>\n      <th>expectation approximation ratio_min</th>\n      <th>expectation approximation ratio_max</th>\n      <th>groundspace overlap_mean</th>\n      <th>groundspace overlap_std</th>\n      <th>groundspace overlap_min</th>\n      <th>groundspace overlap_max</th>\n      <th>groundspace sharpness_mean</th>\n      <th>groundspace sharpness_std</th>\n      <th>...</th>\n      <th>gate count_min</th>\n      <th>gate count_max</th>\n      <th>num_fun_calls_mean</th>\n      <th>num_fun_calls_std</th>\n      <th>num_fun_calls_min</th>\n      <th>num_fun_calls_max</th>\n      <th>steps_mean</th>\n      <th>steps_std</th>\n      <th>steps_min</th>\n      <th>steps_max</th>\n    </tr>\n    <tr>\n      <th>algorithm</th>\n      <th>p</th>\n      <th></th>\n      <th></th>\n      <th></th>\n      <th></th>\n      <th></th>\n      <th></th>\n      <th></th>\n      <th></th>\n      <th></th>\n      <th></th>\n      <th></th>\n      <th></th>\n      <th></th>\n      <th></th>\n      <th></th>\n      <th></th>\n      <th></th>\n      <th></th>\n      <th></th>\n      <th></th>\n      <th></th>\n    </tr>\n  </thead>\n  <tbody>\n    <tr>\n      <th rowspan=\"5\" valign=\"top\">tdvp</th>\n      <th>1</th>\n      <td>0.555697</td>\n      <td>0.320149</td>\n      <td>0.133846</td>\n      <td>0.963225</td>\n      <td>0.464344</td>\n      <td>0.373130</td>\n      <td>0.019871</td>\n      <td>0.962394</td>\n      <td>0.331865</td>\n      <td>0.164583</td>\n      <td>...</td>\n      <td>1.069340e+06</td>\n      <td>1.938870e+06</td>\n      <td>55.000000</td>\n      <td>7.014271</td>\n      <td>44.0</td>\n      <td>62.0</td>\n      <td>75.666667</td>\n      <td>7.312090</td>\n      <td>62.0</td>\n      <td>82.0</td>\n    </tr>\n    <tr>\n      <th>2</th>\n      <td>0.914538</td>\n      <td>0.023949</td>\n      <td>0.873142</td>\n      <td>0.947408</td>\n      <td>0.895209</td>\n      <td>0.049664</td>\n      <td>0.831052</td>\n      <td>0.943499</td>\n      <td>0.297600</td>\n      <td>0.061860</td>\n      <td>...</td>\n      <td>1.101945e+07</td>\n      <td>1.254455e+08</td>\n      <td>194.000000</td>\n      <td>203.399115</td>\n      <td>56.0</td>\n      <td>602.0</td>\n      <td>235.000000</td>\n      <td>232.458168</td>\n      <td>79.0</td>\n      <td>701.0</td>\n    </tr>\n    <tr>\n      <th>3</th>\n      <td>0.926812</td>\n      <td>0.027653</td>\n      <td>0.895857</td>\n      <td>0.966206</td>\n      <td>0.866436</td>\n      <td>0.068250</td>\n      <td>0.795922</td>\n      <td>0.967577</td>\n      <td>0.324697</td>\n      <td>0.090627</td>\n      <td>...</td>\n      <td>3.665482e+07</td>\n      <td>1.293696e+09</td>\n      <td>548.666667</td>\n      <td>1003.912081</td>\n      <td>0.0</td>\n      <td>2588.0</td>\n      <td>774.600000</td>\n      <td>1247.291987</td>\n      <td>85.0</td>\n      <td>3000.0</td>\n    </tr>\n    <tr>\n      <th>4</th>\n      <td>0.943432</td>\n      <td>0.049538</td>\n      <td>0.869999</td>\n      <td>0.974706</td>\n      <td>0.930693</td>\n      <td>0.062414</td>\n      <td>0.843536</td>\n      <td>0.977556</td>\n      <td>0.232359</td>\n      <td>0.100608</td>\n      <td>...</td>\n      <td>1.450715e+08</td>\n      <td>2.956321e+08</td>\n      <td>83.333333</td>\n      <td>71.079298</td>\n      <td>0.0</td>\n      <td>182.0</td>\n      <td>157.000000</td>\n      <td>45.731098</td>\n      <td>126.0</td>\n      <td>225.0</td>\n    </tr>\n    <tr>\n      <th>5</th>\n      <td>0.969683</td>\n      <td>0.032257</td>\n      <td>0.935768</td>\n      <td>0.999978</td>\n      <td>0.960623</td>\n      <td>0.048394</td>\n      <td>0.906591</td>\n      <td>0.999983</td>\n      <td>0.150136</td>\n      <td>0.143481</td>\n      <td>...</td>\n      <td>5.209588e+08</td>\n      <td>4.559181e+09</td>\n      <td>370.000000</td>\n      <td>621.564478</td>\n      <td>0.0</td>\n      <td>1574.0</td>\n      <td>850.000000</td>\n      <td>826.339519</td>\n      <td>179.0</td>\n      <td>1773.0</td>\n    </tr>\n    <tr>\n      <th rowspan=\"5\" valign=\"top\">scipy</th>\n      <th>1</th>\n      <td>0.578786</td>\n      <td>0.215603</td>\n      <td>0.322760</td>\n      <td>0.795440</td>\n      <td>0.385312</td>\n      <td>0.334051</td>\n      <td>0.015630</td>\n      <td>0.792068</td>\n      <td>0.346479</td>\n      <td>0.169024</td>\n      <td>...</td>\n      <td>1.848000e+03</td>\n      <td>3.808000e+03</td>\n      <td>22.500000</td>\n      <td>3.619392</td>\n      <td>19.0</td>\n      <td>27.0</td>\n      <td>22.500000</td>\n      <td>3.619392</td>\n      <td>19.0</td>\n      <td>27.0</td>\n    </tr>\n    <tr>\n      <th>2</th>\n      <td>0.850797</td>\n      <td>0.141596</td>\n      <td>0.562920</td>\n      <td>0.918540</td>\n      <td>0.786808</td>\n      <td>0.231791</td>\n      <td>0.335994</td>\n      <td>0.946846</td>\n      <td>0.338920</td>\n      <td>0.098601</td>\n      <td>...</td>\n      <td>4.608000e+03</td>\n      <td>1.310400e+04</td>\n      <td>74.666667</td>\n      <td>33.152174</td>\n      <td>35.0</td>\n      <td>116.0</td>\n      <td>74.666667</td>\n      <td>33.152174</td>\n      <td>35.0</td>\n      <td>116.0</td>\n    </tr>\n    <tr>\n      <th>3</th>\n      <td>0.880351</td>\n      <td>0.073960</td>\n      <td>0.760516</td>\n      <td>0.973016</td>\n      <td>0.816939</td>\n      <td>0.087629</td>\n      <td>0.752143</td>\n      <td>0.968308</td>\n      <td>0.366746</td>\n      <td>0.101873</td>\n      <td>...</td>\n      <td>5.824000e+03</td>\n      <td>1.851200e+04</td>\n      <td>96.000000</td>\n      <td>52.664979</td>\n      <td>54.0</td>\n      <td>177.0</td>\n      <td>96.000000</td>\n      <td>52.664979</td>\n      <td>54.0</td>\n      <td>177.0</td>\n    </tr>\n    <tr>\n      <th>4</th>\n      <td>0.832498</td>\n      <td>0.142717</td>\n      <td>0.623810</td>\n      <td>0.981445</td>\n      <td>0.681178</td>\n      <td>0.360276</td>\n      <td>0.043834</td>\n      <td>0.980620</td>\n      <td>0.308058</td>\n      <td>0.130118</td>\n      <td>...</td>\n      <td>1.108800e+04</td>\n      <td>1.779200e+04</td>\n      <td>102.166667</td>\n      <td>23.250090</td>\n      <td>79.0</td>\n      <td>138.0</td>\n      <td>102.166667</td>\n      <td>23.250090</td>\n      <td>79.0</td>\n      <td>138.0</td>\n    </tr>\n    <tr>\n      <th>5</th>\n      <td>0.941948</td>\n      <td>0.074239</td>\n      <td>0.821507</td>\n      <td>0.995812</td>\n      <td>0.910507</td>\n      <td>0.117591</td>\n      <td>0.735778</td>\n      <td>0.996740</td>\n      <td>0.214588</td>\n      <td>0.169398</td>\n      <td>...</td>\n      <td>1.394400e+04</td>\n      <td>4.032000e+04</td>\n      <td>156.833333</td>\n      <td>91.750568</td>\n      <td>82.0</td>\n      <td>335.0</td>\n      <td>156.833333</td>\n      <td>91.750568</td>\n      <td>82.0</td>\n      <td>335.0</td>\n    </tr>\n    <tr>\n      <th rowspan=\"5\" valign=\"top\">gradient_descent</th>\n      <th>1</th>\n      <td>NaN</td>\n      <td>NaN</td>\n      <td>NaN</td>\n      <td>NaN</td>\n      <td>NaN</td>\n      <td>NaN</td>\n      <td>NaN</td>\n      <td>NaN</td>\n      <td>NaN</td>\n      <td>NaN</td>\n      <td>...</td>\n      <td>NaN</td>\n      <td>NaN</td>\n      <td>NaN</td>\n      <td>NaN</td>\n      <td>NaN</td>\n      <td>NaN</td>\n      <td>NaN</td>\n      <td>NaN</td>\n      <td>NaN</td>\n      <td>NaN</td>\n    </tr>\n    <tr>\n      <th>2</th>\n      <td>NaN</td>\n      <td>NaN</td>\n      <td>NaN</td>\n      <td>NaN</td>\n      <td>NaN</td>\n      <td>NaN</td>\n      <td>NaN</td>\n      <td>NaN</td>\n      <td>NaN</td>\n      <td>NaN</td>\n      <td>...</td>\n      <td>NaN</td>\n      <td>NaN</td>\n      <td>NaN</td>\n      <td>NaN</td>\n      <td>NaN</td>\n      <td>NaN</td>\n      <td>NaN</td>\n      <td>NaN</td>\n      <td>NaN</td>\n      <td>NaN</td>\n    </tr>\n    <tr>\n      <th>3</th>\n      <td>NaN</td>\n      <td>NaN</td>\n      <td>NaN</td>\n      <td>NaN</td>\n      <td>NaN</td>\n      <td>NaN</td>\n      <td>NaN</td>\n      <td>NaN</td>\n      <td>NaN</td>\n      <td>NaN</td>\n      <td>...</td>\n      <td>NaN</td>\n      <td>NaN</td>\n      <td>NaN</td>\n      <td>NaN</td>\n      <td>NaN</td>\n      <td>NaN</td>\n      <td>NaN</td>\n      <td>NaN</td>\n      <td>NaN</td>\n      <td>NaN</td>\n    </tr>\n    <tr>\n      <th>4</th>\n      <td>NaN</td>\n      <td>NaN</td>\n      <td>NaN</td>\n      <td>NaN</td>\n      <td>NaN</td>\n      <td>NaN</td>\n      <td>NaN</td>\n      <td>NaN</td>\n      <td>NaN</td>\n      <td>NaN</td>\n      <td>...</td>\n      <td>NaN</td>\n      <td>NaN</td>\n      <td>NaN</td>\n      <td>NaN</td>\n      <td>NaN</td>\n      <td>NaN</td>\n      <td>NaN</td>\n      <td>NaN</td>\n      <td>NaN</td>\n      <td>NaN</td>\n    </tr>\n    <tr>\n      <th>5</th>\n      <td>NaN</td>\n      <td>NaN</td>\n      <td>NaN</td>\n      <td>NaN</td>\n      <td>NaN</td>\n      <td>NaN</td>\n      <td>NaN</td>\n      <td>NaN</td>\n      <td>NaN</td>\n      <td>NaN</td>\n      <td>...</td>\n      <td>NaN</td>\n      <td>NaN</td>\n      <td>NaN</td>\n      <td>NaN</td>\n      <td>NaN</td>\n      <td>NaN</td>\n      <td>NaN</td>\n      <td>NaN</td>\n      <td>NaN</td>\n      <td>NaN</td>\n    </tr>\n  </tbody>\n</table>\n<p>15 rows × 32 columns</p>\n</div>"
     },
     "execution_count": 14,
     "metadata": {},
     "output_type": "execute_result"
    }
   ],
   "source": [
    "stats"
   ],
   "metadata": {
    "collapsed": false
   }
  },
  {
   "cell_type": "code",
   "execution_count": 4,
   "outputs": [
    {
     "data": {
      "text/plain": "     expectation approximation ratio                                \\\n   p                            mean       std       min       max   \n0  1                        0.555697  0.320149  0.133846  0.963225   \n1  2                        0.914538  0.023949  0.873142  0.947408   \n2  3                        0.926812  0.027653  0.895857  0.966206   \n3  4                        0.943432  0.049538  0.869999  0.974706   \n4  5                        0.969683  0.032257  0.935768  0.999978   \n\n  groundspace overlap                               groundspace sharpness  \\\n                 mean       std       min       max                  mean   \n0            0.464344  0.373130  0.019871  0.962394              0.331865   \n1            0.895209  0.049664  0.831052  0.943499              0.297600   \n2            0.866436  0.068250  0.795922  0.967577              0.324697   \n3            0.930693  0.062414  0.843536  0.977556              0.232359   \n4            0.960623  0.048394  0.906591  0.999983              0.150136   \n\n   ...    gate count               num_fun_calls                             \\\n   ...           min           max          mean          std   min     max   \n0  ...  1.069340e+06  1.938870e+06     55.000000     7.014271  44.0    62.0   \n1  ...  1.101945e+07  1.254455e+08    194.000000   203.399115  56.0   602.0   \n2  ...  3.665482e+07  1.293696e+09    548.666667  1003.912081   0.0  2588.0   \n3  ...  1.450715e+08  2.956321e+08     83.333333    71.079298   0.0   182.0   \n4  ...  5.209588e+08  4.559181e+09    370.000000   621.564478   0.0  1574.0   \n\n        steps                              \n         mean          std    min     max  \n0   75.666667     7.312090   62.0    82.0  \n1  235.000000   232.458168   79.0   701.0  \n2  774.600000  1247.291987   85.0  3000.0  \n3  157.000000    45.731098  126.0   225.0  \n4  850.000000   826.339519  179.0  1773.0  \n\n[5 rows x 33 columns]",
      "text/html": "<div>\n<style scoped>\n    .dataframe tbody tr th:only-of-type {\n        vertical-align: middle;\n    }\n\n    .dataframe tbody tr th {\n        vertical-align: top;\n    }\n\n    .dataframe thead tr th {\n        text-align: left;\n    }\n</style>\n<table border=\"1\" class=\"dataframe\">\n  <thead>\n    <tr>\n      <th></th>\n      <th></th>\n      <th colspan=\"4\" halign=\"left\">expectation approximation ratio</th>\n      <th colspan=\"4\" halign=\"left\">groundspace overlap</th>\n      <th>groundspace sharpness</th>\n      <th>...</th>\n      <th colspan=\"2\" halign=\"left\">gate count</th>\n      <th colspan=\"4\" halign=\"left\">num_fun_calls</th>\n      <th colspan=\"4\" halign=\"left\">steps</th>\n    </tr>\n    <tr>\n      <th></th>\n      <th>p</th>\n      <th>mean</th>\n      <th>std</th>\n      <th>min</th>\n      <th>max</th>\n      <th>mean</th>\n      <th>std</th>\n      <th>min</th>\n      <th>max</th>\n      <th>mean</th>\n      <th>...</th>\n      <th>min</th>\n      <th>max</th>\n      <th>mean</th>\n      <th>std</th>\n      <th>min</th>\n      <th>max</th>\n      <th>mean</th>\n      <th>std</th>\n      <th>min</th>\n      <th>max</th>\n    </tr>\n  </thead>\n  <tbody>\n    <tr>\n      <th>0</th>\n      <td>1</td>\n      <td>0.555697</td>\n      <td>0.320149</td>\n      <td>0.133846</td>\n      <td>0.963225</td>\n      <td>0.464344</td>\n      <td>0.373130</td>\n      <td>0.019871</td>\n      <td>0.962394</td>\n      <td>0.331865</td>\n      <td>...</td>\n      <td>1.069340e+06</td>\n      <td>1.938870e+06</td>\n      <td>55.000000</td>\n      <td>7.014271</td>\n      <td>44.0</td>\n      <td>62.0</td>\n      <td>75.666667</td>\n      <td>7.312090</td>\n      <td>62.0</td>\n      <td>82.0</td>\n    </tr>\n    <tr>\n      <th>1</th>\n      <td>2</td>\n      <td>0.914538</td>\n      <td>0.023949</td>\n      <td>0.873142</td>\n      <td>0.947408</td>\n      <td>0.895209</td>\n      <td>0.049664</td>\n      <td>0.831052</td>\n      <td>0.943499</td>\n      <td>0.297600</td>\n      <td>...</td>\n      <td>1.101945e+07</td>\n      <td>1.254455e+08</td>\n      <td>194.000000</td>\n      <td>203.399115</td>\n      <td>56.0</td>\n      <td>602.0</td>\n      <td>235.000000</td>\n      <td>232.458168</td>\n      <td>79.0</td>\n      <td>701.0</td>\n    </tr>\n    <tr>\n      <th>2</th>\n      <td>3</td>\n      <td>0.926812</td>\n      <td>0.027653</td>\n      <td>0.895857</td>\n      <td>0.966206</td>\n      <td>0.866436</td>\n      <td>0.068250</td>\n      <td>0.795922</td>\n      <td>0.967577</td>\n      <td>0.324697</td>\n      <td>...</td>\n      <td>3.665482e+07</td>\n      <td>1.293696e+09</td>\n      <td>548.666667</td>\n      <td>1003.912081</td>\n      <td>0.0</td>\n      <td>2588.0</td>\n      <td>774.600000</td>\n      <td>1247.291987</td>\n      <td>85.0</td>\n      <td>3000.0</td>\n    </tr>\n    <tr>\n      <th>3</th>\n      <td>4</td>\n      <td>0.943432</td>\n      <td>0.049538</td>\n      <td>0.869999</td>\n      <td>0.974706</td>\n      <td>0.930693</td>\n      <td>0.062414</td>\n      <td>0.843536</td>\n      <td>0.977556</td>\n      <td>0.232359</td>\n      <td>...</td>\n      <td>1.450715e+08</td>\n      <td>2.956321e+08</td>\n      <td>83.333333</td>\n      <td>71.079298</td>\n      <td>0.0</td>\n      <td>182.0</td>\n      <td>157.000000</td>\n      <td>45.731098</td>\n      <td>126.0</td>\n      <td>225.0</td>\n    </tr>\n    <tr>\n      <th>4</th>\n      <td>5</td>\n      <td>0.969683</td>\n      <td>0.032257</td>\n      <td>0.935768</td>\n      <td>0.999978</td>\n      <td>0.960623</td>\n      <td>0.048394</td>\n      <td>0.906591</td>\n      <td>0.999983</td>\n      <td>0.150136</td>\n      <td>...</td>\n      <td>5.209588e+08</td>\n      <td>4.559181e+09</td>\n      <td>370.000000</td>\n      <td>621.564478</td>\n      <td>0.0</td>\n      <td>1574.0</td>\n      <td>850.000000</td>\n      <td>826.339519</td>\n      <td>179.0</td>\n      <td>1773.0</td>\n    </tr>\n  </tbody>\n</table>\n<p>5 rows × 33 columns</p>\n</div>"
     },
     "execution_count": 4,
     "metadata": {},
     "output_type": "execute_result"
    }
   ],
   "source": [
    "stats_tdvp = stats.xs('tdvp').reset_index(\n",
    "    col_level=1)  #maybe find a way to include the p values into each measure subtable\n",
    "stats_tdvp"
   ],
   "metadata": {
    "collapsed": false
   }
  },
  {
   "cell_type": "code",
   "execution_count": 27,
   "outputs": [
    {
     "data": {
      "application/vnd.plotly.v1+json": {
       "data": [
        {
         "error_y": {
          "array": [
           0.3201487361665547,
           0.02394892931674391,
           0.02765342269576614,
           0.04953751635806973,
           0.03225727007247851
          ]
         },
         "hovertemplate": "algorithm=tdvp<br>p=%{x}<br>mean=%{y}<extra></extra>",
         "legendgroup": "tdvp",
         "marker": {
          "color": "#636efa",
          "symbol": "circle"
         },
         "mode": "markers",
         "name": "tdvp",
         "orientation": "v",
         "showlegend": true,
         "x": [
          1,
          2,
          3,
          4,
          5
         ],
         "xaxis": "x",
         "y": [
          0.5556972885891764,
          0.9145377339773216,
          0.926811641158419,
          0.9434318053170215,
          0.9696827082597586
         ],
         "yaxis": "y",
         "type": "scatter"
        },
        {
         "error_y": {
          "array": [
           0.21560265835861073,
           0.14159612678252284,
           0.07395993496655397,
           0.14271724666289023,
           0.07423863390319707
          ]
         },
         "hovertemplate": "algorithm=scipy<br>p=%{x}<br>mean=%{y}<extra></extra>",
         "legendgroup": "scipy",
         "marker": {
          "color": "#EF553B",
          "symbol": "circle"
         },
         "mode": "markers",
         "name": "scipy",
         "orientation": "v",
         "showlegend": true,
         "x": [
          1,
          2,
          3,
          4,
          5
         ],
         "xaxis": "x",
         "y": [
          0.5787864901075576,
          0.8507968809822398,
          0.8803506807335709,
          0.8324981983797676,
          0.9419482241595875
         ],
         "yaxis": "y",
         "type": "scatter"
        },
        {
         "error_y": {
          "array": [
           null,
           null,
           null,
           null,
           null
          ]
         },
         "hovertemplate": "algorithm=gradient_descent<br>p=%{x}<br>mean=%{y}<extra></extra>",
         "legendgroup": "gradient_descent",
         "marker": {
          "color": "#00cc96",
          "symbol": "circle"
         },
         "mode": "markers",
         "name": "gradient_descent",
         "orientation": "v",
         "showlegend": true,
         "x": [
          1,
          2,
          3,
          4,
          5
         ],
         "xaxis": "x",
         "y": [
          null,
          null,
          null,
          null,
          null
         ],
         "yaxis": "y",
         "type": "scatter"
        }
       ],
       "layout": {
        "template": {
         "data": {
          "histogram2dcontour": [
           {
            "type": "histogram2dcontour",
            "colorbar": {
             "outlinewidth": 0,
             "ticks": ""
            },
            "colorscale": [
             [
              0.0,
              "#0d0887"
             ],
             [
              0.1111111111111111,
              "#46039f"
             ],
             [
              0.2222222222222222,
              "#7201a8"
             ],
             [
              0.3333333333333333,
              "#9c179e"
             ],
             [
              0.4444444444444444,
              "#bd3786"
             ],
             [
              0.5555555555555556,
              "#d8576b"
             ],
             [
              0.6666666666666666,
              "#ed7953"
             ],
             [
              0.7777777777777778,
              "#fb9f3a"
             ],
             [
              0.8888888888888888,
              "#fdca26"
             ],
             [
              1.0,
              "#f0f921"
             ]
            ]
           }
          ],
          "choropleth": [
           {
            "type": "choropleth",
            "colorbar": {
             "outlinewidth": 0,
             "ticks": ""
            }
           }
          ],
          "histogram2d": [
           {
            "type": "histogram2d",
            "colorbar": {
             "outlinewidth": 0,
             "ticks": ""
            },
            "colorscale": [
             [
              0.0,
              "#0d0887"
             ],
             [
              0.1111111111111111,
              "#46039f"
             ],
             [
              0.2222222222222222,
              "#7201a8"
             ],
             [
              0.3333333333333333,
              "#9c179e"
             ],
             [
              0.4444444444444444,
              "#bd3786"
             ],
             [
              0.5555555555555556,
              "#d8576b"
             ],
             [
              0.6666666666666666,
              "#ed7953"
             ],
             [
              0.7777777777777778,
              "#fb9f3a"
             ],
             [
              0.8888888888888888,
              "#fdca26"
             ],
             [
              1.0,
              "#f0f921"
             ]
            ]
           }
          ],
          "heatmap": [
           {
            "type": "heatmap",
            "colorbar": {
             "outlinewidth": 0,
             "ticks": ""
            },
            "colorscale": [
             [
              0.0,
              "#0d0887"
             ],
             [
              0.1111111111111111,
              "#46039f"
             ],
             [
              0.2222222222222222,
              "#7201a8"
             ],
             [
              0.3333333333333333,
              "#9c179e"
             ],
             [
              0.4444444444444444,
              "#bd3786"
             ],
             [
              0.5555555555555556,
              "#d8576b"
             ],
             [
              0.6666666666666666,
              "#ed7953"
             ],
             [
              0.7777777777777778,
              "#fb9f3a"
             ],
             [
              0.8888888888888888,
              "#fdca26"
             ],
             [
              1.0,
              "#f0f921"
             ]
            ]
           }
          ],
          "heatmapgl": [
           {
            "type": "heatmapgl",
            "colorbar": {
             "outlinewidth": 0,
             "ticks": ""
            },
            "colorscale": [
             [
              0.0,
              "#0d0887"
             ],
             [
              0.1111111111111111,
              "#46039f"
             ],
             [
              0.2222222222222222,
              "#7201a8"
             ],
             [
              0.3333333333333333,
              "#9c179e"
             ],
             [
              0.4444444444444444,
              "#bd3786"
             ],
             [
              0.5555555555555556,
              "#d8576b"
             ],
             [
              0.6666666666666666,
              "#ed7953"
             ],
             [
              0.7777777777777778,
              "#fb9f3a"
             ],
             [
              0.8888888888888888,
              "#fdca26"
             ],
             [
              1.0,
              "#f0f921"
             ]
            ]
           }
          ],
          "contourcarpet": [
           {
            "type": "contourcarpet",
            "colorbar": {
             "outlinewidth": 0,
             "ticks": ""
            }
           }
          ],
          "contour": [
           {
            "type": "contour",
            "colorbar": {
             "outlinewidth": 0,
             "ticks": ""
            },
            "colorscale": [
             [
              0.0,
              "#0d0887"
             ],
             [
              0.1111111111111111,
              "#46039f"
             ],
             [
              0.2222222222222222,
              "#7201a8"
             ],
             [
              0.3333333333333333,
              "#9c179e"
             ],
             [
              0.4444444444444444,
              "#bd3786"
             ],
             [
              0.5555555555555556,
              "#d8576b"
             ],
             [
              0.6666666666666666,
              "#ed7953"
             ],
             [
              0.7777777777777778,
              "#fb9f3a"
             ],
             [
              0.8888888888888888,
              "#fdca26"
             ],
             [
              1.0,
              "#f0f921"
             ]
            ]
           }
          ],
          "surface": [
           {
            "type": "surface",
            "colorbar": {
             "outlinewidth": 0,
             "ticks": ""
            },
            "colorscale": [
             [
              0.0,
              "#0d0887"
             ],
             [
              0.1111111111111111,
              "#46039f"
             ],
             [
              0.2222222222222222,
              "#7201a8"
             ],
             [
              0.3333333333333333,
              "#9c179e"
             ],
             [
              0.4444444444444444,
              "#bd3786"
             ],
             [
              0.5555555555555556,
              "#d8576b"
             ],
             [
              0.6666666666666666,
              "#ed7953"
             ],
             [
              0.7777777777777778,
              "#fb9f3a"
             ],
             [
              0.8888888888888888,
              "#fdca26"
             ],
             [
              1.0,
              "#f0f921"
             ]
            ]
           }
          ],
          "mesh3d": [
           {
            "type": "mesh3d",
            "colorbar": {
             "outlinewidth": 0,
             "ticks": ""
            }
           }
          ],
          "scatter": [
           {
            "marker": {
             "line": {
              "color": "#283442"
             }
            },
            "type": "scatter"
           }
          ],
          "parcoords": [
           {
            "type": "parcoords",
            "line": {
             "colorbar": {
              "outlinewidth": 0,
              "ticks": ""
             }
            }
           }
          ],
          "scatterpolargl": [
           {
            "type": "scatterpolargl",
            "marker": {
             "colorbar": {
              "outlinewidth": 0,
              "ticks": ""
             }
            }
           }
          ],
          "bar": [
           {
            "error_x": {
             "color": "#f2f5fa"
            },
            "error_y": {
             "color": "#f2f5fa"
            },
            "marker": {
             "line": {
              "color": "rgb(17,17,17)",
              "width": 0.5
             },
             "pattern": {
              "fillmode": "overlay",
              "size": 10,
              "solidity": 0.2
             }
            },
            "type": "bar"
           }
          ],
          "scattergeo": [
           {
            "type": "scattergeo",
            "marker": {
             "colorbar": {
              "outlinewidth": 0,
              "ticks": ""
             }
            }
           }
          ],
          "scatterpolar": [
           {
            "type": "scatterpolar",
            "marker": {
             "colorbar": {
              "outlinewidth": 0,
              "ticks": ""
             }
            }
           }
          ],
          "histogram": [
           {
            "marker": {
             "pattern": {
              "fillmode": "overlay",
              "size": 10,
              "solidity": 0.2
             }
            },
            "type": "histogram"
           }
          ],
          "scattergl": [
           {
            "marker": {
             "line": {
              "color": "#283442"
             }
            },
            "type": "scattergl"
           }
          ],
          "scatter3d": [
           {
            "type": "scatter3d",
            "line": {
             "colorbar": {
              "outlinewidth": 0,
              "ticks": ""
             }
            },
            "marker": {
             "colorbar": {
              "outlinewidth": 0,
              "ticks": ""
             }
            }
           }
          ],
          "scattermapbox": [
           {
            "type": "scattermapbox",
            "marker": {
             "colorbar": {
              "outlinewidth": 0,
              "ticks": ""
             }
            }
           }
          ],
          "scatterternary": [
           {
            "type": "scatterternary",
            "marker": {
             "colorbar": {
              "outlinewidth": 0,
              "ticks": ""
             }
            }
           }
          ],
          "scattercarpet": [
           {
            "type": "scattercarpet",
            "marker": {
             "colorbar": {
              "outlinewidth": 0,
              "ticks": ""
             }
            }
           }
          ],
          "carpet": [
           {
            "aaxis": {
             "endlinecolor": "#A2B1C6",
             "gridcolor": "#506784",
             "linecolor": "#506784",
             "minorgridcolor": "#506784",
             "startlinecolor": "#A2B1C6"
            },
            "baxis": {
             "endlinecolor": "#A2B1C6",
             "gridcolor": "#506784",
             "linecolor": "#506784",
             "minorgridcolor": "#506784",
             "startlinecolor": "#A2B1C6"
            },
            "type": "carpet"
           }
          ],
          "table": [
           {
            "cells": {
             "fill": {
              "color": "#506784"
             },
             "line": {
              "color": "rgb(17,17,17)"
             }
            },
            "header": {
             "fill": {
              "color": "#2a3f5f"
             },
             "line": {
              "color": "rgb(17,17,17)"
             }
            },
            "type": "table"
           }
          ],
          "barpolar": [
           {
            "marker": {
             "line": {
              "color": "rgb(17,17,17)",
              "width": 0.5
             },
             "pattern": {
              "fillmode": "overlay",
              "size": 10,
              "solidity": 0.2
             }
            },
            "type": "barpolar"
           }
          ],
          "pie": [
           {
            "automargin": true,
            "type": "pie"
           }
          ]
         },
         "layout": {
          "autotypenumbers": "strict",
          "colorway": [
           "#636efa",
           "#EF553B",
           "#00cc96",
           "#ab63fa",
           "#FFA15A",
           "#19d3f3",
           "#FF6692",
           "#B6E880",
           "#FF97FF",
           "#FECB52"
          ],
          "font": {
           "color": "#f2f5fa"
          },
          "hovermode": "closest",
          "hoverlabel": {
           "align": "left"
          },
          "paper_bgcolor": "rgb(17,17,17)",
          "plot_bgcolor": "rgb(17,17,17)",
          "polar": {
           "bgcolor": "rgb(17,17,17)",
           "angularaxis": {
            "gridcolor": "#506784",
            "linecolor": "#506784",
            "ticks": ""
           },
           "radialaxis": {
            "gridcolor": "#506784",
            "linecolor": "#506784",
            "ticks": ""
           }
          },
          "ternary": {
           "bgcolor": "rgb(17,17,17)",
           "aaxis": {
            "gridcolor": "#506784",
            "linecolor": "#506784",
            "ticks": ""
           },
           "baxis": {
            "gridcolor": "#506784",
            "linecolor": "#506784",
            "ticks": ""
           },
           "caxis": {
            "gridcolor": "#506784",
            "linecolor": "#506784",
            "ticks": ""
           }
          },
          "coloraxis": {
           "colorbar": {
            "outlinewidth": 0,
            "ticks": ""
           }
          },
          "colorscale": {
           "sequential": [
            [
             0.0,
             "#0d0887"
            ],
            [
             0.1111111111111111,
             "#46039f"
            ],
            [
             0.2222222222222222,
             "#7201a8"
            ],
            [
             0.3333333333333333,
             "#9c179e"
            ],
            [
             0.4444444444444444,
             "#bd3786"
            ],
            [
             0.5555555555555556,
             "#d8576b"
            ],
            [
             0.6666666666666666,
             "#ed7953"
            ],
            [
             0.7777777777777778,
             "#fb9f3a"
            ],
            [
             0.8888888888888888,
             "#fdca26"
            ],
            [
             1.0,
             "#f0f921"
            ]
           ],
           "sequentialminus": [
            [
             0.0,
             "#0d0887"
            ],
            [
             0.1111111111111111,
             "#46039f"
            ],
            [
             0.2222222222222222,
             "#7201a8"
            ],
            [
             0.3333333333333333,
             "#9c179e"
            ],
            [
             0.4444444444444444,
             "#bd3786"
            ],
            [
             0.5555555555555556,
             "#d8576b"
            ],
            [
             0.6666666666666666,
             "#ed7953"
            ],
            [
             0.7777777777777778,
             "#fb9f3a"
            ],
            [
             0.8888888888888888,
             "#fdca26"
            ],
            [
             1.0,
             "#f0f921"
            ]
           ],
           "diverging": [
            [
             0,
             "#8e0152"
            ],
            [
             0.1,
             "#c51b7d"
            ],
            [
             0.2,
             "#de77ae"
            ],
            [
             0.3,
             "#f1b6da"
            ],
            [
             0.4,
             "#fde0ef"
            ],
            [
             0.5,
             "#f7f7f7"
            ],
            [
             0.6,
             "#e6f5d0"
            ],
            [
             0.7,
             "#b8e186"
            ],
            [
             0.8,
             "#7fbc41"
            ],
            [
             0.9,
             "#4d9221"
            ],
            [
             1,
             "#276419"
            ]
           ]
          },
          "xaxis": {
           "gridcolor": "#283442",
           "linecolor": "#506784",
           "ticks": "",
           "title": {
            "standoff": 15
           },
           "zerolinecolor": "#283442",
           "automargin": true,
           "zerolinewidth": 2
          },
          "yaxis": {
           "gridcolor": "#283442",
           "linecolor": "#506784",
           "ticks": "",
           "title": {
            "standoff": 15
           },
           "zerolinecolor": "#283442",
           "automargin": true,
           "zerolinewidth": 2
          },
          "scene": {
           "xaxis": {
            "backgroundcolor": "rgb(17,17,17)",
            "gridcolor": "#506784",
            "linecolor": "#506784",
            "showbackground": true,
            "ticks": "",
            "zerolinecolor": "#C8D4E3",
            "gridwidth": 2
           },
           "yaxis": {
            "backgroundcolor": "rgb(17,17,17)",
            "gridcolor": "#506784",
            "linecolor": "#506784",
            "showbackground": true,
            "ticks": "",
            "zerolinecolor": "#C8D4E3",
            "gridwidth": 2
           },
           "zaxis": {
            "backgroundcolor": "rgb(17,17,17)",
            "gridcolor": "#506784",
            "linecolor": "#506784",
            "showbackground": true,
            "ticks": "",
            "zerolinecolor": "#C8D4E3",
            "gridwidth": 2
           }
          },
          "shapedefaults": {
           "line": {
            "color": "#f2f5fa"
           }
          },
          "annotationdefaults": {
           "arrowcolor": "#f2f5fa",
           "arrowhead": 0,
           "arrowwidth": 1
          },
          "geo": {
           "bgcolor": "rgb(17,17,17)",
           "landcolor": "rgb(17,17,17)",
           "subunitcolor": "#506784",
           "showland": true,
           "showlakes": true,
           "lakecolor": "rgb(17,17,17)"
          },
          "title": {
           "x": 0.05
          },
          "updatemenudefaults": {
           "bgcolor": "#506784",
           "borderwidth": 0
          },
          "sliderdefaults": {
           "bgcolor": "#C8D4E3",
           "borderwidth": 1,
           "bordercolor": "rgb(17,17,17)",
           "tickwidth": 0
          },
          "mapbox": {
           "style": "dark"
          }
         }
        },
        "xaxis": {
         "anchor": "y",
         "domain": [
          0.0,
          1.0
         ],
         "title": {
          "text": "p"
         }
        },
        "yaxis": {
         "anchor": "x",
         "domain": [
          0.0,
          1.0
         ],
         "title": {
          "text": "mean"
         }
        },
        "legend": {
         "title": {
          "text": "algorithm"
         },
         "tracegroupgap": 0
        },
        "margin": {
         "t": 60
        }
       },
       "config": {
        "plotlyServerURL": "https://plot.ly"
       }
      },
      "text/html": "<div>                            <div id=\"6886f7bb-47de-4feb-8acb-28f497747ebe\" class=\"plotly-graph-div\" style=\"height:525px; width:100%;\"></div>            <script type=\"text/javascript\">                require([\"plotly\"], function(Plotly) {                    window.PLOTLYENV=window.PLOTLYENV || {};                                    if (document.getElementById(\"6886f7bb-47de-4feb-8acb-28f497747ebe\")) {                    Plotly.newPlot(                        \"6886f7bb-47de-4feb-8acb-28f497747ebe\",                        [{\"error_y\":{\"array\":[0.3201487361665547,0.02394892931674391,0.02765342269576614,0.04953751635806973,0.03225727007247851]},\"hovertemplate\":\"algorithm=tdvp<br>p=%{x}<br>mean=%{y}<extra></extra>\",\"legendgroup\":\"tdvp\",\"marker\":{\"color\":\"#636efa\",\"symbol\":\"circle\"},\"mode\":\"markers\",\"name\":\"tdvp\",\"orientation\":\"v\",\"showlegend\":true,\"x\":[1,2,3,4,5],\"xaxis\":\"x\",\"y\":[0.5556972885891764,0.9145377339773216,0.926811641158419,0.9434318053170215,0.9696827082597586],\"yaxis\":\"y\",\"type\":\"scatter\"},{\"error_y\":{\"array\":[0.21560265835861073,0.14159612678252284,0.07395993496655397,0.14271724666289023,0.07423863390319707]},\"hovertemplate\":\"algorithm=scipy<br>p=%{x}<br>mean=%{y}<extra></extra>\",\"legendgroup\":\"scipy\",\"marker\":{\"color\":\"#EF553B\",\"symbol\":\"circle\"},\"mode\":\"markers\",\"name\":\"scipy\",\"orientation\":\"v\",\"showlegend\":true,\"x\":[1,2,3,4,5],\"xaxis\":\"x\",\"y\":[0.5787864901075576,0.8507968809822398,0.8803506807335709,0.8324981983797676,0.9419482241595875],\"yaxis\":\"y\",\"type\":\"scatter\"},{\"error_y\":{\"array\":[null,null,null,null,null]},\"hovertemplate\":\"algorithm=gradient_descent<br>p=%{x}<br>mean=%{y}<extra></extra>\",\"legendgroup\":\"gradient_descent\",\"marker\":{\"color\":\"#00cc96\",\"symbol\":\"circle\"},\"mode\":\"markers\",\"name\":\"gradient_descent\",\"orientation\":\"v\",\"showlegend\":true,\"x\":[1,2,3,4,5],\"xaxis\":\"x\",\"y\":[null,null,null,null,null],\"yaxis\":\"y\",\"type\":\"scatter\"}],                        {\"template\":{\"data\":{\"histogram2dcontour\":[{\"type\":\"histogram2dcontour\",\"colorbar\":{\"outlinewidth\":0,\"ticks\":\"\"},\"colorscale\":[[0.0,\"#0d0887\"],[0.1111111111111111,\"#46039f\"],[0.2222222222222222,\"#7201a8\"],[0.3333333333333333,\"#9c179e\"],[0.4444444444444444,\"#bd3786\"],[0.5555555555555556,\"#d8576b\"],[0.6666666666666666,\"#ed7953\"],[0.7777777777777778,\"#fb9f3a\"],[0.8888888888888888,\"#fdca26\"],[1.0,\"#f0f921\"]]}],\"choropleth\":[{\"type\":\"choropleth\",\"colorbar\":{\"outlinewidth\":0,\"ticks\":\"\"}}],\"histogram2d\":[{\"type\":\"histogram2d\",\"colorbar\":{\"outlinewidth\":0,\"ticks\":\"\"},\"colorscale\":[[0.0,\"#0d0887\"],[0.1111111111111111,\"#46039f\"],[0.2222222222222222,\"#7201a8\"],[0.3333333333333333,\"#9c179e\"],[0.4444444444444444,\"#bd3786\"],[0.5555555555555556,\"#d8576b\"],[0.6666666666666666,\"#ed7953\"],[0.7777777777777778,\"#fb9f3a\"],[0.8888888888888888,\"#fdca26\"],[1.0,\"#f0f921\"]]}],\"heatmap\":[{\"type\":\"heatmap\",\"colorbar\":{\"outlinewidth\":0,\"ticks\":\"\"},\"colorscale\":[[0.0,\"#0d0887\"],[0.1111111111111111,\"#46039f\"],[0.2222222222222222,\"#7201a8\"],[0.3333333333333333,\"#9c179e\"],[0.4444444444444444,\"#bd3786\"],[0.5555555555555556,\"#d8576b\"],[0.6666666666666666,\"#ed7953\"],[0.7777777777777778,\"#fb9f3a\"],[0.8888888888888888,\"#fdca26\"],[1.0,\"#f0f921\"]]}],\"heatmapgl\":[{\"type\":\"heatmapgl\",\"colorbar\":{\"outlinewidth\":0,\"ticks\":\"\"},\"colorscale\":[[0.0,\"#0d0887\"],[0.1111111111111111,\"#46039f\"],[0.2222222222222222,\"#7201a8\"],[0.3333333333333333,\"#9c179e\"],[0.4444444444444444,\"#bd3786\"],[0.5555555555555556,\"#d8576b\"],[0.6666666666666666,\"#ed7953\"],[0.7777777777777778,\"#fb9f3a\"],[0.8888888888888888,\"#fdca26\"],[1.0,\"#f0f921\"]]}],\"contourcarpet\":[{\"type\":\"contourcarpet\",\"colorbar\":{\"outlinewidth\":0,\"ticks\":\"\"}}],\"contour\":[{\"type\":\"contour\",\"colorbar\":{\"outlinewidth\":0,\"ticks\":\"\"},\"colorscale\":[[0.0,\"#0d0887\"],[0.1111111111111111,\"#46039f\"],[0.2222222222222222,\"#7201a8\"],[0.3333333333333333,\"#9c179e\"],[0.4444444444444444,\"#bd3786\"],[0.5555555555555556,\"#d8576b\"],[0.6666666666666666,\"#ed7953\"],[0.7777777777777778,\"#fb9f3a\"],[0.8888888888888888,\"#fdca26\"],[1.0,\"#f0f921\"]]}],\"surface\":[{\"type\":\"surface\",\"colorbar\":{\"outlinewidth\":0,\"ticks\":\"\"},\"colorscale\":[[0.0,\"#0d0887\"],[0.1111111111111111,\"#46039f\"],[0.2222222222222222,\"#7201a8\"],[0.3333333333333333,\"#9c179e\"],[0.4444444444444444,\"#bd3786\"],[0.5555555555555556,\"#d8576b\"],[0.6666666666666666,\"#ed7953\"],[0.7777777777777778,\"#fb9f3a\"],[0.8888888888888888,\"#fdca26\"],[1.0,\"#f0f921\"]]}],\"mesh3d\":[{\"type\":\"mesh3d\",\"colorbar\":{\"outlinewidth\":0,\"ticks\":\"\"}}],\"scatter\":[{\"marker\":{\"line\":{\"color\":\"#283442\"}},\"type\":\"scatter\"}],\"parcoords\":[{\"type\":\"parcoords\",\"line\":{\"colorbar\":{\"outlinewidth\":0,\"ticks\":\"\"}}}],\"scatterpolargl\":[{\"type\":\"scatterpolargl\",\"marker\":{\"colorbar\":{\"outlinewidth\":0,\"ticks\":\"\"}}}],\"bar\":[{\"error_x\":{\"color\":\"#f2f5fa\"},\"error_y\":{\"color\":\"#f2f5fa\"},\"marker\":{\"line\":{\"color\":\"rgb(17,17,17)\",\"width\":0.5},\"pattern\":{\"fillmode\":\"overlay\",\"size\":10,\"solidity\":0.2}},\"type\":\"bar\"}],\"scattergeo\":[{\"type\":\"scattergeo\",\"marker\":{\"colorbar\":{\"outlinewidth\":0,\"ticks\":\"\"}}}],\"scatterpolar\":[{\"type\":\"scatterpolar\",\"marker\":{\"colorbar\":{\"outlinewidth\":0,\"ticks\":\"\"}}}],\"histogram\":[{\"marker\":{\"pattern\":{\"fillmode\":\"overlay\",\"size\":10,\"solidity\":0.2}},\"type\":\"histogram\"}],\"scattergl\":[{\"marker\":{\"line\":{\"color\":\"#283442\"}},\"type\":\"scattergl\"}],\"scatter3d\":[{\"type\":\"scatter3d\",\"line\":{\"colorbar\":{\"outlinewidth\":0,\"ticks\":\"\"}},\"marker\":{\"colorbar\":{\"outlinewidth\":0,\"ticks\":\"\"}}}],\"scattermapbox\":[{\"type\":\"scattermapbox\",\"marker\":{\"colorbar\":{\"outlinewidth\":0,\"ticks\":\"\"}}}],\"scatterternary\":[{\"type\":\"scatterternary\",\"marker\":{\"colorbar\":{\"outlinewidth\":0,\"ticks\":\"\"}}}],\"scattercarpet\":[{\"type\":\"scattercarpet\",\"marker\":{\"colorbar\":{\"outlinewidth\":0,\"ticks\":\"\"}}}],\"carpet\":[{\"aaxis\":{\"endlinecolor\":\"#A2B1C6\",\"gridcolor\":\"#506784\",\"linecolor\":\"#506784\",\"minorgridcolor\":\"#506784\",\"startlinecolor\":\"#A2B1C6\"},\"baxis\":{\"endlinecolor\":\"#A2B1C6\",\"gridcolor\":\"#506784\",\"linecolor\":\"#506784\",\"minorgridcolor\":\"#506784\",\"startlinecolor\":\"#A2B1C6\"},\"type\":\"carpet\"}],\"table\":[{\"cells\":{\"fill\":{\"color\":\"#506784\"},\"line\":{\"color\":\"rgb(17,17,17)\"}},\"header\":{\"fill\":{\"color\":\"#2a3f5f\"},\"line\":{\"color\":\"rgb(17,17,17)\"}},\"type\":\"table\"}],\"barpolar\":[{\"marker\":{\"line\":{\"color\":\"rgb(17,17,17)\",\"width\":0.5},\"pattern\":{\"fillmode\":\"overlay\",\"size\":10,\"solidity\":0.2}},\"type\":\"barpolar\"}],\"pie\":[{\"automargin\":true,\"type\":\"pie\"}]},\"layout\":{\"autotypenumbers\":\"strict\",\"colorway\":[\"#636efa\",\"#EF553B\",\"#00cc96\",\"#ab63fa\",\"#FFA15A\",\"#19d3f3\",\"#FF6692\",\"#B6E880\",\"#FF97FF\",\"#FECB52\"],\"font\":{\"color\":\"#f2f5fa\"},\"hovermode\":\"closest\",\"hoverlabel\":{\"align\":\"left\"},\"paper_bgcolor\":\"rgb(17,17,17)\",\"plot_bgcolor\":\"rgb(17,17,17)\",\"polar\":{\"bgcolor\":\"rgb(17,17,17)\",\"angularaxis\":{\"gridcolor\":\"#506784\",\"linecolor\":\"#506784\",\"ticks\":\"\"},\"radialaxis\":{\"gridcolor\":\"#506784\",\"linecolor\":\"#506784\",\"ticks\":\"\"}},\"ternary\":{\"bgcolor\":\"rgb(17,17,17)\",\"aaxis\":{\"gridcolor\":\"#506784\",\"linecolor\":\"#506784\",\"ticks\":\"\"},\"baxis\":{\"gridcolor\":\"#506784\",\"linecolor\":\"#506784\",\"ticks\":\"\"},\"caxis\":{\"gridcolor\":\"#506784\",\"linecolor\":\"#506784\",\"ticks\":\"\"}},\"coloraxis\":{\"colorbar\":{\"outlinewidth\":0,\"ticks\":\"\"}},\"colorscale\":{\"sequential\":[[0.0,\"#0d0887\"],[0.1111111111111111,\"#46039f\"],[0.2222222222222222,\"#7201a8\"],[0.3333333333333333,\"#9c179e\"],[0.4444444444444444,\"#bd3786\"],[0.5555555555555556,\"#d8576b\"],[0.6666666666666666,\"#ed7953\"],[0.7777777777777778,\"#fb9f3a\"],[0.8888888888888888,\"#fdca26\"],[1.0,\"#f0f921\"]],\"sequentialminus\":[[0.0,\"#0d0887\"],[0.1111111111111111,\"#46039f\"],[0.2222222222222222,\"#7201a8\"],[0.3333333333333333,\"#9c179e\"],[0.4444444444444444,\"#bd3786\"],[0.5555555555555556,\"#d8576b\"],[0.6666666666666666,\"#ed7953\"],[0.7777777777777778,\"#fb9f3a\"],[0.8888888888888888,\"#fdca26\"],[1.0,\"#f0f921\"]],\"diverging\":[[0,\"#8e0152\"],[0.1,\"#c51b7d\"],[0.2,\"#de77ae\"],[0.3,\"#f1b6da\"],[0.4,\"#fde0ef\"],[0.5,\"#f7f7f7\"],[0.6,\"#e6f5d0\"],[0.7,\"#b8e186\"],[0.8,\"#7fbc41\"],[0.9,\"#4d9221\"],[1,\"#276419\"]]},\"xaxis\":{\"gridcolor\":\"#283442\",\"linecolor\":\"#506784\",\"ticks\":\"\",\"title\":{\"standoff\":15},\"zerolinecolor\":\"#283442\",\"automargin\":true,\"zerolinewidth\":2},\"yaxis\":{\"gridcolor\":\"#283442\",\"linecolor\":\"#506784\",\"ticks\":\"\",\"title\":{\"standoff\":15},\"zerolinecolor\":\"#283442\",\"automargin\":true,\"zerolinewidth\":2},\"scene\":{\"xaxis\":{\"backgroundcolor\":\"rgb(17,17,17)\",\"gridcolor\":\"#506784\",\"linecolor\":\"#506784\",\"showbackground\":true,\"ticks\":\"\",\"zerolinecolor\":\"#C8D4E3\",\"gridwidth\":2},\"yaxis\":{\"backgroundcolor\":\"rgb(17,17,17)\",\"gridcolor\":\"#506784\",\"linecolor\":\"#506784\",\"showbackground\":true,\"ticks\":\"\",\"zerolinecolor\":\"#C8D4E3\",\"gridwidth\":2},\"zaxis\":{\"backgroundcolor\":\"rgb(17,17,17)\",\"gridcolor\":\"#506784\",\"linecolor\":\"#506784\",\"showbackground\":true,\"ticks\":\"\",\"zerolinecolor\":\"#C8D4E3\",\"gridwidth\":2}},\"shapedefaults\":{\"line\":{\"color\":\"#f2f5fa\"}},\"annotationdefaults\":{\"arrowcolor\":\"#f2f5fa\",\"arrowhead\":0,\"arrowwidth\":1},\"geo\":{\"bgcolor\":\"rgb(17,17,17)\",\"landcolor\":\"rgb(17,17,17)\",\"subunitcolor\":\"#506784\",\"showland\":true,\"showlakes\":true,\"lakecolor\":\"rgb(17,17,17)\"},\"title\":{\"x\":0.05},\"updatemenudefaults\":{\"bgcolor\":\"#506784\",\"borderwidth\":0},\"sliderdefaults\":{\"bgcolor\":\"#C8D4E3\",\"borderwidth\":1,\"bordercolor\":\"rgb(17,17,17)\",\"tickwidth\":0},\"mapbox\":{\"style\":\"dark\"}}},\"xaxis\":{\"anchor\":\"y\",\"domain\":[0.0,1.0],\"title\":{\"text\":\"p\"}},\"yaxis\":{\"anchor\":\"x\",\"domain\":[0.0,1.0],\"title\":{\"text\":\"mean\"}},\"legend\":{\"title\":{\"text\":\"algorithm\"},\"tracegroupgap\":0},\"margin\":{\"t\":60}},                        {\"responsive\": true}                    ).then(function(){\n                            \nvar gd = document.getElementById('6886f7bb-47de-4feb-8acb-28f497747ebe');\nvar x = new MutationObserver(function (mutations, observer) {{\n        var display = window.getComputedStyle(gd).display;\n        if (!display || display === 'none') {{\n            console.log([gd, 'removed!']);\n            Plotly.purge(gd);\n            observer.disconnect();\n        }}\n}});\n\n// Listen for the removal of the full notebook cells\nvar notebookContainer = gd.closest('#notebook-container');\nif (notebookContainer) {{\n    x.observe(notebookContainer, {childList: true});\n}}\n\n// Listen for the clearing of the current output cell\nvar outputEl = gd.closest('.output');\nif (outputEl) {{\n    x.observe(outputEl, {childList: true});\n}}\n\n                        })                };                });            </script>        </div>"
     },
     "metadata": {},
     "output_type": "display_data"
    }
   ],
   "source": [
    "px.scatter(\n",
    "    data_frame=stats['expectation approximation ratio'].reset_index(),\n",
    "    x='p',\n",
    "    y='mean',\n",
    "    error_y='std',\n",
    "    color='algorithm',\n",
    ")"
   ],
   "metadata": {
    "collapsed": false
   }
  },
  {
   "cell_type": "code",
   "execution_count": 10,
   "outputs": [
    {
     "data": {
      "application/vnd.plotly.v1+json": {
       "data": [
        {
         "name": "tdvp",
         "x": [
          1,
          2,
          3,
          4,
          5
         ],
         "y": [
          0.5556972885891764,
          0.9145377339773216,
          0.926811641158419,
          0.9434318053170215,
          0.9696827082597586
         ],
         "type": "scatter"
        },
        {
         "name": "scipy",
         "x": [
          1,
          2,
          3,
          4,
          5
         ],
         "y": [
          0.5787864901075576,
          0.8507968809822398,
          0.8803506807335709,
          0.8324981983797676,
          0.9419482241595875
         ],
         "type": "scatter"
        }
       ],
       "layout": {
        "template": {
         "data": {
          "histogram2dcontour": [
           {
            "type": "histogram2dcontour",
            "colorbar": {
             "outlinewidth": 0,
             "ticks": ""
            },
            "colorscale": [
             [
              0.0,
              "#0d0887"
             ],
             [
              0.1111111111111111,
              "#46039f"
             ],
             [
              0.2222222222222222,
              "#7201a8"
             ],
             [
              0.3333333333333333,
              "#9c179e"
             ],
             [
              0.4444444444444444,
              "#bd3786"
             ],
             [
              0.5555555555555556,
              "#d8576b"
             ],
             [
              0.6666666666666666,
              "#ed7953"
             ],
             [
              0.7777777777777778,
              "#fb9f3a"
             ],
             [
              0.8888888888888888,
              "#fdca26"
             ],
             [
              1.0,
              "#f0f921"
             ]
            ]
           }
          ],
          "choropleth": [
           {
            "type": "choropleth",
            "colorbar": {
             "outlinewidth": 0,
             "ticks": ""
            }
           }
          ],
          "histogram2d": [
           {
            "type": "histogram2d",
            "colorbar": {
             "outlinewidth": 0,
             "ticks": ""
            },
            "colorscale": [
             [
              0.0,
              "#0d0887"
             ],
             [
              0.1111111111111111,
              "#46039f"
             ],
             [
              0.2222222222222222,
              "#7201a8"
             ],
             [
              0.3333333333333333,
              "#9c179e"
             ],
             [
              0.4444444444444444,
              "#bd3786"
             ],
             [
              0.5555555555555556,
              "#d8576b"
             ],
             [
              0.6666666666666666,
              "#ed7953"
             ],
             [
              0.7777777777777778,
              "#fb9f3a"
             ],
             [
              0.8888888888888888,
              "#fdca26"
             ],
             [
              1.0,
              "#f0f921"
             ]
            ]
           }
          ],
          "heatmap": [
           {
            "type": "heatmap",
            "colorbar": {
             "outlinewidth": 0,
             "ticks": ""
            },
            "colorscale": [
             [
              0.0,
              "#0d0887"
             ],
             [
              0.1111111111111111,
              "#46039f"
             ],
             [
              0.2222222222222222,
              "#7201a8"
             ],
             [
              0.3333333333333333,
              "#9c179e"
             ],
             [
              0.4444444444444444,
              "#bd3786"
             ],
             [
              0.5555555555555556,
              "#d8576b"
             ],
             [
              0.6666666666666666,
              "#ed7953"
             ],
             [
              0.7777777777777778,
              "#fb9f3a"
             ],
             [
              0.8888888888888888,
              "#fdca26"
             ],
             [
              1.0,
              "#f0f921"
             ]
            ]
           }
          ],
          "heatmapgl": [
           {
            "type": "heatmapgl",
            "colorbar": {
             "outlinewidth": 0,
             "ticks": ""
            },
            "colorscale": [
             [
              0.0,
              "#0d0887"
             ],
             [
              0.1111111111111111,
              "#46039f"
             ],
             [
              0.2222222222222222,
              "#7201a8"
             ],
             [
              0.3333333333333333,
              "#9c179e"
             ],
             [
              0.4444444444444444,
              "#bd3786"
             ],
             [
              0.5555555555555556,
              "#d8576b"
             ],
             [
              0.6666666666666666,
              "#ed7953"
             ],
             [
              0.7777777777777778,
              "#fb9f3a"
             ],
             [
              0.8888888888888888,
              "#fdca26"
             ],
             [
              1.0,
              "#f0f921"
             ]
            ]
           }
          ],
          "contourcarpet": [
           {
            "type": "contourcarpet",
            "colorbar": {
             "outlinewidth": 0,
             "ticks": ""
            }
           }
          ],
          "contour": [
           {
            "type": "contour",
            "colorbar": {
             "outlinewidth": 0,
             "ticks": ""
            },
            "colorscale": [
             [
              0.0,
              "#0d0887"
             ],
             [
              0.1111111111111111,
              "#46039f"
             ],
             [
              0.2222222222222222,
              "#7201a8"
             ],
             [
              0.3333333333333333,
              "#9c179e"
             ],
             [
              0.4444444444444444,
              "#bd3786"
             ],
             [
              0.5555555555555556,
              "#d8576b"
             ],
             [
              0.6666666666666666,
              "#ed7953"
             ],
             [
              0.7777777777777778,
              "#fb9f3a"
             ],
             [
              0.8888888888888888,
              "#fdca26"
             ],
             [
              1.0,
              "#f0f921"
             ]
            ]
           }
          ],
          "surface": [
           {
            "type": "surface",
            "colorbar": {
             "outlinewidth": 0,
             "ticks": ""
            },
            "colorscale": [
             [
              0.0,
              "#0d0887"
             ],
             [
              0.1111111111111111,
              "#46039f"
             ],
             [
              0.2222222222222222,
              "#7201a8"
             ],
             [
              0.3333333333333333,
              "#9c179e"
             ],
             [
              0.4444444444444444,
              "#bd3786"
             ],
             [
              0.5555555555555556,
              "#d8576b"
             ],
             [
              0.6666666666666666,
              "#ed7953"
             ],
             [
              0.7777777777777778,
              "#fb9f3a"
             ],
             [
              0.8888888888888888,
              "#fdca26"
             ],
             [
              1.0,
              "#f0f921"
             ]
            ]
           }
          ],
          "mesh3d": [
           {
            "type": "mesh3d",
            "colorbar": {
             "outlinewidth": 0,
             "ticks": ""
            }
           }
          ],
          "scatter": [
           {
            "marker": {
             "line": {
              "color": "#283442"
             }
            },
            "type": "scatter"
           }
          ],
          "parcoords": [
           {
            "type": "parcoords",
            "line": {
             "colorbar": {
              "outlinewidth": 0,
              "ticks": ""
             }
            }
           }
          ],
          "scatterpolargl": [
           {
            "type": "scatterpolargl",
            "marker": {
             "colorbar": {
              "outlinewidth": 0,
              "ticks": ""
             }
            }
           }
          ],
          "bar": [
           {
            "error_x": {
             "color": "#f2f5fa"
            },
            "error_y": {
             "color": "#f2f5fa"
            },
            "marker": {
             "line": {
              "color": "rgb(17,17,17)",
              "width": 0.5
             },
             "pattern": {
              "fillmode": "overlay",
              "size": 10,
              "solidity": 0.2
             }
            },
            "type": "bar"
           }
          ],
          "scattergeo": [
           {
            "type": "scattergeo",
            "marker": {
             "colorbar": {
              "outlinewidth": 0,
              "ticks": ""
             }
            }
           }
          ],
          "scatterpolar": [
           {
            "type": "scatterpolar",
            "marker": {
             "colorbar": {
              "outlinewidth": 0,
              "ticks": ""
             }
            }
           }
          ],
          "histogram": [
           {
            "marker": {
             "pattern": {
              "fillmode": "overlay",
              "size": 10,
              "solidity": 0.2
             }
            },
            "type": "histogram"
           }
          ],
          "scattergl": [
           {
            "marker": {
             "line": {
              "color": "#283442"
             }
            },
            "type": "scattergl"
           }
          ],
          "scatter3d": [
           {
            "type": "scatter3d",
            "line": {
             "colorbar": {
              "outlinewidth": 0,
              "ticks": ""
             }
            },
            "marker": {
             "colorbar": {
              "outlinewidth": 0,
              "ticks": ""
             }
            }
           }
          ],
          "scattermapbox": [
           {
            "type": "scattermapbox",
            "marker": {
             "colorbar": {
              "outlinewidth": 0,
              "ticks": ""
             }
            }
           }
          ],
          "scatterternary": [
           {
            "type": "scatterternary",
            "marker": {
             "colorbar": {
              "outlinewidth": 0,
              "ticks": ""
             }
            }
           }
          ],
          "scattercarpet": [
           {
            "type": "scattercarpet",
            "marker": {
             "colorbar": {
              "outlinewidth": 0,
              "ticks": ""
             }
            }
           }
          ],
          "carpet": [
           {
            "aaxis": {
             "endlinecolor": "#A2B1C6",
             "gridcolor": "#506784",
             "linecolor": "#506784",
             "minorgridcolor": "#506784",
             "startlinecolor": "#A2B1C6"
            },
            "baxis": {
             "endlinecolor": "#A2B1C6",
             "gridcolor": "#506784",
             "linecolor": "#506784",
             "minorgridcolor": "#506784",
             "startlinecolor": "#A2B1C6"
            },
            "type": "carpet"
           }
          ],
          "table": [
           {
            "cells": {
             "fill": {
              "color": "#506784"
             },
             "line": {
              "color": "rgb(17,17,17)"
             }
            },
            "header": {
             "fill": {
              "color": "#2a3f5f"
             },
             "line": {
              "color": "rgb(17,17,17)"
             }
            },
            "type": "table"
           }
          ],
          "barpolar": [
           {
            "marker": {
             "line": {
              "color": "rgb(17,17,17)",
              "width": 0.5
             },
             "pattern": {
              "fillmode": "overlay",
              "size": 10,
              "solidity": 0.2
             }
            },
            "type": "barpolar"
           }
          ],
          "pie": [
           {
            "automargin": true,
            "type": "pie"
           }
          ]
         },
         "layout": {
          "autotypenumbers": "strict",
          "colorway": [
           "#636efa",
           "#EF553B",
           "#00cc96",
           "#ab63fa",
           "#FFA15A",
           "#19d3f3",
           "#FF6692",
           "#B6E880",
           "#FF97FF",
           "#FECB52"
          ],
          "font": {
           "color": "#f2f5fa"
          },
          "hovermode": "closest",
          "hoverlabel": {
           "align": "left"
          },
          "paper_bgcolor": "rgb(17,17,17)",
          "plot_bgcolor": "rgb(17,17,17)",
          "polar": {
           "bgcolor": "rgb(17,17,17)",
           "angularaxis": {
            "gridcolor": "#506784",
            "linecolor": "#506784",
            "ticks": ""
           },
           "radialaxis": {
            "gridcolor": "#506784",
            "linecolor": "#506784",
            "ticks": ""
           }
          },
          "ternary": {
           "bgcolor": "rgb(17,17,17)",
           "aaxis": {
            "gridcolor": "#506784",
            "linecolor": "#506784",
            "ticks": ""
           },
           "baxis": {
            "gridcolor": "#506784",
            "linecolor": "#506784",
            "ticks": ""
           },
           "caxis": {
            "gridcolor": "#506784",
            "linecolor": "#506784",
            "ticks": ""
           }
          },
          "coloraxis": {
           "colorbar": {
            "outlinewidth": 0,
            "ticks": ""
           }
          },
          "colorscale": {
           "sequential": [
            [
             0.0,
             "#0d0887"
            ],
            [
             0.1111111111111111,
             "#46039f"
            ],
            [
             0.2222222222222222,
             "#7201a8"
            ],
            [
             0.3333333333333333,
             "#9c179e"
            ],
            [
             0.4444444444444444,
             "#bd3786"
            ],
            [
             0.5555555555555556,
             "#d8576b"
            ],
            [
             0.6666666666666666,
             "#ed7953"
            ],
            [
             0.7777777777777778,
             "#fb9f3a"
            ],
            [
             0.8888888888888888,
             "#fdca26"
            ],
            [
             1.0,
             "#f0f921"
            ]
           ],
           "sequentialminus": [
            [
             0.0,
             "#0d0887"
            ],
            [
             0.1111111111111111,
             "#46039f"
            ],
            [
             0.2222222222222222,
             "#7201a8"
            ],
            [
             0.3333333333333333,
             "#9c179e"
            ],
            [
             0.4444444444444444,
             "#bd3786"
            ],
            [
             0.5555555555555556,
             "#d8576b"
            ],
            [
             0.6666666666666666,
             "#ed7953"
            ],
            [
             0.7777777777777778,
             "#fb9f3a"
            ],
            [
             0.8888888888888888,
             "#fdca26"
            ],
            [
             1.0,
             "#f0f921"
            ]
           ],
           "diverging": [
            [
             0,
             "#8e0152"
            ],
            [
             0.1,
             "#c51b7d"
            ],
            [
             0.2,
             "#de77ae"
            ],
            [
             0.3,
             "#f1b6da"
            ],
            [
             0.4,
             "#fde0ef"
            ],
            [
             0.5,
             "#f7f7f7"
            ],
            [
             0.6,
             "#e6f5d0"
            ],
            [
             0.7,
             "#b8e186"
            ],
            [
             0.8,
             "#7fbc41"
            ],
            [
             0.9,
             "#4d9221"
            ],
            [
             1,
             "#276419"
            ]
           ]
          },
          "xaxis": {
           "gridcolor": "#283442",
           "linecolor": "#506784",
           "ticks": "",
           "title": {
            "standoff": 15
           },
           "zerolinecolor": "#283442",
           "automargin": true,
           "zerolinewidth": 2
          },
          "yaxis": {
           "gridcolor": "#283442",
           "linecolor": "#506784",
           "ticks": "",
           "title": {
            "standoff": 15
           },
           "zerolinecolor": "#283442",
           "automargin": true,
           "zerolinewidth": 2
          },
          "scene": {
           "xaxis": {
            "backgroundcolor": "rgb(17,17,17)",
            "gridcolor": "#506784",
            "linecolor": "#506784",
            "showbackground": true,
            "ticks": "",
            "zerolinecolor": "#C8D4E3",
            "gridwidth": 2
           },
           "yaxis": {
            "backgroundcolor": "rgb(17,17,17)",
            "gridcolor": "#506784",
            "linecolor": "#506784",
            "showbackground": true,
            "ticks": "",
            "zerolinecolor": "#C8D4E3",
            "gridwidth": 2
           },
           "zaxis": {
            "backgroundcolor": "rgb(17,17,17)",
            "gridcolor": "#506784",
            "linecolor": "#506784",
            "showbackground": true,
            "ticks": "",
            "zerolinecolor": "#C8D4E3",
            "gridwidth": 2
           }
          },
          "shapedefaults": {
           "line": {
            "color": "#f2f5fa"
           }
          },
          "annotationdefaults": {
           "arrowcolor": "#f2f5fa",
           "arrowhead": 0,
           "arrowwidth": 1
          },
          "geo": {
           "bgcolor": "rgb(17,17,17)",
           "landcolor": "rgb(17,17,17)",
           "subunitcolor": "#506784",
           "showland": true,
           "showlakes": true,
           "lakecolor": "rgb(17,17,17)"
          },
          "title": {
           "x": 0.05
          },
          "updatemenudefaults": {
           "bgcolor": "#506784",
           "borderwidth": 0
          },
          "sliderdefaults": {
           "bgcolor": "#C8D4E3",
           "borderwidth": 1,
           "bordercolor": "rgb(17,17,17)",
           "tickwidth": 0
          },
          "mapbox": {
           "style": "dark"
          }
         }
        }
       },
       "config": {
        "plotlyServerURL": "https://plot.ly"
       }
      },
      "text/html": "<div>                            <div id=\"6fb8e733-7105-4256-a6bf-ec0ebab1cf82\" class=\"plotly-graph-div\" style=\"height:525px; width:100%;\"></div>            <script type=\"text/javascript\">                require([\"plotly\"], function(Plotly) {                    window.PLOTLYENV=window.PLOTLYENV || {};                                    if (document.getElementById(\"6fb8e733-7105-4256-a6bf-ec0ebab1cf82\")) {                    Plotly.newPlot(                        \"6fb8e733-7105-4256-a6bf-ec0ebab1cf82\",                        [{\"name\":\"tdvp\",\"x\":[1,2,3,4,5],\"y\":[0.5556972885891764,0.9145377339773216,0.926811641158419,0.9434318053170215,0.9696827082597586],\"type\":\"scatter\"},{\"name\":\"scipy\",\"x\":[1,2,3,4,5],\"y\":[0.5787864901075576,0.8507968809822398,0.8803506807335709,0.8324981983797676,0.9419482241595875],\"type\":\"scatter\"}],                        {\"template\":{\"data\":{\"histogram2dcontour\":[{\"type\":\"histogram2dcontour\",\"colorbar\":{\"outlinewidth\":0,\"ticks\":\"\"},\"colorscale\":[[0.0,\"#0d0887\"],[0.1111111111111111,\"#46039f\"],[0.2222222222222222,\"#7201a8\"],[0.3333333333333333,\"#9c179e\"],[0.4444444444444444,\"#bd3786\"],[0.5555555555555556,\"#d8576b\"],[0.6666666666666666,\"#ed7953\"],[0.7777777777777778,\"#fb9f3a\"],[0.8888888888888888,\"#fdca26\"],[1.0,\"#f0f921\"]]}],\"choropleth\":[{\"type\":\"choropleth\",\"colorbar\":{\"outlinewidth\":0,\"ticks\":\"\"}}],\"histogram2d\":[{\"type\":\"histogram2d\",\"colorbar\":{\"outlinewidth\":0,\"ticks\":\"\"},\"colorscale\":[[0.0,\"#0d0887\"],[0.1111111111111111,\"#46039f\"],[0.2222222222222222,\"#7201a8\"],[0.3333333333333333,\"#9c179e\"],[0.4444444444444444,\"#bd3786\"],[0.5555555555555556,\"#d8576b\"],[0.6666666666666666,\"#ed7953\"],[0.7777777777777778,\"#fb9f3a\"],[0.8888888888888888,\"#fdca26\"],[1.0,\"#f0f921\"]]}],\"heatmap\":[{\"type\":\"heatmap\",\"colorbar\":{\"outlinewidth\":0,\"ticks\":\"\"},\"colorscale\":[[0.0,\"#0d0887\"],[0.1111111111111111,\"#46039f\"],[0.2222222222222222,\"#7201a8\"],[0.3333333333333333,\"#9c179e\"],[0.4444444444444444,\"#bd3786\"],[0.5555555555555556,\"#d8576b\"],[0.6666666666666666,\"#ed7953\"],[0.7777777777777778,\"#fb9f3a\"],[0.8888888888888888,\"#fdca26\"],[1.0,\"#f0f921\"]]}],\"heatmapgl\":[{\"type\":\"heatmapgl\",\"colorbar\":{\"outlinewidth\":0,\"ticks\":\"\"},\"colorscale\":[[0.0,\"#0d0887\"],[0.1111111111111111,\"#46039f\"],[0.2222222222222222,\"#7201a8\"],[0.3333333333333333,\"#9c179e\"],[0.4444444444444444,\"#bd3786\"],[0.5555555555555556,\"#d8576b\"],[0.6666666666666666,\"#ed7953\"],[0.7777777777777778,\"#fb9f3a\"],[0.8888888888888888,\"#fdca26\"],[1.0,\"#f0f921\"]]}],\"contourcarpet\":[{\"type\":\"contourcarpet\",\"colorbar\":{\"outlinewidth\":0,\"ticks\":\"\"}}],\"contour\":[{\"type\":\"contour\",\"colorbar\":{\"outlinewidth\":0,\"ticks\":\"\"},\"colorscale\":[[0.0,\"#0d0887\"],[0.1111111111111111,\"#46039f\"],[0.2222222222222222,\"#7201a8\"],[0.3333333333333333,\"#9c179e\"],[0.4444444444444444,\"#bd3786\"],[0.5555555555555556,\"#d8576b\"],[0.6666666666666666,\"#ed7953\"],[0.7777777777777778,\"#fb9f3a\"],[0.8888888888888888,\"#fdca26\"],[1.0,\"#f0f921\"]]}],\"surface\":[{\"type\":\"surface\",\"colorbar\":{\"outlinewidth\":0,\"ticks\":\"\"},\"colorscale\":[[0.0,\"#0d0887\"],[0.1111111111111111,\"#46039f\"],[0.2222222222222222,\"#7201a8\"],[0.3333333333333333,\"#9c179e\"],[0.4444444444444444,\"#bd3786\"],[0.5555555555555556,\"#d8576b\"],[0.6666666666666666,\"#ed7953\"],[0.7777777777777778,\"#fb9f3a\"],[0.8888888888888888,\"#fdca26\"],[1.0,\"#f0f921\"]]}],\"mesh3d\":[{\"type\":\"mesh3d\",\"colorbar\":{\"outlinewidth\":0,\"ticks\":\"\"}}],\"scatter\":[{\"marker\":{\"line\":{\"color\":\"#283442\"}},\"type\":\"scatter\"}],\"parcoords\":[{\"type\":\"parcoords\",\"line\":{\"colorbar\":{\"outlinewidth\":0,\"ticks\":\"\"}}}],\"scatterpolargl\":[{\"type\":\"scatterpolargl\",\"marker\":{\"colorbar\":{\"outlinewidth\":0,\"ticks\":\"\"}}}],\"bar\":[{\"error_x\":{\"color\":\"#f2f5fa\"},\"error_y\":{\"color\":\"#f2f5fa\"},\"marker\":{\"line\":{\"color\":\"rgb(17,17,17)\",\"width\":0.5},\"pattern\":{\"fillmode\":\"overlay\",\"size\":10,\"solidity\":0.2}},\"type\":\"bar\"}],\"scattergeo\":[{\"type\":\"scattergeo\",\"marker\":{\"colorbar\":{\"outlinewidth\":0,\"ticks\":\"\"}}}],\"scatterpolar\":[{\"type\":\"scatterpolar\",\"marker\":{\"colorbar\":{\"outlinewidth\":0,\"ticks\":\"\"}}}],\"histogram\":[{\"marker\":{\"pattern\":{\"fillmode\":\"overlay\",\"size\":10,\"solidity\":0.2}},\"type\":\"histogram\"}],\"scattergl\":[{\"marker\":{\"line\":{\"color\":\"#283442\"}},\"type\":\"scattergl\"}],\"scatter3d\":[{\"type\":\"scatter3d\",\"line\":{\"colorbar\":{\"outlinewidth\":0,\"ticks\":\"\"}},\"marker\":{\"colorbar\":{\"outlinewidth\":0,\"ticks\":\"\"}}}],\"scattermapbox\":[{\"type\":\"scattermapbox\",\"marker\":{\"colorbar\":{\"outlinewidth\":0,\"ticks\":\"\"}}}],\"scatterternary\":[{\"type\":\"scatterternary\",\"marker\":{\"colorbar\":{\"outlinewidth\":0,\"ticks\":\"\"}}}],\"scattercarpet\":[{\"type\":\"scattercarpet\",\"marker\":{\"colorbar\":{\"outlinewidth\":0,\"ticks\":\"\"}}}],\"carpet\":[{\"aaxis\":{\"endlinecolor\":\"#A2B1C6\",\"gridcolor\":\"#506784\",\"linecolor\":\"#506784\",\"minorgridcolor\":\"#506784\",\"startlinecolor\":\"#A2B1C6\"},\"baxis\":{\"endlinecolor\":\"#A2B1C6\",\"gridcolor\":\"#506784\",\"linecolor\":\"#506784\",\"minorgridcolor\":\"#506784\",\"startlinecolor\":\"#A2B1C6\"},\"type\":\"carpet\"}],\"table\":[{\"cells\":{\"fill\":{\"color\":\"#506784\"},\"line\":{\"color\":\"rgb(17,17,17)\"}},\"header\":{\"fill\":{\"color\":\"#2a3f5f\"},\"line\":{\"color\":\"rgb(17,17,17)\"}},\"type\":\"table\"}],\"barpolar\":[{\"marker\":{\"line\":{\"color\":\"rgb(17,17,17)\",\"width\":0.5},\"pattern\":{\"fillmode\":\"overlay\",\"size\":10,\"solidity\":0.2}},\"type\":\"barpolar\"}],\"pie\":[{\"automargin\":true,\"type\":\"pie\"}]},\"layout\":{\"autotypenumbers\":\"strict\",\"colorway\":[\"#636efa\",\"#EF553B\",\"#00cc96\",\"#ab63fa\",\"#FFA15A\",\"#19d3f3\",\"#FF6692\",\"#B6E880\",\"#FF97FF\",\"#FECB52\"],\"font\":{\"color\":\"#f2f5fa\"},\"hovermode\":\"closest\",\"hoverlabel\":{\"align\":\"left\"},\"paper_bgcolor\":\"rgb(17,17,17)\",\"plot_bgcolor\":\"rgb(17,17,17)\",\"polar\":{\"bgcolor\":\"rgb(17,17,17)\",\"angularaxis\":{\"gridcolor\":\"#506784\",\"linecolor\":\"#506784\",\"ticks\":\"\"},\"radialaxis\":{\"gridcolor\":\"#506784\",\"linecolor\":\"#506784\",\"ticks\":\"\"}},\"ternary\":{\"bgcolor\":\"rgb(17,17,17)\",\"aaxis\":{\"gridcolor\":\"#506784\",\"linecolor\":\"#506784\",\"ticks\":\"\"},\"baxis\":{\"gridcolor\":\"#506784\",\"linecolor\":\"#506784\",\"ticks\":\"\"},\"caxis\":{\"gridcolor\":\"#506784\",\"linecolor\":\"#506784\",\"ticks\":\"\"}},\"coloraxis\":{\"colorbar\":{\"outlinewidth\":0,\"ticks\":\"\"}},\"colorscale\":{\"sequential\":[[0.0,\"#0d0887\"],[0.1111111111111111,\"#46039f\"],[0.2222222222222222,\"#7201a8\"],[0.3333333333333333,\"#9c179e\"],[0.4444444444444444,\"#bd3786\"],[0.5555555555555556,\"#d8576b\"],[0.6666666666666666,\"#ed7953\"],[0.7777777777777778,\"#fb9f3a\"],[0.8888888888888888,\"#fdca26\"],[1.0,\"#f0f921\"]],\"sequentialminus\":[[0.0,\"#0d0887\"],[0.1111111111111111,\"#46039f\"],[0.2222222222222222,\"#7201a8\"],[0.3333333333333333,\"#9c179e\"],[0.4444444444444444,\"#bd3786\"],[0.5555555555555556,\"#d8576b\"],[0.6666666666666666,\"#ed7953\"],[0.7777777777777778,\"#fb9f3a\"],[0.8888888888888888,\"#fdca26\"],[1.0,\"#f0f921\"]],\"diverging\":[[0,\"#8e0152\"],[0.1,\"#c51b7d\"],[0.2,\"#de77ae\"],[0.3,\"#f1b6da\"],[0.4,\"#fde0ef\"],[0.5,\"#f7f7f7\"],[0.6,\"#e6f5d0\"],[0.7,\"#b8e186\"],[0.8,\"#7fbc41\"],[0.9,\"#4d9221\"],[1,\"#276419\"]]},\"xaxis\":{\"gridcolor\":\"#283442\",\"linecolor\":\"#506784\",\"ticks\":\"\",\"title\":{\"standoff\":15},\"zerolinecolor\":\"#283442\",\"automargin\":true,\"zerolinewidth\":2},\"yaxis\":{\"gridcolor\":\"#283442\",\"linecolor\":\"#506784\",\"ticks\":\"\",\"title\":{\"standoff\":15},\"zerolinecolor\":\"#283442\",\"automargin\":true,\"zerolinewidth\":2},\"scene\":{\"xaxis\":{\"backgroundcolor\":\"rgb(17,17,17)\",\"gridcolor\":\"#506784\",\"linecolor\":\"#506784\",\"showbackground\":true,\"ticks\":\"\",\"zerolinecolor\":\"#C8D4E3\",\"gridwidth\":2},\"yaxis\":{\"backgroundcolor\":\"rgb(17,17,17)\",\"gridcolor\":\"#506784\",\"linecolor\":\"#506784\",\"showbackground\":true,\"ticks\":\"\",\"zerolinecolor\":\"#C8D4E3\",\"gridwidth\":2},\"zaxis\":{\"backgroundcolor\":\"rgb(17,17,17)\",\"gridcolor\":\"#506784\",\"linecolor\":\"#506784\",\"showbackground\":true,\"ticks\":\"\",\"zerolinecolor\":\"#C8D4E3\",\"gridwidth\":2}},\"shapedefaults\":{\"line\":{\"color\":\"#f2f5fa\"}},\"annotationdefaults\":{\"arrowcolor\":\"#f2f5fa\",\"arrowhead\":0,\"arrowwidth\":1},\"geo\":{\"bgcolor\":\"rgb(17,17,17)\",\"landcolor\":\"rgb(17,17,17)\",\"subunitcolor\":\"#506784\",\"showland\":true,\"showlakes\":true,\"lakecolor\":\"rgb(17,17,17)\"},\"title\":{\"x\":0.05},\"updatemenudefaults\":{\"bgcolor\":\"#506784\",\"borderwidth\":0},\"sliderdefaults\":{\"bgcolor\":\"#C8D4E3\",\"borderwidth\":1,\"bordercolor\":\"rgb(17,17,17)\",\"tickwidth\":0},\"mapbox\":{\"style\":\"dark\"}}}},                        {\"responsive\": true}                    ).then(function(){\n                            \nvar gd = document.getElementById('6fb8e733-7105-4256-a6bf-ec0ebab1cf82');\nvar x = new MutationObserver(function (mutations, observer) {{\n        var display = window.getComputedStyle(gd).display;\n        if (!display || display === 'none') {{\n            console.log([gd, 'removed!']);\n            Plotly.purge(gd);\n            observer.disconnect();\n        }}\n}});\n\n// Listen for the removal of the full notebook cells\nvar notebookContainer = gd.closest('#notebook-container');\nif (notebookContainer) {{\n    x.observe(notebookContainer, {childList: true});\n}}\n\n// Listen for the clearing of the current output cell\nvar outputEl = gd.closest('.output');\nif (outputEl) {{\n    x.observe(outputEl, {childList: true});\n}}\n\n                        })                };                });            </script>        </div>"
     },
     "metadata": {},
     "output_type": "display_data"
    }
   ],
   "source": [
    "algs = {'tdvp','scipy'}\n",
    "plots = list()\n",
    "for alg in algs:\n",
    "    df = stats.xs(alg)['expectation approximation ratio'].reindex()\n",
    "    plots.append(go.Scatter(\n",
    "        x=list(range(1, 6)),\n",
    "        y=df['mean'],\n",
    "        name=alg,\n",
    "        # error_y='std',\n",
    "    )\n",
    "    )\n",
    "plot = go.Figure(\n",
    "    data = plots\n",
    ")\n",
    "plot.show()\n"
   ],
   "metadata": {
    "collapsed": false
   }
  },
  {
   "cell_type": "code",
   "execution_count": 5,
   "outputs": [],
   "source": [],
   "metadata": {
    "collapsed": false
   }
  }
 ],
 "metadata": {
  "kernelspec": {
   "display_name": "Python 3",
   "language": "python",
   "name": "python3"
  },
  "language_info": {
   "codemirror_mode": {
    "name": "ipython",
    "version": 2
   },
   "file_extension": ".py",
   "mimetype": "text/x-python",
   "name": "python",
   "nbconvert_exporter": "python",
   "pygments_lexer": "ipython2",
   "version": "2.7.6"
  }
 },
 "nbformat": 4,
 "nbformat_minor": 0
}
