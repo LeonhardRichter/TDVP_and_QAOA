{
 "cells": [
  {
   "cell_type": "code",
   "execution_count": 1,
   "metadata": {
    "collapsed": true
   },
   "outputs": [],
   "source": [
    "import pickle\n",
    "import matplotlib.pyplot as plt\n",
    "import pandas as pd\n",
    "import plotly.express as px\n",
    "import plotly.graph_objects as go\n",
    "from qaoa_and_tdvp import QAOAResult\n",
    "import math\n",
    "from scipy.interpolate import griddata\n",
    "import numpy as np\n",
    "from qaoa_and_tdvp import QAOA"
   ]
  },
  {
   "cell_type": "code",
   "execution_count": 14,
   "metadata": {
    "collapsed": false
   },
   "outputs": [],
   "source": [
    "n=4"
   ]
  },
  {
   "cell_type": "code",
   "execution_count": 6,
   "metadata": {
    "collapsed": false
   },
   "outputs": [
    {
     "data": {
      "text/html": [
       "<div>\n",
       "<style scoped>\n",
       "    .dataframe tbody tr th:only-of-type {\n",
       "        vertical-align: middle;\n",
       "    }\n",
       "\n",
       "    .dataframe tbody tr th {\n",
       "        vertical-align: top;\n",
       "    }\n",
       "\n",
       "    .dataframe thead th {\n",
       "        text-align: right;\n",
       "    }\n",
       "</style>\n",
       "<table border=\"1\" class=\"dataframe\">\n",
       "  <thead>\n",
       "    <tr style=\"text-align: right;\">\n",
       "      <th></th>\n",
       "      <th></th>\n",
       "      <th></th>\n",
       "      <th>instance</th>\n",
       "      <th>tdvp</th>\n",
       "      <th>scipy</th>\n",
       "      <th>gradient_descent</th>\n",
       "    </tr>\n",
       "    <tr>\n",
       "      <th>n</th>\n",
       "      <th>p</th>\n",
       "      <th>i</th>\n",
       "      <th></th>\n",
       "      <th></th>\n",
       "      <th></th>\n",
       "      <th></th>\n",
       "    </tr>\n",
       "  </thead>\n",
       "  <tbody>\n",
       "    <tr>\n",
       "      <th rowspan=\"4\" valign=\"top\">3</th>\n",
       "      <th rowspan=\"2\" valign=\"top\">1</th>\n",
       "      <th>0</th>\n",
       "      <td>&lt;MaxCut.MaxCut object at 0x7f4bbc1a3ee0&gt;</td>\n",
       "      <td>instance                                    &lt;M...</td>\n",
       "      <td>instance                                    &lt;M...</td>\n",
       "      <td>instance                                    &lt;M...</td>\n",
       "    </tr>\n",
       "    <tr>\n",
       "      <th>1</th>\n",
       "      <td>&lt;MaxCut.MaxCut object at 0x7f4b4f4074c0&gt;</td>\n",
       "      <td>instance                                    &lt;M...</td>\n",
       "      <td>instance                                    &lt;M...</td>\n",
       "      <td>instance                                    &lt;M...</td>\n",
       "    </tr>\n",
       "    <tr>\n",
       "      <th rowspan=\"2\" valign=\"top\">2</th>\n",
       "      <th>0</th>\n",
       "      <td>&lt;MaxCut.MaxCut object at 0x7f4bbc1a3ee0&gt;</td>\n",
       "      <td>instance                                    &lt;M...</td>\n",
       "      <td>instance                                    &lt;M...</td>\n",
       "      <td>instance                                    &lt;M...</td>\n",
       "    </tr>\n",
       "    <tr>\n",
       "      <th>1</th>\n",
       "      <td>&lt;MaxCut.MaxCut object at 0x7f4b4f4074c0&gt;</td>\n",
       "      <td>instance                                    &lt;M...</td>\n",
       "      <td>instance                                    &lt;M...</td>\n",
       "      <td>instance                                    &lt;M...</td>\n",
       "    </tr>\n",
       "    <tr>\n",
       "      <th rowspan=\"6\" valign=\"top\">4</th>\n",
       "      <th rowspan=\"6\" valign=\"top\">1</th>\n",
       "      <th>0</th>\n",
       "      <td>&lt;MaxCut.MaxCut object at 0x7f4b4f22bd60&gt;</td>\n",
       "      <td>instance                                    &lt;M...</td>\n",
       "      <td>instance                                    &lt;M...</td>\n",
       "      <td>instance                                    &lt;M...</td>\n",
       "    </tr>\n",
       "    <tr>\n",
       "      <th>1</th>\n",
       "      <td>&lt;MaxCut.MaxCut object at 0x7f4b4f22b9d0&gt;</td>\n",
       "      <td>instance                                    &lt;M...</td>\n",
       "      <td>instance                                    &lt;M...</td>\n",
       "      <td>instance                                    &lt;M...</td>\n",
       "    </tr>\n",
       "    <tr>\n",
       "      <th>2</th>\n",
       "      <td>&lt;MaxCut.MaxCut object at 0x7f4b4f229b70&gt;</td>\n",
       "      <td>instance                                    &lt;M...</td>\n",
       "      <td>instance                                    &lt;M...</td>\n",
       "      <td>instance                                    &lt;M...</td>\n",
       "    </tr>\n",
       "    <tr>\n",
       "      <th>3</th>\n",
       "      <td>&lt;MaxCut.MaxCut object at 0x7f4b4f22b820&gt;</td>\n",
       "      <td>instance                                    &lt;M...</td>\n",
       "      <td>instance                                    &lt;M...</td>\n",
       "      <td>instance                                    &lt;M...</td>\n",
       "    </tr>\n",
       "    <tr>\n",
       "      <th>4</th>\n",
       "      <td>&lt;MaxCut.MaxCut object at 0x7f4b4f2292d0&gt;</td>\n",
       "      <td>instance                                    &lt;M...</td>\n",
       "      <td>instance                                    &lt;M...</td>\n",
       "      <td>instance                                    &lt;M...</td>\n",
       "    </tr>\n",
       "    <tr>\n",
       "      <th>5</th>\n",
       "      <td>&lt;MaxCut.MaxCut object at 0x7f4b4f22b5e0&gt;</td>\n",
       "      <td>instance                                    &lt;M...</td>\n",
       "      <td>instance                                    &lt;M...</td>\n",
       "      <td>instance                                    &lt;M...</td>\n",
       "    </tr>\n",
       "  </tbody>\n",
       "</table>\n",
       "</div>"
      ],
      "text/plain": [
       "                                       instance  \\\n",
       "n p i                                             \n",
       "3 1 0  <MaxCut.MaxCut object at 0x7f4bbc1a3ee0>   \n",
       "    1  <MaxCut.MaxCut object at 0x7f4b4f4074c0>   \n",
       "  2 0  <MaxCut.MaxCut object at 0x7f4bbc1a3ee0>   \n",
       "    1  <MaxCut.MaxCut object at 0x7f4b4f4074c0>   \n",
       "4 1 0  <MaxCut.MaxCut object at 0x7f4b4f22bd60>   \n",
       "    1  <MaxCut.MaxCut object at 0x7f4b4f22b9d0>   \n",
       "    2  <MaxCut.MaxCut object at 0x7f4b4f229b70>   \n",
       "    3  <MaxCut.MaxCut object at 0x7f4b4f22b820>   \n",
       "    4  <MaxCut.MaxCut object at 0x7f4b4f2292d0>   \n",
       "    5  <MaxCut.MaxCut object at 0x7f4b4f22b5e0>   \n",
       "\n",
       "                                                    tdvp  \\\n",
       "n p i                                                      \n",
       "3 1 0  instance                                    <M...   \n",
       "    1  instance                                    <M...   \n",
       "  2 0  instance                                    <M...   \n",
       "    1  instance                                    <M...   \n",
       "4 1 0  instance                                    <M...   \n",
       "    1  instance                                    <M...   \n",
       "    2  instance                                    <M...   \n",
       "    3  instance                                    <M...   \n",
       "    4  instance                                    <M...   \n",
       "    5  instance                                    <M...   \n",
       "\n",
       "                                                   scipy  \\\n",
       "n p i                                                      \n",
       "3 1 0  instance                                    <M...   \n",
       "    1  instance                                    <M...   \n",
       "  2 0  instance                                    <M...   \n",
       "    1  instance                                    <M...   \n",
       "4 1 0  instance                                    <M...   \n",
       "    1  instance                                    <M...   \n",
       "    2  instance                                    <M...   \n",
       "    3  instance                                    <M...   \n",
       "    4  instance                                    <M...   \n",
       "    5  instance                                    <M...   \n",
       "\n",
       "                                        gradient_descent  \n",
       "n p i                                                     \n",
       "3 1 0  instance                                    <M...  \n",
       "    1  instance                                    <M...  \n",
       "  2 0  instance                                    <M...  \n",
       "    1  instance                                    <M...  \n",
       "4 1 0  instance                                    <M...  \n",
       "    1  instance                                    <M...  \n",
       "    2  instance                                    <M...  \n",
       "    3  instance                                    <M...  \n",
       "    4  instance                                    <M...  \n",
       "    5  instance                                    <M...  "
      ]
     },
     "execution_count": 6,
     "metadata": {},
     "output_type": "execute_result"
    }
   ],
   "source": [
    "with open(f'.//results//data.p', 'rb') as file:\n",
    "    data = pickle.load(file)\n",
    "data.head(10)"
   ]
  },
  {
   "cell_type": "code",
   "execution_count": 5,
   "metadata": {
    "collapsed": false
   },
   "outputs": [
    {
     "data": {
      "text/html": [
       "<div>\n",
       "<style scoped>\n",
       "    .dataframe tbody tr th:only-of-type {\n",
       "        vertical-align: middle;\n",
       "    }\n",
       "\n",
       "    .dataframe tbody tr th {\n",
       "        vertical-align: top;\n",
       "    }\n",
       "\n",
       "    .dataframe thead tr th {\n",
       "        text-align: left;\n",
       "    }\n",
       "\n",
       "    .dataframe thead tr:last-of-type th {\n",
       "        text-align: right;\n",
       "    }\n",
       "</style>\n",
       "<table border=\"1\" class=\"dataframe\">\n",
       "  <thead>\n",
       "    <tr>\n",
       "      <th></th>\n",
       "      <th></th>\n",
       "      <th></th>\n",
       "      <th colspan=\"4\" halign=\"left\">expectation approximation ratio</th>\n",
       "      <th colspan=\"4\" halign=\"left\">groundspace overlap</th>\n",
       "      <th colspan=\"2\" halign=\"left\">groundspace sharpness</th>\n",
       "      <th>...</th>\n",
       "      <th colspan=\"2\" halign=\"left\">gate count</th>\n",
       "      <th colspan=\"4\" halign=\"left\">num_fun_calls</th>\n",
       "      <th colspan=\"4\" halign=\"left\">steps</th>\n",
       "    </tr>\n",
       "    <tr>\n",
       "      <th></th>\n",
       "      <th></th>\n",
       "      <th></th>\n",
       "      <th>mean</th>\n",
       "      <th>std</th>\n",
       "      <th>min</th>\n",
       "      <th>max</th>\n",
       "      <th>mean</th>\n",
       "      <th>std</th>\n",
       "      <th>min</th>\n",
       "      <th>max</th>\n",
       "      <th>mean</th>\n",
       "      <th>std</th>\n",
       "      <th>...</th>\n",
       "      <th>min</th>\n",
       "      <th>max</th>\n",
       "      <th>mean</th>\n",
       "      <th>std</th>\n",
       "      <th>min</th>\n",
       "      <th>max</th>\n",
       "      <th>mean</th>\n",
       "      <th>std</th>\n",
       "      <th>min</th>\n",
       "      <th>max</th>\n",
       "    </tr>\n",
       "    <tr>\n",
       "      <th>n</th>\n",
       "      <th>Algorithm</th>\n",
       "      <th>p</th>\n",
       "      <th></th>\n",
       "      <th></th>\n",
       "      <th></th>\n",
       "      <th></th>\n",
       "      <th></th>\n",
       "      <th></th>\n",
       "      <th></th>\n",
       "      <th></th>\n",
       "      <th></th>\n",
       "      <th></th>\n",
       "      <th></th>\n",
       "      <th></th>\n",
       "      <th></th>\n",
       "      <th></th>\n",
       "      <th></th>\n",
       "      <th></th>\n",
       "      <th></th>\n",
       "      <th></th>\n",
       "      <th></th>\n",
       "      <th></th>\n",
       "      <th></th>\n",
       "    </tr>\n",
       "  </thead>\n",
       "  <tbody>\n",
       "    <tr>\n",
       "      <th rowspan=\"6\" valign=\"top\">3</th>\n",
       "      <th rowspan=\"2\" valign=\"top\">tdvp</th>\n",
       "      <th>1</th>\n",
       "      <td>0.911088</td>\n",
       "      <td>0.073714</td>\n",
       "      <td>0.858965</td>\n",
       "      <td>0.963212</td>\n",
       "      <td>0.869012</td>\n",
       "      <td>0.145009</td>\n",
       "      <td>0.766475</td>\n",
       "      <td>0.971549</td>\n",
       "      <td>0.294665</td>\n",
       "      <td>0.181596</td>\n",
       "      <td>...</td>\n",
       "      <td>430170.0</td>\n",
       "      <td>605058.0</td>\n",
       "      <td>59.0</td>\n",
       "      <td>4.242641</td>\n",
       "      <td>56.0</td>\n",
       "      <td>62.0</td>\n",
       "      <td>82.0</td>\n",
       "      <td>7.071068</td>\n",
       "      <td>77.0</td>\n",
       "      <td>87.0</td>\n",
       "    </tr>\n",
       "    <tr>\n",
       "      <th>2</th>\n",
       "      <td>0.93039</td>\n",
       "      <td>0.063845</td>\n",
       "      <td>0.885245</td>\n",
       "      <td>0.975536</td>\n",
       "      <td>0.931829</td>\n",
       "      <td>0.071453</td>\n",
       "      <td>0.881304</td>\n",
       "      <td>0.982354</td>\n",
       "      <td>0.227546</td>\n",
       "      <td>0.135601</td>\n",
       "      <td>...</td>\n",
       "      <td>4053386.0</td>\n",
       "      <td>7181310.0</td>\n",
       "      <td>95.0</td>\n",
       "      <td>29.698485</td>\n",
       "      <td>74.0</td>\n",
       "      <td>116.0</td>\n",
       "      <td>124.0</td>\n",
       "      <td>32.526912</td>\n",
       "      <td>101.0</td>\n",
       "      <td>147.0</td>\n",
       "    </tr>\n",
       "    <tr>\n",
       "      <th rowspan=\"2\" valign=\"top\">scipy</th>\n",
       "      <th>1</th>\n",
       "      <td>0.778976</td>\n",
       "      <td>0.112656</td>\n",
       "      <td>0.699316</td>\n",
       "      <td>0.858635</td>\n",
       "      <td>0.766332</td>\n",
       "      <td>0.006235</td>\n",
       "      <td>0.761923</td>\n",
       "      <td>0.770741</td>\n",
       "      <td>0.423131</td>\n",
       "      <td>0.003925</td>\n",
       "      <td>...</td>\n",
       "      <td>1152.0</td>\n",
       "      <td>1500.0</td>\n",
       "      <td>23.5</td>\n",
       "      <td>0.707107</td>\n",
       "      <td>23.0</td>\n",
       "      <td>24.0</td>\n",
       "      <td>23.5</td>\n",
       "      <td>0.707107</td>\n",
       "      <td>23.0</td>\n",
       "      <td>24.0</td>\n",
       "    </tr>\n",
       "    <tr>\n",
       "      <th>2</th>\n",
       "      <td>0.930466</td>\n",
       "      <td>0.058679</td>\n",
       "      <td>0.888974</td>\n",
       "      <td>0.971958</td>\n",
       "      <td>0.89338</td>\n",
       "      <td>0.117401</td>\n",
       "      <td>0.810365</td>\n",
       "      <td>0.976395</td>\n",
       "      <td>0.271914</td>\n",
       "      <td>0.169845</td>\n",
       "      <td>...</td>\n",
       "      <td>2646.0</td>\n",
       "      <td>3366.0</td>\n",
       "      <td>49.0</td>\n",
       "      <td>1.414214</td>\n",
       "      <td>48.0</td>\n",
       "      <td>50.0</td>\n",
       "      <td>49.0</td>\n",
       "      <td>1.414214</td>\n",
       "      <td>48.0</td>\n",
       "      <td>50.0</td>\n",
       "    </tr>\n",
       "    <tr>\n",
       "      <th rowspan=\"2\" valign=\"top\">gradient_descent</th>\n",
       "      <th>1</th>\n",
       "      <td>0.911161</td>\n",
       "      <td>0.073687</td>\n",
       "      <td>0.859056</td>\n",
       "      <td>0.963266</td>\n",
       "      <td>0.867664</td>\n",
       "      <td>0.14638</td>\n",
       "      <td>0.764157</td>\n",
       "      <td>0.97117</td>\n",
       "      <td>0.295927</td>\n",
       "      <td>0.181864</td>\n",
       "      <td>...</td>\n",
       "      <td>2280.0</td>\n",
       "      <td>2736.0</td>\n",
       "      <td>46.5</td>\n",
       "      <td>13.435029</td>\n",
       "      <td>37.0</td>\n",
       "      <td>56.0</td>\n",
       "      <td>46.5</td>\n",
       "      <td>13.435029</td>\n",
       "      <td>37.0</td>\n",
       "      <td>56.0</td>\n",
       "    </tr>\n",
       "    <tr>\n",
       "      <th>2</th>\n",
       "      <td>0.942691</td>\n",
       "      <td>0.04645</td>\n",
       "      <td>0.909846</td>\n",
       "      <td>0.975536</td>\n",
       "      <td>0.912558</td>\n",
       "      <td>0.098755</td>\n",
       "      <td>0.842728</td>\n",
       "      <td>0.982388</td>\n",
       "      <td>0.247797</td>\n",
       "      <td>0.164417</td>\n",
       "      <td>...</td>\n",
       "      <td>4422.0</td>\n",
       "      <td>58590.0</td>\n",
       "      <td>575.0</td>\n",
       "      <td>719.834703</td>\n",
       "      <td>66.0</td>\n",
       "      <td>1084.0</td>\n",
       "      <td>575.0</td>\n",
       "      <td>719.834703</td>\n",
       "      <td>66.0</td>\n",
       "      <td>1084.0</td>\n",
       "    </tr>\n",
       "    <tr>\n",
       "      <th rowspan=\"4\" valign=\"top\">4</th>\n",
       "      <th rowspan=\"4\" valign=\"top\">tdvp</th>\n",
       "      <th>1</th>\n",
       "      <td>0.555697</td>\n",
       "      <td>0.320149</td>\n",
       "      <td>0.133846</td>\n",
       "      <td>0.963225</td>\n",
       "      <td>0.464344</td>\n",
       "      <td>0.37313</td>\n",
       "      <td>0.019871</td>\n",
       "      <td>0.962394</td>\n",
       "      <td>0.331865</td>\n",
       "      <td>0.164583</td>\n",
       "      <td>...</td>\n",
       "      <td>1069340.0</td>\n",
       "      <td>1938870.0</td>\n",
       "      <td>55.0</td>\n",
       "      <td>7.014271</td>\n",
       "      <td>44.0</td>\n",
       "      <td>62.0</td>\n",
       "      <td>75.666667</td>\n",
       "      <td>7.31209</td>\n",
       "      <td>62.0</td>\n",
       "      <td>82.0</td>\n",
       "    </tr>\n",
       "    <tr>\n",
       "      <th>2</th>\n",
       "      <td>0.914538</td>\n",
       "      <td>0.023949</td>\n",
       "      <td>0.873142</td>\n",
       "      <td>0.947408</td>\n",
       "      <td>0.895209</td>\n",
       "      <td>0.049664</td>\n",
       "      <td>0.831052</td>\n",
       "      <td>0.943499</td>\n",
       "      <td>0.2976</td>\n",
       "      <td>0.06186</td>\n",
       "      <td>...</td>\n",
       "      <td>11019453.333333</td>\n",
       "      <td>125445496.0</td>\n",
       "      <td>194.0</td>\n",
       "      <td>203.399115</td>\n",
       "      <td>56.0</td>\n",
       "      <td>602.0</td>\n",
       "      <td>235.0</td>\n",
       "      <td>232.458168</td>\n",
       "      <td>79.0</td>\n",
       "      <td>701.0</td>\n",
       "    </tr>\n",
       "    <tr>\n",
       "      <th>3</th>\n",
       "      <td>0.926812</td>\n",
       "      <td>0.027653</td>\n",
       "      <td>0.895857</td>\n",
       "      <td>0.966206</td>\n",
       "      <td>0.866436</td>\n",
       "      <td>0.06825</td>\n",
       "      <td>0.795922</td>\n",
       "      <td>0.967577</td>\n",
       "      <td>0.324697</td>\n",
       "      <td>0.090627</td>\n",
       "      <td>...</td>\n",
       "      <td>36654824.0</td>\n",
       "      <td>1293696104.0</td>\n",
       "      <td>548.666667</td>\n",
       "      <td>1003.912081</td>\n",
       "      <td>0.0</td>\n",
       "      <td>2588.0</td>\n",
       "      <td>774.6</td>\n",
       "      <td>1247.291987</td>\n",
       "      <td>85.0</td>\n",
       "      <td>3000.0</td>\n",
       "    </tr>\n",
       "    <tr>\n",
       "      <th>4</th>\n",
       "      <td>0.943432</td>\n",
       "      <td>0.049538</td>\n",
       "      <td>0.869999</td>\n",
       "      <td>0.974706</td>\n",
       "      <td>0.930693</td>\n",
       "      <td>0.062414</td>\n",
       "      <td>0.843536</td>\n",
       "      <td>0.977556</td>\n",
       "      <td>0.232359</td>\n",
       "      <td>0.100608</td>\n",
       "      <td>...</td>\n",
       "      <td>145071472.0</td>\n",
       "      <td>295632128.0</td>\n",
       "      <td>83.333333</td>\n",
       "      <td>71.079298</td>\n",
       "      <td>0.0</td>\n",
       "      <td>182.0</td>\n",
       "      <td>157.0</td>\n",
       "      <td>45.731098</td>\n",
       "      <td>126.0</td>\n",
       "      <td>225.0</td>\n",
       "    </tr>\n",
       "  </tbody>\n",
       "</table>\n",
       "<p>10 rows × 32 columns</p>\n",
       "</div>"
      ],
      "text/plain": [
       "                     expectation approximation ratio                      \\\n",
       "                                                mean       std       min   \n",
       "n Algorithm        p                                                       \n",
       "3 tdvp             1                        0.911088  0.073714  0.858965   \n",
       "                   2                         0.93039  0.063845  0.885245   \n",
       "  scipy            1                        0.778976  0.112656  0.699316   \n",
       "                   2                        0.930466  0.058679  0.888974   \n",
       "  gradient_descent 1                        0.911161  0.073687  0.859056   \n",
       "                   2                        0.942691   0.04645  0.909846   \n",
       "4 tdvp             1                        0.555697  0.320149  0.133846   \n",
       "                   2                        0.914538  0.023949  0.873142   \n",
       "                   3                        0.926812  0.027653  0.895857   \n",
       "                   4                        0.943432  0.049538  0.869999   \n",
       "\n",
       "                               groundspace overlap                      \\\n",
       "                           max                mean       std       min   \n",
       "n Algorithm        p                                                     \n",
       "3 tdvp             1  0.963212            0.869012  0.145009  0.766475   \n",
       "                   2  0.975536            0.931829  0.071453  0.881304   \n",
       "  scipy            1  0.858635            0.766332  0.006235  0.761923   \n",
       "                   2  0.971958             0.89338  0.117401  0.810365   \n",
       "  gradient_descent 1  0.963266            0.867664   0.14638  0.764157   \n",
       "                   2  0.975536            0.912558  0.098755  0.842728   \n",
       "4 tdvp             1  0.963225            0.464344   0.37313  0.019871   \n",
       "                   2  0.947408            0.895209  0.049664  0.831052   \n",
       "                   3  0.966206            0.866436   0.06825  0.795922   \n",
       "                   4  0.974706            0.930693  0.062414  0.843536   \n",
       "\n",
       "                               groundspace sharpness            ...  \\\n",
       "                           max                  mean       std  ...   \n",
       "n Algorithm        p                                            ...   \n",
       "3 tdvp             1  0.971549              0.294665  0.181596  ...   \n",
       "                   2  0.982354              0.227546  0.135601  ...   \n",
       "  scipy            1  0.770741              0.423131  0.003925  ...   \n",
       "                   2  0.976395              0.271914  0.169845  ...   \n",
       "  gradient_descent 1   0.97117              0.295927  0.181864  ...   \n",
       "                   2  0.982388              0.247797  0.164417  ...   \n",
       "4 tdvp             1  0.962394              0.331865  0.164583  ...   \n",
       "                   2  0.943499                0.2976   0.06186  ...   \n",
       "                   3  0.967577              0.324697  0.090627  ...   \n",
       "                   4  0.977556              0.232359  0.100608  ...   \n",
       "\n",
       "                           gate count               num_fun_calls  \\\n",
       "                                  min           max          mean   \n",
       "n Algorithm        p                                                \n",
       "3 tdvp             1         430170.0      605058.0          59.0   \n",
       "                   2        4053386.0     7181310.0          95.0   \n",
       "  scipy            1           1152.0        1500.0          23.5   \n",
       "                   2           2646.0        3366.0          49.0   \n",
       "  gradient_descent 1           2280.0        2736.0          46.5   \n",
       "                   2           4422.0       58590.0         575.0   \n",
       "4 tdvp             1        1069340.0     1938870.0          55.0   \n",
       "                   2  11019453.333333   125445496.0         194.0   \n",
       "                   3       36654824.0  1293696104.0    548.666667   \n",
       "                   4      145071472.0   295632128.0     83.333333   \n",
       "\n",
       "                                                     steps               \\\n",
       "                              std   min     max       mean          std   \n",
       "n Algorithm        p                                                      \n",
       "3 tdvp             1     4.242641  56.0    62.0       82.0     7.071068   \n",
       "                   2    29.698485  74.0   116.0      124.0    32.526912   \n",
       "  scipy            1     0.707107  23.0    24.0       23.5     0.707107   \n",
       "                   2     1.414214  48.0    50.0       49.0     1.414214   \n",
       "  gradient_descent 1    13.435029  37.0    56.0       46.5    13.435029   \n",
       "                   2   719.834703  66.0  1084.0      575.0   719.834703   \n",
       "4 tdvp             1     7.014271  44.0    62.0  75.666667      7.31209   \n",
       "                   2   203.399115  56.0   602.0      235.0   232.458168   \n",
       "                   3  1003.912081   0.0  2588.0      774.6  1247.291987   \n",
       "                   4    71.079298   0.0   182.0      157.0    45.731098   \n",
       "\n",
       "                                     \n",
       "                        min     max  \n",
       "n Algorithm        p                 \n",
       "3 tdvp             1   77.0    87.0  \n",
       "                   2  101.0   147.0  \n",
       "  scipy            1   23.0    24.0  \n",
       "                   2   48.0    50.0  \n",
       "  gradient_descent 1   37.0    56.0  \n",
       "                   2   66.0  1084.0  \n",
       "4 tdvp             1   62.0    82.0  \n",
       "                   2   79.0   701.0  \n",
       "                   3   85.0  3000.0  \n",
       "                   4  126.0   225.0  \n",
       "\n",
       "[10 rows x 32 columns]"
      ]
     },
     "execution_count": 5,
     "metadata": {},
     "output_type": "execute_result"
    }
   ],
   "source": [
    "with open(f'.//results//stats.p', 'rb') as file:\n",
    "    stats = pickle.load(file)\n",
    "stats.head(10)"
   ]
  },
  {
   "cell_type": "code",
   "execution_count": 7,
   "metadata": {
    "collapsed": false
   },
   "outputs": [
    {
     "data": {
      "text/html": [
       "<div>\n",
       "<style scoped>\n",
       "    .dataframe tbody tr th:only-of-type {\n",
       "        vertical-align: middle;\n",
       "    }\n",
       "\n",
       "    .dataframe tbody tr th {\n",
       "        vertical-align: top;\n",
       "    }\n",
       "\n",
       "    .dataframe thead th {\n",
       "        text-align: right;\n",
       "    }\n",
       "</style>\n",
       "<table border=\"1\" class=\"dataframe\">\n",
       "  <thead>\n",
       "    <tr style=\"text-align: right;\">\n",
       "      <th></th>\n",
       "      <th>n</th>\n",
       "      <th>Algorithm</th>\n",
       "      <th>p</th>\n",
       "      <th>mean</th>\n",
       "      <th>std</th>\n",
       "      <th>min</th>\n",
       "      <th>max</th>\n",
       "    </tr>\n",
       "  </thead>\n",
       "  <tbody>\n",
       "    <tr>\n",
       "      <th>0</th>\n",
       "      <td>3</td>\n",
       "      <td>tdvp</td>\n",
       "      <td>1</td>\n",
       "      <td>0.911088</td>\n",
       "      <td>0.073714</td>\n",
       "      <td>0.858965</td>\n",
       "      <td>0.963212</td>\n",
       "    </tr>\n",
       "    <tr>\n",
       "      <th>1</th>\n",
       "      <td>3</td>\n",
       "      <td>tdvp</td>\n",
       "      <td>2</td>\n",
       "      <td>0.93039</td>\n",
       "      <td>0.063845</td>\n",
       "      <td>0.885245</td>\n",
       "      <td>0.975536</td>\n",
       "    </tr>\n",
       "    <tr>\n",
       "      <th>2</th>\n",
       "      <td>3</td>\n",
       "      <td>scipy</td>\n",
       "      <td>1</td>\n",
       "      <td>0.778976</td>\n",
       "      <td>0.112656</td>\n",
       "      <td>0.699316</td>\n",
       "      <td>0.858635</td>\n",
       "    </tr>\n",
       "    <tr>\n",
       "      <th>3</th>\n",
       "      <td>3</td>\n",
       "      <td>scipy</td>\n",
       "      <td>2</td>\n",
       "      <td>0.930466</td>\n",
       "      <td>0.058679</td>\n",
       "      <td>0.888974</td>\n",
       "      <td>0.971958</td>\n",
       "    </tr>\n",
       "    <tr>\n",
       "      <th>4</th>\n",
       "      <td>3</td>\n",
       "      <td>gradient_descent</td>\n",
       "      <td>1</td>\n",
       "      <td>0.911161</td>\n",
       "      <td>0.073687</td>\n",
       "      <td>0.859056</td>\n",
       "      <td>0.963266</td>\n",
       "    </tr>\n",
       "    <tr>\n",
       "      <th>5</th>\n",
       "      <td>3</td>\n",
       "      <td>gradient_descent</td>\n",
       "      <td>2</td>\n",
       "      <td>0.942691</td>\n",
       "      <td>0.04645</td>\n",
       "      <td>0.909846</td>\n",
       "      <td>0.975536</td>\n",
       "    </tr>\n",
       "    <tr>\n",
       "      <th>6</th>\n",
       "      <td>4</td>\n",
       "      <td>tdvp</td>\n",
       "      <td>1</td>\n",
       "      <td>0.555697</td>\n",
       "      <td>0.320149</td>\n",
       "      <td>0.133846</td>\n",
       "      <td>0.963225</td>\n",
       "    </tr>\n",
       "    <tr>\n",
       "      <th>7</th>\n",
       "      <td>4</td>\n",
       "      <td>tdvp</td>\n",
       "      <td>2</td>\n",
       "      <td>0.914538</td>\n",
       "      <td>0.023949</td>\n",
       "      <td>0.873142</td>\n",
       "      <td>0.947408</td>\n",
       "    </tr>\n",
       "    <tr>\n",
       "      <th>8</th>\n",
       "      <td>4</td>\n",
       "      <td>tdvp</td>\n",
       "      <td>3</td>\n",
       "      <td>0.926812</td>\n",
       "      <td>0.027653</td>\n",
       "      <td>0.895857</td>\n",
       "      <td>0.966206</td>\n",
       "    </tr>\n",
       "    <tr>\n",
       "      <th>9</th>\n",
       "      <td>4</td>\n",
       "      <td>tdvp</td>\n",
       "      <td>4</td>\n",
       "      <td>0.943432</td>\n",
       "      <td>0.049538</td>\n",
       "      <td>0.869999</td>\n",
       "      <td>0.974706</td>\n",
       "    </tr>\n",
       "    <tr>\n",
       "      <th>10</th>\n",
       "      <td>4</td>\n",
       "      <td>tdvp</td>\n",
       "      <td>5</td>\n",
       "      <td>0.969683</td>\n",
       "      <td>0.032257</td>\n",
       "      <td>0.935768</td>\n",
       "      <td>0.999978</td>\n",
       "    </tr>\n",
       "    <tr>\n",
       "      <th>11</th>\n",
       "      <td>4</td>\n",
       "      <td>scipy</td>\n",
       "      <td>1</td>\n",
       "      <td>0.578786</td>\n",
       "      <td>0.215603</td>\n",
       "      <td>0.32276</td>\n",
       "      <td>0.79544</td>\n",
       "    </tr>\n",
       "    <tr>\n",
       "      <th>12</th>\n",
       "      <td>4</td>\n",
       "      <td>scipy</td>\n",
       "      <td>2</td>\n",
       "      <td>0.850797</td>\n",
       "      <td>0.141596</td>\n",
       "      <td>0.56292</td>\n",
       "      <td>0.91854</td>\n",
       "    </tr>\n",
       "    <tr>\n",
       "      <th>13</th>\n",
       "      <td>4</td>\n",
       "      <td>scipy</td>\n",
       "      <td>3</td>\n",
       "      <td>0.880351</td>\n",
       "      <td>0.07396</td>\n",
       "      <td>0.760516</td>\n",
       "      <td>0.973016</td>\n",
       "    </tr>\n",
       "    <tr>\n",
       "      <th>14</th>\n",
       "      <td>4</td>\n",
       "      <td>scipy</td>\n",
       "      <td>4</td>\n",
       "      <td>0.832498</td>\n",
       "      <td>0.142717</td>\n",
       "      <td>0.62381</td>\n",
       "      <td>0.981445</td>\n",
       "    </tr>\n",
       "    <tr>\n",
       "      <th>15</th>\n",
       "      <td>4</td>\n",
       "      <td>scipy</td>\n",
       "      <td>5</td>\n",
       "      <td>0.941948</td>\n",
       "      <td>0.074239</td>\n",
       "      <td>0.821507</td>\n",
       "      <td>0.995812</td>\n",
       "    </tr>\n",
       "    <tr>\n",
       "      <th>16</th>\n",
       "      <td>4</td>\n",
       "      <td>gradient_descent</td>\n",
       "      <td>1</td>\n",
       "      <td>0.515058</td>\n",
       "      <td>0.413939</td>\n",
       "      <td>0.067843</td>\n",
       "      <td>0.963282</td>\n",
       "    </tr>\n",
       "    <tr>\n",
       "      <th>17</th>\n",
       "      <td>4</td>\n",
       "      <td>gradient_descent</td>\n",
       "      <td>2</td>\n",
       "      <td>0.91065</td>\n",
       "      <td>0.025242</td>\n",
       "      <td>0.874111</td>\n",
       "      <td>0.931966</td>\n",
       "    </tr>\n",
       "    <tr>\n",
       "      <th>18</th>\n",
       "      <td>4</td>\n",
       "      <td>gradient_descent</td>\n",
       "      <td>3</td>\n",
       "      <td>NaN</td>\n",
       "      <td>NaN</td>\n",
       "      <td>NaN</td>\n",
       "      <td>NaN</td>\n",
       "    </tr>\n",
       "    <tr>\n",
       "      <th>19</th>\n",
       "      <td>4</td>\n",
       "      <td>gradient_descent</td>\n",
       "      <td>4</td>\n",
       "      <td>NaN</td>\n",
       "      <td>NaN</td>\n",
       "      <td>NaN</td>\n",
       "      <td>NaN</td>\n",
       "    </tr>\n",
       "    <tr>\n",
       "      <th>20</th>\n",
       "      <td>4</td>\n",
       "      <td>gradient_descent</td>\n",
       "      <td>5</td>\n",
       "      <td>NaN</td>\n",
       "      <td>NaN</td>\n",
       "      <td>NaN</td>\n",
       "      <td>NaN</td>\n",
       "    </tr>\n",
       "    <tr>\n",
       "      <th>21</th>\n",
       "      <td>5</td>\n",
       "      <td>tdvp</td>\n",
       "      <td>1</td>\n",
       "      <td>0.368847</td>\n",
       "      <td>0.280092</td>\n",
       "      <td>-0.001885</td>\n",
       "      <td>0.963219</td>\n",
       "    </tr>\n",
       "    <tr>\n",
       "      <th>22</th>\n",
       "      <td>5</td>\n",
       "      <td>tdvp</td>\n",
       "      <td>2</td>\n",
       "      <td>0.84504</td>\n",
       "      <td>0.163872</td>\n",
       "      <td>0.513454</td>\n",
       "      <td>0.968678</td>\n",
       "    </tr>\n",
       "    <tr>\n",
       "      <th>23</th>\n",
       "      <td>5</td>\n",
       "      <td>tdvp</td>\n",
       "      <td>3</td>\n",
       "      <td>0.879854</td>\n",
       "      <td>0.119161</td>\n",
       "      <td>0.667211</td>\n",
       "      <td>0.964064</td>\n",
       "    </tr>\n",
       "    <tr>\n",
       "      <th>24</th>\n",
       "      <td>5</td>\n",
       "      <td>tdvp</td>\n",
       "      <td>4</td>\n",
       "      <td>0.78599</td>\n",
       "      <td>0.095736</td>\n",
       "      <td>0.678714</td>\n",
       "      <td>0.926475</td>\n",
       "    </tr>\n",
       "    <tr>\n",
       "      <th>25</th>\n",
       "      <td>5</td>\n",
       "      <td>scipy</td>\n",
       "      <td>1</td>\n",
       "      <td>0.502557</td>\n",
       "      <td>0.245925</td>\n",
       "      <td>0.096577</td>\n",
       "      <td>0.816111</td>\n",
       "    </tr>\n",
       "    <tr>\n",
       "      <th>26</th>\n",
       "      <td>5</td>\n",
       "      <td>scipy</td>\n",
       "      <td>2</td>\n",
       "      <td>0.606018</td>\n",
       "      <td>0.267695</td>\n",
       "      <td>0.200558</td>\n",
       "      <td>0.950898</td>\n",
       "    </tr>\n",
       "    <tr>\n",
       "      <th>27</th>\n",
       "      <td>5</td>\n",
       "      <td>scipy</td>\n",
       "      <td>3</td>\n",
       "      <td>0.730393</td>\n",
       "      <td>0.186023</td>\n",
       "      <td>0.493616</td>\n",
       "      <td>0.97584</td>\n",
       "    </tr>\n",
       "    <tr>\n",
       "      <th>28</th>\n",
       "      <td>5</td>\n",
       "      <td>scipy</td>\n",
       "      <td>4</td>\n",
       "      <td>0.787536</td>\n",
       "      <td>0.13729</td>\n",
       "      <td>0.588533</td>\n",
       "      <td>0.976138</td>\n",
       "    </tr>\n",
       "    <tr>\n",
       "      <th>29</th>\n",
       "      <td>5</td>\n",
       "      <td>gradient_descent</td>\n",
       "      <td>1</td>\n",
       "      <td>0.254755</td>\n",
       "      <td>0.301218</td>\n",
       "      <td>-0.00173</td>\n",
       "      <td>0.963282</td>\n",
       "    </tr>\n",
       "    <tr>\n",
       "      <th>30</th>\n",
       "      <td>5</td>\n",
       "      <td>gradient_descent</td>\n",
       "      <td>2</td>\n",
       "      <td>0.701179</td>\n",
       "      <td>0.265325</td>\n",
       "      <td>0.513566</td>\n",
       "      <td>0.888792</td>\n",
       "    </tr>\n",
       "    <tr>\n",
       "      <th>31</th>\n",
       "      <td>5</td>\n",
       "      <td>gradient_descent</td>\n",
       "      <td>3</td>\n",
       "      <td>NaN</td>\n",
       "      <td>NaN</td>\n",
       "      <td>NaN</td>\n",
       "      <td>NaN</td>\n",
       "    </tr>\n",
       "    <tr>\n",
       "      <th>32</th>\n",
       "      <td>5</td>\n",
       "      <td>gradient_descent</td>\n",
       "      <td>4</td>\n",
       "      <td>NaN</td>\n",
       "      <td>NaN</td>\n",
       "      <td>NaN</td>\n",
       "      <td>NaN</td>\n",
       "    </tr>\n",
       "  </tbody>\n",
       "</table>\n",
       "</div>"
      ],
      "text/plain": [
       "    n         Algorithm  p      mean       std       min       max\n",
       "0   3              tdvp  1  0.911088  0.073714  0.858965  0.963212\n",
       "1   3              tdvp  2   0.93039  0.063845  0.885245  0.975536\n",
       "2   3             scipy  1  0.778976  0.112656  0.699316  0.858635\n",
       "3   3             scipy  2  0.930466  0.058679  0.888974  0.971958\n",
       "4   3  gradient_descent  1  0.911161  0.073687  0.859056  0.963266\n",
       "5   3  gradient_descent  2  0.942691   0.04645  0.909846  0.975536\n",
       "6   4              tdvp  1  0.555697  0.320149  0.133846  0.963225\n",
       "7   4              tdvp  2  0.914538  0.023949  0.873142  0.947408\n",
       "8   4              tdvp  3  0.926812  0.027653  0.895857  0.966206\n",
       "9   4              tdvp  4  0.943432  0.049538  0.869999  0.974706\n",
       "10  4              tdvp  5  0.969683  0.032257  0.935768  0.999978\n",
       "11  4             scipy  1  0.578786  0.215603   0.32276   0.79544\n",
       "12  4             scipy  2  0.850797  0.141596   0.56292   0.91854\n",
       "13  4             scipy  3  0.880351   0.07396  0.760516  0.973016\n",
       "14  4             scipy  4  0.832498  0.142717   0.62381  0.981445\n",
       "15  4             scipy  5  0.941948  0.074239  0.821507  0.995812\n",
       "16  4  gradient_descent  1  0.515058  0.413939  0.067843  0.963282\n",
       "17  4  gradient_descent  2   0.91065  0.025242  0.874111  0.931966\n",
       "18  4  gradient_descent  3       NaN       NaN       NaN       NaN\n",
       "19  4  gradient_descent  4       NaN       NaN       NaN       NaN\n",
       "20  4  gradient_descent  5       NaN       NaN       NaN       NaN\n",
       "21  5              tdvp  1  0.368847  0.280092 -0.001885  0.963219\n",
       "22  5              tdvp  2   0.84504  0.163872  0.513454  0.968678\n",
       "23  5              tdvp  3  0.879854  0.119161  0.667211  0.964064\n",
       "24  5              tdvp  4   0.78599  0.095736  0.678714  0.926475\n",
       "25  5             scipy  1  0.502557  0.245925  0.096577  0.816111\n",
       "26  5             scipy  2  0.606018  0.267695  0.200558  0.950898\n",
       "27  5             scipy  3  0.730393  0.186023  0.493616   0.97584\n",
       "28  5             scipy  4  0.787536   0.13729  0.588533  0.976138\n",
       "29  5  gradient_descent  1  0.254755  0.301218  -0.00173  0.963282\n",
       "30  5  gradient_descent  2  0.701179  0.265325  0.513566  0.888792\n",
       "31  5  gradient_descent  3       NaN       NaN       NaN       NaN\n",
       "32  5  gradient_descent  4       NaN       NaN       NaN       NaN"
      ]
     },
     "execution_count": 7,
     "metadata": {},
     "output_type": "execute_result"
    }
   ],
   "source": [
    "stats['expectation approximation ratio'].reset_index()"
   ]
  },
  {
   "cell_type": "code",
   "execution_count": 8,
   "metadata": {},
   "outputs": [],
   "source": [
    "def algo_num(algo:str)->int:\n",
    "    assert algo in {'tdvp','scipy','gradient_descent'}\n",
    "    if algo=='tdvp':\n",
    "        return 1\n",
    "    elif algo=='scipy':\n",
    "        return 0\n",
    "    elif algo=='gradient_descent':\n",
    "        return -1"
   ]
  },
  {
   "cell_type": "code",
   "execution_count": 9,
   "metadata": {},
   "outputs": [],
   "source": [
    "BA_template = dict(\n",
    "    layout=go.Layout(\n",
    "    template='plotly_white',\n",
    "    yaxis=dict(\n",
    "        linewidth = 1,\n",
    "        linecolor = 'black',\n",
    "        gridcolor = 'lightgrey',\n",
    "        zerolinecolor = 'black',\n",
    "\n",
    "    ),\n",
    "    xaxis = dict(\n",
    "        tickmode = 'linear',\n",
    "        tick0 = 1,\n",
    "        dtick = 1,        \n",
    "        range=[-.5,5],\n",
    "        autorange=True,\n",
    "        # type='category',\n",
    "        linewidth = 1,\n",
    "        linecolor = 'black',\n",
    "        gridcolor = 'lightgrey',\n",
    "        # zerolinecolor = 'black',\n",
    "\n",
    "    ),\n",
    "    font=dict(\n",
    "        family='Computer Modern',\n",
    "        size=11,\n",
    "    ),\n",
    "    legend=dict(\n",
    "        yanchor=\"bottom\",\n",
    "        y=0.01,\n",
    "        xanchor=\"right\",\n",
    "        x=.99,\n",
    "        \n",
    "    ),\n",
    "    # paper_bgcolor='rgba(0,0,0,0)',   # transparent background\n",
    "    plot_bgcolor='rgba(0,0,0,0)',)\n",
    ")"
   ]
  },
  {
   "cell_type": "code",
   "execution_count": 15,
   "metadata": {},
   "outputs": [
    {
     "data": {
      "text/html": [
       "<div>\n",
       "<style scoped>\n",
       "    .dataframe tbody tr th:only-of-type {\n",
       "        vertical-align: middle;\n",
       "    }\n",
       "\n",
       "    .dataframe tbody tr th {\n",
       "        vertical-align: top;\n",
       "    }\n",
       "\n",
       "    .dataframe thead tr th {\n",
       "        text-align: left;\n",
       "    }\n",
       "\n",
       "    .dataframe thead tr:last-of-type th {\n",
       "        text-align: right;\n",
       "    }\n",
       "</style>\n",
       "<table border=\"1\" class=\"dataframe\">\n",
       "  <thead>\n",
       "    <tr>\n",
       "      <th></th>\n",
       "      <th></th>\n",
       "      <th colspan=\"4\" halign=\"left\">expectation approximation ratio</th>\n",
       "      <th colspan=\"4\" halign=\"left\">groundspace overlap</th>\n",
       "      <th colspan=\"2\" halign=\"left\">groundspace sharpness</th>\n",
       "      <th>...</th>\n",
       "      <th colspan=\"2\" halign=\"left\">gate count</th>\n",
       "      <th colspan=\"4\" halign=\"left\">num_fun_calls</th>\n",
       "      <th colspan=\"4\" halign=\"left\">steps</th>\n",
       "    </tr>\n",
       "    <tr>\n",
       "      <th></th>\n",
       "      <th></th>\n",
       "      <th>mean</th>\n",
       "      <th>std</th>\n",
       "      <th>min</th>\n",
       "      <th>max</th>\n",
       "      <th>mean</th>\n",
       "      <th>std</th>\n",
       "      <th>min</th>\n",
       "      <th>max</th>\n",
       "      <th>mean</th>\n",
       "      <th>std</th>\n",
       "      <th>...</th>\n",
       "      <th>min</th>\n",
       "      <th>max</th>\n",
       "      <th>mean</th>\n",
       "      <th>std</th>\n",
       "      <th>min</th>\n",
       "      <th>max</th>\n",
       "      <th>mean</th>\n",
       "      <th>std</th>\n",
       "      <th>min</th>\n",
       "      <th>max</th>\n",
       "    </tr>\n",
       "    <tr>\n",
       "      <th>Algorithm</th>\n",
       "      <th>p</th>\n",
       "      <th></th>\n",
       "      <th></th>\n",
       "      <th></th>\n",
       "      <th></th>\n",
       "      <th></th>\n",
       "      <th></th>\n",
       "      <th></th>\n",
       "      <th></th>\n",
       "      <th></th>\n",
       "      <th></th>\n",
       "      <th></th>\n",
       "      <th></th>\n",
       "      <th></th>\n",
       "      <th></th>\n",
       "      <th></th>\n",
       "      <th></th>\n",
       "      <th></th>\n",
       "      <th></th>\n",
       "      <th></th>\n",
       "      <th></th>\n",
       "      <th></th>\n",
       "    </tr>\n",
       "  </thead>\n",
       "  <tbody>\n",
       "    <tr>\n",
       "      <th rowspan=\"5\" valign=\"top\">tdvp</th>\n",
       "      <th>1</th>\n",
       "      <td>0.555697</td>\n",
       "      <td>0.320149</td>\n",
       "      <td>0.133846</td>\n",
       "      <td>0.963225</td>\n",
       "      <td>0.464344</td>\n",
       "      <td>0.37313</td>\n",
       "      <td>0.019871</td>\n",
       "      <td>0.962394</td>\n",
       "      <td>0.331865</td>\n",
       "      <td>0.164583</td>\n",
       "      <td>...</td>\n",
       "      <td>1069340.0</td>\n",
       "      <td>1938870.0</td>\n",
       "      <td>55.0</td>\n",
       "      <td>7.014271</td>\n",
       "      <td>44.0</td>\n",
       "      <td>62.0</td>\n",
       "      <td>75.666667</td>\n",
       "      <td>7.31209</td>\n",
       "      <td>62.0</td>\n",
       "      <td>82.0</td>\n",
       "    </tr>\n",
       "    <tr>\n",
       "      <th>2</th>\n",
       "      <td>0.914538</td>\n",
       "      <td>0.023949</td>\n",
       "      <td>0.873142</td>\n",
       "      <td>0.947408</td>\n",
       "      <td>0.895209</td>\n",
       "      <td>0.049664</td>\n",
       "      <td>0.831052</td>\n",
       "      <td>0.943499</td>\n",
       "      <td>0.2976</td>\n",
       "      <td>0.06186</td>\n",
       "      <td>...</td>\n",
       "      <td>11019453.333333</td>\n",
       "      <td>125445496.0</td>\n",
       "      <td>194.0</td>\n",
       "      <td>203.399115</td>\n",
       "      <td>56.0</td>\n",
       "      <td>602.0</td>\n",
       "      <td>235.0</td>\n",
       "      <td>232.458168</td>\n",
       "      <td>79.0</td>\n",
       "      <td>701.0</td>\n",
       "    </tr>\n",
       "    <tr>\n",
       "      <th>3</th>\n",
       "      <td>0.926812</td>\n",
       "      <td>0.027653</td>\n",
       "      <td>0.895857</td>\n",
       "      <td>0.966206</td>\n",
       "      <td>0.866436</td>\n",
       "      <td>0.06825</td>\n",
       "      <td>0.795922</td>\n",
       "      <td>0.967577</td>\n",
       "      <td>0.324697</td>\n",
       "      <td>0.090627</td>\n",
       "      <td>...</td>\n",
       "      <td>36654824.0</td>\n",
       "      <td>1293696104.0</td>\n",
       "      <td>548.666667</td>\n",
       "      <td>1003.912081</td>\n",
       "      <td>0.0</td>\n",
       "      <td>2588.0</td>\n",
       "      <td>774.6</td>\n",
       "      <td>1247.291987</td>\n",
       "      <td>85.0</td>\n",
       "      <td>3000.0</td>\n",
       "    </tr>\n",
       "    <tr>\n",
       "      <th>4</th>\n",
       "      <td>0.943432</td>\n",
       "      <td>0.049538</td>\n",
       "      <td>0.869999</td>\n",
       "      <td>0.974706</td>\n",
       "      <td>0.930693</td>\n",
       "      <td>0.062414</td>\n",
       "      <td>0.843536</td>\n",
       "      <td>0.977556</td>\n",
       "      <td>0.232359</td>\n",
       "      <td>0.100608</td>\n",
       "      <td>...</td>\n",
       "      <td>145071472.0</td>\n",
       "      <td>295632128.0</td>\n",
       "      <td>83.333333</td>\n",
       "      <td>71.079298</td>\n",
       "      <td>0.0</td>\n",
       "      <td>182.0</td>\n",
       "      <td>157.0</td>\n",
       "      <td>45.731098</td>\n",
       "      <td>126.0</td>\n",
       "      <td>225.0</td>\n",
       "    </tr>\n",
       "    <tr>\n",
       "      <th>5</th>\n",
       "      <td>0.969683</td>\n",
       "      <td>0.032257</td>\n",
       "      <td>0.935768</td>\n",
       "      <td>0.999978</td>\n",
       "      <td>0.960623</td>\n",
       "      <td>0.048394</td>\n",
       "      <td>0.906591</td>\n",
       "      <td>0.999983</td>\n",
       "      <td>0.150136</td>\n",
       "      <td>0.143481</td>\n",
       "      <td>...</td>\n",
       "      <td>520958752.666667</td>\n",
       "      <td>4559180970.000001</td>\n",
       "      <td>370.0</td>\n",
       "      <td>621.564478</td>\n",
       "      <td>0.0</td>\n",
       "      <td>1574.0</td>\n",
       "      <td>850.0</td>\n",
       "      <td>826.339519</td>\n",
       "      <td>179.0</td>\n",
       "      <td>1773.0</td>\n",
       "    </tr>\n",
       "    <tr>\n",
       "      <th rowspan=\"5\" valign=\"top\">scipy</th>\n",
       "      <th>1</th>\n",
       "      <td>0.578786</td>\n",
       "      <td>0.215603</td>\n",
       "      <td>0.32276</td>\n",
       "      <td>0.79544</td>\n",
       "      <td>0.385312</td>\n",
       "      <td>0.334051</td>\n",
       "      <td>0.01563</td>\n",
       "      <td>0.792068</td>\n",
       "      <td>0.346479</td>\n",
       "      <td>0.169024</td>\n",
       "      <td>...</td>\n",
       "      <td>1848.0</td>\n",
       "      <td>3808.0</td>\n",
       "      <td>22.5</td>\n",
       "      <td>3.619392</td>\n",
       "      <td>19.0</td>\n",
       "      <td>27.0</td>\n",
       "      <td>22.5</td>\n",
       "      <td>3.619392</td>\n",
       "      <td>19.0</td>\n",
       "      <td>27.0</td>\n",
       "    </tr>\n",
       "    <tr>\n",
       "      <th>2</th>\n",
       "      <td>0.850797</td>\n",
       "      <td>0.141596</td>\n",
       "      <td>0.56292</td>\n",
       "      <td>0.91854</td>\n",
       "      <td>0.786808</td>\n",
       "      <td>0.231791</td>\n",
       "      <td>0.335994</td>\n",
       "      <td>0.946846</td>\n",
       "      <td>0.33892</td>\n",
       "      <td>0.098601</td>\n",
       "      <td>...</td>\n",
       "      <td>4608.0</td>\n",
       "      <td>13104.0</td>\n",
       "      <td>74.666667</td>\n",
       "      <td>33.152174</td>\n",
       "      <td>35.0</td>\n",
       "      <td>116.0</td>\n",
       "      <td>74.666667</td>\n",
       "      <td>33.152174</td>\n",
       "      <td>35.0</td>\n",
       "      <td>116.0</td>\n",
       "    </tr>\n",
       "    <tr>\n",
       "      <th>3</th>\n",
       "      <td>0.880351</td>\n",
       "      <td>0.07396</td>\n",
       "      <td>0.760516</td>\n",
       "      <td>0.973016</td>\n",
       "      <td>0.816939</td>\n",
       "      <td>0.087629</td>\n",
       "      <td>0.752143</td>\n",
       "      <td>0.968308</td>\n",
       "      <td>0.366746</td>\n",
       "      <td>0.101873</td>\n",
       "      <td>...</td>\n",
       "      <td>5824.0</td>\n",
       "      <td>18512.0</td>\n",
       "      <td>96.0</td>\n",
       "      <td>52.664979</td>\n",
       "      <td>54.0</td>\n",
       "      <td>177.0</td>\n",
       "      <td>96.0</td>\n",
       "      <td>52.664979</td>\n",
       "      <td>54.0</td>\n",
       "      <td>177.0</td>\n",
       "    </tr>\n",
       "    <tr>\n",
       "      <th>4</th>\n",
       "      <td>0.832498</td>\n",
       "      <td>0.142717</td>\n",
       "      <td>0.62381</td>\n",
       "      <td>0.981445</td>\n",
       "      <td>0.681178</td>\n",
       "      <td>0.360276</td>\n",
       "      <td>0.043834</td>\n",
       "      <td>0.98062</td>\n",
       "      <td>0.308058</td>\n",
       "      <td>0.130118</td>\n",
       "      <td>...</td>\n",
       "      <td>11088.0</td>\n",
       "      <td>17792.0</td>\n",
       "      <td>102.166667</td>\n",
       "      <td>23.25009</td>\n",
       "      <td>79.0</td>\n",
       "      <td>138.0</td>\n",
       "      <td>102.166667</td>\n",
       "      <td>23.25009</td>\n",
       "      <td>79.0</td>\n",
       "      <td>138.0</td>\n",
       "    </tr>\n",
       "    <tr>\n",
       "      <th>5</th>\n",
       "      <td>0.941948</td>\n",
       "      <td>0.074239</td>\n",
       "      <td>0.821507</td>\n",
       "      <td>0.995812</td>\n",
       "      <td>0.910507</td>\n",
       "      <td>0.117591</td>\n",
       "      <td>0.735778</td>\n",
       "      <td>0.99674</td>\n",
       "      <td>0.214588</td>\n",
       "      <td>0.169398</td>\n",
       "      <td>...</td>\n",
       "      <td>13944.0</td>\n",
       "      <td>40320.0</td>\n",
       "      <td>156.833333</td>\n",
       "      <td>91.750568</td>\n",
       "      <td>82.0</td>\n",
       "      <td>335.0</td>\n",
       "      <td>156.833333</td>\n",
       "      <td>91.750568</td>\n",
       "      <td>82.0</td>\n",
       "      <td>335.0</td>\n",
       "    </tr>\n",
       "    <tr>\n",
       "      <th rowspan=\"5\" valign=\"top\">gradient_descent</th>\n",
       "      <th>1</th>\n",
       "      <td>0.515058</td>\n",
       "      <td>0.413939</td>\n",
       "      <td>0.067843</td>\n",
       "      <td>0.963282</td>\n",
       "      <td>0.456997</td>\n",
       "      <td>0.394647</td>\n",
       "      <td>0.051365</td>\n",
       "      <td>0.96185</td>\n",
       "      <td>0.329895</td>\n",
       "      <td>0.135659</td>\n",
       "      <td>...</td>\n",
       "      <td>3120.0</td>\n",
       "      <td>16848.0</td>\n",
       "      <td>562.166667</td>\n",
       "      <td>1195.262551</td>\n",
       "      <td>29.0</td>\n",
       "      <td>3000.0</td>\n",
       "      <td>562.166667</td>\n",
       "      <td>1195.262551</td>\n",
       "      <td>29.0</td>\n",
       "      <td>3000.0</td>\n",
       "    </tr>\n",
       "    <tr>\n",
       "      <th>2</th>\n",
       "      <td>0.91065</td>\n",
       "      <td>0.025242</td>\n",
       "      <td>0.874111</td>\n",
       "      <td>0.931966</td>\n",
       "      <td>0.864552</td>\n",
       "      <td>0.060204</td>\n",
       "      <td>0.797145</td>\n",
       "      <td>0.930363</td>\n",
       "      <td>0.333246</td>\n",
       "      <td>0.066633</td>\n",
       "      <td>...</td>\n",
       "      <td>4144.0</td>\n",
       "      <td>41888.0</td>\n",
       "      <td>1123.333333</td>\n",
       "      <td>1457.722836</td>\n",
       "      <td>36.0</td>\n",
       "      <td>3000.0</td>\n",
       "      <td>1123.333333</td>\n",
       "      <td>1457.722836</td>\n",
       "      <td>36.0</td>\n",
       "      <td>3000.0</td>\n",
       "    </tr>\n",
       "    <tr>\n",
       "      <th>3</th>\n",
       "      <td>NaN</td>\n",
       "      <td>NaN</td>\n",
       "      <td>NaN</td>\n",
       "      <td>NaN</td>\n",
       "      <td>NaN</td>\n",
       "      <td>NaN</td>\n",
       "      <td>NaN</td>\n",
       "      <td>NaN</td>\n",
       "      <td>NaN</td>\n",
       "      <td>NaN</td>\n",
       "      <td>...</td>\n",
       "      <td>NaN</td>\n",
       "      <td>NaN</td>\n",
       "      <td>NaN</td>\n",
       "      <td>NaN</td>\n",
       "      <td>NaN</td>\n",
       "      <td>NaN</td>\n",
       "      <td>NaN</td>\n",
       "      <td>NaN</td>\n",
       "      <td>NaN</td>\n",
       "      <td>NaN</td>\n",
       "    </tr>\n",
       "    <tr>\n",
       "      <th>4</th>\n",
       "      <td>NaN</td>\n",
       "      <td>NaN</td>\n",
       "      <td>NaN</td>\n",
       "      <td>NaN</td>\n",
       "      <td>NaN</td>\n",
       "      <td>NaN</td>\n",
       "      <td>NaN</td>\n",
       "      <td>NaN</td>\n",
       "      <td>NaN</td>\n",
       "      <td>NaN</td>\n",
       "      <td>...</td>\n",
       "      <td>NaN</td>\n",
       "      <td>NaN</td>\n",
       "      <td>NaN</td>\n",
       "      <td>NaN</td>\n",
       "      <td>NaN</td>\n",
       "      <td>NaN</td>\n",
       "      <td>NaN</td>\n",
       "      <td>NaN</td>\n",
       "      <td>NaN</td>\n",
       "      <td>NaN</td>\n",
       "    </tr>\n",
       "    <tr>\n",
       "      <th>5</th>\n",
       "      <td>NaN</td>\n",
       "      <td>NaN</td>\n",
       "      <td>NaN</td>\n",
       "      <td>NaN</td>\n",
       "      <td>NaN</td>\n",
       "      <td>NaN</td>\n",
       "      <td>NaN</td>\n",
       "      <td>NaN</td>\n",
       "      <td>NaN</td>\n",
       "      <td>NaN</td>\n",
       "      <td>...</td>\n",
       "      <td>NaN</td>\n",
       "      <td>NaN</td>\n",
       "      <td>NaN</td>\n",
       "      <td>NaN</td>\n",
       "      <td>NaN</td>\n",
       "      <td>NaN</td>\n",
       "      <td>NaN</td>\n",
       "      <td>NaN</td>\n",
       "      <td>NaN</td>\n",
       "      <td>NaN</td>\n",
       "    </tr>\n",
       "  </tbody>\n",
       "</table>\n",
       "<p>15 rows × 32 columns</p>\n",
       "</div>"
      ],
      "text/plain": [
       "                   expectation approximation ratio                      \\\n",
       "                                              mean       std       min   \n",
       "Algorithm        p                                                       \n",
       "tdvp             1                        0.555697  0.320149  0.133846   \n",
       "                 2                        0.914538  0.023949  0.873142   \n",
       "                 3                        0.926812  0.027653  0.895857   \n",
       "                 4                        0.943432  0.049538  0.869999   \n",
       "                 5                        0.969683  0.032257  0.935768   \n",
       "scipy            1                        0.578786  0.215603   0.32276   \n",
       "                 2                        0.850797  0.141596   0.56292   \n",
       "                 3                        0.880351   0.07396  0.760516   \n",
       "                 4                        0.832498  0.142717   0.62381   \n",
       "                 5                        0.941948  0.074239  0.821507   \n",
       "gradient_descent 1                        0.515058  0.413939  0.067843   \n",
       "                 2                         0.91065  0.025242  0.874111   \n",
       "                 3                             NaN       NaN       NaN   \n",
       "                 4                             NaN       NaN       NaN   \n",
       "                 5                             NaN       NaN       NaN   \n",
       "\n",
       "                             groundspace overlap                      \\\n",
       "                         max                mean       std       min   \n",
       "Algorithm        p                                                     \n",
       "tdvp             1  0.963225            0.464344   0.37313  0.019871   \n",
       "                 2  0.947408            0.895209  0.049664  0.831052   \n",
       "                 3  0.966206            0.866436   0.06825  0.795922   \n",
       "                 4  0.974706            0.930693  0.062414  0.843536   \n",
       "                 5  0.999978            0.960623  0.048394  0.906591   \n",
       "scipy            1   0.79544            0.385312  0.334051   0.01563   \n",
       "                 2   0.91854            0.786808  0.231791  0.335994   \n",
       "                 3  0.973016            0.816939  0.087629  0.752143   \n",
       "                 4  0.981445            0.681178  0.360276  0.043834   \n",
       "                 5  0.995812            0.910507  0.117591  0.735778   \n",
       "gradient_descent 1  0.963282            0.456997  0.394647  0.051365   \n",
       "                 2  0.931966            0.864552  0.060204  0.797145   \n",
       "                 3       NaN                 NaN       NaN       NaN   \n",
       "                 4       NaN                 NaN       NaN       NaN   \n",
       "                 5       NaN                 NaN       NaN       NaN   \n",
       "\n",
       "                             groundspace sharpness            ...  \\\n",
       "                         max                  mean       std  ...   \n",
       "Algorithm        p                                            ...   \n",
       "tdvp             1  0.962394              0.331865  0.164583  ...   \n",
       "                 2  0.943499                0.2976   0.06186  ...   \n",
       "                 3  0.967577              0.324697  0.090627  ...   \n",
       "                 4  0.977556              0.232359  0.100608  ...   \n",
       "                 5  0.999983              0.150136  0.143481  ...   \n",
       "scipy            1  0.792068              0.346479  0.169024  ...   \n",
       "                 2  0.946846               0.33892  0.098601  ...   \n",
       "                 3  0.968308              0.366746  0.101873  ...   \n",
       "                 4   0.98062              0.308058  0.130118  ...   \n",
       "                 5   0.99674              0.214588  0.169398  ...   \n",
       "gradient_descent 1   0.96185              0.329895  0.135659  ...   \n",
       "                 2  0.930363              0.333246  0.066633  ...   \n",
       "                 3       NaN                   NaN       NaN  ...   \n",
       "                 4       NaN                   NaN       NaN  ...   \n",
       "                 5       NaN                   NaN       NaN  ...   \n",
       "\n",
       "                          gate count                    num_fun_calls  \\\n",
       "                                 min                max          mean   \n",
       "Algorithm        p                                                      \n",
       "tdvp             1         1069340.0          1938870.0          55.0   \n",
       "                 2   11019453.333333        125445496.0         194.0   \n",
       "                 3        36654824.0       1293696104.0    548.666667   \n",
       "                 4       145071472.0        295632128.0     83.333333   \n",
       "                 5  520958752.666667  4559180970.000001         370.0   \n",
       "scipy            1            1848.0             3808.0          22.5   \n",
       "                 2            4608.0            13104.0     74.666667   \n",
       "                 3            5824.0            18512.0          96.0   \n",
       "                 4           11088.0            17792.0    102.166667   \n",
       "                 5           13944.0            40320.0    156.833333   \n",
       "gradient_descent 1            3120.0            16848.0    562.166667   \n",
       "                 2            4144.0            41888.0   1123.333333   \n",
       "                 3               NaN                NaN           NaN   \n",
       "                 4               NaN                NaN           NaN   \n",
       "                 5               NaN                NaN           NaN   \n",
       "\n",
       "                                                     steps               \\\n",
       "                            std   min     max         mean          std   \n",
       "Algorithm        p                                                        \n",
       "tdvp             1     7.014271  44.0    62.0    75.666667      7.31209   \n",
       "                 2   203.399115  56.0   602.0        235.0   232.458168   \n",
       "                 3  1003.912081   0.0  2588.0        774.6  1247.291987   \n",
       "                 4    71.079298   0.0   182.0        157.0    45.731098   \n",
       "                 5   621.564478   0.0  1574.0        850.0   826.339519   \n",
       "scipy            1     3.619392  19.0    27.0         22.5     3.619392   \n",
       "                 2    33.152174  35.0   116.0    74.666667    33.152174   \n",
       "                 3    52.664979  54.0   177.0         96.0    52.664979   \n",
       "                 4     23.25009  79.0   138.0   102.166667     23.25009   \n",
       "                 5    91.750568  82.0   335.0   156.833333    91.750568   \n",
       "gradient_descent 1  1195.262551  29.0  3000.0   562.166667  1195.262551   \n",
       "                 2  1457.722836  36.0  3000.0  1123.333333  1457.722836   \n",
       "                 3          NaN   NaN     NaN          NaN          NaN   \n",
       "                 4          NaN   NaN     NaN          NaN          NaN   \n",
       "                 5          NaN   NaN     NaN          NaN          NaN   \n",
       "\n",
       "                                   \n",
       "                      min     max  \n",
       "Algorithm        p                 \n",
       "tdvp             1   62.0    82.0  \n",
       "                 2   79.0   701.0  \n",
       "                 3   85.0  3000.0  \n",
       "                 4  126.0   225.0  \n",
       "                 5  179.0  1773.0  \n",
       "scipy            1   19.0    27.0  \n",
       "                 2   35.0   116.0  \n",
       "                 3   54.0   177.0  \n",
       "                 4   79.0   138.0  \n",
       "                 5   82.0   335.0  \n",
       "gradient_descent 1   29.0  3000.0  \n",
       "                 2   36.0  3000.0  \n",
       "                 3    NaN     NaN  \n",
       "                 4    NaN     NaN  \n",
       "                 5    NaN     NaN  \n",
       "\n",
       "[15 rows x 32 columns]"
      ]
     },
     "execution_count": 15,
     "metadata": {},
     "output_type": "execute_result"
    }
   ],
   "source": [
    "stats.xs(n, level='n')"
   ]
  },
  {
   "cell_type": "code",
   "execution_count": 41,
   "metadata": {},
   "outputs": [
    {
     "data": {
      "text/plain": [
       "Index(['approximation ratio', 'circuit count',\n",
       "       'expectation approximation ratio', 'gate count', 'groundspace overlap',\n",
       "       'groundspace sharpness', 'num_fun_calls', 'steps'],\n",
       "      dtype='object')"
      ]
     },
     "execution_count": 41,
     "metadata": {},
     "output_type": "execute_result"
    }
   ],
   "source": [
    "stats.columns.levels[0]"
   ]
  },
  {
   "cell_type": "code",
   "execution_count": 49,
   "metadata": {},
   "outputs": [],
   "source": [
    "yaxis_names = {\n",
    "    \"expectation approximation ratio\": \"Expectation approximation ratio\",\n",
    "    \"groundspace overlap\": \"Groundspace overlap\",\n",
    "    \"groundspace sharpness\": \"Groundspace sharpness\",\n",
    "    \"approximation ratio\": \"Approximation ratio\",\n",
    "    \"circuit count\": \"Number of circuits\",\n",
    "    \"gate count\": \"Number of gates\",\n",
    "    \"num_fun_calls\": \"Number of function calls\",\n",
    "    \"steps\": \"Number of steps\",\n",
    "}\n",
    "\n",
    "yaxis_range = {\n",
    "    \"expectation approximation ratio\": dict(\n",
    "                range=[0, 1.1],\n",
    "                tickmode=\"linear\",\n",
    "                tick0=0,\n",
    "                dtick=0.2,\n",
    "                autorange=False,\n",
    "            ),\n",
    "    \"groundspace overlap\": dict(\n",
    "                range=[0, 1.1],\n",
    "                tickmode=\"linear\",\n",
    "                tick0=0,\n",
    "                dtick=0.2,\n",
    "                autorange=False,\n",
    "            ),\n",
    "    \"groundspace sharpness\": dict(\n",
    "                range=[0, 1.1],\n",
    "                tickmode=\"linear\",\n",
    "                tick0=0,\n",
    "                dtick=0.2,\n",
    "                autorange=True,\n",
    "            ),\n",
    "    \"approximation ratio\": dict(\n",
    "                range=[0, 1.1],\n",
    "                tickmode=\"linear\",\n",
    "                tick0=0,\n",
    "                dtick=0.2,\n",
    "                autorange=False,\n",
    "            ),\n",
    "    \"circuit count\": dict(\n",
    "                # range=[0, 1.1],\n",
    "                tickmode=\"auto\",\n",
    "                tick0=0,\n",
    "                # dtick=0.2,\n",
    "                autorange=True,\n",
    "            ),\n",
    "    \"gate count\": \"Number of gates\",\n",
    "    \"num_fun_calls\": \"Number of function calls\",\n",
    "    \"steps\": \"Number of steps\",\n",
    "}\n"
   ]
  },
  {
   "cell_type": "code",
   "execution_count": 50,
   "metadata": {},
   "outputs": [],
   "source": [
    "def plot_results(meas:str,n:int) -> go.Figure:\n",
    "    df = stats[meas].xs(n, level=\"n\").reset_index()\n",
    "    # flattend_data\n",
    "    data_red = pd.concat(\n",
    "        [\n",
    "            data[\"tdvp\"].xs(n, level=\"n\").apply(lambda x: x),\n",
    "            data[\"scipy\"].xs(n, level=\"n\").apply(lambda x: x),\n",
    "            data[\"gradient_descent\"].xs(n, level=\"n\").apply(lambda x: x),\n",
    "        ]\n",
    "    ).reset_index(drop=True)\n",
    "    data_red\n",
    "\n",
    "    gridcolor = \"lightgrey\"\n",
    "\n",
    "    scatter = px.scatter(\n",
    "        data_frame=df,\n",
    "        x=df[\"p\"] + 0.1 * df[\"Algorithm\"].apply(algo_num),  # for the offset\n",
    "        y=\"mean\",\n",
    "        error_y=\"std\",\n",
    "        color=\"Algorithm\",\n",
    "        symbol=\"Algorithm\",\n",
    "        # barmode='group',\n",
    "    )\n",
    "\n",
    "    box = px.box(\n",
    "        data_frame=data_red,\n",
    "        x=\"p\",\n",
    "        y=meas,\n",
    "        color=\"algorithm\",\n",
    "        # points='all',\n",
    "    )\n",
    "    box.update_traces(\n",
    "        quartilemethod=\"inclusive\"\n",
    "    )  # or \"inclusive\", or \"linear\" by default\n",
    "\n",
    "    fig = scatter\n",
    "\n",
    "    # rename traces\n",
    "    newnames = {\"tdvp\": \"TDVP\", \"scipy\": \"COBYLA\", \"gradient_descent\": \"GD\"}\n",
    "    fig.for_each_trace(\n",
    "        lambda t: t.update(\n",
    "            name=newnames.get(t.name, \"\"),\n",
    "            legendgroup=newnames.get(t.name, \"\"),\n",
    "            hovertemplate=t.hovertemplate.replace(t.name, newnames[t.name]),\n",
    "        )\n",
    "    )\n",
    "\n",
    "    fig.update_layout(\n",
    "        yaxis=yaxis_range[meas],\n",
    "        template=BA_template,\n",
    "        xaxis_title=\"p\",\n",
    "        yaxis_title=yaxis_names[meas],\n",
    "        legend_title_text=\"Algorithm\",\n",
    "        width=700,\n",
    "    )\n",
    "    return fig\n",
    "\n"
   ]
  },
  {
   "cell_type": "code",
   "execution_count": 51,
   "metadata": {},
   "outputs": [
    {
     "data": {
      "application/vnd.plotly.v1+json": {
       "config": {
        "plotlyServerURL": "https://plot.ly"
       },
       "data": [
        {
         "error_y": {
          "array": [
           789.7057679921047,
           75316.44652265533,
           808245.2073592518,
           49389.58594683701,
           1338670.0201319219
          ]
         },
         "hovertemplate": "Algorithm=TDVP<br>x=%{x}<br>mean=%{y}<extra></extra>",
         "legendgroup": "TDVP",
         "marker": {
          "color": "#636efa",
          "symbol": "circle"
         },
         "mode": "markers",
         "name": "TDVP",
         "orientation": "h",
         "showlegend": true,
         "type": "scatter",
         "x": [
          1.1,
          2.1,
          3.1,
          4.1,
          5.1
         ],
         "xaxis": "x",
         "y": [
          8173,
          76141,
          501941.8,
          169561,
          1377001
         ],
         "yaxis": "y"
        },
        {
         "error_y": {
          "array": [
           3.6193922141707713,
           33.15217438821573,
           52.664978875909554,
           23.2500896055621,
           91.75056766400232
          ]
         },
         "hovertemplate": "Algorithm=COBYLA<br>x=%{x}<br>mean=%{y}<extra></extra>",
         "legendgroup": "COBYLA",
         "marker": {
          "color": "#EF553B",
          "symbol": "diamond"
         },
         "mode": "markers",
         "name": "COBYLA",
         "orientation": "h",
         "showlegend": true,
         "type": "scatter",
         "x": [
          1,
          2,
          3,
          4,
          5
         ],
         "xaxis": "x",
         "y": [
          23.5,
          75.66666666666667,
          97,
          103.16666666666667,
          157.83333333333334
         ],
         "yaxis": "y"
        },
        {
         "error_y": {
          "array": [
           53.910110369020764,
           140.41130058985044,
           null,
           null,
           null
          ]
         },
         "hovertemplate": "Algorithm=GD<br>x=%{x}<br>mean=%{y}<extra></extra>",
         "legendgroup": "GD",
         "marker": {
          "color": "#00cc96",
          "symbol": "square"
         },
         "mode": "markers",
         "name": "GD",
         "orientation": "h",
         "showlegend": true,
         "type": "scatter",
         "x": [
          0.9,
          1.9,
          2.9,
          3.9,
          4.9
         ],
         "xaxis": "x",
         "y": [
          74.6,
          185,
          null,
          null,
          null
         ],
         "yaxis": "y"
        }
       ],
       "layout": {
        "legend": {
         "title": {
          "text": "Algorithm"
         },
         "tracegroupgap": 0
        },
        "margin": {
         "t": 60
        },
        "template": {
         "data": {
          "bar": [
           {
            "error_x": {
             "color": "#2a3f5f"
            },
            "error_y": {
             "color": "#2a3f5f"
            },
            "marker": {
             "line": {
              "color": "#E5ECF6",
              "width": 0.5
             },
             "pattern": {
              "fillmode": "overlay",
              "size": 10,
              "solidity": 0.2
             }
            },
            "type": "bar"
           }
          ],
          "barpolar": [
           {
            "marker": {
             "line": {
              "color": "#E5ECF6",
              "width": 0.5
             },
             "pattern": {
              "fillmode": "overlay",
              "size": 10,
              "solidity": 0.2
             }
            },
            "type": "barpolar"
           }
          ],
          "carpet": [
           {
            "aaxis": {
             "endlinecolor": "#2a3f5f",
             "gridcolor": "white",
             "linecolor": "white",
             "minorgridcolor": "white",
             "startlinecolor": "#2a3f5f"
            },
            "baxis": {
             "endlinecolor": "#2a3f5f",
             "gridcolor": "white",
             "linecolor": "white",
             "minorgridcolor": "white",
             "startlinecolor": "#2a3f5f"
            },
            "type": "carpet"
           }
          ],
          "choropleth": [
           {
            "colorbar": {
             "outlinewidth": 0,
             "ticks": ""
            },
            "type": "choropleth"
           }
          ],
          "contour": [
           {
            "colorbar": {
             "outlinewidth": 0,
             "ticks": ""
            },
            "colorscale": [
             [
              0,
              "#0d0887"
             ],
             [
              0.1111111111111111,
              "#46039f"
             ],
             [
              0.2222222222222222,
              "#7201a8"
             ],
             [
              0.3333333333333333,
              "#9c179e"
             ],
             [
              0.4444444444444444,
              "#bd3786"
             ],
             [
              0.5555555555555556,
              "#d8576b"
             ],
             [
              0.6666666666666666,
              "#ed7953"
             ],
             [
              0.7777777777777778,
              "#fb9f3a"
             ],
             [
              0.8888888888888888,
              "#fdca26"
             ],
             [
              1,
              "#f0f921"
             ]
            ],
            "type": "contour"
           }
          ],
          "contourcarpet": [
           {
            "colorbar": {
             "outlinewidth": 0,
             "ticks": ""
            },
            "type": "contourcarpet"
           }
          ],
          "heatmap": [
           {
            "colorbar": {
             "outlinewidth": 0,
             "ticks": ""
            },
            "colorscale": [
             [
              0,
              "#0d0887"
             ],
             [
              0.1111111111111111,
              "#46039f"
             ],
             [
              0.2222222222222222,
              "#7201a8"
             ],
             [
              0.3333333333333333,
              "#9c179e"
             ],
             [
              0.4444444444444444,
              "#bd3786"
             ],
             [
              0.5555555555555556,
              "#d8576b"
             ],
             [
              0.6666666666666666,
              "#ed7953"
             ],
             [
              0.7777777777777778,
              "#fb9f3a"
             ],
             [
              0.8888888888888888,
              "#fdca26"
             ],
             [
              1,
              "#f0f921"
             ]
            ],
            "type": "heatmap"
           }
          ],
          "heatmapgl": [
           {
            "colorbar": {
             "outlinewidth": 0,
             "ticks": ""
            },
            "colorscale": [
             [
              0,
              "#0d0887"
             ],
             [
              0.1111111111111111,
              "#46039f"
             ],
             [
              0.2222222222222222,
              "#7201a8"
             ],
             [
              0.3333333333333333,
              "#9c179e"
             ],
             [
              0.4444444444444444,
              "#bd3786"
             ],
             [
              0.5555555555555556,
              "#d8576b"
             ],
             [
              0.6666666666666666,
              "#ed7953"
             ],
             [
              0.7777777777777778,
              "#fb9f3a"
             ],
             [
              0.8888888888888888,
              "#fdca26"
             ],
             [
              1,
              "#f0f921"
             ]
            ],
            "type": "heatmapgl"
           }
          ],
          "histogram": [
           {
            "marker": {
             "pattern": {
              "fillmode": "overlay",
              "size": 10,
              "solidity": 0.2
             }
            },
            "type": "histogram"
           }
          ],
          "histogram2d": [
           {
            "colorbar": {
             "outlinewidth": 0,
             "ticks": ""
            },
            "colorscale": [
             [
              0,
              "#0d0887"
             ],
             [
              0.1111111111111111,
              "#46039f"
             ],
             [
              0.2222222222222222,
              "#7201a8"
             ],
             [
              0.3333333333333333,
              "#9c179e"
             ],
             [
              0.4444444444444444,
              "#bd3786"
             ],
             [
              0.5555555555555556,
              "#d8576b"
             ],
             [
              0.6666666666666666,
              "#ed7953"
             ],
             [
              0.7777777777777778,
              "#fb9f3a"
             ],
             [
              0.8888888888888888,
              "#fdca26"
             ],
             [
              1,
              "#f0f921"
             ]
            ],
            "type": "histogram2d"
           }
          ],
          "histogram2dcontour": [
           {
            "colorbar": {
             "outlinewidth": 0,
             "ticks": ""
            },
            "colorscale": [
             [
              0,
              "#0d0887"
             ],
             [
              0.1111111111111111,
              "#46039f"
             ],
             [
              0.2222222222222222,
              "#7201a8"
             ],
             [
              0.3333333333333333,
              "#9c179e"
             ],
             [
              0.4444444444444444,
              "#bd3786"
             ],
             [
              0.5555555555555556,
              "#d8576b"
             ],
             [
              0.6666666666666666,
              "#ed7953"
             ],
             [
              0.7777777777777778,
              "#fb9f3a"
             ],
             [
              0.8888888888888888,
              "#fdca26"
             ],
             [
              1,
              "#f0f921"
             ]
            ],
            "type": "histogram2dcontour"
           }
          ],
          "mesh3d": [
           {
            "colorbar": {
             "outlinewidth": 0,
             "ticks": ""
            },
            "type": "mesh3d"
           }
          ],
          "parcoords": [
           {
            "line": {
             "colorbar": {
              "outlinewidth": 0,
              "ticks": ""
             }
            },
            "type": "parcoords"
           }
          ],
          "pie": [
           {
            "automargin": true,
            "type": "pie"
           }
          ],
          "scatter": [
           {
            "fillpattern": {
             "fillmode": "overlay",
             "size": 10,
             "solidity": 0.2
            },
            "type": "scatter"
           }
          ],
          "scatter3d": [
           {
            "line": {
             "colorbar": {
              "outlinewidth": 0,
              "ticks": ""
             }
            },
            "marker": {
             "colorbar": {
              "outlinewidth": 0,
              "ticks": ""
             }
            },
            "type": "scatter3d"
           }
          ],
          "scattercarpet": [
           {
            "marker": {
             "colorbar": {
              "outlinewidth": 0,
              "ticks": ""
             }
            },
            "type": "scattercarpet"
           }
          ],
          "scattergeo": [
           {
            "marker": {
             "colorbar": {
              "outlinewidth": 0,
              "ticks": ""
             }
            },
            "type": "scattergeo"
           }
          ],
          "scattergl": [
           {
            "marker": {
             "colorbar": {
              "outlinewidth": 0,
              "ticks": ""
             }
            },
            "type": "scattergl"
           }
          ],
          "scattermapbox": [
           {
            "marker": {
             "colorbar": {
              "outlinewidth": 0,
              "ticks": ""
             }
            },
            "type": "scattermapbox"
           }
          ],
          "scatterpolar": [
           {
            "marker": {
             "colorbar": {
              "outlinewidth": 0,
              "ticks": ""
             }
            },
            "type": "scatterpolar"
           }
          ],
          "scatterpolargl": [
           {
            "marker": {
             "colorbar": {
              "outlinewidth": 0,
              "ticks": ""
             }
            },
            "type": "scatterpolargl"
           }
          ],
          "scatterternary": [
           {
            "marker": {
             "colorbar": {
              "outlinewidth": 0,
              "ticks": ""
             }
            },
            "type": "scatterternary"
           }
          ],
          "surface": [
           {
            "colorbar": {
             "outlinewidth": 0,
             "ticks": ""
            },
            "colorscale": [
             [
              0,
              "#0d0887"
             ],
             [
              0.1111111111111111,
              "#46039f"
             ],
             [
              0.2222222222222222,
              "#7201a8"
             ],
             [
              0.3333333333333333,
              "#9c179e"
             ],
             [
              0.4444444444444444,
              "#bd3786"
             ],
             [
              0.5555555555555556,
              "#d8576b"
             ],
             [
              0.6666666666666666,
              "#ed7953"
             ],
             [
              0.7777777777777778,
              "#fb9f3a"
             ],
             [
              0.8888888888888888,
              "#fdca26"
             ],
             [
              1,
              "#f0f921"
             ]
            ],
            "type": "surface"
           }
          ],
          "table": [
           {
            "cells": {
             "fill": {
              "color": "#EBF0F8"
             },
             "line": {
              "color": "white"
             }
            },
            "header": {
             "fill": {
              "color": "#C8D4E3"
             },
             "line": {
              "color": "white"
             }
            },
            "type": "table"
           }
          ]
         },
         "layout": {
          "font": {
           "family": "Computer Modern",
           "size": 11
          },
          "legend": {
           "x": 0.99,
           "xanchor": "right",
           "y": 0.01,
           "yanchor": "bottom"
          },
          "plot_bgcolor": "rgba(0,0,0,0)",
          "template": {
           "data": {
            "bar": [
             {
              "error_x": {
               "color": "#2a3f5f"
              },
              "error_y": {
               "color": "#2a3f5f"
              },
              "marker": {
               "line": {
                "color": "white",
                "width": 0.5
               },
               "pattern": {
                "fillmode": "overlay",
                "size": 10,
                "solidity": 0.2
               }
              },
              "type": "bar"
             }
            ],
            "barpolar": [
             {
              "marker": {
               "line": {
                "color": "white",
                "width": 0.5
               },
               "pattern": {
                "fillmode": "overlay",
                "size": 10,
                "solidity": 0.2
               }
              },
              "type": "barpolar"
             }
            ],
            "carpet": [
             {
              "aaxis": {
               "endlinecolor": "#2a3f5f",
               "gridcolor": "#C8D4E3",
               "linecolor": "#C8D4E3",
               "minorgridcolor": "#C8D4E3",
               "startlinecolor": "#2a3f5f"
              },
              "baxis": {
               "endlinecolor": "#2a3f5f",
               "gridcolor": "#C8D4E3",
               "linecolor": "#C8D4E3",
               "minorgridcolor": "#C8D4E3",
               "startlinecolor": "#2a3f5f"
              },
              "type": "carpet"
             }
            ],
            "choropleth": [
             {
              "colorbar": {
               "outlinewidth": 0,
               "ticks": ""
              },
              "type": "choropleth"
             }
            ],
            "contour": [
             {
              "colorbar": {
               "outlinewidth": 0,
               "ticks": ""
              },
              "colorscale": [
               [
                0,
                "#0d0887"
               ],
               [
                0.1111111111111111,
                "#46039f"
               ],
               [
                0.2222222222222222,
                "#7201a8"
               ],
               [
                0.3333333333333333,
                "#9c179e"
               ],
               [
                0.4444444444444444,
                "#bd3786"
               ],
               [
                0.5555555555555556,
                "#d8576b"
               ],
               [
                0.6666666666666666,
                "#ed7953"
               ],
               [
                0.7777777777777778,
                "#fb9f3a"
               ],
               [
                0.8888888888888888,
                "#fdca26"
               ],
               [
                1,
                "#f0f921"
               ]
              ],
              "type": "contour"
             }
            ],
            "contourcarpet": [
             {
              "colorbar": {
               "outlinewidth": 0,
               "ticks": ""
              },
              "type": "contourcarpet"
             }
            ],
            "heatmap": [
             {
              "colorbar": {
               "outlinewidth": 0,
               "ticks": ""
              },
              "colorscale": [
               [
                0,
                "#0d0887"
               ],
               [
                0.1111111111111111,
                "#46039f"
               ],
               [
                0.2222222222222222,
                "#7201a8"
               ],
               [
                0.3333333333333333,
                "#9c179e"
               ],
               [
                0.4444444444444444,
                "#bd3786"
               ],
               [
                0.5555555555555556,
                "#d8576b"
               ],
               [
                0.6666666666666666,
                "#ed7953"
               ],
               [
                0.7777777777777778,
                "#fb9f3a"
               ],
               [
                0.8888888888888888,
                "#fdca26"
               ],
               [
                1,
                "#f0f921"
               ]
              ],
              "type": "heatmap"
             }
            ],
            "heatmapgl": [
             {
              "colorbar": {
               "outlinewidth": 0,
               "ticks": ""
              },
              "colorscale": [
               [
                0,
                "#0d0887"
               ],
               [
                0.1111111111111111,
                "#46039f"
               ],
               [
                0.2222222222222222,
                "#7201a8"
               ],
               [
                0.3333333333333333,
                "#9c179e"
               ],
               [
                0.4444444444444444,
                "#bd3786"
               ],
               [
                0.5555555555555556,
                "#d8576b"
               ],
               [
                0.6666666666666666,
                "#ed7953"
               ],
               [
                0.7777777777777778,
                "#fb9f3a"
               ],
               [
                0.8888888888888888,
                "#fdca26"
               ],
               [
                1,
                "#f0f921"
               ]
              ],
              "type": "heatmapgl"
             }
            ],
            "histogram": [
             {
              "marker": {
               "pattern": {
                "fillmode": "overlay",
                "size": 10,
                "solidity": 0.2
               }
              },
              "type": "histogram"
             }
            ],
            "histogram2d": [
             {
              "colorbar": {
               "outlinewidth": 0,
               "ticks": ""
              },
              "colorscale": [
               [
                0,
                "#0d0887"
               ],
               [
                0.1111111111111111,
                "#46039f"
               ],
               [
                0.2222222222222222,
                "#7201a8"
               ],
               [
                0.3333333333333333,
                "#9c179e"
               ],
               [
                0.4444444444444444,
                "#bd3786"
               ],
               [
                0.5555555555555556,
                "#d8576b"
               ],
               [
                0.6666666666666666,
                "#ed7953"
               ],
               [
                0.7777777777777778,
                "#fb9f3a"
               ],
               [
                0.8888888888888888,
                "#fdca26"
               ],
               [
                1,
                "#f0f921"
               ]
              ],
              "type": "histogram2d"
             }
            ],
            "histogram2dcontour": [
             {
              "colorbar": {
               "outlinewidth": 0,
               "ticks": ""
              },
              "colorscale": [
               [
                0,
                "#0d0887"
               ],
               [
                0.1111111111111111,
                "#46039f"
               ],
               [
                0.2222222222222222,
                "#7201a8"
               ],
               [
                0.3333333333333333,
                "#9c179e"
               ],
               [
                0.4444444444444444,
                "#bd3786"
               ],
               [
                0.5555555555555556,
                "#d8576b"
               ],
               [
                0.6666666666666666,
                "#ed7953"
               ],
               [
                0.7777777777777778,
                "#fb9f3a"
               ],
               [
                0.8888888888888888,
                "#fdca26"
               ],
               [
                1,
                "#f0f921"
               ]
              ],
              "type": "histogram2dcontour"
             }
            ],
            "mesh3d": [
             {
              "colorbar": {
               "outlinewidth": 0,
               "ticks": ""
              },
              "type": "mesh3d"
             }
            ],
            "parcoords": [
             {
              "line": {
               "colorbar": {
                "outlinewidth": 0,
                "ticks": ""
               }
              },
              "type": "parcoords"
             }
            ],
            "pie": [
             {
              "automargin": true,
              "type": "pie"
             }
            ],
            "scatter": [
             {
              "fillpattern": {
               "fillmode": "overlay",
               "size": 10,
               "solidity": 0.2
              },
              "type": "scatter"
             }
            ],
            "scatter3d": [
             {
              "line": {
               "colorbar": {
                "outlinewidth": 0,
                "ticks": ""
               }
              },
              "marker": {
               "colorbar": {
                "outlinewidth": 0,
                "ticks": ""
               }
              },
              "type": "scatter3d"
             }
            ],
            "scattercarpet": [
             {
              "marker": {
               "colorbar": {
                "outlinewidth": 0,
                "ticks": ""
               }
              },
              "type": "scattercarpet"
             }
            ],
            "scattergeo": [
             {
              "marker": {
               "colorbar": {
                "outlinewidth": 0,
                "ticks": ""
               }
              },
              "type": "scattergeo"
             }
            ],
            "scattergl": [
             {
              "marker": {
               "colorbar": {
                "outlinewidth": 0,
                "ticks": ""
               }
              },
              "type": "scattergl"
             }
            ],
            "scattermapbox": [
             {
              "marker": {
               "colorbar": {
                "outlinewidth": 0,
                "ticks": ""
               }
              },
              "type": "scattermapbox"
             }
            ],
            "scatterpolar": [
             {
              "marker": {
               "colorbar": {
                "outlinewidth": 0,
                "ticks": ""
               }
              },
              "type": "scatterpolar"
             }
            ],
            "scatterpolargl": [
             {
              "marker": {
               "colorbar": {
                "outlinewidth": 0,
                "ticks": ""
               }
              },
              "type": "scatterpolargl"
             }
            ],
            "scatterternary": [
             {
              "marker": {
               "colorbar": {
                "outlinewidth": 0,
                "ticks": ""
               }
              },
              "type": "scatterternary"
             }
            ],
            "surface": [
             {
              "colorbar": {
               "outlinewidth": 0,
               "ticks": ""
              },
              "colorscale": [
               [
                0,
                "#0d0887"
               ],
               [
                0.1111111111111111,
                "#46039f"
               ],
               [
                0.2222222222222222,
                "#7201a8"
               ],
               [
                0.3333333333333333,
                "#9c179e"
               ],
               [
                0.4444444444444444,
                "#bd3786"
               ],
               [
                0.5555555555555556,
                "#d8576b"
               ],
               [
                0.6666666666666666,
                "#ed7953"
               ],
               [
                0.7777777777777778,
                "#fb9f3a"
               ],
               [
                0.8888888888888888,
                "#fdca26"
               ],
               [
                1,
                "#f0f921"
               ]
              ],
              "type": "surface"
             }
            ],
            "table": [
             {
              "cells": {
               "fill": {
                "color": "#EBF0F8"
               },
               "line": {
                "color": "white"
               }
              },
              "header": {
               "fill": {
                "color": "#C8D4E3"
               },
               "line": {
                "color": "white"
               }
              },
              "type": "table"
             }
            ]
           },
           "layout": {
            "annotationdefaults": {
             "arrowcolor": "#2a3f5f",
             "arrowhead": 0,
             "arrowwidth": 1
            },
            "autotypenumbers": "strict",
            "coloraxis": {
             "colorbar": {
              "outlinewidth": 0,
              "ticks": ""
             }
            },
            "colorscale": {
             "diverging": [
              [
               0,
               "#8e0152"
              ],
              [
               0.1,
               "#c51b7d"
              ],
              [
               0.2,
               "#de77ae"
              ],
              [
               0.3,
               "#f1b6da"
              ],
              [
               0.4,
               "#fde0ef"
              ],
              [
               0.5,
               "#f7f7f7"
              ],
              [
               0.6,
               "#e6f5d0"
              ],
              [
               0.7,
               "#b8e186"
              ],
              [
               0.8,
               "#7fbc41"
              ],
              [
               0.9,
               "#4d9221"
              ],
              [
               1,
               "#276419"
              ]
             ],
             "sequential": [
              [
               0,
               "#0d0887"
              ],
              [
               0.1111111111111111,
               "#46039f"
              ],
              [
               0.2222222222222222,
               "#7201a8"
              ],
              [
               0.3333333333333333,
               "#9c179e"
              ],
              [
               0.4444444444444444,
               "#bd3786"
              ],
              [
               0.5555555555555556,
               "#d8576b"
              ],
              [
               0.6666666666666666,
               "#ed7953"
              ],
              [
               0.7777777777777778,
               "#fb9f3a"
              ],
              [
               0.8888888888888888,
               "#fdca26"
              ],
              [
               1,
               "#f0f921"
              ]
             ],
             "sequentialminus": [
              [
               0,
               "#0d0887"
              ],
              [
               0.1111111111111111,
               "#46039f"
              ],
              [
               0.2222222222222222,
               "#7201a8"
              ],
              [
               0.3333333333333333,
               "#9c179e"
              ],
              [
               0.4444444444444444,
               "#bd3786"
              ],
              [
               0.5555555555555556,
               "#d8576b"
              ],
              [
               0.6666666666666666,
               "#ed7953"
              ],
              [
               0.7777777777777778,
               "#fb9f3a"
              ],
              [
               0.8888888888888888,
               "#fdca26"
              ],
              [
               1,
               "#f0f921"
              ]
             ]
            },
            "colorway": [
             "#636efa",
             "#EF553B",
             "#00cc96",
             "#ab63fa",
             "#FFA15A",
             "#19d3f3",
             "#FF6692",
             "#B6E880",
             "#FF97FF",
             "#FECB52"
            ],
            "font": {
             "color": "#2a3f5f"
            },
            "geo": {
             "bgcolor": "white",
             "lakecolor": "white",
             "landcolor": "white",
             "showlakes": true,
             "showland": true,
             "subunitcolor": "#C8D4E3"
            },
            "hoverlabel": {
             "align": "left"
            },
            "hovermode": "closest",
            "mapbox": {
             "style": "light"
            },
            "paper_bgcolor": "white",
            "plot_bgcolor": "white",
            "polar": {
             "angularaxis": {
              "gridcolor": "#EBF0F8",
              "linecolor": "#EBF0F8",
              "ticks": ""
             },
             "bgcolor": "white",
             "radialaxis": {
              "gridcolor": "#EBF0F8",
              "linecolor": "#EBF0F8",
              "ticks": ""
             }
            },
            "scene": {
             "xaxis": {
              "backgroundcolor": "white",
              "gridcolor": "#DFE8F3",
              "gridwidth": 2,
              "linecolor": "#EBF0F8",
              "showbackground": true,
              "ticks": "",
              "zerolinecolor": "#EBF0F8"
             },
             "yaxis": {
              "backgroundcolor": "white",
              "gridcolor": "#DFE8F3",
              "gridwidth": 2,
              "linecolor": "#EBF0F8",
              "showbackground": true,
              "ticks": "",
              "zerolinecolor": "#EBF0F8"
             },
             "zaxis": {
              "backgroundcolor": "white",
              "gridcolor": "#DFE8F3",
              "gridwidth": 2,
              "linecolor": "#EBF0F8",
              "showbackground": true,
              "ticks": "",
              "zerolinecolor": "#EBF0F8"
             }
            },
            "shapedefaults": {
             "line": {
              "color": "#2a3f5f"
             }
            },
            "ternary": {
             "aaxis": {
              "gridcolor": "#DFE8F3",
              "linecolor": "#A2B1C6",
              "ticks": ""
             },
             "baxis": {
              "gridcolor": "#DFE8F3",
              "linecolor": "#A2B1C6",
              "ticks": ""
             },
             "bgcolor": "white",
             "caxis": {
              "gridcolor": "#DFE8F3",
              "linecolor": "#A2B1C6",
              "ticks": ""
             }
            },
            "title": {
             "x": 0.05
            },
            "xaxis": {
             "automargin": true,
             "gridcolor": "#EBF0F8",
             "linecolor": "#EBF0F8",
             "ticks": "",
             "title": {
              "standoff": 15
             },
             "zerolinecolor": "#EBF0F8",
             "zerolinewidth": 2
            },
            "yaxis": {
             "automargin": true,
             "gridcolor": "#EBF0F8",
             "linecolor": "#EBF0F8",
             "ticks": "",
             "title": {
              "standoff": 15
             },
             "zerolinecolor": "#EBF0F8",
             "zerolinewidth": 2
            }
           }
          },
          "xaxis": {
           "autorange": true,
           "dtick": 1,
           "gridcolor": "lightgrey",
           "linecolor": "black",
           "linewidth": 1,
           "range": [
            -0.5,
            5
           ],
           "tick0": 1,
           "tickmode": "linear"
          },
          "yaxis": {
           "autorange": false,
           "dtick": 0.2,
           "gridcolor": "lightgrey",
           "linecolor": "black",
           "linewidth": 1,
           "range": [
            0,
            1.1
           ],
           "tick0": 0,
           "tickmode": "linear",
           "zerolinecolor": "black"
          }
         }
        },
        "width": 700,
        "xaxis": {
         "anchor": "y",
         "domain": [
          0,
          1
         ],
         "title": {
          "text": "p"
         }
        },
        "yaxis": {
         "anchor": "x",
         "autorange": true,
         "domain": [
          0,
          1
         ],
         "tick0": 0,
         "tickmode": "auto",
         "title": {
          "text": "Number of circuits"
         }
        }
       }
      }
     },
     "metadata": {},
     "output_type": "display_data"
    }
   ],
   "source": [
    "plot_results('circuit count', 4).show()"
   ]
  },
  {
   "cell_type": "code",
   "execution_count": 42,
   "metadata": {},
   "outputs": [],
   "source": [
    "for meas in stats.columns.levels[0]:\n",
    "    for n in [3, 4, 5]:\n",
    "        \n",
    "        fig.write_image(f\".//plots//{meas}_n{n}_scatter.svg\")\n"
   ]
  },
  {
   "cell_type": "code",
   "execution_count": null,
   "metadata": {},
   "outputs": [],
   "source": [
    "with open(\"./results/grid_search_n5_p2_i5.p\",'rb') as file:\n",
    "    grid_search = pickle.load(file)"
   ]
  },
  {
   "cell_type": "code",
   "execution_count": null,
   "metadata": {},
   "outputs": [],
   "source": [
    "with open(\"results/data.p\",'rb') as file:\n",
    "    data = pickle.load(file)"
   ]
  },
  {
   "cell_type": "code",
   "execution_count": null,
   "metadata": {},
   "outputs": [],
   "source": [
    "idx = (5,1,5)\n",
    "qaoa = QAOA(data.loc[idx]['instance'],p=idx[1])"
   ]
  },
  {
   "cell_type": "code",
   "execution_count": null,
   "metadata": {},
   "outputs": [],
   "source": [
    "tdvp_path = data.loc[idx]['tdvp']['path']\n",
    "tdvp_x = np.array([d[0] for d in tdvp_path])\n",
    "tdvp_y = np.array([d[1] for d in tdvp_path])\n",
    "tdvp_z = np.array([qaoa.expectation(d) for d in tdvp_path])"
   ]
  },
  {
   "cell_type": "code",
   "execution_count": null,
   "metadata": {},
   "outputs": [],
   "source": [
    "grid_search.max()"
   ]
  },
  {
   "cell_type": "code",
   "execution_count": null,
   "metadata": {},
   "outputs": [],
   "source": [
    "Zlandscape.shape"
   ]
  },
  {
   "cell_type": "code",
   "execution_count": null,
   "metadata": {},
   "outputs": [],
   "source": [
    "griddata((tdvp_x,tdvp_y),tdvp_z,(xi,yi))"
   ]
  },
  {
   "cell_type": "code",
   "execution_count": null,
   "metadata": {},
   "outputs": [],
   "source": [
    "\n",
    "df = grid_search\n",
    "\n",
    "x = np.array(df.beta)\n",
    "y = np.array(df.gamma)\n",
    "z = np.array(df.value)\n",
    "\n",
    "\n",
    "xi = np.linspace(x.min(), x.max(), 100)\n",
    "yi = np.linspace(y.min(), y.max(), 100)\n",
    "\n",
    "X,Y = np.meshgrid(xi,yi)\n",
    "\n",
    "Zlandscape = griddata((x,y),z,(X,Y), method='cubic')\n",
    "\n",
    "\n",
    "Zpath_tdvp = griddata((tdvp_x,tdvp_y),tdvp_z,(xi,yi))\n",
    "\n",
    "fig = go.Figure(\n",
    "    go.Surface(\n",
    "        x=xi,\n",
    "        y=yi,\n",
    "        z=Zlandscape\n",
    "        ),\n",
    "    # go.Scatter3d(\n",
    "    #     x=tdvp_x,\n",
    "    #     y=tdvp_y,\n",
    "    #     z=tdvp_z,\n",
    "    #     mode='markers'\n",
    "    # )\n",
    "    )\n",
    "\n",
    "fig.update_layout(\n",
    "    template=BA_template,\n",
    "    width=1000,\n",
    "    height=1000\n",
    ")\n",
    "fig.show()\n",
    "fig.write_html('./plots/grid_seach_n5_p1_i5_landscape.html')"
   ]
  },
  {
   "cell_type": "code",
   "execution_count": null,
   "metadata": {},
   "outputs": [],
   "source": []
  }
 ],
 "metadata": {
  "kernelspec": {
   "display_name": "Python 3.10.6 ('qutip-env')",
   "language": "python",
   "name": "python3"
  },
  "language_info": {
   "codemirror_mode": {
    "name": "ipython",
    "version": 3
   },
   "file_extension": ".py",
   "mimetype": "text/x-python",
   "name": "python",
   "nbconvert_exporter": "python",
   "pygments_lexer": "ipython3",
   "version": "3.10.6"
  },
  "vscode": {
   "interpreter": {
    "hash": "fe45c953e7d91ced0867b19789acd0ab1d9439aa0b1f4fae31fd46e88f74aeab"
   }
  }
 },
 "nbformat": 4,
 "nbformat_minor": 0
}
