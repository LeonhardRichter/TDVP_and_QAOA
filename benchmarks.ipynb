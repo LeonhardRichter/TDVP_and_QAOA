{
 "cells": [
  {
   "cell_type": "code",
   "execution_count": 1,
   "metadata": {},
   "outputs": [],
   "source": [
    "from benchmark import Benchmark\n",
    "from quantum import H_from_qubo, Qobj\n",
    "from MaxCut import MaxCut\n",
    "\n",
    "from qutip.parallel import parallel_map, serial_map\n",
    "\n",
    "from qaoa_and_tdvp import QAOA, QAOAResult, qaoa_tdvp_rhs, tdvp_optimize_qaoa, scipy_optimize\n",
    "\n",
    "import pickle\n",
    "\n",
    "import numpy as np\n",
    "from numpy.typing import NDArray\n",
    "from typing import List, Tuple, Union, Optional, Callable, Any\n",
    "import networkx as nx\n",
    "import matplotlib.pyplot as plt\n",
    "import plotly as py\n",
    "\n",
    "import pandas as pd"
   ]
  },
  {
   "cell_type": "code",
   "execution_count": 3,
   "metadata": {},
   "outputs": [],
   "source": [
    "n = 4\n",
    "with open(f\"./instances/n{n}_instances.p\",\"rb\") as f:\n",
    "    instances = pickle.load(f)\n",
    "delta = tuple(1 for _ in range(2 * n))\n",
    "bench = Benchmark()"
   ]
  },
  {
   "cell_type": "code",
   "execution_count": 4,
   "metadata": {},
   "outputs": [],
   "source": [
    "Delta = .1\n",
    "min_p = 1\n",
    "max_p = 8"
   ]
  },
  {
   "cell_type": "code",
   "execution_count": 5,
   "metadata": {},
   "outputs": [
    {
     "name": "stdout",
     "output_type": "stream",
     "text": [
      "instance 0/6\n",
      "\t p = 1/8\n",
      "donestep 30\n",
      "\n",
      "Done Scipy_optim\n",
      "\n",
      "\t p = 2/8\n",
      "donestep 37\n",
      "\n",
      "Done Scipy_optim\n",
      "\n",
      "\t p = 3/8\n",
      "donestep 45\n",
      "\n",
      "Done Scipy_optim\n",
      "\n",
      "\t p = 4/8\n",
      "donestep 65\n",
      "\n",
      "Done Scipy_optim\n",
      "\n",
      "\t p = 5/8\n",
      "donestep 78\n",
      "\n",
      "Done Scipy_optim\n",
      "\n",
      "\t p = 6/8\n",
      "donestep 59\n",
      "\n",
      "Done Scipy_optim\n",
      "\n",
      "\t p = 7/8\n",
      "donestep 600\n",
      "\n",
      "Done Scipy_optim\n",
      "\n",
      "\t p = 8/8\n",
      "rhs step 144\r"
     ]
    },
    {
     "ename": "LinAlgError",
     "evalue": "singular matrix",
     "output_type": "error",
     "traceback": [
      "\u001b[0;31m---------------------------------------------------------------------------\u001b[0m",
      "\u001b[0;31mLinAlgError\u001b[0m                               Traceback (most recent call last)",
      "\u001b[1;32m/home/leonhard/Documents/Uni/Bachelor/Semester 8/Bachelorarbeit /TDVP_and_QAOA/benchmarks.ipynb Cell 5\u001b[0m in \u001b[0;36m<cell line: 1>\u001b[0;34m()\u001b[0m\n\u001b[1;32m      <a href='vscode-notebook-cell:/home/leonhard/Documents/Uni/Bachelor/Semester%208/Bachelorarbeit%20/TDVP_and_QAOA/benchmarks.ipynb#X11sZmlsZQ%3D%3D?line=2'>3</a>\u001b[0m \u001b[39mfor\u001b[39;00m p \u001b[39min\u001b[39;00m \u001b[39mrange\u001b[39m(min_p, max_p\u001b[39m+\u001b[39m\u001b[39m1\u001b[39m):\n\u001b[1;32m      <a href='vscode-notebook-cell:/home/leonhard/Documents/Uni/Bachelor/Semester%208/Bachelorarbeit%20/TDVP_and_QAOA/benchmarks.ipynb#X11sZmlsZQ%3D%3D?line=3'>4</a>\u001b[0m     \u001b[39mprint\u001b[39m(\u001b[39mf\u001b[39m\u001b[39m\"\u001b[39m\u001b[39m\\t\u001b[39;00m\u001b[39m p = \u001b[39m\u001b[39m{\u001b[39;00mp\u001b[39m}\u001b[39;00m\u001b[39m/\u001b[39m\u001b[39m{\u001b[39;00mmax_p\u001b[39m}\u001b[39;00m\u001b[39m\"\u001b[39m)\n\u001b[0;32m----> <a href='vscode-notebook-cell:/home/leonhard/Documents/Uni/Bachelor/Semester%208/Bachelorarbeit%20/TDVP_and_QAOA/benchmarks.ipynb#X11sZmlsZQ%3D%3D?line=4'>5</a>\u001b[0m     bench\u001b[39m.\u001b[39;49mrun(\n\u001b[1;32m      <a href='vscode-notebook-cell:/home/leonhard/Documents/Uni/Bachelor/Semester%208/Bachelorarbeit%20/TDVP_and_QAOA/benchmarks.ipynb#X11sZmlsZQ%3D%3D?line=5'>6</a>\u001b[0m         qaoa\u001b[39m=\u001b[39;49mQAOA(i\u001b[39m.\u001b[39;49mqubo,p\u001b[39m=\u001b[39;49mp),\n\u001b[1;32m      <a href='vscode-notebook-cell:/home/leonhard/Documents/Uni/Bachelor/Semester%208/Bachelorarbeit%20/TDVP_and_QAOA/benchmarks.ipynb#X11sZmlsZQ%3D%3D?line=6'>7</a>\u001b[0m         delta_0\u001b[39m=\u001b[39;49m\u001b[39mtuple\u001b[39;49m(\u001b[39m1\u001b[39;49m \u001b[39mfor\u001b[39;49;00m _ \u001b[39min\u001b[39;49;00m \u001b[39mrange\u001b[39;49m(\u001b[39m2\u001b[39;49m \u001b[39m*\u001b[39;49m p)),\n\u001b[1;32m      <a href='vscode-notebook-cell:/home/leonhard/Documents/Uni/Bachelor/Semester%208/Bachelorarbeit%20/TDVP_and_QAOA/benchmarks.ipynb#X11sZmlsZQ%3D%3D?line=7'>8</a>\u001b[0m         tdvp_stepsize\u001b[39m=\u001b[39;49m\u001b[39m1\u001b[39;49m,\n\u001b[1;32m      <a href='vscode-notebook-cell:/home/leonhard/Documents/Uni/Bachelor/Semester%208/Bachelorarbeit%20/TDVP_and_QAOA/benchmarks.ipynb#X11sZmlsZQ%3D%3D?line=8'>9</a>\u001b[0m         tdvp_grad_tol\u001b[39m=\u001b[39;49m\u001b[39m1e-3\u001b[39;49m,\n\u001b[1;32m     <a href='vscode-notebook-cell:/home/leonhard/Documents/Uni/Bachelor/Semester%208/Bachelorarbeit%20/TDVP_and_QAOA/benchmarks.ipynb#X11sZmlsZQ%3D%3D?line=9'>10</a>\u001b[0m         p\u001b[39m=\u001b[39;49mp,\n\u001b[1;32m     <a href='vscode-notebook-cell:/home/leonhard/Documents/Uni/Bachelor/Semester%208/Bachelorarbeit%20/TDVP_and_QAOA/benchmarks.ipynb#X11sZmlsZQ%3D%3D?line=10'>11</a>\u001b[0m         tdvp_lineq_solver\u001b[39m=\u001b[39;49m\u001b[39m\"\u001b[39;49m\u001b[39mRK45\u001b[39;49m\u001b[39m\"\u001b[39;49m,\n\u001b[1;32m     <a href='vscode-notebook-cell:/home/leonhard/Documents/Uni/Bachelor/Semester%208/Bachelorarbeit%20/TDVP_and_QAOA/benchmarks.ipynb#X11sZmlsZQ%3D%3D?line=11'>12</a>\u001b[0m     )\n\u001b[1;32m     <a href='vscode-notebook-cell:/home/leonhard/Documents/Uni/Bachelor/Semester%208/Bachelorarbeit%20/TDVP_and_QAOA/benchmarks.ipynb#X11sZmlsZQ%3D%3D?line=12'>13</a>\u001b[0m bench\u001b[39m.\u001b[39msave(\u001b[39mf\u001b[39m\u001b[39m\"\u001b[39m\u001b[39mn\u001b[39m\u001b[39m{\u001b[39;00m\u001b[39m4\u001b[39m\u001b[39m}\u001b[39;00m\u001b[39m_p-1-8_Delta-1_benchmarks.p\u001b[39m\u001b[39m\"\u001b[39m)\n",
      "File \u001b[0;32m~/Documents/Uni/Bachelor/Semester 8/Bachelorarbeit /TDVP_and_QAOA/benchmark.py:101\u001b[0m, in \u001b[0;36mBenchmark.run\u001b[0;34m(self, qaoa, delta_0, p, tdvp_stepsize, tdvp_grad_tol, tdvp_lineq_solver, max_steps)\u001b[0m\n\u001b[1;32m     99\u001b[0m \u001b[39mif\u001b[39;00m p \u001b[39mis\u001b[39;00m \u001b[39mnot\u001b[39;00m \u001b[39mNone\u001b[39;00m:\n\u001b[1;32m    100\u001b[0m     qaoa\u001b[39m.\u001b[39mp \u001b[39m=\u001b[39m p\n\u001b[0;32m--> 101\u001b[0m tdvp_res \u001b[39m=\u001b[39m tdvp_optimize_qaoa(\n\u001b[1;32m    102\u001b[0m     qaoa\u001b[39m=\u001b[39;49mqaoa,\n\u001b[1;32m    103\u001b[0m     delta_0\u001b[39m=\u001b[39;49mdelta_0,\n\u001b[1;32m    104\u001b[0m     Delta\u001b[39m=\u001b[39;49mtdvp_stepsize,\n\u001b[1;32m    105\u001b[0m     grad_tol\u001b[39m=\u001b[39;49mtdvp_grad_tol,\n\u001b[1;32m    106\u001b[0m     int_mode\u001b[39m=\u001b[39;49mtdvp_lineq_solver,\n\u001b[1;32m    107\u001b[0m     max_iter\u001b[39m=\u001b[39;49mmax_steps,\n\u001b[1;32m    108\u001b[0m )\n\u001b[1;32m    109\u001b[0m scipy_res \u001b[39m=\u001b[39m scipy_optimize(delta_0\u001b[39m=\u001b[39mdelta_0, qaoa\u001b[39m=\u001b[39mqaoa)\n\u001b[1;32m    110\u001b[0m \u001b[39mself\u001b[39m\u001b[39m.\u001b[39mresults\u001b[39m.\u001b[39mappend(\n\u001b[1;32m    111\u001b[0m     {\n\u001b[1;32m    112\u001b[0m         \u001b[39m\"\u001b[39m\u001b[39mqaoa\u001b[39m\u001b[39m\"\u001b[39m: qaoa,\n\u001b[0;32m   (...)\u001b[0m\n\u001b[1;32m    120\u001b[0m     }\n\u001b[1;32m    121\u001b[0m )\n",
      "File \u001b[0;32m~/Documents/Uni/Bachelor/Semester 8/Bachelorarbeit /TDVP_and_QAOA/qaoa_and_tdvp.py:1049\u001b[0m, in \u001b[0;36mtdvp_optimize_qaoa\u001b[0;34m(qaoa, delta_0, Delta, rhs_mode, int_mode, grad_tol, max_iter)\u001b[0m\n\u001b[1;32m   1047\u001b[0m t_0 \u001b[39m=\u001b[39m time()\n\u001b[1;32m   1048\u001b[0m \u001b[39m# solve the ODE\u001b[39;00m\n\u001b[0;32m-> 1049\u001b[0m int_result \u001b[39m=\u001b[39m integrate\u001b[39m.\u001b[39;49msolve_ivp(\n\u001b[1;32m   1050\u001b[0m     fun\u001b[39m=\u001b[39;49mtdvp_rhs,\n\u001b[1;32m   1051\u001b[0m     t_span\u001b[39m=\u001b[39;49m(\u001b[39m0\u001b[39;49m, Delta),\n\u001b[1;32m   1052\u001b[0m     y0\u001b[39m=\u001b[39;49mdelta_0,\n\u001b[1;32m   1053\u001b[0m     method\u001b[39m=\u001b[39;49mint_mode,\n\u001b[1;32m   1054\u001b[0m     events\u001b[39m=\u001b[39;49m[\n\u001b[1;32m   1055\u001b[0m         tdvp_terminal,  \u001b[39m# tdvp_max_steps\u001b[39;49;00m\n\u001b[1;32m   1056\u001b[0m     ],\n\u001b[1;32m   1057\u001b[0m )\n\u001b[1;32m   1058\u001b[0m \u001b[39mprint\u001b[39m(\u001b[39m\"\u001b[39m\u001b[39mdone\u001b[39m\u001b[39m\\n\u001b[39;00m\u001b[39m\"\u001b[39m)\n\u001b[1;32m   1059\u001b[0m dt \u001b[39m=\u001b[39m time() \u001b[39m-\u001b[39m t_0  \u001b[39m# time for integration\u001b[39;00m\n",
      "File \u001b[0;32m~/anaconda3/envs/qutip-env/lib/python3.10/site-packages/scipy/integrate/_ivp/ivp.py:589\u001b[0m, in \u001b[0;36msolve_ivp\u001b[0;34m(fun, t_span, y0, method, t_eval, dense_output, events, vectorized, args, **options)\u001b[0m\n\u001b[1;32m    587\u001b[0m status \u001b[39m=\u001b[39m \u001b[39mNone\u001b[39;00m\n\u001b[1;32m    588\u001b[0m \u001b[39mwhile\u001b[39;00m status \u001b[39mis\u001b[39;00m \u001b[39mNone\u001b[39;00m:\n\u001b[0;32m--> 589\u001b[0m     message \u001b[39m=\u001b[39m solver\u001b[39m.\u001b[39;49mstep()\n\u001b[1;32m    591\u001b[0m     \u001b[39mif\u001b[39;00m solver\u001b[39m.\u001b[39mstatus \u001b[39m==\u001b[39m \u001b[39m'\u001b[39m\u001b[39mfinished\u001b[39m\u001b[39m'\u001b[39m:\n\u001b[1;32m    592\u001b[0m         status \u001b[39m=\u001b[39m \u001b[39m0\u001b[39m\n",
      "File \u001b[0;32m~/anaconda3/envs/qutip-env/lib/python3.10/site-packages/scipy/integrate/_ivp/base.py:181\u001b[0m, in \u001b[0;36mOdeSolver.step\u001b[0;34m(self)\u001b[0m\n\u001b[1;32m    179\u001b[0m \u001b[39melse\u001b[39;00m:\n\u001b[1;32m    180\u001b[0m     t \u001b[39m=\u001b[39m \u001b[39mself\u001b[39m\u001b[39m.\u001b[39mt\n\u001b[0;32m--> 181\u001b[0m     success, message \u001b[39m=\u001b[39m \u001b[39mself\u001b[39;49m\u001b[39m.\u001b[39;49m_step_impl()\n\u001b[1;32m    183\u001b[0m     \u001b[39mif\u001b[39;00m \u001b[39mnot\u001b[39;00m success:\n\u001b[1;32m    184\u001b[0m         \u001b[39mself\u001b[39m\u001b[39m.\u001b[39mstatus \u001b[39m=\u001b[39m \u001b[39m'\u001b[39m\u001b[39mfailed\u001b[39m\u001b[39m'\u001b[39m\n",
      "File \u001b[0;32m~/anaconda3/envs/qutip-env/lib/python3.10/site-packages/scipy/integrate/_ivp/rk.py:144\u001b[0m, in \u001b[0;36mRungeKutta._step_impl\u001b[0;34m(self)\u001b[0m\n\u001b[1;32m    141\u001b[0m h \u001b[39m=\u001b[39m t_new \u001b[39m-\u001b[39m t\n\u001b[1;32m    142\u001b[0m h_abs \u001b[39m=\u001b[39m np\u001b[39m.\u001b[39mabs(h)\n\u001b[0;32m--> 144\u001b[0m y_new, f_new \u001b[39m=\u001b[39m rk_step(\u001b[39mself\u001b[39;49m\u001b[39m.\u001b[39;49mfun, t, y, \u001b[39mself\u001b[39;49m\u001b[39m.\u001b[39;49mf, h, \u001b[39mself\u001b[39;49m\u001b[39m.\u001b[39;49mA,\n\u001b[1;32m    145\u001b[0m                        \u001b[39mself\u001b[39;49m\u001b[39m.\u001b[39;49mB, \u001b[39mself\u001b[39;49m\u001b[39m.\u001b[39;49mC, \u001b[39mself\u001b[39;49m\u001b[39m.\u001b[39;49mK)\n\u001b[1;32m    146\u001b[0m scale \u001b[39m=\u001b[39m atol \u001b[39m+\u001b[39m np\u001b[39m.\u001b[39mmaximum(np\u001b[39m.\u001b[39mabs(y), np\u001b[39m.\u001b[39mabs(y_new)) \u001b[39m*\u001b[39m rtol\n\u001b[1;32m    147\u001b[0m error_norm \u001b[39m=\u001b[39m \u001b[39mself\u001b[39m\u001b[39m.\u001b[39m_estimate_error_norm(\u001b[39mself\u001b[39m\u001b[39m.\u001b[39mK, h, scale)\n",
      "File \u001b[0;32m~/anaconda3/envs/qutip-env/lib/python3.10/site-packages/scipy/integrate/_ivp/rk.py:64\u001b[0m, in \u001b[0;36mrk_step\u001b[0;34m(fun, t, y, f, h, A, B, C, K)\u001b[0m\n\u001b[1;32m     62\u001b[0m \u001b[39mfor\u001b[39;00m s, (a, c) \u001b[39min\u001b[39;00m \u001b[39menumerate\u001b[39m(\u001b[39mzip\u001b[39m(A[\u001b[39m1\u001b[39m:], C[\u001b[39m1\u001b[39m:]), start\u001b[39m=\u001b[39m\u001b[39m1\u001b[39m):\n\u001b[1;32m     63\u001b[0m     dy \u001b[39m=\u001b[39m np\u001b[39m.\u001b[39mdot(K[:s]\u001b[39m.\u001b[39mT, a[:s]) \u001b[39m*\u001b[39m h\n\u001b[0;32m---> 64\u001b[0m     K[s] \u001b[39m=\u001b[39m fun(t \u001b[39m+\u001b[39;49m c \u001b[39m*\u001b[39;49m h, y \u001b[39m+\u001b[39;49m dy)\n\u001b[1;32m     66\u001b[0m y_new \u001b[39m=\u001b[39m y \u001b[39m+\u001b[39m h \u001b[39m*\u001b[39m np\u001b[39m.\u001b[39mdot(K[:\u001b[39m-\u001b[39m\u001b[39m1\u001b[39m]\u001b[39m.\u001b[39mT, B)\n\u001b[1;32m     67\u001b[0m f_new \u001b[39m=\u001b[39m fun(t \u001b[39m+\u001b[39m h, y_new)\n",
      "File \u001b[0;32m~/anaconda3/envs/qutip-env/lib/python3.10/site-packages/scipy/integrate/_ivp/base.py:138\u001b[0m, in \u001b[0;36mOdeSolver.__init__.<locals>.fun\u001b[0;34m(t, y)\u001b[0m\n\u001b[1;32m    136\u001b[0m \u001b[39mdef\u001b[39;00m \u001b[39mfun\u001b[39m(t, y):\n\u001b[1;32m    137\u001b[0m     \u001b[39mself\u001b[39m\u001b[39m.\u001b[39mnfev \u001b[39m+\u001b[39m\u001b[39m=\u001b[39m \u001b[39m1\u001b[39m\n\u001b[0;32m--> 138\u001b[0m     \u001b[39mreturn\u001b[39;00m \u001b[39mself\u001b[39;49m\u001b[39m.\u001b[39;49mfun_single(t, y)\n",
      "File \u001b[0;32m~/anaconda3/envs/qutip-env/lib/python3.10/site-packages/scipy/integrate/_ivp/base.py:20\u001b[0m, in \u001b[0;36mcheck_arguments.<locals>.fun_wrapped\u001b[0;34m(t, y)\u001b[0m\n\u001b[1;32m     19\u001b[0m \u001b[39mdef\u001b[39;00m \u001b[39mfun_wrapped\u001b[39m(t, y):\n\u001b[0;32m---> 20\u001b[0m     \u001b[39mreturn\u001b[39;00m np\u001b[39m.\u001b[39masarray(fun(t, y), dtype\u001b[39m=\u001b[39mdtype)\n",
      "File \u001b[0;32m~/Documents/Uni/Bachelor/Semester 8/Bachelorarbeit /TDVP_and_QAOA/qaoa_and_tdvp.py:994\u001b[0m, in \u001b[0;36mtdvp_optimize_qaoa.<locals>.tdvp_rhs\u001b[0;34m(t, x)\u001b[0m\n\u001b[1;32m    992\u001b[0m rhs_step \u001b[39m+\u001b[39m\u001b[39m=\u001b[39m \u001b[39m1\u001b[39m\n\u001b[1;32m    993\u001b[0m \u001b[39mprint\u001b[39m(\u001b[39mf\u001b[39m\u001b[39m\"\u001b[39m\u001b[39mrhs step \u001b[39m\u001b[39m{\u001b[39;00mrhs_step\u001b[39m}\u001b[39;00m\u001b[39m\"\u001b[39m, end\u001b[39m=\u001b[39m\u001b[39m\"\u001b[39m\u001b[39m\\r\u001b[39;00m\u001b[39m\"\u001b[39m)\n\u001b[0;32m--> 994\u001b[0m \u001b[39mreturn\u001b[39;00m qaoa_tdvp_rhs(t, x, qaoa)\n",
      "File \u001b[0;32m~/Documents/Uni/Bachelor/Semester 8/Bachelorarbeit /TDVP_and_QAOA/qaoa_and_tdvp.py:925\u001b[0m, in \u001b[0;36mqaoa_tdvp_rhs\u001b[0;34m(t, x, qaoa)\u001b[0m\n\u001b[1;32m    913\u001b[0m \u001b[39m\"\"\"right hand side of linear equation system of tdvp. In the right format for the scipy solvers.\u001b[39;00m\n\u001b[1;32m    914\u001b[0m \u001b[39mUses the qaoa class to calculate the gradient and gram matrix.\u001b[39;00m\n\u001b[1;32m    915\u001b[0m \u001b[39mInverts the gram matrix using the scipy linalg.inv.\u001b[39;00m\n\u001b[0;32m   (...)\u001b[0m\n\u001b[1;32m    922\u001b[0m \u001b[39m    NDArray: the matrix defining the RHS of the equation\u001b[39;00m\n\u001b[1;32m    923\u001b[0m \u001b[39m\"\"\"\u001b[39;00m\n\u001b[1;32m    924\u001b[0m _ \u001b[39m=\u001b[39m t\n\u001b[0;32m--> 925\u001b[0m inv_real_gram \u001b[39m=\u001b[39m linalg\u001b[39m.\u001b[39;49minv(\u001b[39m2\u001b[39;49m \u001b[39m*\u001b[39;49m np\u001b[39m.\u001b[39;49mreal(qaoa\u001b[39m.\u001b[39;49mgram(x)))\n\u001b[1;32m    926\u001b[0m real_grad \u001b[39m=\u001b[39m \u001b[39m2\u001b[39m \u001b[39m*\u001b[39m np\u001b[39m.\u001b[39mreal(qaoa\u001b[39m.\u001b[39mgrad(x))\n\u001b[1;32m    927\u001b[0m \u001b[39mreturn\u001b[39;00m np\u001b[39m.\u001b[39marray(\u001b[39m-\u001b[39minv_real_gram \u001b[39m*\u001b[39m real_grad\u001b[39m.\u001b[39mT)\u001b[39m.\u001b[39mflatten()\n",
      "File \u001b[0;32m~/anaconda3/envs/qutip-env/lib/python3.10/site-packages/scipy/linalg/_basic.py:956\u001b[0m, in \u001b[0;36minv\u001b[0;34m(a, overwrite_a, check_finite)\u001b[0m\n\u001b[1;32m    954\u001b[0m     inv_a, info \u001b[39m=\u001b[39m getri(lu, piv, lwork\u001b[39m=\u001b[39mlwork, overwrite_lu\u001b[39m=\u001b[39m\u001b[39m1\u001b[39m)\n\u001b[1;32m    955\u001b[0m \u001b[39mif\u001b[39;00m info \u001b[39m>\u001b[39m \u001b[39m0\u001b[39m:\n\u001b[0;32m--> 956\u001b[0m     \u001b[39mraise\u001b[39;00m LinAlgError(\u001b[39m\"\u001b[39m\u001b[39msingular matrix\u001b[39m\u001b[39m\"\u001b[39m)\n\u001b[1;32m    957\u001b[0m \u001b[39mif\u001b[39;00m info \u001b[39m<\u001b[39m \u001b[39m0\u001b[39m:\n\u001b[1;32m    958\u001b[0m     \u001b[39mraise\u001b[39;00m \u001b[39mValueError\u001b[39;00m(\u001b[39m'\u001b[39m\u001b[39millegal value in \u001b[39m\u001b[39m%d\u001b[39;00m\u001b[39m-th argument of internal \u001b[39m\u001b[39m'\u001b[39m\n\u001b[1;32m    959\u001b[0m                      \u001b[39m'\u001b[39m\u001b[39mgetrf|getri\u001b[39m\u001b[39m'\u001b[39m \u001b[39m%\u001b[39m \u001b[39m-\u001b[39minfo)\n",
      "\u001b[0;31mLinAlgError\u001b[0m: singular matrix"
     ]
    }
   ],
   "source": [
    "for num, i in enumerate(instances):\n",
    "    print(f\"instance {num}/{len(instances)}\")\n",
    "    for p in range(min_p, max_p+1):\n",
    "        print(f\"\\t p = {p}/{max_p}\")\n",
    "        bench.run(\n",
    "            qaoa=QAOA(i.qubo,p=p),\n",
    "            delta_0=tuple(1 for _ in range(2 * p)),\n",
    "            tdvp_stepsize=1,\n",
    "            tdvp_grad_tol=1e-3,\n",
    "            p=p,\n",
    "            tdvp_lineq_solver=\"RK45\",\n",
    "        )\n",
    "    bench.save(f\"n{4}_p-1-8_Delta-1_benchmarks.p\")"
   ]
  },
  {
   "cell_type": "code",
   "execution_count": null,
   "metadata": {},
   "outputs": [],
   "source": [
    "n = 5\n",
    "with open(f\"./instances/n{n}_instances.p\",\"rb\") as f:\n",
    "    instances = pickle.load(f)\n",
    "delta = tuple(1 for _ in range(2 * n))\n",
    "bench = Benchmark()"
   ]
  },
  {
   "cell_type": "code",
   "execution_count": null,
   "metadata": {},
   "outputs": [],
   "source": [
    "for num, i in enumerate(instances):\n",
    "    print(f\"instance {num}/{len(instances)}\")\n",
    "    for p in range(min_p, max_p+1):\n",
    "        print(f\"\\t p = {p}/{max_p}\")\n",
    "        bench.run(\n",
    "            qaoa=QAOA(i.qubo,p=p),\n",
    "            delta_0=tuple(1 for _ in range(2 * p)),\n",
    "            tdvp_stepsize=1,\n",
    "            p=p\n",
    "            tdvp_grad_tol=1e-3,\n",
    "            tdvp_lineq_solver=\"RK45\",\n",
    "        )\n",
    "bench.save(f\"n{4}_p-{min_p}-{max_p}_Delta-1_benchmarks.p\")"
   ]
  },
  {
   "cell_type": "code",
   "execution_count": null,
   "metadata": {},
   "outputs": [],
   "source": []
  }
 ],
 "metadata": {
  "kernelspec": {
   "display_name": "Python 3.10.6 ('qutip-env')",
   "language": "python",
   "name": "python3"
  },
  "language_info": {
   "codemirror_mode": {
    "name": "ipython",
    "version": 3
   },
   "file_extension": ".py",
   "mimetype": "text/x-python",
   "name": "python",
   "nbconvert_exporter": "python",
   "pygments_lexer": "ipython3",
   "version": "3.10.6"
  },
  "varInspector": {
   "cols": {
    "lenName": 16,
    "lenType": 16,
    "lenVar": 40
   },
   "kernels_config": {
    "python": {
     "delete_cmd_postfix": "",
     "delete_cmd_prefix": "del ",
     "library": "var_list.py",
     "varRefreshCmd": "print(var_dic_list())"
    },
    "r": {
     "delete_cmd_postfix": ") ",
     "delete_cmd_prefix": "rm(",
     "library": "var_list.r",
     "varRefreshCmd": "cat(var_dic_list()) "
    }
   },
   "types_to_exclude": [
    "module",
    "function",
    "builtin_function_or_method",
    "instance",
    "_Feature"
   ],
   "window_display": false
  },
  "vscode": {
   "interpreter": {
    "hash": "a80aa0db24f0d8f4da104e952c9b4b8c2d82a7cad65209ea2caac9038cba2e45"
   }
  }
 },
 "nbformat": 4,
 "nbformat_minor": 2
}
