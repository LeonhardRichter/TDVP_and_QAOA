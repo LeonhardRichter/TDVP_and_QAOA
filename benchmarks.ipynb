{
 "cells": [
  {
   "cell_type": "code",
   "execution_count": 1,
   "metadata": {},
   "outputs": [],
   "source": [
    "%load_ext snakeviz"
   ]
  },
  {
   "cell_type": "code",
   "execution_count": 1,
   "metadata": {},
   "outputs": [],
   "source": [
    "from benchmark import Benchmark\n",
    "from quantum import H_from_qubo, Qobj\n",
    "from MaxCut import MaxCut\n",
    "\n",
    "from qutip.parallel import parallel_map, serial_map\n",
    "\n",
    "from qaoa_and_tdvp import QAOA, QAOAResult, qaoa_tdvp_rhs, tdvp_optimize_qaoa, scipy_optimize\n",
    "\n",
    "import pickle\n",
    "\n",
    "import numpy as np\n",
    "from numpy.typing import NDArray\n",
    "from typing import List, Tuple, Union, Optional, Callable, Any\n",
    "import networkx as nx\n",
    "import matplotlib.pyplot as plt\n",
    "import plotly as py\n",
    "\n",
    "import pandas as pd"
   ]
  },
  {
   "cell_type": "code",
   "execution_count": 2,
   "metadata": {},
   "outputs": [],
   "source": [
    "n = 4\n",
    "with open(f\"./instances/n{n}_instances.p\",\"rb\") as f:\n",
    "    instances = pickle.load(f)\n",
    "delta = tuple(1 for _ in range(2 * n))\n",
    "bench = Benchmark()"
   ]
  },
  {
   "cell_type": "code",
   "execution_count": 5,
   "metadata": {},
   "outputs": [],
   "source": [
    "with open(\"./benchmarks/Euler_p1-5_n4.p.p\", \"rb\") as f:\n",
    "    euler_bench = pickle.load(f)"
   ]
  },
  {
   "cell_type": "code",
   "execution_count": 4,
   "metadata": {},
   "outputs": [],
   "source": [
    "Delta = .1\n",
    "min_p =1\n",
    "max_p = 4"
   ]
  },
  {
   "cell_type": "code",
   "execution_count": 24,
   "metadata": {},
   "outputs": [
    {
     "name": "stdout",
     "output_type": "stream",
     "text": [
      "rhs step 28\r"
     ]
    }
   ],
   "source": [
    "# for this instance with p=4, Euler sovler did not succeed with grad_tol 1e-3 and Delta .1\n",
    "qaoa_hard = QAOA(instances[0].qubo, p=4)\n",
    "bench.run(qaoa_hard,delta_0=delta, tdvp_stepsize=1, p=4, tdvp_grad_tol=1e-3, tdvp_lineq_solver=\"RK45\")\n"
   ]
  },
  {
   "cell_type": "code",
   "execution_count": null,
   "metadata": {},
   "outputs": [],
   "source": [
    "bench.save(\"n_4_first_instance_p_4_RK45\")"
   ]
  },
  {
   "cell_type": "code",
   "execution_count": 3,
   "metadata": {},
   "outputs": [
    {
     "name": "stdout",
     "output_type": "stream",
     "text": [
      "instance 0/6\n",
      "\t p = 1/4\n",
      "rhs step 2\r"
     ]
    },
    {
     "ename": "KeyboardInterrupt",
     "evalue": "",
     "output_type": "error",
     "traceback": [
      "\u001b[0;31m---------------------------------------------------------------------------\u001b[0m",
      "\u001b[0;31mKeyboardInterrupt\u001b[0m                         Traceback (most recent call last)",
      "\u001b[1;32m/home/leonhard/Documents/Uni/Bachelor/Semester 8/Bachelorarbeit /TDVP_and_QAOA/benchmarks.ipynb Cell 6\u001b[0m in \u001b[0;36m<cell line: 5>\u001b[0;34m()\u001b[0m\n\u001b[1;32m      <a href='vscode-notebook-cell:/home/leonhard/Documents/Uni/Bachelor/Semester%208/Bachelorarbeit%20/TDVP_and_QAOA/benchmarks.ipynb#W5sZmlsZQ%3D%3D?line=7'>8</a>\u001b[0m \u001b[39mfor\u001b[39;00m p \u001b[39min\u001b[39;00m \u001b[39mrange\u001b[39m(min_p, max_p\u001b[39m+\u001b[39m\u001b[39m1\u001b[39m):\n\u001b[1;32m      <a href='vscode-notebook-cell:/home/leonhard/Documents/Uni/Bachelor/Semester%208/Bachelorarbeit%20/TDVP_and_QAOA/benchmarks.ipynb#W5sZmlsZQ%3D%3D?line=8'>9</a>\u001b[0m     \u001b[39mprint\u001b[39m(\u001b[39mf\u001b[39m\u001b[39m\"\u001b[39m\u001b[39m\\t\u001b[39;00m\u001b[39m p = \u001b[39m\u001b[39m{\u001b[39;00mp\u001b[39m}\u001b[39;00m\u001b[39m/\u001b[39m\u001b[39m{\u001b[39;00mmax_p\u001b[39m}\u001b[39;00m\u001b[39m\"\u001b[39m)\n\u001b[0;32m---> <a href='vscode-notebook-cell:/home/leonhard/Documents/Uni/Bachelor/Semester%208/Bachelorarbeit%20/TDVP_and_QAOA/benchmarks.ipynb#W5sZmlsZQ%3D%3D?line=9'>10</a>\u001b[0m     bench\u001b[39m.\u001b[39;49mrun(\n\u001b[1;32m     <a href='vscode-notebook-cell:/home/leonhard/Documents/Uni/Bachelor/Semester%208/Bachelorarbeit%20/TDVP_and_QAOA/benchmarks.ipynb#W5sZmlsZQ%3D%3D?line=10'>11</a>\u001b[0m         qaoa\u001b[39m=\u001b[39;49mQAOA(i\u001b[39m.\u001b[39;49mqubo,p\u001b[39m=\u001b[39;49mp),\n\u001b[1;32m     <a href='vscode-notebook-cell:/home/leonhard/Documents/Uni/Bachelor/Semester%208/Bachelorarbeit%20/TDVP_and_QAOA/benchmarks.ipynb#W5sZmlsZQ%3D%3D?line=11'>12</a>\u001b[0m         delta_0\u001b[39m=\u001b[39;49m\u001b[39mtuple\u001b[39;49m(\u001b[39m1\u001b[39;49m \u001b[39mfor\u001b[39;49;00m _ \u001b[39min\u001b[39;49;00m \u001b[39mrange\u001b[39;49m(\u001b[39m2\u001b[39;49m \u001b[39m*\u001b[39;49m p)),\n\u001b[1;32m     <a href='vscode-notebook-cell:/home/leonhard/Documents/Uni/Bachelor/Semester%208/Bachelorarbeit%20/TDVP_and_QAOA/benchmarks.ipynb#W5sZmlsZQ%3D%3D?line=12'>13</a>\u001b[0m         tdvp_stepsize\u001b[39m=\u001b[39;49mDelta,\n\u001b[1;32m     <a href='vscode-notebook-cell:/home/leonhard/Documents/Uni/Bachelor/Semester%208/Bachelorarbeit%20/TDVP_and_QAOA/benchmarks.ipynb#W5sZmlsZQ%3D%3D?line=13'>14</a>\u001b[0m         tdvp_grad_tol\u001b[39m=\u001b[39;49m\u001b[39m1e-3\u001b[39;49m,\n\u001b[1;32m     <a href='vscode-notebook-cell:/home/leonhard/Documents/Uni/Bachelor/Semester%208/Bachelorarbeit%20/TDVP_and_QAOA/benchmarks.ipynb#W5sZmlsZQ%3D%3D?line=14'>15</a>\u001b[0m         tdvp_lineq_solver\u001b[39m=\u001b[39;49m\u001b[39m\"\u001b[39;49m\u001b[39meuler\u001b[39;49m\u001b[39m\"\u001b[39;49m,\n\u001b[1;32m     <a href='vscode-notebook-cell:/home/leonhard/Documents/Uni/Bachelor/Semester%208/Bachelorarbeit%20/TDVP_and_QAOA/benchmarks.ipynb#W5sZmlsZQ%3D%3D?line=15'>16</a>\u001b[0m     )\n\u001b[1;32m     <a href='vscode-notebook-cell:/home/leonhard/Documents/Uni/Bachelor/Semester%208/Bachelorarbeit%20/TDVP_and_QAOA/benchmarks.ipynb#W5sZmlsZQ%3D%3D?line=16'>17</a>\u001b[0m     instance_results[p] \u001b[39m=\u001b[39m bench\u001b[39m.\u001b[39mresults\n\u001b[1;32m     <a href='vscode-notebook-cell:/home/leonhard/Documents/Uni/Bachelor/Semester%208/Bachelorarbeit%20/TDVP_and_QAOA/benchmarks.ipynb#W5sZmlsZQ%3D%3D?line=17'>18</a>\u001b[0m results\u001b[39m.\u001b[39mappend((i, instance_results))\n",
      "File \u001b[0;32m~/Documents/Uni/Bachelor/Semester 8/Bachelorarbeit /TDVP_and_QAOA/benchmark.py:100\u001b[0m, in \u001b[0;36mBenchmark.run\u001b[0;34m(self, qaoa, delta_0, p, tdvp_stepsize, tdvp_grad_tol, tdvp_lineq_solver)\u001b[0m\n\u001b[1;32m     98\u001b[0m \u001b[39mif\u001b[39;00m p \u001b[39mis\u001b[39;00m \u001b[39mnot\u001b[39;00m \u001b[39mNone\u001b[39;00m:\n\u001b[1;32m     99\u001b[0m     qaoa\u001b[39m.\u001b[39mp \u001b[39m=\u001b[39m p\n\u001b[0;32m--> 100\u001b[0m tdvp_res \u001b[39m=\u001b[39m tdvp_optimize_qaoa(\n\u001b[1;32m    101\u001b[0m     qaoa\u001b[39m=\u001b[39;49mqaoa,\n\u001b[1;32m    102\u001b[0m     delta_0\u001b[39m=\u001b[39;49mdelta_0,\n\u001b[1;32m    103\u001b[0m     Delta\u001b[39m=\u001b[39;49mtdvp_stepsize,\n\u001b[1;32m    104\u001b[0m     grad_tol\u001b[39m=\u001b[39;49mtdvp_grad_tol,\n\u001b[1;32m    105\u001b[0m     int_mode\u001b[39m=\u001b[39;49mtdvp_lineq_solver,\n\u001b[1;32m    106\u001b[0m )\n\u001b[1;32m    107\u001b[0m scipy_res \u001b[39m=\u001b[39m scipy_optimize(delta_0\u001b[39m=\u001b[39mdelta_0, qaoa\u001b[39m=\u001b[39mqaoa)\n\u001b[1;32m    108\u001b[0m \u001b[39mself\u001b[39m\u001b[39m.\u001b[39mresults\u001b[39m.\u001b[39mappend(\n\u001b[1;32m    109\u001b[0m     {\n\u001b[1;32m    110\u001b[0m         \u001b[39m\"\u001b[39m\u001b[39mtdvp\u001b[39m\u001b[39m\"\u001b[39m: tdvp_res,\n\u001b[0;32m   (...)\u001b[0m\n\u001b[1;32m    117\u001b[0m     }\n\u001b[1;32m    118\u001b[0m )\n",
      "File \u001b[0;32m~/Documents/Uni/Bachelor/Semester 8/Bachelorarbeit /TDVP_and_QAOA/qaoa_and_tdvp.py:958\u001b[0m, in \u001b[0;36mtdvp_optimize_qaoa\u001b[0;34m(qaoa, delta_0, Delta, rhs_mode, int_mode, grad_tol, max_iter)\u001b[0m\n\u001b[1;32m    956\u001b[0m \u001b[39m# perform the solving loop\u001b[39;00m\n\u001b[1;32m    957\u001b[0m \u001b[39mwhile\u001b[39;00m rhs_step \u001b[39m<\u001b[39m max_iter:\n\u001b[0;32m--> 958\u001b[0m     rhs \u001b[39m=\u001b[39m tdvp_rhs(\u001b[39m0\u001b[39;49m, delta)  \u001b[39m# tdvp_rhs increases rhs_step by 1\u001b[39;00m\n\u001b[1;32m    959\u001b[0m     delta \u001b[39m=\u001b[39m delta \u001b[39m+\u001b[39m Delta \u001b[39m*\u001b[39m rhs\n\u001b[1;32m    960\u001b[0m     \u001b[39mif\u001b[39;00m linalg\u001b[39m.\u001b[39mnorm(rhs) \u001b[39m<\u001b[39m grad_tol:  \u001b[39m# break when gradient is small enough\u001b[39;00m\n",
      "File \u001b[0;32m~/Documents/Uni/Bachelor/Semester 8/Bachelorarbeit /TDVP_and_QAOA/qaoa_and_tdvp.py:928\u001b[0m, in \u001b[0;36mtdvp_optimize_qaoa.<locals>.tdvp_rhs\u001b[0;34m(t, x)\u001b[0m\n\u001b[1;32m    926\u001b[0m rhs_step \u001b[39m+\u001b[39m\u001b[39m=\u001b[39m \u001b[39m1\u001b[39m\n\u001b[1;32m    927\u001b[0m \u001b[39mprint\u001b[39m(\u001b[39mf\u001b[39m\u001b[39m\"\u001b[39m\u001b[39mrhs step \u001b[39m\u001b[39m{\u001b[39;00mrhs_step\u001b[39m}\u001b[39;00m\u001b[39m\"\u001b[39m, end\u001b[39m=\u001b[39m\u001b[39m\"\u001b[39m\u001b[39m\\r\u001b[39;00m\u001b[39m\"\u001b[39m)\n\u001b[0;32m--> 928\u001b[0m \u001b[39mreturn\u001b[39;00m qaoa_tdvp_rhs(t, x, qaoa)\n",
      "File \u001b[0;32m~/Documents/Uni/Bachelor/Semester 8/Bachelorarbeit /TDVP_and_QAOA/qaoa_and_tdvp.py:860\u001b[0m, in \u001b[0;36mqaoa_tdvp_rhs\u001b[0;34m(t, x, qaoa)\u001b[0m\n\u001b[1;32m    858\u001b[0m _ \u001b[39m=\u001b[39m t\n\u001b[1;32m    859\u001b[0m inv_real_gram \u001b[39m=\u001b[39m linalg\u001b[39m.\u001b[39minv(\u001b[39m2\u001b[39m \u001b[39m*\u001b[39m np\u001b[39m.\u001b[39mreal(qaoa\u001b[39m.\u001b[39mgram(x)))\n\u001b[0;32m--> 860\u001b[0m real_grad \u001b[39m=\u001b[39m \u001b[39m2\u001b[39m \u001b[39m*\u001b[39m np\u001b[39m.\u001b[39mreal(qaoa\u001b[39m.\u001b[39;49mgrad(x))\n\u001b[1;32m    861\u001b[0m \u001b[39mreturn\u001b[39;00m np\u001b[39m.\u001b[39marray(\u001b[39m-\u001b[39minv_real_gram \u001b[39m*\u001b[39m real_grad\u001b[39m.\u001b[39mT)\u001b[39m.\u001b[39mflatten()\n",
      "File \u001b[0;32m~/Documents/Uni/Bachelor/Semester 8/Bachelorarbeit /TDVP_and_QAOA/qaoa_and_tdvp.py:559\u001b[0m, in \u001b[0;36mQAOA.grad\u001b[0;34m(self, delta)\u001b[0m\n\u001b[1;32m    553\u001b[0m \u001b[39mdef\u001b[39;00m \u001b[39mgrad\u001b[39m(\n\u001b[1;32m    554\u001b[0m     \u001b[39mself\u001b[39m,\n\u001b[1;32m    555\u001b[0m     delta: \u001b[39mtuple\u001b[39m[\u001b[39mfloat\u001b[39m],\n\u001b[1;32m    556\u001b[0m     \u001b[39m# **kwargs #not sure if necessary\u001b[39;00m\n\u001b[1;32m    557\u001b[0m ) \u001b[39m-\u001b[39m\u001b[39m>\u001b[39m NDArray:\n\u001b[1;32m    558\u001b[0m     \u001b[39mreturn\u001b[39;00m np\u001b[39m.\u001b[39mmatrix(\n\u001b[0;32m--> 559\u001b[0m         \u001b[39mself\u001b[39;49m\u001b[39m.\u001b[39;49mmapping(\u001b[39mself\u001b[39;49m\u001b[39m.\u001b[39;49m_grad_element, \u001b[39mrange\u001b[39;49m(\u001b[39mlen\u001b[39;49m(delta)), task_args\u001b[39m=\u001b[39;49m(delta,))\n\u001b[1;32m    560\u001b[0m     )\n",
      "File \u001b[0;32m~/anaconda3/envs/qutip-env/lib/python3.10/site-packages/qutip/parallel.py:230\u001b[0m, in \u001b[0;36mparallel_map\u001b[0;34m(task, values, task_args, task_kwargs, **kwargs)\u001b[0m\n\u001b[1;32m    228\u001b[0m     pool\u001b[39m.\u001b[39mterminate()\n\u001b[1;32m    229\u001b[0m     pool\u001b[39m.\u001b[39mjoin()\n\u001b[0;32m--> 230\u001b[0m     \u001b[39mraise\u001b[39;00m e\n\u001b[1;32m    232\u001b[0m progress_bar\u001b[39m.\u001b[39mfinished()\n\u001b[1;32m    233\u001b[0m os\u001b[39m.\u001b[39menviron[\u001b[39m'\u001b[39m\u001b[39mQUTIP_IN_PARALLEL\u001b[39m\u001b[39m'\u001b[39m] \u001b[39m=\u001b[39m \u001b[39m'\u001b[39m\u001b[39mFALSE\u001b[39m\u001b[39m'\u001b[39m\n",
      "File \u001b[0;32m~/anaconda3/envs/qutip-env/lib/python3.10/site-packages/qutip/parallel.py:221\u001b[0m, in \u001b[0;36mparallel_map\u001b[0;34m(task, values, task_args, task_kwargs, **kwargs)\u001b[0m\n\u001b[1;32m    219\u001b[0m \u001b[39mwhile\u001b[39;00m \u001b[39mnot\u001b[39;00m \u001b[39mall\u001b[39m([ar\u001b[39m.\u001b[39mready() \u001b[39mfor\u001b[39;00m ar \u001b[39min\u001b[39;00m async_res]):\n\u001b[1;32m    220\u001b[0m     \u001b[39mfor\u001b[39;00m ar \u001b[39min\u001b[39;00m async_res:\n\u001b[0;32m--> 221\u001b[0m         ar\u001b[39m.\u001b[39;49mwait(timeout\u001b[39m=\u001b[39;49m\u001b[39m0.1\u001b[39;49m)\n\u001b[1;32m    223\u001b[0m pool\u001b[39m.\u001b[39mterminate()\n\u001b[1;32m    224\u001b[0m pool\u001b[39m.\u001b[39mjoin()\n",
      "File \u001b[0;32m~/anaconda3/envs/qutip-env/lib/python3.10/multiprocessing/pool.py:765\u001b[0m, in \u001b[0;36mApplyResult.wait\u001b[0;34m(self, timeout)\u001b[0m\n\u001b[1;32m    764\u001b[0m \u001b[39mdef\u001b[39;00m \u001b[39mwait\u001b[39m(\u001b[39mself\u001b[39m, timeout\u001b[39m=\u001b[39m\u001b[39mNone\u001b[39;00m):\n\u001b[0;32m--> 765\u001b[0m     \u001b[39mself\u001b[39;49m\u001b[39m.\u001b[39;49m_event\u001b[39m.\u001b[39;49mwait(timeout)\n",
      "File \u001b[0;32m~/anaconda3/envs/qutip-env/lib/python3.10/threading.py:607\u001b[0m, in \u001b[0;36mEvent.wait\u001b[0;34m(self, timeout)\u001b[0m\n\u001b[1;32m    605\u001b[0m signaled \u001b[39m=\u001b[39m \u001b[39mself\u001b[39m\u001b[39m.\u001b[39m_flag\n\u001b[1;32m    606\u001b[0m \u001b[39mif\u001b[39;00m \u001b[39mnot\u001b[39;00m signaled:\n\u001b[0;32m--> 607\u001b[0m     signaled \u001b[39m=\u001b[39m \u001b[39mself\u001b[39;49m\u001b[39m.\u001b[39;49m_cond\u001b[39m.\u001b[39;49mwait(timeout)\n\u001b[1;32m    608\u001b[0m \u001b[39mreturn\u001b[39;00m signaled\n",
      "File \u001b[0;32m~/anaconda3/envs/qutip-env/lib/python3.10/threading.py:324\u001b[0m, in \u001b[0;36mCondition.wait\u001b[0;34m(self, timeout)\u001b[0m\n\u001b[1;32m    322\u001b[0m \u001b[39melse\u001b[39;00m:\n\u001b[1;32m    323\u001b[0m     \u001b[39mif\u001b[39;00m timeout \u001b[39m>\u001b[39m \u001b[39m0\u001b[39m:\n\u001b[0;32m--> 324\u001b[0m         gotit \u001b[39m=\u001b[39m waiter\u001b[39m.\u001b[39;49macquire(\u001b[39mTrue\u001b[39;49;00m, timeout)\n\u001b[1;32m    325\u001b[0m     \u001b[39melse\u001b[39;00m:\n\u001b[1;32m    326\u001b[0m         gotit \u001b[39m=\u001b[39m waiter\u001b[39m.\u001b[39macquire(\u001b[39mFalse\u001b[39;00m)\n",
      "\u001b[0;31mKeyboardInterrupt\u001b[0m: "
     ]
    }
   ],
   "source": [
    "results = list()\n",
    "for num, i in enumerate(instances):\n",
    "    print(f\"instance {num}/{len(instances)}\")\n",
    "    instance_results = dict()\n",
    "    for p in range(min_p, max_p+1):\n",
    "        print(f\"\\t p = {p}/{max_p}\")\n",
    "        bench.run(\n",
    "            qaoa=QAOA(i.qubo,p=p),\n",
    "            delta_0=tuple(1 for _ in range(2 * p)),\n",
    "            tdvp_stepsize=Delta,\n",
    "            tdvp_grad_tol=1e-3,\n",
    "            p=p,\n",
    "            tdvp_lineq_solver=\"euler\",\n",
    "        )\n",
    "        instance_results[p] = bench.results\n",
    "    results.append((i, instance_results))\n",
    "    bench.save(\"Euler_p1-5_n4.p\")"
   ]
  },
  {
   "cell_type": "code",
   "execution_count": null,
   "metadata": {},
   "outputs": [],
   "source": [
    "n = 5\n",
    "with open(f\"./instances/n{n}_instances.p\",\"rb\") as f:\n",
    "    instances = pickle.load(f)\n",
    "delta = tuple(1 for _ in range(2 * n))\n",
    "bench = Benchmark()"
   ]
  },
  {
   "cell_type": "code",
   "execution_count": null,
   "metadata": {},
   "outputs": [],
   "source": [
    "Delta = .1\n",
    "min_p =1\n",
    "max_p = 4\n",
    "results = list()\n",
    "for num, i in enumerate(instances):\n",
    "    print(f\"instance {num}/{len(instances)}\")\n",
    "    instance_results = dict()\n",
    "    for p in range(min_p, max_p+1):\n",
    "        print(f\"\\t p = {p}/{max_p}\")\n",
    "        bench.run(\n",
    "            qaoa=QAOA(i.qubo,p=p),\n",
    "            delta_0=tuple(1 for _ in range(2 * p)),\n",
    "            tdvp_stepsize=Delta,\n",
    "            tdvp_grad_tol=1e-3,\n",
    "            tdvp_lineq_solver=\"euler\",\n",
    "        )\n",
    "        instance_results[p] = bench.results\n",
    "    results.append((i, instance_results))\n",
    "    bench.save(\"Euler_p1-5_n5.p\")"
   ]
  },
  {
   "cell_type": "code",
   "execution_count": null,
   "metadata": {},
   "outputs": [],
   "source": [
    "import os\n",
    "os.system('shutdown -s -t 1')"
   ]
  }
 ],
 "metadata": {
  "kernelspec": {
   "display_name": "Python 3 (ipykernel)",
   "language": "python",
   "name": "python3"
  },
  "language_info": {
   "codemirror_mode": {
    "name": "ipython",
    "version": 3
   },
   "file_extension": ".py",
   "mimetype": "text/x-python",
   "name": "python",
   "nbconvert_exporter": "python",
   "pygments_lexer": "ipython3",
   "version": "3.10.6"
  },
  "varInspector": {
   "cols": {
    "lenName": 16,
    "lenType": 16,
    "lenVar": 40
   },
   "kernels_config": {
    "python": {
     "delete_cmd_postfix": "",
     "delete_cmd_prefix": "del ",
     "library": "var_list.py",
     "varRefreshCmd": "print(var_dic_list())"
    },
    "r": {
     "delete_cmd_postfix": ") ",
     "delete_cmd_prefix": "rm(",
     "library": "var_list.r",
     "varRefreshCmd": "cat(var_dic_list()) "
    }
   },
   "types_to_exclude": [
    "module",
    "function",
    "builtin_function_or_method",
    "instance",
    "_Feature"
   ],
   "window_display": false
  },
  "vscode": {
   "interpreter": {
    "hash": "fe45c953e7d91ced0867b19789acd0ab1d9439aa0b1f4fae31fd46e88f74aeab"
   }
  }
 },
 "nbformat": 4,
 "nbformat_minor": 2
}
