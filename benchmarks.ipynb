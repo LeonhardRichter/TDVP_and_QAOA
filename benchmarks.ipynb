{
 "cells": [
  {
   "cell_type": "code",
   "execution_count": 1,
   "metadata": {
    "pycharm": {
     "name": "#%%\n"
    }
   },
   "outputs": [],
   "source": [
    "from benchmark import Benchmark, benchmark_pandas\n",
    "from quantum import H_from_qubo, Qobj\n",
    "from MaxCut import MaxCut\n",
    "\n",
    "from qutip.parallel import parallel_map, serial_map\n",
    "\n",
    "from qaoa_and_tdvp import QAOA, QAOAResult, qaoa_tdvp_rhs, tdvp_optimize_qaoa, scipy_optimize\n",
    "\n",
    "import pickle\n",
    "\n",
    "import numpy as np\n",
    "from numpy.typing import NDArray\n",
    "from typing import List, Tuple, Union, Optional, Callable, Any\n",
    "import networkx as nx\n",
    "import matplotlib.pyplot as plt\n",
    "import plotly as py\n",
    "\n",
    "import pandas as pd"
   ]
  },
  {
   "cell_type": "code",
   "execution_count": 2,
   "metadata": {
    "pycharm": {
     "name": "#%%\n"
    }
   },
   "outputs": [],
   "source": [
    "# n = 6\n",
    "# min_p = 1\n",
    "# max_p = 5\n",
    "# with open(f\"./instances/n{n}_instances.p\",\"rb\") as f:\n",
    "#     instances = pickle.load(f)\n",
    "# delta = tuple(1 for _ in range(2 * n))\n",
    "# results = list()\n",
    "# for p in range(min_p, max_p + 1):\n",
    "#     for i in instances:\n",
    "#         benchmark_pandas(i,p, optimizers={\"scipy\": True, \"tdvp\": True},tollarance=0.01, auto_save=False, path=f\"../benchmarks/n{n}p{p}_part.p\")"
   ]
  },
  {
   "cell_type": "code",
   "execution_count": 3,
   "metadata": {
    "pycharm": {
     "name": "#%%\n"
    }
   },
   "outputs": [
    {
     "name": "stdout",
     "output_type": "stream",
     "text": [
      "instance 0/6\n",
      "\t p = 1/5\n",
      "Done Scipy_optim\n",
      "\n",
      "donestep 52\n",
      "\n",
      "(0.7825060145768947, 1.1303744630416939)\n",
      "\t p = 2/5\n",
      "Done Scipy_optim\n",
      "\n",
      "donestep 245\n",
      "\n",
      "(0.6986787335706295, 0.3069408770804383)\n"
     ]
    },
    {
     "ename": "AssertionError",
     "evalue": "",
     "output_type": "error",
     "traceback": [
      "\u001B[0;31m---------------------------------------------------------------------------\u001B[0m",
      "\u001B[0;31mAssertionError\u001B[0m                            Traceback (most recent call last)",
      "Cell \u001B[0;32mIn [3], line 13\u001B[0m\n\u001B[1;32m     11\u001B[0m \u001B[38;5;28;01mfor\u001B[39;00m p \u001B[38;5;129;01min\u001B[39;00m \u001B[38;5;28mrange\u001B[39m(min_p, max_p\u001B[38;5;241m+\u001B[39m\u001B[38;5;241m1\u001B[39m):\n\u001B[1;32m     12\u001B[0m     \u001B[38;5;28mprint\u001B[39m(\u001B[38;5;124mf\u001B[39m\u001B[38;5;124m\"\u001B[39m\u001B[38;5;130;01m\\t\u001B[39;00m\u001B[38;5;124m p = \u001B[39m\u001B[38;5;132;01m{\u001B[39;00mp\u001B[38;5;132;01m}\u001B[39;00m\u001B[38;5;124m/\u001B[39m\u001B[38;5;132;01m{\u001B[39;00mmax_p\u001B[38;5;132;01m}\u001B[39;00m\u001B[38;5;124m\"\u001B[39m)\n\u001B[0;32m---> 13\u001B[0m     \u001B[43mbench\u001B[49m\u001B[38;5;241;43m.\u001B[39;49m\u001B[43mrun\u001B[49m\u001B[43m(\u001B[49m\n\u001B[1;32m     14\u001B[0m \u001B[43m        \u001B[49m\u001B[43mi\u001B[49m\u001B[43m,\u001B[49m\n\u001B[1;32m     15\u001B[0m \u001B[43m        \u001B[49m\u001B[43mdelta_0\u001B[49m\u001B[38;5;241;43m=\u001B[39;49m\u001B[38;5;28;43mtuple\u001B[39;49m\u001B[43m(\u001B[49m\u001B[38;5;241;43m1\u001B[39;49m\u001B[43m \u001B[49m\u001B[38;5;28;43;01mfor\u001B[39;49;00m\u001B[43m \u001B[49m\u001B[43m_\u001B[49m\u001B[43m \u001B[49m\u001B[38;5;129;43;01min\u001B[39;49;00m\u001B[43m \u001B[49m\u001B[38;5;28;43mrange\u001B[39;49m\u001B[43m(\u001B[49m\u001B[38;5;241;43m2\u001B[39;49m\u001B[43m \u001B[49m\u001B[38;5;241;43m*\u001B[39;49m\u001B[43m \u001B[49m\u001B[43mp\u001B[49m\u001B[43m)\u001B[49m\u001B[43m)\u001B[49m\u001B[43m,\u001B[49m\n\u001B[1;32m     16\u001B[0m \u001B[43m        \u001B[49m\u001B[43mp\u001B[49m\u001B[38;5;241;43m=\u001B[39;49m\u001B[43mp\u001B[49m\u001B[43m,\u001B[49m\n\u001B[1;32m     17\u001B[0m \u001B[43m        \u001B[49m\u001B[43mtdvp_range\u001B[49m\u001B[38;5;241;43m=\u001B[39;49m\u001B[38;5;241;43m100\u001B[39;49m\u001B[43m,\u001B[49m\n\u001B[1;32m     18\u001B[0m \u001B[43m        \u001B[49m\u001B[43mtollarance\u001B[49m\u001B[38;5;241;43m=\u001B[39;49m\u001B[38;5;241;43m1e-2\u001B[39;49m\u001B[43m,\u001B[49m\n\u001B[1;32m     19\u001B[0m \u001B[43m        \u001B[49m\u001B[43mtdvp_lineq_solver\u001B[49m\u001B[38;5;241;43m=\u001B[39;49m\u001B[38;5;124;43m\"\u001B[39;49m\u001B[38;5;124;43mRK45\u001B[39;49m\u001B[38;5;124;43m\"\u001B[39;49m\u001B[43m,\u001B[49m\n\u001B[1;32m     20\u001B[0m \u001B[43m    \u001B[49m\u001B[43m)\u001B[49m\n\u001B[1;32m     21\u001B[0m     bench\u001B[38;5;241m.\u001B[39msave(\u001B[38;5;124mf\u001B[39m\u001B[38;5;124m\"\u001B[39m\u001B[38;5;124mRK45_n\u001B[39m\u001B[38;5;132;01m{\u001B[39;00mn\u001B[38;5;132;01m}\u001B[39;00m\u001B[38;5;124m_p-1-8_Delta-1_benchmarks.p\u001B[39m\u001B[38;5;124m\"\u001B[39m)\n",
      "File \u001B[0;32m~/Documents/Uni/Bachelorarbeit /TDVP_and_QAOA/benchmark.py:138\u001B[0m, in \u001B[0;36mBenchmark.run\u001B[0;34m(self, instance, delta_0, p, tdvp_range, tollarance, tdvp_lineq_solver, max_steps, record_path)\u001B[0m\n\u001B[1;32m    135\u001B[0m     scipy_res\u001B[38;5;241m.\u001B[39mqaoa \u001B[38;5;241m=\u001B[39m qaoa\n\u001B[1;32m    137\u001B[0m \u001B[38;5;28;01mtry\u001B[39;00m:\n\u001B[0;32m--> 138\u001B[0m     tdvp_res \u001B[38;5;241m=\u001B[39m \u001B[43mtdvp_optimize_qaoa\u001B[49m\u001B[43m(\u001B[49m\n\u001B[1;32m    139\u001B[0m \u001B[43m        \u001B[49m\u001B[43mqaoa\u001B[49m\u001B[38;5;241;43m=\u001B[39;49m\u001B[43mqaoa\u001B[49m\u001B[43m,\u001B[49m\n\u001B[1;32m    140\u001B[0m \u001B[43m        \u001B[49m\u001B[43mdelta_0\u001B[49m\u001B[38;5;241;43m=\u001B[39;49m\u001B[43mdelta_0\u001B[49m\u001B[43m,\u001B[49m\n\u001B[1;32m    141\u001B[0m \u001B[43m        \u001B[49m\u001B[43mDelta\u001B[49m\u001B[38;5;241;43m=\u001B[39;49m\u001B[43mtdvp_range\u001B[49m\u001B[43m,\u001B[49m\n\u001B[1;32m    142\u001B[0m \u001B[43m        \u001B[49m\u001B[43mgrad_tol\u001B[49m\u001B[38;5;241;43m=\u001B[39;49m\u001B[43mtollarance\u001B[49m\u001B[43m,\u001B[49m\n\u001B[1;32m    143\u001B[0m \u001B[43m        \u001B[49m\u001B[43mint_mode\u001B[49m\u001B[38;5;241;43m=\u001B[39;49m\u001B[43mtdvp_lineq_solver\u001B[49m\u001B[43m,\u001B[49m\n\u001B[1;32m    144\u001B[0m \u001B[43m        \u001B[49m\u001B[43mmax_iter\u001B[49m\u001B[38;5;241;43m=\u001B[39;49m\u001B[43mmax_steps\u001B[49m\u001B[43m,\u001B[49m\n\u001B[1;32m    145\u001B[0m \u001B[43m    \u001B[49m\u001B[43m)\u001B[49m\n\u001B[1;32m    146\u001B[0m \u001B[38;5;28;01mexcept\u001B[39;00m LinAlgError:\n\u001B[1;32m    147\u001B[0m     tdvp_res \u001B[38;5;241m=\u001B[39m QAOAResult()\n",
      "File \u001B[0;32m~/Documents/Uni/Bachelorarbeit /TDVP_and_QAOA/qaoa_and_tdvp.py:1222\u001B[0m, in \u001B[0;36mtdvp_optimize_qaoa\u001B[0;34m(qaoa, delta_0, Delta, rhs_mode, int_mode, grad_tol, max_iter, num_of_path_points)\u001B[0m\n\u001B[1;32m   1220\u001B[0m result\u001B[38;5;241m.\u001B[39moptimizer_name \u001B[38;5;241m=\u001B[39m \u001B[38;5;124mf\u001B[39m\u001B[38;5;124m\"\u001B[39m\u001B[38;5;124mtdvp_optimizer with \u001B[39m\u001B[38;5;132;01m{\u001B[39;00m\u001B[38;5;124m'\u001B[39m\u001B[38;5;124mcircuit\u001B[39m\u001B[38;5;124m'\u001B[39m \u001B[38;5;28;01mif\u001B[39;00m rhs_mode \u001B[38;5;28;01melse\u001B[39;00m \u001B[38;5;124m'\u001B[39m\u001B[38;5;124mfinitediff\u001B[39m\u001B[38;5;124m'\u001B[39m\u001B[38;5;132;01m}\u001B[39;00m\u001B[38;5;124m gradient evaluation and \u001B[39m\u001B[38;5;132;01m{\u001B[39;00mint_mode\u001B[38;5;132;01m}\u001B[39;00m\u001B[38;5;124m as integration mode\u001B[39m\u001B[38;5;124m\"\u001B[39m\n\u001B[1;32m   1221\u001B[0m \u001B[38;5;28mprint\u001B[39m(result\u001B[38;5;241m.\u001B[39mparameters)\n\u001B[0;32m-> 1222\u001B[0m result\u001B[38;5;241m.\u001B[39mstate \u001B[38;5;241m=\u001B[39m \u001B[43mqaoa\u001B[49m\u001B[38;5;241;43m.\u001B[39;49m\u001B[43mstate\u001B[49m\u001B[43m(\u001B[49m\u001B[43mresult\u001B[49m\u001B[38;5;241;43m.\u001B[39;49m\u001B[43mparameters\u001B[49m\u001B[43m)\u001B[49m  \u001B[38;5;66;03m# final state\u001B[39;00m\n\u001B[1;32m   1223\u001B[0m result\u001B[38;5;241m.\u001B[39mvalue \u001B[38;5;241m=\u001B[39m expect(\n\u001B[1;32m   1224\u001B[0m     qaoa\u001B[38;5;241m.\u001B[39mH, result\u001B[38;5;241m.\u001B[39mstate\n\u001B[1;32m   1225\u001B[0m )  \u001B[38;5;66;03m# expectation value of the optimal state\u001B[39;00m\n\u001B[1;32m   1227\u001B[0m \u001B[38;5;66;03m# qaoa.reset_gate_counter()\u001B[39;00m\n",
      "File \u001B[0;32m~/Documents/Uni/Bachelorarbeit /TDVP_and_QAOA/qaoa_and_tdvp.py:288\u001B[0m, in \u001B[0;36mQAOA.state\u001B[0;34m(self, delta)\u001B[0m\n\u001B[1;32m    287\u001B[0m \u001B[38;5;28;01mdef\u001B[39;00m \u001B[38;5;21mstate\u001B[39m(\u001B[38;5;28mself\u001B[39m, delta: \u001B[38;5;28mtuple\u001B[39m[\u001B[38;5;28mfloat\u001B[39m]) \u001B[38;5;241m-\u001B[39m\u001B[38;5;241m>\u001B[39m Qobj:\n\u001B[0;32m--> 288\u001B[0m     \u001B[38;5;28;01mreturn\u001B[39;00m \u001B[38;5;28;43mself\u001B[39;49m\u001B[38;5;241;43m.\u001B[39;49m\u001B[43mcircuit\u001B[49m\u001B[43m(\u001B[49m\u001B[43mdelta\u001B[49m\u001B[43m)\u001B[49m\u001B[38;5;241m.\u001B[39mrun(\u001B[38;5;28mself\u001B[39m\u001B[38;5;241m.\u001B[39mmixer_ground)\n",
      "File \u001B[0;32m~/Documents/Uni/Bachelorarbeit /TDVP_and_QAOA/qaoa_and_tdvp.py:240\u001B[0m, in \u001B[0;36mQAOA.circuit\u001B[0;34m(self, delta, insert_gates, at_layer, inbetween, pop_layers)\u001B[0m\n\u001B[1;32m    237\u001B[0m p, n \u001B[38;5;241m=\u001B[39m \u001B[38;5;28mself\u001B[39m\u001B[38;5;241m.\u001B[39mp, \u001B[38;5;28mself\u001B[39m\u001B[38;5;241m.\u001B[39mn\n\u001B[1;32m    239\u001B[0m \u001B[38;5;66;03m# assertions\u001B[39;00m\n\u001B[0;32m--> 240\u001B[0m \u001B[38;5;28;01massert\u001B[39;00m \u001B[38;5;28mlen\u001B[39m(delta) \u001B[38;5;241m==\u001B[39m \u001B[38;5;241m2\u001B[39m \u001B[38;5;241m*\u001B[39m p\n\u001B[1;32m    241\u001B[0m \u001B[38;5;28;01mif\u001B[39;00m at_layer \u001B[38;5;129;01mis\u001B[39;00m \u001B[38;5;28;01mNone\u001B[39;00m:\n\u001B[1;32m    242\u001B[0m     at_layer \u001B[38;5;241m=\u001B[39m p\n",
      "\u001B[0;31mAssertionError\u001B[0m: "
     ]
    }
   ],
   "source": [
    "min_p = 1\n",
    "max_p = 5\n",
    "\n",
    "for n in range(4, 9):\n",
    "    with open(f\"./instances/n{n}_instances.p\",\"rb\") as f:    \n",
    "        instances = pickle.load(f)\n",
    "    bench = Benchmark()\n",
    "\n",
    "    for num, i in enumerate(instances):\n",
    "        print(f\"instance {num}/{len(instances)}\")\n",
    "        for p in range(min_p, max_p+1):\n",
    "            print(f\"\\t p = {p}/{max_p}\")\n",
    "            bench.run(\n",
    "                i,\n",
    "                delta_0=tuple(1 for _ in range(2 * p)),\n",
    "                p=p,\n",
    "                tdvp_range=100,\n",
    "                tollarance=1e-2,\n",
    "                tdvp_lineq_solver=\"RK45\",\n",
    "            )\n",
    "            bench.save(f\"RK45_n{n}_p-1-8_Delta-1_benchmarks.p\")"
   ]
  },
  {
   "cell_type": "code",
   "execution_count": null,
   "metadata": {},
   "outputs": [],
   "source": []
  }
 ],
 "metadata": {
  "kernelspec": {
   "display_name": "Python 3.10.6 ('qutip-env')",
   "language": "python",
   "name": "python3"
  },
  "language_info": {
   "codemirror_mode": {
    "name": "ipython",
    "version": 3
   },
   "file_extension": ".py",
   "mimetype": "text/x-python",
   "name": "python",
   "nbconvert_exporter": "python",
   "pygments_lexer": "ipython3",
   "version": "3.10.6"
  },
  "varInspector": {
   "cols": {
    "lenName": 16,
    "lenType": 16,
    "lenVar": 40
   },
   "kernels_config": {
    "python": {
     "delete_cmd_postfix": "",
     "delete_cmd_prefix": "del ",
     "library": "var_list.py",
     "varRefreshCmd": "print(var_dic_list())"
    },
    "r": {
     "delete_cmd_postfix": ") ",
     "delete_cmd_prefix": "rm(",
     "library": "var_list.r",
     "varRefreshCmd": "cat(var_dic_list()) "
    }
   },
   "types_to_exclude": [
    "module",
    "function",
    "builtin_function_or_method",
    "instance",
    "_Feature"
   ],
   "window_display": false
  },
  "vscode": {
   "interpreter": {
    "hash": "fe45c953e7d91ced0867b19789acd0ab1d9439aa0b1f4fae31fd46e88f74aeab"
   }
  }
 },
 "nbformat": 4,
 "nbformat_minor": 2
}
