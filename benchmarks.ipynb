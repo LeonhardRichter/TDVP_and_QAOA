{
 "cells": [
  {
   "cell_type": "code",
   "execution_count": 1,
   "metadata": {
    "pycharm": {
     "name": "#%%\n"
    }
   },
   "outputs": [],
   "source": [
    "from benchmark import Benchmark, benchmark_pandas\n",
    "from quantum import H_from_qubo, Qobj\n",
    "from MaxCut import MaxCut\n",
    "\n",
    "from qutip.parallel import parallel_map, serial_map\n",
    "\n",
    "from qaoa_and_tdvp import QAOA, QAOAResult, qaoa_tdvp_rhs, tdvp_optimize_qaoa, scipy_optimize\n",
    "\n",
    "import pickle\n",
    "\n",
    "import numpy as np\n",
    "from numpy.typing import NDArray\n",
    "from typing import List, Tuple, Union, Optional, Callable, Any\n",
    "import networkx as nx\n",
    "import matplotlib.pyplot as plt\n",
    "import plotly as py\n",
    "\n",
    "import pandas as pd"
   ]
  },
  {
   "cell_type": "code",
   "execution_count": 2,
   "metadata": {
    "pycharm": {
     "name": "#%%\n"
    }
   },
   "outputs": [],
   "source": [
    "n = 4\n",
    "with open(f\"./instances/n{n}_instances.p\",\"rb\") as f:\n",
    "    instances = pickle.load(f)\n",
    "delta = tuple(1 for _ in range(2 * n))\n",
    "df_instances = pd.DataFrame(data={\"instance\":instances, \"p\":1}, columns=[\"instance\",\n",
    "                \"qaoa\",\n",
    "                \"p\",\n",
    "                \"n\",\n",
    "                \"delta_0\",\n",
    "                \"tollarance\",\n",
    "                \"algorithm\",\n",
    "                \"res\",\n",
    "                \"delta\",\n",
    "                \"path\",\n",
    "                \"steps\",\n",
    "                \"num_fun_calls\",\n",
    "                \"real duration\",\n",
    "                \"message\",])"
   ]
  },
  {
   "cell_type": "code",
   "execution_count": 3,
   "metadata": {},
   "outputs": [
    {
     "data": {
      "text/html": [
       "<div>\n",
       "<style scoped>\n",
       "    .dataframe tbody tr th:only-of-type {\n",
       "        vertical-align: middle;\n",
       "    }\n",
       "\n",
       "    .dataframe tbody tr th {\n",
       "        vertical-align: top;\n",
       "    }\n",
       "\n",
       "    .dataframe thead th {\n",
       "        text-align: right;\n",
       "    }\n",
       "</style>\n",
       "<table border=\"1\" class=\"dataframe\">\n",
       "  <thead>\n",
       "    <tr style=\"text-align: right;\">\n",
       "      <th></th>\n",
       "      <th>instance</th>\n",
       "      <th>qaoa</th>\n",
       "      <th>p</th>\n",
       "      <th>n</th>\n",
       "      <th>delta_0</th>\n",
       "      <th>tollarance</th>\n",
       "      <th>algorithm</th>\n",
       "      <th>res</th>\n",
       "      <th>delta</th>\n",
       "      <th>path</th>\n",
       "      <th>steps</th>\n",
       "      <th>num_fun_calls</th>\n",
       "      <th>real duration</th>\n",
       "      <th>message</th>\n",
       "    </tr>\n",
       "  </thead>\n",
       "  <tbody>\n",
       "    <tr>\n",
       "      <th>0</th>\n",
       "      <td>&lt;MaxCut.MaxCut object at 0x7f122c2fbe80&gt;</td>\n",
       "      <td>NaN</td>\n",
       "      <td>1</td>\n",
       "      <td>NaN</td>\n",
       "      <td>NaN</td>\n",
       "      <td>NaN</td>\n",
       "      <td>NaN</td>\n",
       "      <td>NaN</td>\n",
       "      <td>NaN</td>\n",
       "      <td>NaN</td>\n",
       "      <td>NaN</td>\n",
       "      <td>NaN</td>\n",
       "      <td>NaN</td>\n",
       "      <td>NaN</td>\n",
       "    </tr>\n",
       "    <tr>\n",
       "      <th>1</th>\n",
       "      <td>&lt;MaxCut.MaxCut object at 0x7f1231051240&gt;</td>\n",
       "      <td>NaN</td>\n",
       "      <td>1</td>\n",
       "      <td>NaN</td>\n",
       "      <td>NaN</td>\n",
       "      <td>NaN</td>\n",
       "      <td>NaN</td>\n",
       "      <td>NaN</td>\n",
       "      <td>NaN</td>\n",
       "      <td>NaN</td>\n",
       "      <td>NaN</td>\n",
       "      <td>NaN</td>\n",
       "      <td>NaN</td>\n",
       "      <td>NaN</td>\n",
       "    </tr>\n",
       "    <tr>\n",
       "      <th>2</th>\n",
       "      <td>&lt;MaxCut.MaxCut object at 0x7f11bc226590&gt;</td>\n",
       "      <td>NaN</td>\n",
       "      <td>1</td>\n",
       "      <td>NaN</td>\n",
       "      <td>NaN</td>\n",
       "      <td>NaN</td>\n",
       "      <td>NaN</td>\n",
       "      <td>NaN</td>\n",
       "      <td>NaN</td>\n",
       "      <td>NaN</td>\n",
       "      <td>NaN</td>\n",
       "      <td>NaN</td>\n",
       "      <td>NaN</td>\n",
       "      <td>NaN</td>\n",
       "    </tr>\n",
       "    <tr>\n",
       "      <th>3</th>\n",
       "      <td>&lt;MaxCut.MaxCut object at 0x7f11bc227730&gt;</td>\n",
       "      <td>NaN</td>\n",
       "      <td>1</td>\n",
       "      <td>NaN</td>\n",
       "      <td>NaN</td>\n",
       "      <td>NaN</td>\n",
       "      <td>NaN</td>\n",
       "      <td>NaN</td>\n",
       "      <td>NaN</td>\n",
       "      <td>NaN</td>\n",
       "      <td>NaN</td>\n",
       "      <td>NaN</td>\n",
       "      <td>NaN</td>\n",
       "      <td>NaN</td>\n",
       "    </tr>\n",
       "    <tr>\n",
       "      <th>4</th>\n",
       "      <td>&lt;MaxCut.MaxCut object at 0x7f11bc226bf0&gt;</td>\n",
       "      <td>NaN</td>\n",
       "      <td>1</td>\n",
       "      <td>NaN</td>\n",
       "      <td>NaN</td>\n",
       "      <td>NaN</td>\n",
       "      <td>NaN</td>\n",
       "      <td>NaN</td>\n",
       "      <td>NaN</td>\n",
       "      <td>NaN</td>\n",
       "      <td>NaN</td>\n",
       "      <td>NaN</td>\n",
       "      <td>NaN</td>\n",
       "      <td>NaN</td>\n",
       "    </tr>\n",
       "    <tr>\n",
       "      <th>5</th>\n",
       "      <td>&lt;MaxCut.MaxCut object at 0x7f11bc226950&gt;</td>\n",
       "      <td>NaN</td>\n",
       "      <td>1</td>\n",
       "      <td>NaN</td>\n",
       "      <td>NaN</td>\n",
       "      <td>NaN</td>\n",
       "      <td>NaN</td>\n",
       "      <td>NaN</td>\n",
       "      <td>NaN</td>\n",
       "      <td>NaN</td>\n",
       "      <td>NaN</td>\n",
       "      <td>NaN</td>\n",
       "      <td>NaN</td>\n",
       "      <td>NaN</td>\n",
       "    </tr>\n",
       "  </tbody>\n",
       "</table>\n",
       "</div>"
      ],
      "text/plain": [
       "                                   instance qaoa  p    n delta_0 tollarance  \\\n",
       "0  <MaxCut.MaxCut object at 0x7f122c2fbe80>  NaN  1  NaN     NaN        NaN   \n",
       "1  <MaxCut.MaxCut object at 0x7f1231051240>  NaN  1  NaN     NaN        NaN   \n",
       "2  <MaxCut.MaxCut object at 0x7f11bc226590>  NaN  1  NaN     NaN        NaN   \n",
       "3  <MaxCut.MaxCut object at 0x7f11bc227730>  NaN  1  NaN     NaN        NaN   \n",
       "4  <MaxCut.MaxCut object at 0x7f11bc226bf0>  NaN  1  NaN     NaN        NaN   \n",
       "5  <MaxCut.MaxCut object at 0x7f11bc226950>  NaN  1  NaN     NaN        NaN   \n",
       "\n",
       "  algorithm  res delta path steps num_fun_calls real duration message  \n",
       "0       NaN  NaN   NaN  NaN   NaN           NaN           NaN     NaN  \n",
       "1       NaN  NaN   NaN  NaN   NaN           NaN           NaN     NaN  \n",
       "2       NaN  NaN   NaN  NaN   NaN           NaN           NaN     NaN  \n",
       "3       NaN  NaN   NaN  NaN   NaN           NaN           NaN     NaN  \n",
       "4       NaN  NaN   NaN  NaN   NaN           NaN           NaN     NaN  \n",
       "5       NaN  NaN   NaN  NaN   NaN           NaN           NaN     NaN  "
      ]
     },
     "execution_count": 3,
     "metadata": {},
     "output_type": "execute_result"
    }
   ],
   "source": [
    "df_instances"
   ]
  },
  {
   "cell_type": "code",
   "execution_count": 29,
   "metadata": {},
   "outputs": [
    {
     "name": "stdout",
     "output_type": "stream",
     "text": [
      "Running benchmark on instance with 4 with optimizers <generator object benchmark_pandas.<locals>.<genexpr> at 0x7f11b99c4e40>\n",
      "optimizing with scipy\n",
      "Done Scipy_optim\n",
      "\n"
     ]
    },
    {
     "data": {
      "text/html": [
       "<div>\n",
       "<style scoped>\n",
       "    .dataframe tbody tr th:only-of-type {\n",
       "        vertical-align: middle;\n",
       "    }\n",
       "\n",
       "    .dataframe tbody tr th {\n",
       "        vertical-align: top;\n",
       "    }\n",
       "\n",
       "    .dataframe thead th {\n",
       "        text-align: right;\n",
       "    }\n",
       "</style>\n",
       "<table border=\"1\" class=\"dataframe\">\n",
       "  <thead>\n",
       "    <tr style=\"text-align: right;\">\n",
       "      <th></th>\n",
       "      <th>instance</th>\n",
       "      <th>qaoa</th>\n",
       "      <th>p</th>\n",
       "      <th>n</th>\n",
       "      <th>delta_0</th>\n",
       "      <th>tollarance</th>\n",
       "      <th>algorithm</th>\n",
       "      <th>res</th>\n",
       "      <th>delta</th>\n",
       "      <th>path</th>\n",
       "      <th>steps</th>\n",
       "      <th>num_fun_calls</th>\n",
       "      <th>real duration</th>\n",
       "      <th>message</th>\n",
       "    </tr>\n",
       "  </thead>\n",
       "  <tbody>\n",
       "    <tr>\n",
       "      <th>0</th>\n",
       "      <td>&lt;MaxCut.MaxCut object at 0x7f11bc119d80&gt;</td>\n",
       "      <td>&lt;qaoa_and_tdvp.QAOA object at 0x7f11b9397af0&gt;</td>\n",
       "      <td>1</td>\n",
       "      <td>4</td>\n",
       "      <td>(1, 1)</td>\n",
       "      <td>0.1</td>\n",
       "      <td>scipy</td>\n",
       "      <td>\\n        scipy_cobyla terminated with sucess ...</td>\n",
       "      <td>(0.7967443681366325, 0.356162038224893)</td>\n",
       "      <td>[(1, 1), (2.0, 1.0), (1.0, 2.0), (0.3165890092...</td>\n",
       "      <td>None</td>\n",
       "      <td>13</td>\n",
       "      <td>0.130807</td>\n",
       "      <td>Optimization terminated successfully.</td>\n",
       "    </tr>\n",
       "  </tbody>\n",
       "</table>\n",
       "</div>"
      ],
      "text/plain": [
       "                                   instance  \\\n",
       "0  <MaxCut.MaxCut object at 0x7f11bc119d80>   \n",
       "\n",
       "                                            qaoa  p  n delta_0  tollarance  \\\n",
       "0  <qaoa_and_tdvp.QAOA object at 0x7f11b9397af0>  1  4  (1, 1)         0.1   \n",
       "\n",
       "  algorithm                                                res  \\\n",
       "0     scipy  \\n        scipy_cobyla terminated with sucess ...   \n",
       "\n",
       "                                     delta  \\\n",
       "0  (0.7967443681366325, 0.356162038224893)   \n",
       "\n",
       "                                                path steps  num_fun_calls  \\\n",
       "0  [(1, 1), (2.0, 1.0), (1.0, 2.0), (0.3165890092...  None             13   \n",
       "\n",
       "   real duration                                message  \n",
       "0       0.130807  Optimization terminated successfully.  "
      ]
     },
     "execution_count": 29,
     "metadata": {},
     "output_type": "execute_result"
    }
   ],
   "source": [
    "x = benchmark_pandas(instance=instances[0], p=1, tollarance=.1, optimizers={\"tdvp\":False, \"scipy\":True, \"gradient_descent\":False})\n",
    "x"
   ]
  },
  {
   "cell_type": "code",
   "execution_count": 72,
   "metadata": {},
   "outputs": [
    {
     "data": {
      "text/html": [
       "<div>\n",
       "<style scoped>\n",
       "    .dataframe tbody tr th:only-of-type {\n",
       "        vertical-align: middle;\n",
       "    }\n",
       "\n",
       "    .dataframe tbody tr th {\n",
       "        vertical-align: top;\n",
       "    }\n",
       "\n",
       "    .dataframe thead th {\n",
       "        text-align: right;\n",
       "    }\n",
       "</style>\n",
       "<table border=\"1\" class=\"dataframe\">\n",
       "  <thead>\n",
       "    <tr style=\"text-align: right;\">\n",
       "      <th></th>\n",
       "      <th>a</th>\n",
       "      <th>b</th>\n",
       "    </tr>\n",
       "  </thead>\n",
       "  <tbody>\n",
       "    <tr>\n",
       "      <th>0</th>\n",
       "      <td>0</td>\n",
       "      <td>0</td>\n",
       "    </tr>\n",
       "    <tr>\n",
       "      <th>1</th>\n",
       "      <td>5</td>\n",
       "      <td>6</td>\n",
       "    </tr>\n",
       "    <tr>\n",
       "      <th>2</th>\n",
       "      <td>15</td>\n",
       "      <td>16</td>\n",
       "    </tr>\n",
       "  </tbody>\n",
       "</table>\n",
       "</div>"
      ],
      "text/plain": [
       "    a   b\n",
       "0   0   0\n",
       "1   5   6\n",
       "2  15  16"
      ]
     },
     "execution_count": 72,
     "metadata": {},
     "output_type": "execute_result"
    }
   ],
   "source": []
  },
  {
   "cell_type": "code",
   "execution_count": 30,
   "metadata": {},
   "outputs": [
    {
     "name": "stdout",
     "output_type": "stream",
     "text": [
      "Running benchmark on instance with 4 with optimizers <generator object benchmark_pandas.<locals>.<genexpr> at 0x7f11b99c7a00>\n",
      "optimizing with scipy\n",
      "Done Scipy_optim\n",
      "\n",
      "Running benchmark on instance with 4 with optimizers <generator object benchmark_pandas.<locals>.<genexpr> at 0x7f11b99c6e30>\n",
      "optimizing with scipy\n",
      "Done Scipy_optim\n",
      "\n",
      "Running benchmark on instance with 4 with optimizers <generator object benchmark_pandas.<locals>.<genexpr> at 0x7f11b99c45f0>\n",
      "optimizing with scipy\n",
      "Done Scipy_optim\n",
      "\n",
      "Running benchmark on instance with 4 with optimizers <generator object benchmark_pandas.<locals>.<genexpr> at 0x7f11b99c6b20>\n",
      "optimizing with scipy\n",
      "Done Scipy_optim\n",
      "\n",
      "Running benchmark on instance with 4 with optimizers <generator object benchmark_pandas.<locals>.<genexpr> at 0x7f11b99c45f0>\n",
      "optimizing with scipy\n",
      "Done Scipy_optim\n",
      "\n",
      "Running benchmark on instance with 4 with optimizers <generator object benchmark_pandas.<locals>.<genexpr> at 0x7f11b99c7530>\n",
      "optimizing with scipy\n",
      "Done Scipy_optim\n",
      "\n"
     ]
    },
    {
     "data": {
      "text/plain": [
       "0                                       instance  \\...\n",
       "1                                       instance  \\...\n",
       "2                                       instance  \\...\n",
       "3                                       instance  \\...\n",
       "4                                       instance  \\...\n",
       "5                                       instance  \\...\n",
       "dtype: object"
      ]
     },
     "execution_count": 30,
     "metadata": {},
     "output_type": "execute_result"
    }
   ],
   "source": [
    "df_instances.apply(\n",
    "    lambda x:benchmark_pandas(instance=x['instance'], p=x['p'], tollarance=.1, optimizers={\"tdvp\":False, \"scipy\":True, \"gradient_descent\":False}),\n",
    "    axis=1,\n",
    ")\n",
    "\n"
   ]
  },
  {
   "cell_type": "code",
   "execution_count": 19,
   "metadata": {},
   "outputs": [
    {
     "data": {
      "text/plain": [
       "0                                             0    ...\n",
       "1                                             0    ...\n",
       "2                                             0    ...\n",
       "3                                             0    ...\n",
       "4                                             0    ...\n",
       "5                                             0    ...\n",
       "dtype: object"
      ]
     },
     "execution_count": 19,
     "metadata": {},
     "output_type": "execute_result"
    }
   ],
   "source": [
    "df"
   ]
  },
  {
   "cell_type": "code",
   "execution_count": 69,
   "metadata": {},
   "outputs": [
    {
     "name": "stdout",
     "output_type": "stream",
     "text": [
      "1 2 3\n"
     ]
    }
   ],
   "source": [
    "pd.Dat([{\"a\":5, 'b':6},{\"a\":15, 'b':16}])"
   ]
  },
  {
   "cell_type": "code",
   "execution_count": 3,
   "metadata": {
    "pycharm": {
     "name": "#%%\n"
    }
   },
   "outputs": [],
   "source": [
    "Delta = .1\n",
    "min_p = 1\n",
    "max_p = 8"
   ]
  },
  {
   "cell_type": "code",
   "execution_count": 5,
   "metadata": {
    "pycharm": {
     "name": "#%%\n"
    }
   },
   "outputs": [
    {
     "name": "stdout",
     "output_type": "stream",
     "text": [
      "instance 0/6\n",
      "\t p = 1/8\n",
      "donestep 30\n",
      "\n",
      "Done Scipy_optim\n",
      "\n",
      "\t p = 2/8\n",
      "donestep 37\n",
      "\n",
      "Done Scipy_optim\n",
      "\n",
      "\t p = 3/8\n",
      "donestep 45\n",
      "\n",
      "Done Scipy_optim\n",
      "\n",
      "\t p = 4/8\n",
      "donestep 65\n",
      "\n",
      "Done Scipy_optim\n",
      "\n",
      "\t p = 5/8\n",
      "donestep 78\n",
      "\n",
      "Done Scipy_optim\n",
      "\n",
      "\t p = 6/8\n",
      "donestep 59\n",
      "\n",
      "Done Scipy_optim\n",
      "\n",
      "\t p = 7/8\n",
      "rhs step 232\r"
     ]
    }
   ],
   "source": [
    "for n in range(4, 7):\n",
    "    with open(f\"./instances/n{n}_instances.p\",\"rb\") as f:    \n",
    "        instances = pickle.load(f)\n",
    "    delta = tuple(1 for _ in range(2 * n))\n",
    "    bench = Benchmark()\n",
    "\n",
    "    for num, i in enumerate(instances):\n",
    "        print(f\"instance {num}/{len(instances)}\")\n",
    "        for p in range(min_p, max_p+1):\n",
    "            print(f\"\\t p = {p}/{max_p}\")\n",
    "            bench.run(\n",
    "                qaoa=QAOA(i.qubo,p=p),\n",
    "                delta_0=tuple(1 for _ in range(2 * p)),\n",
    "                tdvp_stepsize=1,\n",
    "                tdvp_grad_tol=1e-3,\n",
    "                p=p,\n",
    "                tdvp_lineq_solver=\"RK45\",\n",
    "            )\n",
    "            bench.save(f\"RK45_n{n}_p-1-10_Delta-1_benchmarks.p\")"
   ]
  },
  {
   "cell_type": "code",
   "execution_count": null,
   "metadata": {
    "pycharm": {
     "name": "#%%\n"
    }
   },
   "outputs": [],
   "source": []
  }
 ],
 "metadata": {
  "kernelspec": {
   "display_name": "Python 3.10.6 ('qutip-env')",
   "language": "python",
   "name": "python3"
  },
  "language_info": {
   "codemirror_mode": {
    "name": "ipython",
    "version": 3
   },
   "file_extension": ".py",
   "mimetype": "text/x-python",
   "name": "python",
   "nbconvert_exporter": "python",
   "pygments_lexer": "ipython3",
   "version": "3.10.6"
  },
  "varInspector": {
   "cols": {
    "lenName": 16,
    "lenType": 16,
    "lenVar": 40
   },
   "kernels_config": {
    "python": {
     "delete_cmd_postfix": "",
     "delete_cmd_prefix": "del ",
     "library": "var_list.py",
     "varRefreshCmd": "print(var_dic_list())"
    },
    "r": {
     "delete_cmd_postfix": ") ",
     "delete_cmd_prefix": "rm(",
     "library": "var_list.r",
     "varRefreshCmd": "cat(var_dic_list()) "
    }
   },
   "types_to_exclude": [
    "module",
    "function",
    "builtin_function_or_method",
    "instance",
    "_Feature"
   ],
   "window_display": false
  },
  "vscode": {
   "interpreter": {
    "hash": "fe45c953e7d91ced0867b19789acd0ab1d9439aa0b1f4fae31fd46e88f74aeab"
   }
  }
 },
 "nbformat": 4,
 "nbformat_minor": 2
}
