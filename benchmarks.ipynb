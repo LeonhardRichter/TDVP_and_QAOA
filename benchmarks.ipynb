{
 "cells": [
  {
   "cell_type": "code",
   "execution_count": 1,
   "metadata": {},
   "outputs": [],
   "source": [
    "%load_ext snakeviz"
   ]
  },
  {
   "cell_type": "code",
   "execution_count": 2,
   "metadata": {},
   "outputs": [],
   "source": [
    "from benchmark import Benchmark\n",
    "from quantum import H_from_qubo, Qobj\n",
    "from MaxCut import MaxCut\n",
    "\n",
    "from qutip.parallel import parallel_map, serial_map\n",
    "\n",
    "from qaoa_and_tdvp import QAOA, QAOAResult, qaoa_tdvp_rhs, tdvp_optimize_qaoa, scipy_optimize\n",
    "\n",
    "import pickle\n",
    "\n",
    "import numpy as np\n",
    "from numpy.typing import NDArray\n",
    "from typing import List, Tuple, Union, Optional, Callable, Any\n",
    "import networkx as nx\n",
    "import matplotlib.pyplot as plt\n",
    "import plotly as py\n",
    "\n",
    "import pandas as pd"
   ]
  },
  {
   "cell_type": "code",
   "execution_count": 3,
   "metadata": {},
   "outputs": [],
   "source": [
    "n = 4\n",
    "with open(f\"./instances/n{n}_instances.p\",\"rb\") as f:\n",
    "    instances = pickle.load(f)\n",
    "delta = tuple(1 for _ in range(2 * n))\n",
    "bench = Benchmark()"
   ]
  },
  {
   "cell_type": "code",
   "execution_count": 4,
   "metadata": {},
   "outputs": [],
   "source": [
    "Delta = .1\n",
    "min_p = 1\n",
    "max_p = 8"
   ]
  },
  {
   "cell_type": "code",
   "execution_count": 6,
   "metadata": {},
   "outputs": [
    {
     "name": "stdout",
     "output_type": "stream",
     "text": [
      "instance 0/6\n",
      "\t p = 1/8\n",
      "donestep 30\n",
      "\n",
      "Done Scipy_optim\n",
      "\n",
      "\t p = 2/8\n",
      "rhs step 5\r"
     ]
    }
   ],
   "source": [
    "for num, i in enumerate(instances):\n",
    "    print(f\"instance {num}/{len(instances)}\")\n",
    "    for p in range(min_p, max_p+1):\n",
    "        print(f\"\\t p = {p}/{max_p}\")\n",
    "        bench.run(\n",
    "            qaoa=QAOA(i.qubo,p=p),\n",
    "            delta_0=tuple(1 for _ in range(2 * p)),\n",
    "            tdvp_stepsize=1,\n",
    "            tdvp_grad_tol=1e-3,\n",
    "            p=p,\n",
    "            tdvp_lineq_solver=\"RK45\",\n",
    "        )\n",
    "    bench.save(f\"n{4}_p-1-8_Delta-1_benchmarks.p\")"
   ]
  },
  {
   "cell_type": "code",
   "execution_count": null,
   "metadata": {},
   "outputs": [],
   "source": [
    "n = 5\n",
    "with open(f\"./instances/n{n}_instances.p\",\"rb\") as f:\n",
    "    instances = pickle.load(f)\n",
    "delta = tuple(1 for _ in range(2 * n))\n",
    "bench = Benchmark()"
   ]
  },
  {
   "cell_type": "code",
   "execution_count": null,
   "metadata": {},
   "outputs": [],
   "source": [
    "for num, i in enumerate(instances):\n",
    "    print(f\"instance {num}/{len(instances)}\")\n",
    "    for p in range(min_p, max_p+1):\n",
    "        print(f\"\\t p = {p}/{max_p}\")\n",
    "        bench.run(\n",
    "            qaoa=QAOA(i.qubo,p=p),\n",
    "            delta_0=tuple(1 for _ in range(2 * p)),\n",
    "            tdvp_stepsize=1,\n",
    "            p=p\n",
    "            tdvp_grad_tol=1e-3,\n",
    "            tdvp_lineq_solver=\"RK45\",\n",
    "        )\n",
    "bench.save(f\"n{4}_p-{min_p}-{max_p}_Delta-1_benchmarks.p\")"
   ]
  },
  {
   "cell_type": "code",
   "execution_count": null,
   "metadata": {},
   "outputs": [],
   "source": []
  }
 ],
 "metadata": {
  "kernelspec": {
   "display_name": "Python 3 (ipykernel)",
   "language": "python",
   "name": "python3"
  },
  "language_info": {
   "codemirror_mode": {
    "name": "ipython",
    "version": 3
   },
   "file_extension": ".py",
   "mimetype": "text/x-python",
   "name": "python",
   "nbconvert_exporter": "python",
   "pygments_lexer": "ipython3",
   "version": "3.10.6"
  },
  "varInspector": {
   "cols": {
    "lenName": 16,
    "lenType": 16,
    "lenVar": 40
   },
   "kernels_config": {
    "python": {
     "delete_cmd_postfix": "",
     "delete_cmd_prefix": "del ",
     "library": "var_list.py",
     "varRefreshCmd": "print(var_dic_list())"
    },
    "r": {
     "delete_cmd_postfix": ") ",
     "delete_cmd_prefix": "rm(",
     "library": "var_list.r",
     "varRefreshCmd": "cat(var_dic_list()) "
    }
   },
   "types_to_exclude": [
    "module",
    "function",
    "builtin_function_or_method",
    "instance",
    "_Feature"
   ],
   "window_display": false
  },
  "vscode": {
   "interpreter": {
    "hash": "fe45c953e7d91ced0867b19789acd0ab1d9439aa0b1f4fae31fd46e88f74aeab"
   }
  }
 },
 "nbformat": 4,
 "nbformat_minor": 2
}
