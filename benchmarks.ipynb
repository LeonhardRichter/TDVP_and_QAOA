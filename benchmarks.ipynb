{
 "cells": [
  {
   "cell_type": "code",
   "execution_count": 1,
   "metadata": {},
   "outputs": [],
   "source": [
    "%load_ext snakeviz"
   ]
  },
  {
   "cell_type": "code",
   "execution_count": 1,
   "metadata": {},
   "outputs": [],
   "source": [
    "from benchmark import Benchmark\n",
    "from quantum import H_from_qubo, Qobj\n",
    "from MaxCut import MaxCut\n",
    "\n",
    "from qutip.parallel import parallel_map, serial_map\n",
    "\n",
    "from qaoa_and_tdvp import QAOA, QAOAResult, qaoa_tdvp_rhs, tdvp_optimize_qaoa, scipy_optimize\n",
    "\n",
    "import pickle\n",
    "\n",
    "import numpy as np\n",
    "from numpy.typing import NDArray\n",
    "from typing import List, Tuple, Union, Optional, Callable, Any\n",
    "import networkx as nx\n",
    "import matplotlib.pyplot as plt\n",
    "import plotly as py\n",
    "\n",
    "import pandas as pd"
   ]
  },
  {
   "cell_type": "code",
   "execution_count": 2,
   "metadata": {},
   "outputs": [],
   "source": [
    "n = 4\n",
    "with open(f\"./instances/n{n}_instances.p\",\"rb\") as f:\n",
    "    instances = pickle.load(f)\n",
    "delta = tuple(1 for _ in range(2 * n))\n",
    "bench = Benchmark()"
   ]
  },
  {
   "cell_type": "code",
   "execution_count": 5,
   "metadata": {},
   "outputs": [],
   "source": [
    "with open(\"./benchmarks/Euler_p1-5_n4.p.p\", \"rb\") as f:\n",
    "    euler_bench = pickle.load(f)"
   ]
  },
  {
   "cell_type": "code",
   "execution_count": 4,
   "metadata": {},
   "outputs": [],
   "source": [
    "Delta = .1\n",
    "min_p = 1\n",
    "max_p = 4"
   ]
  },
  {
   "cell_type": "code",
   "execution_count": 24,
   "metadata": {},
   "outputs": [
    {
     "name": "stdout",
     "output_type": "stream",
     "text": [
      "rhs step 573\r"
     ]
    },
    {
     "ename": "KeyboardInterrupt",
     "evalue": "",
     "output_type": "error",
     "traceback": [
      "\u001b[0;31m---------------------------------------------------------------------------\u001b[0m",
      "\u001b[0;31mKeyboardInterrupt\u001b[0m                         Traceback (most recent call last)",
      "\u001b[1;32m/home/leonhard/Documents/Uni/Bachelor/Semester 8/Bachelorarbeit /TDVP_and_QAOA/benchmarks.ipynb Cell 6\u001b[0m in \u001b[0;36m<cell line: 3>\u001b[0;34m()\u001b[0m\n\u001b[1;32m      <a href='vscode-notebook-cell:/home/leonhard/Documents/Uni/Bachelor/Semester%208/Bachelorarbeit%20/TDVP_and_QAOA/benchmarks.ipynb#X14sZmlsZQ%3D%3D?line=0'>1</a>\u001b[0m \u001b[39m# for this instance with p=4, Euler sovler did not succeed with grad_tol 1e-3 and Delta .1\u001b[39;00m\n\u001b[1;32m      <a href='vscode-notebook-cell:/home/leonhard/Documents/Uni/Bachelor/Semester%208/Bachelorarbeit%20/TDVP_and_QAOA/benchmarks.ipynb#X14sZmlsZQ%3D%3D?line=1'>2</a>\u001b[0m qaoa_hard \u001b[39m=\u001b[39m QAOA(instances[\u001b[39m0\u001b[39m]\u001b[39m.\u001b[39mqubo, p\u001b[39m=\u001b[39m\u001b[39m4\u001b[39m)\n\u001b[0;32m----> <a href='vscode-notebook-cell:/home/leonhard/Documents/Uni/Bachelor/Semester%208/Bachelorarbeit%20/TDVP_and_QAOA/benchmarks.ipynb#X14sZmlsZQ%3D%3D?line=2'>3</a>\u001b[0m bench\u001b[39m.\u001b[39;49mrun(qaoa_hard,delta_0\u001b[39m=\u001b[39;49mdelta, tdvp_stepsize\u001b[39m=\u001b[39;49m\u001b[39m1\u001b[39;49m, p\u001b[39m=\u001b[39;49m\u001b[39m4\u001b[39;49m, tdvp_grad_tol\u001b[39m=\u001b[39;49m\u001b[39m1e-3\u001b[39;49m, tdvp_lineq_solver\u001b[39m=\u001b[39;49m\u001b[39m\"\u001b[39;49m\u001b[39mRK45\u001b[39;49m\u001b[39m\"\u001b[39;49m)\n",
      "File \u001b[0;32m~/Documents/Uni/Bachelor/Semester 8/Bachelorarbeit /TDVP_and_QAOA/benchmark.py:100\u001b[0m, in \u001b[0;36mBenchmark.run\u001b[0;34m(self, qaoa, delta_0, p, tdvp_stepsize, tdvp_grad_tol, tdvp_lineq_solver)\u001b[0m\n\u001b[1;32m     98\u001b[0m \u001b[39mif\u001b[39;00m p \u001b[39mis\u001b[39;00m \u001b[39mnot\u001b[39;00m \u001b[39mNone\u001b[39;00m:\n\u001b[1;32m     99\u001b[0m     qaoa\u001b[39m.\u001b[39mp \u001b[39m=\u001b[39m p\n\u001b[0;32m--> 100\u001b[0m tdvp_res \u001b[39m=\u001b[39m tdvp_optimize_qaoa(\n\u001b[1;32m    101\u001b[0m     qaoa\u001b[39m=\u001b[39;49mqaoa,\n\u001b[1;32m    102\u001b[0m     delta_0\u001b[39m=\u001b[39;49mdelta_0,\n\u001b[1;32m    103\u001b[0m     Delta\u001b[39m=\u001b[39;49mtdvp_stepsize,\n\u001b[1;32m    104\u001b[0m     grad_tol\u001b[39m=\u001b[39;49mtdvp_grad_tol,\n\u001b[1;32m    105\u001b[0m     int_mode\u001b[39m=\u001b[39;49mtdvp_lineq_solver,\n\u001b[1;32m    106\u001b[0m )\n\u001b[1;32m    107\u001b[0m scipy_res \u001b[39m=\u001b[39m scipy_optimize(delta_0\u001b[39m=\u001b[39mdelta_0, qaoa\u001b[39m=\u001b[39mqaoa)\n\u001b[1;32m    108\u001b[0m \u001b[39mself\u001b[39m\u001b[39m.\u001b[39mresults\u001b[39m.\u001b[39mappend(\n\u001b[1;32m    109\u001b[0m     {\n\u001b[1;32m    110\u001b[0m         \u001b[39m\"\u001b[39m\u001b[39mtdvp\u001b[39m\u001b[39m\"\u001b[39m: tdvp_res,\n\u001b[0;32m   (...)\u001b[0m\n\u001b[1;32m    117\u001b[0m     }\n\u001b[1;32m    118\u001b[0m )\n",
      "File \u001b[0;32m~/Documents/Uni/Bachelor/Semester 8/Bachelorarbeit /TDVP_and_QAOA/qaoa_and_tdvp.py:978\u001b[0m, in \u001b[0;36mtdvp_optimize_qaoa\u001b[0;34m(qaoa, delta_0, Delta, rhs_mode, int_mode, grad_tol, max_iter)\u001b[0m\n\u001b[1;32m    976\u001b[0m t_0 \u001b[39m=\u001b[39m time()\n\u001b[1;32m    977\u001b[0m \u001b[39m# solve the ODE\u001b[39;00m\n\u001b[0;32m--> 978\u001b[0m int_result \u001b[39m=\u001b[39m integrate\u001b[39m.\u001b[39;49msolve_ivp(\n\u001b[1;32m    979\u001b[0m     fun\u001b[39m=\u001b[39;49mtdvp_rhs,\n\u001b[1;32m    980\u001b[0m     t_span\u001b[39m=\u001b[39;49m(\u001b[39m0\u001b[39;49m, Delta),\n\u001b[1;32m    981\u001b[0m     y0\u001b[39m=\u001b[39;49mdelta_0,\n\u001b[1;32m    982\u001b[0m     method\u001b[39m=\u001b[39;49mint_mode,\n\u001b[1;32m    983\u001b[0m     events\u001b[39m=\u001b[39;49mtdvp_terminal,\n\u001b[1;32m    984\u001b[0m )\n\u001b[1;32m    985\u001b[0m \u001b[39mprint\u001b[39m(\u001b[39m\"\u001b[39m\u001b[39mdone\u001b[39m\u001b[39m\\n\u001b[39;00m\u001b[39m\"\u001b[39m)\n\u001b[1;32m    986\u001b[0m dt \u001b[39m=\u001b[39m time() \u001b[39m-\u001b[39m t_0  \u001b[39m# time for integration\u001b[39;00m\n",
      "File \u001b[0;32m~/anaconda3/envs/qutip-env/lib/python3.10/site-packages/scipy/integrate/_ivp/ivp.py:589\u001b[0m, in \u001b[0;36msolve_ivp\u001b[0;34m(fun, t_span, y0, method, t_eval, dense_output, events, vectorized, args, **options)\u001b[0m\n\u001b[1;32m    587\u001b[0m status \u001b[39m=\u001b[39m \u001b[39mNone\u001b[39;00m\n\u001b[1;32m    588\u001b[0m \u001b[39mwhile\u001b[39;00m status \u001b[39mis\u001b[39;00m \u001b[39mNone\u001b[39;00m:\n\u001b[0;32m--> 589\u001b[0m     message \u001b[39m=\u001b[39m solver\u001b[39m.\u001b[39;49mstep()\n\u001b[1;32m    591\u001b[0m     \u001b[39mif\u001b[39;00m solver\u001b[39m.\u001b[39mstatus \u001b[39m==\u001b[39m \u001b[39m'\u001b[39m\u001b[39mfinished\u001b[39m\u001b[39m'\u001b[39m:\n\u001b[1;32m    592\u001b[0m         status \u001b[39m=\u001b[39m \u001b[39m0\u001b[39m\n",
      "File \u001b[0;32m~/anaconda3/envs/qutip-env/lib/python3.10/site-packages/scipy/integrate/_ivp/base.py:181\u001b[0m, in \u001b[0;36mOdeSolver.step\u001b[0;34m(self)\u001b[0m\n\u001b[1;32m    179\u001b[0m \u001b[39melse\u001b[39;00m:\n\u001b[1;32m    180\u001b[0m     t \u001b[39m=\u001b[39m \u001b[39mself\u001b[39m\u001b[39m.\u001b[39mt\n\u001b[0;32m--> 181\u001b[0m     success, message \u001b[39m=\u001b[39m \u001b[39mself\u001b[39;49m\u001b[39m.\u001b[39;49m_step_impl()\n\u001b[1;32m    183\u001b[0m     \u001b[39mif\u001b[39;00m \u001b[39mnot\u001b[39;00m success:\n\u001b[1;32m    184\u001b[0m         \u001b[39mself\u001b[39m\u001b[39m.\u001b[39mstatus \u001b[39m=\u001b[39m \u001b[39m'\u001b[39m\u001b[39mfailed\u001b[39m\u001b[39m'\u001b[39m\n",
      "File \u001b[0;32m~/anaconda3/envs/qutip-env/lib/python3.10/site-packages/scipy/integrate/_ivp/rk.py:144\u001b[0m, in \u001b[0;36mRungeKutta._step_impl\u001b[0;34m(self)\u001b[0m\n\u001b[1;32m    141\u001b[0m h \u001b[39m=\u001b[39m t_new \u001b[39m-\u001b[39m t\n\u001b[1;32m    142\u001b[0m h_abs \u001b[39m=\u001b[39m np\u001b[39m.\u001b[39mabs(h)\n\u001b[0;32m--> 144\u001b[0m y_new, f_new \u001b[39m=\u001b[39m rk_step(\u001b[39mself\u001b[39;49m\u001b[39m.\u001b[39;49mfun, t, y, \u001b[39mself\u001b[39;49m\u001b[39m.\u001b[39;49mf, h, \u001b[39mself\u001b[39;49m\u001b[39m.\u001b[39;49mA,\n\u001b[1;32m    145\u001b[0m                        \u001b[39mself\u001b[39;49m\u001b[39m.\u001b[39;49mB, \u001b[39mself\u001b[39;49m\u001b[39m.\u001b[39;49mC, \u001b[39mself\u001b[39;49m\u001b[39m.\u001b[39;49mK)\n\u001b[1;32m    146\u001b[0m scale \u001b[39m=\u001b[39m atol \u001b[39m+\u001b[39m np\u001b[39m.\u001b[39mmaximum(np\u001b[39m.\u001b[39mabs(y), np\u001b[39m.\u001b[39mabs(y_new)) \u001b[39m*\u001b[39m rtol\n\u001b[1;32m    147\u001b[0m error_norm \u001b[39m=\u001b[39m \u001b[39mself\u001b[39m\u001b[39m.\u001b[39m_estimate_error_norm(\u001b[39mself\u001b[39m\u001b[39m.\u001b[39mK, h, scale)\n",
      "File \u001b[0;32m~/anaconda3/envs/qutip-env/lib/python3.10/site-packages/scipy/integrate/_ivp/rk.py:64\u001b[0m, in \u001b[0;36mrk_step\u001b[0;34m(fun, t, y, f, h, A, B, C, K)\u001b[0m\n\u001b[1;32m     62\u001b[0m \u001b[39mfor\u001b[39;00m s, (a, c) \u001b[39min\u001b[39;00m \u001b[39menumerate\u001b[39m(\u001b[39mzip\u001b[39m(A[\u001b[39m1\u001b[39m:], C[\u001b[39m1\u001b[39m:]), start\u001b[39m=\u001b[39m\u001b[39m1\u001b[39m):\n\u001b[1;32m     63\u001b[0m     dy \u001b[39m=\u001b[39m np\u001b[39m.\u001b[39mdot(K[:s]\u001b[39m.\u001b[39mT, a[:s]) \u001b[39m*\u001b[39m h\n\u001b[0;32m---> 64\u001b[0m     K[s] \u001b[39m=\u001b[39m fun(t \u001b[39m+\u001b[39;49m c \u001b[39m*\u001b[39;49m h, y \u001b[39m+\u001b[39;49m dy)\n\u001b[1;32m     66\u001b[0m y_new \u001b[39m=\u001b[39m y \u001b[39m+\u001b[39m h \u001b[39m*\u001b[39m np\u001b[39m.\u001b[39mdot(K[:\u001b[39m-\u001b[39m\u001b[39m1\u001b[39m]\u001b[39m.\u001b[39mT, B)\n\u001b[1;32m     67\u001b[0m f_new \u001b[39m=\u001b[39m fun(t \u001b[39m+\u001b[39m h, y_new)\n",
      "File \u001b[0;32m~/anaconda3/envs/qutip-env/lib/python3.10/site-packages/scipy/integrate/_ivp/base.py:138\u001b[0m, in \u001b[0;36mOdeSolver.__init__.<locals>.fun\u001b[0;34m(t, y)\u001b[0m\n\u001b[1;32m    136\u001b[0m \u001b[39mdef\u001b[39;00m \u001b[39mfun\u001b[39m(t, y):\n\u001b[1;32m    137\u001b[0m     \u001b[39mself\u001b[39m\u001b[39m.\u001b[39mnfev \u001b[39m+\u001b[39m\u001b[39m=\u001b[39m \u001b[39m1\u001b[39m\n\u001b[0;32m--> 138\u001b[0m     \u001b[39mreturn\u001b[39;00m \u001b[39mself\u001b[39;49m\u001b[39m.\u001b[39;49mfun_single(t, y)\n",
      "File \u001b[0;32m~/anaconda3/envs/qutip-env/lib/python3.10/site-packages/scipy/integrate/_ivp/base.py:20\u001b[0m, in \u001b[0;36mcheck_arguments.<locals>.fun_wrapped\u001b[0;34m(t, y)\u001b[0m\n\u001b[1;32m     19\u001b[0m \u001b[39mdef\u001b[39;00m \u001b[39mfun_wrapped\u001b[39m(t, y):\n\u001b[0;32m---> 20\u001b[0m     \u001b[39mreturn\u001b[39;00m np\u001b[39m.\u001b[39masarray(fun(t, y), dtype\u001b[39m=\u001b[39mdtype)\n",
      "File \u001b[0;32m~/Documents/Uni/Bachelor/Semester 8/Bachelorarbeit /TDVP_and_QAOA/qaoa_and_tdvp.py:928\u001b[0m, in \u001b[0;36mtdvp_optimize_qaoa.<locals>.tdvp_rhs\u001b[0;34m(t, x)\u001b[0m\n\u001b[1;32m    926\u001b[0m rhs_step \u001b[39m+\u001b[39m\u001b[39m=\u001b[39m \u001b[39m1\u001b[39m\n\u001b[1;32m    927\u001b[0m \u001b[39mprint\u001b[39m(\u001b[39mf\u001b[39m\u001b[39m\"\u001b[39m\u001b[39mrhs step \u001b[39m\u001b[39m{\u001b[39;00mrhs_step\u001b[39m}\u001b[39;00m\u001b[39m\"\u001b[39m, end\u001b[39m=\u001b[39m\u001b[39m\"\u001b[39m\u001b[39m\\r\u001b[39;00m\u001b[39m\"\u001b[39m)\n\u001b[0;32m--> 928\u001b[0m \u001b[39mreturn\u001b[39;00m qaoa_tdvp_rhs(t, x, qaoa)\n",
      "File \u001b[0;32m~/Documents/Uni/Bachelor/Semester 8/Bachelorarbeit /TDVP_and_QAOA/qaoa_and_tdvp.py:859\u001b[0m, in \u001b[0;36mqaoa_tdvp_rhs\u001b[0;34m(t, x, qaoa)\u001b[0m\n\u001b[1;32m    847\u001b[0m \u001b[39m\"\"\"right hand side of linear equation system of tdvp. In the right format for the scipy solvers.\u001b[39;00m\n\u001b[1;32m    848\u001b[0m \u001b[39mUses the qaoa class to calculate the gradient and gram matrix.\u001b[39;00m\n\u001b[1;32m    849\u001b[0m \u001b[39mInverts the gram matrix using the scipy linalg.inv.\u001b[39;00m\n\u001b[0;32m   (...)\u001b[0m\n\u001b[1;32m    856\u001b[0m \u001b[39m    NDArray: the matrix defining the RHS of the equation\u001b[39;00m\n\u001b[1;32m    857\u001b[0m \u001b[39m\"\"\"\u001b[39;00m\n\u001b[1;32m    858\u001b[0m _ \u001b[39m=\u001b[39m t\n\u001b[0;32m--> 859\u001b[0m inv_real_gram \u001b[39m=\u001b[39m linalg\u001b[39m.\u001b[39minv(\u001b[39m2\u001b[39m \u001b[39m*\u001b[39m np\u001b[39m.\u001b[39mreal(qaoa\u001b[39m.\u001b[39;49mgram(x)))\n\u001b[1;32m    860\u001b[0m real_grad \u001b[39m=\u001b[39m \u001b[39m2\u001b[39m \u001b[39m*\u001b[39m np\u001b[39m.\u001b[39mreal(qaoa\u001b[39m.\u001b[39mgrad(x))\n\u001b[1;32m    861\u001b[0m \u001b[39mreturn\u001b[39;00m np\u001b[39m.\u001b[39marray(\u001b[39m-\u001b[39minv_real_gram \u001b[39m*\u001b[39m real_grad\u001b[39m.\u001b[39mT)\u001b[39m.\u001b[39mflatten()\n",
      "File \u001b[0;32m~/Documents/Uni/Bachelor/Semester 8/Bachelorarbeit /TDVP_and_QAOA/qaoa_and_tdvp.py:491\u001b[0m, in \u001b[0;36mQAOA.gram\u001b[0;34m(self, delta)\u001b[0m\n\u001b[1;32m    488\u001b[0m gram \u001b[39m=\u001b[39m np\u001b[39m.\u001b[39mzeros((\u001b[39m2\u001b[39m \u001b[39m*\u001b[39m \u001b[39mself\u001b[39m\u001b[39m.\u001b[39mp, \u001b[39m2\u001b[39m \u001b[39m*\u001b[39m \u001b[39mself\u001b[39m\u001b[39m.\u001b[39mp), dtype\u001b[39m=\u001b[39mnp\u001b[39m.\u001b[39mcomplex128)\n\u001b[1;32m    489\u001b[0m \u001b[39m# populate the upper triangular part and diagonal of the gram matrix using self._Gij\u001b[39;00m\n\u001b[1;32m    490\u001b[0m \u001b[39m# np.triu_indices returns the indices of the upper triangular part of a matrix\u001b[39;00m\n\u001b[0;32m--> 491\u001b[0m gram[np\u001b[39m.\u001b[39mtriu_indices(\u001b[39m2\u001b[39m \u001b[39m*\u001b[39m \u001b[39mself\u001b[39m\u001b[39m.\u001b[39mp)] \u001b[39m=\u001b[39m \u001b[39mself\u001b[39;49m\u001b[39m.\u001b[39;49mmapping(\n\u001b[1;32m    492\u001b[0m     task\u001b[39m=\u001b[39;49m\u001b[39mself\u001b[39;49m\u001b[39m.\u001b[39;49m_Gij,\n\u001b[1;32m    493\u001b[0m     values\u001b[39m=\u001b[39;49m\u001b[39mlist\u001b[39;49m(\n\u001b[1;32m    494\u001b[0m         combinations_with_replacement(\u001b[39mrange\u001b[39;49m(\u001b[39m2\u001b[39;49m \u001b[39m*\u001b[39;49m \u001b[39mself\u001b[39;49m\u001b[39m.\u001b[39;49mp), r\u001b[39m=\u001b[39;49m\u001b[39m2\u001b[39;49m)\n\u001b[1;32m    495\u001b[0m     ),  \u001b[39m# all combinations of indices, including the diagonal\u001b[39;49;00m\n\u001b[1;32m    496\u001b[0m     task_args\u001b[39m=\u001b[39;49m(delta,),\n\u001b[1;32m    497\u001b[0m )\n\u001b[1;32m    498\u001b[0m \u001b[39m# use that the gram matrix is hermetian\u001b[39;00m\n\u001b[1;32m    499\u001b[0m \u001b[39m# np.tril_indices returns the indices of the lower triangular part of a matrix, -1 to exclude the diagonal\u001b[39;00m\n\u001b[1;32m    500\u001b[0m gram \u001b[39m=\u001b[39m gram \u001b[39m+\u001b[39m np\u001b[39m.\u001b[39mconj(gram\u001b[39m.\u001b[39mT) \u001b[39m-\u001b[39m np\u001b[39m.\u001b[39mdiag(gram\u001b[39m.\u001b[39mdiagonal())\n",
      "File \u001b[0;32m~/anaconda3/envs/qutip-env/lib/python3.10/site-packages/qutip/parallel.py:230\u001b[0m, in \u001b[0;36mparallel_map\u001b[0;34m(task, values, task_args, task_kwargs, **kwargs)\u001b[0m\n\u001b[1;32m    228\u001b[0m     pool\u001b[39m.\u001b[39mterminate()\n\u001b[1;32m    229\u001b[0m     pool\u001b[39m.\u001b[39mjoin()\n\u001b[0;32m--> 230\u001b[0m     \u001b[39mraise\u001b[39;00m e\n\u001b[1;32m    232\u001b[0m progress_bar\u001b[39m.\u001b[39mfinished()\n\u001b[1;32m    233\u001b[0m os\u001b[39m.\u001b[39menviron[\u001b[39m'\u001b[39m\u001b[39mQUTIP_IN_PARALLEL\u001b[39m\u001b[39m'\u001b[39m] \u001b[39m=\u001b[39m \u001b[39m'\u001b[39m\u001b[39mFALSE\u001b[39m\u001b[39m'\u001b[39m\n",
      "File \u001b[0;32m~/anaconda3/envs/qutip-env/lib/python3.10/site-packages/qutip/parallel.py:221\u001b[0m, in \u001b[0;36mparallel_map\u001b[0;34m(task, values, task_args, task_kwargs, **kwargs)\u001b[0m\n\u001b[1;32m    219\u001b[0m \u001b[39mwhile\u001b[39;00m \u001b[39mnot\u001b[39;00m \u001b[39mall\u001b[39m([ar\u001b[39m.\u001b[39mready() \u001b[39mfor\u001b[39;00m ar \u001b[39min\u001b[39;00m async_res]):\n\u001b[1;32m    220\u001b[0m     \u001b[39mfor\u001b[39;00m ar \u001b[39min\u001b[39;00m async_res:\n\u001b[0;32m--> 221\u001b[0m         ar\u001b[39m.\u001b[39;49mwait(timeout\u001b[39m=\u001b[39;49m\u001b[39m0.1\u001b[39;49m)\n\u001b[1;32m    223\u001b[0m pool\u001b[39m.\u001b[39mterminate()\n\u001b[1;32m    224\u001b[0m pool\u001b[39m.\u001b[39mjoin()\n",
      "File \u001b[0;32m~/anaconda3/envs/qutip-env/lib/python3.10/multiprocessing/pool.py:765\u001b[0m, in \u001b[0;36mApplyResult.wait\u001b[0;34m(self, timeout)\u001b[0m\n\u001b[1;32m    764\u001b[0m \u001b[39mdef\u001b[39;00m \u001b[39mwait\u001b[39m(\u001b[39mself\u001b[39m, timeout\u001b[39m=\u001b[39m\u001b[39mNone\u001b[39;00m):\n\u001b[0;32m--> 765\u001b[0m     \u001b[39mself\u001b[39;49m\u001b[39m.\u001b[39;49m_event\u001b[39m.\u001b[39;49mwait(timeout)\n",
      "File \u001b[0;32m~/anaconda3/envs/qutip-env/lib/python3.10/threading.py:607\u001b[0m, in \u001b[0;36mEvent.wait\u001b[0;34m(self, timeout)\u001b[0m\n\u001b[1;32m    605\u001b[0m signaled \u001b[39m=\u001b[39m \u001b[39mself\u001b[39m\u001b[39m.\u001b[39m_flag\n\u001b[1;32m    606\u001b[0m \u001b[39mif\u001b[39;00m \u001b[39mnot\u001b[39;00m signaled:\n\u001b[0;32m--> 607\u001b[0m     signaled \u001b[39m=\u001b[39m \u001b[39mself\u001b[39;49m\u001b[39m.\u001b[39;49m_cond\u001b[39m.\u001b[39;49mwait(timeout)\n\u001b[1;32m    608\u001b[0m \u001b[39mreturn\u001b[39;00m signaled\n",
      "File \u001b[0;32m~/anaconda3/envs/qutip-env/lib/python3.10/threading.py:324\u001b[0m, in \u001b[0;36mCondition.wait\u001b[0;34m(self, timeout)\u001b[0m\n\u001b[1;32m    322\u001b[0m \u001b[39melse\u001b[39;00m:\n\u001b[1;32m    323\u001b[0m     \u001b[39mif\u001b[39;00m timeout \u001b[39m>\u001b[39m \u001b[39m0\u001b[39m:\n\u001b[0;32m--> 324\u001b[0m         gotit \u001b[39m=\u001b[39m waiter\u001b[39m.\u001b[39;49macquire(\u001b[39mTrue\u001b[39;49;00m, timeout)\n\u001b[1;32m    325\u001b[0m     \u001b[39melse\u001b[39;00m:\n\u001b[1;32m    326\u001b[0m         gotit \u001b[39m=\u001b[39m waiter\u001b[39m.\u001b[39macquire(\u001b[39mFalse\u001b[39;00m)\n",
      "\u001b[0;31mKeyboardInterrupt\u001b[0m: "
     ]
    }
   ],
   "source": [
    "# for this instance with p=4, Euler sovler did not succeed with grad_tol 1e-3 and Delta .1\n",
    "qaoa_hard = QAOA(instances[0].qubo, p=4)\n",
    "bench.run(qaoa_hard,delta_0=delta, tdvp_stepsize=1, p=4, tdvp_grad_tol=1e-3, tdvp_lineq_solver=\"RK45\")\n"
   ]
  },
  {
   "cell_type": "code",
   "execution_count": null,
   "metadata": {},
   "outputs": [],
   "source": [
    "bench.save(\"n_4_first_instance_p_4_RK45\")"
   ]
  },
  {
   "cell_type": "code",
   "execution_count": null,
   "metadata": {},
   "outputs": [],
   "source": []
  },
  {
   "cell_type": "code",
   "execution_count": 3,
   "metadata": {},
   "outputs": [
    {
     "name": "stdout",
     "output_type": "stream",
     "text": [
      "instance 0/6\n",
      "\t p = 1/4\n",
      "rhs step 2\r"
     ]
    },
    {
     "ename": "KeyboardInterrupt",
     "evalue": "",
     "output_type": "error",
     "traceback": [
      "\u001b[0;31m---------------------------------------------------------------------------\u001b[0m",
      "\u001b[0;31mKeyboardInterrupt\u001b[0m                         Traceback (most recent call last)",
      "\u001b[1;32m/home/leonhard/Documents/Uni/Bachelor/Semester 8/Bachelorarbeit /TDVP_and_QAOA/benchmarks.ipynb Cell 6\u001b[0m in \u001b[0;36m<cell line: 5>\u001b[0;34m()\u001b[0m\n\u001b[1;32m      <a href='vscode-notebook-cell:/home/leonhard/Documents/Uni/Bachelor/Semester%208/Bachelorarbeit%20/TDVP_and_QAOA/benchmarks.ipynb#W5sZmlsZQ%3D%3D?line=7'>8</a>\u001b[0m \u001b[39mfor\u001b[39;00m p \u001b[39min\u001b[39;00m \u001b[39mrange\u001b[39m(min_p, max_p\u001b[39m+\u001b[39m\u001b[39m1\u001b[39m):\n\u001b[1;32m      <a href='vscode-notebook-cell:/home/leonhard/Documents/Uni/Bachelor/Semester%208/Bachelorarbeit%20/TDVP_and_QAOA/benchmarks.ipynb#W5sZmlsZQ%3D%3D?line=8'>9</a>\u001b[0m     \u001b[39mprint\u001b[39m(\u001b[39mf\u001b[39m\u001b[39m\"\u001b[39m\u001b[39m\\t\u001b[39;00m\u001b[39m p = \u001b[39m\u001b[39m{\u001b[39;00mp\u001b[39m}\u001b[39;00m\u001b[39m/\u001b[39m\u001b[39m{\u001b[39;00mmax_p\u001b[39m}\u001b[39;00m\u001b[39m\"\u001b[39m)\n\u001b[0;32m---> <a href='vscode-notebook-cell:/home/leonhard/Documents/Uni/Bachelor/Semester%208/Bachelorarbeit%20/TDVP_and_QAOA/benchmarks.ipynb#W5sZmlsZQ%3D%3D?line=9'>10</a>\u001b[0m     bench\u001b[39m.\u001b[39;49mrun(\n\u001b[1;32m     <a href='vscode-notebook-cell:/home/leonhard/Documents/Uni/Bachelor/Semester%208/Bachelorarbeit%20/TDVP_and_QAOA/benchmarks.ipynb#W5sZmlsZQ%3D%3D?line=10'>11</a>\u001b[0m         qaoa\u001b[39m=\u001b[39;49mQAOA(i\u001b[39m.\u001b[39;49mqubo,p\u001b[39m=\u001b[39;49mp),\n\u001b[1;32m     <a href='vscode-notebook-cell:/home/leonhard/Documents/Uni/Bachelor/Semester%208/Bachelorarbeit%20/TDVP_and_QAOA/benchmarks.ipynb#W5sZmlsZQ%3D%3D?line=11'>12</a>\u001b[0m         delta_0\u001b[39m=\u001b[39;49m\u001b[39mtuple\u001b[39;49m(\u001b[39m1\u001b[39;49m \u001b[39mfor\u001b[39;49;00m _ \u001b[39min\u001b[39;49;00m \u001b[39mrange\u001b[39;49m(\u001b[39m2\u001b[39;49m \u001b[39m*\u001b[39;49m p)),\n\u001b[1;32m     <a href='vscode-notebook-cell:/home/leonhard/Documents/Uni/Bachelor/Semester%208/Bachelorarbeit%20/TDVP_and_QAOA/benchmarks.ipynb#W5sZmlsZQ%3D%3D?line=12'>13</a>\u001b[0m         tdvp_stepsize\u001b[39m=\u001b[39;49mDelta,\n\u001b[1;32m     <a href='vscode-notebook-cell:/home/leonhard/Documents/Uni/Bachelor/Semester%208/Bachelorarbeit%20/TDVP_and_QAOA/benchmarks.ipynb#W5sZmlsZQ%3D%3D?line=13'>14</a>\u001b[0m         tdvp_grad_tol\u001b[39m=\u001b[39;49m\u001b[39m1e-3\u001b[39;49m,\n\u001b[1;32m     <a href='vscode-notebook-cell:/home/leonhard/Documents/Uni/Bachelor/Semester%208/Bachelorarbeit%20/TDVP_and_QAOA/benchmarks.ipynb#W5sZmlsZQ%3D%3D?line=14'>15</a>\u001b[0m         tdvp_lineq_solver\u001b[39m=\u001b[39;49m\u001b[39m\"\u001b[39;49m\u001b[39meuler\u001b[39;49m\u001b[39m\"\u001b[39;49m,\n\u001b[1;32m     <a href='vscode-notebook-cell:/home/leonhard/Documents/Uni/Bachelor/Semester%208/Bachelorarbeit%20/TDVP_and_QAOA/benchmarks.ipynb#W5sZmlsZQ%3D%3D?line=15'>16</a>\u001b[0m     )\n\u001b[1;32m     <a href='vscode-notebook-cell:/home/leonhard/Documents/Uni/Bachelor/Semester%208/Bachelorarbeit%20/TDVP_and_QAOA/benchmarks.ipynb#W5sZmlsZQ%3D%3D?line=16'>17</a>\u001b[0m     instance_results[p] \u001b[39m=\u001b[39m bench\u001b[39m.\u001b[39mresults\n\u001b[1;32m     <a href='vscode-notebook-cell:/home/leonhard/Documents/Uni/Bachelor/Semester%208/Bachelorarbeit%20/TDVP_and_QAOA/benchmarks.ipynb#W5sZmlsZQ%3D%3D?line=17'>18</a>\u001b[0m results\u001b[39m.\u001b[39mappend((i, instance_results))\n",
      "File \u001b[0;32m~/Documents/Uni/Bachelor/Semester 8/Bachelorarbeit /TDVP_and_QAOA/benchmark.py:100\u001b[0m, in \u001b[0;36mBenchmark.run\u001b[0;34m(self, qaoa, delta_0, p, tdvp_stepsize, tdvp_grad_tol, tdvp_lineq_solver)\u001b[0m\n\u001b[1;32m     98\u001b[0m \u001b[39mif\u001b[39;00m p \u001b[39mis\u001b[39;00m \u001b[39mnot\u001b[39;00m \u001b[39mNone\u001b[39;00m:\n\u001b[1;32m     99\u001b[0m     qaoa\u001b[39m.\u001b[39mp \u001b[39m=\u001b[39m p\n\u001b[0;32m--> 100\u001b[0m tdvp_res \u001b[39m=\u001b[39m tdvp_optimize_qaoa(\n\u001b[1;32m    101\u001b[0m     qaoa\u001b[39m=\u001b[39;49mqaoa,\n\u001b[1;32m    102\u001b[0m     delta_0\u001b[39m=\u001b[39;49mdelta_0,\n\u001b[1;32m    103\u001b[0m     Delta\u001b[39m=\u001b[39;49mtdvp_stepsize,\n\u001b[1;32m    104\u001b[0m     grad_tol\u001b[39m=\u001b[39;49mtdvp_grad_tol,\n\u001b[1;32m    105\u001b[0m     int_mode\u001b[39m=\u001b[39;49mtdvp_lineq_solver,\n\u001b[1;32m    106\u001b[0m )\n\u001b[1;32m    107\u001b[0m scipy_res \u001b[39m=\u001b[39m scipy_optimize(delta_0\u001b[39m=\u001b[39mdelta_0, qaoa\u001b[39m=\u001b[39mqaoa)\n\u001b[1;32m    108\u001b[0m \u001b[39mself\u001b[39m\u001b[39m.\u001b[39mresults\u001b[39m.\u001b[39mappend(\n\u001b[1;32m    109\u001b[0m     {\n\u001b[1;32m    110\u001b[0m         \u001b[39m\"\u001b[39m\u001b[39mtdvp\u001b[39m\u001b[39m\"\u001b[39m: tdvp_res,\n\u001b[0;32m   (...)\u001b[0m\n\u001b[1;32m    117\u001b[0m     }\n\u001b[1;32m    118\u001b[0m )\n",
      "File \u001b[0;32m~/Documents/Uni/Bachelor/Semester 8/Bachelorarbeit /TDVP_and_QAOA/qaoa_and_tdvp.py:958\u001b[0m, in \u001b[0;36mtdvp_optimize_qaoa\u001b[0;34m(qaoa, delta_0, Delta, rhs_mode, int_mode, grad_tol, max_iter)\u001b[0m\n\u001b[1;32m    956\u001b[0m \u001b[39m# perform the solving loop\u001b[39;00m\n\u001b[1;32m    957\u001b[0m \u001b[39mwhile\u001b[39;00m rhs_step \u001b[39m<\u001b[39m max_iter:\n\u001b[0;32m--> 958\u001b[0m     rhs \u001b[39m=\u001b[39m tdvp_rhs(\u001b[39m0\u001b[39;49m, delta)  \u001b[39m# tdvp_rhs increases rhs_step by 1\u001b[39;00m\n\u001b[1;32m    959\u001b[0m     delta \u001b[39m=\u001b[39m delta \u001b[39m+\u001b[39m Delta \u001b[39m*\u001b[39m rhs\n\u001b[1;32m    960\u001b[0m     \u001b[39mif\u001b[39;00m linalg\u001b[39m.\u001b[39mnorm(rhs) \u001b[39m<\u001b[39m grad_tol:  \u001b[39m# break when gradient is small enough\u001b[39;00m\n",
      "File \u001b[0;32m~/Documents/Uni/Bachelor/Semester 8/Bachelorarbeit /TDVP_and_QAOA/qaoa_and_tdvp.py:928\u001b[0m, in \u001b[0;36mtdvp_optimize_qaoa.<locals>.tdvp_rhs\u001b[0;34m(t, x)\u001b[0m\n\u001b[1;32m    926\u001b[0m rhs_step \u001b[39m+\u001b[39m\u001b[39m=\u001b[39m \u001b[39m1\u001b[39m\n\u001b[1;32m    927\u001b[0m \u001b[39mprint\u001b[39m(\u001b[39mf\u001b[39m\u001b[39m\"\u001b[39m\u001b[39mrhs step \u001b[39m\u001b[39m{\u001b[39;00mrhs_step\u001b[39m}\u001b[39;00m\u001b[39m\"\u001b[39m, end\u001b[39m=\u001b[39m\u001b[39m\"\u001b[39m\u001b[39m\\r\u001b[39;00m\u001b[39m\"\u001b[39m)\n\u001b[0;32m--> 928\u001b[0m \u001b[39mreturn\u001b[39;00m qaoa_tdvp_rhs(t, x, qaoa)\n",
      "File \u001b[0;32m~/Documents/Uni/Bachelor/Semester 8/Bachelorarbeit /TDVP_and_QAOA/qaoa_and_tdvp.py:860\u001b[0m, in \u001b[0;36mqaoa_tdvp_rhs\u001b[0;34m(t, x, qaoa)\u001b[0m\n\u001b[1;32m    858\u001b[0m _ \u001b[39m=\u001b[39m t\n\u001b[1;32m    859\u001b[0m inv_real_gram \u001b[39m=\u001b[39m linalg\u001b[39m.\u001b[39minv(\u001b[39m2\u001b[39m \u001b[39m*\u001b[39m np\u001b[39m.\u001b[39mreal(qaoa\u001b[39m.\u001b[39mgram(x)))\n\u001b[0;32m--> 860\u001b[0m real_grad \u001b[39m=\u001b[39m \u001b[39m2\u001b[39m \u001b[39m*\u001b[39m np\u001b[39m.\u001b[39mreal(qaoa\u001b[39m.\u001b[39;49mgrad(x))\n\u001b[1;32m    861\u001b[0m \u001b[39mreturn\u001b[39;00m np\u001b[39m.\u001b[39marray(\u001b[39m-\u001b[39minv_real_gram \u001b[39m*\u001b[39m real_grad\u001b[39m.\u001b[39mT)\u001b[39m.\u001b[39mflatten()\n",
      "File \u001b[0;32m~/Documents/Uni/Bachelor/Semester 8/Bachelorarbeit /TDVP_and_QAOA/qaoa_and_tdvp.py:559\u001b[0m, in \u001b[0;36mQAOA.grad\u001b[0;34m(self, delta)\u001b[0m\n\u001b[1;32m    553\u001b[0m \u001b[39mdef\u001b[39;00m \u001b[39mgrad\u001b[39m(\n\u001b[1;32m    554\u001b[0m     \u001b[39mself\u001b[39m,\n\u001b[1;32m    555\u001b[0m     delta: \u001b[39mtuple\u001b[39m[\u001b[39mfloat\u001b[39m],\n\u001b[1;32m    556\u001b[0m     \u001b[39m# **kwargs #not sure if necessary\u001b[39;00m\n\u001b[1;32m    557\u001b[0m ) \u001b[39m-\u001b[39m\u001b[39m>\u001b[39m NDArray:\n\u001b[1;32m    558\u001b[0m     \u001b[39mreturn\u001b[39;00m np\u001b[39m.\u001b[39mmatrix(\n\u001b[0;32m--> 559\u001b[0m         \u001b[39mself\u001b[39;49m\u001b[39m.\u001b[39;49mmapping(\u001b[39mself\u001b[39;49m\u001b[39m.\u001b[39;49m_grad_element, \u001b[39mrange\u001b[39;49m(\u001b[39mlen\u001b[39;49m(delta)), task_args\u001b[39m=\u001b[39;49m(delta,))\n\u001b[1;32m    560\u001b[0m     )\n",
      "File \u001b[0;32m~/anaconda3/envs/qutip-env/lib/python3.10/site-packages/qutip/parallel.py:230\u001b[0m, in \u001b[0;36mparallel_map\u001b[0;34m(task, values, task_args, task_kwargs, **kwargs)\u001b[0m\n\u001b[1;32m    228\u001b[0m     pool\u001b[39m.\u001b[39mterminate()\n\u001b[1;32m    229\u001b[0m     pool\u001b[39m.\u001b[39mjoin()\n\u001b[0;32m--> 230\u001b[0m     \u001b[39mraise\u001b[39;00m e\n\u001b[1;32m    232\u001b[0m progress_bar\u001b[39m.\u001b[39mfinished()\n\u001b[1;32m    233\u001b[0m os\u001b[39m.\u001b[39menviron[\u001b[39m'\u001b[39m\u001b[39mQUTIP_IN_PARALLEL\u001b[39m\u001b[39m'\u001b[39m] \u001b[39m=\u001b[39m \u001b[39m'\u001b[39m\u001b[39mFALSE\u001b[39m\u001b[39m'\u001b[39m\n",
      "File \u001b[0;32m~/anaconda3/envs/qutip-env/lib/python3.10/site-packages/qutip/parallel.py:221\u001b[0m, in \u001b[0;36mparallel_map\u001b[0;34m(task, values, task_args, task_kwargs, **kwargs)\u001b[0m\n\u001b[1;32m    219\u001b[0m \u001b[39mwhile\u001b[39;00m \u001b[39mnot\u001b[39;00m \u001b[39mall\u001b[39m([ar\u001b[39m.\u001b[39mready() \u001b[39mfor\u001b[39;00m ar \u001b[39min\u001b[39;00m async_res]):\n\u001b[1;32m    220\u001b[0m     \u001b[39mfor\u001b[39;00m ar \u001b[39min\u001b[39;00m async_res:\n\u001b[0;32m--> 221\u001b[0m         ar\u001b[39m.\u001b[39;49mwait(timeout\u001b[39m=\u001b[39;49m\u001b[39m0.1\u001b[39;49m)\n\u001b[1;32m    223\u001b[0m pool\u001b[39m.\u001b[39mterminate()\n\u001b[1;32m    224\u001b[0m pool\u001b[39m.\u001b[39mjoin()\n",
      "File \u001b[0;32m~/anaconda3/envs/qutip-env/lib/python3.10/multiprocessing/pool.py:765\u001b[0m, in \u001b[0;36mApplyResult.wait\u001b[0;34m(self, timeout)\u001b[0m\n\u001b[1;32m    764\u001b[0m \u001b[39mdef\u001b[39;00m \u001b[39mwait\u001b[39m(\u001b[39mself\u001b[39m, timeout\u001b[39m=\u001b[39m\u001b[39mNone\u001b[39;00m):\n\u001b[0;32m--> 765\u001b[0m     \u001b[39mself\u001b[39;49m\u001b[39m.\u001b[39;49m_event\u001b[39m.\u001b[39;49mwait(timeout)\n",
      "File \u001b[0;32m~/anaconda3/envs/qutip-env/lib/python3.10/threading.py:607\u001b[0m, in \u001b[0;36mEvent.wait\u001b[0;34m(self, timeout)\u001b[0m\n\u001b[1;32m    605\u001b[0m signaled \u001b[39m=\u001b[39m \u001b[39mself\u001b[39m\u001b[39m.\u001b[39m_flag\n\u001b[1;32m    606\u001b[0m \u001b[39mif\u001b[39;00m \u001b[39mnot\u001b[39;00m signaled:\n\u001b[0;32m--> 607\u001b[0m     signaled \u001b[39m=\u001b[39m \u001b[39mself\u001b[39;49m\u001b[39m.\u001b[39;49m_cond\u001b[39m.\u001b[39;49mwait(timeout)\n\u001b[1;32m    608\u001b[0m \u001b[39mreturn\u001b[39;00m signaled\n",
      "File \u001b[0;32m~/anaconda3/envs/qutip-env/lib/python3.10/threading.py:324\u001b[0m, in \u001b[0;36mCondition.wait\u001b[0;34m(self, timeout)\u001b[0m\n\u001b[1;32m    322\u001b[0m \u001b[39melse\u001b[39;00m:\n\u001b[1;32m    323\u001b[0m     \u001b[39mif\u001b[39;00m timeout \u001b[39m>\u001b[39m \u001b[39m0\u001b[39m:\n\u001b[0;32m--> 324\u001b[0m         gotit \u001b[39m=\u001b[39m waiter\u001b[39m.\u001b[39;49macquire(\u001b[39mTrue\u001b[39;49;00m, timeout)\n\u001b[1;32m    325\u001b[0m     \u001b[39melse\u001b[39;00m:\n\u001b[1;32m    326\u001b[0m         gotit \u001b[39m=\u001b[39m waiter\u001b[39m.\u001b[39macquire(\u001b[39mFalse\u001b[39;00m)\n",
      "\u001b[0;31mKeyboardInterrupt\u001b[0m: "
     ]
    }
   ],
   "source": [
    "results = list()\n",
    "for num, i in enumerate(instances):\n",
    "    print(f\"instance {num}/{len(instances)}\")\n",
    "    instance_results = dict()\n",
    "    for p in range(min_p, max_p+1):\n",
    "        print(f\"\\t p = {p}/{max_p}\")\n",
    "        bench.run(\n",
    "            qaoa=QAOA(i.qubo,p=p),\n",
    "            delta_0=tuple(1 for _ in range(2 * p)),\n",
    "            tdvp_stepsize=Delta,\n",
    "            tdvp_grad_tol=1e-3,\n",
    "            p=p,\n",
    "            tdvp_lineq_solver=\"euler\",\n",
    "        )\n",
    "        instance_results[p] = bench.results\n",
    "    results.append((i, instance_results))\n",
    "    bench.save(\"Euler_p1-5_n4.p\")"
   ]
  },
  {
   "cell_type": "code",
   "execution_count": null,
   "metadata": {},
   "outputs": [],
   "source": [
    "n = 5\n",
    "with open(f\"./instances/n{n}_instances.p\",\"rb\") as f:\n",
    "    instances = pickle.load(f)\n",
    "delta = tuple(1 for _ in range(2 * n))\n",
    "bench = Benchmark()"
   ]
  },
  {
   "cell_type": "code",
   "execution_count": null,
   "metadata": {},
   "outputs": [],
   "source": [
    "Delta = .1\n",
    "min_p =1\n",
    "max_p = 4\n",
    "results = list()\n",
    "for num, i in enumerate(instances):\n",
    "    print(f\"instance {num}/{len(instances)}\")\n",
    "    instance_results = dict()\n",
    "    for p in range(min_p, max_p+1):\n",
    "        print(f\"\\t p = {p}/{max_p}\")\n",
    "        bench.run(\n",
    "            qaoa=QAOA(i.qubo,p=p),\n",
    "            delta_0=tuple(1 for _ in range(2 * p)),\n",
    "            tdvp_stepsize=Delta,\n",
    "            tdvp_grad_tol=1e-3,\n",
    "            tdvp_lineq_solver=\"euler\",\n",
    "        )\n",
    "        instance_results[p] = bench.results\n",
    "    results.append((i, instance_results))\n",
    "    bench.save(\"Euler_p1-5_n5.p\")"
   ]
  },
  {
   "cell_type": "code",
   "execution_count": null,
   "metadata": {},
   "outputs": [],
   "source": [
    "import os\n",
    "os.system('shutdown -s -t 1')"
   ]
  }
 ],
 "metadata": {
  "kernelspec": {
   "display_name": "Python 3 (ipykernel)",
   "language": "python",
   "name": "python3"
  },
  "language_info": {
   "codemirror_mode": {
    "name": "ipython",
    "version": 3
   },
   "file_extension": ".py",
   "mimetype": "text/x-python",
   "name": "python",
   "nbconvert_exporter": "python",
   "pygments_lexer": "ipython3",
   "version": "3.10.6"
  },
  "varInspector": {
   "cols": {
    "lenName": 16,
    "lenType": 16,
    "lenVar": 40
   },
   "kernels_config": {
    "python": {
     "delete_cmd_postfix": "",
     "delete_cmd_prefix": "del ",
     "library": "var_list.py",
     "varRefreshCmd": "print(var_dic_list())"
    },
    "r": {
     "delete_cmd_postfix": ") ",
     "delete_cmd_prefix": "rm(",
     "library": "var_list.r",
     "varRefreshCmd": "cat(var_dic_list()) "
    }
   },
   "types_to_exclude": [
    "module",
    "function",
    "builtin_function_or_method",
    "instance",
    "_Feature"
   ],
   "window_display": false
  },
  "vscode": {
   "interpreter": {
    "hash": "fe45c953e7d91ced0867b19789acd0ab1d9439aa0b1f4fae31fd46e88f74aeab"
   }
  }
 },
 "nbformat": 4,
 "nbformat_minor": 2
}
