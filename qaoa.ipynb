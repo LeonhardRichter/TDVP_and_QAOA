{
 "cells": [
  {
   "cell_type": "code",
   "execution_count": 55,
   "metadata": {},
   "outputs": [],
   "source": [
    "from abc import ABCMeta\n",
    "from typing import Union, Iterable, Callable\\\n",
    "\n",
    "from itertools import combinations\n",
    "\n",
    "from qutip import *\n",
    "from qutip.qip.operations import *\n",
    "from qutip.qip.circuit import QubitCircuit, Gate\n",
    "\n",
    "import numpy as np\n",
    "from numpy.typing import ArrayLike\n",
    "from numpy import pi\n",
    "\n",
    "import scipy as sp\n",
    "import scipy.integrate as spint\n",
    "import scipy.linalg as splinalg\n",
    "import scipy.optimize as spopt\n",
    "\n",
    "import plotly.express as px\n",
    "\n",
    "import matplotlib.pyplot as plt"
   ]
  },
  {
   "cell_type": "markdown",
   "metadata": {},
   "source": [
    "Implemet simple ´qaoa´ solver for general Hamiltonian given as $Z$-polynomial\n",
    "\n",
    "$$\n",
    "\n",
    "    H = C + \\sum_{i}c_{i}Z_{i} + \\sum_{i,j}c_{i,j}Z_{i}Z_{j} + \\sum_{i,j,k}c_{i,j,k}Z_{i}Z_{j}Z_{k} + \\dots\n",
    "\n",
    "$$\n",
    "\\\\\n",
    "For that write global functions for all parts of `qaoa` $\\rightarrow$ *trial state preperation*, *measurement*, computing the *expectation* .\n",
    "Write custom, abstract `OPTIMIZER` class wich can be substituted by scipy optimizers like `cobyla` and then later by the `tdvp optimizer`. "
   ]
  },
  {
   "cell_type": "code",
   "execution_count": 54,
   "metadata": {},
   "outputs": [],
   "source": [
    "def sz(n:int,i:int):\n",
    "    return expand_operator(sigmaz(),n,i,[2 for _ in range(n)])\n",
    "\n",
    "def sx(n:int,i:int):\n",
    "    return expand_operator(sigmax(),n,i,[2 for _ in range(n)])\n",
    "    \n",
    "H = tensor(sigmaz(),sigmaz(),sigmaz())\n",
    "B = sum([sx(3,_) for _ in range(3)])\n",
    "minus = (basis(2,0)-basis(2,1)).unit()\n",
    "minus_minus = tensor(minus,minus)\n",
    "\n",
    "def rzz(arg_value):\n",
    "    return tensor(rz(arg_value),rz(-arg_value))"
   ]
  },
  {
   "cell_type": "code",
   "execution_count": 5,
   "metadata": {},
   "outputs": [
    {
     "data": {
      "text/latex": [
       "Quantum object: dims = [[2, 2, 2], [2, 2, 2]], shape = (8, 8), type = oper, isherm = True\\begin{equation*}\\left(\\begin{array}{*{11}c}0.0 & 1.0 & 1.0 & 0.0 & 1.0 & 0.0 & 0.0 & 0.0\\\\1.0 & 0.0 & 0.0 & 1.0 & 0.0 & 1.0 & 0.0 & 0.0\\\\1.0 & 0.0 & 0.0 & 1.0 & 0.0 & 0.0 & 1.0 & 0.0\\\\0.0 & 1.0 & 1.0 & 0.0 & 0.0 & 0.0 & 0.0 & 1.0\\\\1.0 & 0.0 & 0.0 & 0.0 & 0.0 & 1.0 & 1.0 & 0.0\\\\0.0 & 1.0 & 0.0 & 0.0 & 1.0 & 0.0 & 0.0 & 1.0\\\\0.0 & 0.0 & 1.0 & 0.0 & 1.0 & 0.0 & 0.0 & 1.0\\\\0.0 & 0.0 & 0.0 & 1.0 & 0.0 & 1.0 & 1.0 & 0.0\\\\\\end{array}\\right)\\end{equation*}"
      ],
      "text/plain": [
       "Quantum object: dims = [[2, 2, 2], [2, 2, 2]], shape = (8, 8), type = oper, isherm = True\n",
       "Qobj data =\n",
       "[[0. 1. 1. 0. 1. 0. 0. 0.]\n",
       " [1. 0. 0. 1. 0. 1. 0. 0.]\n",
       " [1. 0. 0. 1. 0. 0. 1. 0.]\n",
       " [0. 1. 1. 0. 0. 0. 0. 1.]\n",
       " [1. 0. 0. 0. 0. 1. 1. 0.]\n",
       " [0. 1. 0. 0. 1. 0. 0. 1.]\n",
       " [0. 0. 1. 0. 1. 0. 0. 1.]\n",
       " [0. 0. 0. 1. 0. 1. 1. 0.]]"
      ]
     },
     "execution_count": 5,
     "metadata": {},
     "output_type": "execute_result"
    }
   ],
   "source": [
    "B"
   ]
  },
  {
   "cell_type": "code",
   "execution_count": 142,
   "metadata": {},
   "outputs": [],
   "source": [
    "def qaoa_circuit(p: int,  betas: list[float], gammas: list[float],\n",
    "                 hamiltonian: Union[ArrayLike, Qobj] = None,\n",
    "                 qubo:ArrayLike=None, linears:ArrayLike=None, quadratics:ArrayLike=None,\n",
    "                 initial_state: Qobj=minus_minus, mixer: Qobj = None) -> QubitCircuit:\n",
    "    # initiailize mixer operator\n",
    "    n = 0\n",
    "\n",
    "    # check input mode, prefere qubo mode\n",
    "    if linears is not None and quadratics is not None:\n",
    "        linears = np.array(linears)\n",
    "        quadratics = np.array(quadratics)\n",
    "        qubo = quadratics.copy()\n",
    "        linears += quadratics.diagonal()\n",
    "        np.fill_diagonal(qubo,linears)\n",
    "    # enter if either qubo input or linears and quadratics were given\n",
    "    if qubo is not None:\n",
    "        qubo = np.array(qubo)\n",
    "        n = qubo.shape[0]\n",
    "        print(n)\n",
    "        # define what to apply to the circuit in each H_p turn\n",
    "        def qcH(gamma:float):\n",
    "            qc = QubitCircuit(n)\n",
    "            qc.user_gates = {\"RZZ\",rzz}\n",
    "            for j in range(n):\n",
    "                print(j)\n",
    "                qc.add_gate(\"RZ\",targets=j, arg_value=2*gamma*qubo[j][j])\n",
    "            for j,k in combinations(range(n),2):\n",
    "                qc.add_gate(\"RZZ\", targets=[j,k], arg_value=2*gamma*qubo[j][k])\n",
    "            return qc\n",
    "    # if no qubo data is given but a Qobj hamiltonian, exponiate it\n",
    "    elif hamiltonian is not None:\n",
    "        assert hamiltonian.isherm, \"hamiltonian must be hermetian\"\n",
    "        n = np.log2(hamiltonian.dims[0][0])\n",
    "        def qcH(gamma:float):\n",
    "            def H_exp(arg_value):\n",
    "                return (-1j*arg_value*H).expm()\n",
    "            qc = QubitCircuit(n)\n",
    "            qc.user_gates = {\"H_exp\":H_exp}\n",
    "            qc.add_gate(\"H_exp\", arg_value=gamma)\n",
    "\n",
    "    assert n>0\n",
    "    assert qcH is not None\n",
    "\n",
    "    # define mixer circuit\n",
    "    if mixer is None:\n",
    "        initial_state_list = ['+' for _ in range(n)]\n",
    "        def qcB(beta:float):\n",
    "            qc = QubitCircuit(n)\n",
    "            qc.add_1q_gate(\"RX\",arg_value=2*beta)\n",
    "            return qc\n",
    "    else:\n",
    "        initial_state_list = None\n",
    "        print(\"Computing groundstate of mixer\")\n",
    "        initial_state = mixer.groundstate()[1]\n",
    "        def B_exp(arg_value):\n",
    "                return (-1j*arg_value*mixer).expm()\n",
    "        def qcB(beta:float):\n",
    "            qc = QubitCircuit(n)\n",
    "            qc.user_gates = {\"B_exp\":B_exp}\n",
    "            qc.add_gate(\"B_exp\", arg_value=beta)\n",
    "\n",
    "\n",
    "    qc = QubitCircuit(n, input_states=initial_state_list)\n",
    "\n",
    "    for i in range(p):\n",
    "        qc.add_circuit(qcH(gammas[i]))\n",
    "        qc.add_circuit(qcB(betas[i]))\n",
    "\n",
    "    return qc\n"
   ]
  },
  {
   "cell_type": "code",
   "execution_count": 144,
   "metadata": {},
   "outputs": [
    {
     "name": "stdout",
     "output_type": "stream",
     "text": [
      "2\n",
      "0\n",
      "1\n",
      "0\n",
      "1\n"
     ]
    }
   ],
   "source": [
    "qaoa = qaoa_circuit(2,[.1,.2],[.3,.4],qubo=np.array([[1,2],[0,3]]))"
   ]
  },
  {
   "cell_type": "code",
   "execution_count": 8,
   "metadata": {},
   "outputs": [],
   "source": [
    "def expectation(circuit, function) -> float:\n",
    "    pass"
   ]
  },
  {
   "cell_type": "code",
   "execution_count": null,
   "metadata": {},
   "outputs": [],
   "source": [
    "class OPTIMIZER(metaclass=ABCMeta):\n",
    "    pass"
   ]
  }
 ],
 "metadata": {
  "kernelspec": {
   "display_name": "Python 3.10.5 ('qutip-env')",
   "language": "python",
   "name": "python3"
  },
  "language_info": {
   "codemirror_mode": {
    "name": "ipython",
    "version": 3
   },
   "file_extension": ".py",
   "mimetype": "text/x-python",
   "name": "python",
   "nbconvert_exporter": "python",
   "pygments_lexer": "ipython3",
   "version": "3.10.5"
  },
  "varInspector": {
   "cols": {
    "lenName": 16,
    "lenType": 16,
    "lenVar": 40
   },
   "kernels_config": {
    "python": {
     "delete_cmd_postfix": "",
     "delete_cmd_prefix": "del ",
     "library": "var_list.py",
     "varRefreshCmd": "print(var_dic_list())"
    },
    "r": {
     "delete_cmd_postfix": ") ",
     "delete_cmd_prefix": "rm(",
     "library": "var_list.r",
     "varRefreshCmd": "cat(var_dic_list()) "
    }
   },
   "types_to_exclude": [
    "module",
    "function",
    "builtin_function_or_method",
    "instance",
    "_Feature"
   ],
   "window_display": false
  },
  "vscode": {
   "interpreter": {
    "hash": "fe45c953e7d91ced0867b19789acd0ab1d9439aa0b1f4fae31fd46e88f74aeab"
   }
  }
 },
 "nbformat": 4,
 "nbformat_minor": 2
}
