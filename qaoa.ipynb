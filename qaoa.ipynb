{
 "cells": [
  {
   "cell_type": "code",
<<<<<<< main
   "execution_count": 16,
   "metadata": {},
   "outputs": [],
   "source": [
    "from abc import ABCMeta\n",
=======
   "execution_count": 1,
   "metadata": {},
   "outputs": [],
   "source": [
    "from abc import ABCMeta, abstractmethod, abstractproperty\n",
    "from typing import Union, Iterable, Callable\\\n",
>>>>>>> origin/main
    "\n",
    "from itertools import combinations\n",
    "\n",
    "from qutip import *\n",
    "from qutip.qip.operations import *\n",
    "from qutip.qip.circuit import QubitCircuit, Gate\n",
    "\n",
    "import numpy as np\n",
    "from numpy.typing import ArrayLike\n",
    "from numpy import pi\n",
    "\n",
    "import scipy as sp\n",
    "import scipy.integrate as spint\n",
    "import scipy.linalg as splinalg\n",
    "from scipy.optimize import minimize, show_options\n",
    "\n",
    "import plotly.express as px\n",
    "\n",
    "import matplotlib.pyplot as plt"
   ]
  },
  {
   "cell_type": "markdown",
   "metadata": {},
   "source": [
    "Implemet simple ´qaoa´ solver for general Hamiltonian given as $Z$-polynomial\n",
    "\n",
    "$$\n",
    "\n",
    "    H = C + \\sum_{i}c_{i}Z_{i} + \\sum_{i,j}c_{i,j}Z_{i}Z_{j} + \\sum_{i,j,k}c_{i,j,k}Z_{i}Z_{j}Z_{k} + \\dots\n",
    "\n",
    "$$\n",
    "\\\\\n",
    "For that write global functions for all parts of `qaoa` $\\rightarrow$ *trial state preperation*, *measurement*, computing the *expectation* .\n",
    "Write custom, abstract `OPTIMIZER` class wich can be substituted by scipy optimizers like `cobyla` and then later by the `tdvp optimizer`. "
   ]
  },
  {
   "cell_type": "code",
<<<<<<< main
   "execution_count": 17,
   "metadata": {},
   "outputs": [],
   "source": [
    "def trial_state(hamiltonian, betas, gammas, mixer , initial_state):\n",
    "    pass"
=======
   "execution_count": 2,
   "metadata": {},
   "outputs": [],
   "source": [
    "def sz(n:int,i:int):\n",
    "    return expand_operator(sigmaz(),n,i,[2 for _ in range(n)])\n",
    "\n",
    "def sx(n:int,i:int):\n",
    "    return expand_operator(sigmax(),n,i,[2 for _ in range(n)])\n",
    "    \n",
    "H = tensor(sigmaz(),sigmaz(),sigmaz())\n",
    "B = sum([sx(3,_) for _ in range(3)])\n",
    "minus = (basis(2,0)-basis(2,1)).unit()\n",
    "minus_minus = tensor(minus,minus)\n",
    "\n",
    "def rzz(arg_value):\n",
    "    return tensor(rz(arg_value),rz(-arg_value))"
   ]
  },
  {
   "cell_type": "code",
   "execution_count": 3,
   "metadata": {},
   "outputs": [
    {
     "data": {
      "text/latex": [
       "Quantum object: dims = [[2, 2, 2], [2, 2, 2]], shape = (8, 8), type = oper, isherm = True\\begin{equation*}\\left(\\begin{array}{*{11}c}0.0 & 1.0 & 1.0 & 0.0 & 1.0 & 0.0 & 0.0 & 0.0\\\\1.0 & 0.0 & 0.0 & 1.0 & 0.0 & 1.0 & 0.0 & 0.0\\\\1.0 & 0.0 & 0.0 & 1.0 & 0.0 & 0.0 & 1.0 & 0.0\\\\0.0 & 1.0 & 1.0 & 0.0 & 0.0 & 0.0 & 0.0 & 1.0\\\\1.0 & 0.0 & 0.0 & 0.0 & 0.0 & 1.0 & 1.0 & 0.0\\\\0.0 & 1.0 & 0.0 & 0.0 & 1.0 & 0.0 & 0.0 & 1.0\\\\0.0 & 0.0 & 1.0 & 0.0 & 1.0 & 0.0 & 0.0 & 1.0\\\\0.0 & 0.0 & 0.0 & 1.0 & 0.0 & 1.0 & 1.0 & 0.0\\\\\\end{array}\\right)\\end{equation*}"
      ],
      "text/plain": [
       "Quantum object: dims = [[2, 2, 2], [2, 2, 2]], shape = (8, 8), type = oper, isherm = True\n",
       "Qobj data =\n",
       "[[0. 1. 1. 0. 1. 0. 0. 0.]\n",
       " [1. 0. 0. 1. 0. 1. 0. 0.]\n",
       " [1. 0. 0. 1. 0. 0. 1. 0.]\n",
       " [0. 1. 1. 0. 0. 0. 0. 1.]\n",
       " [1. 0. 0. 0. 0. 1. 1. 0.]\n",
       " [0. 1. 0. 0. 1. 0. 0. 1.]\n",
       " [0. 0. 1. 0. 1. 0. 0. 1.]\n",
       " [0. 0. 0. 1. 0. 1. 1. 0.]]"
      ]
     },
     "execution_count": 3,
     "metadata": {},
     "output_type": "execute_result"
    }
   ],
   "source": [
    "B"
   ]
  },
  {
   "cell_type": "code",
   "execution_count": 4,
   "metadata": {},
   "outputs": [],
   "source": [
    "\n",
    "def qaoa_circuit(betas: list[float], gammas: list[float],\n",
    "                 hamiltonian: Qobj = None,\n",
    "                 qubo:ArrayLike=None, linears:ArrayLike=None, quadratics:ArrayLike=None, constant:float=None,\n",
    "                 mixer: Qobj = None) -> QubitCircuit:\n",
    "    n = 0\n",
    "    assert len(betas)==len(gammas)\n",
    "    p = len(betas)\n",
    "\n",
    "    # check input mode, prefere qubo mode\n",
    "    if linears is not None and quadratics is not None:\n",
    "        linears = np.array(linears)\n",
    "        quadratics = np.array(quadratics)\n",
    "        qubo = quadratics.copy()\n",
    "        linears += quadratics.diagonal()\n",
    "        np.fill_diagonal(qubo,linears)\n",
    "    # enter if either qubo input or linears and quadratics were given\n",
    "    if qubo is not None:\n",
    "        qubo = np.array(qubo)\n",
    "        n = qubo.shape[0]\n",
    "        # define what to apply to the circuit in each H_p turn\n",
    "        def qcH(gamma:float) -> QubitCircuit:\n",
    "            qc = QubitCircuit(n)\n",
    "            qc.user_gates = {\"RZZ\",rzz}\n",
    "            for j in range(n):\n",
    "                qc.add_gate(\"RZ\",targets=j, arg_value=2*gamma*qubo[j][j])\n",
    "            for j,k in combinations(range(n),2):\n",
    "                qc.add_gate(\"RZZ\", targets=[j,k], arg_value=2*gamma*qubo[j][k])\n",
    "            if constant is not None:\n",
    "                qc.add_gate(\"GLOBALPHASE\",targets=range(n),arg_value=constant)\n",
    "            return qc\n",
    "    # if no qubo data is given but a Qobj hamiltonian, exponiate it\n",
    "    elif hamiltonian is not None:\n",
    "        assert hamiltonian.isherm, \"hamiltonian must be hermetian\"\n",
    "        n = len(hamiltonian.dims[0])\n",
    "        def qcH(gamma:float) -> QubitCircuit:\n",
    "            def H_exp(arg_value):\n",
    "                return (-1j*arg_value*hamiltonian).expm()\n",
    "            qc = QubitCircuit(n)\n",
    "            qc.user_gates = {\"H_exp\":H_exp}\n",
    "            qc.add_gate(\"H_exp\", arg_value=gamma)\n",
    "            return qc\n",
    "\n",
    "    assert n>0\n",
    "    assert qcH is not None\n",
    "\n",
    "    # define mixer circuit\n",
    "    if mixer is None:\n",
    "        def qcB(beta:float) -> QubitCircuit:\n",
    "            qc = QubitCircuit(n)\n",
    "            qc.add_1q_gate(\"RX\",arg_value=2*beta)\n",
    "            return qc\n",
    "    else:\n",
    "        initial_state_list = None\n",
    "        print(\"Computing groundstate of mixer\")\n",
    "        initial_state = mixer.groundstate()[1]\n",
    "        def B_exp(arg_value):\n",
    "                return (-1j*arg_value*mixer).expm()\n",
    "        def qcB(beta:float) -> QubitCircuit:\n",
    "            qc = QubitCircuit(n)\n",
    "            qc.user_gates = {\"B_exp\":B_exp}\n",
    "            qc.add_gate(\"B_exp\", arg_value=beta)\n",
    "\n",
    "\n",
    "    qc = QubitCircuit(n)\n",
    "\n",
    "    for i in range(p):\n",
    "        qc.add_circuit(qcH(gammas[i]))\n",
    "        qc.add_circuit(qcB(betas[i]))\n",
    "\n",
    "    return qc\n"
   ]
  },
  {
   "cell_type": "code",
   "execution_count": 5,
   "metadata": {},
   "outputs": [
    {
     "data": {
      "text/plain": [
       "array([[13.63766463, 12.51275164,  6.20942237],\n",
       "       [12.51275164,  7.62400866, 13.97173115],\n",
       "       [ 6.20942237, 13.97173115, 16.54205745]])"
      ]
     },
     "execution_count": 5,
     "metadata": {},
     "output_type": "execute_result"
    }
   ],
   "source": [
    "qubo = np.random.default_rng(seed=50505050).random(size=(3,3))\n",
    "qubo = (qubo + qubo.T)*10\n",
    "qubo"
   ]
  },
  {
   "cell_type": "code",
   "execution_count": 6,
   "metadata": {},
   "outputs": [],
   "source": [
    "def H_from_qubo(qubo: ArrayLike, constant: float = None) -> QobjEvo:\n",
    "    n = qubo.shape[0]\n",
    "    if constant == None:\n",
    "        qconstant = Qobj(np.full((2**n, 2**n), 0),\n",
    "                         dims=[[2 for _ in range(n)], [2 for _ in range(n)]])\n",
    "    else:\n",
    "        qconstant = constant*qeye([2 for _ in range(n)])\n",
    "    H = sum([qubo[i][i]*sz(n, i) for i in range(n)])\\\n",
    "        + sum([qubo[j][k]*sz(n, j)*sz(n, k)for j, k in combinations(range(n), 2)]) \\\n",
    "        + qconstant\n",
    "    return H\n"
   ]
  },
  {
   "cell_type": "code",
   "execution_count": 7,
   "metadata": {},
   "outputs": [],
   "source": [
    "H = H_from_qubo(qubo)"
>>>>>>> origin/main
   ]
  },
  {
   "cell_type": "code",
   "execution_count": 18,
   "metadata": {},
   "outputs": [
    {
     "data": {
      "text/plain": [
       "-42.83077383273381"
      ]
     },
     "execution_count": 8,
     "metadata": {},
     "output_type": "execute_result"
    }
   ],
   "source": [
    "H.groundstate()[0]"
   ]
  },
  {
   "cell_type": "code",
   "execution_count": 9,
   "metadata": {},
   "outputs": [
    {
     "data": {
      "text/latex": [
       "Quantum object: dims = [[2, 2, 2], [1, 1, 1]], shape = (8, 1), type = ket\\begin{equation*}\\left(\\begin{array}{*{11}c}0.0\\\\0.0\\\\0.0\\\\0.0\\\\0.0\\\\1.0\\\\0.0\\\\0.0\\\\\\end{array}\\right)\\end{equation*}"
      ],
      "text/plain": [
       "Quantum object: dims = [[2, 2, 2], [1, 1, 1]], shape = (8, 1), type = ket\n",
       "Qobj data =\n",
       "[[0.]\n",
       " [0.]\n",
       " [0.]\n",
       " [0.]\n",
       " [0.]\n",
       " [1.]\n",
       " [0.]\n",
       " [0.]]"
      ]
     },
     "execution_count": 9,
     "metadata": {},
     "output_type": "execute_result"
    }
   ],
   "source": [
    "H.groundstate()[1]"
   ]
  },
  {
   "cell_type": "code",
   "execution_count": 11,
   "metadata": {},
   "outputs": [],
   "source": [
    "qaoa = qaoa_circuit(betas=[.1,.1,.1,.1], gammas=[.1,.1,.1,.1], hamiltonian=H)"
   ]
  },
  {
   "cell_type": "code",
   "execution_count": 12,
   "metadata": {},
   "outputs": [],
   "source": [
<<<<<<< main
    "class OPTIMIZER(metaclass=ABCMeta):\n",
    "    def __init__():\n",
    "        pass"
=======
    "result = qaoa.run(state=tensor(minus,minus,minus))"
>>>>>>> origin/main
   ]
  },
  {
   "cell_type": "code",
<<<<<<< main
=======
   "execution_count": 13,
   "metadata": {},
   "outputs": [
    {
     "data": {
      "text/plain": [
       "9.992007221626409e-16"
      ]
     },
     "execution_count": 13,
     "metadata": {},
     "output_type": "execute_result"
    }
   ],
   "source": [
    "expect(H,result)"
   ]
  },
  {
   "cell_type": "code",
   "execution_count": 14,
   "metadata": {},
   "outputs": [],
   "source": [
    "def f(pars: tuple[float], hamiltonian, mixer_ground=None, **kwargs) -> float:\n",
    "    p = int(len(pars)/2)\n",
    "    qc = qaoa_circuit(betas=pars[0:p], gammas=pars[p:2*p], **kwargs)\n",
    "    n = qc.N\n",
    "    if mixer_ground is None:\n",
    "        mixer_ground = tensor([minus for _ in range(n)])\n",
    "    result = qc.run(mixer_ground)\n",
    "    return expect(hamiltonian, result)"
   ]
  },
  {
   "cell_type": "code",
   "execution_count": 15,
   "metadata": {},
   "outputs": [
    {
     "data": {
      "text/plain": [
       "-10.064610038549649"
      ]
     },
     "execution_count": 15,
     "metadata": {},
     "output_type": "execute_result"
    }
   ],
   "source": [
    "f((1,1,1,1,1,1),hamiltonian=H, qubo=qubo, mixer_ground=tensor(minus,minus,minus))"
   ]
  },
  {
   "cell_type": "code",
   "execution_count": 16,
   "metadata": {},
   "outputs": [],
   "source": [
    "class OPTIMIZER(metaclass=ABCMeta):\n",
    "    def __init__(self) -> None:\n",
    "        pass\n",
    "    @abstractproperty\n",
    "    def name()-> str:\n",
    "        return \"abstract optimizer\"\n",
    "\n",
    "    @abstractmethod\n",
    "    def optimize(fun, pars_0, *args):\n",
    "        pass\n"
   ]
  },
  {
   "cell_type": "code",
   "execution_count": 35,
   "metadata": {},
   "outputs": [],
   "source": [
    "opt_result = minimize(lambda pars:f(pars,H,tensor(minus,minus,minus),qubo=qubo),x0=tuple((0 for _ in range(2*10))),method=\"COBYLA\")"
   ]
  },
  {
   "cell_type": "code",
   "execution_count": 36,
   "metadata": {},
   "outputs": [
    {
     "data": {
      "text/plain": [
       "     fun: -42.83013595911695\n",
       "   maxcv: 0.0\n",
       " message: 'Optimization terminated successfully.'\n",
       "    nfev: 412\n",
       "  status: 1\n",
       " success: True\n",
       "       x: array([-0.62366021, -0.60271558, -0.29910013, -0.24296929, -1.0411462 ,\n",
       "       -0.65373126, -0.22568088, -0.64603478, -0.99752997, -0.62736261,\n",
       "        1.23084393,  0.68444176, -0.47356289, -0.26119549, -0.21949086,\n",
       "       -0.27273931, -0.250322  , -0.24041282, -0.17973282, -0.26512136])"
      ]
     },
     "execution_count": 36,
     "metadata": {},
     "output_type": "execute_result"
    }
   ],
   "source": [
    "opt_result"
   ]
  },
  {
   "cell_type": "code",
   "execution_count": 41,
   "metadata": {},
   "outputs": [
    {
     "data": {
      "text/plain": [
       "0.2735809644466029"
      ]
     },
     "execution_count": 41,
     "metadata": {},
     "output_type": "execute_result"
    }
   ],
   "source": [
    "(qaoa_circuit(opt_result.x[:int(len(opt_result.x)/2)],opt_result.x[int(len(opt_result.x)/2):],qubo=qubo).run(state=tensor(minus,minus,minus)) - H.groundstate()[1]).norm()"
   ]
  },
  {
   "cell_type": "code",
   "execution_count": 43,
   "metadata": {},
   "outputs": [],
   "source": [
    "def qaoa_solver(qubo,p):\n",
    "    qubo = np.array(qubo)\n",
    "    n = qubo.shape[0]\n",
    "    H = H_from_qubo(qubo)\n",
    "    ground = tensor([minus for _ in range(n)])\n",
    "\n",
    "    opt_result = minimize(lambda pars:f(pars,H,ground,qubo=qubo),x0=tuple((0 for _ in range(2*p))),method=\"COBYLA\")\n",
    "\n",
    "    return opt_result\n",
    "    "
   ]
  },
  {
   "cell_type": "code",
   "execution_count": 44,
   "metadata": {},
   "outputs": [
    {
     "data": {
      "text/plain": [
       "     fun: -42.83013595911695\n",
       "   maxcv: 0.0\n",
       " message: 'Optimization terminated successfully.'\n",
       "    nfev: 412\n",
       "  status: 1\n",
       " success: True\n",
       "       x: array([-0.62366021, -0.60271558, -0.29910013, -0.24296929, -1.0411462 ,\n",
       "       -0.65373126, -0.22568088, -0.64603478, -0.99752997, -0.62736261,\n",
       "        1.23084393,  0.68444176, -0.47356289, -0.26119549, -0.21949086,\n",
       "       -0.27273931, -0.250322  , -0.24041282, -0.17973282, -0.26512136])"
      ]
     },
     "execution_count": 44,
     "metadata": {},
     "output_type": "execute_result"
    }
   ],
   "source": [
    "qaoa_solver(qubo,10)"
   ]
  },
  {
   "cell_type": "code",
>>>>>>> origin/main
   "execution_count": null,
   "metadata": {},
   "outputs": [],
   "source": []
  }
 ],
 "metadata": {
  "kernelspec": {
   "display_name": "Python 3.10.5 ('qutip-env')",
   "language": "python",
   "name": "python3"
  },
  "language_info": {
   "codemirror_mode": {
    "name": "ipython",
    "version": 3
   },
   "file_extension": ".py",
   "mimetype": "text/x-python",
   "name": "python",
   "nbconvert_exporter": "python",
   "pygments_lexer": "ipython3",
   "version": "3.10.5"
  },
  "varInspector": {
   "cols": {
    "lenName": 16,
    "lenType": 16,
    "lenVar": 40
   },
   "kernels_config": {
    "python": {
     "delete_cmd_postfix": "",
     "delete_cmd_prefix": "del ",
     "library": "var_list.py",
     "varRefreshCmd": "print(var_dic_list())"
    },
    "r": {
     "delete_cmd_postfix": ") ",
     "delete_cmd_prefix": "rm(",
     "library": "var_list.r",
     "varRefreshCmd": "cat(var_dic_list()) "
    }
   },
   "types_to_exclude": [
    "module",
    "function",
    "builtin_function_or_method",
    "instance",
    "_Feature"
   ],
   "window_display": false
  },
  "vscode": {
   "interpreter": {
    "hash": "fe45c953e7d91ced0867b19789acd0ab1d9439aa0b1f4fae31fd46e88f74aeab"
   }
  }
 },
 "nbformat": 4,
 "nbformat_minor": 2
}
