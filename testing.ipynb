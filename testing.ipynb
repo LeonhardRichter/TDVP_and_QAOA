{
 "cells": [
  {
   "cell_type": "code",
   "execution_count": null,
   "metadata": {
    "ExecuteTime": {
     "start_time": "2022-11-11T16:12:12.373Z"
    }
   },
   "outputs": [],
   "source": [
    "list(range(10,1))"
   ]
  },
  {
   "cell_type": "code",
   "execution_count": 3,
   "metadata": {
    "ExecuteTime": {
     "end_time": "2022-10-14T10:45:20.772845Z",
     "start_time": "2022-10-14T10:45:18.886775Z"
    }
   },
   "outputs": [],
   "source": [
    "from qaoa_and_tdvp import QAOA, tdvp_optimize_qaoa, scipy_optimize, QAOAResult, Qobj\n",
    "from MaxCut import MaxCut\n",
    "from qutip import tensor\n",
    "from qutip.qip.operations import expand_operator, rz\n",
    "from benchmark import get_all_connected, get_connected_rn_graph, get_rn_qubo, select_if_connected, Benchmark\n",
    "from qutip.parallel import parallel_map, serial_map\n",
    "from itertools import combinations_with_replacement\n",
    "from multiprocessing import Value\n",
    "import pickle\n",
    "import numpy as np\n",
    "from scipy.integrate import solve_ivp"
   ]
  },
  {
   "cell_type": "code",
   "execution_count": 1,
   "metadata": {
    "ExecuteTime": {
     "end_time": "2022-10-14T10:44:49.264785Z",
     "start_time": "2022-10-14T10:44:47.726985Z"
    }
   },
   "outputs": [],
   "source": [
    "import sympy as sp"
   ]
  },
  {
   "cell_type": "code",
   "execution_count": null,
   "metadata": {
    "ExecuteTime": {
     "start_time": "2022-10-14T10:45:59.808Z"
    }
   },
   "outputs": [],
   "source": [
    "x = sp.Symbol('x')\n",
    "rz(x)"
   ]
  },
  {
   "cell_type": "code",
   "execution_count": 3,
   "metadata": {
    "ExecuteTime": {
     "end_time": "2022-10-14T09:58:57.549953Z",
     "start_time": "2022-10-14T09:58:57.546296Z"
    }
   },
   "outputs": [],
   "source": [
    "p = 2\n",
    "n=4\n",
    "seed = 42\n",
    "with open(f\"./instances/n{n}_graphs.p\",\"rb\") as f:\n",
    "    graphs = pickle.load(f)"
   ]
  },
  {
   "cell_type": "code",
   "execution_count": 4,
   "metadata": {
    "ExecuteTime": {
     "end_time": "2022-10-14T09:58:57.559714Z",
     "start_time": "2022-10-14T09:58:57.558166Z"
    }
   },
   "outputs": [],
   "source": [
    "index = 5#np.random.randint(0,len(graphs)); print(index)"
   ]
  },
  {
   "cell_type": "code",
   "execution_count": 5,
   "metadata": {
    "ExecuteTime": {
     "end_time": "2022-10-14T09:58:57.592745Z",
     "start_time": "2022-10-14T09:58:57.564448Z"
    }
   },
   "outputs": [],
   "source": [
    "instance = MaxCut(graphs[index], draw= False)\n",
    "qaoa = QAOA(qubo=instance.qubo, p=p, mapping=serial_map, grammode='double')\n",
    "delta = tuple(1 for _ in range(2 * qaoa.p))"
   ]
  },
  {
   "cell_type": "code",
   "execution_count": 6,
   "metadata": {
    "ExecuteTime": {
     "end_time": "2022-10-14T09:58:57.613800Z",
     "start_time": "2022-10-14T09:58:57.597361Z"
    }
   },
   "outputs": [
    {
     "data": {
      "text/plain": [
       "28"
      ]
     },
     "execution_count": 6,
     "metadata": {},
     "output_type": "execute_result"
    }
   ],
   "source": [
    "qaoa.reset_gate_counter()\n",
    "qaoa.state(delta)\n",
    "qaoa.num_gates"
   ]
  },
  {
   "cell_type": "code",
   "execution_count": 7,
   "metadata": {
    "ExecuteTime": {
     "end_time": "2022-10-14T09:59:04.779107Z",
     "start_time": "2022-10-14T09:58:57.756991Z"
    }
   },
   "outputs": [
    {
     "data": {
      "text/plain": [
       "24612"
      ]
     },
     "execution_count": 7,
     "metadata": {},
     "output_type": "execute_result"
    }
   ],
   "source": [
    "qaoa.reset_gate_counter()\n",
    "qaoa.gram(delta)\n",
    "qaoa.num_gates"
   ]
  },
  {
   "cell_type": "code",
   "execution_count": 11,
   "metadata": {
    "ExecuteTime": {
     "end_time": "2022-10-14T10:02:10.225703Z",
     "start_time": "2022-10-14T10:02:09.937343Z"
    }
   },
   "outputs": [
    {
     "data": {
      "text/plain": [
       "936"
      ]
     },
     "execution_count": 11,
     "metadata": {},
     "output_type": "execute_result"
    }
   ],
   "source": [
    "qaoa.reset_gate_counter()\n",
    "qaoa.grad(delta)\n",
    "qaoa.num_gates"
   ]
  },
  {
   "cell_type": "code",
   "execution_count": 13,
   "metadata": {
    "ExecuteTime": {
     "end_time": "2022-10-14T10:02:44.592975Z",
     "start_time": "2022-10-14T10:02:44.590197Z"
    }
   },
   "outputs": [
    {
     "data": {
      "text/plain": [
       "26.294871794871796"
      ]
     },
     "execution_count": 13,
     "metadata": {},
     "output_type": "execute_result"
    }
   ],
   "source": [
    "24612/936"
   ]
  },
  {
   "cell_type": "code",
   "execution_count": 8,
   "metadata": {
    "ExecuteTime": {
     "end_time": "2022-10-14T09:59:04.789501Z",
     "start_time": "2022-10-14T09:59:04.786883Z"
    }
   },
   "outputs": [
    {
     "data": {
      "text/plain": [
       "2"
      ]
     },
     "execution_count": 8,
     "metadata": {},
     "output_type": "execute_result"
    }
   ],
   "source": [
    "qaoa.p"
   ]
  },
  {
   "cell_type": "code",
   "execution_count": 9,
   "metadata": {
    "ExecuteTime": {
     "end_time": "2022-10-14T09:59:59.952991Z",
     "start_time": "2022-10-14T09:59:04.798224Z"
    }
   },
   "outputs": [
    {
     "name": "stdout",
     "output_type": "stream",
     "text": [
      "6.89 s ± 8.21 ms per loop (mean ± std. dev. of 7 runs, 1 loop each)\n"
     ]
    }
   ],
   "source": [
    "%timeit qaoa.gram(delta)"
   ]
  },
  {
   "cell_type": "code",
   "execution_count": 10,
   "metadata": {
    "ExecuteTime": {
     "end_time": "2022-10-14T10:00:02.144330Z",
     "start_time": "2022-10-14T09:59:59.959116Z"
    }
   },
   "outputs": [
    {
     "name": "stdout",
     "output_type": "stream",
     "text": [
      "268 ms ± 7.83 ms per loop (mean ± std. dev. of 7 runs, 1 loop each)\n"
     ]
    }
   ],
   "source": [
    "%timeit qaoa.grad(delta)"
   ]
  },
  {
   "cell_type": "code",
   "execution_count": 7,
   "metadata": {},
   "outputs": [
    {
     "name": "stdout",
     "output_type": "stream",
     "text": [
      "donestep 66\n",
      "\n",
      "\n",
      "        tdvp_optimizer with circuit gradient evaluation and RK45 as integration mode terminated with sucess with message\n",
      "        \"The solver successfully reached the end of the integration interval.\"\n",
      "        This took 298.31 seconds\n",
      "        \n",
      "            optimal parameters: (0.6446978559370664, 1.4820634690782575, 0.797115626550893, 1.0024153539751344)\n",
      "                 optimal value: 17.008301872041233\n",
      "        maximal ground overlap: 0.7131465966023772\n",
      "           number of fun calls: 56\n",
      "               number of steps: 66\n",
      "               number of gates: 1654649\n",
      "        \n"
     ]
    }
   ],
   "source": [
    "res = tdvp_optimize_qaoa(\n",
    "    qaoa,\n",
    "    delta,\n",
    "    1,\n",
    "    int_mode=\"RK45\",\n",
    "    rhs_mode=\"qaoa\",\n",
    "    grad_tol=0.1,\n",
    "    max_iter=300,\n",
    ")\n",
    "print(res)"
   ]
  },
  {
   "cell_type": "code",
   "execution_count": 41,
   "metadata": {},
   "outputs": [
    {
     "data": {
      "text/plain": [
       "\n",
       "        scipy_cobyla terminated with sucess with message\n",
       "        \"Optimization terminated successfully.\"\n",
       "        This took 5.25 seconds\n",
       "        \n",
       "            optimal parameters: [1.56733882 0.78449255 1.82667484 1.07586705]\n",
       "                 optimal value: 17.261663823713175\n",
       "        maximal ground overlap: 0.4518900748808219\n",
       "           number of fun calls: 260\n",
       "               number of steps: None\n",
       "               number of gates: 7280\n",
       "        "
      ]
     },
     "execution_count": 41,
     "metadata": {},
     "output_type": "execute_result"
    }
   ],
   "source": [
    "sci_res = scipy_optimize(qaoa, delta)\n",
    "sci_res"
   ]
  },
  {
   "cell_type": "code",
   "execution_count": null,
   "metadata": {},
   "outputs": [],
   "source": []
  }
 ],
 "metadata": {
  "kernelspec": {
   "display_name": "Python 3 (ipykernel)",
   "language": "python",
   "name": "python3"
  },
  "language_info": {
   "codemirror_mode": {
    "name": "ipython",
    "version": 3
   },
   "file_extension": ".py",
   "mimetype": "text/x-python",
   "name": "python",
   "nbconvert_exporter": "python",
   "pygments_lexer": "ipython3",
   "version": "3.9.10+"
  },
  "varInspector": {
   "cols": {
    "lenName": 16,
    "lenType": 16,
    "lenVar": 40
   },
   "kernels_config": {
    "python": {
     "delete_cmd_postfix": "",
     "delete_cmd_prefix": "del ",
     "library": "var_list.py",
     "varRefreshCmd": "print(var_dic_list())"
    },
    "r": {
     "delete_cmd_postfix": ") ",
     "delete_cmd_prefix": "rm(",
     "library": "var_list.r",
     "varRefreshCmd": "cat(var_dic_list()) "
    }
   },
   "types_to_exclude": [
    "module",
    "function",
    "builtin_function_or_method",
    "instance",
    "_Feature"
   ],
   "window_display": false
  },
  "vscode": {
   "interpreter": {
    "hash": "fe45c953e7d91ced0867b19789acd0ab1d9439aa0b1f4fae31fd46e88f74aeab"
   }
  }
 },
 "nbformat": 4,
 "nbformat_minor": 2
}
