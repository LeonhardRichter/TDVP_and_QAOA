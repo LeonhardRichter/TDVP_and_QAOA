{
  "cells": [
    {
      "cell_type": "code",
      "execution_count": 1,
      "metadata": {
        "ExecuteTime": {
          "end_time": "2022-10-13T10:47:37.507054Z",
          "start_time": "2022-10-13T10:47:36.114816Z"
        }
      },
      "outputs": [],
      "source": [
        "from qaoa_and_tdvp import QAOA, tdvp_optimize_qaoa, scipy_optimize, QAOAResult, Qobj, gradient_descent, gen_grad, \\\n",
        "    finitediff, qaoa_tdvp_rhs, finitediff_serial\n",
        "from MaxCut import MaxCut\n",
        "from qutip import tensor\n",
        "from qutip.qip.operations import expand_operator, rz\n",
        "from benchmark import get_all_connected, get_connected_rn_graph, get_rn_qubo, select_if_connected, Benchmark\n",
        "from qutip.parallel import parallel_map, serial_map\n",
        "import networkx as nx\n",
        "from itertools import combinations_with_replacement\n",
        "from multiprocessing import Value\n",
        "import pickle\n",
        "import numpy as np\n",
        "from scipy.integrate import solve_ivp"
      ]
    },
    {
      "cell_type": "code",
      "execution_count": 2,
      "metadata": {},
      "outputs": [
        {
          "data": {
            "image/png": "[encoded data removed]",
            "text/plain": [
              "<Figure size 640x480 with 1 Axes>"
            ]
          },
          "metadata": {},
          "output_type": "display_data"
        }
      ],
      "source": [
        "house = nx.house_graph()\n",
        "nx.draw_networkx(\n",
        "    house,\n",
        "    node_size=500,\n",
        "    with_labels=True,\n",
        "    node_color=[\"grey\", \"black\", \"black\", \"grey\", \"grey\"],\n",
        "    font_color=\"white\",\n",
        "    width=[2.5, 2.5, 2.5, 2.5, 2.5, 1],\n",
        "    pos={0: (0, 0), 1: (1, 0), 2: (0, 1), 3: (1, 1), 4: (0.5, 1.5)},\n",
        ")\n"
      ]
    },
    {
      "cell_type": "code",
      "execution_count": 3,
      "metadata": {
        "ExecuteTime": {
          "end_time": "2022-10-13T10:47:37.793334Z",
          "start_time": "2022-10-13T10:47:37.791411Z"
        }
      },
      "outputs": [],
      "source": [
        "p = 1\n",
        "n=4\n",
        "seed = 42\n",
        "with open(f\"./instances/n{n}_instances.p\",\"rb\") as f:\n",
        "    maxcuts = pickle.load(f)"
      ]
    },
    {
      "cell_type": "code",
      "execution_count": 4,
      "metadata": {},
      "outputs": [
        {
          "data": {
            "text/plain": [
              "<MaxCut.MaxCut at 0x7fa48612e410>"
            ]
          },
          "execution_count": 4,
          "metadata": {},
          "output_type": "execute_result"
        }
      ],
      "source": [
        "index = 5#np.random.randint(0,len(graphs)); print(index)\n",
        "maxcuts[index]"
      ]
    },
    {
      "cell_type": "code",
      "execution_count": 5,
      "metadata": {},
      "outputs": [],
      "source": [
        "qaoa = QAOA(qubo=maxcuts[index].qubo, p=p)\n",
        "delta = tuple(1 for _ in range(2 * qaoa.p))"
      ]
    },
    {
      "cell_type": "code",
      "execution_count": 6,
      "metadata": {
        "collapsed": false
      },
      "outputs": [],
      "source": [
        "# descent = gradient_descent(qaoa, delta)"
      ]
    },
    {
      "cell_type": "code",
      "execution_count": 7,
      "metadata": {
        "collapsed": false
      },
      "outputs": [
        {
          "name": "stdout",
          "output_type": "stream",
          "text": [
            "donestep 39\n",
            "\n",
            "(0.8019971376736641, 1.2263223460629114)\n"
          ]
        },
        {
          "data": {
            "text/plain": [
              "\n",
              "        tdvp_optimizer with circuit gradient evaluation and RK45 as integration mode terminated with sucess with message\n",
              "        \"A termination event occurred.\"\n",
              "        This took 12.87 seconds\n",
              "        \n",
              "            optimal parameters: (0.8019971376736641, 1.2263223460629114)\n",
              "                 optimal value: -4.141483187239213\n",
              "           number of fun calls: 26\n",
              "               number of steps: 39\n",
              "        "
            ]
          },
          "execution_count": 7,
          "metadata": {},
          "output_type": "execute_result"
        }
      ],
      "source": [
        "res = tdvp_optimize_qaoa(qaoa, delta, num_of_path_points=20, Delta=100, int_mode=\"RK45\", grad_tol=.5)\n",
        "res"
      ]
    },
    {
      "cell_type": "code",
      "execution_count": 8,
      "metadata": {},
      "outputs": [
        {
          "data": {
            "text/plain": [
              "[(1.0, 1.0),\n",
              " (1.0020779855444848, 1.046188676558675),\n",
              " (0.8708880341359726, 1.1859926015389342),\n",
              " (0.8019971376736641, 1.2263223460629114)]"
            ]
          },
          "execution_count": 8,
          "metadata": {},
          "output_type": "execute_result"
        }
      ],
      "source": [
        "res.parameter_path"
      ]
    },
    {
      "cell_type": "code",
      "execution_count": 8,
      "metadata": {},
      "outputs": [
        {
          "data": {
            "text/plain": [
              "[(1.0, 1.0),\n",
              " (1.1463536671199428, 1.0537054136855457),\n",
              " (1.1506612811462984, 1.0552356933947746),\n",
              " (1.1506612811462984, 1.0552356933947746),\n",
              " (1.2518654901910875, 1.0900151240755316),\n",
              " (1.3638969774569887, 1.1241317653860428),\n",
              " (1.3638969774569887, 1.1241317653860428),\n",
              " (1.4444004641343304, 1.1440399699587085),\n",
              " (1.6372744968459556, 1.1711197169198957),\n",
              " (1.6372744968459556, 1.1711197169198957),\n",
              " (1.7101083259775787, 1.1731955036555564),\n",
              " (1.9768184815746197, 1.1261910972979925),\n",
              " (1.9768184815746197, 1.1261910972979925),\n",
              " (2.0156439932594012, 1.108166290665415),\n",
              " (2.117819120962312, 1.0280694719336951),\n",
              " (2.198470171962537, 0.9594111033806103),\n",
              " (2.238724350954454, 0.9316264604501521),\n",
              " (2.238724350954454, 0.9316264604501521),\n",
              " (2.259308260524988, 0.9187760006934755),\n",
              " (2.3447742527819164, 0.876815461363841),\n",
              " (2.392817545467251, 0.8581790312692867),\n",
              " (2.4169330916403733, 0.8499053746455918),\n",
              " (2.4252271175351092, 0.846928180453121),\n",
              " (2.4252271175351092, 0.846928180453121),\n",
              " (2.428513006057172, 0.8459331458251907),\n",
              " (2.432857564759733, 0.843549215836418)]"
            ]
          },
          "execution_count": 8,
          "metadata": {},
          "output_type": "execute_result"
        }
      ],
      "source": [
        "res.parameter_path"
      ]
    },
    {
      "cell_type": "code",
      "execution_count": 9,
      "metadata": {},
      "outputs": [
        {
          "name": "stdout",
          "output_type": "stream",
          "text": [
            "Done Scipy_optim\n",
            "\n"
          ]
        }
      ],
      "source": [
        "sci_res = scipy_optimize(qaoa, delta, tol=.01, record_path=True)"
      ]
    },
    {
      "cell_type": "code",
      "execution_count": 10,
      "metadata": {},
      "outputs": [
        {
          "data": {
            "text/plain": [
              "[(1, 1),\n",
              " (2.0, 1.0),\n",
              " (2.0, 2.0),\n",
              " (2.8923031772452505, 0.5485633600625317),\n",
              " (2.4461515886226253, 0.7742816800312659),\n",
              " (2.4704778664446576, 0.2748737984281365),\n",
              " (2.693144875841007, 1.2090164452261578),\n",
              " (2.397804640150067, 0.5290010803634735),\n",
              " (2.334440716806775, 0.8303680519779583),\n",
              " (2.3624839027801214, 0.8862234878858832),\n",
              " (2.308902538492321, 0.9991572622895488),\n",
              " (2.423564828029802, 0.8729807324836656),\n",
              " (2.4385744383763233, 0.9003901122148013),\n",
              " (2.4245717777333033, 0.8417469598601957),\n",
              " (2.4080626407829855, 0.8749359346636555),\n",
              " (2.423030545571803, 0.8629950155712414),\n",
              " (2.4273579913594228, 0.8539798498514549),\n",
              " (2.4273579913594228, 0.8539798498514549),\n",
              " array([2.42735799, 0.85397985])]"
            ]
          },
          "execution_count": 10,
          "metadata": {},
          "output_type": "execute_result"
        }
      ],
      "source": [
        "sci_res.parameter_path"
      ]
    },
    {
      "cell_type": "code",
      "execution_count": null,
      "metadata": {},
      "outputs": [],
      "source": [
        "fast_gram = qaoa.gram(delta)"
      ]
    },
    {
      "cell_type": "code",
      "execution_count": null,
      "metadata": {},
      "outputs": [],
      "source": [
        "%timeit qaoa.gram(delta)"
      ]
    },
    {
      "cell_type": "code",
      "execution_count": null,
      "metadata": {},
      "outputs": [],
      "source": [
        "fast_grad = qaoa.grad(delta)"
      ]
    },
    {
      "cell_type": "code",
      "execution_count": null,
      "metadata": {},
      "outputs": [],
      "source": [
        "%timeit qaoa.grad(delta)"
      ]
    },
    {
      "cell_type": "code",
      "execution_count": null,
      "metadata": {},
      "outputs": [],
      "source": [
        "qaoa._Gij = qaoa._Gij_unitary\n",
        "qaoa._grad_element = qaoa._grad_element_unitary\n",
        "\n",
        "slow_gram = qaoa.gram(delta)\n",
        "slow_grad = qaoa.grad(delta)\n",
        "# %timeit qaoa.gram(delta)\n",
        "\n",
        "qaoa._Gij  = qaoa._Gij_fast\n",
        "qaoa._grad_element = qaoa._grad_element_fast"
      ]
    },
    {
      "cell_type": "markdown",
      "metadata": {},
      "source": [
        "The cheating method for computing the metric is roughly 33 times faster for n=4, p=2"
      ]
    },
    {
      "cell_type": "code",
      "execution_count": null,
      "metadata": {},
      "outputs": [],
      "source": [
        "print(np.isclose(slow_gram,fast_gram))"
      ]
    },
    {
      "cell_type": "code",
      "execution_count": null,
      "metadata": {},
      "outputs": [],
      "source": [
        "print(qaoa._Gij_fast((6,2*p),delta))\n",
        "print(qaoa._Gij_unitary((6,2*p),delta))"
      ]
    },
    {
      "cell_type": "code",
      "execution_count": null,
      "metadata": {},
      "outputs": [],
      "source": [
        "print(np.isclose(slow_grad,fast_grad))"
      ]
    },
    {
      "cell_type": "code",
      "execution_count": null,
      "metadata": {},
      "outputs": [],
      "source": [
        "res = tdvp_optimize_qaoa(\n",
        "    qaoa,\n",
        "    delta,\n",
        "    1,\n",
        "    int_mode=\"RK45\",\n",
        "    rhs_mode=\"qaoa\",\n",
        "    grad_tol=0.1,\n",
        "    max_iter=300,\n",
        ")\n",
        "print(res)"
      ]
    },
    {
      "cell_type": "code",
      "execution_count": null,
      "metadata": {},
      "outputs": [],
      "source": [
        "sci_res = scipy_optimize(qaoa, delta)\n",
        "sci_res"
      ]
    },
    {
      "cell_type": "code",
      "execution_count": null,
      "metadata": {},
      "outputs": [],
      "source": []
    }
  ],
  "metadata": {
    "kernelspec": {
      "display_name": "Python 3.10.6 ('qutip-env')",
      "language": "python",
      "name": "python3"
    },
    "language_info": {
      "codemirror_mode": {
        "name": "ipython",
        "version": 3
      },
      "file_extension": ".py",
      "mimetype": "text/x-python",
      "name": "python",
      "nbconvert_exporter": "python",
      "pygments_lexer": "ipython3",
      "version": "3.9.10+"
    },
    "varInspector": {
      "cols": {
        "lenName": 16,
        "lenType": 16,
        "lenVar": 40
      },
      "kernels_config": {
        "python": {
          "delete_cmd_postfix": "",
          "delete_cmd_prefix": "del ",
          "library": "var_list.py",
          "varRefreshCmd": "print(var_dic_list())"
        },
        "r": {
          "delete_cmd_postfix": ") ",
          "delete_cmd_prefix": "rm(",
          "library": "var_list.r",
          "varRefreshCmd": "cat(var_dic_list()) "
        }
      },
      "types_to_exclude": [
        "module",
        "function",
        "builtin_function_or_method",
        "instance",
        "_Feature"
      ],
      "window_display": false
    },
    "vscode": {
      "interpreter": {
        "hash": "fe45c953e7d91ced0867b19789acd0ab1d9439aa0b1f4fae31fd46e88f74aeab"
      }
    }
  },
  "nbformat": 4,
  "nbformat_minor": 4
}
