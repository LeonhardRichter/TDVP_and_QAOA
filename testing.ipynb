{
 "cells": [
  {
   "cell_type": "code",
   "execution_count": 1,
   "metadata": {
    "ExecuteTime": {
     "end_time": "2022-10-13T10:47:37.507054Z",
     "start_time": "2022-10-13T10:47:36.114816Z"
    }
   },
   "outputs": [],
   "source": [
    "from qaoa_and_tdvp import QAOA, tdvp_optimize_qaoa, scipy_optimize, QAOAResult, Qobj\n",
    "from MaxCut import MaxCut\n",
    "from qutip import tensor\n",
    "from qutip.qip.operations import expand_operator, rz\n",
    "from benchmark import get_all_connected, get_connected_rn_graph, get_rn_qubo, select_if_connected, Benchmark\n",
    "from qutip.parallel import parallel_map, serial_map\n",
    "from itertools import combinations_with_replacement\n",
    "from multiprocessing import Value\n",
    "import pickle\n",
    "import numpy as np"
   ]
  },
  {
   "cell_type": "code",
   "execution_count": 2,
   "metadata": {
    "ExecuteTime": {
     "end_time": "2022-10-13T10:47:37.515082Z",
     "start_time": "2022-10-13T10:47:37.511802Z"
    }
   },
   "outputs": [],
   "source": [
    "p = 2\n",
    "n=4\n",
    "seed = 42\n",
    "with open(f\"./instances/n{n}_graphs.p\",\"rb\") as f:\n",
    "    graphs = pickle.load(f)"
   ]
  },
  {
   "cell_type": "code",
   "execution_count": 3,
   "metadata": {
    "ExecuteTime": {
     "end_time": "2022-10-13T10:47:37.793334Z",
     "start_time": "2022-10-13T10:47:37.791411Z"
    }
   },
   "outputs": [],
   "source": [
    "index = 5#np.random.randint(0,len(graphs)); print(index)"
   ]
  },
  {
   "cell_type": "code",
   "execution_count": 4,
   "metadata": {
    "ExecuteTime": {
     "end_time": "2022-10-13T10:47:47.397056Z",
     "start_time": "2022-10-13T10:47:47.361226Z"
    }
   },
   "outputs": [],
   "source": [
    "instance = MaxCut(graphs[index], draw=False)\n",
    "qaoa = QAOA(qubo=instance.qubo, p=p, mapping=serial_map)\n",
    "delta = tuple(1 for _ in range(2 * qaoa.p))"
   ]
  },
  {
   "cell_type": "code",
   "execution_count": 5,
   "metadata": {
    "ExecuteTime": {
     "end_time": "2022-10-13T10:47:48.629117Z",
     "start_time": "2022-10-13T10:47:48.606598Z"
    }
   },
   "outputs": [
    {
     "data": {
      "text/latex": [
       "Quantum object: dims = [[2, 2, 2, 2], [1, 1, 1, 1]], shape = (16, 1), type = ket\\begin{equation*}\\left(\\begin{array}{*{11}c}(-0.461+0.280j)\\\\(-0.012-0.231j)\\\\(-0.012-0.231j)\\\\(0.110+0.056j)\\\\(-0.012-0.231j)\\\\\\vdots\\\\(-0.076-0.110j)\\\\(0.110+0.056j)\\\\(-0.076-0.110j)\\\\(-0.076-0.110j)\\\\(-0.326+0.477j)\\\\\\end{array}\\right)\\end{equation*}"
      ],
      "text/plain": [
       "Quantum object: dims = [[2, 2, 2, 2], [1, 1, 1, 1]], shape = (16, 1), type = ket\n",
       "Qobj data =\n",
       "[[-0.46066168+0.27994601j]\n",
       " [-0.01209181-0.23061102j]\n",
       " [-0.01209181-0.23061102j]\n",
       " [ 0.10950453+0.05633505j]\n",
       " [-0.01209181-0.23061102j]\n",
       " [ 0.10950453+0.05633505j]\n",
       " [ 0.10950453+0.05633505j]\n",
       " [-0.07620785-0.10970592j]\n",
       " [-0.01209181-0.23061102j]\n",
       " [ 0.10950453+0.05633505j]\n",
       " [ 0.10950453+0.05633505j]\n",
       " [-0.07620785-0.10970592j]\n",
       " [ 0.10950453+0.05633505j]\n",
       " [-0.07620785-0.10970592j]\n",
       " [-0.07620785-0.10970592j]\n",
       " [-0.32599319+0.47694602j]]"
      ]
     },
     "execution_count": 5,
     "metadata": {},
     "output_type": "execute_result"
    }
   ],
   "source": [
    "qaoa.state(delta)"
   ]
  },
  {
   "cell_type": "code",
   "execution_count": 6,
   "metadata": {
    "ExecuteTime": {
     "end_time": "2022-10-13T10:47:56.691618Z",
     "start_time": "2022-10-13T10:47:49.714561Z"
    }
   },
   "outputs": [
    {
     "data": {
      "text/plain": [
       "matrix([[ 11.47806041+2.22044605e-16j,   5.87147831-3.16333014e+00j,\n",
       "          -2.55200695-1.39043924e-01j,  -2.67512163+4.08226904e-01j],\n",
       "        [  5.87147831+3.16333014e+00j,   6.6505476 +2.13717932e-15j,\n",
       "          -2.25473696+1.08072763e+00j,  -2.70210342+2.03083440e+00j],\n",
       "        [ -2.55200695+1.39043924e-01j,  -2.25473696-1.08072763e+00j,\n",
       "          36.75      +0.00000000e+00j, -53.10865499+2.28984222e+01j],\n",
       "        [ -2.67512163-4.08226904e-01j,  -2.70210342-2.03083440e+00j,\n",
       "         -53.10865499-2.28984222e+01j, 114.62047923-6.34561848e-15j]])"
      ]
     },
     "execution_count": 6,
     "metadata": {},
     "output_type": "execute_result"
    }
   ],
   "source": [
    "qaoa.gram(delta)"
   ]
  },
  {
   "cell_type": "code",
   "execution_count": null,
   "metadata": {
    "ExecuteTime": {
     "start_time": "2022-10-13T10:48:13.430Z"
    }
   },
   "outputs": [
    {
     "name": "stdout",
     "output_type": "stream",
     "text": [
      "rhs step 25\r"
     ]
    }
   ],
   "source": [
    "res = tdvp_optimize_qaoa(\n",
    "    qaoa,\n",
    "    delta,\n",
    "    1,\n",
    "    int_mode=\"RK45\",\n",
    "    rhs_mode=\"qaoa\",\n",
    "    grad_tol=0.1,\n",
    "    max_iter=300,\n",
    ")\n",
    "print(res)"
   ]
  },
  {
   "cell_type": "code",
   "execution_count": 41,
   "metadata": {},
   "outputs": [
    {
     "data": {
      "text/plain": [
       "\n",
       "        scipy_cobyla terminated with sucess with message\n",
       "        \"Optimization terminated successfully.\"\n",
       "        This took 5.25 seconds\n",
       "        \n",
       "            optimal parameters: [1.56733882 0.78449255 1.82667484 1.07586705]\n",
       "                 optimal value: 17.261663823713175\n",
       "        maximal ground overlap: 0.4518900748808219\n",
       "           number of fun calls: 260\n",
       "               number of steps: None\n",
       "               number of gates: 7280\n",
       "        "
      ]
     },
     "execution_count": 41,
     "metadata": {},
     "output_type": "execute_result"
    }
   ],
   "source": [
    "sci_res = scipy_optimize(qaoa, delta)\n",
    "sci_res"
   ]
  },
  {
   "cell_type": "code",
   "execution_count": null,
   "metadata": {},
   "outputs": [],
   "source": []
  }
 ],
 "metadata": {
  "kernelspec": {
   "display_name": "Python 3 (ipykernel)",
   "language": "python",
   "name": "python3"
  },
  "language_info": {
   "codemirror_mode": {
    "name": "ipython",
    "version": 3
   },
   "file_extension": ".py",
   "mimetype": "text/x-python",
   "name": "python",
   "nbconvert_exporter": "python",
   "pygments_lexer": "ipython3",
   "version": "3.9.10+"
  },
  "varInspector": {
   "cols": {
    "lenName": 16,
    "lenType": 16,
    "lenVar": 40
   },
   "kernels_config": {
    "python": {
     "delete_cmd_postfix": "",
     "delete_cmd_prefix": "del ",
     "library": "var_list.py",
     "varRefreshCmd": "print(var_dic_list())"
    },
    "r": {
     "delete_cmd_postfix": ") ",
     "delete_cmd_prefix": "rm(",
     "library": "var_list.r",
     "varRefreshCmd": "cat(var_dic_list()) "
    }
   },
   "types_to_exclude": [
    "module",
    "function",
    "builtin_function_or_method",
    "instance",
    "_Feature"
   ],
   "window_display": false
  },
  "vscode": {
   "interpreter": {
    "hash": "fe45c953e7d91ced0867b19789acd0ab1d9439aa0b1f4fae31fd46e88f74aeab"
   }
  }
 },
 "nbformat": 4,
 "nbformat_minor": 4
}
