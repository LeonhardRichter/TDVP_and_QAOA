{
 "cells": [
  {
   "cell_type": "code",
   "execution_count": 31,
   "metadata": {},
   "outputs": [],
   "source": [
    "import math\n",
    "import numpy as np\n",
    "from numpy.typing import NDArray\n",
    "import pandas as pd\n",
    "import swifter\n",
    "import pickle\n",
    "from typing import Union, List, Any, Tuple\n",
    "from qaoa_and_tdvp import QAOA, tdvp_optimize_qaoa, scipy_optimize, QAOAResult, Qobj\n",
    "from MaxCut import MaxCut\n",
    "from qutip import tensor, basis, Qobj, expect, variance\n",
    "\n",
    "from benchmark import (\n",
    "    get_all_connected,\n",
    "    get_connected_rn_graph,\n",
    "    get_rn_qubo,\n",
    "    select_if_connected,\n",
    "    Benchmark,\n",
    ")\n",
    "swifter;MaxCut;get_all_connected; get_connected_rn_graph; get_rn_qubo; select_if_connected; Benchmark; # noinspection PyStatementEffect"
   ]
  },
  {
   "cell_type": "markdown",
   "metadata": {
    "collapsed": false
   },
   "source": [
    "# convert data into DataFrame"
   ]
  },
  {
   "cell_type": "code",
   "execution_count": 4,
   "outputs": [
    {
     "data": {
      "text/plain": "                                     instance  \\\np i                                             \n1 0  <MaxCut.MaxCut object at 0x7f60620d2b60>   \n  1  <MaxCut.MaxCut object at 0x7f60620d2e60>   \n  2  <MaxCut.MaxCut object at 0x7f60620d2ec0>   \n  3  <MaxCut.MaxCut object at 0x7f60620d27a0>   \n  4  <MaxCut.MaxCut object at 0x7f6002b43820>   \n  5  <MaxCut.MaxCut object at 0x7f6002b43640>   \n  6  <MaxCut.MaxCut object at 0x7f6002b40760>   \n  7  <MaxCut.MaxCut object at 0x7f6002b413c0>   \n  8  <MaxCut.MaxCut object at 0x7f6002b416c0>   \n  9  <MaxCut.MaxCut object at 0x7f6002b43490>   \n2 0  <MaxCut.MaxCut object at 0x7f60620d2b60>   \n  1  <MaxCut.MaxCut object at 0x7f60620d2e60>   \n  2  <MaxCut.MaxCut object at 0x7f60620d2ec0>   \n  3  <MaxCut.MaxCut object at 0x7f60620d27a0>   \n  4  <MaxCut.MaxCut object at 0x7f6002b43820>   \n  5  <MaxCut.MaxCut object at 0x7f6002b43640>   \n  6  <MaxCut.MaxCut object at 0x7f6002b40760>   \n  7  <MaxCut.MaxCut object at 0x7f6002b413c0>   \n  8  <MaxCut.MaxCut object at 0x7f6002b416c0>   \n  9  <MaxCut.MaxCut object at 0x7f6002b43490>   \n3 0  <MaxCut.MaxCut object at 0x7f60620d2b60>   \n  1  <MaxCut.MaxCut object at 0x7f60620d2e60>   \n  2  <MaxCut.MaxCut object at 0x7f60620d2ec0>   \n  3  <MaxCut.MaxCut object at 0x7f60620d27a0>   \n  4  <MaxCut.MaxCut object at 0x7f6002b43820>   \n  5  <MaxCut.MaxCut object at 0x7f6002b43640>   \n  6  <MaxCut.MaxCut object at 0x7f6002b40760>   \n  7  <MaxCut.MaxCut object at 0x7f6002b413c0>   \n  8  <MaxCut.MaxCut object at 0x7f6002b416c0>   \n  9  <MaxCut.MaxCut object at 0x7f6002b43490>   \n4 0  <MaxCut.MaxCut object at 0x7f60620d2b60>   \n  1  <MaxCut.MaxCut object at 0x7f60620d2e60>   \n  2  <MaxCut.MaxCut object at 0x7f60620d2ec0>   \n  3  <MaxCut.MaxCut object at 0x7f60620d27a0>   \n  4  <MaxCut.MaxCut object at 0x7f6002b43820>   \n  5  <MaxCut.MaxCut object at 0x7f6002b43640>   \n  6  <MaxCut.MaxCut object at 0x7f6002b40760>   \n  7  <MaxCut.MaxCut object at 0x7f6002b413c0>   \n  8  <MaxCut.MaxCut object at 0x7f6002b416c0>   \n  9  <MaxCut.MaxCut object at 0x7f6002b43490>   \n5 0  <MaxCut.MaxCut object at 0x7f60620d2b60>   \n  1  <MaxCut.MaxCut object at 0x7f60620d2e60>   \n  2  <MaxCut.MaxCut object at 0x7f60620d2ec0>   \n  3  <MaxCut.MaxCut object at 0x7f60620d27a0>   \n  4  <MaxCut.MaxCut object at 0x7f6002b43820>   \n  5  <MaxCut.MaxCut object at 0x7f6002b43640>   \n  6  <MaxCut.MaxCut object at 0x7f6002b40760>   \n  7  <MaxCut.MaxCut object at 0x7f6002b413c0>   \n  8  <MaxCut.MaxCut object at 0x7f6002b416c0>   \n  9  <MaxCut.MaxCut object at 0x7f6002b43490>   \n\n                                                  tdvp  \\\np i                                                      \n1 0  instance                  <MaxCut.MaxCut objec...   \n  1  instance                  <MaxCut.MaxCut objec...   \n  2  instance                  <MaxCut.MaxCut objec...   \n  3  instance                  <MaxCut.MaxCut objec...   \n  4  instance                  <MaxCut.MaxCut objec...   \n  5  instance                  <MaxCut.MaxCut objec...   \n  6  instance                  <MaxCut.MaxCut objec...   \n  7  instance                  <MaxCut.MaxCut objec...   \n  8  instance                  <MaxCut.MaxCut objec...   \n  9  instance                  <MaxCut.MaxCut objec...   \n2 0  instance                  <MaxCut.MaxCut objec...   \n  1  instance                  <MaxCut.MaxCut objec...   \n  2  instance                  <MaxCut.MaxCut objec...   \n  3  instance                  <MaxCut.MaxCut objec...   \n  4  instance                  <MaxCut.MaxCut objec...   \n  5  instance                  <MaxCut.MaxCut objec...   \n  6  instance                  <MaxCut.MaxCut objec...   \n  7  instance                  <MaxCut.MaxCut objec...   \n  8  instance                  <MaxCut.MaxCut objec...   \n  9  instance                  <MaxCut.MaxCut objec...   \n3 0  instance                  <MaxCut.MaxCut objec...   \n  1  instance                  <MaxCut.MaxCut objec...   \n  2  instance                  <MaxCut.MaxCut objec...   \n  3  instance                  <MaxCut.MaxCut objec...   \n  4  instance                  <MaxCut.MaxCut objec...   \n  5  instance                  <MaxCut.MaxCut objec...   \n  6  instance                  <MaxCut.MaxCut objec...   \n  7  instance                  <MaxCut.MaxCut objec...   \n  8  instance                  <MaxCut.MaxCut objec...   \n  9  instance                  <MaxCut.MaxCut objec...   \n4 0  instance                  <MaxCut.MaxCut objec...   \n  1  instance                  <MaxCut.MaxCut objec...   \n  2  instance                  <MaxCut.MaxCut objec...   \n  3  instance                  <MaxCut.MaxCut objec...   \n  4  instance                  <MaxCut.MaxCut objec...   \n  5  instance                  <MaxCut.MaxCut objec...   \n  6  instance                  <MaxCut.MaxCut objec...   \n  7  instance                  <MaxCut.MaxCut objec...   \n  8  instance                  <MaxCut.MaxCut objec...   \n  9  instance                  <MaxCut.MaxCut objec...   \n5 0  instance                  <MaxCut.MaxCut objec...   \n  1  instance                  <MaxCut.MaxCut objec...   \n  2  instance                  <MaxCut.MaxCut objec...   \n  3  instance                  <MaxCut.MaxCut objec...   \n  4  instance                  <MaxCut.MaxCut objec...   \n  5  instance                  <MaxCut.MaxCut objec...   \n  6  instance                  <MaxCut.MaxCut objec...   \n  7  instance                  <MaxCut.MaxCut objec...   \n  8  instance                  <MaxCut.MaxCut objec...   \n  9  instance                  <MaxCut.MaxCut objec...   \n\n                                                 scipy  \\\np i                                                      \n1 0  instance                  <MaxCut.MaxCut objec...   \n  1  instance                  <MaxCut.MaxCut objec...   \n  2  instance                  <MaxCut.MaxCut objec...   \n  3  instance                  <MaxCut.MaxCut objec...   \n  4  instance                  <MaxCut.MaxCut objec...   \n  5  instance                  <MaxCut.MaxCut objec...   \n  6  instance                  <MaxCut.MaxCut objec...   \n  7  instance                  <MaxCut.MaxCut objec...   \n  8  instance                  <MaxCut.MaxCut objec...   \n  9  instance                  <MaxCut.MaxCut objec...   \n2 0  instance                  <MaxCut.MaxCut objec...   \n  1  instance                  <MaxCut.MaxCut objec...   \n  2  instance                  <MaxCut.MaxCut objec...   \n  3  instance                  <MaxCut.MaxCut objec...   \n  4  instance                  <MaxCut.MaxCut objec...   \n  5  instance                  <MaxCut.MaxCut objec...   \n  6  instance                  <MaxCut.MaxCut objec...   \n  7  instance                  <MaxCut.MaxCut objec...   \n  8  instance                  <MaxCut.MaxCut objec...   \n  9  instance                  <MaxCut.MaxCut objec...   \n3 0  instance                  <MaxCut.MaxCut objec...   \n  1  instance                  <MaxCut.MaxCut objec...   \n  2  instance                  <MaxCut.MaxCut objec...   \n  3  instance                  <MaxCut.MaxCut objec...   \n  4  instance                  <MaxCut.MaxCut objec...   \n  5  instance                  <MaxCut.MaxCut objec...   \n  6  instance                  <MaxCut.MaxCut objec...   \n  7  instance                  <MaxCut.MaxCut objec...   \n  8  instance                  <MaxCut.MaxCut objec...   \n  9  instance                  <MaxCut.MaxCut objec...   \n4 0  instance                  <MaxCut.MaxCut objec...   \n  1  instance                  <MaxCut.MaxCut objec...   \n  2  instance                  <MaxCut.MaxCut objec...   \n  3  instance                  <MaxCut.MaxCut objec...   \n  4  instance                  <MaxCut.MaxCut objec...   \n  5  instance                  <MaxCut.MaxCut objec...   \n  6  instance                  <MaxCut.MaxCut objec...   \n  7  instance                  <MaxCut.MaxCut objec...   \n  8  instance                  <MaxCut.MaxCut objec...   \n  9  instance                  <MaxCut.MaxCut objec...   \n5 0  instance                  <MaxCut.MaxCut objec...   \n  1  instance                  <MaxCut.MaxCut objec...   \n  2  instance                  <MaxCut.MaxCut objec...   \n  3  instance                  <MaxCut.MaxCut objec...   \n  4  instance                  <MaxCut.MaxCut objec...   \n  5  instance                  <MaxCut.MaxCut objec...   \n  6  instance                  <MaxCut.MaxCut objec...   \n  7  instance                  <MaxCut.MaxCut objec...   \n  8  instance                  <MaxCut.MaxCut objec...   \n  9  instance                  <MaxCut.MaxCut objec...   \n\n                                      gradient_descent  \np i                                                     \n1 0  instance         NaN\np                NaN\nn   ...  \n  1  instance         NaN\np                NaN\nn   ...  \n  2  instance         NaN\np                NaN\nn   ...  \n  3  instance         NaN\np                NaN\nn   ...  \n  4  instance         NaN\np                NaN\nn   ...  \n  5  instance         NaN\np                NaN\nn   ...  \n  6  instance         NaN\np                NaN\nn   ...  \n  7  instance         NaN\np                NaN\nn   ...  \n  8  instance         NaN\np                NaN\nn   ...  \n  9  instance         NaN\np                NaN\nn   ...  \n2 0  instance         NaN\np                NaN\nn   ...  \n  1  instance         NaN\np                NaN\nn   ...  \n  2  instance         NaN\np                NaN\nn   ...  \n  3  instance         NaN\np                NaN\nn   ...  \n  4  instance         NaN\np                NaN\nn   ...  \n  5  instance         NaN\np                NaN\nn   ...  \n  6  instance         NaN\np                NaN\nn   ...  \n  7  instance         NaN\np                NaN\nn   ...  \n  8  instance         NaN\np                NaN\nn   ...  \n  9  instance         NaN\np                NaN\nn   ...  \n3 0  instance         NaN\np                NaN\nn   ...  \n  1  instance         NaN\np                NaN\nn   ...  \n  2  instance         NaN\np                NaN\nn   ...  \n  3  instance         NaN\np                NaN\nn   ...  \n  4  instance         NaN\np                NaN\nn   ...  \n  5  instance         NaN\np                NaN\nn   ...  \n  6  instance         NaN\np                NaN\nn   ...  \n  7  instance         NaN\np                NaN\nn   ...  \n  8  instance         NaN\np                NaN\nn   ...  \n  9  instance         NaN\np                NaN\nn   ...  \n4 0  instance         NaN\np                NaN\nn   ...  \n  1  instance         NaN\np                NaN\nn   ...  \n  2  instance         NaN\np                NaN\nn   ...  \n  3  instance         NaN\np                NaN\nn   ...  \n  4  instance         NaN\np                NaN\nn   ...  \n  5  instance         NaN\np                NaN\nn   ...  \n  6  instance         NaN\np                NaN\nn   ...  \n  7  instance         NaN\np                NaN\nn   ...  \n  8  instance         NaN\np                NaN\nn   ...  \n  9  instance         NaN\np                NaN\nn   ...  \n5 0  instance         NaN\np                NaN\nn   ...  \n  1  instance         NaN\np                NaN\nn   ...  \n  2  instance         NaN\np                NaN\nn   ...  \n  3  instance         NaN\np                NaN\nn   ...  \n  4  instance         NaN\np                NaN\nn   ...  \n  5  instance         NaN\np                NaN\nn   ...  \n  6  instance         NaN\np                NaN\nn   ...  \n  7  instance         NaN\np                NaN\nn   ...  \n  8  instance         NaN\np                NaN\nn   ...  \n  9  instance         NaN\np                NaN\nn   ...  ",
      "text/html": "<div>\n<style scoped>\n    .dataframe tbody tr th:only-of-type {\n        vertical-align: middle;\n    }\n\n    .dataframe tbody tr th {\n        vertical-align: top;\n    }\n\n    .dataframe thead th {\n        text-align: right;\n    }\n</style>\n<table border=\"1\" class=\"dataframe\">\n  <thead>\n    <tr style=\"text-align: right;\">\n      <th></th>\n      <th></th>\n      <th>instance</th>\n      <th>tdvp</th>\n      <th>scipy</th>\n      <th>gradient_descent</th>\n    </tr>\n    <tr>\n      <th>p</th>\n      <th>i</th>\n      <th></th>\n      <th></th>\n      <th></th>\n      <th></th>\n    </tr>\n  </thead>\n  <tbody>\n    <tr>\n      <th rowspan=\"10\" valign=\"top\">1</th>\n      <th>0</th>\n      <td>&lt;MaxCut.MaxCut object at 0x7f60620d2b60&gt;</td>\n      <td>instance                  &lt;MaxCut.MaxCut objec...</td>\n      <td>instance                  &lt;MaxCut.MaxCut objec...</td>\n      <td>instance         NaN\np                NaN\nn   ...</td>\n    </tr>\n    <tr>\n      <th>1</th>\n      <td>&lt;MaxCut.MaxCut object at 0x7f60620d2e60&gt;</td>\n      <td>instance                  &lt;MaxCut.MaxCut objec...</td>\n      <td>instance                  &lt;MaxCut.MaxCut objec...</td>\n      <td>instance         NaN\np                NaN\nn   ...</td>\n    </tr>\n    <tr>\n      <th>2</th>\n      <td>&lt;MaxCut.MaxCut object at 0x7f60620d2ec0&gt;</td>\n      <td>instance                  &lt;MaxCut.MaxCut objec...</td>\n      <td>instance                  &lt;MaxCut.MaxCut objec...</td>\n      <td>instance         NaN\np                NaN\nn   ...</td>\n    </tr>\n    <tr>\n      <th>3</th>\n      <td>&lt;MaxCut.MaxCut object at 0x7f60620d27a0&gt;</td>\n      <td>instance                  &lt;MaxCut.MaxCut objec...</td>\n      <td>instance                  &lt;MaxCut.MaxCut objec...</td>\n      <td>instance         NaN\np                NaN\nn   ...</td>\n    </tr>\n    <tr>\n      <th>4</th>\n      <td>&lt;MaxCut.MaxCut object at 0x7f6002b43820&gt;</td>\n      <td>instance                  &lt;MaxCut.MaxCut objec...</td>\n      <td>instance                  &lt;MaxCut.MaxCut objec...</td>\n      <td>instance         NaN\np                NaN\nn   ...</td>\n    </tr>\n    <tr>\n      <th>5</th>\n      <td>&lt;MaxCut.MaxCut object at 0x7f6002b43640&gt;</td>\n      <td>instance                  &lt;MaxCut.MaxCut objec...</td>\n      <td>instance                  &lt;MaxCut.MaxCut objec...</td>\n      <td>instance         NaN\np                NaN\nn   ...</td>\n    </tr>\n    <tr>\n      <th>6</th>\n      <td>&lt;MaxCut.MaxCut object at 0x7f6002b40760&gt;</td>\n      <td>instance                  &lt;MaxCut.MaxCut objec...</td>\n      <td>instance                  &lt;MaxCut.MaxCut objec...</td>\n      <td>instance         NaN\np                NaN\nn   ...</td>\n    </tr>\n    <tr>\n      <th>7</th>\n      <td>&lt;MaxCut.MaxCut object at 0x7f6002b413c0&gt;</td>\n      <td>instance                  &lt;MaxCut.MaxCut objec...</td>\n      <td>instance                  &lt;MaxCut.MaxCut objec...</td>\n      <td>instance         NaN\np                NaN\nn   ...</td>\n    </tr>\n    <tr>\n      <th>8</th>\n      <td>&lt;MaxCut.MaxCut object at 0x7f6002b416c0&gt;</td>\n      <td>instance                  &lt;MaxCut.MaxCut objec...</td>\n      <td>instance                  &lt;MaxCut.MaxCut objec...</td>\n      <td>instance         NaN\np                NaN\nn   ...</td>\n    </tr>\n    <tr>\n      <th>9</th>\n      <td>&lt;MaxCut.MaxCut object at 0x7f6002b43490&gt;</td>\n      <td>instance                  &lt;MaxCut.MaxCut objec...</td>\n      <td>instance                  &lt;MaxCut.MaxCut objec...</td>\n      <td>instance         NaN\np                NaN\nn   ...</td>\n    </tr>\n    <tr>\n      <th rowspan=\"10\" valign=\"top\">2</th>\n      <th>0</th>\n      <td>&lt;MaxCut.MaxCut object at 0x7f60620d2b60&gt;</td>\n      <td>instance                  &lt;MaxCut.MaxCut objec...</td>\n      <td>instance                  &lt;MaxCut.MaxCut objec...</td>\n      <td>instance         NaN\np                NaN\nn   ...</td>\n    </tr>\n    <tr>\n      <th>1</th>\n      <td>&lt;MaxCut.MaxCut object at 0x7f60620d2e60&gt;</td>\n      <td>instance                  &lt;MaxCut.MaxCut objec...</td>\n      <td>instance                  &lt;MaxCut.MaxCut objec...</td>\n      <td>instance         NaN\np                NaN\nn   ...</td>\n    </tr>\n    <tr>\n      <th>2</th>\n      <td>&lt;MaxCut.MaxCut object at 0x7f60620d2ec0&gt;</td>\n      <td>instance                  &lt;MaxCut.MaxCut objec...</td>\n      <td>instance                  &lt;MaxCut.MaxCut objec...</td>\n      <td>instance         NaN\np                NaN\nn   ...</td>\n    </tr>\n    <tr>\n      <th>3</th>\n      <td>&lt;MaxCut.MaxCut object at 0x7f60620d27a0&gt;</td>\n      <td>instance                  &lt;MaxCut.MaxCut objec...</td>\n      <td>instance                  &lt;MaxCut.MaxCut objec...</td>\n      <td>instance         NaN\np                NaN\nn   ...</td>\n    </tr>\n    <tr>\n      <th>4</th>\n      <td>&lt;MaxCut.MaxCut object at 0x7f6002b43820&gt;</td>\n      <td>instance                  &lt;MaxCut.MaxCut objec...</td>\n      <td>instance                  &lt;MaxCut.MaxCut objec...</td>\n      <td>instance         NaN\np                NaN\nn   ...</td>\n    </tr>\n    <tr>\n      <th>5</th>\n      <td>&lt;MaxCut.MaxCut object at 0x7f6002b43640&gt;</td>\n      <td>instance                  &lt;MaxCut.MaxCut objec...</td>\n      <td>instance                  &lt;MaxCut.MaxCut objec...</td>\n      <td>instance         NaN\np                NaN\nn   ...</td>\n    </tr>\n    <tr>\n      <th>6</th>\n      <td>&lt;MaxCut.MaxCut object at 0x7f6002b40760&gt;</td>\n      <td>instance                  &lt;MaxCut.MaxCut objec...</td>\n      <td>instance                  &lt;MaxCut.MaxCut objec...</td>\n      <td>instance         NaN\np                NaN\nn   ...</td>\n    </tr>\n    <tr>\n      <th>7</th>\n      <td>&lt;MaxCut.MaxCut object at 0x7f6002b413c0&gt;</td>\n      <td>instance                  &lt;MaxCut.MaxCut objec...</td>\n      <td>instance                  &lt;MaxCut.MaxCut objec...</td>\n      <td>instance         NaN\np                NaN\nn   ...</td>\n    </tr>\n    <tr>\n      <th>8</th>\n      <td>&lt;MaxCut.MaxCut object at 0x7f6002b416c0&gt;</td>\n      <td>instance                  &lt;MaxCut.MaxCut objec...</td>\n      <td>instance                  &lt;MaxCut.MaxCut objec...</td>\n      <td>instance         NaN\np                NaN\nn   ...</td>\n    </tr>\n    <tr>\n      <th>9</th>\n      <td>&lt;MaxCut.MaxCut object at 0x7f6002b43490&gt;</td>\n      <td>instance                  &lt;MaxCut.MaxCut objec...</td>\n      <td>instance                  &lt;MaxCut.MaxCut objec...</td>\n      <td>instance         NaN\np                NaN\nn   ...</td>\n    </tr>\n    <tr>\n      <th rowspan=\"10\" valign=\"top\">3</th>\n      <th>0</th>\n      <td>&lt;MaxCut.MaxCut object at 0x7f60620d2b60&gt;</td>\n      <td>instance                  &lt;MaxCut.MaxCut objec...</td>\n      <td>instance                  &lt;MaxCut.MaxCut objec...</td>\n      <td>instance         NaN\np                NaN\nn   ...</td>\n    </tr>\n    <tr>\n      <th>1</th>\n      <td>&lt;MaxCut.MaxCut object at 0x7f60620d2e60&gt;</td>\n      <td>instance                  &lt;MaxCut.MaxCut objec...</td>\n      <td>instance                  &lt;MaxCut.MaxCut objec...</td>\n      <td>instance         NaN\np                NaN\nn   ...</td>\n    </tr>\n    <tr>\n      <th>2</th>\n      <td>&lt;MaxCut.MaxCut object at 0x7f60620d2ec0&gt;</td>\n      <td>instance                  &lt;MaxCut.MaxCut objec...</td>\n      <td>instance                  &lt;MaxCut.MaxCut objec...</td>\n      <td>instance         NaN\np                NaN\nn   ...</td>\n    </tr>\n    <tr>\n      <th>3</th>\n      <td>&lt;MaxCut.MaxCut object at 0x7f60620d27a0&gt;</td>\n      <td>instance                  &lt;MaxCut.MaxCut objec...</td>\n      <td>instance                  &lt;MaxCut.MaxCut objec...</td>\n      <td>instance         NaN\np                NaN\nn   ...</td>\n    </tr>\n    <tr>\n      <th>4</th>\n      <td>&lt;MaxCut.MaxCut object at 0x7f6002b43820&gt;</td>\n      <td>instance                  &lt;MaxCut.MaxCut objec...</td>\n      <td>instance                  &lt;MaxCut.MaxCut objec...</td>\n      <td>instance         NaN\np                NaN\nn   ...</td>\n    </tr>\n    <tr>\n      <th>5</th>\n      <td>&lt;MaxCut.MaxCut object at 0x7f6002b43640&gt;</td>\n      <td>instance                  &lt;MaxCut.MaxCut objec...</td>\n      <td>instance                  &lt;MaxCut.MaxCut objec...</td>\n      <td>instance         NaN\np                NaN\nn   ...</td>\n    </tr>\n    <tr>\n      <th>6</th>\n      <td>&lt;MaxCut.MaxCut object at 0x7f6002b40760&gt;</td>\n      <td>instance                  &lt;MaxCut.MaxCut objec...</td>\n      <td>instance                  &lt;MaxCut.MaxCut objec...</td>\n      <td>instance         NaN\np                NaN\nn   ...</td>\n    </tr>\n    <tr>\n      <th>7</th>\n      <td>&lt;MaxCut.MaxCut object at 0x7f6002b413c0&gt;</td>\n      <td>instance                  &lt;MaxCut.MaxCut objec...</td>\n      <td>instance                  &lt;MaxCut.MaxCut objec...</td>\n      <td>instance         NaN\np                NaN\nn   ...</td>\n    </tr>\n    <tr>\n      <th>8</th>\n      <td>&lt;MaxCut.MaxCut object at 0x7f6002b416c0&gt;</td>\n      <td>instance                  &lt;MaxCut.MaxCut objec...</td>\n      <td>instance                  &lt;MaxCut.MaxCut objec...</td>\n      <td>instance         NaN\np                NaN\nn   ...</td>\n    </tr>\n    <tr>\n      <th>9</th>\n      <td>&lt;MaxCut.MaxCut object at 0x7f6002b43490&gt;</td>\n      <td>instance                  &lt;MaxCut.MaxCut objec...</td>\n      <td>instance                  &lt;MaxCut.MaxCut objec...</td>\n      <td>instance         NaN\np                NaN\nn   ...</td>\n    </tr>\n    <tr>\n      <th rowspan=\"10\" valign=\"top\">4</th>\n      <th>0</th>\n      <td>&lt;MaxCut.MaxCut object at 0x7f60620d2b60&gt;</td>\n      <td>instance                  &lt;MaxCut.MaxCut objec...</td>\n      <td>instance                  &lt;MaxCut.MaxCut objec...</td>\n      <td>instance         NaN\np                NaN\nn   ...</td>\n    </tr>\n    <tr>\n      <th>1</th>\n      <td>&lt;MaxCut.MaxCut object at 0x7f60620d2e60&gt;</td>\n      <td>instance                  &lt;MaxCut.MaxCut objec...</td>\n      <td>instance                  &lt;MaxCut.MaxCut objec...</td>\n      <td>instance         NaN\np                NaN\nn   ...</td>\n    </tr>\n    <tr>\n      <th>2</th>\n      <td>&lt;MaxCut.MaxCut object at 0x7f60620d2ec0&gt;</td>\n      <td>instance                  &lt;MaxCut.MaxCut objec...</td>\n      <td>instance                  &lt;MaxCut.MaxCut objec...</td>\n      <td>instance         NaN\np                NaN\nn   ...</td>\n    </tr>\n    <tr>\n      <th>3</th>\n      <td>&lt;MaxCut.MaxCut object at 0x7f60620d27a0&gt;</td>\n      <td>instance                  &lt;MaxCut.MaxCut objec...</td>\n      <td>instance                  &lt;MaxCut.MaxCut objec...</td>\n      <td>instance         NaN\np                NaN\nn   ...</td>\n    </tr>\n    <tr>\n      <th>4</th>\n      <td>&lt;MaxCut.MaxCut object at 0x7f6002b43820&gt;</td>\n      <td>instance                  &lt;MaxCut.MaxCut objec...</td>\n      <td>instance                  &lt;MaxCut.MaxCut objec...</td>\n      <td>instance         NaN\np                NaN\nn   ...</td>\n    </tr>\n    <tr>\n      <th>5</th>\n      <td>&lt;MaxCut.MaxCut object at 0x7f6002b43640&gt;</td>\n      <td>instance                  &lt;MaxCut.MaxCut objec...</td>\n      <td>instance                  &lt;MaxCut.MaxCut objec...</td>\n      <td>instance         NaN\np                NaN\nn   ...</td>\n    </tr>\n    <tr>\n      <th>6</th>\n      <td>&lt;MaxCut.MaxCut object at 0x7f6002b40760&gt;</td>\n      <td>instance                  &lt;MaxCut.MaxCut objec...</td>\n      <td>instance                  &lt;MaxCut.MaxCut objec...</td>\n      <td>instance         NaN\np                NaN\nn   ...</td>\n    </tr>\n    <tr>\n      <th>7</th>\n      <td>&lt;MaxCut.MaxCut object at 0x7f6002b413c0&gt;</td>\n      <td>instance                  &lt;MaxCut.MaxCut objec...</td>\n      <td>instance                  &lt;MaxCut.MaxCut objec...</td>\n      <td>instance         NaN\np                NaN\nn   ...</td>\n    </tr>\n    <tr>\n      <th>8</th>\n      <td>&lt;MaxCut.MaxCut object at 0x7f6002b416c0&gt;</td>\n      <td>instance                  &lt;MaxCut.MaxCut objec...</td>\n      <td>instance                  &lt;MaxCut.MaxCut objec...</td>\n      <td>instance         NaN\np                NaN\nn   ...</td>\n    </tr>\n    <tr>\n      <th>9</th>\n      <td>&lt;MaxCut.MaxCut object at 0x7f6002b43490&gt;</td>\n      <td>instance                  &lt;MaxCut.MaxCut objec...</td>\n      <td>instance                  &lt;MaxCut.MaxCut objec...</td>\n      <td>instance         NaN\np                NaN\nn   ...</td>\n    </tr>\n    <tr>\n      <th rowspan=\"10\" valign=\"top\">5</th>\n      <th>0</th>\n      <td>&lt;MaxCut.MaxCut object at 0x7f60620d2b60&gt;</td>\n      <td>instance                  &lt;MaxCut.MaxCut objec...</td>\n      <td>instance                  &lt;MaxCut.MaxCut objec...</td>\n      <td>instance         NaN\np                NaN\nn   ...</td>\n    </tr>\n    <tr>\n      <th>1</th>\n      <td>&lt;MaxCut.MaxCut object at 0x7f60620d2e60&gt;</td>\n      <td>instance                  &lt;MaxCut.MaxCut objec...</td>\n      <td>instance                  &lt;MaxCut.MaxCut objec...</td>\n      <td>instance         NaN\np                NaN\nn   ...</td>\n    </tr>\n    <tr>\n      <th>2</th>\n      <td>&lt;MaxCut.MaxCut object at 0x7f60620d2ec0&gt;</td>\n      <td>instance                  &lt;MaxCut.MaxCut objec...</td>\n      <td>instance                  &lt;MaxCut.MaxCut objec...</td>\n      <td>instance         NaN\np                NaN\nn   ...</td>\n    </tr>\n    <tr>\n      <th>3</th>\n      <td>&lt;MaxCut.MaxCut object at 0x7f60620d27a0&gt;</td>\n      <td>instance                  &lt;MaxCut.MaxCut objec...</td>\n      <td>instance                  &lt;MaxCut.MaxCut objec...</td>\n      <td>instance         NaN\np                NaN\nn   ...</td>\n    </tr>\n    <tr>\n      <th>4</th>\n      <td>&lt;MaxCut.MaxCut object at 0x7f6002b43820&gt;</td>\n      <td>instance                  &lt;MaxCut.MaxCut objec...</td>\n      <td>instance                  &lt;MaxCut.MaxCut objec...</td>\n      <td>instance         NaN\np                NaN\nn   ...</td>\n    </tr>\n    <tr>\n      <th>5</th>\n      <td>&lt;MaxCut.MaxCut object at 0x7f6002b43640&gt;</td>\n      <td>instance                  &lt;MaxCut.MaxCut objec...</td>\n      <td>instance                  &lt;MaxCut.MaxCut objec...</td>\n      <td>instance         NaN\np                NaN\nn   ...</td>\n    </tr>\n    <tr>\n      <th>6</th>\n      <td>&lt;MaxCut.MaxCut object at 0x7f6002b40760&gt;</td>\n      <td>instance                  &lt;MaxCut.MaxCut objec...</td>\n      <td>instance                  &lt;MaxCut.MaxCut objec...</td>\n      <td>instance         NaN\np                NaN\nn   ...</td>\n    </tr>\n    <tr>\n      <th>7</th>\n      <td>&lt;MaxCut.MaxCut object at 0x7f6002b413c0&gt;</td>\n      <td>instance                  &lt;MaxCut.MaxCut objec...</td>\n      <td>instance                  &lt;MaxCut.MaxCut objec...</td>\n      <td>instance         NaN\np                NaN\nn   ...</td>\n    </tr>\n    <tr>\n      <th>8</th>\n      <td>&lt;MaxCut.MaxCut object at 0x7f6002b416c0&gt;</td>\n      <td>instance                  &lt;MaxCut.MaxCut objec...</td>\n      <td>instance                  &lt;MaxCut.MaxCut objec...</td>\n      <td>instance         NaN\np                NaN\nn   ...</td>\n    </tr>\n    <tr>\n      <th>9</th>\n      <td>&lt;MaxCut.MaxCut object at 0x7f6002b43490&gt;</td>\n      <td>instance                  &lt;MaxCut.MaxCut objec...</td>\n      <td>instance                  &lt;MaxCut.MaxCut objec...</td>\n      <td>instance         NaN\np                NaN\nn   ...</td>\n    </tr>\n  </tbody>\n</table>\n</div>"
     },
     "execution_count": 4,
     "metadata": {},
     "output_type": "execute_result"
    }
   ],
   "source": [
    "with open('.//results/n5_results.p', 'rb') as file:\n",
    "    df = pickle.load(file)\n",
    "\n",
    "df"
   ],
   "metadata": {
    "collapsed": false
   }
  },
  {
   "cell_type": "code",
   "execution_count": 7,
   "metadata": {
    "collapsed": false
   },
   "outputs": [],
   "source": [
    "# with open('.//results//n4_p1.p','rb') as file:\n",
    "#     df = pickle.load(file)"
   ]
  },
  {
   "cell_type": "code",
   "execution_count": 8,
   "metadata": {
    "collapsed": false
   },
   "outputs": [],
   "source": [
    "# with open(\"..//benchmarks//RK45_n10_p-1-5_Delta-1.p\",\"rb\") as file:\n",
    "#     data: Benchmark = pickle.load(file)\n",
    "#\n",
    "# scipy_results = list()\n",
    "# for d in data.results:\n",
    "#     items = d.get(\"tdvp\").__dict__.items()\n",
    "#     for k,v in items:\n",
    "#         d[k]=v\n",
    "#         d[\"algorithm\"] = \"tdvp\"\n",
    "#     d[\"n\"] = d[\"_qaoa\"].n\n",
    "#     dd = d.copy()\n",
    "#     items = dd.get(\"scipy\").__dict__.items()\n",
    "#     for k,v in items:\n",
    "#         dd[k]=v\n",
    "#         dd[\"algorithm\"] = \"scipy\"\n",
    "#     dd[\"n\"] = dd[\"_qaoa\"].n\n",
    "#     scipy_results.append(dd)\n",
    "#\n",
    "# data.results.extend(scipy_results)\n",
    "#\n",
    "# df = pd.DataFrame(data.results)\n",
    "# df.pop(\"tdvp\")\n",
    "# df.pop(\"scipy\")\n",
    "# cols = df.columns.tolist()\n",
    "# cols = cols[-1:] + cols[:-1]\n",
    "# df = df[cols]\n",
    "#\n",
    "# df['steps'] = df.apply(lambda row: int(row['_num_steps']) if row.algorithm==\"tdvp\" else row['_num_fun_calls'], axis=1)\n",
    "#\n",
    "# df.insert(2,\"algorithm\",df.pop(\"algorithm\"))\n",
    "# df.insert(3,\"_optimal_fun_value\",df.pop(\"_optimal_fun_value\"))\n",
    "# df.insert(4,'steps', df.pop('steps'))\n",
    "# df.insert(6,\"_prob\",df.pop(\"_prob\"))\n",
    "#\n",
    "#\n",
    "# df_tdvp = df[df.algorithm.eq(\"tdvp\")]\n",
    "# df_scipy = df[df.algorithm.eq(\"scipy\")]\n",
    "#\n",
    "# df.rename(columns={\"_optimal_fun_value\":\"C\", \"_prob\":\"prob\", '_duration':'duration', '_optimal_state':'final_state', '_optimal_parameters':'final_parameters', '_num_gates':'num_gates','_qaoa':'qaoa'}, inplace=True)"
   ]
  },
  {
   "cell_type": "markdown",
   "source": [
    "fix error when LinAlgerror exception occured and thererfore QAOAResult.duration = None leads to an error in `f\"{self.duration:.2f}\"`"
   ],
   "metadata": {
    "collapsed": false
   }
  },
  {
   "cell_type": "code",
   "execution_count": 9,
   "outputs": [],
   "source": [
    "# for (p,i) in df.index:\n",
    "#     try:\n",
    "#         df.loc[p,i].__repr__()\n",
    "#     except TypeError:\n",
    "#         print((p,i))\n",
    "#         (p_er,i_er) = (p,i)\n",
    "# df['tdvp'].loc[p_er,i_er].res.value = np.NAN\n",
    "# df['tdvp'].loc[p_er,i_er].res.num_fun_calls = np.NAN\n",
    "# df['tdvp'].loc[p_er,i_er].res.num_steps = np.NAN\n",
    "# df['tdvp'].loc[p_er,i_er].res.parameters = list(np.NAN for _ in range(6))\n",
    "# df['tdvp'].loc[p_er,i_er].res.optimizer_name = 'tdvp'\n",
    "# df['tdvp'].loc[p_er,i_er].res.duration = np.NAN"
   ],
   "metadata": {
    "collapsed": false
   }
  },
  {
   "cell_type": "markdown",
   "metadata": {
    "collapsed": false
   },
   "source": [
    "# Compute performance measures"
   ]
  },
  {
   "cell_type": "code",
   "execution_count": 10,
   "metadata": {
    "collapsed": false
   },
   "outputs": [],
   "source": [
    "# dfp = df[df['p']==1]\n",
    "# measures = ['expected approximation ratio', 'groundspace overlap', 'groundspace sharpness', 'Approximation ratio', 'circuit count', 'gate count']\n",
    "# types = ['min','max', 'mean', 'stdv']\n",
    "# measure_index=pd.MultiIndex.from_product([measures, types])\n",
    "# summary = pd.DataFrame(columns=measure_index)\n",
    "# summary"
   ]
  },
  {
   "cell_type": "markdown",
   "source": [
    "## basic functions"
   ],
   "metadata": {
    "collapsed": false
   }
  },
  {
   "cell_type": "code",
   "execution_count": 11,
   "metadata": {
    "collapsed": false
   },
   "outputs": [],
   "source": [
    "def prob(num:int, state:Qobj):\n",
    "    n = state.shape[0]\n",
    "    return abs(state.overlap(basis(n,num)))**2\n",
    "\n",
    "def answer(state:Qobj)->int:\n",
    "    return max(range(state.shape[0]), key=lambda x:prob(x,state))\n",
    "\n",
    "def bin_answer(answer:int, n:int)->str:\n",
    "    return format(answer,  f'0{n}b')"
   ]
  },
  {
   "cell_type": "markdown",
   "source": [
    "## approximation ratio"
   ],
   "metadata": {
    "collapsed": false
   }
  },
  {
   "cell_type": "code",
   "execution_count": 12,
   "metadata": {
    "collapsed": false
   },
   "outputs": [],
   "source": [
    "def best_cost_value(qaoa:QAOA):\n",
    "    return qaoa.H.groundstate()[0]\n",
    "\n",
    "def approximation_ratio(bin_answer:int, best_cost_value:float, qaoa:QAOA):\n",
    "    i = list(int(b) for b in bin_answer)\n",
    "    dims = [2 for _ in range(qaoa.n)]\n",
    "    return expect(qaoa.H,basis(dims,i))/best_cost_value\n",
    "\n",
    "def expectation_of_approximation_ratio(state:Qobj, best_cost_value:float, qaoa:QAOA):\n",
    "    return (expect(qaoa.H, state))/best_cost_value\n"
   ]
  },
  {
   "cell_type": "markdown",
   "source": [
    "## time measures"
   ],
   "metadata": {
    "collapsed": false
   }
  },
  {
   "cell_type": "code",
   "execution_count": 13,
   "outputs": [],
   "source": [
    "path_example = df['tdvp'].loc[1,0].path"
   ],
   "metadata": {
    "collapsed": false
   }
  },
  {
   "cell_type": "code",
   "execution_count": 14,
   "outputs": [
    {
     "data": {
      "text/plain": "[(1.0, 1.0),\n (1.1463536671199426, 1.0537054136855457),\n (1.42798474861453, 1.1402155477207805),\n (1.6977325427539944, 1.1726046437276998),\n (1.9498338897626453, 1.1373473949943786),\n (2.0858560504446073, 1.0571219889405103),\n (2.173176448670738, 0.9774594446471068),\n (2.249104762724392, 0.9249734457916832),\n (2.316267683269757, 0.8887183485768934)]"
     },
     "execution_count": 14,
     "metadata": {},
     "output_type": "execute_result"
    }
   ],
   "source": [
    "path_example"
   ],
   "metadata": {
    "collapsed": false
   }
  },
  {
   "cell_type": "code",
   "execution_count": 15,
   "metadata": {
    "collapsed": false
   },
   "outputs": [],
   "source": [
    "def num_metric_gates(n:int,p:int,qubo:NDArray):\n",
    "    Q = np.count_nonzero(qubo)\n",
    "    N = 2*p*(n+Q)\n",
    "    C1 = 1/2 * n**4 + 2*n**3 + 7/2*n**2\n",
    "    C2 = n**4 + 5/2*(n**3 + n**2)\n",
    "    return N*C1*(7/3*p**2 +2*p + 1/3) + (2*C2-N*C1)*(1/2*p**2 +3/2*p)\n",
    "\n",
    "def num_gradient_gates(n:int,p:int,qubo:NDArray):\n",
    "    Q = np.count_nonzero(qubo)\n",
    "    N = 2*p*(n+Q)\n",
    "    return (n**4 -2*n**3 +n**2)/4 * (2*N+4) + 3*n*(n*(n-1))/2*(2*(N+3)) + 2*n**2*(2*N+3)\n",
    "\n",
    "def num_qaoa_gates(n:int,p:int, qubo:NDArray):\n",
    "    Q = np.count_nonzero(qubo)\n",
    "    return 2*p*(n+Q)\n",
    "\n",
    "def circuit_count(steps:int, algorithm:str, p:int, n:int):\n",
    "    if algorithm =='tdvp':\n",
    "        return steps*(p**2 + p)*(1/8*n**4 +1/2*n**3 -5/8*n**2) + 1\n",
    "    if algorithm ==\"scipy\":\n",
    "        return steps + 1\n",
    "\n",
    "def gate_count(steps: int, algorithm: str, p: int, n: int, qaoa: QAOA):\n",
    "    if algorithm=='tdvp':\n",
    "        return steps*(num_metric_gates(n,p,qaoa.qubo) + num_gradient_gates(n,p,qaoa.qubo)) + num_qaoa_gates(n,p,qaoa.qubo)\n",
    "    if algorithm=='scipy':\n",
    "        return (1+steps)*num_qaoa_gates(n,p,qaoa.qubo)\n",
    "\n",
    "def path_length(path:List[Tuple[float]])->float:\n",
    "    return sum(np.linalg.norm(np.array(path[i])-np.array(path[i+1])) for i in range(len(path)-1))"
   ]
  },
  {
   "cell_type": "markdown",
   "source": [
    "## Quality measures"
   ],
   "metadata": {
    "collapsed": false
   }
  },
  {
   "cell_type": "code",
   "execution_count": 16,
   "metadata": {
    "collapsed": false
   },
   "outputs": [],
   "source": [
    "# GROUNDSPACE IS NOW PART OF QAOA CLASS\n",
    "# def groundspace(qaoa:QAOA):\n",
    "#     eigenenergies, eigenstates = qaoa.H.eigenstates(sort='low')\n",
    "#     groundenergy = eigenenergies[0]\n",
    "#\n",
    "#     num_of_eigenstates = 0\n",
    "#     for e in eigenenergies:\n",
    "#         if e==groundenergy:\n",
    "#             num_of_eigenstates +=1\n",
    "#         if e != groundenergy:\n",
    "#             break\n",
    "#     return eigenstates[:num_of_eigenstates]\n",
    "\n",
    "def groundspace_overlap(groundstates:List[Qobj], state:Qobj):\n",
    "    return  sum(abs(g.overlap(state))**2 for g in groundstates)\n",
    "\n",
    "def groundspace_sharpness(groundstates:List[Qobj], state:Qobj):\n",
    "    P_0 = sum(g*g.dag() for g in groundstates)\n",
    "    return math.sqrt(variance(P_0,state))\n"
   ]
  },
  {
   "cell_type": "markdown",
   "source": [
    "## Compute everything"
   ],
   "metadata": {
    "collapsed": false
   }
  },
  {
   "cell_type": "code",
   "execution_count": 17,
   "outputs": [
    {
     "data": {
      "text/plain": "Index(['instance', 'p', 'n', 'delta_0', 'tollarance', 'algorithm', 'res',\n       'delta', 'value', 'path', 'steps', 'num_fun_calls', 'real duration',\n       'message'],\n      dtype='object')"
     },
     "execution_count": 17,
     "metadata": {},
     "output_type": "execute_result"
    }
   ],
   "source": [
    "res_example.index"
   ],
   "metadata": {
    "collapsed": false
   }
  },
  {
   "cell_type": "code",
   "execution_count": 19,
   "outputs": [],
   "source": [
    "def compute_measures(res:pd.Series, qaoa:QAOA)->pd.Series:\n",
    "    if res.res.success:\n",
    "        state = qaoa.state(res.delta)\n",
    "        res['answer'] = answer(state)\n",
    "        res['bin_answer'] = bin_answer(res['answer'], res['n'])\n",
    "        res['best_cost_value'] = best_cost_value(qaoa)\n",
    "        res['approximation_ratio'] = approximation_ratio(res['bin_answer'], res['best_cost_value'], qaoa)\n",
    "        res['expectation_of_approximation_ratio']=expectation_of_approximation_ratio(state, res['best_cost_value'], qaoa)\n",
    "        res['circuit_count'] = circuit_count(res['steps'], res['algorithm'], res['p'], res['n'])\n",
    "        res['gate_count'] = gate_count(res['steps'], res['algorithm'], res['n'],res['p'], qaoa)\n",
    "        res['path_length'] = path_length(res['path'])\n",
    "        res['groundspace_overlap'] = groundspace_overlap(qaoa.groundspace, state)\n",
    "        res['groundspace_sharpness'] = groundspace_sharpness(qaoa.groundspace, state)\n",
    "    return res\n"
   ],
   "metadata": {
    "collapsed": false
   }
  },
  {
   "cell_type": "code",
   "execution_count": 20,
   "outputs": [
    {
     "data": {
      "text/plain": "instance                                       <MaxCut.MaxCut object at 0x7f60620d2b60>\np                                                                                     1\nn                                                                                     5\ndelta_0                                                                          (1, 1)\ntollarance                                                                          0.1\nalgorithm                                                                          tdvp\nres                                   \\n        tdvp_optimizer with circuit gradient...\ndelta                                           (2.316267683269757, 0.8887183485768934)\nvalue                                                                         -4.805681\npath                                  [(1.0, 1.0), (1.1463536671199426, 1.0537054136...\nsteps                                                                                79\nnum_fun_calls                                                                        62\nreal duration                                                                 29.023612\nmessage                                                   A termination event occurred.\nanswer                                                                                0\nbin_answer                                                                        00000\nbest_cost_value                                                                   -10.5\napproximation_ratio                                                                 1.0\nexpectation_of_approximation_ratio                                             0.492706\ncircuit_count                                                                   19751.0\ngate_count                                                                    4228734.0\npath_length                                                                    1.421499\ngroundspace_overlap                                                            0.210406\ngroundspace_sharpness                                                          0.407597\nName: tdvp, dtype: object"
     },
     "execution_count": 20,
     "metadata": {},
     "output_type": "execute_result"
    }
   ],
   "source": [
    "compute_measures(res_example, QAOA(res_example['instance'].qubo,p=res_example.p))"
   ],
   "metadata": {
    "collapsed": false
   }
  },
  {
   "cell_type": "code",
   "execution_count": null,
   "outputs": [],
   "source": [
    "def measures_mapping(row:pd.Series):\n",
    "    qaoa = QAOA(row['instance'].qubo,p=row.name[0])\n",
    "    if row.tdvp.algorithm is not None:\n",
    "        row.tdvp = compute_measures(row.tdvp,qaoa)\n",
    "    # if row.scipy.algorithm is not None:\n",
    "    #     row.scipy =compute_measures(row.scipy,qaoa)\n",
    "    # if row.gradient_descent.algorithm is not None:\n",
    "    #     row.gradient_descent =compute_measures(row.gradient_descent,qaoa)\n",
    "    return row\n",
    "def compute_measures_apply(df:pd.DataFrame)->pd.DataFrame:\n",
    "    return df.swifter.apply(measures_mapping, axis=1)"
   ],
   "metadata": {
    "collapsed": false
   }
  },
  {
   "cell_type": "code",
   "execution_count": 28,
   "outputs": [
    {
     "data": {
      "text/plain": "Pandas Apply:   0%|          | 0/50 [00:00<?, ?it/s]",
      "application/vnd.jupyter.widget-view+json": {
       "version_major": 2,
       "version_minor": 0,
       "model_id": "bf3319a9380e4433a063081ab72d132f"
      }
     },
     "metadata": {},
     "output_type": "display_data"
    },
    {
     "data": {
      "text/plain": "                                     instance  \\\np i                                             \n1 0  <MaxCut.MaxCut object at 0x7f60620d2b60>   \n  1  <MaxCut.MaxCut object at 0x7f60620d2e60>   \n  2  <MaxCut.MaxCut object at 0x7f60620d2ec0>   \n  3  <MaxCut.MaxCut object at 0x7f60620d27a0>   \n  4  <MaxCut.MaxCut object at 0x7f6002b43820>   \n  5  <MaxCut.MaxCut object at 0x7f6002b43640>   \n  6  <MaxCut.MaxCut object at 0x7f6002b40760>   \n  7  <MaxCut.MaxCut object at 0x7f6002b413c0>   \n  8  <MaxCut.MaxCut object at 0x7f6002b416c0>   \n  9  <MaxCut.MaxCut object at 0x7f6002b43490>   \n2 0  <MaxCut.MaxCut object at 0x7f60620d2b60>   \n  1  <MaxCut.MaxCut object at 0x7f60620d2e60>   \n  2  <MaxCut.MaxCut object at 0x7f60620d2ec0>   \n  3  <MaxCut.MaxCut object at 0x7f60620d27a0>   \n  4  <MaxCut.MaxCut object at 0x7f6002b43820>   \n  5  <MaxCut.MaxCut object at 0x7f6002b43640>   \n  6  <MaxCut.MaxCut object at 0x7f6002b40760>   \n  7  <MaxCut.MaxCut object at 0x7f6002b413c0>   \n  8  <MaxCut.MaxCut object at 0x7f6002b416c0>   \n  9  <MaxCut.MaxCut object at 0x7f6002b43490>   \n3 0  <MaxCut.MaxCut object at 0x7f60620d2b60>   \n  1  <MaxCut.MaxCut object at 0x7f60620d2e60>   \n  2  <MaxCut.MaxCut object at 0x7f60620d2ec0>   \n  3  <MaxCut.MaxCut object at 0x7f60620d27a0>   \n  4  <MaxCut.MaxCut object at 0x7f6002b43820>   \n  5  <MaxCut.MaxCut object at 0x7f6002b43640>   \n  6  <MaxCut.MaxCut object at 0x7f6002b40760>   \n  7  <MaxCut.MaxCut object at 0x7f6002b413c0>   \n  8  <MaxCut.MaxCut object at 0x7f6002b416c0>   \n  9  <MaxCut.MaxCut object at 0x7f6002b43490>   \n4 0  <MaxCut.MaxCut object at 0x7f60620d2b60>   \n  1  <MaxCut.MaxCut object at 0x7f60620d2e60>   \n  2  <MaxCut.MaxCut object at 0x7f60620d2ec0>   \n  3  <MaxCut.MaxCut object at 0x7f60620d27a0>   \n  4  <MaxCut.MaxCut object at 0x7f6002b43820>   \n  5  <MaxCut.MaxCut object at 0x7f6002b43640>   \n  6  <MaxCut.MaxCut object at 0x7f6002b40760>   \n  7  <MaxCut.MaxCut object at 0x7f6002b413c0>   \n  8  <MaxCut.MaxCut object at 0x7f6002b416c0>   \n  9  <MaxCut.MaxCut object at 0x7f6002b43490>   \n5 0  <MaxCut.MaxCut object at 0x7f60620d2b60>   \n  1  <MaxCut.MaxCut object at 0x7f60620d2e60>   \n  2  <MaxCut.MaxCut object at 0x7f60620d2ec0>   \n  3  <MaxCut.MaxCut object at 0x7f60620d27a0>   \n  4  <MaxCut.MaxCut object at 0x7f6002b43820>   \n  5  <MaxCut.MaxCut object at 0x7f6002b43640>   \n  6  <MaxCut.MaxCut object at 0x7f6002b40760>   \n  7  <MaxCut.MaxCut object at 0x7f6002b413c0>   \n  8  <MaxCut.MaxCut object at 0x7f6002b416c0>   \n  9  <MaxCut.MaxCut object at 0x7f6002b43490>   \n\n                                                  tdvp  \\\np i                                                      \n1 0  instance                                      ...   \n  1  instance                                      ...   \n  2  instance                                      ...   \n  3  instance                                      ...   \n  4  instance                                      ...   \n  5  instance                                      ...   \n  6  instance                                      ...   \n  7  instance                                      ...   \n  8  instance                                      ...   \n  9  instance                                      ...   \n2 0  instance                                      ...   \n  1  instance                                      ...   \n  2  instance                                      ...   \n  3  instance                                      ...   \n  4  instance                                      ...   \n  5  instance                                      ...   \n  6  instance                                      ...   \n  7  instance                                      ...   \n  8  instance                                      ...   \n  9  instance                                      ...   \n3 0  instance                                      ...   \n  1  instance                                      ...   \n  2  instance                  <MaxCut.MaxCut objec...   \n  3  instance                                      ...   \n  4  instance                                      ...   \n  5  instance                                      ...   \n  6  instance                                      ...   \n  7  instance                                      ...   \n  8  instance                                      ...   \n  9  instance                                      ...   \n4 0  instance                                      ...   \n  1  instance                                      ...   \n  2  instance                                      ...   \n  3  instance                                      ...   \n  4  instance                                      ...   \n  5  instance                                      ...   \n  6  instance                                      ...   \n  7  instance                                      ...   \n  8  instance                                      ...   \n  9  instance                                      ...   \n5 0  instance                                      ...   \n  1  instance                                      ...   \n  2  instance                                      ...   \n  3  instance                                      ...   \n  4  instance                                      ...   \n  5  instance                                      ...   \n  6  instance                                      ...   \n  7  instance                                      ...   \n  8  instance                                      ...   \n  9  instance                                      ...   \n\n                                                 scipy  \\\np i                                                      \n1 0  instance                  <MaxCut.MaxCut objec...   \n  1  instance                  <MaxCut.MaxCut objec...   \n  2  instance                  <MaxCut.MaxCut objec...   \n  3  instance                  <MaxCut.MaxCut objec...   \n  4  instance                  <MaxCut.MaxCut objec...   \n  5  instance                  <MaxCut.MaxCut objec...   \n  6  instance                  <MaxCut.MaxCut objec...   \n  7  instance                  <MaxCut.MaxCut objec...   \n  8  instance                  <MaxCut.MaxCut objec...   \n  9  instance                  <MaxCut.MaxCut objec...   \n2 0  instance                  <MaxCut.MaxCut objec...   \n  1  instance                  <MaxCut.MaxCut objec...   \n  2  instance                  <MaxCut.MaxCut objec...   \n  3  instance                  <MaxCut.MaxCut objec...   \n  4  instance                  <MaxCut.MaxCut objec...   \n  5  instance                  <MaxCut.MaxCut objec...   \n  6  instance                  <MaxCut.MaxCut objec...   \n  7  instance                  <MaxCut.MaxCut objec...   \n  8  instance                  <MaxCut.MaxCut objec...   \n  9  instance                  <MaxCut.MaxCut objec...   \n3 0  instance                  <MaxCut.MaxCut objec...   \n  1  instance                  <MaxCut.MaxCut objec...   \n  2  instance                  <MaxCut.MaxCut objec...   \n  3  instance                  <MaxCut.MaxCut objec...   \n  4  instance                  <MaxCut.MaxCut objec...   \n  5  instance                  <MaxCut.MaxCut objec...   \n  6  instance                  <MaxCut.MaxCut objec...   \n  7  instance                  <MaxCut.MaxCut objec...   \n  8  instance                  <MaxCut.MaxCut objec...   \n  9  instance                  <MaxCut.MaxCut objec...   \n4 0  instance                  <MaxCut.MaxCut objec...   \n  1  instance                  <MaxCut.MaxCut objec...   \n  2  instance                  <MaxCut.MaxCut objec...   \n  3  instance                  <MaxCut.MaxCut objec...   \n  4  instance                  <MaxCut.MaxCut objec...   \n  5  instance                  <MaxCut.MaxCut objec...   \n  6  instance                  <MaxCut.MaxCut objec...   \n  7  instance                  <MaxCut.MaxCut objec...   \n  8  instance                  <MaxCut.MaxCut objec...   \n  9  instance                  <MaxCut.MaxCut objec...   \n5 0  instance                  <MaxCut.MaxCut objec...   \n  1  instance                  <MaxCut.MaxCut objec...   \n  2  instance                  <MaxCut.MaxCut objec...   \n  3  instance                  <MaxCut.MaxCut objec...   \n  4  instance                  <MaxCut.MaxCut objec...   \n  5  instance                  <MaxCut.MaxCut objec...   \n  6  instance                  <MaxCut.MaxCut objec...   \n  7  instance                  <MaxCut.MaxCut objec...   \n  8  instance                  <MaxCut.MaxCut objec...   \n  9  instance                  <MaxCut.MaxCut objec...   \n\n                                      gradient_descent  \np i                                                     \n1 0  instance         NaN\np                NaN\nn   ...  \n  1  instance         NaN\np                NaN\nn   ...  \n  2  instance         NaN\np                NaN\nn   ...  \n  3  instance         NaN\np                NaN\nn   ...  \n  4  instance         NaN\np                NaN\nn   ...  \n  5  instance         NaN\np                NaN\nn   ...  \n  6  instance         NaN\np                NaN\nn   ...  \n  7  instance         NaN\np                NaN\nn   ...  \n  8  instance         NaN\np                NaN\nn   ...  \n  9  instance         NaN\np                NaN\nn   ...  \n2 0  instance         NaN\np                NaN\nn   ...  \n  1  instance         NaN\np                NaN\nn   ...  \n  2  instance         NaN\np                NaN\nn   ...  \n  3  instance         NaN\np                NaN\nn   ...  \n  4  instance         NaN\np                NaN\nn   ...  \n  5  instance         NaN\np                NaN\nn   ...  \n  6  instance         NaN\np                NaN\nn   ...  \n  7  instance         NaN\np                NaN\nn   ...  \n  8  instance         NaN\np                NaN\nn   ...  \n  9  instance         NaN\np                NaN\nn   ...  \n3 0  instance         NaN\np                NaN\nn   ...  \n  1  instance         NaN\np                NaN\nn   ...  \n  2  instance         NaN\np                NaN\nn   ...  \n  3  instance         NaN\np                NaN\nn   ...  \n  4  instance         NaN\np                NaN\nn   ...  \n  5  instance         NaN\np                NaN\nn   ...  \n  6  instance         NaN\np                NaN\nn   ...  \n  7  instance         NaN\np                NaN\nn   ...  \n  8  instance         NaN\np                NaN\nn   ...  \n  9  instance         NaN\np                NaN\nn   ...  \n4 0  instance         NaN\np                NaN\nn   ...  \n  1  instance         NaN\np                NaN\nn   ...  \n  2  instance         NaN\np                NaN\nn   ...  \n  3  instance         NaN\np                NaN\nn   ...  \n  4  instance         NaN\np                NaN\nn   ...  \n  5  instance         NaN\np                NaN\nn   ...  \n  6  instance         NaN\np                NaN\nn   ...  \n  7  instance         NaN\np                NaN\nn   ...  \n  8  instance         NaN\np                NaN\nn   ...  \n  9  instance         NaN\np                NaN\nn   ...  \n5 0  instance         NaN\np                NaN\nn   ...  \n  1  instance         NaN\np                NaN\nn   ...  \n  2  instance         NaN\np                NaN\nn   ...  \n  3  instance         NaN\np                NaN\nn   ...  \n  4  instance         NaN\np                NaN\nn   ...  \n  5  instance         NaN\np                NaN\nn   ...  \n  6  instance         NaN\np                NaN\nn   ...  \n  7  instance         NaN\np                NaN\nn   ...  \n  8  instance         NaN\np                NaN\nn   ...  \n  9  instance         NaN\np                NaN\nn   ...  ",
      "text/html": "<div>\n<style scoped>\n    .dataframe tbody tr th:only-of-type {\n        vertical-align: middle;\n    }\n\n    .dataframe tbody tr th {\n        vertical-align: top;\n    }\n\n    .dataframe thead th {\n        text-align: right;\n    }\n</style>\n<table border=\"1\" class=\"dataframe\">\n  <thead>\n    <tr style=\"text-align: right;\">\n      <th></th>\n      <th></th>\n      <th>instance</th>\n      <th>tdvp</th>\n      <th>scipy</th>\n      <th>gradient_descent</th>\n    </tr>\n    <tr>\n      <th>p</th>\n      <th>i</th>\n      <th></th>\n      <th></th>\n      <th></th>\n      <th></th>\n    </tr>\n  </thead>\n  <tbody>\n    <tr>\n      <th rowspan=\"10\" valign=\"top\">1</th>\n      <th>0</th>\n      <td>&lt;MaxCut.MaxCut object at 0x7f60620d2b60&gt;</td>\n      <td>instance                                      ...</td>\n      <td>instance                  &lt;MaxCut.MaxCut objec...</td>\n      <td>instance         NaN\np                NaN\nn   ...</td>\n    </tr>\n    <tr>\n      <th>1</th>\n      <td>&lt;MaxCut.MaxCut object at 0x7f60620d2e60&gt;</td>\n      <td>instance                                      ...</td>\n      <td>instance                  &lt;MaxCut.MaxCut objec...</td>\n      <td>instance         NaN\np                NaN\nn   ...</td>\n    </tr>\n    <tr>\n      <th>2</th>\n      <td>&lt;MaxCut.MaxCut object at 0x7f60620d2ec0&gt;</td>\n      <td>instance                                      ...</td>\n      <td>instance                  &lt;MaxCut.MaxCut objec...</td>\n      <td>instance         NaN\np                NaN\nn   ...</td>\n    </tr>\n    <tr>\n      <th>3</th>\n      <td>&lt;MaxCut.MaxCut object at 0x7f60620d27a0&gt;</td>\n      <td>instance                                      ...</td>\n      <td>instance                  &lt;MaxCut.MaxCut objec...</td>\n      <td>instance         NaN\np                NaN\nn   ...</td>\n    </tr>\n    <tr>\n      <th>4</th>\n      <td>&lt;MaxCut.MaxCut object at 0x7f6002b43820&gt;</td>\n      <td>instance                                      ...</td>\n      <td>instance                  &lt;MaxCut.MaxCut objec...</td>\n      <td>instance         NaN\np                NaN\nn   ...</td>\n    </tr>\n    <tr>\n      <th>5</th>\n      <td>&lt;MaxCut.MaxCut object at 0x7f6002b43640&gt;</td>\n      <td>instance                                      ...</td>\n      <td>instance                  &lt;MaxCut.MaxCut objec...</td>\n      <td>instance         NaN\np                NaN\nn   ...</td>\n    </tr>\n    <tr>\n      <th>6</th>\n      <td>&lt;MaxCut.MaxCut object at 0x7f6002b40760&gt;</td>\n      <td>instance                                      ...</td>\n      <td>instance                  &lt;MaxCut.MaxCut objec...</td>\n      <td>instance         NaN\np                NaN\nn   ...</td>\n    </tr>\n    <tr>\n      <th>7</th>\n      <td>&lt;MaxCut.MaxCut object at 0x7f6002b413c0&gt;</td>\n      <td>instance                                      ...</td>\n      <td>instance                  &lt;MaxCut.MaxCut objec...</td>\n      <td>instance         NaN\np                NaN\nn   ...</td>\n    </tr>\n    <tr>\n      <th>8</th>\n      <td>&lt;MaxCut.MaxCut object at 0x7f6002b416c0&gt;</td>\n      <td>instance                                      ...</td>\n      <td>instance                  &lt;MaxCut.MaxCut objec...</td>\n      <td>instance         NaN\np                NaN\nn   ...</td>\n    </tr>\n    <tr>\n      <th>9</th>\n      <td>&lt;MaxCut.MaxCut object at 0x7f6002b43490&gt;</td>\n      <td>instance                                      ...</td>\n      <td>instance                  &lt;MaxCut.MaxCut objec...</td>\n      <td>instance         NaN\np                NaN\nn   ...</td>\n    </tr>\n    <tr>\n      <th rowspan=\"10\" valign=\"top\">2</th>\n      <th>0</th>\n      <td>&lt;MaxCut.MaxCut object at 0x7f60620d2b60&gt;</td>\n      <td>instance                                      ...</td>\n      <td>instance                  &lt;MaxCut.MaxCut objec...</td>\n      <td>instance         NaN\np                NaN\nn   ...</td>\n    </tr>\n    <tr>\n      <th>1</th>\n      <td>&lt;MaxCut.MaxCut object at 0x7f60620d2e60&gt;</td>\n      <td>instance                                      ...</td>\n      <td>instance                  &lt;MaxCut.MaxCut objec...</td>\n      <td>instance         NaN\np                NaN\nn   ...</td>\n    </tr>\n    <tr>\n      <th>2</th>\n      <td>&lt;MaxCut.MaxCut object at 0x7f60620d2ec0&gt;</td>\n      <td>instance                                      ...</td>\n      <td>instance                  &lt;MaxCut.MaxCut objec...</td>\n      <td>instance         NaN\np                NaN\nn   ...</td>\n    </tr>\n    <tr>\n      <th>3</th>\n      <td>&lt;MaxCut.MaxCut object at 0x7f60620d27a0&gt;</td>\n      <td>instance                                      ...</td>\n      <td>instance                  &lt;MaxCut.MaxCut objec...</td>\n      <td>instance         NaN\np                NaN\nn   ...</td>\n    </tr>\n    <tr>\n      <th>4</th>\n      <td>&lt;MaxCut.MaxCut object at 0x7f6002b43820&gt;</td>\n      <td>instance                                      ...</td>\n      <td>instance                  &lt;MaxCut.MaxCut objec...</td>\n      <td>instance         NaN\np                NaN\nn   ...</td>\n    </tr>\n    <tr>\n      <th>5</th>\n      <td>&lt;MaxCut.MaxCut object at 0x7f6002b43640&gt;</td>\n      <td>instance                                      ...</td>\n      <td>instance                  &lt;MaxCut.MaxCut objec...</td>\n      <td>instance         NaN\np                NaN\nn   ...</td>\n    </tr>\n    <tr>\n      <th>6</th>\n      <td>&lt;MaxCut.MaxCut object at 0x7f6002b40760&gt;</td>\n      <td>instance                                      ...</td>\n      <td>instance                  &lt;MaxCut.MaxCut objec...</td>\n      <td>instance         NaN\np                NaN\nn   ...</td>\n    </tr>\n    <tr>\n      <th>7</th>\n      <td>&lt;MaxCut.MaxCut object at 0x7f6002b413c0&gt;</td>\n      <td>instance                                      ...</td>\n      <td>instance                  &lt;MaxCut.MaxCut objec...</td>\n      <td>instance         NaN\np                NaN\nn   ...</td>\n    </tr>\n    <tr>\n      <th>8</th>\n      <td>&lt;MaxCut.MaxCut object at 0x7f6002b416c0&gt;</td>\n      <td>instance                                      ...</td>\n      <td>instance                  &lt;MaxCut.MaxCut objec...</td>\n      <td>instance         NaN\np                NaN\nn   ...</td>\n    </tr>\n    <tr>\n      <th>9</th>\n      <td>&lt;MaxCut.MaxCut object at 0x7f6002b43490&gt;</td>\n      <td>instance                                      ...</td>\n      <td>instance                  &lt;MaxCut.MaxCut objec...</td>\n      <td>instance         NaN\np                NaN\nn   ...</td>\n    </tr>\n    <tr>\n      <th rowspan=\"10\" valign=\"top\">3</th>\n      <th>0</th>\n      <td>&lt;MaxCut.MaxCut object at 0x7f60620d2b60&gt;</td>\n      <td>instance                                      ...</td>\n      <td>instance                  &lt;MaxCut.MaxCut objec...</td>\n      <td>instance         NaN\np                NaN\nn   ...</td>\n    </tr>\n    <tr>\n      <th>1</th>\n      <td>&lt;MaxCut.MaxCut object at 0x7f60620d2e60&gt;</td>\n      <td>instance                                      ...</td>\n      <td>instance                  &lt;MaxCut.MaxCut objec...</td>\n      <td>instance         NaN\np                NaN\nn   ...</td>\n    </tr>\n    <tr>\n      <th>2</th>\n      <td>&lt;MaxCut.MaxCut object at 0x7f60620d2ec0&gt;</td>\n      <td>instance                  &lt;MaxCut.MaxCut objec...</td>\n      <td>instance                  &lt;MaxCut.MaxCut objec...</td>\n      <td>instance         NaN\np                NaN\nn   ...</td>\n    </tr>\n    <tr>\n      <th>3</th>\n      <td>&lt;MaxCut.MaxCut object at 0x7f60620d27a0&gt;</td>\n      <td>instance                                      ...</td>\n      <td>instance                  &lt;MaxCut.MaxCut objec...</td>\n      <td>instance         NaN\np                NaN\nn   ...</td>\n    </tr>\n    <tr>\n      <th>4</th>\n      <td>&lt;MaxCut.MaxCut object at 0x7f6002b43820&gt;</td>\n      <td>instance                                      ...</td>\n      <td>instance                  &lt;MaxCut.MaxCut objec...</td>\n      <td>instance         NaN\np                NaN\nn   ...</td>\n    </tr>\n    <tr>\n      <th>5</th>\n      <td>&lt;MaxCut.MaxCut object at 0x7f6002b43640&gt;</td>\n      <td>instance                                      ...</td>\n      <td>instance                  &lt;MaxCut.MaxCut objec...</td>\n      <td>instance         NaN\np                NaN\nn   ...</td>\n    </tr>\n    <tr>\n      <th>6</th>\n      <td>&lt;MaxCut.MaxCut object at 0x7f6002b40760&gt;</td>\n      <td>instance                                      ...</td>\n      <td>instance                  &lt;MaxCut.MaxCut objec...</td>\n      <td>instance         NaN\np                NaN\nn   ...</td>\n    </tr>\n    <tr>\n      <th>7</th>\n      <td>&lt;MaxCut.MaxCut object at 0x7f6002b413c0&gt;</td>\n      <td>instance                                      ...</td>\n      <td>instance                  &lt;MaxCut.MaxCut objec...</td>\n      <td>instance         NaN\np                NaN\nn   ...</td>\n    </tr>\n    <tr>\n      <th>8</th>\n      <td>&lt;MaxCut.MaxCut object at 0x7f6002b416c0&gt;</td>\n      <td>instance                                      ...</td>\n      <td>instance                  &lt;MaxCut.MaxCut objec...</td>\n      <td>instance         NaN\np                NaN\nn   ...</td>\n    </tr>\n    <tr>\n      <th>9</th>\n      <td>&lt;MaxCut.MaxCut object at 0x7f6002b43490&gt;</td>\n      <td>instance                                      ...</td>\n      <td>instance                  &lt;MaxCut.MaxCut objec...</td>\n      <td>instance         NaN\np                NaN\nn   ...</td>\n    </tr>\n    <tr>\n      <th rowspan=\"10\" valign=\"top\">4</th>\n      <th>0</th>\n      <td>&lt;MaxCut.MaxCut object at 0x7f60620d2b60&gt;</td>\n      <td>instance                                      ...</td>\n      <td>instance                  &lt;MaxCut.MaxCut objec...</td>\n      <td>instance         NaN\np                NaN\nn   ...</td>\n    </tr>\n    <tr>\n      <th>1</th>\n      <td>&lt;MaxCut.MaxCut object at 0x7f60620d2e60&gt;</td>\n      <td>instance                                      ...</td>\n      <td>instance                  &lt;MaxCut.MaxCut objec...</td>\n      <td>instance         NaN\np                NaN\nn   ...</td>\n    </tr>\n    <tr>\n      <th>2</th>\n      <td>&lt;MaxCut.MaxCut object at 0x7f60620d2ec0&gt;</td>\n      <td>instance                                      ...</td>\n      <td>instance                  &lt;MaxCut.MaxCut objec...</td>\n      <td>instance         NaN\np                NaN\nn   ...</td>\n    </tr>\n    <tr>\n      <th>3</th>\n      <td>&lt;MaxCut.MaxCut object at 0x7f60620d27a0&gt;</td>\n      <td>instance                                      ...</td>\n      <td>instance                  &lt;MaxCut.MaxCut objec...</td>\n      <td>instance         NaN\np                NaN\nn   ...</td>\n    </tr>\n    <tr>\n      <th>4</th>\n      <td>&lt;MaxCut.MaxCut object at 0x7f6002b43820&gt;</td>\n      <td>instance                                      ...</td>\n      <td>instance                  &lt;MaxCut.MaxCut objec...</td>\n      <td>instance         NaN\np                NaN\nn   ...</td>\n    </tr>\n    <tr>\n      <th>5</th>\n      <td>&lt;MaxCut.MaxCut object at 0x7f6002b43640&gt;</td>\n      <td>instance                                      ...</td>\n      <td>instance                  &lt;MaxCut.MaxCut objec...</td>\n      <td>instance         NaN\np                NaN\nn   ...</td>\n    </tr>\n    <tr>\n      <th>6</th>\n      <td>&lt;MaxCut.MaxCut object at 0x7f6002b40760&gt;</td>\n      <td>instance                                      ...</td>\n      <td>instance                  &lt;MaxCut.MaxCut objec...</td>\n      <td>instance         NaN\np                NaN\nn   ...</td>\n    </tr>\n    <tr>\n      <th>7</th>\n      <td>&lt;MaxCut.MaxCut object at 0x7f6002b413c0&gt;</td>\n      <td>instance                                      ...</td>\n      <td>instance                  &lt;MaxCut.MaxCut objec...</td>\n      <td>instance         NaN\np                NaN\nn   ...</td>\n    </tr>\n    <tr>\n      <th>8</th>\n      <td>&lt;MaxCut.MaxCut object at 0x7f6002b416c0&gt;</td>\n      <td>instance                                      ...</td>\n      <td>instance                  &lt;MaxCut.MaxCut objec...</td>\n      <td>instance         NaN\np                NaN\nn   ...</td>\n    </tr>\n    <tr>\n      <th>9</th>\n      <td>&lt;MaxCut.MaxCut object at 0x7f6002b43490&gt;</td>\n      <td>instance                                      ...</td>\n      <td>instance                  &lt;MaxCut.MaxCut objec...</td>\n      <td>instance         NaN\np                NaN\nn   ...</td>\n    </tr>\n    <tr>\n      <th rowspan=\"10\" valign=\"top\">5</th>\n      <th>0</th>\n      <td>&lt;MaxCut.MaxCut object at 0x7f60620d2b60&gt;</td>\n      <td>instance                                      ...</td>\n      <td>instance                  &lt;MaxCut.MaxCut objec...</td>\n      <td>instance         NaN\np                NaN\nn   ...</td>\n    </tr>\n    <tr>\n      <th>1</th>\n      <td>&lt;MaxCut.MaxCut object at 0x7f60620d2e60&gt;</td>\n      <td>instance                                      ...</td>\n      <td>instance                  &lt;MaxCut.MaxCut objec...</td>\n      <td>instance         NaN\np                NaN\nn   ...</td>\n    </tr>\n    <tr>\n      <th>2</th>\n      <td>&lt;MaxCut.MaxCut object at 0x7f60620d2ec0&gt;</td>\n      <td>instance                                      ...</td>\n      <td>instance                  &lt;MaxCut.MaxCut objec...</td>\n      <td>instance         NaN\np                NaN\nn   ...</td>\n    </tr>\n    <tr>\n      <th>3</th>\n      <td>&lt;MaxCut.MaxCut object at 0x7f60620d27a0&gt;</td>\n      <td>instance                                      ...</td>\n      <td>instance                  &lt;MaxCut.MaxCut objec...</td>\n      <td>instance         NaN\np                NaN\nn   ...</td>\n    </tr>\n    <tr>\n      <th>4</th>\n      <td>&lt;MaxCut.MaxCut object at 0x7f6002b43820&gt;</td>\n      <td>instance                                      ...</td>\n      <td>instance                  &lt;MaxCut.MaxCut objec...</td>\n      <td>instance         NaN\np                NaN\nn   ...</td>\n    </tr>\n    <tr>\n      <th>5</th>\n      <td>&lt;MaxCut.MaxCut object at 0x7f6002b43640&gt;</td>\n      <td>instance                                      ...</td>\n      <td>instance                  &lt;MaxCut.MaxCut objec...</td>\n      <td>instance         NaN\np                NaN\nn   ...</td>\n    </tr>\n    <tr>\n      <th>6</th>\n      <td>&lt;MaxCut.MaxCut object at 0x7f6002b40760&gt;</td>\n      <td>instance                                      ...</td>\n      <td>instance                  &lt;MaxCut.MaxCut objec...</td>\n      <td>instance         NaN\np                NaN\nn   ...</td>\n    </tr>\n    <tr>\n      <th>7</th>\n      <td>&lt;MaxCut.MaxCut object at 0x7f6002b413c0&gt;</td>\n      <td>instance                                      ...</td>\n      <td>instance                  &lt;MaxCut.MaxCut objec...</td>\n      <td>instance         NaN\np                NaN\nn   ...</td>\n    </tr>\n    <tr>\n      <th>8</th>\n      <td>&lt;MaxCut.MaxCut object at 0x7f6002b416c0&gt;</td>\n      <td>instance                                      ...</td>\n      <td>instance                  &lt;MaxCut.MaxCut objec...</td>\n      <td>instance         NaN\np                NaN\nn   ...</td>\n    </tr>\n    <tr>\n      <th>9</th>\n      <td>&lt;MaxCut.MaxCut object at 0x7f6002b43490&gt;</td>\n      <td>instance                                      ...</td>\n      <td>instance                  &lt;MaxCut.MaxCut objec...</td>\n      <td>instance         NaN\np                NaN\nn   ...</td>\n    </tr>\n  </tbody>\n</table>\n</div>"
     },
     "execution_count": 28,
     "metadata": {},
     "output_type": "execute_result"
    }
   ],
   "source": [
    "df = compute_measures_apply(df)\n",
    "df"
   ],
   "metadata": {
    "collapsed": false
   }
  },
  {
   "cell_type": "markdown",
   "source": [
    "# Compute the statistics"
   ],
   "metadata": {
    "collapsed": false
   }
  },
  {
   "cell_type": "code",
   "execution_count": 49,
   "outputs": [
    {
     "data": {
      "text/plain": "                   expected approximation ratio                 \\\n                                           mean stdv  min  max   \ntdvp             1                          NaN  NaN  NaN  NaN   \n                 2                          NaN  NaN  NaN  NaN   \n                 3                          NaN  NaN  NaN  NaN   \n                 4                          NaN  NaN  NaN  NaN   \n                 5                          NaN  NaN  NaN  NaN   \nscipy            1                          NaN  NaN  NaN  NaN   \n                 2                          NaN  NaN  NaN  NaN   \n                 3                          NaN  NaN  NaN  NaN   \n                 4                          NaN  NaN  NaN  NaN   \n                 5                          NaN  NaN  NaN  NaN   \ngradient_descent 1                          NaN  NaN  NaN  NaN   \n                 2                          NaN  NaN  NaN  NaN   \n                 3                          NaN  NaN  NaN  NaN   \n                 4                          NaN  NaN  NaN  NaN   \n                 5                          NaN  NaN  NaN  NaN   \n\n                   groundspace overlap                groundspace sharpness  \\\n                                  mean stdv  min  max                  mean   \ntdvp             1                 NaN  NaN  NaN  NaN                   NaN   \n                 2                 NaN  NaN  NaN  NaN                   NaN   \n                 3                 NaN  NaN  NaN  NaN                   NaN   \n                 4                 NaN  NaN  NaN  NaN                   NaN   \n                 5                 NaN  NaN  NaN  NaN                   NaN   \nscipy            1                 NaN  NaN  NaN  NaN                   NaN   \n                 2                 NaN  NaN  NaN  NaN                   NaN   \n                 3                 NaN  NaN  NaN  NaN                   NaN   \n                 4                 NaN  NaN  NaN  NaN                   NaN   \n                 5                 NaN  NaN  NaN  NaN                   NaN   \ngradient_descent 1                 NaN  NaN  NaN  NaN                   NaN   \n                 2                 NaN  NaN  NaN  NaN                   NaN   \n                 3                 NaN  NaN  NaN  NaN                   NaN   \n                 4                 NaN  NaN  NaN  NaN                   NaN   \n                 5                 NaN  NaN  NaN  NaN                   NaN   \n\n                         ... Approximation ratio      circuit count            \\\n                   stdv  ...                 min  max          mean stdv  min   \ntdvp             1  NaN  ...                 NaN  NaN           NaN  NaN  NaN   \n                 2  NaN  ...                 NaN  NaN           NaN  NaN  NaN   \n                 3  NaN  ...                 NaN  NaN           NaN  NaN  NaN   \n                 4  NaN  ...                 NaN  NaN           NaN  NaN  NaN   \n                 5  NaN  ...                 NaN  NaN           NaN  NaN  NaN   \nscipy            1  NaN  ...                 NaN  NaN           NaN  NaN  NaN   \n                 2  NaN  ...                 NaN  NaN           NaN  NaN  NaN   \n                 3  NaN  ...                 NaN  NaN           NaN  NaN  NaN   \n                 4  NaN  ...                 NaN  NaN           NaN  NaN  NaN   \n                 5  NaN  ...                 NaN  NaN           NaN  NaN  NaN   \ngradient_descent 1  NaN  ...                 NaN  NaN           NaN  NaN  NaN   \n                 2  NaN  ...                 NaN  NaN           NaN  NaN  NaN   \n                 3  NaN  ...                 NaN  NaN           NaN  NaN  NaN   \n                 4  NaN  ...                 NaN  NaN           NaN  NaN  NaN   \n                 5  NaN  ...                 NaN  NaN           NaN  NaN  NaN   \n\n                        gate count                 \n                    max       mean stdv  min  max  \ntdvp             1  NaN        NaN  NaN  NaN  NaN  \n                 2  NaN        NaN  NaN  NaN  NaN  \n                 3  NaN        NaN  NaN  NaN  NaN  \n                 4  NaN        NaN  NaN  NaN  NaN  \n                 5  NaN        NaN  NaN  NaN  NaN  \nscipy            1  NaN        NaN  NaN  NaN  NaN  \n                 2  NaN        NaN  NaN  NaN  NaN  \n                 3  NaN        NaN  NaN  NaN  NaN  \n                 4  NaN        NaN  NaN  NaN  NaN  \n                 5  NaN        NaN  NaN  NaN  NaN  \ngradient_descent 1  NaN        NaN  NaN  NaN  NaN  \n                 2  NaN        NaN  NaN  NaN  NaN  \n                 3  NaN        NaN  NaN  NaN  NaN  \n                 4  NaN        NaN  NaN  NaN  NaN  \n                 5  NaN        NaN  NaN  NaN  NaN  \n\n[15 rows x 24 columns]",
      "text/html": "<div>\n<style scoped>\n    .dataframe tbody tr th:only-of-type {\n        vertical-align: middle;\n    }\n\n    .dataframe tbody tr th {\n        vertical-align: top;\n    }\n\n    .dataframe thead tr th {\n        text-align: left;\n    }\n</style>\n<table border=\"1\" class=\"dataframe\">\n  <thead>\n    <tr>\n      <th></th>\n      <th></th>\n      <th colspan=\"4\" halign=\"left\">expected approximation ratio</th>\n      <th colspan=\"4\" halign=\"left\">groundspace overlap</th>\n      <th colspan=\"2\" halign=\"left\">groundspace sharpness</th>\n      <th>...</th>\n      <th colspan=\"2\" halign=\"left\">Approximation ratio</th>\n      <th colspan=\"4\" halign=\"left\">circuit count</th>\n      <th colspan=\"4\" halign=\"left\">gate count</th>\n    </tr>\n    <tr>\n      <th></th>\n      <th></th>\n      <th>mean</th>\n      <th>stdv</th>\n      <th>min</th>\n      <th>max</th>\n      <th>mean</th>\n      <th>stdv</th>\n      <th>min</th>\n      <th>max</th>\n      <th>mean</th>\n      <th>stdv</th>\n      <th>...</th>\n      <th>min</th>\n      <th>max</th>\n      <th>mean</th>\n      <th>stdv</th>\n      <th>min</th>\n      <th>max</th>\n      <th>mean</th>\n      <th>stdv</th>\n      <th>min</th>\n      <th>max</th>\n    </tr>\n  </thead>\n  <tbody>\n    <tr>\n      <th rowspan=\"5\" valign=\"top\">tdvp</th>\n      <th>1</th>\n      <td>NaN</td>\n      <td>NaN</td>\n      <td>NaN</td>\n      <td>NaN</td>\n      <td>NaN</td>\n      <td>NaN</td>\n      <td>NaN</td>\n      <td>NaN</td>\n      <td>NaN</td>\n      <td>NaN</td>\n      <td>...</td>\n      <td>NaN</td>\n      <td>NaN</td>\n      <td>NaN</td>\n      <td>NaN</td>\n      <td>NaN</td>\n      <td>NaN</td>\n      <td>NaN</td>\n      <td>NaN</td>\n      <td>NaN</td>\n      <td>NaN</td>\n    </tr>\n    <tr>\n      <th>2</th>\n      <td>NaN</td>\n      <td>NaN</td>\n      <td>NaN</td>\n      <td>NaN</td>\n      <td>NaN</td>\n      <td>NaN</td>\n      <td>NaN</td>\n      <td>NaN</td>\n      <td>NaN</td>\n      <td>NaN</td>\n      <td>...</td>\n      <td>NaN</td>\n      <td>NaN</td>\n      <td>NaN</td>\n      <td>NaN</td>\n      <td>NaN</td>\n      <td>NaN</td>\n      <td>NaN</td>\n      <td>NaN</td>\n      <td>NaN</td>\n      <td>NaN</td>\n    </tr>\n    <tr>\n      <th>3</th>\n      <td>NaN</td>\n      <td>NaN</td>\n      <td>NaN</td>\n      <td>NaN</td>\n      <td>NaN</td>\n      <td>NaN</td>\n      <td>NaN</td>\n      <td>NaN</td>\n      <td>NaN</td>\n      <td>NaN</td>\n      <td>...</td>\n      <td>NaN</td>\n      <td>NaN</td>\n      <td>NaN</td>\n      <td>NaN</td>\n      <td>NaN</td>\n      <td>NaN</td>\n      <td>NaN</td>\n      <td>NaN</td>\n      <td>NaN</td>\n      <td>NaN</td>\n    </tr>\n    <tr>\n      <th>4</th>\n      <td>NaN</td>\n      <td>NaN</td>\n      <td>NaN</td>\n      <td>NaN</td>\n      <td>NaN</td>\n      <td>NaN</td>\n      <td>NaN</td>\n      <td>NaN</td>\n      <td>NaN</td>\n      <td>NaN</td>\n      <td>...</td>\n      <td>NaN</td>\n      <td>NaN</td>\n      <td>NaN</td>\n      <td>NaN</td>\n      <td>NaN</td>\n      <td>NaN</td>\n      <td>NaN</td>\n      <td>NaN</td>\n      <td>NaN</td>\n      <td>NaN</td>\n    </tr>\n    <tr>\n      <th>5</th>\n      <td>NaN</td>\n      <td>NaN</td>\n      <td>NaN</td>\n      <td>NaN</td>\n      <td>NaN</td>\n      <td>NaN</td>\n      <td>NaN</td>\n      <td>NaN</td>\n      <td>NaN</td>\n      <td>NaN</td>\n      <td>...</td>\n      <td>NaN</td>\n      <td>NaN</td>\n      <td>NaN</td>\n      <td>NaN</td>\n      <td>NaN</td>\n      <td>NaN</td>\n      <td>NaN</td>\n      <td>NaN</td>\n      <td>NaN</td>\n      <td>NaN</td>\n    </tr>\n    <tr>\n      <th rowspan=\"5\" valign=\"top\">scipy</th>\n      <th>1</th>\n      <td>NaN</td>\n      <td>NaN</td>\n      <td>NaN</td>\n      <td>NaN</td>\n      <td>NaN</td>\n      <td>NaN</td>\n      <td>NaN</td>\n      <td>NaN</td>\n      <td>NaN</td>\n      <td>NaN</td>\n      <td>...</td>\n      <td>NaN</td>\n      <td>NaN</td>\n      <td>NaN</td>\n      <td>NaN</td>\n      <td>NaN</td>\n      <td>NaN</td>\n      <td>NaN</td>\n      <td>NaN</td>\n      <td>NaN</td>\n      <td>NaN</td>\n    </tr>\n    <tr>\n      <th>2</th>\n      <td>NaN</td>\n      <td>NaN</td>\n      <td>NaN</td>\n      <td>NaN</td>\n      <td>NaN</td>\n      <td>NaN</td>\n      <td>NaN</td>\n      <td>NaN</td>\n      <td>NaN</td>\n      <td>NaN</td>\n      <td>...</td>\n      <td>NaN</td>\n      <td>NaN</td>\n      <td>NaN</td>\n      <td>NaN</td>\n      <td>NaN</td>\n      <td>NaN</td>\n      <td>NaN</td>\n      <td>NaN</td>\n      <td>NaN</td>\n      <td>NaN</td>\n    </tr>\n    <tr>\n      <th>3</th>\n      <td>NaN</td>\n      <td>NaN</td>\n      <td>NaN</td>\n      <td>NaN</td>\n      <td>NaN</td>\n      <td>NaN</td>\n      <td>NaN</td>\n      <td>NaN</td>\n      <td>NaN</td>\n      <td>NaN</td>\n      <td>...</td>\n      <td>NaN</td>\n      <td>NaN</td>\n      <td>NaN</td>\n      <td>NaN</td>\n      <td>NaN</td>\n      <td>NaN</td>\n      <td>NaN</td>\n      <td>NaN</td>\n      <td>NaN</td>\n      <td>NaN</td>\n    </tr>\n    <tr>\n      <th>4</th>\n      <td>NaN</td>\n      <td>NaN</td>\n      <td>NaN</td>\n      <td>NaN</td>\n      <td>NaN</td>\n      <td>NaN</td>\n      <td>NaN</td>\n      <td>NaN</td>\n      <td>NaN</td>\n      <td>NaN</td>\n      <td>...</td>\n      <td>NaN</td>\n      <td>NaN</td>\n      <td>NaN</td>\n      <td>NaN</td>\n      <td>NaN</td>\n      <td>NaN</td>\n      <td>NaN</td>\n      <td>NaN</td>\n      <td>NaN</td>\n      <td>NaN</td>\n    </tr>\n    <tr>\n      <th>5</th>\n      <td>NaN</td>\n      <td>NaN</td>\n      <td>NaN</td>\n      <td>NaN</td>\n      <td>NaN</td>\n      <td>NaN</td>\n      <td>NaN</td>\n      <td>NaN</td>\n      <td>NaN</td>\n      <td>NaN</td>\n      <td>...</td>\n      <td>NaN</td>\n      <td>NaN</td>\n      <td>NaN</td>\n      <td>NaN</td>\n      <td>NaN</td>\n      <td>NaN</td>\n      <td>NaN</td>\n      <td>NaN</td>\n      <td>NaN</td>\n      <td>NaN</td>\n    </tr>\n    <tr>\n      <th rowspan=\"5\" valign=\"top\">gradient_descent</th>\n      <th>1</th>\n      <td>NaN</td>\n      <td>NaN</td>\n      <td>NaN</td>\n      <td>NaN</td>\n      <td>NaN</td>\n      <td>NaN</td>\n      <td>NaN</td>\n      <td>NaN</td>\n      <td>NaN</td>\n      <td>NaN</td>\n      <td>...</td>\n      <td>NaN</td>\n      <td>NaN</td>\n      <td>NaN</td>\n      <td>NaN</td>\n      <td>NaN</td>\n      <td>NaN</td>\n      <td>NaN</td>\n      <td>NaN</td>\n      <td>NaN</td>\n      <td>NaN</td>\n    </tr>\n    <tr>\n      <th>2</th>\n      <td>NaN</td>\n      <td>NaN</td>\n      <td>NaN</td>\n      <td>NaN</td>\n      <td>NaN</td>\n      <td>NaN</td>\n      <td>NaN</td>\n      <td>NaN</td>\n      <td>NaN</td>\n      <td>NaN</td>\n      <td>...</td>\n      <td>NaN</td>\n      <td>NaN</td>\n      <td>NaN</td>\n      <td>NaN</td>\n      <td>NaN</td>\n      <td>NaN</td>\n      <td>NaN</td>\n      <td>NaN</td>\n      <td>NaN</td>\n      <td>NaN</td>\n    </tr>\n    <tr>\n      <th>3</th>\n      <td>NaN</td>\n      <td>NaN</td>\n      <td>NaN</td>\n      <td>NaN</td>\n      <td>NaN</td>\n      <td>NaN</td>\n      <td>NaN</td>\n      <td>NaN</td>\n      <td>NaN</td>\n      <td>NaN</td>\n      <td>...</td>\n      <td>NaN</td>\n      <td>NaN</td>\n      <td>NaN</td>\n      <td>NaN</td>\n      <td>NaN</td>\n      <td>NaN</td>\n      <td>NaN</td>\n      <td>NaN</td>\n      <td>NaN</td>\n      <td>NaN</td>\n    </tr>\n    <tr>\n      <th>4</th>\n      <td>NaN</td>\n      <td>NaN</td>\n      <td>NaN</td>\n      <td>NaN</td>\n      <td>NaN</td>\n      <td>NaN</td>\n      <td>NaN</td>\n      <td>NaN</td>\n      <td>NaN</td>\n      <td>NaN</td>\n      <td>...</td>\n      <td>NaN</td>\n      <td>NaN</td>\n      <td>NaN</td>\n      <td>NaN</td>\n      <td>NaN</td>\n      <td>NaN</td>\n      <td>NaN</td>\n      <td>NaN</td>\n      <td>NaN</td>\n      <td>NaN</td>\n    </tr>\n    <tr>\n      <th>5</th>\n      <td>NaN</td>\n      <td>NaN</td>\n      <td>NaN</td>\n      <td>NaN</td>\n      <td>NaN</td>\n      <td>NaN</td>\n      <td>NaN</td>\n      <td>NaN</td>\n      <td>NaN</td>\n      <td>NaN</td>\n      <td>...</td>\n      <td>NaN</td>\n      <td>NaN</td>\n      <td>NaN</td>\n      <td>NaN</td>\n      <td>NaN</td>\n      <td>NaN</td>\n      <td>NaN</td>\n      <td>NaN</td>\n      <td>NaN</td>\n      <td>NaN</td>\n    </tr>\n  </tbody>\n</table>\n<p>15 rows × 24 columns</p>\n</div>"
     },
     "execution_count": 49,
     "metadata": {},
     "output_type": "execute_result"
    }
   ],
   "source": [
    "min_p = min(df.index, key= lambda x: x[0])[0]\n",
    "max_p = max(df.index, key= lambda x: x[0])[0]\n",
    "\n",
    "algs = ['tdvp', 'scipy', 'gradient_descent']\n",
    "index = pd.MultiIndex.from_product([algs,range(min_p, max_p+1)])\n",
    "\n",
    "measures = ['expected approximation ratio', 'groundspace overlap', 'groundspace sharpness', 'Approximation ratio', 'circuit count', 'gate count']\n",
    "types = ['mean', 'stdv','min','max', ]\n",
    "measure_index=pd.MultiIndex.from_product([measures, types])\n",
    "\n",
    "stat = pd.DataFrame(index=index, columns=measure_index);stat"
   ],
   "metadata": {
    "collapsed": false
   }
  },
  {
   "cell_type": "code",
   "execution_count": null,
   "outputs": [],
   "source": [
    "def compute_statistics(stat_row:pd.Series, data:pd.DataFrame):\n",
    "    for meas, typ in stat_row.index:\n",
    "        # COMPUTE MEAN, STDV, ... AND ASSIGN TO CORRECT COLUMN IN STAT_ROW, LOOP THROUGH ALL STATISTICS"
   ],
   "metadata": {
    "collapsed": false
   }
  },
  {
   "cell_type": "markdown",
   "source": [
    "## Save the processed data"
   ],
   "metadata": {
    "collapsed": false
   }
  },
  {
   "cell_type": "code",
   "execution_count": 26,
   "outputs": [],
   "source": [
    "if False:\n",
    "    # noinspection PyUnreachableCode\n",
    "    with open('.//results//n5_data.p', 'wb') as file:\n",
    "        pickle.dump(df, file)"
   ],
   "metadata": {
    "collapsed": false
   }
  },
  {
   "cell_type": "markdown",
   "source": [
    "# OLD"
   ],
   "metadata": {
    "collapsed": false
   }
  },
  {
   "cell_type": "code",
   "execution_count": null,
   "metadata": {
    "collapsed": false
   },
   "outputs": [],
   "source": [
    "# # df['groundspace'] = df.swifter.apply(lambda row: groundspace(row.qaoa), axis=1)\n",
    "# # df.insert(3,'groundspace_overlap', df.swifter.apply(lambda row: groundspace_overlap(row['groundspace'], row['final_state']), axis=1))\n",
    "# # df.insert(4, 'groundspace_sharpness', df.swifter.apply(lambda row: groundspace_sharpness(row['groundspace'], row['final_state']), axis=1))\n",
    "# df['steps']\n",
    "# df['circuit_count']= df.swifter.apply(lambda row: circuit_count(row['steps'], row['algorithm'], row['p'], row['n']), axis=1)\n",
    "# df['gate_count'] =df.swifter.apply(lambda row: gate_count(row['steps'], row['algorithm'], row['p'], row['n'],\n",
    "#                                                           row['qaoa']), axis=1)\n",
    "# df['answer'] = df.swifter.apply(lambda row: answer(row['final_state']), axis=1)\n",
    "# df['bin_answer'] = df.swifter.apply(lambda row: bin_answer(row['final_state']), axis=1)\n",
    "# df.insert(3, 'best_cost_value', df.swifter.apply(lambda row: best_cost_value(row['qaoa']), axis=1))\n",
    "# df.insert(3, 'approximation_ratio', df.swifter.apply(lambda row: approximation_ratio(row['bin_answer'],row['best_cost_value'],row['qaoa']), axis=1))\n",
    "# df.insert(3, 'expectation_of_approximation_ratio', df.swifter.apply(lambda row: expectation_of_approximation_ratio(row['final_state'],row['best_cost_value'],row['qaoa']), axis=1))\n",
    "# with open('..//benchmarks//n10_data.p', 'wb') as file:\n",
    "#     pickle.dump(df,file)"
   ]
  }
 ],
 "metadata": {
  "kernelspec": {
   "display_name": "Python 3.10.6 ('qutip-env')",
   "language": "python",
   "name": "python3"
  },
  "language_info": {
   "codemirror_mode": {
    "name": "ipython",
    "version": 3
   },
   "file_extension": ".py",
   "mimetype": "text/x-python",
   "name": "python",
   "nbconvert_exporter": "python",
   "pygments_lexer": "ipython3",
   "version": "3.10.6"
  },
  "orig_nbformat": 4,
  "vscode": {
   "interpreter": {
    "hash": "fe45c953e7d91ced0867b19789acd0ab1d9439aa0b1f4fae31fd46e88f74aeab"
   }
  }
 },
 "nbformat": 4,
 "nbformat_minor": 2
}
