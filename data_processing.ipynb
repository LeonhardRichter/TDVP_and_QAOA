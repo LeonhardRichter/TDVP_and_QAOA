{
 "cells": [
  {
   "cell_type": "code",
   "execution_count": 3,
   "metadata": {
    "pycharm": {
     "name": "#%%\n"
    }
   },
   "outputs": [],
   "source": [
    "import math \n",
    "import numpy as np\n",
    "import pandas as pd\n",
    "import plotly.express as px\n",
    "import plotly.graph_objects as go\n",
    "import random as rng\n",
    "import networkx as nx\n",
    "import matplotlib.pyplot as plt\n",
    "import pickle\n",
    "from typing import Union, List, Any\n",
    "from qaoa_and_tdvp import QAOA, tdvp_optimize_qaoa, scipy_optimize, QAOAResult, Qobj\n",
    "from MaxCut import MaxCut\n",
    "from itertools import *\n",
    "\n",
    "from qutip import tensor, basis, Qobj\n",
    "from qutip.qip.operations import expand_operator, rz\n",
    "\n",
    "from benchmark import (\n",
    "    get_all_connected,\n",
    "    get_connected_rn_graph,\n",
    "    get_rn_qubo,\n",
    "    select_if_connected,\n",
    "    Benchmark,\n",
    ")\n",
    "from qutip.parallel import parallel_map, serial_map"
   ]
  },
  {
   "cell_type": "markdown",
   "source": [
    "# convert data into DataFrame"
   ],
   "metadata": {
    "collapsed": false,
    "pycharm": {
     "name": "#%% md\n"
    }
   }
  },
  {
   "cell_type": "code",
   "execution_count": 32,
   "outputs": [],
   "source": [
    "with open(\"..//benchmarks//RK45_n10_p-1-5_Delta-1.p\",\"rb\") as file:\n",
    "    data: Benchmark = pickle.load(file)\n",
    "\n",
    "scipy_results = list()\n",
    "for d in data.results:\n",
    "    items = d.get(\"tdvp\").__dict__.items()\n",
    "    for k,v in items:\n",
    "        d[k]=v\n",
    "        d[\"algorithm\"] = \"tdvp\"\n",
    "    d[\"n\"] = d[\"_qaoa\"].n\n",
    "    dd = d.copy()\n",
    "    items = dd.get(\"scipy\").__dict__.items()\n",
    "    for k,v in items:\n",
    "        dd[k]=v\n",
    "        dd[\"algorithm\"] = \"scipy\"\n",
    "    dd[\"n\"] = dd[\"_qaoa\"].n\n",
    "    scipy_results.append(dd)\n",
    "\n",
    "data.results.extend(scipy_results)\n",
    "\n",
    "df = pd.DataFrame(data.results)\n",
    "df.pop(\"tdvp\")\n",
    "df.pop(\"scipy\")\n",
    "cols = df.columns.tolist()\n",
    "cols = cols[-1:] + cols[:-1]\n",
    "df = df[cols]\n",
    "\n",
    "df.insert(2,\"algorithm\",df.pop(\"algorithm\"))\n",
    "df.insert(3,\"_optimal_fun_value\",df.pop(\"_optimal_fun_value\"))\n",
    "df.insert(4,\"_num_fun_calls\",df.pop(\"_num_fun_calls\"))\n",
    "df.insert(5,\"_num_steps\",df.pop(\"_num_steps\"))\n",
    "df.insert(6,\"_prob\",df.pop(\"_prob\"))\n",
    "\n",
    "df_tdvp = df[df.algorithm.eq(\"tdvp\")]\n",
    "df_scipy = df[df.algorithm.eq(\"scipy\")]"
   ],
   "metadata": {
    "collapsed": false,
    "pycharm": {
     "name": "#%%\n"
    }
   }
  },
  {
   "cell_type": "code",
   "execution_count": 43,
   "outputs": [],
   "source": [
    "df[\"silly_function\"] = df._optimal_fun_value/10"
   ],
   "metadata": {
    "collapsed": false,
    "pycharm": {
     "name": "#%%\n"
    }
   }
  },
  {
   "cell_type": "code",
   "execution_count": 48,
   "outputs": [
    {
     "data": {
      "text/plain": "     silly_function  _optimal_fun_value\n0         -0.648205           -6.482053\n1         -0.552241           -5.522408\n2         -0.976187           -9.761868\n3         -0.917097           -9.170969\n4         -0.466481           -4.664811\n..              ...                 ...\n995       -2.790327          -27.903268\n996       -0.459035           -4.590350\n997       -0.634758           -6.347583\n998       -1.249807          -12.498074\n999       -0.969900           -9.698995\n\n[1000 rows x 2 columns]",
      "text/html": "<div>\n<style scoped>\n    .dataframe tbody tr th:only-of-type {\n        vertical-align: middle;\n    }\n\n    .dataframe tbody tr th {\n        vertical-align: top;\n    }\n\n    .dataframe thead th {\n        text-align: right;\n    }\n</style>\n<table border=\"1\" class=\"dataframe\">\n  <thead>\n    <tr style=\"text-align: right;\">\n      <th></th>\n      <th>silly_function</th>\n      <th>_optimal_fun_value</th>\n    </tr>\n  </thead>\n  <tbody>\n    <tr>\n      <th>0</th>\n      <td>-0.648205</td>\n      <td>-6.482053</td>\n    </tr>\n    <tr>\n      <th>1</th>\n      <td>-0.552241</td>\n      <td>-5.522408</td>\n    </tr>\n    <tr>\n      <th>2</th>\n      <td>-0.976187</td>\n      <td>-9.761868</td>\n    </tr>\n    <tr>\n      <th>3</th>\n      <td>-0.917097</td>\n      <td>-9.170969</td>\n    </tr>\n    <tr>\n      <th>4</th>\n      <td>-0.466481</td>\n      <td>-4.664811</td>\n    </tr>\n    <tr>\n      <th>...</th>\n      <td>...</td>\n      <td>...</td>\n    </tr>\n    <tr>\n      <th>995</th>\n      <td>-2.790327</td>\n      <td>-27.903268</td>\n    </tr>\n    <tr>\n      <th>996</th>\n      <td>-0.459035</td>\n      <td>-4.590350</td>\n    </tr>\n    <tr>\n      <th>997</th>\n      <td>-0.634758</td>\n      <td>-6.347583</td>\n    </tr>\n    <tr>\n      <th>998</th>\n      <td>-1.249807</td>\n      <td>-12.498074</td>\n    </tr>\n    <tr>\n      <th>999</th>\n      <td>-0.969900</td>\n      <td>-9.698995</td>\n    </tr>\n  </tbody>\n</table>\n<p>1000 rows × 2 columns</p>\n</div>"
     },
     "execution_count": 48,
     "metadata": {},
     "output_type": "execute_result"
    }
   ],
   "source": [
    "df.filter(items=[\"silly_function\", \"_optimal_fun_value\"])"
   ],
   "metadata": {
    "collapsed": false,
    "pycharm": {
     "name": "#%%\n"
    }
   }
  },
  {
   "cell_type": "code",
   "execution_count": null,
   "outputs": [],
   "source": [],
   "metadata": {
    "collapsed": false,
    "pycharm": {
     "name": "#%%\n"
    }
   }
  }
 ],
 "metadata": {
  "kernelspec": {
   "display_name": "Python 3.10.6 ('qutip-env')",
   "language": "python",
   "name": "python3"
  },
  "language_info": {
   "codemirror_mode": {
    "name": "ipython",
    "version": 3
   },
   "file_extension": ".py",
   "mimetype": "text/x-python",
   "name": "python",
   "nbconvert_exporter": "python",
   "pygments_lexer": "ipython3",
   "version": "3.10.6"
  },
  "orig_nbformat": 4,
  "vscode": {
   "interpreter": {
    "hash": "fe45c953e7d91ced0867b19789acd0ab1d9439aa0b1f4fae31fd46e88f74aeab"
   }
  }
 },
 "nbformat": 4,
 "nbformat_minor": 2
}