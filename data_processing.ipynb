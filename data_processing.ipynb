{
 "cells": [
  {
   "cell_type": "code",
   "execution_count": 7,
   "metadata": {},
   "outputs": [],
   "source": [
    "import math\n",
    "import numpy as np\n",
    "from numpy.typing import NDArray\n",
    "import pandas as pd\n",
    "import swifter\n",
    "import pickle\n",
    "from typing import Union, List, Any, Tuple\n",
    "from qaoa_and_tdvp import QAOA, tdvp_optimize_qaoa, scipy_optimize, QAOAResult, Qobj\n",
    "from MaxCut import MaxCut\n",
    "from qutip import tensor, basis, Qobj, expect, variance\n",
    "\n",
    "from benchmark import (\n",
    "    get_all_connected,\n",
    "    get_connected_rn_graph,\n",
    "    get_rn_qubo,\n",
    "    select_if_connected,\n",
    "    Benchmark,\n",
    "load_instances,\n",
    ")\n",
    "swifter;MaxCut;get_all_connected; get_connected_rn_graph; get_rn_qubo; select_if_connected; Benchmark; # noinspection PyStatementEffect"
   ]
  },
  {
   "cell_type": "markdown",
   "metadata": {
    "collapsed": false
   },
   "source": [
    "# convert data into DataFrame"
   ]
  },
  {
   "cell_type": "code",
   "execution_count": 8,
   "outputs": [
    {
     "data": {
      "text/plain": "                                     instance  \\\np i                                             \n1 0  <MaxCut.MaxCut object at 0x7fc874219210>   \n  1  <MaxCut.MaxCut object at 0x7fc8742182e0>   \n  2  <MaxCut.MaxCut object at 0x7fc874219ea0>   \n  3  <MaxCut.MaxCut object at 0x7fc874219cf0>   \n  4  <MaxCut.MaxCut object at 0x7fc874219ba0>   \n  5  <MaxCut.MaxCut object at 0x7fc874219b10>   \n2 0  <MaxCut.MaxCut object at 0x7fc874219210>   \n  1  <MaxCut.MaxCut object at 0x7fc8742182e0>   \n  2  <MaxCut.MaxCut object at 0x7fc874219ea0>   \n  3  <MaxCut.MaxCut object at 0x7fc874219cf0>   \n  4  <MaxCut.MaxCut object at 0x7fc874219ba0>   \n  5  <MaxCut.MaxCut object at 0x7fc874219b10>   \n3 0  <MaxCut.MaxCut object at 0x7fc874219210>   \n  1  <MaxCut.MaxCut object at 0x7fc8742182e0>   \n  2  <MaxCut.MaxCut object at 0x7fc874219ea0>   \n  3  <MaxCut.MaxCut object at 0x7fc874219cf0>   \n  4  <MaxCut.MaxCut object at 0x7fc874219ba0>   \n  5  <MaxCut.MaxCut object at 0x7fc874219b10>   \n4 0  <MaxCut.MaxCut object at 0x7fc874219210>   \n  1  <MaxCut.MaxCut object at 0x7fc8742182e0>   \n  2  <MaxCut.MaxCut object at 0x7fc874219ea0>   \n  3  <MaxCut.MaxCut object at 0x7fc874219cf0>   \n  4  <MaxCut.MaxCut object at 0x7fc874219ba0>   \n  5  <MaxCut.MaxCut object at 0x7fc874219b10>   \n5 0  <MaxCut.MaxCut object at 0x7fc874219210>   \n  1  <MaxCut.MaxCut object at 0x7fc8742182e0>   \n  2  <MaxCut.MaxCut object at 0x7fc874219ea0>   \n  3  <MaxCut.MaxCut object at 0x7fc874219cf0>   \n  4  <MaxCut.MaxCut object at 0x7fc874219ba0>   \n  5  <MaxCut.MaxCut object at 0x7fc874219b10>   \n\n                                                  tdvp  \\\np i                                                      \n1 0  instance                  <MaxCut.MaxCut objec...   \n  1  instance                  <MaxCut.MaxCut objec...   \n  2  instance                  <MaxCut.MaxCut objec...   \n  3  instance                  <MaxCut.MaxCut objec...   \n  4  instance                  <MaxCut.MaxCut objec...   \n  5  instance                  <MaxCut.MaxCut objec...   \n2 0  instance                  <MaxCut.MaxCut objec...   \n  1  instance                  <MaxCut.MaxCut objec...   \n  2  instance                  <MaxCut.MaxCut objec...   \n  3  instance                  <MaxCut.MaxCut objec...   \n  4  instance                  <MaxCut.MaxCut objec...   \n  5  instance                  <MaxCut.MaxCut objec...   \n3 0  instance                  <MaxCut.MaxCut objec...   \n  1  instance                  <MaxCut.MaxCut objec...   \n  2  instance                  <MaxCut.MaxCut objec...   \n  3  instance                  <MaxCut.MaxCut objec...   \n  4  instance                  <MaxCut.MaxCut objec...   \n  5  instance                  <MaxCut.MaxCut objec...   \n4 0  instance                  <MaxCut.MaxCut objec...   \n  1  instance                  <MaxCut.MaxCut objec...   \n  2  instance                  <MaxCut.MaxCut objec...   \n  3  instance                  <MaxCut.MaxCut objec...   \n  4  instance                  <MaxCut.MaxCut objec...   \n  5  instance                  <MaxCut.MaxCut objec...   \n5 0  instance                  <MaxCut.MaxCut objec...   \n  1  instance                  <MaxCut.MaxCut objec...   \n  2  instance                  <MaxCut.MaxCut objec...   \n  3  instance                  <MaxCut.MaxCut objec...   \n  4  instance                  <MaxCut.MaxCut objec...   \n  5  instance                  <MaxCut.MaxCut objec...   \n\n                                                 scipy  \\\np i                                                      \n1 0  instance                  <MaxCut.MaxCut objec...   \n  1  instance                  <MaxCut.MaxCut objec...   \n  2  instance                  <MaxCut.MaxCut objec...   \n  3  instance                  <MaxCut.MaxCut objec...   \n  4  instance                  <MaxCut.MaxCut objec...   \n  5  instance                  <MaxCut.MaxCut objec...   \n2 0  instance                  <MaxCut.MaxCut objec...   \n  1  instance                  <MaxCut.MaxCut objec...   \n  2  instance                  <MaxCut.MaxCut objec...   \n  3  instance                  <MaxCut.MaxCut objec...   \n  4  instance                  <MaxCut.MaxCut objec...   \n  5  instance                  <MaxCut.MaxCut objec...   \n3 0  instance                  <MaxCut.MaxCut objec...   \n  1  instance                  <MaxCut.MaxCut objec...   \n  2  instance                  <MaxCut.MaxCut objec...   \n  3  instance                  <MaxCut.MaxCut objec...   \n  4  instance                  <MaxCut.MaxCut objec...   \n  5  instance                  <MaxCut.MaxCut objec...   \n4 0  instance                  <MaxCut.MaxCut objec...   \n  1  instance                  <MaxCut.MaxCut objec...   \n  2  instance                  <MaxCut.MaxCut objec...   \n  3  instance                  <MaxCut.MaxCut objec...   \n  4  instance                  <MaxCut.MaxCut objec...   \n  5  instance                  <MaxCut.MaxCut objec...   \n5 0  instance                  <MaxCut.MaxCut objec...   \n  1  instance                  <MaxCut.MaxCut objec...   \n  2  instance                  <MaxCut.MaxCut objec...   \n  3  instance                  <MaxCut.MaxCut objec...   \n  4  instance                  <MaxCut.MaxCut objec...   \n  5  instance                  <MaxCut.MaxCut objec...   \n\n                                      gradient_descent  \np i                                                     \n1 0  instance         NaN\np                NaN\nn   ...  \n  1  instance         NaN\np                NaN\nn   ...  \n  2  instance         NaN\np                NaN\nn   ...  \n  3  instance         NaN\np                NaN\nn   ...  \n  4  instance         NaN\np                NaN\nn   ...  \n  5  instance         NaN\np                NaN\nn   ...  \n2 0  instance         NaN\np                NaN\nn   ...  \n  1  instance         NaN\np                NaN\nn   ...  \n  2  instance         NaN\np                NaN\nn   ...  \n  3  instance         NaN\np                NaN\nn   ...  \n  4  instance         NaN\np                NaN\nn   ...  \n  5  instance         NaN\np                NaN\nn   ...  \n3 0  instance         NaN\np                NaN\nn   ...  \n  1  instance         NaN\np                NaN\nn   ...  \n  2  instance         NaN\np                NaN\nn   ...  \n  3  instance         NaN\np                NaN\nn   ...  \n  4  instance         NaN\np                NaN\nn   ...  \n  5  instance         NaN\np                NaN\nn   ...  \n4 0  instance         NaN\np                NaN\nn   ...  \n  1  instance         NaN\np                NaN\nn   ...  \n  2  instance         NaN\np                NaN\nn   ...  \n  3  instance         NaN\np                NaN\nn   ...  \n  4  instance         NaN\np                NaN\nn   ...  \n  5  instance         NaN\np                NaN\nn   ...  \n5 0  instance         NaN\np                NaN\nn   ...  \n  1  instance         NaN\np                NaN\nn   ...  \n  2  instance         NaN\np                NaN\nn   ...  \n  3  instance         NaN\np                NaN\nn   ...  \n  4  instance         NaN\np                NaN\nn   ...  \n  5  instance         NaN\np                NaN\nn   ...  ",
      "text/html": "<div>\n<style scoped>\n    .dataframe tbody tr th:only-of-type {\n        vertical-align: middle;\n    }\n\n    .dataframe tbody tr th {\n        vertical-align: top;\n    }\n\n    .dataframe thead th {\n        text-align: right;\n    }\n</style>\n<table border=\"1\" class=\"dataframe\">\n  <thead>\n    <tr style=\"text-align: right;\">\n      <th></th>\n      <th></th>\n      <th>instance</th>\n      <th>tdvp</th>\n      <th>scipy</th>\n      <th>gradient_descent</th>\n    </tr>\n    <tr>\n      <th>p</th>\n      <th>i</th>\n      <th></th>\n      <th></th>\n      <th></th>\n      <th></th>\n    </tr>\n  </thead>\n  <tbody>\n    <tr>\n      <th rowspan=\"6\" valign=\"top\">1</th>\n      <th>0</th>\n      <td>&lt;MaxCut.MaxCut object at 0x7fc874219210&gt;</td>\n      <td>instance                  &lt;MaxCut.MaxCut objec...</td>\n      <td>instance                  &lt;MaxCut.MaxCut objec...</td>\n      <td>instance         NaN\np                NaN\nn   ...</td>\n    </tr>\n    <tr>\n      <th>1</th>\n      <td>&lt;MaxCut.MaxCut object at 0x7fc8742182e0&gt;</td>\n      <td>instance                  &lt;MaxCut.MaxCut objec...</td>\n      <td>instance                  &lt;MaxCut.MaxCut objec...</td>\n      <td>instance         NaN\np                NaN\nn   ...</td>\n    </tr>\n    <tr>\n      <th>2</th>\n      <td>&lt;MaxCut.MaxCut object at 0x7fc874219ea0&gt;</td>\n      <td>instance                  &lt;MaxCut.MaxCut objec...</td>\n      <td>instance                  &lt;MaxCut.MaxCut objec...</td>\n      <td>instance         NaN\np                NaN\nn   ...</td>\n    </tr>\n    <tr>\n      <th>3</th>\n      <td>&lt;MaxCut.MaxCut object at 0x7fc874219cf0&gt;</td>\n      <td>instance                  &lt;MaxCut.MaxCut objec...</td>\n      <td>instance                  &lt;MaxCut.MaxCut objec...</td>\n      <td>instance         NaN\np                NaN\nn   ...</td>\n    </tr>\n    <tr>\n      <th>4</th>\n      <td>&lt;MaxCut.MaxCut object at 0x7fc874219ba0&gt;</td>\n      <td>instance                  &lt;MaxCut.MaxCut objec...</td>\n      <td>instance                  &lt;MaxCut.MaxCut objec...</td>\n      <td>instance         NaN\np                NaN\nn   ...</td>\n    </tr>\n    <tr>\n      <th>5</th>\n      <td>&lt;MaxCut.MaxCut object at 0x7fc874219b10&gt;</td>\n      <td>instance                  &lt;MaxCut.MaxCut objec...</td>\n      <td>instance                  &lt;MaxCut.MaxCut objec...</td>\n      <td>instance         NaN\np                NaN\nn   ...</td>\n    </tr>\n    <tr>\n      <th rowspan=\"6\" valign=\"top\">2</th>\n      <th>0</th>\n      <td>&lt;MaxCut.MaxCut object at 0x7fc874219210&gt;</td>\n      <td>instance                  &lt;MaxCut.MaxCut objec...</td>\n      <td>instance                  &lt;MaxCut.MaxCut objec...</td>\n      <td>instance         NaN\np                NaN\nn   ...</td>\n    </tr>\n    <tr>\n      <th>1</th>\n      <td>&lt;MaxCut.MaxCut object at 0x7fc8742182e0&gt;</td>\n      <td>instance                  &lt;MaxCut.MaxCut objec...</td>\n      <td>instance                  &lt;MaxCut.MaxCut objec...</td>\n      <td>instance         NaN\np                NaN\nn   ...</td>\n    </tr>\n    <tr>\n      <th>2</th>\n      <td>&lt;MaxCut.MaxCut object at 0x7fc874219ea0&gt;</td>\n      <td>instance                  &lt;MaxCut.MaxCut objec...</td>\n      <td>instance                  &lt;MaxCut.MaxCut objec...</td>\n      <td>instance         NaN\np                NaN\nn   ...</td>\n    </tr>\n    <tr>\n      <th>3</th>\n      <td>&lt;MaxCut.MaxCut object at 0x7fc874219cf0&gt;</td>\n      <td>instance                  &lt;MaxCut.MaxCut objec...</td>\n      <td>instance                  &lt;MaxCut.MaxCut objec...</td>\n      <td>instance         NaN\np                NaN\nn   ...</td>\n    </tr>\n    <tr>\n      <th>4</th>\n      <td>&lt;MaxCut.MaxCut object at 0x7fc874219ba0&gt;</td>\n      <td>instance                  &lt;MaxCut.MaxCut objec...</td>\n      <td>instance                  &lt;MaxCut.MaxCut objec...</td>\n      <td>instance         NaN\np                NaN\nn   ...</td>\n    </tr>\n    <tr>\n      <th>5</th>\n      <td>&lt;MaxCut.MaxCut object at 0x7fc874219b10&gt;</td>\n      <td>instance                  &lt;MaxCut.MaxCut objec...</td>\n      <td>instance                  &lt;MaxCut.MaxCut objec...</td>\n      <td>instance         NaN\np                NaN\nn   ...</td>\n    </tr>\n    <tr>\n      <th rowspan=\"6\" valign=\"top\">3</th>\n      <th>0</th>\n      <td>&lt;MaxCut.MaxCut object at 0x7fc874219210&gt;</td>\n      <td>instance                  &lt;MaxCut.MaxCut objec...</td>\n      <td>instance                  &lt;MaxCut.MaxCut objec...</td>\n      <td>instance         NaN\np                NaN\nn   ...</td>\n    </tr>\n    <tr>\n      <th>1</th>\n      <td>&lt;MaxCut.MaxCut object at 0x7fc8742182e0&gt;</td>\n      <td>instance                  &lt;MaxCut.MaxCut objec...</td>\n      <td>instance                  &lt;MaxCut.MaxCut objec...</td>\n      <td>instance         NaN\np                NaN\nn   ...</td>\n    </tr>\n    <tr>\n      <th>2</th>\n      <td>&lt;MaxCut.MaxCut object at 0x7fc874219ea0&gt;</td>\n      <td>instance                  &lt;MaxCut.MaxCut objec...</td>\n      <td>instance                  &lt;MaxCut.MaxCut objec...</td>\n      <td>instance         NaN\np                NaN\nn   ...</td>\n    </tr>\n    <tr>\n      <th>3</th>\n      <td>&lt;MaxCut.MaxCut object at 0x7fc874219cf0&gt;</td>\n      <td>instance                  &lt;MaxCut.MaxCut objec...</td>\n      <td>instance                  &lt;MaxCut.MaxCut objec...</td>\n      <td>instance         NaN\np                NaN\nn   ...</td>\n    </tr>\n    <tr>\n      <th>4</th>\n      <td>&lt;MaxCut.MaxCut object at 0x7fc874219ba0&gt;</td>\n      <td>instance                  &lt;MaxCut.MaxCut objec...</td>\n      <td>instance                  &lt;MaxCut.MaxCut objec...</td>\n      <td>instance         NaN\np                NaN\nn   ...</td>\n    </tr>\n    <tr>\n      <th>5</th>\n      <td>&lt;MaxCut.MaxCut object at 0x7fc874219b10&gt;</td>\n      <td>instance                  &lt;MaxCut.MaxCut objec...</td>\n      <td>instance                  &lt;MaxCut.MaxCut objec...</td>\n      <td>instance         NaN\np                NaN\nn   ...</td>\n    </tr>\n    <tr>\n      <th rowspan=\"6\" valign=\"top\">4</th>\n      <th>0</th>\n      <td>&lt;MaxCut.MaxCut object at 0x7fc874219210&gt;</td>\n      <td>instance                  &lt;MaxCut.MaxCut objec...</td>\n      <td>instance                  &lt;MaxCut.MaxCut objec...</td>\n      <td>instance         NaN\np                NaN\nn   ...</td>\n    </tr>\n    <tr>\n      <th>1</th>\n      <td>&lt;MaxCut.MaxCut object at 0x7fc8742182e0&gt;</td>\n      <td>instance                  &lt;MaxCut.MaxCut objec...</td>\n      <td>instance                  &lt;MaxCut.MaxCut objec...</td>\n      <td>instance         NaN\np                NaN\nn   ...</td>\n    </tr>\n    <tr>\n      <th>2</th>\n      <td>&lt;MaxCut.MaxCut object at 0x7fc874219ea0&gt;</td>\n      <td>instance                  &lt;MaxCut.MaxCut objec...</td>\n      <td>instance                  &lt;MaxCut.MaxCut objec...</td>\n      <td>instance         NaN\np                NaN\nn   ...</td>\n    </tr>\n    <tr>\n      <th>3</th>\n      <td>&lt;MaxCut.MaxCut object at 0x7fc874219cf0&gt;</td>\n      <td>instance                  &lt;MaxCut.MaxCut objec...</td>\n      <td>instance                  &lt;MaxCut.MaxCut objec...</td>\n      <td>instance         NaN\np                NaN\nn   ...</td>\n    </tr>\n    <tr>\n      <th>4</th>\n      <td>&lt;MaxCut.MaxCut object at 0x7fc874219ba0&gt;</td>\n      <td>instance                  &lt;MaxCut.MaxCut objec...</td>\n      <td>instance                  &lt;MaxCut.MaxCut objec...</td>\n      <td>instance         NaN\np                NaN\nn   ...</td>\n    </tr>\n    <tr>\n      <th>5</th>\n      <td>&lt;MaxCut.MaxCut object at 0x7fc874219b10&gt;</td>\n      <td>instance                  &lt;MaxCut.MaxCut objec...</td>\n      <td>instance                  &lt;MaxCut.MaxCut objec...</td>\n      <td>instance         NaN\np                NaN\nn   ...</td>\n    </tr>\n    <tr>\n      <th rowspan=\"6\" valign=\"top\">5</th>\n      <th>0</th>\n      <td>&lt;MaxCut.MaxCut object at 0x7fc874219210&gt;</td>\n      <td>instance                  &lt;MaxCut.MaxCut objec...</td>\n      <td>instance                  &lt;MaxCut.MaxCut objec...</td>\n      <td>instance         NaN\np                NaN\nn   ...</td>\n    </tr>\n    <tr>\n      <th>1</th>\n      <td>&lt;MaxCut.MaxCut object at 0x7fc8742182e0&gt;</td>\n      <td>instance                  &lt;MaxCut.MaxCut objec...</td>\n      <td>instance                  &lt;MaxCut.MaxCut objec...</td>\n      <td>instance         NaN\np                NaN\nn   ...</td>\n    </tr>\n    <tr>\n      <th>2</th>\n      <td>&lt;MaxCut.MaxCut object at 0x7fc874219ea0&gt;</td>\n      <td>instance                  &lt;MaxCut.MaxCut objec...</td>\n      <td>instance                  &lt;MaxCut.MaxCut objec...</td>\n      <td>instance         NaN\np                NaN\nn   ...</td>\n    </tr>\n    <tr>\n      <th>3</th>\n      <td>&lt;MaxCut.MaxCut object at 0x7fc874219cf0&gt;</td>\n      <td>instance                  &lt;MaxCut.MaxCut objec...</td>\n      <td>instance                  &lt;MaxCut.MaxCut objec...</td>\n      <td>instance         NaN\np                NaN\nn   ...</td>\n    </tr>\n    <tr>\n      <th>4</th>\n      <td>&lt;MaxCut.MaxCut object at 0x7fc874219ba0&gt;</td>\n      <td>instance                  &lt;MaxCut.MaxCut objec...</td>\n      <td>instance                  &lt;MaxCut.MaxCut objec...</td>\n      <td>instance         NaN\np                NaN\nn   ...</td>\n    </tr>\n    <tr>\n      <th>5</th>\n      <td>&lt;MaxCut.MaxCut object at 0x7fc874219b10&gt;</td>\n      <td>instance                  &lt;MaxCut.MaxCut objec...</td>\n      <td>instance                  &lt;MaxCut.MaxCut objec...</td>\n      <td>instance         NaN\np                NaN\nn   ...</td>\n    </tr>\n  </tbody>\n</table>\n</div>"
     },
     "execution_count": 8,
     "metadata": {},
     "output_type": "execute_result"
    }
   ],
   "source": [
    "with open('.//results/n4_results_itered.p', 'rb') as file:\n",
    "    df = pickle.load(file)\n",
    "\n",
    "df"
   ],
   "metadata": {
    "collapsed": false
   }
  },
  {
   "cell_type": "code",
   "execution_count": 36,
   "outputs": [
    {
     "data": {
      "text/plain": "instance           NaN\np                  NaN\nn                  NaN\ndelta_0            NaN\ntollarance         NaN\nalgorithm          NaN\nres                NaN\ndelta              NaN\nvalue              NaN\npath               NaN\nsteps              NaN\nnum_fun_calls      NaN\nreal duration      NaN\nmessage            NaN\nsuccess          False\nName: gradient_descent, dtype: object"
     },
     "execution_count": 36,
     "metadata": {},
     "output_type": "execute_result"
    }
   ],
   "source": [
    "# scipy has no number set for 'steps' but we will use this field for computations\n",
    "for p,i in df.index:\n",
    "    df['scipy'].loc[p,i]['steps'] = df['scipy'].loc[p,i]['num_fun_calls']\n",
    "    df['gradient_descent'].loc[p,i]['num_fun_calls'] = df['gradient_descent'].loc[p,i]['steps']\n",
    "    for alg in {'scipy', 'tdvp', 'gradient_descent'}:\n",
    "        res = df[alg].loc[p,i]\n",
    "        try:\n",
    "            res['success'] = res.res.success\n",
    "        except  AttributeError:\n",
    "            res['success'] = False\n",
    "df['gradient_descent'].loc[1,0]"
   ],
   "metadata": {
    "collapsed": false
   }
  },
  {
   "cell_type": "code",
   "execution_count": 29,
   "outputs": [
    {
     "data": {
      "text/plain": "nan"
     },
     "execution_count": 29,
     "metadata": {},
     "output_type": "execute_result"
    }
   ],
   "source": [
    "df['gradient_descent'].loc[1,0].res"
   ],
   "metadata": {
    "collapsed": false
   }
  },
  {
   "cell_type": "code",
   "execution_count": 10,
   "metadata": {
    "collapsed": false
   },
   "outputs": [],
   "source": [
    "# with open('.//results//n4_p1.p','rb') as file:\n",
    "#     df = pickle.load(file)"
   ]
  },
  {
   "cell_type": "code",
   "execution_count": 11,
   "metadata": {
    "collapsed": false
   },
   "outputs": [],
   "source": [
    "# with open(\"..//benchmarks//RK45_n10_p-1-5_Delta-1.p\",\"rb\") as file:\n",
    "#     data: Benchmark = pickle.load(file)\n",
    "#\n",
    "# scipy_results = list()\n",
    "# for d in data.results:\n",
    "#     items = d.get(\"tdvp\").__dict__.items()\n",
    "#     for k,v in items:\n",
    "#         d[k]=v\n",
    "#         d[\"algorithm\"] = \"tdvp\"\n",
    "#     d[\"n\"] = d[\"_qaoa\"].n\n",
    "#     dd = d.copy()\n",
    "#     items = dd.get(\"scipy\").__dict__.items()\n",
    "#     for k,v in items:\n",
    "#         dd[k]=v\n",
    "#         dd[\"algorithm\"] = \"scipy\"\n",
    "#     dd[\"n\"] = dd[\"_qaoa\"].n\n",
    "#     scipy_results.append(dd)\n",
    "#\n",
    "# data.results.extend(scipy_results)\n",
    "#\n",
    "# df = pd.DataFrame(data.results)\n",
    "# df.pop(\"tdvp\")\n",
    "# df.pop(\"scipy\")\n",
    "# cols = df.columns.tolist()\n",
    "# cols = cols[-1:] + cols[:-1]\n",
    "# df = df[cols]\n",
    "#\n",
    "# df['steps'] = df.apply(lambda row: int(row['_num_steps']) if row.algorithm==\"tdvp\" else row['_num_fun_calls'], axis=1)\n",
    "#\n",
    "# df.insert(2,\"algorithm\",df.pop(\"algorithm\"))\n",
    "# df.insert(3,\"_optimal_fun_value\",df.pop(\"_optimal_fun_value\"))\n",
    "# df.insert(4,'steps', df.pop('steps'))\n",
    "# df.insert(6,\"_prob\",df.pop(\"_prob\"))\n",
    "#\n",
    "#\n",
    "# df_tdvp = df[df.algorithm.eq(\"tdvp\")]\n",
    "# df_scipy = df[df.algorithm.eq(\"scipy\")]\n",
    "#\n",
    "# df.rename(columns={\"_optimal_fun_value\":\"C\", \"_prob\":\"prob\", '_duration':'duration', '_optimal_state':'final_state', '_optimal_parameters':'final_parameters', '_num_gates':'num_gates','_qaoa':'qaoa'}, inplace=True)"
   ]
  },
  {
   "cell_type": "markdown",
   "source": [
    "fix error when LinAlgerror exception occured and thererfore QAOAResult.duration = None leads to an error in `f\"{self.duration:.2f}\"`"
   ],
   "metadata": {
    "collapsed": false
   }
  },
  {
   "cell_type": "code",
   "execution_count": 12,
   "outputs": [],
   "source": [
    "# for (p,i) in df.index:\n",
    "#     try:\n",
    "#         df.loc[p,i].__repr__()\n",
    "#     except TypeError:\n",
    "#         print((p,i))\n",
    "#         (p_er,i_er) = (p,i)\n",
    "# df['tdvp'].loc[p_er,i_er].res.value = np.NAN\n",
    "# df['tdvp'].loc[p_er,i_er].res.num_fun_calls = np.NAN\n",
    "# df['tdvp'].loc[p_er,i_er].res.num_steps = np.NAN\n",
    "# df['tdvp'].loc[p_er,i_er].res.parameters = list(np.NAN for _ in range(6))\n",
    "# df['tdvp'].loc[p_er,i_er].res.optimizer_name = 'tdvp'\n",
    "# df['tdvp'].loc[p_er,i_er].res.duration = np.NAN"
   ],
   "metadata": {
    "collapsed": false
   }
  },
  {
   "cell_type": "markdown",
   "metadata": {
    "collapsed": false
   },
   "source": [
    "# Compute performance measures"
   ]
  },
  {
   "cell_type": "code",
   "execution_count": 13,
   "metadata": {
    "collapsed": false
   },
   "outputs": [],
   "source": [
    "# dfp = df[df['p']==1]\n",
    "# measures = ['expected approximation ratio', 'groundspace overlap', 'groundspace sharpness', 'Approximation ratio', 'circuit count', 'gate count']\n",
    "# types = ['min','max', 'mean', 'stdv']\n",
    "# measure_index=pd.MultiIndex.from_product([measures, types])\n",
    "# summary = pd.DataFrame(columns=measure_index)\n",
    "# summary"
   ]
  },
  {
   "cell_type": "markdown",
   "source": [
    "## basic functions"
   ],
   "metadata": {
    "collapsed": false
   }
  },
  {
   "cell_type": "code",
   "execution_count": 14,
   "metadata": {
    "collapsed": false
   },
   "outputs": [],
   "source": [
    "def prob(num:int, state:Qobj):\n",
    "    n = state.shape[0]\n",
    "    return abs(state.overlap(basis(n,num)))**2\n",
    "\n",
    "def answer(state:Qobj)->int:\n",
    "    return max(range(state.shape[0]), key=lambda x:prob(x,state))\n",
    "\n",
    "def bin_answer(answer:int, n:int)->str:\n",
    "    return format(answer,  f'0{n}b')"
   ]
  },
  {
   "cell_type": "markdown",
   "source": [
    "## approximation ratio"
   ],
   "metadata": {
    "collapsed": false
   }
  },
  {
   "cell_type": "code",
   "execution_count": 15,
   "metadata": {
    "collapsed": false
   },
   "outputs": [],
   "source": [
    "def best_cost_value(qaoa:QAOA):\n",
    "    return qaoa.H.groundstate()[0]\n",
    "\n",
    "def approximation_ratio(bin_answer:int, best_cost_value:float, qaoa:QAOA):\n",
    "    i = list(int(b) for b in bin_answer)\n",
    "    dims = [2 for _ in range(qaoa.n)]\n",
    "    return expect(qaoa.H,basis(dims,i))/best_cost_value\n",
    "\n",
    "def expectation_of_approximation_ratio(state:Qobj, best_cost_value:float, qaoa:QAOA):\n",
    "    return (expect(qaoa.H, state))/best_cost_value\n"
   ]
  },
  {
   "cell_type": "markdown",
   "source": [
    "## time measures"
   ],
   "metadata": {
    "collapsed": false
   }
  },
  {
   "cell_type": "code",
   "execution_count": 16,
   "outputs": [],
   "source": [
    "path_example = df['tdvp'].loc[1,0].path"
   ],
   "metadata": {
    "collapsed": false
   }
  },
  {
   "cell_type": "code",
   "execution_count": 17,
   "outputs": [
    {
     "data": {
      "text/plain": "[(1.0, 1.0),\n (0.9308945581487198, 1.0484637612867636),\n (0.7871988325325365, 1.1663269277056116),\n (0.7827526471663281, 1.1878083790178537),\n (0.7880374293785674, 1.1947713393125265),\n (0.7962204175035178, 1.1983451340122915),\n (0.8004614859841208, 1.200017375920161)]"
     },
     "execution_count": 17,
     "metadata": {},
     "output_type": "execute_result"
    }
   ],
   "source": [
    "path_example"
   ],
   "metadata": {
    "collapsed": false
   }
  },
  {
   "cell_type": "code",
   "execution_count": 18,
   "metadata": {
    "collapsed": false
   },
   "outputs": [],
   "source": [
    "def num_metric_gates(n:int,p:int,qubo:NDArray):\n",
    "    Q = np.count_nonzero(qubo)\n",
    "    N = 2*p*(n+Q)\n",
    "    C1 = 1/2 * n**4 + 2*n**3 + 7/2*n**2\n",
    "    C2 = n**4 + 5/2*(n**3 + n**2)\n",
    "    return N*C1*(7/3*p**2 +2*p + 1/3) + (2*C2-N*C1)*(1/2*p**2 +3/2*p)\n",
    "\n",
    "def num_gradient_gates(n:int,p:int,qubo:NDArray):\n",
    "    Q = np.count_nonzero(qubo)\n",
    "    N = 2*p*(n+Q)\n",
    "    return (n**4 -2*n**3 +n**2)/4 * (2*N+4) + 3*n*(n*(n-1))/2*(2*(N+3)) + 2*n**2*(2*N+3)\n",
    "\n",
    "def num_qaoa_gates(n:int,p:int, qubo:NDArray):\n",
    "    Q = np.count_nonzero(qubo)\n",
    "    return 2*p*(n+Q)\n",
    "\n",
    "def circuit_count(steps:int, algorithm:str, p:int, n:int):\n",
    "    if algorithm =='tdvp':\n",
    "        return steps*(p**2 + p)*(1/8*n**4 +1/2*n**3 -5/8*n**2) + 1\n",
    "    if algorithm ==\"scipy\":\n",
    "        return steps + 1\n",
    "\n",
    "def gate_count(steps: int, algorithm: str, p: int, n: int, qaoa: QAOA):\n",
    "    if algorithm=='tdvp':\n",
    "        return steps*(num_metric_gates(n,p,qaoa.qubo) + num_gradient_gates(n,p,qaoa.qubo)) + num_qaoa_gates(n,p,qaoa.qubo)\n",
    "    if algorithm=='scipy':\n",
    "        return (1+steps)*num_qaoa_gates(n,p,qaoa.qubo)\n",
    "\n",
    "def path_length(path:List[Tuple[float]])->float:\n",
    "    return sum(np.linalg.norm(np.array(path[i])-np.array(path[i+1])) for i in range(len(path)-1))"
   ]
  },
  {
   "cell_type": "markdown",
   "source": [
    "## Quality measures"
   ],
   "metadata": {
    "collapsed": false
   }
  },
  {
   "cell_type": "code",
   "execution_count": 19,
   "metadata": {
    "collapsed": false
   },
   "outputs": [],
   "source": [
    "# GROUNDSPACE IS NOW PART OF QAOA CLASS\n",
    "# def groundspace(qaoa:QAOA):\n",
    "#     eigenenergies, eigenstates = qaoa.H.eigenstates(sort='low')\n",
    "#     groundenergy = eigenenergies[0]\n",
    "#\n",
    "#     num_of_eigenstates = 0\n",
    "#     for e in eigenenergies:\n",
    "#         if e==groundenergy:\n",
    "#             num_of_eigenstates +=1\n",
    "#         if e != groundenergy:\n",
    "#             break\n",
    "#     return eigenstates[:num_of_eigenstates]\n",
    "\n",
    "def groundspace_overlap(groundstates:List[Qobj], state:Qobj):\n",
    "    return  sum(abs(g.overlap(state))**2 for g in groundstates)\n",
    "\n",
    "def groundspace_sharpness(groundstates:List[Qobj], state:Qobj):\n",
    "    P_0 = sum(g*g.dag() for g in groundstates)\n",
    "    return math.sqrt(variance(P_0,state))\n"
   ]
  },
  {
   "cell_type": "markdown",
   "source": [
    "## Compute everything"
   ],
   "metadata": {
    "collapsed": false
   }
  },
  {
   "cell_type": "code",
   "execution_count": 38,
   "outputs": [],
   "source": [
    "def compute_measures(res:pd.Series, qaoa:QAOA)->pd.Series:\n",
    "    if res.success:\n",
    "        state = qaoa.state(res.delta)\n",
    "        res['answer'] = answer(state)\n",
    "        res['bin_answer'] = bin_answer(res['answer'], res['n'])\n",
    "        res['best_cost_value'] = best_cost_value(qaoa)\n",
    "        res['approximation ratio'] = approximation_ratio(res['bin_answer'], res['best_cost_value'], qaoa)\n",
    "        res['expectation approximation ratio']=expectation_of_approximation_ratio(state, res['best_cost_value'], qaoa)\n",
    "        res['circuit count'] = circuit_count(res['steps'], res['algorithm'], res['p'], res['n'])\n",
    "        res['gate count'] = gate_count(res['steps'], res['algorithm'], res['n'],res['p'], qaoa)\n",
    "        res['path length'] = path_length(res['path'])\n",
    "        res['groundspace overlap'] = groundspace_overlap(qaoa.groundspace, state)\n",
    "        res['groundspace sharpness'] = groundspace_sharpness(qaoa.groundspace, state)\n",
    "    else:\n",
    "        res['answer'] = np.NaN\n",
    "        res['bin_answer'] = np.NaN\n",
    "        res['best_cost_value'] = np.NaN\n",
    "        res['approximation ratio'] = np.NaN\n",
    "        res['expectation approximation ratio']=np.NaN\n",
    "        res['circuit count'] = np.NaN\n",
    "        res['gate count'] = np.NaN\n",
    "        res['path length'] = np.NaN\n",
    "        res['groundspace overlap'] = np.NaN\n",
    "        res['groundspace sharpness'] = np.NaN\n",
    "    return res\n"
   ],
   "metadata": {
    "collapsed": false
   }
  },
  {
   "cell_type": "code",
   "execution_count": 27,
   "outputs": [],
   "source": [
    "def measures_mapping(row:pd.Series):\n",
    "    qaoa = QAOA(row['instance'].qubo,p=row.name[0])\n",
    "    if row.tdvp.algorithm is not np.NaN:\n",
    "        row.tdvp = compute_measures(row.tdvp,qaoa)\n",
    "    if row.scipy.algorithm is not np.NaN:\n",
    "        row.scipy = compute_measures(row.scipy,qaoa)\n",
    "    if row.gradient_descent.algorithm is not np.NaN:\n",
    "        row.gradient_descent = compute_measures(row.gradient_descent,qaoa)\n",
    "    # if row.scipy.algorithm is not None:\n",
    "    #     row.scipy =compute_measures(row.scipy,qaoa)\n",
    "    # if row.gradient_descent.algorithm is not None:\n",
    "    #     row.gradient_descent =compute_measures(row.gradient_descent,qaoa)\n",
    "    return row\n",
    "def compute_measures_apply(df:pd.DataFrame)->pd.DataFrame:\n",
    "    return df.swifter.apply(measures_mapping, axis=1)"
   ],
   "metadata": {
    "collapsed": false
   }
  },
  {
   "cell_type": "code",
   "execution_count": 39,
   "outputs": [
    {
     "data": {
      "text/plain": "Pandas Apply:   0%|          | 0/30 [00:00<?, ?it/s]",
      "application/vnd.jupyter.widget-view+json": {
       "version_major": 2,
       "version_minor": 0,
       "model_id": "06ce907a955346eea1875a74cc307e82"
      }
     },
     "metadata": {},
     "output_type": "display_data"
    },
    {
     "data": {
      "text/plain": "                                     instance  \\\np i                                             \n1 0  <MaxCut.MaxCut object at 0x7fc874219210>   \n  1  <MaxCut.MaxCut object at 0x7fc8742182e0>   \n  2  <MaxCut.MaxCut object at 0x7fc874219ea0>   \n  3  <MaxCut.MaxCut object at 0x7fc874219cf0>   \n  4  <MaxCut.MaxCut object at 0x7fc874219ba0>   \n  5  <MaxCut.MaxCut object at 0x7fc874219b10>   \n2 0  <MaxCut.MaxCut object at 0x7fc874219210>   \n  1  <MaxCut.MaxCut object at 0x7fc8742182e0>   \n  2  <MaxCut.MaxCut object at 0x7fc874219ea0>   \n  3  <MaxCut.MaxCut object at 0x7fc874219cf0>   \n  4  <MaxCut.MaxCut object at 0x7fc874219ba0>   \n  5  <MaxCut.MaxCut object at 0x7fc874219b10>   \n3 0  <MaxCut.MaxCut object at 0x7fc874219210>   \n  1  <MaxCut.MaxCut object at 0x7fc8742182e0>   \n  2  <MaxCut.MaxCut object at 0x7fc874219ea0>   \n  3  <MaxCut.MaxCut object at 0x7fc874219cf0>   \n  4  <MaxCut.MaxCut object at 0x7fc874219ba0>   \n  5  <MaxCut.MaxCut object at 0x7fc874219b10>   \n4 0  <MaxCut.MaxCut object at 0x7fc874219210>   \n  1  <MaxCut.MaxCut object at 0x7fc8742182e0>   \n  2  <MaxCut.MaxCut object at 0x7fc874219ea0>   \n  3  <MaxCut.MaxCut object at 0x7fc874219cf0>   \n  4  <MaxCut.MaxCut object at 0x7fc874219ba0>   \n  5  <MaxCut.MaxCut object at 0x7fc874219b10>   \n5 0  <MaxCut.MaxCut object at 0x7fc874219210>   \n  1  <MaxCut.MaxCut object at 0x7fc8742182e0>   \n  2  <MaxCut.MaxCut object at 0x7fc874219ea0>   \n  3  <MaxCut.MaxCut object at 0x7fc874219cf0>   \n  4  <MaxCut.MaxCut object at 0x7fc874219ba0>   \n  5  <MaxCut.MaxCut object at 0x7fc874219b10>   \n\n                                                  tdvp  \\\np i                                                      \n1 0  instance                                    <M...   \n  1  instance                                    <M...   \n  2  instance                                    <M...   \n  3  instance                                    <M...   \n  4  instance                                    <M...   \n  5  instance                                    <M...   \n2 0  instance                                    <M...   \n  1  instance                                    <M...   \n  2  instance                                    <M...   \n  3  instance                                    <M...   \n  4  instance                                    <M...   \n  5  instance                                    <M...   \n3 0  instance                                    <M...   \n  1  instance                                    <M...   \n  2  instance                                    <M...   \n  3  instance                                    <M...   \n  4  instance                                    <M...   \n  5  instance                                    <M...   \n4 0  instance                                    <M...   \n  1  instance                                    <M...   \n  2  instance                                    <M...   \n  3  instance                                    <M...   \n  4  instance                                    <M...   \n  5  instance                                    <M...   \n5 0  instance                                    <M...   \n  1  instance                                    <M...   \n  2  instance                                    <M...   \n  3  instance                                    <M...   \n  4  instance                                    <M...   \n  5  instance                                    <M...   \n\n                                                 scipy  \\\np i                                                      \n1 0  instance                                    <M...   \n  1  instance                                    <M...   \n  2  instance                                    <M...   \n  3  instance                                    <M...   \n  4  instance                                    <M...   \n  5  instance                                    <M...   \n2 0  instance                                    <M...   \n  1  instance                                    <M...   \n  2  instance                                    <M...   \n  3  instance                                    <M...   \n  4  instance                                    <M...   \n  5  instance                                    <M...   \n3 0  instance                                    <M...   \n  1  instance                                    <M...   \n  2  instance                                    <M...   \n  3  instance                                    <M...   \n  4  instance                                    <M...   \n  5  instance                                    <M...   \n4 0  instance                                    <M...   \n  1  instance                                    <M...   \n  2  instance                                    <M...   \n  3  instance                                    <M...   \n  4  instance                                    <M...   \n  5  instance                                    <M...   \n5 0  instance                                    <M...   \n  1  instance                                    <M...   \n  2  instance                                    <M...   \n  3  instance                                    <M...   \n  4  instance                                    <M...   \n  5  instance                                    <M...   \n\n                                      gradient_descent  \np i                                                     \n1 0  instance                             NaN\np    ...  \n  1  instance                             NaN\np    ...  \n  2  instance                             NaN\np    ...  \n  3  instance                             NaN\np    ...  \n  4  instance                             NaN\np    ...  \n  5  instance                             NaN\np    ...  \n2 0  instance                             NaN\np    ...  \n  1  instance                             NaN\np    ...  \n  2  instance                             NaN\np    ...  \n  3  instance                             NaN\np    ...  \n  4  instance                             NaN\np    ...  \n  5  instance                             NaN\np    ...  \n3 0  instance                             NaN\np    ...  \n  1  instance                             NaN\np    ...  \n  2  instance                             NaN\np    ...  \n  3  instance                             NaN\np    ...  \n  4  instance                             NaN\np    ...  \n  5  instance                             NaN\np    ...  \n4 0  instance                             NaN\np    ...  \n  1  instance                             NaN\np    ...  \n  2  instance                             NaN\np    ...  \n  3  instance                             NaN\np    ...  \n  4  instance                             NaN\np    ...  \n  5  instance                             NaN\np    ...  \n5 0  instance                             NaN\np    ...  \n  1  instance                             NaN\np    ...  \n  2  instance                             NaN\np    ...  \n  3  instance                             NaN\np    ...  \n  4  instance                             NaN\np    ...  \n  5  instance                             NaN\np    ...  ",
      "text/html": "<div>\n<style scoped>\n    .dataframe tbody tr th:only-of-type {\n        vertical-align: middle;\n    }\n\n    .dataframe tbody tr th {\n        vertical-align: top;\n    }\n\n    .dataframe thead th {\n        text-align: right;\n    }\n</style>\n<table border=\"1\" class=\"dataframe\">\n  <thead>\n    <tr style=\"text-align: right;\">\n      <th></th>\n      <th></th>\n      <th>instance</th>\n      <th>tdvp</th>\n      <th>scipy</th>\n      <th>gradient_descent</th>\n    </tr>\n    <tr>\n      <th>p</th>\n      <th>i</th>\n      <th></th>\n      <th></th>\n      <th></th>\n      <th></th>\n    </tr>\n  </thead>\n  <tbody>\n    <tr>\n      <th rowspan=\"6\" valign=\"top\">1</th>\n      <th>0</th>\n      <td>&lt;MaxCut.MaxCut object at 0x7fc874219210&gt;</td>\n      <td>instance                                    &lt;M...</td>\n      <td>instance                                    &lt;M...</td>\n      <td>instance                             NaN\np    ...</td>\n    </tr>\n    <tr>\n      <th>1</th>\n      <td>&lt;MaxCut.MaxCut object at 0x7fc8742182e0&gt;</td>\n      <td>instance                                    &lt;M...</td>\n      <td>instance                                    &lt;M...</td>\n      <td>instance                             NaN\np    ...</td>\n    </tr>\n    <tr>\n      <th>2</th>\n      <td>&lt;MaxCut.MaxCut object at 0x7fc874219ea0&gt;</td>\n      <td>instance                                    &lt;M...</td>\n      <td>instance                                    &lt;M...</td>\n      <td>instance                             NaN\np    ...</td>\n    </tr>\n    <tr>\n      <th>3</th>\n      <td>&lt;MaxCut.MaxCut object at 0x7fc874219cf0&gt;</td>\n      <td>instance                                    &lt;M...</td>\n      <td>instance                                    &lt;M...</td>\n      <td>instance                             NaN\np    ...</td>\n    </tr>\n    <tr>\n      <th>4</th>\n      <td>&lt;MaxCut.MaxCut object at 0x7fc874219ba0&gt;</td>\n      <td>instance                                    &lt;M...</td>\n      <td>instance                                    &lt;M...</td>\n      <td>instance                             NaN\np    ...</td>\n    </tr>\n    <tr>\n      <th>5</th>\n      <td>&lt;MaxCut.MaxCut object at 0x7fc874219b10&gt;</td>\n      <td>instance                                    &lt;M...</td>\n      <td>instance                                    &lt;M...</td>\n      <td>instance                             NaN\np    ...</td>\n    </tr>\n    <tr>\n      <th rowspan=\"6\" valign=\"top\">2</th>\n      <th>0</th>\n      <td>&lt;MaxCut.MaxCut object at 0x7fc874219210&gt;</td>\n      <td>instance                                    &lt;M...</td>\n      <td>instance                                    &lt;M...</td>\n      <td>instance                             NaN\np    ...</td>\n    </tr>\n    <tr>\n      <th>1</th>\n      <td>&lt;MaxCut.MaxCut object at 0x7fc8742182e0&gt;</td>\n      <td>instance                                    &lt;M...</td>\n      <td>instance                                    &lt;M...</td>\n      <td>instance                             NaN\np    ...</td>\n    </tr>\n    <tr>\n      <th>2</th>\n      <td>&lt;MaxCut.MaxCut object at 0x7fc874219ea0&gt;</td>\n      <td>instance                                    &lt;M...</td>\n      <td>instance                                    &lt;M...</td>\n      <td>instance                             NaN\np    ...</td>\n    </tr>\n    <tr>\n      <th>3</th>\n      <td>&lt;MaxCut.MaxCut object at 0x7fc874219cf0&gt;</td>\n      <td>instance                                    &lt;M...</td>\n      <td>instance                                    &lt;M...</td>\n      <td>instance                             NaN\np    ...</td>\n    </tr>\n    <tr>\n      <th>4</th>\n      <td>&lt;MaxCut.MaxCut object at 0x7fc874219ba0&gt;</td>\n      <td>instance                                    &lt;M...</td>\n      <td>instance                                    &lt;M...</td>\n      <td>instance                             NaN\np    ...</td>\n    </tr>\n    <tr>\n      <th>5</th>\n      <td>&lt;MaxCut.MaxCut object at 0x7fc874219b10&gt;</td>\n      <td>instance                                    &lt;M...</td>\n      <td>instance                                    &lt;M...</td>\n      <td>instance                             NaN\np    ...</td>\n    </tr>\n    <tr>\n      <th rowspan=\"6\" valign=\"top\">3</th>\n      <th>0</th>\n      <td>&lt;MaxCut.MaxCut object at 0x7fc874219210&gt;</td>\n      <td>instance                                    &lt;M...</td>\n      <td>instance                                    &lt;M...</td>\n      <td>instance                             NaN\np    ...</td>\n    </tr>\n    <tr>\n      <th>1</th>\n      <td>&lt;MaxCut.MaxCut object at 0x7fc8742182e0&gt;</td>\n      <td>instance                                    &lt;M...</td>\n      <td>instance                                    &lt;M...</td>\n      <td>instance                             NaN\np    ...</td>\n    </tr>\n    <tr>\n      <th>2</th>\n      <td>&lt;MaxCut.MaxCut object at 0x7fc874219ea0&gt;</td>\n      <td>instance                                    &lt;M...</td>\n      <td>instance                                    &lt;M...</td>\n      <td>instance                             NaN\np    ...</td>\n    </tr>\n    <tr>\n      <th>3</th>\n      <td>&lt;MaxCut.MaxCut object at 0x7fc874219cf0&gt;</td>\n      <td>instance                                    &lt;M...</td>\n      <td>instance                                    &lt;M...</td>\n      <td>instance                             NaN\np    ...</td>\n    </tr>\n    <tr>\n      <th>4</th>\n      <td>&lt;MaxCut.MaxCut object at 0x7fc874219ba0&gt;</td>\n      <td>instance                                    &lt;M...</td>\n      <td>instance                                    &lt;M...</td>\n      <td>instance                             NaN\np    ...</td>\n    </tr>\n    <tr>\n      <th>5</th>\n      <td>&lt;MaxCut.MaxCut object at 0x7fc874219b10&gt;</td>\n      <td>instance                                    &lt;M...</td>\n      <td>instance                                    &lt;M...</td>\n      <td>instance                             NaN\np    ...</td>\n    </tr>\n    <tr>\n      <th rowspan=\"6\" valign=\"top\">4</th>\n      <th>0</th>\n      <td>&lt;MaxCut.MaxCut object at 0x7fc874219210&gt;</td>\n      <td>instance                                    &lt;M...</td>\n      <td>instance                                    &lt;M...</td>\n      <td>instance                             NaN\np    ...</td>\n    </tr>\n    <tr>\n      <th>1</th>\n      <td>&lt;MaxCut.MaxCut object at 0x7fc8742182e0&gt;</td>\n      <td>instance                                    &lt;M...</td>\n      <td>instance                                    &lt;M...</td>\n      <td>instance                             NaN\np    ...</td>\n    </tr>\n    <tr>\n      <th>2</th>\n      <td>&lt;MaxCut.MaxCut object at 0x7fc874219ea0&gt;</td>\n      <td>instance                                    &lt;M...</td>\n      <td>instance                                    &lt;M...</td>\n      <td>instance                             NaN\np    ...</td>\n    </tr>\n    <tr>\n      <th>3</th>\n      <td>&lt;MaxCut.MaxCut object at 0x7fc874219cf0&gt;</td>\n      <td>instance                                    &lt;M...</td>\n      <td>instance                                    &lt;M...</td>\n      <td>instance                             NaN\np    ...</td>\n    </tr>\n    <tr>\n      <th>4</th>\n      <td>&lt;MaxCut.MaxCut object at 0x7fc874219ba0&gt;</td>\n      <td>instance                                    &lt;M...</td>\n      <td>instance                                    &lt;M...</td>\n      <td>instance                             NaN\np    ...</td>\n    </tr>\n    <tr>\n      <th>5</th>\n      <td>&lt;MaxCut.MaxCut object at 0x7fc874219b10&gt;</td>\n      <td>instance                                    &lt;M...</td>\n      <td>instance                                    &lt;M...</td>\n      <td>instance                             NaN\np    ...</td>\n    </tr>\n    <tr>\n      <th rowspan=\"6\" valign=\"top\">5</th>\n      <th>0</th>\n      <td>&lt;MaxCut.MaxCut object at 0x7fc874219210&gt;</td>\n      <td>instance                                    &lt;M...</td>\n      <td>instance                                    &lt;M...</td>\n      <td>instance                             NaN\np    ...</td>\n    </tr>\n    <tr>\n      <th>1</th>\n      <td>&lt;MaxCut.MaxCut object at 0x7fc8742182e0&gt;</td>\n      <td>instance                                    &lt;M...</td>\n      <td>instance                                    &lt;M...</td>\n      <td>instance                             NaN\np    ...</td>\n    </tr>\n    <tr>\n      <th>2</th>\n      <td>&lt;MaxCut.MaxCut object at 0x7fc874219ea0&gt;</td>\n      <td>instance                                    &lt;M...</td>\n      <td>instance                                    &lt;M...</td>\n      <td>instance                             NaN\np    ...</td>\n    </tr>\n    <tr>\n      <th>3</th>\n      <td>&lt;MaxCut.MaxCut object at 0x7fc874219cf0&gt;</td>\n      <td>instance                                    &lt;M...</td>\n      <td>instance                                    &lt;M...</td>\n      <td>instance                             NaN\np    ...</td>\n    </tr>\n    <tr>\n      <th>4</th>\n      <td>&lt;MaxCut.MaxCut object at 0x7fc874219ba0&gt;</td>\n      <td>instance                                    &lt;M...</td>\n      <td>instance                                    &lt;M...</td>\n      <td>instance                             NaN\np    ...</td>\n    </tr>\n    <tr>\n      <th>5</th>\n      <td>&lt;MaxCut.MaxCut object at 0x7fc874219b10&gt;</td>\n      <td>instance                                    &lt;M...</td>\n      <td>instance                                    &lt;M...</td>\n      <td>instance                             NaN\np    ...</td>\n    </tr>\n  </tbody>\n</table>\n</div>"
     },
     "execution_count": 39,
     "metadata": {},
     "output_type": "execute_result"
    }
   ],
   "source": [
    "df = compute_measures_apply(df)\n",
    "df"
   ],
   "metadata": {
    "collapsed": false
   }
  },
  {
   "cell_type": "code",
   "execution_count": null,
   "outputs": [],
   "source": [
    "df['tdvp'].loc[3,2]"
   ],
   "metadata": {
    "collapsed": false
   }
  },
  {
   "cell_type": "markdown",
   "source": [
    "# Compute the statistics"
   ],
   "metadata": {
    "collapsed": false
   }
  },
  {
   "cell_type": "code",
   "execution_count": null,
   "outputs": [],
   "source": [
    "# get one measure for all instances of one p and one algo\n",
    "df.xs(3, level='p')['tdvp'].apply(lambda res: res['expectation approximation ratio'])"
   ],
   "metadata": {
    "collapsed": false
   }
  },
  {
   "cell_type": "code",
   "execution_count": 40,
   "outputs": [
    {
     "data": {
      "text/plain": "                   expectation approximation ratio                 \\\n                                              mean  std  min  max   \nalgorithm        p                                                  \ntdvp             1                             NaN  NaN  NaN  NaN   \n                 2                             NaN  NaN  NaN  NaN   \n                 3                             NaN  NaN  NaN  NaN   \n                 4                             NaN  NaN  NaN  NaN   \n                 5                             NaN  NaN  NaN  NaN   \nscipy            1                             NaN  NaN  NaN  NaN   \n                 2                             NaN  NaN  NaN  NaN   \n                 3                             NaN  NaN  NaN  NaN   \n                 4                             NaN  NaN  NaN  NaN   \n                 5                             NaN  NaN  NaN  NaN   \ngradient_descent 1                             NaN  NaN  NaN  NaN   \n                 2                             NaN  NaN  NaN  NaN   \n                 3                             NaN  NaN  NaN  NaN   \n                 4                             NaN  NaN  NaN  NaN   \n                 5                             NaN  NaN  NaN  NaN   \n\n                   groundspace overlap                groundspace sharpness  \\\n                                  mean  std  min  max                  mean   \nalgorithm        p                                                            \ntdvp             1                 NaN  NaN  NaN  NaN                   NaN   \n                 2                 NaN  NaN  NaN  NaN                   NaN   \n                 3                 NaN  NaN  NaN  NaN                   NaN   \n                 4                 NaN  NaN  NaN  NaN                   NaN   \n                 5                 NaN  NaN  NaN  NaN                   NaN   \nscipy            1                 NaN  NaN  NaN  NaN                   NaN   \n                 2                 NaN  NaN  NaN  NaN                   NaN   \n                 3                 NaN  NaN  NaN  NaN                   NaN   \n                 4                 NaN  NaN  NaN  NaN                   NaN   \n                 5                 NaN  NaN  NaN  NaN                   NaN   \ngradient_descent 1                 NaN  NaN  NaN  NaN                   NaN   \n                 2                 NaN  NaN  NaN  NaN                   NaN   \n                 3                 NaN  NaN  NaN  NaN                   NaN   \n                 4                 NaN  NaN  NaN  NaN                   NaN   \n                 5                 NaN  NaN  NaN  NaN                   NaN   \n\n                         ... gate count      num_fun_calls                 \\\n                    std  ...        min  max          mean  std  min  max   \nalgorithm        p       ...                                                \ntdvp             1  NaN  ...        NaN  NaN           NaN  NaN  NaN  NaN   \n                 2  NaN  ...        NaN  NaN           NaN  NaN  NaN  NaN   \n                 3  NaN  ...        NaN  NaN           NaN  NaN  NaN  NaN   \n                 4  NaN  ...        NaN  NaN           NaN  NaN  NaN  NaN   \n                 5  NaN  ...        NaN  NaN           NaN  NaN  NaN  NaN   \nscipy            1  NaN  ...        NaN  NaN           NaN  NaN  NaN  NaN   \n                 2  NaN  ...        NaN  NaN           NaN  NaN  NaN  NaN   \n                 3  NaN  ...        NaN  NaN           NaN  NaN  NaN  NaN   \n                 4  NaN  ...        NaN  NaN           NaN  NaN  NaN  NaN   \n                 5  NaN  ...        NaN  NaN           NaN  NaN  NaN  NaN   \ngradient_descent 1  NaN  ...        NaN  NaN           NaN  NaN  NaN  NaN   \n                 2  NaN  ...        NaN  NaN           NaN  NaN  NaN  NaN   \n                 3  NaN  ...        NaN  NaN           NaN  NaN  NaN  NaN   \n                 4  NaN  ...        NaN  NaN           NaN  NaN  NaN  NaN   \n                 5  NaN  ...        NaN  NaN           NaN  NaN  NaN  NaN   \n\n                   steps                 \n                    mean  std  min  max  \nalgorithm        p                       \ntdvp             1   NaN  NaN  NaN  NaN  \n                 2   NaN  NaN  NaN  NaN  \n                 3   NaN  NaN  NaN  NaN  \n                 4   NaN  NaN  NaN  NaN  \n                 5   NaN  NaN  NaN  NaN  \nscipy            1   NaN  NaN  NaN  NaN  \n                 2   NaN  NaN  NaN  NaN  \n                 3   NaN  NaN  NaN  NaN  \n                 4   NaN  NaN  NaN  NaN  \n                 5   NaN  NaN  NaN  NaN  \ngradient_descent 1   NaN  NaN  NaN  NaN  \n                 2   NaN  NaN  NaN  NaN  \n                 3   NaN  NaN  NaN  NaN  \n                 4   NaN  NaN  NaN  NaN  \n                 5   NaN  NaN  NaN  NaN  \n\n[15 rows x 32 columns]",
      "text/html": "<div>\n<style scoped>\n    .dataframe tbody tr th:only-of-type {\n        vertical-align: middle;\n    }\n\n    .dataframe tbody tr th {\n        vertical-align: top;\n    }\n\n    .dataframe thead tr th {\n        text-align: left;\n    }\n\n    .dataframe thead tr:last-of-type th {\n        text-align: right;\n    }\n</style>\n<table border=\"1\" class=\"dataframe\">\n  <thead>\n    <tr>\n      <th></th>\n      <th></th>\n      <th colspan=\"4\" halign=\"left\">expectation approximation ratio</th>\n      <th colspan=\"4\" halign=\"left\">groundspace overlap</th>\n      <th colspan=\"2\" halign=\"left\">groundspace sharpness</th>\n      <th>...</th>\n      <th colspan=\"2\" halign=\"left\">gate count</th>\n      <th colspan=\"4\" halign=\"left\">num_fun_calls</th>\n      <th colspan=\"4\" halign=\"left\">steps</th>\n    </tr>\n    <tr>\n      <th></th>\n      <th></th>\n      <th>mean</th>\n      <th>std</th>\n      <th>min</th>\n      <th>max</th>\n      <th>mean</th>\n      <th>std</th>\n      <th>min</th>\n      <th>max</th>\n      <th>mean</th>\n      <th>std</th>\n      <th>...</th>\n      <th>min</th>\n      <th>max</th>\n      <th>mean</th>\n      <th>std</th>\n      <th>min</th>\n      <th>max</th>\n      <th>mean</th>\n      <th>std</th>\n      <th>min</th>\n      <th>max</th>\n    </tr>\n    <tr>\n      <th>algorithm</th>\n      <th>p</th>\n      <th></th>\n      <th></th>\n      <th></th>\n      <th></th>\n      <th></th>\n      <th></th>\n      <th></th>\n      <th></th>\n      <th></th>\n      <th></th>\n      <th></th>\n      <th></th>\n      <th></th>\n      <th></th>\n      <th></th>\n      <th></th>\n      <th></th>\n      <th></th>\n      <th></th>\n      <th></th>\n      <th></th>\n    </tr>\n  </thead>\n  <tbody>\n    <tr>\n      <th rowspan=\"5\" valign=\"top\">tdvp</th>\n      <th>1</th>\n      <td>NaN</td>\n      <td>NaN</td>\n      <td>NaN</td>\n      <td>NaN</td>\n      <td>NaN</td>\n      <td>NaN</td>\n      <td>NaN</td>\n      <td>NaN</td>\n      <td>NaN</td>\n      <td>NaN</td>\n      <td>...</td>\n      <td>NaN</td>\n      <td>NaN</td>\n      <td>NaN</td>\n      <td>NaN</td>\n      <td>NaN</td>\n      <td>NaN</td>\n      <td>NaN</td>\n      <td>NaN</td>\n      <td>NaN</td>\n      <td>NaN</td>\n    </tr>\n    <tr>\n      <th>2</th>\n      <td>NaN</td>\n      <td>NaN</td>\n      <td>NaN</td>\n      <td>NaN</td>\n      <td>NaN</td>\n      <td>NaN</td>\n      <td>NaN</td>\n      <td>NaN</td>\n      <td>NaN</td>\n      <td>NaN</td>\n      <td>...</td>\n      <td>NaN</td>\n      <td>NaN</td>\n      <td>NaN</td>\n      <td>NaN</td>\n      <td>NaN</td>\n      <td>NaN</td>\n      <td>NaN</td>\n      <td>NaN</td>\n      <td>NaN</td>\n      <td>NaN</td>\n    </tr>\n    <tr>\n      <th>3</th>\n      <td>NaN</td>\n      <td>NaN</td>\n      <td>NaN</td>\n      <td>NaN</td>\n      <td>NaN</td>\n      <td>NaN</td>\n      <td>NaN</td>\n      <td>NaN</td>\n      <td>NaN</td>\n      <td>NaN</td>\n      <td>...</td>\n      <td>NaN</td>\n      <td>NaN</td>\n      <td>NaN</td>\n      <td>NaN</td>\n      <td>NaN</td>\n      <td>NaN</td>\n      <td>NaN</td>\n      <td>NaN</td>\n      <td>NaN</td>\n      <td>NaN</td>\n    </tr>\n    <tr>\n      <th>4</th>\n      <td>NaN</td>\n      <td>NaN</td>\n      <td>NaN</td>\n      <td>NaN</td>\n      <td>NaN</td>\n      <td>NaN</td>\n      <td>NaN</td>\n      <td>NaN</td>\n      <td>NaN</td>\n      <td>NaN</td>\n      <td>...</td>\n      <td>NaN</td>\n      <td>NaN</td>\n      <td>NaN</td>\n      <td>NaN</td>\n      <td>NaN</td>\n      <td>NaN</td>\n      <td>NaN</td>\n      <td>NaN</td>\n      <td>NaN</td>\n      <td>NaN</td>\n    </tr>\n    <tr>\n      <th>5</th>\n      <td>NaN</td>\n      <td>NaN</td>\n      <td>NaN</td>\n      <td>NaN</td>\n      <td>NaN</td>\n      <td>NaN</td>\n      <td>NaN</td>\n      <td>NaN</td>\n      <td>NaN</td>\n      <td>NaN</td>\n      <td>...</td>\n      <td>NaN</td>\n      <td>NaN</td>\n      <td>NaN</td>\n      <td>NaN</td>\n      <td>NaN</td>\n      <td>NaN</td>\n      <td>NaN</td>\n      <td>NaN</td>\n      <td>NaN</td>\n      <td>NaN</td>\n    </tr>\n    <tr>\n      <th rowspan=\"5\" valign=\"top\">scipy</th>\n      <th>1</th>\n      <td>NaN</td>\n      <td>NaN</td>\n      <td>NaN</td>\n      <td>NaN</td>\n      <td>NaN</td>\n      <td>NaN</td>\n      <td>NaN</td>\n      <td>NaN</td>\n      <td>NaN</td>\n      <td>NaN</td>\n      <td>...</td>\n      <td>NaN</td>\n      <td>NaN</td>\n      <td>NaN</td>\n      <td>NaN</td>\n      <td>NaN</td>\n      <td>NaN</td>\n      <td>NaN</td>\n      <td>NaN</td>\n      <td>NaN</td>\n      <td>NaN</td>\n    </tr>\n    <tr>\n      <th>2</th>\n      <td>NaN</td>\n      <td>NaN</td>\n      <td>NaN</td>\n      <td>NaN</td>\n      <td>NaN</td>\n      <td>NaN</td>\n      <td>NaN</td>\n      <td>NaN</td>\n      <td>NaN</td>\n      <td>NaN</td>\n      <td>...</td>\n      <td>NaN</td>\n      <td>NaN</td>\n      <td>NaN</td>\n      <td>NaN</td>\n      <td>NaN</td>\n      <td>NaN</td>\n      <td>NaN</td>\n      <td>NaN</td>\n      <td>NaN</td>\n      <td>NaN</td>\n    </tr>\n    <tr>\n      <th>3</th>\n      <td>NaN</td>\n      <td>NaN</td>\n      <td>NaN</td>\n      <td>NaN</td>\n      <td>NaN</td>\n      <td>NaN</td>\n      <td>NaN</td>\n      <td>NaN</td>\n      <td>NaN</td>\n      <td>NaN</td>\n      <td>...</td>\n      <td>NaN</td>\n      <td>NaN</td>\n      <td>NaN</td>\n      <td>NaN</td>\n      <td>NaN</td>\n      <td>NaN</td>\n      <td>NaN</td>\n      <td>NaN</td>\n      <td>NaN</td>\n      <td>NaN</td>\n    </tr>\n    <tr>\n      <th>4</th>\n      <td>NaN</td>\n      <td>NaN</td>\n      <td>NaN</td>\n      <td>NaN</td>\n      <td>NaN</td>\n      <td>NaN</td>\n      <td>NaN</td>\n      <td>NaN</td>\n      <td>NaN</td>\n      <td>NaN</td>\n      <td>...</td>\n      <td>NaN</td>\n      <td>NaN</td>\n      <td>NaN</td>\n      <td>NaN</td>\n      <td>NaN</td>\n      <td>NaN</td>\n      <td>NaN</td>\n      <td>NaN</td>\n      <td>NaN</td>\n      <td>NaN</td>\n    </tr>\n    <tr>\n      <th>5</th>\n      <td>NaN</td>\n      <td>NaN</td>\n      <td>NaN</td>\n      <td>NaN</td>\n      <td>NaN</td>\n      <td>NaN</td>\n      <td>NaN</td>\n      <td>NaN</td>\n      <td>NaN</td>\n      <td>NaN</td>\n      <td>...</td>\n      <td>NaN</td>\n      <td>NaN</td>\n      <td>NaN</td>\n      <td>NaN</td>\n      <td>NaN</td>\n      <td>NaN</td>\n      <td>NaN</td>\n      <td>NaN</td>\n      <td>NaN</td>\n      <td>NaN</td>\n    </tr>\n    <tr>\n      <th rowspan=\"5\" valign=\"top\">gradient_descent</th>\n      <th>1</th>\n      <td>NaN</td>\n      <td>NaN</td>\n      <td>NaN</td>\n      <td>NaN</td>\n      <td>NaN</td>\n      <td>NaN</td>\n      <td>NaN</td>\n      <td>NaN</td>\n      <td>NaN</td>\n      <td>NaN</td>\n      <td>...</td>\n      <td>NaN</td>\n      <td>NaN</td>\n      <td>NaN</td>\n      <td>NaN</td>\n      <td>NaN</td>\n      <td>NaN</td>\n      <td>NaN</td>\n      <td>NaN</td>\n      <td>NaN</td>\n      <td>NaN</td>\n    </tr>\n    <tr>\n      <th>2</th>\n      <td>NaN</td>\n      <td>NaN</td>\n      <td>NaN</td>\n      <td>NaN</td>\n      <td>NaN</td>\n      <td>NaN</td>\n      <td>NaN</td>\n      <td>NaN</td>\n      <td>NaN</td>\n      <td>NaN</td>\n      <td>...</td>\n      <td>NaN</td>\n      <td>NaN</td>\n      <td>NaN</td>\n      <td>NaN</td>\n      <td>NaN</td>\n      <td>NaN</td>\n      <td>NaN</td>\n      <td>NaN</td>\n      <td>NaN</td>\n      <td>NaN</td>\n    </tr>\n    <tr>\n      <th>3</th>\n      <td>NaN</td>\n      <td>NaN</td>\n      <td>NaN</td>\n      <td>NaN</td>\n      <td>NaN</td>\n      <td>NaN</td>\n      <td>NaN</td>\n      <td>NaN</td>\n      <td>NaN</td>\n      <td>NaN</td>\n      <td>...</td>\n      <td>NaN</td>\n      <td>NaN</td>\n      <td>NaN</td>\n      <td>NaN</td>\n      <td>NaN</td>\n      <td>NaN</td>\n      <td>NaN</td>\n      <td>NaN</td>\n      <td>NaN</td>\n      <td>NaN</td>\n    </tr>\n    <tr>\n      <th>4</th>\n      <td>NaN</td>\n      <td>NaN</td>\n      <td>NaN</td>\n      <td>NaN</td>\n      <td>NaN</td>\n      <td>NaN</td>\n      <td>NaN</td>\n      <td>NaN</td>\n      <td>NaN</td>\n      <td>NaN</td>\n      <td>...</td>\n      <td>NaN</td>\n      <td>NaN</td>\n      <td>NaN</td>\n      <td>NaN</td>\n      <td>NaN</td>\n      <td>NaN</td>\n      <td>NaN</td>\n      <td>NaN</td>\n      <td>NaN</td>\n      <td>NaN</td>\n    </tr>\n    <tr>\n      <th>5</th>\n      <td>NaN</td>\n      <td>NaN</td>\n      <td>NaN</td>\n      <td>NaN</td>\n      <td>NaN</td>\n      <td>NaN</td>\n      <td>NaN</td>\n      <td>NaN</td>\n      <td>NaN</td>\n      <td>NaN</td>\n      <td>...</td>\n      <td>NaN</td>\n      <td>NaN</td>\n      <td>NaN</td>\n      <td>NaN</td>\n      <td>NaN</td>\n      <td>NaN</td>\n      <td>NaN</td>\n      <td>NaN</td>\n      <td>NaN</td>\n      <td>NaN</td>\n    </tr>\n  </tbody>\n</table>\n<p>15 rows × 32 columns</p>\n</div>"
     },
     "execution_count": 40,
     "metadata": {},
     "output_type": "execute_result"
    }
   ],
   "source": [
    "min_p = min(df.index, key= lambda x: x[0])[0]\n",
    "max_p = max(df.index, key= lambda x: x[0])[0]\n",
    "\n",
    "algs = ['tdvp', 'scipy', 'gradient_descent']\n",
    "index = pd.MultiIndex.from_product([algs,range(min_p, max_p+1)], names=['algorithm', 'p'])\n",
    "\n",
    "measures = ['expectation approximation ratio', 'groundspace overlap', 'groundspace sharpness', 'approximation ratio', 'circuit count', 'gate count', 'num_fun_calls', 'steps']\n",
    "types = ['mean', 'std','min','max', ]\n",
    "measure_index=pd.MultiIndex.from_product([measures, types])\n",
    "\n",
    "stat = pd.DataFrame(index=index, columns=measure_index);stat"
   ],
   "metadata": {
    "collapsed": false
   }
  },
  {
   "cell_type": "code",
   "execution_count": 41,
   "outputs": [],
   "source": [
    "def compute_statistics(stat_row:pd.Series, data:pd.DataFrame):\n",
    "    # LOOP THROUGH ALL STATISTICS\n",
    "    algo, p = stat_row.name\n",
    "    for meas, _ in stat_row.index:\n",
    "        # get measure for all instances of one p and one algo\n",
    "        data_meas:pd.Series = data.xs(p, level='p')[algo].apply(lambda res: res[meas])\n",
    "        stat_row[meas,'mean'] = data_meas.mean()\n",
    "        stat_row[meas,'std'] = data_meas.std()\n",
    "        stat_row[meas,'min'] = data_meas.min()\n",
    "        stat_row[meas,'max'] = data_meas.max()\n",
    "    return stat_row"
   ],
   "metadata": {
    "collapsed": false
   }
  },
  {
   "cell_type": "code",
   "execution_count": null,
   "outputs": [],
   "source": [
    "compute_statistics(stat.loc['scipy',3], df)"
   ],
   "metadata": {
    "collapsed": false
   }
  },
  {
   "cell_type": "markdown",
   "source": [
    "## Save the processed data"
   ],
   "metadata": {
    "collapsed": false
   }
  },
  {
   "cell_type": "code",
   "execution_count": 44,
   "outputs": [
    {
     "data": {
      "text/plain": "Pandas Apply:   0%|          | 0/15 [00:00<?, ?it/s]",
      "application/vnd.jupyter.widget-view+json": {
       "version_major": 2,
       "version_minor": 0,
       "model_id": "0041369d889c42c18374922e609d970b"
      }
     },
     "metadata": {},
     "output_type": "display_data"
    },
    {
     "name": "stdout",
     "output_type": "stream",
     "text": [
      "tdvp 1\n",
      "tdvp 2\n",
      "tdvp 3\n",
      "tdvp 4\n",
      "tdvp 5\n",
      "scipy 1\n",
      "scipy 2\n",
      "scipy 3\n",
      "scipy 4\n",
      "scipy 5\n",
      "gradient_descent 1\n",
      "gradient_descent 2\n",
      "gradient_descent 3\n",
      "gradient_descent 4\n",
      "gradient_descent 5\n"
     ]
    },
    {
     "data": {
      "text/plain": "                   expectation approximation ratio                      \\\n                                              mean       std       min   \nalgorithm        p                                                       \ntdvp             1                        0.555697  0.320149  0.133846   \n                 2                        0.914538  0.023949  0.873142   \n                 3                        0.926812  0.027653  0.895857   \n                 4                        0.943432  0.049538  0.869999   \n                 5                        0.969683  0.032257  0.935768   \nscipy            1                        0.578786  0.215603  0.322760   \n                 2                        0.850797  0.141596  0.562920   \n                 3                        0.880351  0.073960  0.760516   \n                 4                        0.832498  0.142717  0.623810   \n                 5                        0.941948  0.074239  0.821507   \ngradient_descent 1                             NaN       NaN       NaN   \n                 2                             NaN       NaN       NaN   \n                 3                             NaN       NaN       NaN   \n                 4                             NaN       NaN       NaN   \n                 5                             NaN       NaN       NaN   \n\n                             groundspace overlap                      \\\n                         max                mean       std       min   \nalgorithm        p                                                     \ntdvp             1  0.963225            0.464344  0.373130  0.019871   \n                 2  0.947408            0.895209  0.049664  0.831052   \n                 3  0.966206            0.866436  0.068250  0.795922   \n                 4  0.974706            0.930693  0.062414  0.843536   \n                 5  0.999978            0.960623  0.048394  0.906591   \nscipy            1  0.795440            0.385312  0.334051  0.015630   \n                 2  0.918540            0.786808  0.231791  0.335994   \n                 3  0.973016            0.816939  0.087629  0.752143   \n                 4  0.981445            0.681178  0.360276  0.043834   \n                 5  0.995812            0.910507  0.117591  0.735778   \ngradient_descent 1       NaN                 NaN       NaN       NaN   \n                 2       NaN                 NaN       NaN       NaN   \n                 3       NaN                 NaN       NaN       NaN   \n                 4       NaN                 NaN       NaN       NaN   \n                 5       NaN                 NaN       NaN       NaN   \n\n                             groundspace sharpness            ...  \\\n                         max                  mean       std  ...   \nalgorithm        p                                            ...   \ntdvp             1  0.962394              0.331865  0.164583  ...   \n                 2  0.943499              0.297600  0.061860  ...   \n                 3  0.967577              0.324697  0.090627  ...   \n                 4  0.977556              0.232359  0.100608  ...   \n                 5  0.999983              0.150136  0.143481  ...   \nscipy            1  0.792068              0.346479  0.169024  ...   \n                 2  0.946846              0.338920  0.098601  ...   \n                 3  0.968308              0.366746  0.101873  ...   \n                 4  0.980620              0.308058  0.130118  ...   \n                 5  0.996740              0.214588  0.169398  ...   \ngradient_descent 1       NaN                   NaN       NaN  ...   \n                 2       NaN                   NaN       NaN  ...   \n                 3       NaN                   NaN       NaN  ...   \n                 4       NaN                   NaN       NaN  ...   \n                 5       NaN                   NaN       NaN  ...   \n\n                      gate count               num_fun_calls               \\\n                             min           max          mean          std   \nalgorithm        p                                                          \ntdvp             1  1.069340e+06  1.938870e+06     55.000000     7.014271   \n                 2  1.101945e+07  1.254455e+08    194.000000   203.399115   \n                 3  3.665482e+07  1.293696e+09    548.666667  1003.912081   \n                 4  1.450715e+08  2.956321e+08     83.333333    71.079298   \n                 5  5.209588e+08  4.559181e+09    370.000000   621.564478   \nscipy            1  1.848000e+03  3.808000e+03     22.500000     3.619392   \n                 2  4.608000e+03  1.310400e+04     74.666667    33.152174   \n                 3  5.824000e+03  1.851200e+04     96.000000    52.664979   \n                 4  1.108800e+04  1.779200e+04    102.166667    23.250090   \n                 5  1.394400e+04  4.032000e+04    156.833333    91.750568   \ngradient_descent 1           NaN           NaN           NaN          NaN   \n                 2           NaN           NaN           NaN          NaN   \n                 3           NaN           NaN           NaN          NaN   \n                 4           NaN           NaN           NaN          NaN   \n                 5           NaN           NaN           NaN          NaN   \n\n                                       steps                              \n                     min     max        mean          std    min     max  \nalgorithm        p                                                        \ntdvp             1  44.0    62.0   75.666667     7.312090   62.0    82.0  \n                 2  56.0   602.0  235.000000   232.458168   79.0   701.0  \n                 3   0.0  2588.0  774.600000  1247.291987   85.0  3000.0  \n                 4   0.0   182.0  157.000000    45.731098  126.0   225.0  \n                 5   0.0  1574.0  850.000000   826.339519  179.0  1773.0  \nscipy            1  19.0    27.0   22.500000     3.619392   19.0    27.0  \n                 2  35.0   116.0   74.666667    33.152174   35.0   116.0  \n                 3  54.0   177.0   96.000000    52.664979   54.0   177.0  \n                 4  79.0   138.0  102.166667    23.250090   79.0   138.0  \n                 5  82.0   335.0  156.833333    91.750568   82.0   335.0  \ngradient_descent 1   NaN     NaN         NaN          NaN    NaN     NaN  \n                 2   NaN     NaN         NaN          NaN    NaN     NaN  \n                 3   NaN     NaN         NaN          NaN    NaN     NaN  \n                 4   NaN     NaN         NaN          NaN    NaN     NaN  \n                 5   NaN     NaN         NaN          NaN    NaN     NaN  \n\n[15 rows x 32 columns]",
      "text/html": "<div>\n<style scoped>\n    .dataframe tbody tr th:only-of-type {\n        vertical-align: middle;\n    }\n\n    .dataframe tbody tr th {\n        vertical-align: top;\n    }\n\n    .dataframe thead tr th {\n        text-align: left;\n    }\n\n    .dataframe thead tr:last-of-type th {\n        text-align: right;\n    }\n</style>\n<table border=\"1\" class=\"dataframe\">\n  <thead>\n    <tr>\n      <th></th>\n      <th></th>\n      <th colspan=\"4\" halign=\"left\">expectation approximation ratio</th>\n      <th colspan=\"4\" halign=\"left\">groundspace overlap</th>\n      <th colspan=\"2\" halign=\"left\">groundspace sharpness</th>\n      <th>...</th>\n      <th colspan=\"2\" halign=\"left\">gate count</th>\n      <th colspan=\"4\" halign=\"left\">num_fun_calls</th>\n      <th colspan=\"4\" halign=\"left\">steps</th>\n    </tr>\n    <tr>\n      <th></th>\n      <th></th>\n      <th>mean</th>\n      <th>std</th>\n      <th>min</th>\n      <th>max</th>\n      <th>mean</th>\n      <th>std</th>\n      <th>min</th>\n      <th>max</th>\n      <th>mean</th>\n      <th>std</th>\n      <th>...</th>\n      <th>min</th>\n      <th>max</th>\n      <th>mean</th>\n      <th>std</th>\n      <th>min</th>\n      <th>max</th>\n      <th>mean</th>\n      <th>std</th>\n      <th>min</th>\n      <th>max</th>\n    </tr>\n    <tr>\n      <th>algorithm</th>\n      <th>p</th>\n      <th></th>\n      <th></th>\n      <th></th>\n      <th></th>\n      <th></th>\n      <th></th>\n      <th></th>\n      <th></th>\n      <th></th>\n      <th></th>\n      <th></th>\n      <th></th>\n      <th></th>\n      <th></th>\n      <th></th>\n      <th></th>\n      <th></th>\n      <th></th>\n      <th></th>\n      <th></th>\n      <th></th>\n    </tr>\n  </thead>\n  <tbody>\n    <tr>\n      <th rowspan=\"5\" valign=\"top\">tdvp</th>\n      <th>1</th>\n      <td>0.555697</td>\n      <td>0.320149</td>\n      <td>0.133846</td>\n      <td>0.963225</td>\n      <td>0.464344</td>\n      <td>0.373130</td>\n      <td>0.019871</td>\n      <td>0.962394</td>\n      <td>0.331865</td>\n      <td>0.164583</td>\n      <td>...</td>\n      <td>1.069340e+06</td>\n      <td>1.938870e+06</td>\n      <td>55.000000</td>\n      <td>7.014271</td>\n      <td>44.0</td>\n      <td>62.0</td>\n      <td>75.666667</td>\n      <td>7.312090</td>\n      <td>62.0</td>\n      <td>82.0</td>\n    </tr>\n    <tr>\n      <th>2</th>\n      <td>0.914538</td>\n      <td>0.023949</td>\n      <td>0.873142</td>\n      <td>0.947408</td>\n      <td>0.895209</td>\n      <td>0.049664</td>\n      <td>0.831052</td>\n      <td>0.943499</td>\n      <td>0.297600</td>\n      <td>0.061860</td>\n      <td>...</td>\n      <td>1.101945e+07</td>\n      <td>1.254455e+08</td>\n      <td>194.000000</td>\n      <td>203.399115</td>\n      <td>56.0</td>\n      <td>602.0</td>\n      <td>235.000000</td>\n      <td>232.458168</td>\n      <td>79.0</td>\n      <td>701.0</td>\n    </tr>\n    <tr>\n      <th>3</th>\n      <td>0.926812</td>\n      <td>0.027653</td>\n      <td>0.895857</td>\n      <td>0.966206</td>\n      <td>0.866436</td>\n      <td>0.068250</td>\n      <td>0.795922</td>\n      <td>0.967577</td>\n      <td>0.324697</td>\n      <td>0.090627</td>\n      <td>...</td>\n      <td>3.665482e+07</td>\n      <td>1.293696e+09</td>\n      <td>548.666667</td>\n      <td>1003.912081</td>\n      <td>0.0</td>\n      <td>2588.0</td>\n      <td>774.600000</td>\n      <td>1247.291987</td>\n      <td>85.0</td>\n      <td>3000.0</td>\n    </tr>\n    <tr>\n      <th>4</th>\n      <td>0.943432</td>\n      <td>0.049538</td>\n      <td>0.869999</td>\n      <td>0.974706</td>\n      <td>0.930693</td>\n      <td>0.062414</td>\n      <td>0.843536</td>\n      <td>0.977556</td>\n      <td>0.232359</td>\n      <td>0.100608</td>\n      <td>...</td>\n      <td>1.450715e+08</td>\n      <td>2.956321e+08</td>\n      <td>83.333333</td>\n      <td>71.079298</td>\n      <td>0.0</td>\n      <td>182.0</td>\n      <td>157.000000</td>\n      <td>45.731098</td>\n      <td>126.0</td>\n      <td>225.0</td>\n    </tr>\n    <tr>\n      <th>5</th>\n      <td>0.969683</td>\n      <td>0.032257</td>\n      <td>0.935768</td>\n      <td>0.999978</td>\n      <td>0.960623</td>\n      <td>0.048394</td>\n      <td>0.906591</td>\n      <td>0.999983</td>\n      <td>0.150136</td>\n      <td>0.143481</td>\n      <td>...</td>\n      <td>5.209588e+08</td>\n      <td>4.559181e+09</td>\n      <td>370.000000</td>\n      <td>621.564478</td>\n      <td>0.0</td>\n      <td>1574.0</td>\n      <td>850.000000</td>\n      <td>826.339519</td>\n      <td>179.0</td>\n      <td>1773.0</td>\n    </tr>\n    <tr>\n      <th rowspan=\"5\" valign=\"top\">scipy</th>\n      <th>1</th>\n      <td>0.578786</td>\n      <td>0.215603</td>\n      <td>0.322760</td>\n      <td>0.795440</td>\n      <td>0.385312</td>\n      <td>0.334051</td>\n      <td>0.015630</td>\n      <td>0.792068</td>\n      <td>0.346479</td>\n      <td>0.169024</td>\n      <td>...</td>\n      <td>1.848000e+03</td>\n      <td>3.808000e+03</td>\n      <td>22.500000</td>\n      <td>3.619392</td>\n      <td>19.0</td>\n      <td>27.0</td>\n      <td>22.500000</td>\n      <td>3.619392</td>\n      <td>19.0</td>\n      <td>27.0</td>\n    </tr>\n    <tr>\n      <th>2</th>\n      <td>0.850797</td>\n      <td>0.141596</td>\n      <td>0.562920</td>\n      <td>0.918540</td>\n      <td>0.786808</td>\n      <td>0.231791</td>\n      <td>0.335994</td>\n      <td>0.946846</td>\n      <td>0.338920</td>\n      <td>0.098601</td>\n      <td>...</td>\n      <td>4.608000e+03</td>\n      <td>1.310400e+04</td>\n      <td>74.666667</td>\n      <td>33.152174</td>\n      <td>35.0</td>\n      <td>116.0</td>\n      <td>74.666667</td>\n      <td>33.152174</td>\n      <td>35.0</td>\n      <td>116.0</td>\n    </tr>\n    <tr>\n      <th>3</th>\n      <td>0.880351</td>\n      <td>0.073960</td>\n      <td>0.760516</td>\n      <td>0.973016</td>\n      <td>0.816939</td>\n      <td>0.087629</td>\n      <td>0.752143</td>\n      <td>0.968308</td>\n      <td>0.366746</td>\n      <td>0.101873</td>\n      <td>...</td>\n      <td>5.824000e+03</td>\n      <td>1.851200e+04</td>\n      <td>96.000000</td>\n      <td>52.664979</td>\n      <td>54.0</td>\n      <td>177.0</td>\n      <td>96.000000</td>\n      <td>52.664979</td>\n      <td>54.0</td>\n      <td>177.0</td>\n    </tr>\n    <tr>\n      <th>4</th>\n      <td>0.832498</td>\n      <td>0.142717</td>\n      <td>0.623810</td>\n      <td>0.981445</td>\n      <td>0.681178</td>\n      <td>0.360276</td>\n      <td>0.043834</td>\n      <td>0.980620</td>\n      <td>0.308058</td>\n      <td>0.130118</td>\n      <td>...</td>\n      <td>1.108800e+04</td>\n      <td>1.779200e+04</td>\n      <td>102.166667</td>\n      <td>23.250090</td>\n      <td>79.0</td>\n      <td>138.0</td>\n      <td>102.166667</td>\n      <td>23.250090</td>\n      <td>79.0</td>\n      <td>138.0</td>\n    </tr>\n    <tr>\n      <th>5</th>\n      <td>0.941948</td>\n      <td>0.074239</td>\n      <td>0.821507</td>\n      <td>0.995812</td>\n      <td>0.910507</td>\n      <td>0.117591</td>\n      <td>0.735778</td>\n      <td>0.996740</td>\n      <td>0.214588</td>\n      <td>0.169398</td>\n      <td>...</td>\n      <td>1.394400e+04</td>\n      <td>4.032000e+04</td>\n      <td>156.833333</td>\n      <td>91.750568</td>\n      <td>82.0</td>\n      <td>335.0</td>\n      <td>156.833333</td>\n      <td>91.750568</td>\n      <td>82.0</td>\n      <td>335.0</td>\n    </tr>\n    <tr>\n      <th rowspan=\"5\" valign=\"top\">gradient_descent</th>\n      <th>1</th>\n      <td>NaN</td>\n      <td>NaN</td>\n      <td>NaN</td>\n      <td>NaN</td>\n      <td>NaN</td>\n      <td>NaN</td>\n      <td>NaN</td>\n      <td>NaN</td>\n      <td>NaN</td>\n      <td>NaN</td>\n      <td>...</td>\n      <td>NaN</td>\n      <td>NaN</td>\n      <td>NaN</td>\n      <td>NaN</td>\n      <td>NaN</td>\n      <td>NaN</td>\n      <td>NaN</td>\n      <td>NaN</td>\n      <td>NaN</td>\n      <td>NaN</td>\n    </tr>\n    <tr>\n      <th>2</th>\n      <td>NaN</td>\n      <td>NaN</td>\n      <td>NaN</td>\n      <td>NaN</td>\n      <td>NaN</td>\n      <td>NaN</td>\n      <td>NaN</td>\n      <td>NaN</td>\n      <td>NaN</td>\n      <td>NaN</td>\n      <td>...</td>\n      <td>NaN</td>\n      <td>NaN</td>\n      <td>NaN</td>\n      <td>NaN</td>\n      <td>NaN</td>\n      <td>NaN</td>\n      <td>NaN</td>\n      <td>NaN</td>\n      <td>NaN</td>\n      <td>NaN</td>\n    </tr>\n    <tr>\n      <th>3</th>\n      <td>NaN</td>\n      <td>NaN</td>\n      <td>NaN</td>\n      <td>NaN</td>\n      <td>NaN</td>\n      <td>NaN</td>\n      <td>NaN</td>\n      <td>NaN</td>\n      <td>NaN</td>\n      <td>NaN</td>\n      <td>...</td>\n      <td>NaN</td>\n      <td>NaN</td>\n      <td>NaN</td>\n      <td>NaN</td>\n      <td>NaN</td>\n      <td>NaN</td>\n      <td>NaN</td>\n      <td>NaN</td>\n      <td>NaN</td>\n      <td>NaN</td>\n    </tr>\n    <tr>\n      <th>4</th>\n      <td>NaN</td>\n      <td>NaN</td>\n      <td>NaN</td>\n      <td>NaN</td>\n      <td>NaN</td>\n      <td>NaN</td>\n      <td>NaN</td>\n      <td>NaN</td>\n      <td>NaN</td>\n      <td>NaN</td>\n      <td>...</td>\n      <td>NaN</td>\n      <td>NaN</td>\n      <td>NaN</td>\n      <td>NaN</td>\n      <td>NaN</td>\n      <td>NaN</td>\n      <td>NaN</td>\n      <td>NaN</td>\n      <td>NaN</td>\n      <td>NaN</td>\n    </tr>\n    <tr>\n      <th>5</th>\n      <td>NaN</td>\n      <td>NaN</td>\n      <td>NaN</td>\n      <td>NaN</td>\n      <td>NaN</td>\n      <td>NaN</td>\n      <td>NaN</td>\n      <td>NaN</td>\n      <td>NaN</td>\n      <td>NaN</td>\n      <td>...</td>\n      <td>NaN</td>\n      <td>NaN</td>\n      <td>NaN</td>\n      <td>NaN</td>\n      <td>NaN</td>\n      <td>NaN</td>\n      <td>NaN</td>\n      <td>NaN</td>\n      <td>NaN</td>\n      <td>NaN</td>\n    </tr>\n  </tbody>\n</table>\n<p>15 rows × 32 columns</p>\n</div>"
     },
     "execution_count": 44,
     "metadata": {},
     "output_type": "execute_result"
    }
   ],
   "source": [
    "stat = stat.swifter.apply(lambda x: compute_statistics(x, df), axis=1)\n",
    "stat"
   ],
   "metadata": {
    "collapsed": false
   }
  },
  {
   "cell_type": "code",
   "execution_count": 46,
   "outputs": [],
   "source": [
    "if True:\n",
    "    # noinspection PyUnreachableCode\n",
    "    with open('.//results//n4_stats.p', 'wb') as file:\n",
    "        pickle.dump(stat, file)\n",
    "\n",
    "    with open('.//results//n4_data.p', 'wb') as file:\n",
    "        pickle.dump(df, file)"
   ],
   "metadata": {
    "collapsed": false
   }
  },
  {
   "cell_type": "markdown",
   "source": [
    "# OLD"
   ],
   "metadata": {
    "collapsed": false
   }
  },
  {
   "cell_type": "code",
   "execution_count": null,
   "metadata": {
    "collapsed": false
   },
   "outputs": [],
   "source": [
    "# # df['groundspace'] = df.swifter.apply(lambda row: groundspace(row.qaoa), axis=1)\n",
    "# # df.insert(3,'groundspace_overlap', df.swifter.apply(lambda row: groundspace_overlap(row['groundspace'], row['final_state']), axis=1))\n",
    "# # df.insert(4, 'groundspace_sharpness', df.swifter.apply(lambda row: groundspace_sharpness(row['groundspace'], row['final_state']), axis=1))\n",
    "# df['steps']\n",
    "# df['circuit_count']= df.swifter.apply(lambda row: circuit_count(row['steps'], row['algorithm'], row['p'], row['n']), axis=1)\n",
    "# df['gate_count'] =df.swifter.apply(lambda row: gate_count(row['steps'], row['algorithm'], row['p'], row['n'],\n",
    "#                                                           row['qaoa']), axis=1)\n",
    "# df['answer'] = df.swifter.apply(lambda row: answer(row['final_state']), axis=1)\n",
    "# df['bin_answer'] = df.swifter.apply(lambda row: bin_answer(row['final_state']), axis=1)\n",
    "# df.insert(3, 'best_cost_value', df.swifter.apply(lambda row: best_cost_value(row['qaoa']), axis=1))\n",
    "# df.insert(3, 'approximation_ratio', df.swifter.apply(lambda row: approximation_ratio(row['bin_answer'],row['best_cost_value'],row['qaoa']), axis=1))\n",
    "# df.insert(3, 'expectation_of_approximation_ratio', df.swifter.apply(lambda row: expectation_of_approximation_ratio(row['final_state'],row['best_cost_value'],row['qaoa']), axis=1))\n",
    "# with open('..//benchmarks//n10_data.p', 'wb') as file:\n",
    "#     pickle.dump(df,file)"
   ]
  },
  {
   "cell_type": "code",
   "execution_count": null,
   "outputs": [],
   "source": [],
   "metadata": {
    "collapsed": false
   }
  }
 ],
 "metadata": {
  "kernelspec": {
   "display_name": "Python 3.10.6 ('qutip-env')",
   "language": "python",
   "name": "python3"
  },
  "language_info": {
   "codemirror_mode": {
    "name": "ipython",
    "version": 3
   },
   "file_extension": ".py",
   "mimetype": "text/x-python",
   "name": "python",
   "nbconvert_exporter": "python",
   "pygments_lexer": "ipython3",
   "version": "3.10.6"
  },
  "orig_nbformat": 4,
  "vscode": {
   "interpreter": {
    "hash": "fe45c953e7d91ced0867b19789acd0ab1d9439aa0b1f4fae31fd46e88f74aeab"
   }
  }
 },
 "nbformat": 4,
 "nbformat_minor": 2
}
