{
 "cells": [
  {
   "cell_type": "code",
   "execution_count": 29,
   "metadata": {},
   "outputs": [],
   "source": [
    "import math \n",
    "import numpy as np\n",
    "from numpy.typing import NDArray\n",
    "import pandas as pd\n",
    "import plotly.express as px\n",
    "import plotly.graph_objects as go\n",
    "import random as rng\n",
    "import networkx as nx\n",
    "import matplotlib.pyplot as plt\n",
    "import pickle\n",
    "from typing import Union, List, Any\n",
    "from qaoa_and_tdvp import QAOA, tdvp_optimize_qaoa, scipy_optimize, QAOAResult, Qobj\n",
    "from MaxCut import MaxCut\n",
    "from itertools import product\n",
    "\n",
    "from qutip import tensor, basis, Qobj, expect, variance\n",
    "from qutip.operators import qeye, sigmax, sigmay, sigmaz\n",
    "from qutip.qip.operations import expand_operator, rz\n",
    "\n",
    "import swifter\n",
    "\n",
    "from benchmark import (\n",
    "    get_all_connected,\n",
    "    get_connected_rn_graph,\n",
    "    get_rn_qubo,\n",
    "    select_if_connected,\n",
    "    Benchmark,\n",
    ")\n",
    "from qutip.parallel import parallel_map, serial_map"
   ]
  },
  {
   "cell_type": "markdown",
   "metadata": {
    "collapsed": false
   },
   "source": [
    "# convert data into DataFrame"
   ]
  },
  {
   "cell_type": "code",
   "execution_count": 30,
   "metadata": {
    "collapsed": false
   },
   "outputs": [],
   "source": [
    "with open('.//results//n5_results.p', 'rb') as file:\n",
    "    df = pickle.load(file)"
   ]
  },
  {
   "cell_type": "code",
   "execution_count": 2,
   "metadata": {
    "collapsed": false
   },
   "outputs": [],
   "source": [
    "# with open('.//results//n4_p1.p','rb') as file:\n",
    "#     df = pickle.load(file)"
   ]
  },
  {
   "cell_type": "code",
   "execution_count": null,
   "metadata": {
    "collapsed": false
   },
   "outputs": [],
   "source": [
    "# with open(\"..//benchmarks//RK45_n10_p-1-5_Delta-1.p\",\"rb\") as file:\n",
    "#     data: Benchmark = pickle.load(file)\n",
    "#\n",
    "# scipy_results = list()\n",
    "# for d in data.results:\n",
    "#     items = d.get(\"tdvp\").__dict__.items()\n",
    "#     for k,v in items:\n",
    "#         d[k]=v\n",
    "#         d[\"algorithm\"] = \"tdvp\"\n",
    "#     d[\"n\"] = d[\"_qaoa\"].n\n",
    "#     dd = d.copy()\n",
    "#     items = dd.get(\"scipy\").__dict__.items()\n",
    "#     for k,v in items:\n",
    "#         dd[k]=v\n",
    "#         dd[\"algorithm\"] = \"scipy\"\n",
    "#     dd[\"n\"] = dd[\"_qaoa\"].n\n",
    "#     scipy_results.append(dd)\n",
    "#\n",
    "# data.results.extend(scipy_results)\n",
    "#\n",
    "# df = pd.DataFrame(data.results)\n",
    "# df.pop(\"tdvp\")\n",
    "# df.pop(\"scipy\")\n",
    "# cols = df.columns.tolist()\n",
    "# cols = cols[-1:] + cols[:-1]\n",
    "# df = df[cols]\n",
    "#\n",
    "# df['steps'] = df.apply(lambda row: int(row['_num_steps']) if row.algorithm==\"tdvp\" else row['_num_fun_calls'], axis=1)\n",
    "#\n",
    "# df.insert(2,\"algorithm\",df.pop(\"algorithm\"))\n",
    "# df.insert(3,\"_optimal_fun_value\",df.pop(\"_optimal_fun_value\"))\n",
    "# df.insert(4,'steps', df.pop('steps'))\n",
    "# df.insert(6,\"_prob\",df.pop(\"_prob\"))\n",
    "#\n",
    "#\n",
    "# df_tdvp = df[df.algorithm.eq(\"tdvp\")]\n",
    "# df_scipy = df[df.algorithm.eq(\"scipy\")]\n",
    "#\n",
    "# df.rename(columns={\"_optimal_fun_value\":\"C\", \"_prob\":\"prob\", '_duration':'duration', '_optimal_state':'final_state', '_optimal_parameters':'final_parameters', '_num_gates':'num_gates','_qaoa':'qaoa'}, inplace=True)"
   ]
  },
  {
   "cell_type": "code",
   "execution_count": 56,
   "metadata": {},
   "outputs": [],
   "source": [
    "er:pd.Series = df['tdvp'].loc[3,2]"
   ]
  },
  {
   "cell_type": "code",
   "execution_count": 59,
   "outputs": [
    {
     "name": "stdout",
     "output_type": "stream",
     "text": [
      "res\n"
     ]
    }
   ],
   "source": [
    "for i in er.index:\n",
    "    try:\n",
    "        er[i].__repr__()\n",
    "    except TypeError:\n",
    "        print(i)"
   ],
   "metadata": {
    "collapsed": false
   }
  },
  {
   "cell_type": "code",
   "execution_count": 62,
   "outputs": [],
   "source": [
    "res :QAOAResult= er.res"
   ],
   "metadata": {
    "collapsed": false
   }
  },
  {
   "cell_type": "code",
   "execution_count": 41,
   "outputs": [
    {
     "ename": "TypeError",
     "evalue": "unsupported format string passed to NoneType.__format__",
     "output_type": "error",
     "traceback": [
      "\u001B[0;31m---------------------------------------------------------------------------\u001B[0m",
      "\u001B[0;31mTypeError\u001B[0m                                 Traceback (most recent call last)",
      "File \u001B[0;32m~/anaconda3/envs/qutip-env/lib/python3.10/site-packages/IPython/core/formatters.py:706\u001B[0m, in \u001B[0;36mPlainTextFormatter.__call__\u001B[0;34m(self, obj)\u001B[0m\n\u001B[1;32m    699\u001B[0m stream \u001B[38;5;241m=\u001B[39m StringIO()\n\u001B[1;32m    700\u001B[0m printer \u001B[38;5;241m=\u001B[39m pretty\u001B[38;5;241m.\u001B[39mRepresentationPrinter(stream, \u001B[38;5;28mself\u001B[39m\u001B[38;5;241m.\u001B[39mverbose,\n\u001B[1;32m    701\u001B[0m     \u001B[38;5;28mself\u001B[39m\u001B[38;5;241m.\u001B[39mmax_width, \u001B[38;5;28mself\u001B[39m\u001B[38;5;241m.\u001B[39mnewline,\n\u001B[1;32m    702\u001B[0m     max_seq_length\u001B[38;5;241m=\u001B[39m\u001B[38;5;28mself\u001B[39m\u001B[38;5;241m.\u001B[39mmax_seq_length,\n\u001B[1;32m    703\u001B[0m     singleton_pprinters\u001B[38;5;241m=\u001B[39m\u001B[38;5;28mself\u001B[39m\u001B[38;5;241m.\u001B[39msingleton_printers,\n\u001B[1;32m    704\u001B[0m     type_pprinters\u001B[38;5;241m=\u001B[39m\u001B[38;5;28mself\u001B[39m\u001B[38;5;241m.\u001B[39mtype_printers,\n\u001B[1;32m    705\u001B[0m     deferred_pprinters\u001B[38;5;241m=\u001B[39m\u001B[38;5;28mself\u001B[39m\u001B[38;5;241m.\u001B[39mdeferred_printers)\n\u001B[0;32m--> 706\u001B[0m \u001B[43mprinter\u001B[49m\u001B[38;5;241;43m.\u001B[39;49m\u001B[43mpretty\u001B[49m\u001B[43m(\u001B[49m\u001B[43mobj\u001B[49m\u001B[43m)\u001B[49m\n\u001B[1;32m    707\u001B[0m printer\u001B[38;5;241m.\u001B[39mflush()\n\u001B[1;32m    708\u001B[0m \u001B[38;5;28;01mreturn\u001B[39;00m stream\u001B[38;5;241m.\u001B[39mgetvalue()\n",
      "File \u001B[0;32m~/anaconda3/envs/qutip-env/lib/python3.10/site-packages/IPython/lib/pretty.py:410\u001B[0m, in \u001B[0;36mRepresentationPrinter.pretty\u001B[0;34m(self, obj)\u001B[0m\n\u001B[1;32m    407\u001B[0m                         \u001B[38;5;28;01mreturn\u001B[39;00m meth(obj, \u001B[38;5;28mself\u001B[39m, cycle)\n\u001B[1;32m    408\u001B[0m                 \u001B[38;5;28;01mif\u001B[39;00m \u001B[38;5;28mcls\u001B[39m \u001B[38;5;129;01mis\u001B[39;00m \u001B[38;5;129;01mnot\u001B[39;00m \u001B[38;5;28mobject\u001B[39m \\\n\u001B[1;32m    409\u001B[0m                         \u001B[38;5;129;01mand\u001B[39;00m callable(\u001B[38;5;28mcls\u001B[39m\u001B[38;5;241m.\u001B[39m\u001B[38;5;18m__dict__\u001B[39m\u001B[38;5;241m.\u001B[39mget(\u001B[38;5;124m'\u001B[39m\u001B[38;5;124m__repr__\u001B[39m\u001B[38;5;124m'\u001B[39m)):\n\u001B[0;32m--> 410\u001B[0m                     \u001B[38;5;28;01mreturn\u001B[39;00m \u001B[43m_repr_pprint\u001B[49m\u001B[43m(\u001B[49m\u001B[43mobj\u001B[49m\u001B[43m,\u001B[49m\u001B[43m \u001B[49m\u001B[38;5;28;43mself\u001B[39;49m\u001B[43m,\u001B[49m\u001B[43m \u001B[49m\u001B[43mcycle\u001B[49m\u001B[43m)\u001B[49m\n\u001B[1;32m    412\u001B[0m     \u001B[38;5;28;01mreturn\u001B[39;00m _default_pprint(obj, \u001B[38;5;28mself\u001B[39m, cycle)\n\u001B[1;32m    413\u001B[0m \u001B[38;5;28;01mfinally\u001B[39;00m:\n",
      "File \u001B[0;32m~/anaconda3/envs/qutip-env/lib/python3.10/site-packages/IPython/lib/pretty.py:778\u001B[0m, in \u001B[0;36m_repr_pprint\u001B[0;34m(obj, p, cycle)\u001B[0m\n\u001B[1;32m    776\u001B[0m \u001B[38;5;124;03m\"\"\"A pprint that just redirects to the normal repr function.\"\"\"\u001B[39;00m\n\u001B[1;32m    777\u001B[0m \u001B[38;5;66;03m# Find newlines and replace them with p.break_()\u001B[39;00m\n\u001B[0;32m--> 778\u001B[0m output \u001B[38;5;241m=\u001B[39m \u001B[38;5;28;43mrepr\u001B[39;49m\u001B[43m(\u001B[49m\u001B[43mobj\u001B[49m\u001B[43m)\u001B[49m\n\u001B[1;32m    779\u001B[0m lines \u001B[38;5;241m=\u001B[39m output\u001B[38;5;241m.\u001B[39msplitlines()\n\u001B[1;32m    780\u001B[0m \u001B[38;5;28;01mwith\u001B[39;00m p\u001B[38;5;241m.\u001B[39mgroup():\n",
      "File \u001B[0;32m~/anaconda3/envs/qutip-env/lib/python3.10/site-packages/pandas/core/frame.py:1062\u001B[0m, in \u001B[0;36mDataFrame.__repr__\u001B[0;34m(self)\u001B[0m\n\u001B[1;32m   1059\u001B[0m     \u001B[38;5;28;01mreturn\u001B[39;00m buf\u001B[38;5;241m.\u001B[39mgetvalue()\n\u001B[1;32m   1061\u001B[0m repr_params \u001B[38;5;241m=\u001B[39m fmt\u001B[38;5;241m.\u001B[39mget_dataframe_repr_params()\n\u001B[0;32m-> 1062\u001B[0m \u001B[38;5;28;01mreturn\u001B[39;00m \u001B[38;5;28;43mself\u001B[39;49m\u001B[38;5;241;43m.\u001B[39;49m\u001B[43mto_string\u001B[49m\u001B[43m(\u001B[49m\u001B[38;5;241;43m*\u001B[39;49m\u001B[38;5;241;43m*\u001B[39;49m\u001B[43mrepr_params\u001B[49m\u001B[43m)\u001B[49m\n",
      "File \u001B[0;32m~/anaconda3/envs/qutip-env/lib/python3.10/site-packages/pandas/core/frame.py:1243\u001B[0m, in \u001B[0;36mDataFrame.to_string\u001B[0;34m(self, buf, columns, col_space, header, index, na_rep, formatters, float_format, sparsify, index_names, justify, max_rows, max_cols, show_dimensions, decimal, line_width, min_rows, max_colwidth, encoding)\u001B[0m\n\u001B[1;32m   1224\u001B[0m \u001B[38;5;28;01mwith\u001B[39;00m option_context(\u001B[38;5;124m\"\u001B[39m\u001B[38;5;124mdisplay.max_colwidth\u001B[39m\u001B[38;5;124m\"\u001B[39m, max_colwidth):\n\u001B[1;32m   1225\u001B[0m     formatter \u001B[38;5;241m=\u001B[39m fmt\u001B[38;5;241m.\u001B[39mDataFrameFormatter(\n\u001B[1;32m   1226\u001B[0m         \u001B[38;5;28mself\u001B[39m,\n\u001B[1;32m   1227\u001B[0m         columns\u001B[38;5;241m=\u001B[39mcolumns,\n\u001B[0;32m   (...)\u001B[0m\n\u001B[1;32m   1241\u001B[0m         decimal\u001B[38;5;241m=\u001B[39mdecimal,\n\u001B[1;32m   1242\u001B[0m     )\n\u001B[0;32m-> 1243\u001B[0m     \u001B[38;5;28;01mreturn\u001B[39;00m \u001B[43mfmt\u001B[49m\u001B[38;5;241;43m.\u001B[39;49m\u001B[43mDataFrameRenderer\u001B[49m\u001B[43m(\u001B[49m\u001B[43mformatter\u001B[49m\u001B[43m)\u001B[49m\u001B[38;5;241;43m.\u001B[39;49m\u001B[43mto_string\u001B[49m\u001B[43m(\u001B[49m\n\u001B[1;32m   1244\u001B[0m \u001B[43m        \u001B[49m\u001B[43mbuf\u001B[49m\u001B[38;5;241;43m=\u001B[39;49m\u001B[43mbuf\u001B[49m\u001B[43m,\u001B[49m\n\u001B[1;32m   1245\u001B[0m \u001B[43m        \u001B[49m\u001B[43mencoding\u001B[49m\u001B[38;5;241;43m=\u001B[39;49m\u001B[43mencoding\u001B[49m\u001B[43m,\u001B[49m\n\u001B[1;32m   1246\u001B[0m \u001B[43m        \u001B[49m\u001B[43mline_width\u001B[49m\u001B[38;5;241;43m=\u001B[39;49m\u001B[43mline_width\u001B[49m\u001B[43m,\u001B[49m\n\u001B[1;32m   1247\u001B[0m \u001B[43m    \u001B[49m\u001B[43m)\u001B[49m\n",
      "File \u001B[0;32m~/anaconda3/envs/qutip-env/lib/python3.10/site-packages/pandas/io/formats/format.py:1136\u001B[0m, in \u001B[0;36mDataFrameRenderer.to_string\u001B[0;34m(self, buf, encoding, line_width)\u001B[0m\n\u001B[1;32m   1133\u001B[0m \u001B[38;5;28;01mfrom\u001B[39;00m \u001B[38;5;21;01mpandas\u001B[39;00m\u001B[38;5;21;01m.\u001B[39;00m\u001B[38;5;21;01mio\u001B[39;00m\u001B[38;5;21;01m.\u001B[39;00m\u001B[38;5;21;01mformats\u001B[39;00m\u001B[38;5;21;01m.\u001B[39;00m\u001B[38;5;21;01mstring\u001B[39;00m \u001B[38;5;28;01mimport\u001B[39;00m StringFormatter\n\u001B[1;32m   1135\u001B[0m string_formatter \u001B[38;5;241m=\u001B[39m StringFormatter(\u001B[38;5;28mself\u001B[39m\u001B[38;5;241m.\u001B[39mfmt, line_width\u001B[38;5;241m=\u001B[39mline_width)\n\u001B[0;32m-> 1136\u001B[0m string \u001B[38;5;241m=\u001B[39m \u001B[43mstring_formatter\u001B[49m\u001B[38;5;241;43m.\u001B[39;49m\u001B[43mto_string\u001B[49m\u001B[43m(\u001B[49m\u001B[43m)\u001B[49m\n\u001B[1;32m   1137\u001B[0m \u001B[38;5;28;01mreturn\u001B[39;00m save_to_buffer(string, buf\u001B[38;5;241m=\u001B[39mbuf, encoding\u001B[38;5;241m=\u001B[39mencoding)\n",
      "File \u001B[0;32m~/anaconda3/envs/qutip-env/lib/python3.10/site-packages/pandas/io/formats/string.py:30\u001B[0m, in \u001B[0;36mStringFormatter.to_string\u001B[0;34m(self)\u001B[0m\n\u001B[1;32m     29\u001B[0m \u001B[38;5;28;01mdef\u001B[39;00m \u001B[38;5;21mto_string\u001B[39m(\u001B[38;5;28mself\u001B[39m) \u001B[38;5;241m-\u001B[39m\u001B[38;5;241m>\u001B[39m \u001B[38;5;28mstr\u001B[39m:\n\u001B[0;32m---> 30\u001B[0m     text \u001B[38;5;241m=\u001B[39m \u001B[38;5;28;43mself\u001B[39;49m\u001B[38;5;241;43m.\u001B[39;49m\u001B[43m_get_string_representation\u001B[49m\u001B[43m(\u001B[49m\u001B[43m)\u001B[49m\n\u001B[1;32m     31\u001B[0m     \u001B[38;5;28;01mif\u001B[39;00m \u001B[38;5;28mself\u001B[39m\u001B[38;5;241m.\u001B[39mfmt\u001B[38;5;241m.\u001B[39mshould_show_dimensions:\n\u001B[1;32m     32\u001B[0m         text \u001B[38;5;241m=\u001B[39m \u001B[38;5;124m\"\u001B[39m\u001B[38;5;124m\"\u001B[39m\u001B[38;5;241m.\u001B[39mjoin([text, \u001B[38;5;28mself\u001B[39m\u001B[38;5;241m.\u001B[39mfmt\u001B[38;5;241m.\u001B[39mdimensions_info])\n",
      "File \u001B[0;32m~/anaconda3/envs/qutip-env/lib/python3.10/site-packages/pandas/io/formats/string.py:45\u001B[0m, in \u001B[0;36mStringFormatter._get_string_representation\u001B[0;34m(self)\u001B[0m\n\u001B[1;32m     42\u001B[0m \u001B[38;5;28;01mif\u001B[39;00m \u001B[38;5;28mself\u001B[39m\u001B[38;5;241m.\u001B[39mfmt\u001B[38;5;241m.\u001B[39mframe\u001B[38;5;241m.\u001B[39mempty:\n\u001B[1;32m     43\u001B[0m     \u001B[38;5;28;01mreturn\u001B[39;00m \u001B[38;5;28mself\u001B[39m\u001B[38;5;241m.\u001B[39m_empty_info_line\n\u001B[0;32m---> 45\u001B[0m strcols \u001B[38;5;241m=\u001B[39m \u001B[38;5;28;43mself\u001B[39;49m\u001B[38;5;241;43m.\u001B[39;49m\u001B[43m_get_strcols\u001B[49m\u001B[43m(\u001B[49m\u001B[43m)\u001B[49m\n\u001B[1;32m     47\u001B[0m \u001B[38;5;28;01mif\u001B[39;00m \u001B[38;5;28mself\u001B[39m\u001B[38;5;241m.\u001B[39mline_width \u001B[38;5;129;01mis\u001B[39;00m \u001B[38;5;28;01mNone\u001B[39;00m:\n\u001B[1;32m     48\u001B[0m     \u001B[38;5;66;03m# no need to wrap around just print the whole frame\u001B[39;00m\n\u001B[1;32m     49\u001B[0m     \u001B[38;5;28;01mreturn\u001B[39;00m \u001B[38;5;28mself\u001B[39m\u001B[38;5;241m.\u001B[39madj\u001B[38;5;241m.\u001B[39madjoin(\u001B[38;5;241m1\u001B[39m, \u001B[38;5;241m*\u001B[39mstrcols)\n",
      "File \u001B[0;32m~/anaconda3/envs/qutip-env/lib/python3.10/site-packages/pandas/io/formats/string.py:36\u001B[0m, in \u001B[0;36mStringFormatter._get_strcols\u001B[0;34m(self)\u001B[0m\n\u001B[1;32m     35\u001B[0m \u001B[38;5;28;01mdef\u001B[39;00m \u001B[38;5;21m_get_strcols\u001B[39m(\u001B[38;5;28mself\u001B[39m) \u001B[38;5;241m-\u001B[39m\u001B[38;5;241m>\u001B[39m \u001B[38;5;28mlist\u001B[39m[\u001B[38;5;28mlist\u001B[39m[\u001B[38;5;28mstr\u001B[39m]]:\n\u001B[0;32m---> 36\u001B[0m     strcols \u001B[38;5;241m=\u001B[39m \u001B[38;5;28;43mself\u001B[39;49m\u001B[38;5;241;43m.\u001B[39;49m\u001B[43mfmt\u001B[49m\u001B[38;5;241;43m.\u001B[39;49m\u001B[43mget_strcols\u001B[49m\u001B[43m(\u001B[49m\u001B[43m)\u001B[49m\n\u001B[1;32m     37\u001B[0m     \u001B[38;5;28;01mif\u001B[39;00m \u001B[38;5;28mself\u001B[39m\u001B[38;5;241m.\u001B[39mfmt\u001B[38;5;241m.\u001B[39mis_truncated:\n\u001B[1;32m     38\u001B[0m         strcols \u001B[38;5;241m=\u001B[39m \u001B[38;5;28mself\u001B[39m\u001B[38;5;241m.\u001B[39m_insert_dot_separators(strcols)\n",
      "File \u001B[0;32m~/anaconda3/envs/qutip-env/lib/python3.10/site-packages/pandas/io/formats/format.py:617\u001B[0m, in \u001B[0;36mDataFrameFormatter.get_strcols\u001B[0;34m(self)\u001B[0m\n\u001B[1;32m    613\u001B[0m \u001B[38;5;28;01mdef\u001B[39;00m \u001B[38;5;21mget_strcols\u001B[39m(\u001B[38;5;28mself\u001B[39m) \u001B[38;5;241m-\u001B[39m\u001B[38;5;241m>\u001B[39m \u001B[38;5;28mlist\u001B[39m[\u001B[38;5;28mlist\u001B[39m[\u001B[38;5;28mstr\u001B[39m]]:\n\u001B[1;32m    614\u001B[0m     \u001B[38;5;124;03m\"\"\"\u001B[39;00m\n\u001B[1;32m    615\u001B[0m \u001B[38;5;124;03m    Render a DataFrame to a list of columns (as lists of strings).\u001B[39;00m\n\u001B[1;32m    616\u001B[0m \u001B[38;5;124;03m    \"\"\"\u001B[39;00m\n\u001B[0;32m--> 617\u001B[0m     strcols \u001B[38;5;241m=\u001B[39m \u001B[38;5;28;43mself\u001B[39;49m\u001B[38;5;241;43m.\u001B[39;49m\u001B[43m_get_strcols_without_index\u001B[49m\u001B[43m(\u001B[49m\u001B[43m)\u001B[49m\n\u001B[1;32m    619\u001B[0m     \u001B[38;5;28;01mif\u001B[39;00m \u001B[38;5;28mself\u001B[39m\u001B[38;5;241m.\u001B[39mindex:\n\u001B[1;32m    620\u001B[0m         str_index \u001B[38;5;241m=\u001B[39m \u001B[38;5;28mself\u001B[39m\u001B[38;5;241m.\u001B[39m_get_formatted_index(\u001B[38;5;28mself\u001B[39m\u001B[38;5;241m.\u001B[39mtr_frame)\n",
      "File \u001B[0;32m~/anaconda3/envs/qutip-env/lib/python3.10/site-packages/pandas/io/formats/format.py:883\u001B[0m, in \u001B[0;36mDataFrameFormatter._get_strcols_without_index\u001B[0;34m(self)\u001B[0m\n\u001B[1;32m    879\u001B[0m cheader \u001B[38;5;241m=\u001B[39m str_columns[i]\n\u001B[1;32m    880\u001B[0m header_colwidth \u001B[38;5;241m=\u001B[39m \u001B[38;5;28mmax\u001B[39m(\n\u001B[1;32m    881\u001B[0m     \u001B[38;5;28mint\u001B[39m(\u001B[38;5;28mself\u001B[39m\u001B[38;5;241m.\u001B[39mcol_space\u001B[38;5;241m.\u001B[39mget(c, \u001B[38;5;241m0\u001B[39m)), \u001B[38;5;241m*\u001B[39m(\u001B[38;5;28mself\u001B[39m\u001B[38;5;241m.\u001B[39madj\u001B[38;5;241m.\u001B[39mlen(x) \u001B[38;5;28;01mfor\u001B[39;00m x \u001B[38;5;129;01min\u001B[39;00m cheader)\n\u001B[1;32m    882\u001B[0m )\n\u001B[0;32m--> 883\u001B[0m fmt_values \u001B[38;5;241m=\u001B[39m \u001B[38;5;28;43mself\u001B[39;49m\u001B[38;5;241;43m.\u001B[39;49m\u001B[43mformat_col\u001B[49m\u001B[43m(\u001B[49m\u001B[43mi\u001B[49m\u001B[43m)\u001B[49m\n\u001B[1;32m    884\u001B[0m fmt_values \u001B[38;5;241m=\u001B[39m _make_fixed_width(\n\u001B[1;32m    885\u001B[0m     fmt_values, \u001B[38;5;28mself\u001B[39m\u001B[38;5;241m.\u001B[39mjustify, minimum\u001B[38;5;241m=\u001B[39mheader_colwidth, adj\u001B[38;5;241m=\u001B[39m\u001B[38;5;28mself\u001B[39m\u001B[38;5;241m.\u001B[39madj\n\u001B[1;32m    886\u001B[0m )\n\u001B[1;32m    888\u001B[0m max_len \u001B[38;5;241m=\u001B[39m \u001B[38;5;28mmax\u001B[39m(\u001B[38;5;28mmax\u001B[39m(\u001B[38;5;28mself\u001B[39m\u001B[38;5;241m.\u001B[39madj\u001B[38;5;241m.\u001B[39mlen(x) \u001B[38;5;28;01mfor\u001B[39;00m x \u001B[38;5;129;01min\u001B[39;00m fmt_values), header_colwidth)\n",
      "File \u001B[0;32m~/anaconda3/envs/qutip-env/lib/python3.10/site-packages/pandas/io/formats/format.py:897\u001B[0m, in \u001B[0;36mDataFrameFormatter.format_col\u001B[0;34m(self, i)\u001B[0m\n\u001B[1;32m    895\u001B[0m frame \u001B[38;5;241m=\u001B[39m \u001B[38;5;28mself\u001B[39m\u001B[38;5;241m.\u001B[39mtr_frame\n\u001B[1;32m    896\u001B[0m formatter \u001B[38;5;241m=\u001B[39m \u001B[38;5;28mself\u001B[39m\u001B[38;5;241m.\u001B[39m_get_formatter(i)\n\u001B[0;32m--> 897\u001B[0m \u001B[38;5;28;01mreturn\u001B[39;00m \u001B[43mformat_array\u001B[49m\u001B[43m(\u001B[49m\n\u001B[1;32m    898\u001B[0m \u001B[43m    \u001B[49m\u001B[43mframe\u001B[49m\u001B[38;5;241;43m.\u001B[39;49m\u001B[43miloc\u001B[49m\u001B[43m[\u001B[49m\u001B[43m:\u001B[49m\u001B[43m,\u001B[49m\u001B[43m \u001B[49m\u001B[43mi\u001B[49m\u001B[43m]\u001B[49m\u001B[38;5;241;43m.\u001B[39;49m\u001B[43m_values\u001B[49m\u001B[43m,\u001B[49m\n\u001B[1;32m    899\u001B[0m \u001B[43m    \u001B[49m\u001B[43mformatter\u001B[49m\u001B[43m,\u001B[49m\n\u001B[1;32m    900\u001B[0m \u001B[43m    \u001B[49m\u001B[43mfloat_format\u001B[49m\u001B[38;5;241;43m=\u001B[39;49m\u001B[38;5;28;43mself\u001B[39;49m\u001B[38;5;241;43m.\u001B[39;49m\u001B[43mfloat_format\u001B[49m\u001B[43m,\u001B[49m\n\u001B[1;32m    901\u001B[0m \u001B[43m    \u001B[49m\u001B[43mna_rep\u001B[49m\u001B[38;5;241;43m=\u001B[39;49m\u001B[38;5;28;43mself\u001B[39;49m\u001B[38;5;241;43m.\u001B[39;49m\u001B[43mna_rep\u001B[49m\u001B[43m,\u001B[49m\n\u001B[1;32m    902\u001B[0m \u001B[43m    \u001B[49m\u001B[43mspace\u001B[49m\u001B[38;5;241;43m=\u001B[39;49m\u001B[38;5;28;43mself\u001B[39;49m\u001B[38;5;241;43m.\u001B[39;49m\u001B[43mcol_space\u001B[49m\u001B[38;5;241;43m.\u001B[39;49m\u001B[43mget\u001B[49m\u001B[43m(\u001B[49m\u001B[43mframe\u001B[49m\u001B[38;5;241;43m.\u001B[39;49m\u001B[43mcolumns\u001B[49m\u001B[43m[\u001B[49m\u001B[43mi\u001B[49m\u001B[43m]\u001B[49m\u001B[43m)\u001B[49m\u001B[43m,\u001B[49m\n\u001B[1;32m    903\u001B[0m \u001B[43m    \u001B[49m\u001B[43mdecimal\u001B[49m\u001B[38;5;241;43m=\u001B[39;49m\u001B[38;5;28;43mself\u001B[39;49m\u001B[38;5;241;43m.\u001B[39;49m\u001B[43mdecimal\u001B[49m\u001B[43m,\u001B[49m\n\u001B[1;32m    904\u001B[0m \u001B[43m    \u001B[49m\u001B[43mleading_space\u001B[49m\u001B[38;5;241;43m=\u001B[39;49m\u001B[38;5;28;43mself\u001B[39;49m\u001B[38;5;241;43m.\u001B[39;49m\u001B[43mindex\u001B[49m\u001B[43m,\u001B[49m\n\u001B[1;32m    905\u001B[0m \u001B[43m\u001B[49m\u001B[43m)\u001B[49m\n",
      "File \u001B[0;32m~/anaconda3/envs/qutip-env/lib/python3.10/site-packages/pandas/io/formats/format.py:1328\u001B[0m, in \u001B[0;36mformat_array\u001B[0;34m(values, formatter, float_format, na_rep, digits, space, justify, decimal, leading_space, quoting)\u001B[0m\n\u001B[1;32m   1313\u001B[0m     digits \u001B[38;5;241m=\u001B[39m get_option(\u001B[38;5;124m\"\u001B[39m\u001B[38;5;124mdisplay.precision\u001B[39m\u001B[38;5;124m\"\u001B[39m)\n\u001B[1;32m   1315\u001B[0m fmt_obj \u001B[38;5;241m=\u001B[39m fmt_klass(\n\u001B[1;32m   1316\u001B[0m     values,\n\u001B[1;32m   1317\u001B[0m     digits\u001B[38;5;241m=\u001B[39mdigits,\n\u001B[0;32m   (...)\u001B[0m\n\u001B[1;32m   1325\u001B[0m     quoting\u001B[38;5;241m=\u001B[39mquoting,\n\u001B[1;32m   1326\u001B[0m )\n\u001B[0;32m-> 1328\u001B[0m \u001B[38;5;28;01mreturn\u001B[39;00m \u001B[43mfmt_obj\u001B[49m\u001B[38;5;241;43m.\u001B[39;49m\u001B[43mget_result\u001B[49m\u001B[43m(\u001B[49m\u001B[43m)\u001B[49m\n",
      "File \u001B[0;32m~/anaconda3/envs/qutip-env/lib/python3.10/site-packages/pandas/io/formats/format.py:1359\u001B[0m, in \u001B[0;36mGenericArrayFormatter.get_result\u001B[0;34m(self)\u001B[0m\n\u001B[1;32m   1358\u001B[0m \u001B[38;5;28;01mdef\u001B[39;00m \u001B[38;5;21mget_result\u001B[39m(\u001B[38;5;28mself\u001B[39m) \u001B[38;5;241m-\u001B[39m\u001B[38;5;241m>\u001B[39m \u001B[38;5;28mlist\u001B[39m[\u001B[38;5;28mstr\u001B[39m]:\n\u001B[0;32m-> 1359\u001B[0m     fmt_values \u001B[38;5;241m=\u001B[39m \u001B[38;5;28;43mself\u001B[39;49m\u001B[38;5;241;43m.\u001B[39;49m\u001B[43m_format_strings\u001B[49m\u001B[43m(\u001B[49m\u001B[43m)\u001B[49m\n\u001B[1;32m   1360\u001B[0m     \u001B[38;5;28;01mreturn\u001B[39;00m _make_fixed_width(fmt_values, \u001B[38;5;28mself\u001B[39m\u001B[38;5;241m.\u001B[39mjustify)\n",
      "File \u001B[0;32m~/anaconda3/envs/qutip-env/lib/python3.10/site-packages/pandas/io/formats/format.py:1422\u001B[0m, in \u001B[0;36mGenericArrayFormatter._format_strings\u001B[0;34m(self)\u001B[0m\n\u001B[1;32m   1420\u001B[0m \u001B[38;5;28;01mfor\u001B[39;00m i, v \u001B[38;5;129;01min\u001B[39;00m \u001B[38;5;28menumerate\u001B[39m(vals):\n\u001B[1;32m   1421\u001B[0m     \u001B[38;5;28;01mif\u001B[39;00m \u001B[38;5;129;01mnot\u001B[39;00m is_float_type[i] \u001B[38;5;129;01mand\u001B[39;00m leading_space:\n\u001B[0;32m-> 1422\u001B[0m         fmt_values\u001B[38;5;241m.\u001B[39mappend(\u001B[38;5;124mf\u001B[39m\u001B[38;5;124m\"\u001B[39m\u001B[38;5;124m \u001B[39m\u001B[38;5;132;01m{\u001B[39;00m_format(v)\u001B[38;5;132;01m}\u001B[39;00m\u001B[38;5;124m\"\u001B[39m)\n\u001B[1;32m   1423\u001B[0m     \u001B[38;5;28;01melif\u001B[39;00m is_float_type[i]:\n\u001B[1;32m   1424\u001B[0m         fmt_values\u001B[38;5;241m.\u001B[39mappend(float_format(v))\n",
      "File \u001B[0;32m~/anaconda3/envs/qutip-env/lib/python3.10/site-packages/pandas/io/formats/format.py:1399\u001B[0m, in \u001B[0;36mGenericArrayFormatter._format_strings.<locals>._format\u001B[0;34m(x)\u001B[0m\n\u001B[1;32m   1397\u001B[0m     \u001B[38;5;28;01mreturn\u001B[39;00m \u001B[38;5;28mself\u001B[39m\u001B[38;5;241m.\u001B[39mna_rep\n\u001B[1;32m   1398\u001B[0m \u001B[38;5;28;01melif\u001B[39;00m \u001B[38;5;28misinstance\u001B[39m(x, PandasObject):\n\u001B[0;32m-> 1399\u001B[0m     \u001B[38;5;28;01mreturn\u001B[39;00m \u001B[38;5;28;43mstr\u001B[39;49m\u001B[43m(\u001B[49m\u001B[43mx\u001B[49m\u001B[43m)\u001B[49m\n\u001B[1;32m   1400\u001B[0m \u001B[38;5;28;01melse\u001B[39;00m:\n\u001B[1;32m   1401\u001B[0m     \u001B[38;5;66;03m# object dtype\u001B[39;00m\n\u001B[1;32m   1402\u001B[0m     \u001B[38;5;28;01mreturn\u001B[39;00m \u001B[38;5;28mstr\u001B[39m(formatter(x))\n",
      "File \u001B[0;32m~/anaconda3/envs/qutip-env/lib/python3.10/site-packages/pandas/core/series.py:1594\u001B[0m, in \u001B[0;36mSeries.__repr__\u001B[0;34m(self)\u001B[0m\n\u001B[1;32m   1590\u001B[0m \u001B[38;5;124;03m\"\"\"\u001B[39;00m\n\u001B[1;32m   1591\u001B[0m \u001B[38;5;124;03mReturn a string representation for a particular Series.\u001B[39;00m\n\u001B[1;32m   1592\u001B[0m \u001B[38;5;124;03m\"\"\"\u001B[39;00m\n\u001B[1;32m   1593\u001B[0m repr_params \u001B[38;5;241m=\u001B[39m fmt\u001B[38;5;241m.\u001B[39mget_series_repr_params()\n\u001B[0;32m-> 1594\u001B[0m \u001B[38;5;28;01mreturn\u001B[39;00m \u001B[38;5;28;43mself\u001B[39;49m\u001B[38;5;241;43m.\u001B[39;49m\u001B[43mto_string\u001B[49m\u001B[43m(\u001B[49m\u001B[38;5;241;43m*\u001B[39;49m\u001B[38;5;241;43m*\u001B[39;49m\u001B[43mrepr_params\u001B[49m\u001B[43m)\u001B[49m\n",
      "File \u001B[0;32m~/anaconda3/envs/qutip-env/lib/python3.10/site-packages/pandas/core/series.py:1687\u001B[0m, in \u001B[0;36mSeries.to_string\u001B[0;34m(self, buf, na_rep, float_format, header, index, length, dtype, name, max_rows, min_rows)\u001B[0m\n\u001B[1;32m   1641\u001B[0m \u001B[38;5;124;03m\"\"\"\u001B[39;00m\n\u001B[1;32m   1642\u001B[0m \u001B[38;5;124;03mRender a string representation of the Series.\u001B[39;00m\n\u001B[1;32m   1643\u001B[0m \n\u001B[0;32m   (...)\u001B[0m\n\u001B[1;32m   1673\u001B[0m \u001B[38;5;124;03m    String representation of Series if ``buf=None``, otherwise None.\u001B[39;00m\n\u001B[1;32m   1674\u001B[0m \u001B[38;5;124;03m\"\"\"\u001B[39;00m\n\u001B[1;32m   1675\u001B[0m formatter \u001B[38;5;241m=\u001B[39m fmt\u001B[38;5;241m.\u001B[39mSeriesFormatter(\n\u001B[1;32m   1676\u001B[0m     \u001B[38;5;28mself\u001B[39m,\n\u001B[1;32m   1677\u001B[0m     name\u001B[38;5;241m=\u001B[39mname,\n\u001B[0;32m   (...)\u001B[0m\n\u001B[1;32m   1685\u001B[0m     max_rows\u001B[38;5;241m=\u001B[39mmax_rows,\n\u001B[1;32m   1686\u001B[0m )\n\u001B[0;32m-> 1687\u001B[0m result \u001B[38;5;241m=\u001B[39m \u001B[43mformatter\u001B[49m\u001B[38;5;241;43m.\u001B[39;49m\u001B[43mto_string\u001B[49m\u001B[43m(\u001B[49m\u001B[43m)\u001B[49m\n\u001B[1;32m   1689\u001B[0m \u001B[38;5;66;03m# catch contract violations\u001B[39;00m\n\u001B[1;32m   1690\u001B[0m \u001B[38;5;28;01mif\u001B[39;00m \u001B[38;5;129;01mnot\u001B[39;00m \u001B[38;5;28misinstance\u001B[39m(result, \u001B[38;5;28mstr\u001B[39m):\n",
      "File \u001B[0;32m~/anaconda3/envs/qutip-env/lib/python3.10/site-packages/pandas/io/formats/format.py:397\u001B[0m, in \u001B[0;36mSeriesFormatter.to_string\u001B[0;34m(self)\u001B[0m\n\u001B[1;32m    394\u001B[0m     \u001B[38;5;28;01mreturn\u001B[39;00m \u001B[38;5;124mf\u001B[39m\u001B[38;5;124m\"\u001B[39m\u001B[38;5;132;01m{\u001B[39;00m\u001B[38;5;28mtype\u001B[39m(\u001B[38;5;28mself\u001B[39m\u001B[38;5;241m.\u001B[39mseries)\u001B[38;5;241m.\u001B[39m\u001B[38;5;18m__name__\u001B[39m\u001B[38;5;132;01m}\u001B[39;00m\u001B[38;5;124m([], \u001B[39m\u001B[38;5;132;01m{\u001B[39;00mfooter\u001B[38;5;132;01m}\u001B[39;00m\u001B[38;5;124m)\u001B[39m\u001B[38;5;124m\"\u001B[39m\n\u001B[1;32m    396\u001B[0m fmt_index, have_header \u001B[38;5;241m=\u001B[39m \u001B[38;5;28mself\u001B[39m\u001B[38;5;241m.\u001B[39m_get_formatted_index()\n\u001B[0;32m--> 397\u001B[0m fmt_values \u001B[38;5;241m=\u001B[39m \u001B[38;5;28;43mself\u001B[39;49m\u001B[38;5;241;43m.\u001B[39;49m\u001B[43m_get_formatted_values\u001B[49m\u001B[43m(\u001B[49m\u001B[43m)\u001B[49m\n\u001B[1;32m    399\u001B[0m \u001B[38;5;28;01mif\u001B[39;00m \u001B[38;5;28mself\u001B[39m\u001B[38;5;241m.\u001B[39mis_truncated_vertically:\n\u001B[1;32m    400\u001B[0m     n_header_rows \u001B[38;5;241m=\u001B[39m \u001B[38;5;241m0\u001B[39m\n",
      "File \u001B[0;32m~/anaconda3/envs/qutip-env/lib/python3.10/site-packages/pandas/io/formats/format.py:381\u001B[0m, in \u001B[0;36mSeriesFormatter._get_formatted_values\u001B[0;34m(self)\u001B[0m\n\u001B[1;32m    380\u001B[0m \u001B[38;5;28;01mdef\u001B[39;00m \u001B[38;5;21m_get_formatted_values\u001B[39m(\u001B[38;5;28mself\u001B[39m) \u001B[38;5;241m-\u001B[39m\u001B[38;5;241m>\u001B[39m \u001B[38;5;28mlist\u001B[39m[\u001B[38;5;28mstr\u001B[39m]:\n\u001B[0;32m--> 381\u001B[0m     \u001B[38;5;28;01mreturn\u001B[39;00m \u001B[43mformat_array\u001B[49m\u001B[43m(\u001B[49m\n\u001B[1;32m    382\u001B[0m \u001B[43m        \u001B[49m\u001B[38;5;28;43mself\u001B[39;49m\u001B[38;5;241;43m.\u001B[39;49m\u001B[43mtr_series\u001B[49m\u001B[38;5;241;43m.\u001B[39;49m\u001B[43m_values\u001B[49m\u001B[43m,\u001B[49m\n\u001B[1;32m    383\u001B[0m \u001B[43m        \u001B[49m\u001B[38;5;28;43;01mNone\u001B[39;49;00m\u001B[43m,\u001B[49m\n\u001B[1;32m    384\u001B[0m \u001B[43m        \u001B[49m\u001B[43mfloat_format\u001B[49m\u001B[38;5;241;43m=\u001B[39;49m\u001B[38;5;28;43mself\u001B[39;49m\u001B[38;5;241;43m.\u001B[39;49m\u001B[43mfloat_format\u001B[49m\u001B[43m,\u001B[49m\n\u001B[1;32m    385\u001B[0m \u001B[43m        \u001B[49m\u001B[43mna_rep\u001B[49m\u001B[38;5;241;43m=\u001B[39;49m\u001B[38;5;28;43mself\u001B[39;49m\u001B[38;5;241;43m.\u001B[39;49m\u001B[43mna_rep\u001B[49m\u001B[43m,\u001B[49m\n\u001B[1;32m    386\u001B[0m \u001B[43m        \u001B[49m\u001B[43mleading_space\u001B[49m\u001B[38;5;241;43m=\u001B[39;49m\u001B[38;5;28;43mself\u001B[39;49m\u001B[38;5;241;43m.\u001B[39;49m\u001B[43mindex\u001B[49m\u001B[43m,\u001B[49m\n\u001B[1;32m    387\u001B[0m \u001B[43m    \u001B[49m\u001B[43m)\u001B[49m\n",
      "File \u001B[0;32m~/anaconda3/envs/qutip-env/lib/python3.10/site-packages/pandas/io/formats/format.py:1328\u001B[0m, in \u001B[0;36mformat_array\u001B[0;34m(values, formatter, float_format, na_rep, digits, space, justify, decimal, leading_space, quoting)\u001B[0m\n\u001B[1;32m   1313\u001B[0m     digits \u001B[38;5;241m=\u001B[39m get_option(\u001B[38;5;124m\"\u001B[39m\u001B[38;5;124mdisplay.precision\u001B[39m\u001B[38;5;124m\"\u001B[39m)\n\u001B[1;32m   1315\u001B[0m fmt_obj \u001B[38;5;241m=\u001B[39m fmt_klass(\n\u001B[1;32m   1316\u001B[0m     values,\n\u001B[1;32m   1317\u001B[0m     digits\u001B[38;5;241m=\u001B[39mdigits,\n\u001B[0;32m   (...)\u001B[0m\n\u001B[1;32m   1325\u001B[0m     quoting\u001B[38;5;241m=\u001B[39mquoting,\n\u001B[1;32m   1326\u001B[0m )\n\u001B[0;32m-> 1328\u001B[0m \u001B[38;5;28;01mreturn\u001B[39;00m \u001B[43mfmt_obj\u001B[49m\u001B[38;5;241;43m.\u001B[39;49m\u001B[43mget_result\u001B[49m\u001B[43m(\u001B[49m\u001B[43m)\u001B[49m\n",
      "File \u001B[0;32m~/anaconda3/envs/qutip-env/lib/python3.10/site-packages/pandas/io/formats/format.py:1359\u001B[0m, in \u001B[0;36mGenericArrayFormatter.get_result\u001B[0;34m(self)\u001B[0m\n\u001B[1;32m   1358\u001B[0m \u001B[38;5;28;01mdef\u001B[39;00m \u001B[38;5;21mget_result\u001B[39m(\u001B[38;5;28mself\u001B[39m) \u001B[38;5;241m-\u001B[39m\u001B[38;5;241m>\u001B[39m \u001B[38;5;28mlist\u001B[39m[\u001B[38;5;28mstr\u001B[39m]:\n\u001B[0;32m-> 1359\u001B[0m     fmt_values \u001B[38;5;241m=\u001B[39m \u001B[38;5;28;43mself\u001B[39;49m\u001B[38;5;241;43m.\u001B[39;49m\u001B[43m_format_strings\u001B[49m\u001B[43m(\u001B[49m\u001B[43m)\u001B[49m\n\u001B[1;32m   1360\u001B[0m     \u001B[38;5;28;01mreturn\u001B[39;00m _make_fixed_width(fmt_values, \u001B[38;5;28mself\u001B[39m\u001B[38;5;241m.\u001B[39mjustify)\n",
      "File \u001B[0;32m~/anaconda3/envs/qutip-env/lib/python3.10/site-packages/pandas/io/formats/format.py:1422\u001B[0m, in \u001B[0;36mGenericArrayFormatter._format_strings\u001B[0;34m(self)\u001B[0m\n\u001B[1;32m   1420\u001B[0m \u001B[38;5;28;01mfor\u001B[39;00m i, v \u001B[38;5;129;01min\u001B[39;00m \u001B[38;5;28menumerate\u001B[39m(vals):\n\u001B[1;32m   1421\u001B[0m     \u001B[38;5;28;01mif\u001B[39;00m \u001B[38;5;129;01mnot\u001B[39;00m is_float_type[i] \u001B[38;5;129;01mand\u001B[39;00m leading_space:\n\u001B[0;32m-> 1422\u001B[0m         fmt_values\u001B[38;5;241m.\u001B[39mappend(\u001B[38;5;124mf\u001B[39m\u001B[38;5;124m\"\u001B[39m\u001B[38;5;124m \u001B[39m\u001B[38;5;132;01m{\u001B[39;00m_format(v)\u001B[38;5;132;01m}\u001B[39;00m\u001B[38;5;124m\"\u001B[39m)\n\u001B[1;32m   1423\u001B[0m     \u001B[38;5;28;01melif\u001B[39;00m is_float_type[i]:\n\u001B[1;32m   1424\u001B[0m         fmt_values\u001B[38;5;241m.\u001B[39mappend(float_format(v))\n",
      "File \u001B[0;32m~/anaconda3/envs/qutip-env/lib/python3.10/site-packages/pandas/io/formats/format.py:1402\u001B[0m, in \u001B[0;36mGenericArrayFormatter._format_strings.<locals>._format\u001B[0;34m(x)\u001B[0m\n\u001B[1;32m   1399\u001B[0m     \u001B[38;5;28;01mreturn\u001B[39;00m \u001B[38;5;28mstr\u001B[39m(x)\n\u001B[1;32m   1400\u001B[0m \u001B[38;5;28;01melse\u001B[39;00m:\n\u001B[1;32m   1401\u001B[0m     \u001B[38;5;66;03m# object dtype\u001B[39;00m\n\u001B[0;32m-> 1402\u001B[0m     \u001B[38;5;28;01mreturn\u001B[39;00m \u001B[38;5;28mstr\u001B[39m(\u001B[43mformatter\u001B[49m\u001B[43m(\u001B[49m\u001B[43mx\u001B[49m\u001B[43m)\u001B[49m)\n",
      "File \u001B[0;32m~/anaconda3/envs/qutip-env/lib/python3.10/site-packages/pandas/io/formats/printing.py:232\u001B[0m, in \u001B[0;36mpprint_thing\u001B[0;34m(thing, _nest_lvl, escape_chars, default_escapes, quote_strings, max_seq_items)\u001B[0m\n\u001B[1;32m    230\u001B[0m     result \u001B[38;5;241m=\u001B[39m \u001B[38;5;124mf\u001B[39m\u001B[38;5;124m\"\u001B[39m\u001B[38;5;124m'\u001B[39m\u001B[38;5;132;01m{\u001B[39;00mas_escaped_string(thing)\u001B[38;5;132;01m}\u001B[39;00m\u001B[38;5;124m'\u001B[39m\u001B[38;5;124m\"\u001B[39m\n\u001B[1;32m    231\u001B[0m \u001B[38;5;28;01melse\u001B[39;00m:\n\u001B[0;32m--> 232\u001B[0m     result \u001B[38;5;241m=\u001B[39m \u001B[43mas_escaped_string\u001B[49m\u001B[43m(\u001B[49m\u001B[43mthing\u001B[49m\u001B[43m)\u001B[49m\n\u001B[1;32m    234\u001B[0m \u001B[38;5;28;01mreturn\u001B[39;00m result\n",
      "File \u001B[0;32m~/anaconda3/envs/qutip-env/lib/python3.10/site-packages/pandas/io/formats/printing.py:208\u001B[0m, in \u001B[0;36mpprint_thing.<locals>.as_escaped_string\u001B[0;34m(thing, escape_chars)\u001B[0m\n\u001B[1;32m    205\u001B[0m \u001B[38;5;28;01melse\u001B[39;00m:\n\u001B[1;32m    206\u001B[0m     escape_chars \u001B[38;5;241m=\u001B[39m escape_chars \u001B[38;5;129;01mor\u001B[39;00m ()\n\u001B[0;32m--> 208\u001B[0m result \u001B[38;5;241m=\u001B[39m \u001B[38;5;28;43mstr\u001B[39;49m\u001B[43m(\u001B[49m\u001B[43mthing\u001B[49m\u001B[43m)\u001B[49m\n\u001B[1;32m    209\u001B[0m \u001B[38;5;28;01mfor\u001B[39;00m c \u001B[38;5;129;01min\u001B[39;00m escape_chars:\n\u001B[1;32m    210\u001B[0m     result \u001B[38;5;241m=\u001B[39m result\u001B[38;5;241m.\u001B[39mreplace(c, translate[c])\n",
      "File \u001B[0;32m~/Documents/Uni/Bachelorarbeit /TDVP_and_QAOA/qaoa_and_tdvp.py:786\u001B[0m, in \u001B[0;36mQAOAResult.__repr__\u001B[0;34m(self)\u001B[0m\n\u001B[1;32m    785\u001B[0m \u001B[38;5;28;01mdef\u001B[39;00m \u001B[38;5;21m__repr__\u001B[39m(\u001B[38;5;28mself\u001B[39m) \u001B[38;5;241m-\u001B[39m\u001B[38;5;241m>\u001B[39m \u001B[38;5;28mstr\u001B[39m:\n\u001B[0;32m--> 786\u001B[0m     \u001B[38;5;28;01mreturn\u001B[39;00m \u001B[38;5;124mf\u001B[39m\u001B[38;5;124m\"\"\"\u001B[39m\n\u001B[1;32m    787\u001B[0m \u001B[38;5;124m    \u001B[39m\u001B[38;5;132;01m{\u001B[39;00m\u001B[38;5;28mself\u001B[39m\u001B[38;5;241m.\u001B[39moptimizer_name\u001B[38;5;132;01m}\u001B[39;00m\u001B[38;5;124m terminated with \u001B[39m\u001B[38;5;132;01m{\u001B[39;00m\u001B[38;5;124m'\u001B[39m\u001B[38;5;124mno \u001B[39m\u001B[38;5;124m'\u001B[39m \u001B[38;5;28;01mif\u001B[39;00m \u001B[38;5;129;01mnot\u001B[39;00m \u001B[38;5;28mself\u001B[39m\u001B[38;5;241m.\u001B[39msuccess \u001B[38;5;28;01melse\u001B[39;00m \u001B[38;5;124m'\u001B[39m\u001B[38;5;124m'\u001B[39m\u001B[38;5;132;01m}\u001B[39;00m\u001B[38;5;124msucess with message\u001B[39m\n\u001B[1;32m    788\u001B[0m \u001B[38;5;124m    \u001B[39m\u001B[38;5;130;01m\\\"\u001B[39;00m\u001B[38;5;132;01m{\u001B[39;00m\u001B[38;5;28mself\u001B[39m\u001B[38;5;241m.\u001B[39mmessage\u001B[38;5;132;01m}\u001B[39;00m\u001B[38;5;130;01m\\\"\u001B[39;00m\n\u001B[1;32m    789\u001B[0m \u001B[38;5;124m    This took \u001B[39m\u001B[38;5;132;01m{\u001B[39;00m\u001B[38;5;28mself\u001B[39m\u001B[38;5;241m.\u001B[39mduration\u001B[38;5;132;01m:\u001B[39;00m\u001B[38;5;124m.2f\u001B[39m\u001B[38;5;132;01m}\u001B[39;00m\u001B[38;5;124m seconds\u001B[39m\u001B[38;5;130;01m\\n\u001B[39;00m\n\u001B[1;32m    790\u001B[0m \u001B[38;5;124m        optimal parameters: \u001B[39m\u001B[38;5;132;01m{\u001B[39;00m\u001B[38;5;28mself\u001B[39m\u001B[38;5;241m.\u001B[39mparameters\u001B[38;5;132;01m}\u001B[39;00m\n\u001B[1;32m    791\u001B[0m \u001B[38;5;124m             optimal value: \u001B[39m\u001B[38;5;132;01m{\u001B[39;00m\u001B[38;5;28mself\u001B[39m\u001B[38;5;241m.\u001B[39mvalue\u001B[38;5;132;01m}\u001B[39;00m\n\u001B[1;32m    792\u001B[0m \u001B[38;5;124m       number of fun calls: \u001B[39m\u001B[38;5;132;01m{\u001B[39;00m\u001B[38;5;28mself\u001B[39m\u001B[38;5;241m.\u001B[39mnum_fun_calls\u001B[38;5;132;01m}\u001B[39;00m\n\u001B[1;32m    793\u001B[0m \u001B[38;5;124m           number of steps: \u001B[39m\u001B[38;5;132;01m{\u001B[39;00m\u001B[38;5;28mself\u001B[39m\u001B[38;5;241m.\u001B[39mnum_steps\u001B[38;5;132;01m}\u001B[39;00m\n\u001B[1;32m    794\u001B[0m \u001B[38;5;124m    \u001B[39m\u001B[38;5;124m\"\"\"\u001B[39m\n",
      "\u001B[0;31mTypeError\u001B[0m: unsupported format string passed to NoneType.__format__"
     ]
    },
    {
     "ename": "TypeError",
     "evalue": "unsupported format string passed to NoneType.__format__",
     "output_type": "error",
     "traceback": [
      "\u001B[0;31m---------------------------------------------------------------------------\u001B[0m",
      "\u001B[0;31mTypeError\u001B[0m                                 Traceback (most recent call last)",
      "File \u001B[0;32m~/anaconda3/envs/qutip-env/lib/python3.10/site-packages/IPython/core/formatters.py:342\u001B[0m, in \u001B[0;36mBaseFormatter.__call__\u001B[0;34m(self, obj)\u001B[0m\n\u001B[1;32m    340\u001B[0m     method \u001B[38;5;241m=\u001B[39m get_real_method(obj, \u001B[38;5;28mself\u001B[39m\u001B[38;5;241m.\u001B[39mprint_method)\n\u001B[1;32m    341\u001B[0m     \u001B[38;5;28;01mif\u001B[39;00m method \u001B[38;5;129;01mis\u001B[39;00m \u001B[38;5;129;01mnot\u001B[39;00m \u001B[38;5;28;01mNone\u001B[39;00m:\n\u001B[0;32m--> 342\u001B[0m         \u001B[38;5;28;01mreturn\u001B[39;00m \u001B[43mmethod\u001B[49m\u001B[43m(\u001B[49m\u001B[43m)\u001B[49m\n\u001B[1;32m    343\u001B[0m     \u001B[38;5;28;01mreturn\u001B[39;00m \u001B[38;5;28;01mNone\u001B[39;00m\n\u001B[1;32m    344\u001B[0m \u001B[38;5;28;01melse\u001B[39;00m:\n",
      "File \u001B[0;32m~/anaconda3/envs/qutip-env/lib/python3.10/site-packages/pandas/core/frame.py:1104\u001B[0m, in \u001B[0;36mDataFrame._repr_html_\u001B[0;34m(self)\u001B[0m\n\u001B[1;32m   1082\u001B[0m     show_dimensions \u001B[38;5;241m=\u001B[39m get_option(\u001B[38;5;124m\"\u001B[39m\u001B[38;5;124mdisplay.show_dimensions\u001B[39m\u001B[38;5;124m\"\u001B[39m)\n\u001B[1;32m   1084\u001B[0m     formatter \u001B[38;5;241m=\u001B[39m fmt\u001B[38;5;241m.\u001B[39mDataFrameFormatter(\n\u001B[1;32m   1085\u001B[0m         \u001B[38;5;28mself\u001B[39m,\n\u001B[1;32m   1086\u001B[0m         columns\u001B[38;5;241m=\u001B[39m\u001B[38;5;28;01mNone\u001B[39;00m,\n\u001B[0;32m   (...)\u001B[0m\n\u001B[1;32m   1102\u001B[0m         decimal\u001B[38;5;241m=\u001B[39m\u001B[38;5;124m\"\u001B[39m\u001B[38;5;124m.\u001B[39m\u001B[38;5;124m\"\u001B[39m,\n\u001B[1;32m   1103\u001B[0m     )\n\u001B[0;32m-> 1104\u001B[0m     \u001B[38;5;28;01mreturn\u001B[39;00m \u001B[43mfmt\u001B[49m\u001B[38;5;241;43m.\u001B[39;49m\u001B[43mDataFrameRenderer\u001B[49m\u001B[43m(\u001B[49m\u001B[43mformatter\u001B[49m\u001B[43m)\u001B[49m\u001B[38;5;241;43m.\u001B[39;49m\u001B[43mto_html\u001B[49m\u001B[43m(\u001B[49m\u001B[43mnotebook\u001B[49m\u001B[38;5;241;43m=\u001B[39;49m\u001B[38;5;28;43;01mTrue\u001B[39;49;00m\u001B[43m)\u001B[49m\n\u001B[1;32m   1105\u001B[0m \u001B[38;5;28;01melse\u001B[39;00m:\n\u001B[1;32m   1106\u001B[0m     \u001B[38;5;28;01mreturn\u001B[39;00m \u001B[38;5;28;01mNone\u001B[39;00m\n",
      "File \u001B[0;32m~/anaconda3/envs/qutip-env/lib/python3.10/site-packages/pandas/io/formats/format.py:1110\u001B[0m, in \u001B[0;36mDataFrameRenderer.to_html\u001B[0;34m(self, buf, encoding, classes, notebook, border, table_id, render_links)\u001B[0m\n\u001B[1;32m   1101\u001B[0m Klass \u001B[38;5;241m=\u001B[39m NotebookFormatter \u001B[38;5;28;01mif\u001B[39;00m notebook \u001B[38;5;28;01melse\u001B[39;00m HTMLFormatter\n\u001B[1;32m   1103\u001B[0m html_formatter \u001B[38;5;241m=\u001B[39m Klass(\n\u001B[1;32m   1104\u001B[0m     \u001B[38;5;28mself\u001B[39m\u001B[38;5;241m.\u001B[39mfmt,\n\u001B[1;32m   1105\u001B[0m     classes\u001B[38;5;241m=\u001B[39mclasses,\n\u001B[0;32m   (...)\u001B[0m\n\u001B[1;32m   1108\u001B[0m     render_links\u001B[38;5;241m=\u001B[39mrender_links,\n\u001B[1;32m   1109\u001B[0m )\n\u001B[0;32m-> 1110\u001B[0m string \u001B[38;5;241m=\u001B[39m \u001B[43mhtml_formatter\u001B[49m\u001B[38;5;241;43m.\u001B[39;49m\u001B[43mto_string\u001B[49m\u001B[43m(\u001B[49m\u001B[43m)\u001B[49m\n\u001B[1;32m   1111\u001B[0m \u001B[38;5;28;01mreturn\u001B[39;00m save_to_buffer(string, buf\u001B[38;5;241m=\u001B[39mbuf, encoding\u001B[38;5;241m=\u001B[39mencoding)\n",
      "File \u001B[0;32m~/anaconda3/envs/qutip-env/lib/python3.10/site-packages/pandas/io/formats/html.py:77\u001B[0m, in \u001B[0;36mHTMLFormatter.to_string\u001B[0;34m(self)\u001B[0m\n\u001B[1;32m     76\u001B[0m \u001B[38;5;28;01mdef\u001B[39;00m \u001B[38;5;21mto_string\u001B[39m(\u001B[38;5;28mself\u001B[39m) \u001B[38;5;241m-\u001B[39m\u001B[38;5;241m>\u001B[39m \u001B[38;5;28mstr\u001B[39m:\n\u001B[0;32m---> 77\u001B[0m     lines \u001B[38;5;241m=\u001B[39m \u001B[38;5;28;43mself\u001B[39;49m\u001B[38;5;241;43m.\u001B[39;49m\u001B[43mrender\u001B[49m\u001B[43m(\u001B[49m\u001B[43m)\u001B[49m\n\u001B[1;32m     78\u001B[0m     \u001B[38;5;28;01mif\u001B[39;00m \u001B[38;5;28many\u001B[39m(\u001B[38;5;28misinstance\u001B[39m(x, \u001B[38;5;28mstr\u001B[39m) \u001B[38;5;28;01mfor\u001B[39;00m x \u001B[38;5;129;01min\u001B[39;00m lines):\n\u001B[1;32m     79\u001B[0m         lines \u001B[38;5;241m=\u001B[39m [\u001B[38;5;28mstr\u001B[39m(x) \u001B[38;5;28;01mfor\u001B[39;00m x \u001B[38;5;129;01min\u001B[39;00m lines]\n",
      "File \u001B[0;32m~/anaconda3/envs/qutip-env/lib/python3.10/site-packages/pandas/io/formats/html.py:632\u001B[0m, in \u001B[0;36mNotebookFormatter.render\u001B[0;34m(self)\u001B[0m\n\u001B[1;32m    630\u001B[0m \u001B[38;5;28mself\u001B[39m\u001B[38;5;241m.\u001B[39mwrite(\u001B[38;5;124m\"\u001B[39m\u001B[38;5;124m<div>\u001B[39m\u001B[38;5;124m\"\u001B[39m)\n\u001B[1;32m    631\u001B[0m \u001B[38;5;28mself\u001B[39m\u001B[38;5;241m.\u001B[39mwrite_style()\n\u001B[0;32m--> 632\u001B[0m \u001B[38;5;28;43msuper\u001B[39;49m\u001B[43m(\u001B[49m\u001B[43m)\u001B[49m\u001B[38;5;241;43m.\u001B[39;49m\u001B[43mrender\u001B[49m\u001B[43m(\u001B[49m\u001B[43m)\u001B[49m\n\u001B[1;32m    633\u001B[0m \u001B[38;5;28mself\u001B[39m\u001B[38;5;241m.\u001B[39mwrite(\u001B[38;5;124m\"\u001B[39m\u001B[38;5;124m</div>\u001B[39m\u001B[38;5;124m\"\u001B[39m)\n\u001B[1;32m    634\u001B[0m \u001B[38;5;28;01mreturn\u001B[39;00m \u001B[38;5;28mself\u001B[39m\u001B[38;5;241m.\u001B[39melements\n",
      "File \u001B[0;32m~/anaconda3/envs/qutip-env/lib/python3.10/site-packages/pandas/io/formats/html.py:83\u001B[0m, in \u001B[0;36mHTMLFormatter.render\u001B[0;34m(self)\u001B[0m\n\u001B[1;32m     82\u001B[0m \u001B[38;5;28;01mdef\u001B[39;00m \u001B[38;5;21mrender\u001B[39m(\u001B[38;5;28mself\u001B[39m) \u001B[38;5;241m-\u001B[39m\u001B[38;5;241m>\u001B[39m \u001B[38;5;28mlist\u001B[39m[\u001B[38;5;28mstr\u001B[39m]:\n\u001B[0;32m---> 83\u001B[0m     \u001B[38;5;28;43mself\u001B[39;49m\u001B[38;5;241;43m.\u001B[39;49m\u001B[43m_write_table\u001B[49m\u001B[43m(\u001B[49m\u001B[43m)\u001B[49m\n\u001B[1;32m     85\u001B[0m     \u001B[38;5;28;01mif\u001B[39;00m \u001B[38;5;28mself\u001B[39m\u001B[38;5;241m.\u001B[39mshould_show_dimensions:\n\u001B[1;32m     86\u001B[0m         by \u001B[38;5;241m=\u001B[39m \u001B[38;5;28mchr\u001B[39m(\u001B[38;5;241m215\u001B[39m)  \u001B[38;5;66;03m# ×\u001B[39;00m\n",
      "File \u001B[0;32m~/anaconda3/envs/qutip-env/lib/python3.10/site-packages/pandas/io/formats/html.py:258\u001B[0m, in \u001B[0;36mHTMLFormatter._write_table\u001B[0;34m(self, indent)\u001B[0m\n\u001B[1;32m    255\u001B[0m \u001B[38;5;28;01mif\u001B[39;00m \u001B[38;5;28mself\u001B[39m\u001B[38;5;241m.\u001B[39mfmt\u001B[38;5;241m.\u001B[39mheader \u001B[38;5;129;01mor\u001B[39;00m \u001B[38;5;28mself\u001B[39m\u001B[38;5;241m.\u001B[39mshow_row_idx_names:\n\u001B[1;32m    256\u001B[0m     \u001B[38;5;28mself\u001B[39m\u001B[38;5;241m.\u001B[39m_write_header(indent \u001B[38;5;241m+\u001B[39m \u001B[38;5;28mself\u001B[39m\u001B[38;5;241m.\u001B[39mindent_delta)\n\u001B[0;32m--> 258\u001B[0m \u001B[38;5;28;43mself\u001B[39;49m\u001B[38;5;241;43m.\u001B[39;49m\u001B[43m_write_body\u001B[49m\u001B[43m(\u001B[49m\u001B[43mindent\u001B[49m\u001B[43m \u001B[49m\u001B[38;5;241;43m+\u001B[39;49m\u001B[43m \u001B[49m\u001B[38;5;28;43mself\u001B[39;49m\u001B[38;5;241;43m.\u001B[39;49m\u001B[43mindent_delta\u001B[49m\u001B[43m)\u001B[49m\n\u001B[1;32m    260\u001B[0m \u001B[38;5;28mself\u001B[39m\u001B[38;5;241m.\u001B[39mwrite(\u001B[38;5;124m\"\u001B[39m\u001B[38;5;124m</table>\u001B[39m\u001B[38;5;124m\"\u001B[39m, indent)\n",
      "File \u001B[0;32m~/anaconda3/envs/qutip-env/lib/python3.10/site-packages/pandas/io/formats/html.py:406\u001B[0m, in \u001B[0;36mHTMLFormatter._write_body\u001B[0;34m(self, indent)\u001B[0m\n\u001B[1;32m    404\u001B[0m \u001B[38;5;28;01mdef\u001B[39;00m \u001B[38;5;21m_write_body\u001B[39m(\u001B[38;5;28mself\u001B[39m, indent: \u001B[38;5;28mint\u001B[39m) \u001B[38;5;241m-\u001B[39m\u001B[38;5;241m>\u001B[39m \u001B[38;5;28;01mNone\u001B[39;00m:\n\u001B[1;32m    405\u001B[0m     \u001B[38;5;28mself\u001B[39m\u001B[38;5;241m.\u001B[39mwrite(\u001B[38;5;124m\"\u001B[39m\u001B[38;5;124m<tbody>\u001B[39m\u001B[38;5;124m\"\u001B[39m, indent)\n\u001B[0;32m--> 406\u001B[0m     fmt_values \u001B[38;5;241m=\u001B[39m \u001B[38;5;28;43mself\u001B[39;49m\u001B[38;5;241;43m.\u001B[39;49m\u001B[43m_get_formatted_values\u001B[49m\u001B[43m(\u001B[49m\u001B[43m)\u001B[49m\n\u001B[1;32m    408\u001B[0m     \u001B[38;5;66;03m# write values\u001B[39;00m\n\u001B[1;32m    409\u001B[0m     \u001B[38;5;28;01mif\u001B[39;00m \u001B[38;5;28mself\u001B[39m\u001B[38;5;241m.\u001B[39mfmt\u001B[38;5;241m.\u001B[39mindex \u001B[38;5;129;01mand\u001B[39;00m \u001B[38;5;28misinstance\u001B[39m(\u001B[38;5;28mself\u001B[39m\u001B[38;5;241m.\u001B[39mframe\u001B[38;5;241m.\u001B[39mindex, MultiIndex):\n",
      "File \u001B[0;32m~/anaconda3/envs/qutip-env/lib/python3.10/site-packages/pandas/io/formats/html.py:596\u001B[0m, in \u001B[0;36mNotebookFormatter._get_formatted_values\u001B[0;34m(self)\u001B[0m\n\u001B[1;32m    595\u001B[0m \u001B[38;5;28;01mdef\u001B[39;00m \u001B[38;5;21m_get_formatted_values\u001B[39m(\u001B[38;5;28mself\u001B[39m) \u001B[38;5;241m-\u001B[39m\u001B[38;5;241m>\u001B[39m \u001B[38;5;28mdict\u001B[39m[\u001B[38;5;28mint\u001B[39m, \u001B[38;5;28mlist\u001B[39m[\u001B[38;5;28mstr\u001B[39m]]:\n\u001B[0;32m--> 596\u001B[0m     \u001B[38;5;28;01mreturn\u001B[39;00m {i: \u001B[38;5;28mself\u001B[39m\u001B[38;5;241m.\u001B[39mfmt\u001B[38;5;241m.\u001B[39mformat_col(i) \u001B[38;5;28;01mfor\u001B[39;00m i \u001B[38;5;129;01min\u001B[39;00m \u001B[38;5;28mrange\u001B[39m(\u001B[38;5;28mself\u001B[39m\u001B[38;5;241m.\u001B[39mncols)}\n",
      "File \u001B[0;32m~/anaconda3/envs/qutip-env/lib/python3.10/site-packages/pandas/io/formats/html.py:596\u001B[0m, in \u001B[0;36m<dictcomp>\u001B[0;34m(.0)\u001B[0m\n\u001B[1;32m    595\u001B[0m \u001B[38;5;28;01mdef\u001B[39;00m \u001B[38;5;21m_get_formatted_values\u001B[39m(\u001B[38;5;28mself\u001B[39m) \u001B[38;5;241m-\u001B[39m\u001B[38;5;241m>\u001B[39m \u001B[38;5;28mdict\u001B[39m[\u001B[38;5;28mint\u001B[39m, \u001B[38;5;28mlist\u001B[39m[\u001B[38;5;28mstr\u001B[39m]]:\n\u001B[0;32m--> 596\u001B[0m     \u001B[38;5;28;01mreturn\u001B[39;00m {i: \u001B[38;5;28;43mself\u001B[39;49m\u001B[38;5;241;43m.\u001B[39;49m\u001B[43mfmt\u001B[49m\u001B[38;5;241;43m.\u001B[39;49m\u001B[43mformat_col\u001B[49m\u001B[43m(\u001B[49m\u001B[43mi\u001B[49m\u001B[43m)\u001B[49m \u001B[38;5;28;01mfor\u001B[39;00m i \u001B[38;5;129;01min\u001B[39;00m \u001B[38;5;28mrange\u001B[39m(\u001B[38;5;28mself\u001B[39m\u001B[38;5;241m.\u001B[39mncols)}\n",
      "File \u001B[0;32m~/anaconda3/envs/qutip-env/lib/python3.10/site-packages/pandas/io/formats/format.py:897\u001B[0m, in \u001B[0;36mDataFrameFormatter.format_col\u001B[0;34m(self, i)\u001B[0m\n\u001B[1;32m    895\u001B[0m frame \u001B[38;5;241m=\u001B[39m \u001B[38;5;28mself\u001B[39m\u001B[38;5;241m.\u001B[39mtr_frame\n\u001B[1;32m    896\u001B[0m formatter \u001B[38;5;241m=\u001B[39m \u001B[38;5;28mself\u001B[39m\u001B[38;5;241m.\u001B[39m_get_formatter(i)\n\u001B[0;32m--> 897\u001B[0m \u001B[38;5;28;01mreturn\u001B[39;00m \u001B[43mformat_array\u001B[49m\u001B[43m(\u001B[49m\n\u001B[1;32m    898\u001B[0m \u001B[43m    \u001B[49m\u001B[43mframe\u001B[49m\u001B[38;5;241;43m.\u001B[39;49m\u001B[43miloc\u001B[49m\u001B[43m[\u001B[49m\u001B[43m:\u001B[49m\u001B[43m,\u001B[49m\u001B[43m \u001B[49m\u001B[43mi\u001B[49m\u001B[43m]\u001B[49m\u001B[38;5;241;43m.\u001B[39;49m\u001B[43m_values\u001B[49m\u001B[43m,\u001B[49m\n\u001B[1;32m    899\u001B[0m \u001B[43m    \u001B[49m\u001B[43mformatter\u001B[49m\u001B[43m,\u001B[49m\n\u001B[1;32m    900\u001B[0m \u001B[43m    \u001B[49m\u001B[43mfloat_format\u001B[49m\u001B[38;5;241;43m=\u001B[39;49m\u001B[38;5;28;43mself\u001B[39;49m\u001B[38;5;241;43m.\u001B[39;49m\u001B[43mfloat_format\u001B[49m\u001B[43m,\u001B[49m\n\u001B[1;32m    901\u001B[0m \u001B[43m    \u001B[49m\u001B[43mna_rep\u001B[49m\u001B[38;5;241;43m=\u001B[39;49m\u001B[38;5;28;43mself\u001B[39;49m\u001B[38;5;241;43m.\u001B[39;49m\u001B[43mna_rep\u001B[49m\u001B[43m,\u001B[49m\n\u001B[1;32m    902\u001B[0m \u001B[43m    \u001B[49m\u001B[43mspace\u001B[49m\u001B[38;5;241;43m=\u001B[39;49m\u001B[38;5;28;43mself\u001B[39;49m\u001B[38;5;241;43m.\u001B[39;49m\u001B[43mcol_space\u001B[49m\u001B[38;5;241;43m.\u001B[39;49m\u001B[43mget\u001B[49m\u001B[43m(\u001B[49m\u001B[43mframe\u001B[49m\u001B[38;5;241;43m.\u001B[39;49m\u001B[43mcolumns\u001B[49m\u001B[43m[\u001B[49m\u001B[43mi\u001B[49m\u001B[43m]\u001B[49m\u001B[43m)\u001B[49m\u001B[43m,\u001B[49m\n\u001B[1;32m    903\u001B[0m \u001B[43m    \u001B[49m\u001B[43mdecimal\u001B[49m\u001B[38;5;241;43m=\u001B[39;49m\u001B[38;5;28;43mself\u001B[39;49m\u001B[38;5;241;43m.\u001B[39;49m\u001B[43mdecimal\u001B[49m\u001B[43m,\u001B[49m\n\u001B[1;32m    904\u001B[0m \u001B[43m    \u001B[49m\u001B[43mleading_space\u001B[49m\u001B[38;5;241;43m=\u001B[39;49m\u001B[38;5;28;43mself\u001B[39;49m\u001B[38;5;241;43m.\u001B[39;49m\u001B[43mindex\u001B[49m\u001B[43m,\u001B[49m\n\u001B[1;32m    905\u001B[0m \u001B[43m\u001B[49m\u001B[43m)\u001B[49m\n",
      "File \u001B[0;32m~/anaconda3/envs/qutip-env/lib/python3.10/site-packages/pandas/io/formats/format.py:1328\u001B[0m, in \u001B[0;36mformat_array\u001B[0;34m(values, formatter, float_format, na_rep, digits, space, justify, decimal, leading_space, quoting)\u001B[0m\n\u001B[1;32m   1313\u001B[0m     digits \u001B[38;5;241m=\u001B[39m get_option(\u001B[38;5;124m\"\u001B[39m\u001B[38;5;124mdisplay.precision\u001B[39m\u001B[38;5;124m\"\u001B[39m)\n\u001B[1;32m   1315\u001B[0m fmt_obj \u001B[38;5;241m=\u001B[39m fmt_klass(\n\u001B[1;32m   1316\u001B[0m     values,\n\u001B[1;32m   1317\u001B[0m     digits\u001B[38;5;241m=\u001B[39mdigits,\n\u001B[0;32m   (...)\u001B[0m\n\u001B[1;32m   1325\u001B[0m     quoting\u001B[38;5;241m=\u001B[39mquoting,\n\u001B[1;32m   1326\u001B[0m )\n\u001B[0;32m-> 1328\u001B[0m \u001B[38;5;28;01mreturn\u001B[39;00m \u001B[43mfmt_obj\u001B[49m\u001B[38;5;241;43m.\u001B[39;49m\u001B[43mget_result\u001B[49m\u001B[43m(\u001B[49m\u001B[43m)\u001B[49m\n",
      "File \u001B[0;32m~/anaconda3/envs/qutip-env/lib/python3.10/site-packages/pandas/io/formats/format.py:1359\u001B[0m, in \u001B[0;36mGenericArrayFormatter.get_result\u001B[0;34m(self)\u001B[0m\n\u001B[1;32m   1358\u001B[0m \u001B[38;5;28;01mdef\u001B[39;00m \u001B[38;5;21mget_result\u001B[39m(\u001B[38;5;28mself\u001B[39m) \u001B[38;5;241m-\u001B[39m\u001B[38;5;241m>\u001B[39m \u001B[38;5;28mlist\u001B[39m[\u001B[38;5;28mstr\u001B[39m]:\n\u001B[0;32m-> 1359\u001B[0m     fmt_values \u001B[38;5;241m=\u001B[39m \u001B[38;5;28;43mself\u001B[39;49m\u001B[38;5;241;43m.\u001B[39;49m\u001B[43m_format_strings\u001B[49m\u001B[43m(\u001B[49m\u001B[43m)\u001B[49m\n\u001B[1;32m   1360\u001B[0m     \u001B[38;5;28;01mreturn\u001B[39;00m _make_fixed_width(fmt_values, \u001B[38;5;28mself\u001B[39m\u001B[38;5;241m.\u001B[39mjustify)\n",
      "File \u001B[0;32m~/anaconda3/envs/qutip-env/lib/python3.10/site-packages/pandas/io/formats/format.py:1422\u001B[0m, in \u001B[0;36mGenericArrayFormatter._format_strings\u001B[0;34m(self)\u001B[0m\n\u001B[1;32m   1420\u001B[0m \u001B[38;5;28;01mfor\u001B[39;00m i, v \u001B[38;5;129;01min\u001B[39;00m \u001B[38;5;28menumerate\u001B[39m(vals):\n\u001B[1;32m   1421\u001B[0m     \u001B[38;5;28;01mif\u001B[39;00m \u001B[38;5;129;01mnot\u001B[39;00m is_float_type[i] \u001B[38;5;129;01mand\u001B[39;00m leading_space:\n\u001B[0;32m-> 1422\u001B[0m         fmt_values\u001B[38;5;241m.\u001B[39mappend(\u001B[38;5;124mf\u001B[39m\u001B[38;5;124m\"\u001B[39m\u001B[38;5;124m \u001B[39m\u001B[38;5;132;01m{\u001B[39;00m_format(v)\u001B[38;5;132;01m}\u001B[39;00m\u001B[38;5;124m\"\u001B[39m)\n\u001B[1;32m   1423\u001B[0m     \u001B[38;5;28;01melif\u001B[39;00m is_float_type[i]:\n\u001B[1;32m   1424\u001B[0m         fmt_values\u001B[38;5;241m.\u001B[39mappend(float_format(v))\n",
      "File \u001B[0;32m~/anaconda3/envs/qutip-env/lib/python3.10/site-packages/pandas/io/formats/format.py:1399\u001B[0m, in \u001B[0;36mGenericArrayFormatter._format_strings.<locals>._format\u001B[0;34m(x)\u001B[0m\n\u001B[1;32m   1397\u001B[0m     \u001B[38;5;28;01mreturn\u001B[39;00m \u001B[38;5;28mself\u001B[39m\u001B[38;5;241m.\u001B[39mna_rep\n\u001B[1;32m   1398\u001B[0m \u001B[38;5;28;01melif\u001B[39;00m \u001B[38;5;28misinstance\u001B[39m(x, PandasObject):\n\u001B[0;32m-> 1399\u001B[0m     \u001B[38;5;28;01mreturn\u001B[39;00m \u001B[38;5;28;43mstr\u001B[39;49m\u001B[43m(\u001B[49m\u001B[43mx\u001B[49m\u001B[43m)\u001B[49m\n\u001B[1;32m   1400\u001B[0m \u001B[38;5;28;01melse\u001B[39;00m:\n\u001B[1;32m   1401\u001B[0m     \u001B[38;5;66;03m# object dtype\u001B[39;00m\n\u001B[1;32m   1402\u001B[0m     \u001B[38;5;28;01mreturn\u001B[39;00m \u001B[38;5;28mstr\u001B[39m(formatter(x))\n",
      "File \u001B[0;32m~/anaconda3/envs/qutip-env/lib/python3.10/site-packages/pandas/core/series.py:1594\u001B[0m, in \u001B[0;36mSeries.__repr__\u001B[0;34m(self)\u001B[0m\n\u001B[1;32m   1590\u001B[0m \u001B[38;5;124;03m\"\"\"\u001B[39;00m\n\u001B[1;32m   1591\u001B[0m \u001B[38;5;124;03mReturn a string representation for a particular Series.\u001B[39;00m\n\u001B[1;32m   1592\u001B[0m \u001B[38;5;124;03m\"\"\"\u001B[39;00m\n\u001B[1;32m   1593\u001B[0m repr_params \u001B[38;5;241m=\u001B[39m fmt\u001B[38;5;241m.\u001B[39mget_series_repr_params()\n\u001B[0;32m-> 1594\u001B[0m \u001B[38;5;28;01mreturn\u001B[39;00m \u001B[38;5;28;43mself\u001B[39;49m\u001B[38;5;241;43m.\u001B[39;49m\u001B[43mto_string\u001B[49m\u001B[43m(\u001B[49m\u001B[38;5;241;43m*\u001B[39;49m\u001B[38;5;241;43m*\u001B[39;49m\u001B[43mrepr_params\u001B[49m\u001B[43m)\u001B[49m\n",
      "File \u001B[0;32m~/anaconda3/envs/qutip-env/lib/python3.10/site-packages/pandas/core/series.py:1687\u001B[0m, in \u001B[0;36mSeries.to_string\u001B[0;34m(self, buf, na_rep, float_format, header, index, length, dtype, name, max_rows, min_rows)\u001B[0m\n\u001B[1;32m   1641\u001B[0m \u001B[38;5;124;03m\"\"\"\u001B[39;00m\n\u001B[1;32m   1642\u001B[0m \u001B[38;5;124;03mRender a string representation of the Series.\u001B[39;00m\n\u001B[1;32m   1643\u001B[0m \n\u001B[0;32m   (...)\u001B[0m\n\u001B[1;32m   1673\u001B[0m \u001B[38;5;124;03m    String representation of Series if ``buf=None``, otherwise None.\u001B[39;00m\n\u001B[1;32m   1674\u001B[0m \u001B[38;5;124;03m\"\"\"\u001B[39;00m\n\u001B[1;32m   1675\u001B[0m formatter \u001B[38;5;241m=\u001B[39m fmt\u001B[38;5;241m.\u001B[39mSeriesFormatter(\n\u001B[1;32m   1676\u001B[0m     \u001B[38;5;28mself\u001B[39m,\n\u001B[1;32m   1677\u001B[0m     name\u001B[38;5;241m=\u001B[39mname,\n\u001B[0;32m   (...)\u001B[0m\n\u001B[1;32m   1685\u001B[0m     max_rows\u001B[38;5;241m=\u001B[39mmax_rows,\n\u001B[1;32m   1686\u001B[0m )\n\u001B[0;32m-> 1687\u001B[0m result \u001B[38;5;241m=\u001B[39m \u001B[43mformatter\u001B[49m\u001B[38;5;241;43m.\u001B[39;49m\u001B[43mto_string\u001B[49m\u001B[43m(\u001B[49m\u001B[43m)\u001B[49m\n\u001B[1;32m   1689\u001B[0m \u001B[38;5;66;03m# catch contract violations\u001B[39;00m\n\u001B[1;32m   1690\u001B[0m \u001B[38;5;28;01mif\u001B[39;00m \u001B[38;5;129;01mnot\u001B[39;00m \u001B[38;5;28misinstance\u001B[39m(result, \u001B[38;5;28mstr\u001B[39m):\n",
      "File \u001B[0;32m~/anaconda3/envs/qutip-env/lib/python3.10/site-packages/pandas/io/formats/format.py:397\u001B[0m, in \u001B[0;36mSeriesFormatter.to_string\u001B[0;34m(self)\u001B[0m\n\u001B[1;32m    394\u001B[0m     \u001B[38;5;28;01mreturn\u001B[39;00m \u001B[38;5;124mf\u001B[39m\u001B[38;5;124m\"\u001B[39m\u001B[38;5;132;01m{\u001B[39;00m\u001B[38;5;28mtype\u001B[39m(\u001B[38;5;28mself\u001B[39m\u001B[38;5;241m.\u001B[39mseries)\u001B[38;5;241m.\u001B[39m\u001B[38;5;18m__name__\u001B[39m\u001B[38;5;132;01m}\u001B[39;00m\u001B[38;5;124m([], \u001B[39m\u001B[38;5;132;01m{\u001B[39;00mfooter\u001B[38;5;132;01m}\u001B[39;00m\u001B[38;5;124m)\u001B[39m\u001B[38;5;124m\"\u001B[39m\n\u001B[1;32m    396\u001B[0m fmt_index, have_header \u001B[38;5;241m=\u001B[39m \u001B[38;5;28mself\u001B[39m\u001B[38;5;241m.\u001B[39m_get_formatted_index()\n\u001B[0;32m--> 397\u001B[0m fmt_values \u001B[38;5;241m=\u001B[39m \u001B[38;5;28;43mself\u001B[39;49m\u001B[38;5;241;43m.\u001B[39;49m\u001B[43m_get_formatted_values\u001B[49m\u001B[43m(\u001B[49m\u001B[43m)\u001B[49m\n\u001B[1;32m    399\u001B[0m \u001B[38;5;28;01mif\u001B[39;00m \u001B[38;5;28mself\u001B[39m\u001B[38;5;241m.\u001B[39mis_truncated_vertically:\n\u001B[1;32m    400\u001B[0m     n_header_rows \u001B[38;5;241m=\u001B[39m \u001B[38;5;241m0\u001B[39m\n",
      "File \u001B[0;32m~/anaconda3/envs/qutip-env/lib/python3.10/site-packages/pandas/io/formats/format.py:381\u001B[0m, in \u001B[0;36mSeriesFormatter._get_formatted_values\u001B[0;34m(self)\u001B[0m\n\u001B[1;32m    380\u001B[0m \u001B[38;5;28;01mdef\u001B[39;00m \u001B[38;5;21m_get_formatted_values\u001B[39m(\u001B[38;5;28mself\u001B[39m) \u001B[38;5;241m-\u001B[39m\u001B[38;5;241m>\u001B[39m \u001B[38;5;28mlist\u001B[39m[\u001B[38;5;28mstr\u001B[39m]:\n\u001B[0;32m--> 381\u001B[0m     \u001B[38;5;28;01mreturn\u001B[39;00m \u001B[43mformat_array\u001B[49m\u001B[43m(\u001B[49m\n\u001B[1;32m    382\u001B[0m \u001B[43m        \u001B[49m\u001B[38;5;28;43mself\u001B[39;49m\u001B[38;5;241;43m.\u001B[39;49m\u001B[43mtr_series\u001B[49m\u001B[38;5;241;43m.\u001B[39;49m\u001B[43m_values\u001B[49m\u001B[43m,\u001B[49m\n\u001B[1;32m    383\u001B[0m \u001B[43m        \u001B[49m\u001B[38;5;28;43;01mNone\u001B[39;49;00m\u001B[43m,\u001B[49m\n\u001B[1;32m    384\u001B[0m \u001B[43m        \u001B[49m\u001B[43mfloat_format\u001B[49m\u001B[38;5;241;43m=\u001B[39;49m\u001B[38;5;28;43mself\u001B[39;49m\u001B[38;5;241;43m.\u001B[39;49m\u001B[43mfloat_format\u001B[49m\u001B[43m,\u001B[49m\n\u001B[1;32m    385\u001B[0m \u001B[43m        \u001B[49m\u001B[43mna_rep\u001B[49m\u001B[38;5;241;43m=\u001B[39;49m\u001B[38;5;28;43mself\u001B[39;49m\u001B[38;5;241;43m.\u001B[39;49m\u001B[43mna_rep\u001B[49m\u001B[43m,\u001B[49m\n\u001B[1;32m    386\u001B[0m \u001B[43m        \u001B[49m\u001B[43mleading_space\u001B[49m\u001B[38;5;241;43m=\u001B[39;49m\u001B[38;5;28;43mself\u001B[39;49m\u001B[38;5;241;43m.\u001B[39;49m\u001B[43mindex\u001B[49m\u001B[43m,\u001B[49m\n\u001B[1;32m    387\u001B[0m \u001B[43m    \u001B[49m\u001B[43m)\u001B[49m\n",
      "File \u001B[0;32m~/anaconda3/envs/qutip-env/lib/python3.10/site-packages/pandas/io/formats/format.py:1328\u001B[0m, in \u001B[0;36mformat_array\u001B[0;34m(values, formatter, float_format, na_rep, digits, space, justify, decimal, leading_space, quoting)\u001B[0m\n\u001B[1;32m   1313\u001B[0m     digits \u001B[38;5;241m=\u001B[39m get_option(\u001B[38;5;124m\"\u001B[39m\u001B[38;5;124mdisplay.precision\u001B[39m\u001B[38;5;124m\"\u001B[39m)\n\u001B[1;32m   1315\u001B[0m fmt_obj \u001B[38;5;241m=\u001B[39m fmt_klass(\n\u001B[1;32m   1316\u001B[0m     values,\n\u001B[1;32m   1317\u001B[0m     digits\u001B[38;5;241m=\u001B[39mdigits,\n\u001B[0;32m   (...)\u001B[0m\n\u001B[1;32m   1325\u001B[0m     quoting\u001B[38;5;241m=\u001B[39mquoting,\n\u001B[1;32m   1326\u001B[0m )\n\u001B[0;32m-> 1328\u001B[0m \u001B[38;5;28;01mreturn\u001B[39;00m \u001B[43mfmt_obj\u001B[49m\u001B[38;5;241;43m.\u001B[39;49m\u001B[43mget_result\u001B[49m\u001B[43m(\u001B[49m\u001B[43m)\u001B[49m\n",
      "File \u001B[0;32m~/anaconda3/envs/qutip-env/lib/python3.10/site-packages/pandas/io/formats/format.py:1359\u001B[0m, in \u001B[0;36mGenericArrayFormatter.get_result\u001B[0;34m(self)\u001B[0m\n\u001B[1;32m   1358\u001B[0m \u001B[38;5;28;01mdef\u001B[39;00m \u001B[38;5;21mget_result\u001B[39m(\u001B[38;5;28mself\u001B[39m) \u001B[38;5;241m-\u001B[39m\u001B[38;5;241m>\u001B[39m \u001B[38;5;28mlist\u001B[39m[\u001B[38;5;28mstr\u001B[39m]:\n\u001B[0;32m-> 1359\u001B[0m     fmt_values \u001B[38;5;241m=\u001B[39m \u001B[38;5;28;43mself\u001B[39;49m\u001B[38;5;241;43m.\u001B[39;49m\u001B[43m_format_strings\u001B[49m\u001B[43m(\u001B[49m\u001B[43m)\u001B[49m\n\u001B[1;32m   1360\u001B[0m     \u001B[38;5;28;01mreturn\u001B[39;00m _make_fixed_width(fmt_values, \u001B[38;5;28mself\u001B[39m\u001B[38;5;241m.\u001B[39mjustify)\n",
      "File \u001B[0;32m~/anaconda3/envs/qutip-env/lib/python3.10/site-packages/pandas/io/formats/format.py:1422\u001B[0m, in \u001B[0;36mGenericArrayFormatter._format_strings\u001B[0;34m(self)\u001B[0m\n\u001B[1;32m   1420\u001B[0m \u001B[38;5;28;01mfor\u001B[39;00m i, v \u001B[38;5;129;01min\u001B[39;00m \u001B[38;5;28menumerate\u001B[39m(vals):\n\u001B[1;32m   1421\u001B[0m     \u001B[38;5;28;01mif\u001B[39;00m \u001B[38;5;129;01mnot\u001B[39;00m is_float_type[i] \u001B[38;5;129;01mand\u001B[39;00m leading_space:\n\u001B[0;32m-> 1422\u001B[0m         fmt_values\u001B[38;5;241m.\u001B[39mappend(\u001B[38;5;124mf\u001B[39m\u001B[38;5;124m\"\u001B[39m\u001B[38;5;124m \u001B[39m\u001B[38;5;132;01m{\u001B[39;00m_format(v)\u001B[38;5;132;01m}\u001B[39;00m\u001B[38;5;124m\"\u001B[39m)\n\u001B[1;32m   1423\u001B[0m     \u001B[38;5;28;01melif\u001B[39;00m is_float_type[i]:\n\u001B[1;32m   1424\u001B[0m         fmt_values\u001B[38;5;241m.\u001B[39mappend(float_format(v))\n",
      "File \u001B[0;32m~/anaconda3/envs/qutip-env/lib/python3.10/site-packages/pandas/io/formats/format.py:1402\u001B[0m, in \u001B[0;36mGenericArrayFormatter._format_strings.<locals>._format\u001B[0;34m(x)\u001B[0m\n\u001B[1;32m   1399\u001B[0m     \u001B[38;5;28;01mreturn\u001B[39;00m \u001B[38;5;28mstr\u001B[39m(x)\n\u001B[1;32m   1400\u001B[0m \u001B[38;5;28;01melse\u001B[39;00m:\n\u001B[1;32m   1401\u001B[0m     \u001B[38;5;66;03m# object dtype\u001B[39;00m\n\u001B[0;32m-> 1402\u001B[0m     \u001B[38;5;28;01mreturn\u001B[39;00m \u001B[38;5;28mstr\u001B[39m(\u001B[43mformatter\u001B[49m\u001B[43m(\u001B[49m\u001B[43mx\u001B[49m\u001B[43m)\u001B[49m)\n",
      "File \u001B[0;32m~/anaconda3/envs/qutip-env/lib/python3.10/site-packages/pandas/io/formats/printing.py:232\u001B[0m, in \u001B[0;36mpprint_thing\u001B[0;34m(thing, _nest_lvl, escape_chars, default_escapes, quote_strings, max_seq_items)\u001B[0m\n\u001B[1;32m    230\u001B[0m     result \u001B[38;5;241m=\u001B[39m \u001B[38;5;124mf\u001B[39m\u001B[38;5;124m\"\u001B[39m\u001B[38;5;124m'\u001B[39m\u001B[38;5;132;01m{\u001B[39;00mas_escaped_string(thing)\u001B[38;5;132;01m}\u001B[39;00m\u001B[38;5;124m'\u001B[39m\u001B[38;5;124m\"\u001B[39m\n\u001B[1;32m    231\u001B[0m \u001B[38;5;28;01melse\u001B[39;00m:\n\u001B[0;32m--> 232\u001B[0m     result \u001B[38;5;241m=\u001B[39m \u001B[43mas_escaped_string\u001B[49m\u001B[43m(\u001B[49m\u001B[43mthing\u001B[49m\u001B[43m)\u001B[49m\n\u001B[1;32m    234\u001B[0m \u001B[38;5;28;01mreturn\u001B[39;00m result\n",
      "File \u001B[0;32m~/anaconda3/envs/qutip-env/lib/python3.10/site-packages/pandas/io/formats/printing.py:208\u001B[0m, in \u001B[0;36mpprint_thing.<locals>.as_escaped_string\u001B[0;34m(thing, escape_chars)\u001B[0m\n\u001B[1;32m    205\u001B[0m \u001B[38;5;28;01melse\u001B[39;00m:\n\u001B[1;32m    206\u001B[0m     escape_chars \u001B[38;5;241m=\u001B[39m escape_chars \u001B[38;5;129;01mor\u001B[39;00m ()\n\u001B[0;32m--> 208\u001B[0m result \u001B[38;5;241m=\u001B[39m \u001B[38;5;28;43mstr\u001B[39;49m\u001B[43m(\u001B[49m\u001B[43mthing\u001B[49m\u001B[43m)\u001B[49m\n\u001B[1;32m    209\u001B[0m \u001B[38;5;28;01mfor\u001B[39;00m c \u001B[38;5;129;01min\u001B[39;00m escape_chars:\n\u001B[1;32m    210\u001B[0m     result \u001B[38;5;241m=\u001B[39m result\u001B[38;5;241m.\u001B[39mreplace(c, translate[c])\n",
      "File \u001B[0;32m~/Documents/Uni/Bachelorarbeit /TDVP_and_QAOA/qaoa_and_tdvp.py:786\u001B[0m, in \u001B[0;36mQAOAResult.__repr__\u001B[0;34m(self)\u001B[0m\n\u001B[1;32m    785\u001B[0m \u001B[38;5;28;01mdef\u001B[39;00m \u001B[38;5;21m__repr__\u001B[39m(\u001B[38;5;28mself\u001B[39m) \u001B[38;5;241m-\u001B[39m\u001B[38;5;241m>\u001B[39m \u001B[38;5;28mstr\u001B[39m:\n\u001B[0;32m--> 786\u001B[0m     \u001B[38;5;28;01mreturn\u001B[39;00m \u001B[38;5;124mf\u001B[39m\u001B[38;5;124m\"\"\"\u001B[39m\n\u001B[1;32m    787\u001B[0m \u001B[38;5;124m    \u001B[39m\u001B[38;5;132;01m{\u001B[39;00m\u001B[38;5;28mself\u001B[39m\u001B[38;5;241m.\u001B[39moptimizer_name\u001B[38;5;132;01m}\u001B[39;00m\u001B[38;5;124m terminated with \u001B[39m\u001B[38;5;132;01m{\u001B[39;00m\u001B[38;5;124m'\u001B[39m\u001B[38;5;124mno \u001B[39m\u001B[38;5;124m'\u001B[39m \u001B[38;5;28;01mif\u001B[39;00m \u001B[38;5;129;01mnot\u001B[39;00m \u001B[38;5;28mself\u001B[39m\u001B[38;5;241m.\u001B[39msuccess \u001B[38;5;28;01melse\u001B[39;00m \u001B[38;5;124m'\u001B[39m\u001B[38;5;124m'\u001B[39m\u001B[38;5;132;01m}\u001B[39;00m\u001B[38;5;124msucess with message\u001B[39m\n\u001B[1;32m    788\u001B[0m \u001B[38;5;124m    \u001B[39m\u001B[38;5;130;01m\\\"\u001B[39;00m\u001B[38;5;132;01m{\u001B[39;00m\u001B[38;5;28mself\u001B[39m\u001B[38;5;241m.\u001B[39mmessage\u001B[38;5;132;01m}\u001B[39;00m\u001B[38;5;130;01m\\\"\u001B[39;00m\n\u001B[1;32m    789\u001B[0m \u001B[38;5;124m    This took \u001B[39m\u001B[38;5;132;01m{\u001B[39;00m\u001B[38;5;28mself\u001B[39m\u001B[38;5;241m.\u001B[39mduration\u001B[38;5;132;01m:\u001B[39;00m\u001B[38;5;124m.2f\u001B[39m\u001B[38;5;132;01m}\u001B[39;00m\u001B[38;5;124m seconds\u001B[39m\u001B[38;5;130;01m\\n\u001B[39;00m\n\u001B[1;32m    790\u001B[0m \u001B[38;5;124m        optimal parameters: \u001B[39m\u001B[38;5;132;01m{\u001B[39;00m\u001B[38;5;28mself\u001B[39m\u001B[38;5;241m.\u001B[39mparameters\u001B[38;5;132;01m}\u001B[39;00m\n\u001B[1;32m    791\u001B[0m \u001B[38;5;124m             optimal value: \u001B[39m\u001B[38;5;132;01m{\u001B[39;00m\u001B[38;5;28mself\u001B[39m\u001B[38;5;241m.\u001B[39mvalue\u001B[38;5;132;01m}\u001B[39;00m\n\u001B[1;32m    792\u001B[0m \u001B[38;5;124m       number of fun calls: \u001B[39m\u001B[38;5;132;01m{\u001B[39;00m\u001B[38;5;28mself\u001B[39m\u001B[38;5;241m.\u001B[39mnum_fun_calls\u001B[38;5;132;01m}\u001B[39;00m\n\u001B[1;32m    793\u001B[0m \u001B[38;5;124m           number of steps: \u001B[39m\u001B[38;5;132;01m{\u001B[39;00m\u001B[38;5;28mself\u001B[39m\u001B[38;5;241m.\u001B[39mnum_steps\u001B[38;5;132;01m}\u001B[39;00m\n\u001B[1;32m    794\u001B[0m \u001B[38;5;124m    \u001B[39m\u001B[38;5;124m\"\"\"\u001B[39m\n",
      "\u001B[0;31mTypeError\u001B[0m: unsupported format string passed to NoneType.__format__"
     ]
    }
   ],
   "source": [
    "df"
   ],
   "metadata": {
    "collapsed": false
   }
  },
  {
   "cell_type": "markdown",
   "metadata": {
    "collapsed": false
   },
   "source": [
    "# Compute performance measures"
   ]
  },
  {
   "cell_type": "code",
   "execution_count": 47,
   "metadata": {
    "collapsed": false
   },
   "outputs": [
    {
     "name": "stdout",
     "output_type": "stream",
     "text": [
      "(3, 2)\n"
     ]
    }
   ],
   "source": [
    "for (p,i) in df.index:\n",
    "    try:\n",
    "        df['tdvp'].loc[p,i].__repr__()\n",
    "    except TypeError:\n",
    "        print((p,i))\n",
    "        continue"
   ]
  },
  {
   "cell_type": "code",
   "execution_count": 28,
   "metadata": {
    "collapsed": false
   },
   "outputs": [
    {
     "data": {
      "text/html": [
       "<div>\n",
       "<style scoped>\n",
       "    .dataframe tbody tr th:only-of-type {\n",
       "        vertical-align: middle;\n",
       "    }\n",
       "\n",
       "    .dataframe tbody tr th {\n",
       "        vertical-align: top;\n",
       "    }\n",
       "\n",
       "    .dataframe thead tr th {\n",
       "        text-align: left;\n",
       "    }\n",
       "</style>\n",
       "<table border=\"1\" class=\"dataframe\">\n",
       "  <thead>\n",
       "    <tr>\n",
       "      <th></th>\n",
       "      <th colspan=\"4\" halign=\"left\">expected approximation ratio</th>\n",
       "      <th colspan=\"4\" halign=\"left\">groundspace overlap</th>\n",
       "      <th colspan=\"2\" halign=\"left\">groundspace sharpness</th>\n",
       "      <th>...</th>\n",
       "      <th colspan=\"2\" halign=\"left\">Approximation ratio</th>\n",
       "      <th colspan=\"4\" halign=\"left\">circuit count</th>\n",
       "      <th colspan=\"4\" halign=\"left\">gate count</th>\n",
       "    </tr>\n",
       "    <tr>\n",
       "      <th></th>\n",
       "      <th>min</th>\n",
       "      <th>max</th>\n",
       "      <th>mean</th>\n",
       "      <th>stdv</th>\n",
       "      <th>min</th>\n",
       "      <th>max</th>\n",
       "      <th>mean</th>\n",
       "      <th>stdv</th>\n",
       "      <th>min</th>\n",
       "      <th>max</th>\n",
       "      <th>...</th>\n",
       "      <th>mean</th>\n",
       "      <th>stdv</th>\n",
       "      <th>min</th>\n",
       "      <th>max</th>\n",
       "      <th>mean</th>\n",
       "      <th>stdv</th>\n",
       "      <th>min</th>\n",
       "      <th>max</th>\n",
       "      <th>mean</th>\n",
       "      <th>stdv</th>\n",
       "    </tr>\n",
       "  </thead>\n",
       "  <tbody>\n",
       "  </tbody>\n",
       "</table>\n",
       "<p>0 rows × 24 columns</p>\n",
       "</div>"
      ],
      "text/plain": [
       "Empty DataFrame\n",
       "Columns: [(expected approximation ratio, min), (expected approximation ratio, max), (expected approximation ratio, mean), (expected approximation ratio, stdv), (groundspace overlap, min), (groundspace overlap, max), (groundspace overlap, mean), (groundspace overlap, stdv), (groundspace sharpness, min), (groundspace sharpness, max), (groundspace sharpness, mean), (groundspace sharpness, stdv), (Approximation ratio, min), (Approximation ratio, max), (Approximation ratio, mean), (Approximation ratio, stdv), (circuit count, min), (circuit count, max), (circuit count, mean), (circuit count, stdv), (gate count, min), (gate count, max), (gate count, mean), (gate count, stdv)]\n",
       "Index: []\n",
       "\n",
       "[0 rows x 24 columns]"
      ]
     },
     "execution_count": 28,
     "metadata": {},
     "output_type": "execute_result"
    }
   ],
   "source": [
    "\n",
    "dfp = df[df['p']==1]\n",
    "measures = ['expected approximation ratio', 'groundspace overlap', 'groundspace sharpness', 'Approximation ratio', 'circuit count', 'gate count']\n",
    "types = ['min','max', 'mean', 'stdv']\n",
    "measure_index=pd.MultiIndex.from_product([measures, types])\n",
    "summary = pd.DataFrame(columns=measure_index)\n",
    "summary"
   ]
  },
  {
   "cell_type": "code",
   "execution_count": 3,
   "metadata": {
    "collapsed": false
   },
   "outputs": [],
   "source": [
    "def prob(num:int, state:Qobj):\n",
    "    n = state.shape[0]\n",
    "    return abs(state.overlap(basis(n,num)))**2\n",
    "\n",
    "def answer(state:Qobj):\n",
    "    return max(range(state.shape[0]), key=lambda x:prob(x,state))\n",
    "\n",
    "def bin_answer(state:Qobj):\n",
    "    return format(answer(state),  f'0{len(state.dims[0])}b')"
   ]
  },
  {
   "cell_type": "code",
   "execution_count": 4,
   "metadata": {
    "collapsed": false
   },
   "outputs": [],
   "source": [
    "def best_cost_value(qaoa:QAOA):\n",
    "    return qaoa.H.groundstate()[0]\n",
    "\n",
    "def approximation_ratio(bin_answer:int, best_cost_value:float, qaoa:QAOA):\n",
    "    i = list(int(b) for b in bin_answer)\n",
    "    dims = [2 for _ in range(qaoa.n)]\n",
    "    return expect(qaoa.H,basis(dims,i))/best_cost_value\n",
    "\n",
    "def expectation_of_approximation_ratio(state:Qobj, best_cost_value:float, qaoa:QAOA):\n",
    "    return (expect(qaoa.H, state))/best_cost_value\n"
   ]
  },
  {
   "cell_type": "code",
   "execution_count": 22,
   "metadata": {
    "collapsed": false
   },
   "outputs": [],
   "source": [
    "def num_metric_gates(n:int,p:int,qubo:NDArray):\n",
    "    Q = np.count_nonzero(qubo)\n",
    "    N = 2*p*(n+Q)\n",
    "    C1 = 1/2 * n**4 + 2*n**3 + 7/2*n**2\n",
    "    C2 = n**4 + 5/2*(n**3 + n**2)\n",
    "    return N*C1*(7/3*p**2 +2*p + 1/3) + (2*C2-N*C1)*(1/2*p**2 +3/2*p)\n",
    "\n",
    "def num_gradient_gates(n:int,p:int,qubo:NDArray):\n",
    "    Q = np.count_nonzero(qubo)\n",
    "    N = 2*p*(n+Q)\n",
    "    return (n**4 -2*n**3 +n**2)/4 * (2*N+4) + 3*n*(n*(n-1))/2*(2*(N+3)) + 2*n**2*(2*N+3)\n",
    "\n",
    "def num_qaoa_gates(n:int,p:int, qubo:NDArray):\n",
    "    Q = np.count_nonzero(qubo)\n",
    "    return 2*p*(n+Q)\n",
    "\n",
    "def circuit_count(steps:int, algorithm:str, p:int, n:int):\n",
    "    if algorithm =='tdvp':\n",
    "        return steps*(p**2 + p)*(1/8*n**4 +1/2*n**3 -5/8*n**2) + 1\n",
    "    if algorithm ==\"scipy\":\n",
    "        return steps + 1\n",
    "\n",
    "def gate_count(steps:int, algorithm:str, qaoa:QAOA, p:int, n:int):\n",
    "    if algorithm=='tdvp':\n",
    "        return steps*(num_metric_gates(n,p,qaoa.qubo) + num_gradient_gates(n,p,qaoa.qubo)) + num_qaoa_gates(n,p,qaoa.qubo)\n",
    "    if algorithm=='scipy':\n",
    "        return (1+steps)*num_qaoa_gates(n,p,qaoa.qubo)"
   ]
  },
  {
   "cell_type": "code",
   "execution_count": 6,
   "metadata": {
    "collapsed": false
   },
   "outputs": [],
   "source": [
    "def groundspace(qaoa:QAOA):\n",
    "    eigenenergies, eigenstates = qaoa.H.eigenstates(sort='low')\n",
    "    groundenergy = eigenenergies[0]\n",
    "\n",
    "    num_of_eigenstates = 0\n",
    "    for e in eigenenergies:\n",
    "        if e==groundenergy:\n",
    "            num_of_eigenstates +=1\n",
    "        if e != groundenergy:\n",
    "            break\n",
    "    return eigenstates[:num_of_eigenstates]\n",
    "\n",
    "def groundspace_overlap(groundstates:List[Qobj], state:Qobj):\n",
    "    return  sum(abs(g.overlap(state))**2 for g in groundstates)\n",
    "\n",
    "def groundspace_sharpness(groundstates:List[Qobj], state:Qobj):\n",
    "    P_0 = sum(g*g.dag() for g in groundstates)\n",
    "    return math.sqrt(variance(P_0,state))\n"
   ]
  },
  {
   "cell_type": "code",
   "execution_count": 10,
   "metadata": {
    "collapsed": false
   },
   "outputs": [],
   "source": [
    "# df['groundspace'] = df.swifter.apply(lambda row: groundspace(row.qaoa), axis=1)"
   ]
  },
  {
   "cell_type": "code",
   "execution_count": 11,
   "metadata": {
    "collapsed": false
   },
   "outputs": [
    {
     "data": {
      "application/vnd.jupyter.widget-view+json": {
       "model_id": "704bc78961d148d79da96782d9a2cf73",
       "version_major": 2,
       "version_minor": 0
      },
      "text/plain": [
       "Pandas Apply:   0%|          | 0/1000 [00:00<?, ?it/s]"
      ]
     },
     "metadata": {},
     "output_type": "display_data"
    },
    {
     "ename": "ValueError",
     "evalue": "cannot insert groundspace_overlap, already exists",
     "output_type": "error",
     "traceback": [
      "\u001B[0;31m---------------------------------------------------------------------------\u001B[0m",
      "\u001B[0;31mValueError\u001B[0m                                Traceback (most recent call last)",
      "Cell \u001B[0;32mIn [11], line 1\u001B[0m\n\u001B[0;32m----> 1\u001B[0m \u001B[43mdf\u001B[49m\u001B[38;5;241;43m.\u001B[39;49m\u001B[43minsert\u001B[49m\u001B[43m(\u001B[49m\u001B[38;5;241;43m3\u001B[39;49m\u001B[43m,\u001B[49m\u001B[38;5;124;43m'\u001B[39;49m\u001B[38;5;124;43mgroundspace_overlap\u001B[39;49m\u001B[38;5;124;43m'\u001B[39;49m\u001B[43m,\u001B[49m\u001B[43m \u001B[49m\u001B[43mdf\u001B[49m\u001B[38;5;241;43m.\u001B[39;49m\u001B[43mswifter\u001B[49m\u001B[38;5;241;43m.\u001B[39;49m\u001B[43mapply\u001B[49m\u001B[43m(\u001B[49m\u001B[38;5;28;43;01mlambda\u001B[39;49;00m\u001B[43m \u001B[49m\u001B[43mrow\u001B[49m\u001B[43m:\u001B[49m\u001B[43m \u001B[49m\u001B[43mgroundspace_overlap\u001B[49m\u001B[43m(\u001B[49m\u001B[43mrow\u001B[49m\u001B[43m[\u001B[49m\u001B[38;5;124;43m'\u001B[39;49m\u001B[38;5;124;43mgroundspace\u001B[39;49m\u001B[38;5;124;43m'\u001B[39;49m\u001B[43m]\u001B[49m\u001B[43m,\u001B[49m\u001B[43m \u001B[49m\u001B[43mrow\u001B[49m\u001B[43m[\u001B[49m\u001B[38;5;124;43m'\u001B[39;49m\u001B[38;5;124;43mfinal_state\u001B[39;49m\u001B[38;5;124;43m'\u001B[39;49m\u001B[43m]\u001B[49m\u001B[43m)\u001B[49m\u001B[43m,\u001B[49m\u001B[43m \u001B[49m\u001B[43maxis\u001B[49m\u001B[38;5;241;43m=\u001B[39;49m\u001B[38;5;241;43m1\u001B[39;49m\u001B[43m)\u001B[49m\u001B[43m)\u001B[49m\n",
      "File \u001B[0;32m~/anaconda3/envs/qutip-env/lib/python3.10/site-packages/pandas/core/frame.py:4806\u001B[0m, in \u001B[0;36mDataFrame.insert\u001B[0;34m(self, loc, column, value, allow_duplicates)\u001B[0m\n\u001B[1;32m   4800\u001B[0m     \u001B[38;5;28;01mraise\u001B[39;00m \u001B[38;5;167;01mValueError\u001B[39;00m(\n\u001B[1;32m   4801\u001B[0m         \u001B[38;5;124m\"\u001B[39m\u001B[38;5;124mCannot specify \u001B[39m\u001B[38;5;124m'\u001B[39m\u001B[38;5;124mallow_duplicates=True\u001B[39m\u001B[38;5;124m'\u001B[39m\u001B[38;5;124m when \u001B[39m\u001B[38;5;124m\"\u001B[39m\n\u001B[1;32m   4802\u001B[0m         \u001B[38;5;124m\"\u001B[39m\u001B[38;5;124m'\u001B[39m\u001B[38;5;124mself.flags.allows_duplicate_labels\u001B[39m\u001B[38;5;124m'\u001B[39m\u001B[38;5;124m is False.\u001B[39m\u001B[38;5;124m\"\u001B[39m\n\u001B[1;32m   4803\u001B[0m     )\n\u001B[1;32m   4804\u001B[0m \u001B[38;5;28;01mif\u001B[39;00m \u001B[38;5;129;01mnot\u001B[39;00m allow_duplicates \u001B[38;5;129;01mand\u001B[39;00m column \u001B[38;5;129;01min\u001B[39;00m \u001B[38;5;28mself\u001B[39m\u001B[38;5;241m.\u001B[39mcolumns:\n\u001B[1;32m   4805\u001B[0m     \u001B[38;5;66;03m# Should this be a different kind of error??\u001B[39;00m\n\u001B[0;32m-> 4806\u001B[0m     \u001B[38;5;28;01mraise\u001B[39;00m \u001B[38;5;167;01mValueError\u001B[39;00m(\u001B[38;5;124mf\u001B[39m\u001B[38;5;124m\"\u001B[39m\u001B[38;5;124mcannot insert \u001B[39m\u001B[38;5;132;01m{\u001B[39;00mcolumn\u001B[38;5;132;01m}\u001B[39;00m\u001B[38;5;124m, already exists\u001B[39m\u001B[38;5;124m\"\u001B[39m)\n\u001B[1;32m   4807\u001B[0m \u001B[38;5;28;01mif\u001B[39;00m \u001B[38;5;129;01mnot\u001B[39;00m \u001B[38;5;28misinstance\u001B[39m(loc, \u001B[38;5;28mint\u001B[39m):\n\u001B[1;32m   4808\u001B[0m     \u001B[38;5;28;01mraise\u001B[39;00m \u001B[38;5;167;01mTypeError\u001B[39;00m(\u001B[38;5;124m\"\u001B[39m\u001B[38;5;124mloc must be int\u001B[39m\u001B[38;5;124m\"\u001B[39m)\n",
      "\u001B[0;31mValueError\u001B[0m: cannot insert groundspace_overlap, already exists"
     ]
    }
   ],
   "source": [
    "# df.insert(3,'groundspace_overlap', df.swifter.apply(lambda row: groundspace_overlap(row['groundspace'], row['final_state']), axis=1))"
   ]
  },
  {
   "cell_type": "code",
   "execution_count": 12,
   "metadata": {
    "collapsed": false
   },
   "outputs": [
    {
     "data": {
      "application/vnd.jupyter.widget-view+json": {
       "model_id": "80bb343b12384f70ad09b733342e537b",
       "version_major": 2,
       "version_minor": 0
      },
      "text/plain": [
       "Pandas Apply:   0%|          | 0/1000 [00:00<?, ?it/s]"
      ]
     },
     "metadata": {},
     "output_type": "display_data"
    },
    {
     "ename": "ValueError",
     "evalue": "cannot insert groundspace_sharpness, already exists",
     "output_type": "error",
     "traceback": [
      "\u001B[0;31m---------------------------------------------------------------------------\u001B[0m",
      "\u001B[0;31mValueError\u001B[0m                                Traceback (most recent call last)",
      "Cell \u001B[0;32mIn [12], line 1\u001B[0m\n\u001B[0;32m----> 1\u001B[0m \u001B[43mdf\u001B[49m\u001B[38;5;241;43m.\u001B[39;49m\u001B[43minsert\u001B[49m\u001B[43m(\u001B[49m\u001B[38;5;241;43m4\u001B[39;49m\u001B[43m,\u001B[49m\u001B[43m \u001B[49m\u001B[38;5;124;43m'\u001B[39;49m\u001B[38;5;124;43mgroundspace_sharpness\u001B[39;49m\u001B[38;5;124;43m'\u001B[39;49m\u001B[43m,\u001B[49m\u001B[43m \u001B[49m\u001B[43mdf\u001B[49m\u001B[38;5;241;43m.\u001B[39;49m\u001B[43mswifter\u001B[49m\u001B[38;5;241;43m.\u001B[39;49m\u001B[43mapply\u001B[49m\u001B[43m(\u001B[49m\u001B[38;5;28;43;01mlambda\u001B[39;49;00m\u001B[43m \u001B[49m\u001B[43mrow\u001B[49m\u001B[43m:\u001B[49m\u001B[43m \u001B[49m\u001B[43mgroundspace_sharpness\u001B[49m\u001B[43m(\u001B[49m\u001B[43mrow\u001B[49m\u001B[43m[\u001B[49m\u001B[38;5;124;43m'\u001B[39;49m\u001B[38;5;124;43mgroundspace\u001B[39;49m\u001B[38;5;124;43m'\u001B[39;49m\u001B[43m]\u001B[49m\u001B[43m,\u001B[49m\u001B[43m \u001B[49m\u001B[43mrow\u001B[49m\u001B[43m[\u001B[49m\u001B[38;5;124;43m'\u001B[39;49m\u001B[38;5;124;43mfinal_state\u001B[39;49m\u001B[38;5;124;43m'\u001B[39;49m\u001B[43m]\u001B[49m\u001B[43m)\u001B[49m\u001B[43m,\u001B[49m\u001B[43m \u001B[49m\u001B[43maxis\u001B[49m\u001B[38;5;241;43m=\u001B[39;49m\u001B[38;5;241;43m1\u001B[39;49m\u001B[43m)\u001B[49m\u001B[43m)\u001B[49m\n",
      "File \u001B[0;32m~/anaconda3/envs/qutip-env/lib/python3.10/site-packages/pandas/core/frame.py:4806\u001B[0m, in \u001B[0;36mDataFrame.insert\u001B[0;34m(self, loc, column, value, allow_duplicates)\u001B[0m\n\u001B[1;32m   4800\u001B[0m     \u001B[38;5;28;01mraise\u001B[39;00m \u001B[38;5;167;01mValueError\u001B[39;00m(\n\u001B[1;32m   4801\u001B[0m         \u001B[38;5;124m\"\u001B[39m\u001B[38;5;124mCannot specify \u001B[39m\u001B[38;5;124m'\u001B[39m\u001B[38;5;124mallow_duplicates=True\u001B[39m\u001B[38;5;124m'\u001B[39m\u001B[38;5;124m when \u001B[39m\u001B[38;5;124m\"\u001B[39m\n\u001B[1;32m   4802\u001B[0m         \u001B[38;5;124m\"\u001B[39m\u001B[38;5;124m'\u001B[39m\u001B[38;5;124mself.flags.allows_duplicate_labels\u001B[39m\u001B[38;5;124m'\u001B[39m\u001B[38;5;124m is False.\u001B[39m\u001B[38;5;124m\"\u001B[39m\n\u001B[1;32m   4803\u001B[0m     )\n\u001B[1;32m   4804\u001B[0m \u001B[38;5;28;01mif\u001B[39;00m \u001B[38;5;129;01mnot\u001B[39;00m allow_duplicates \u001B[38;5;129;01mand\u001B[39;00m column \u001B[38;5;129;01min\u001B[39;00m \u001B[38;5;28mself\u001B[39m\u001B[38;5;241m.\u001B[39mcolumns:\n\u001B[1;32m   4805\u001B[0m     \u001B[38;5;66;03m# Should this be a different kind of error??\u001B[39;00m\n\u001B[0;32m-> 4806\u001B[0m     \u001B[38;5;28;01mraise\u001B[39;00m \u001B[38;5;167;01mValueError\u001B[39;00m(\u001B[38;5;124mf\u001B[39m\u001B[38;5;124m\"\u001B[39m\u001B[38;5;124mcannot insert \u001B[39m\u001B[38;5;132;01m{\u001B[39;00mcolumn\u001B[38;5;132;01m}\u001B[39;00m\u001B[38;5;124m, already exists\u001B[39m\u001B[38;5;124m\"\u001B[39m)\n\u001B[1;32m   4807\u001B[0m \u001B[38;5;28;01mif\u001B[39;00m \u001B[38;5;129;01mnot\u001B[39;00m \u001B[38;5;28misinstance\u001B[39m(loc, \u001B[38;5;28mint\u001B[39m):\n\u001B[1;32m   4808\u001B[0m     \u001B[38;5;28;01mraise\u001B[39;00m \u001B[38;5;167;01mTypeError\u001B[39;00m(\u001B[38;5;124m\"\u001B[39m\u001B[38;5;124mloc must be int\u001B[39m\u001B[38;5;124m\"\u001B[39m)\n",
      "\u001B[0;31mValueError\u001B[0m: cannot insert groundspace_sharpness, already exists"
     ]
    }
   ],
   "source": [
    "# df.insert(4, 'groundspace_sharpness', df.swifter.apply(lambda row: groundspace_sharpness(row['groundspace'], row['final_state']), axis=1))"
   ]
  },
  {
   "cell_type": "code",
   "execution_count": 14,
   "metadata": {
    "collapsed": false
   },
   "outputs": [
    {
     "data": {
      "text/plain": [
       "0        24\n",
       "1        30\n",
       "2        37\n",
       "3        44\n",
       "4        31\n",
       "       ... \n",
       "995      98\n",
       "996     469\n",
       "997     441\n",
       "998     782\n",
       "999    1000\n",
       "Name: steps, Length: 1000, dtype: int64"
      ]
     },
     "execution_count": 14,
     "metadata": {},
     "output_type": "execute_result"
    }
   ],
   "source": [
    "df['steps']"
   ]
  },
  {
   "cell_type": "code",
   "execution_count": 15,
   "metadata": {
    "collapsed": false
   },
   "outputs": [
    {
     "data": {
      "application/vnd.jupyter.widget-view+json": {
       "model_id": "54c38f5b990a4e60a869be154a0a95b4",
       "version_major": 2,
       "version_minor": 0
      },
      "text/plain": [
       "Pandas Apply:   0%|          | 0/1000 [00:00<?, ?it/s]"
      ]
     },
     "metadata": {},
     "output_type": "display_data"
    }
   ],
   "source": [
    "df['circuit_count']= df.swifter.apply(lambda row: circuit_count(row['steps'], row['algorithm'], row['p'], row['n']), axis=1)"
   ]
  },
  {
   "cell_type": "code",
   "execution_count": 23,
   "metadata": {
    "collapsed": false
   },
   "outputs": [
    {
     "data": {
      "application/vnd.jupyter.widget-view+json": {
       "model_id": "65f0f8e01a5744f9b9550836ca8a842e",
       "version_major": 2,
       "version_minor": 0
      },
      "text/plain": [
       "Pandas Apply:   0%|          | 0/1000 [00:00<?, ?it/s]"
      ]
     },
     "metadata": {},
     "output_type": "display_data"
    }
   ],
   "source": [
    "df['gate_count'] =df.swifter.apply(lambda row: gate_count(row['steps'], row['algorithm'],row['qaoa'], row['p'], row['n']), axis=1)"
   ]
  },
  {
   "cell_type": "code",
   "execution_count": 19,
   "metadata": {
    "collapsed": false
   },
   "outputs": [
    {
     "data": {
      "application/vnd.jupyter.widget-view+json": {
       "model_id": "ab8556fd53e441948798c40c5c32858e",
       "version_major": 2,
       "version_minor": 0
      },
      "text/plain": [
       "Pandas Apply:   0%|          | 0/1000 [00:00<?, ?it/s]"
      ]
     },
     "metadata": {},
     "output_type": "display_data"
    }
   ],
   "source": [
    "df['answer'] = df.swifter.apply(lambda row: answer(row['final_state']), axis=1)"
   ]
  },
  {
   "cell_type": "code",
   "execution_count": 51,
   "metadata": {
    "collapsed": false
   },
   "outputs": [
    {
     "data": {
      "application/vnd.jupyter.widget-view+json": {
       "model_id": "49042352e24b4a5aa7183cea27bfe533",
       "version_major": 2,
       "version_minor": 0
      },
      "text/plain": [
       "Pandas Apply:   0%|          | 0/1000 [00:00<?, ?it/s]"
      ]
     },
     "metadata": {},
     "output_type": "display_data"
    }
   ],
   "source": [
    "df['bin_answer'] = df.swifter.apply(lambda row: bin_answer(row['final_state']), axis=1)"
   ]
  },
  {
   "cell_type": "code",
   "execution_count": 52,
   "metadata": {
    "collapsed": false
   },
   "outputs": [
    {
     "ename": "KeyboardInterrupt",
     "evalue": "",
     "output_type": "error",
     "traceback": [
      "\u001B[0;31m---------------------------------------------------------------------------\u001B[0m",
      "\u001B[0;31mAttributeError\u001B[0m                            Traceback (most recent call last)",
      "File \u001B[0;32m~/anaconda3/envs/qutip-env/lib/python3.10/site-packages/swifter/swifter.py:427\u001B[0m, in \u001B[0;36mDataFrameAccessor.apply\u001B[0;34m(self, func, axis, raw, result_type, args, **kwds)\u001B[0m\n\u001B[1;32m    426\u001B[0m \u001B[38;5;28;01mwith\u001B[39;00m suppress_stdout_stderr_logging():\n\u001B[0;32m--> 427\u001B[0m     tmp_df \u001B[38;5;241m=\u001B[39m \u001B[43mfunc\u001B[49m\u001B[43m(\u001B[49m\u001B[43msample\u001B[49m\u001B[43m,\u001B[49m\u001B[43m \u001B[49m\u001B[38;5;241;43m*\u001B[39;49m\u001B[43margs\u001B[49m\u001B[43m,\u001B[49m\u001B[43m \u001B[49m\u001B[38;5;241;43m*\u001B[39;49m\u001B[38;5;241;43m*\u001B[39;49m\u001B[43mkwds\u001B[49m\u001B[43m)\u001B[49m\n\u001B[1;32m    428\u001B[0m     sample_df \u001B[38;5;241m=\u001B[39m sample\u001B[38;5;241m.\u001B[39mapply(func, axis\u001B[38;5;241m=\u001B[39maxis, raw\u001B[38;5;241m=\u001B[39mraw, result_type\u001B[38;5;241m=\u001B[39mresult_type, args\u001B[38;5;241m=\u001B[39margs, \u001B[38;5;241m*\u001B[39m\u001B[38;5;241m*\u001B[39mkwds)\n",
      "Cell \u001B[0;32mIn [52], line 1\u001B[0m, in \u001B[0;36m<lambda>\u001B[0;34m(row)\u001B[0m\n\u001B[0;32m----> 1\u001B[0m df\u001B[38;5;241m.\u001B[39minsert(\u001B[38;5;241m3\u001B[39m, \u001B[38;5;124m'\u001B[39m\u001B[38;5;124mbest_cost_value\u001B[39m\u001B[38;5;124m'\u001B[39m, df\u001B[38;5;241m.\u001B[39mswifter\u001B[38;5;241m.\u001B[39mapply(\u001B[38;5;28;01mlambda\u001B[39;00m row: \u001B[43mbest_cost_value\u001B[49m\u001B[43m(\u001B[49m\u001B[43mrow\u001B[49m\u001B[43m[\u001B[49m\u001B[38;5;124;43m'\u001B[39;49m\u001B[38;5;124;43mqaoa\u001B[39;49m\u001B[38;5;124;43m'\u001B[39;49m\u001B[43m]\u001B[49m\u001B[43m)\u001B[49m, axis\u001B[38;5;241m=\u001B[39m\u001B[38;5;241m1\u001B[39m))\n",
      "Cell \u001B[0;32mIn [50], line 2\u001B[0m, in \u001B[0;36mbest_cost_value\u001B[0;34m(qaoa)\u001B[0m\n\u001B[1;32m      1\u001B[0m \u001B[38;5;28;01mdef\u001B[39;00m \u001B[38;5;21mbest_cost_value\u001B[39m(qaoa:QAOA):\n\u001B[0;32m----> 2\u001B[0m     \u001B[38;5;28;01mreturn\u001B[39;00m \u001B[43mqaoa\u001B[49m\u001B[38;5;241;43m.\u001B[39;49m\u001B[43mH\u001B[49m\u001B[38;5;241m.\u001B[39mgroundstate()[\u001B[38;5;241m0\u001B[39m]\n",
      "File \u001B[0;32m~/anaconda3/envs/qutip-env/lib/python3.10/site-packages/pandas/core/generic.py:5902\u001B[0m, in \u001B[0;36mNDFrame.__getattr__\u001B[0;34m(self, name)\u001B[0m\n\u001B[1;32m   5901\u001B[0m     \u001B[38;5;28;01mreturn\u001B[39;00m \u001B[38;5;28mself\u001B[39m[name]\n\u001B[0;32m-> 5902\u001B[0m \u001B[38;5;28;01mreturn\u001B[39;00m \u001B[38;5;28;43mobject\u001B[39;49m\u001B[38;5;241;43m.\u001B[39;49m\u001B[38;5;21;43m__getattribute__\u001B[39;49m\u001B[43m(\u001B[49m\u001B[38;5;28;43mself\u001B[39;49m\u001B[43m,\u001B[49m\u001B[43m \u001B[49m\u001B[43mname\u001B[49m\u001B[43m)\u001B[49m\n",
      "\u001B[0;31mAttributeError\u001B[0m: 'Series' object has no attribute 'H'",
      "\nDuring handling of the above exception, another exception occurred:\n",
      "\u001B[0;31mKeyboardInterrupt\u001B[0m                         Traceback (most recent call last)",
      "Cell \u001B[0;32mIn [52], line 1\u001B[0m\n\u001B[0;32m----> 1\u001B[0m df\u001B[38;5;241m.\u001B[39minsert(\u001B[38;5;241m3\u001B[39m, \u001B[38;5;124m'\u001B[39m\u001B[38;5;124mbest_cost_value\u001B[39m\u001B[38;5;124m'\u001B[39m, \u001B[43mdf\u001B[49m\u001B[38;5;241;43m.\u001B[39;49m\u001B[43mswifter\u001B[49m\u001B[38;5;241;43m.\u001B[39;49m\u001B[43mapply\u001B[49m\u001B[43m(\u001B[49m\u001B[38;5;28;43;01mlambda\u001B[39;49;00m\u001B[43m \u001B[49m\u001B[43mrow\u001B[49m\u001B[43m:\u001B[49m\u001B[43m \u001B[49m\u001B[43mbest_cost_value\u001B[49m\u001B[43m(\u001B[49m\u001B[43mrow\u001B[49m\u001B[43m[\u001B[49m\u001B[38;5;124;43m'\u001B[39;49m\u001B[38;5;124;43mqaoa\u001B[39;49m\u001B[38;5;124;43m'\u001B[39;49m\u001B[43m]\u001B[49m\u001B[43m)\u001B[49m\u001B[43m,\u001B[49m\u001B[43m \u001B[49m\u001B[43maxis\u001B[49m\u001B[38;5;241;43m=\u001B[39;49m\u001B[38;5;241;43m1\u001B[39;49m\u001B[43m)\u001B[49m)\n",
      "File \u001B[0;32m~/anaconda3/envs/qutip-env/lib/python3.10/site-packages/swifter/swifter.py:436\u001B[0m, in \u001B[0;36mDataFrameAccessor.apply\u001B[0;34m(self, func, axis, raw, result_type, args, **kwds)\u001B[0m\n\u001B[1;32m    434\u001B[0m \u001B[38;5;28;01mexcept\u001B[39;00m ERRORS_TO_HANDLE:  \u001B[38;5;66;03m# if can't vectorize, estimate time to pandas apply\u001B[39;00m\n\u001B[1;32m    435\u001B[0m     wrapped \u001B[38;5;241m=\u001B[39m \u001B[38;5;28mself\u001B[39m\u001B[38;5;241m.\u001B[39m_wrapped_apply(func, axis\u001B[38;5;241m=\u001B[39maxis, raw\u001B[38;5;241m=\u001B[39mraw, result_type\u001B[38;5;241m=\u001B[39mresult_type, args\u001B[38;5;241m=\u001B[39margs, \u001B[38;5;241m*\u001B[39m\u001B[38;5;241m*\u001B[39mkwds)\n\u001B[0;32m--> 436\u001B[0m     timed \u001B[38;5;241m=\u001B[39m \u001B[43mtimeit\u001B[49m\u001B[38;5;241;43m.\u001B[39;49m\u001B[43mtimeit\u001B[49m\u001B[43m(\u001B[49m\u001B[43mwrapped\u001B[49m\u001B[43m,\u001B[49m\u001B[43m \u001B[49m\u001B[43mnumber\u001B[49m\u001B[38;5;241;43m=\u001B[39;49m\u001B[43mN_REPEATS\u001B[49m\u001B[43m)\u001B[49m\n\u001B[1;32m    437\u001B[0m     sample_proc_est \u001B[38;5;241m=\u001B[39m timed \u001B[38;5;241m/\u001B[39m N_REPEATS\n\u001B[1;32m    438\u001B[0m     est_apply_duration \u001B[38;5;241m=\u001B[39m sample_proc_est \u001B[38;5;241m/\u001B[39m \u001B[38;5;28mself\u001B[39m\u001B[38;5;241m.\u001B[39m_SAMPLE_SIZE \u001B[38;5;241m*\u001B[39m \u001B[38;5;28mself\u001B[39m\u001B[38;5;241m.\u001B[39m_nrows\n",
      "File \u001B[0;32m~/anaconda3/envs/qutip-env/lib/python3.10/timeit.py:234\u001B[0m, in \u001B[0;36mtimeit\u001B[0;34m(stmt, setup, timer, number, globals)\u001B[0m\n\u001B[1;32m    231\u001B[0m \u001B[38;5;28;01mdef\u001B[39;00m \u001B[38;5;21mtimeit\u001B[39m(stmt\u001B[38;5;241m=\u001B[39m\u001B[38;5;124m\"\u001B[39m\u001B[38;5;124mpass\u001B[39m\u001B[38;5;124m\"\u001B[39m, setup\u001B[38;5;241m=\u001B[39m\u001B[38;5;124m\"\u001B[39m\u001B[38;5;124mpass\u001B[39m\u001B[38;5;124m\"\u001B[39m, timer\u001B[38;5;241m=\u001B[39mdefault_timer,\n\u001B[1;32m    232\u001B[0m            number\u001B[38;5;241m=\u001B[39mdefault_number, \u001B[38;5;28mglobals\u001B[39m\u001B[38;5;241m=\u001B[39m\u001B[38;5;28;01mNone\u001B[39;00m):\n\u001B[1;32m    233\u001B[0m     \u001B[38;5;124;03m\"\"\"Convenience function to create Timer object and call timeit method.\"\"\"\u001B[39;00m\n\u001B[0;32m--> 234\u001B[0m     \u001B[38;5;28;01mreturn\u001B[39;00m \u001B[43mTimer\u001B[49m\u001B[43m(\u001B[49m\u001B[43mstmt\u001B[49m\u001B[43m,\u001B[49m\u001B[43m \u001B[49m\u001B[43msetup\u001B[49m\u001B[43m,\u001B[49m\u001B[43m \u001B[49m\u001B[43mtimer\u001B[49m\u001B[43m,\u001B[49m\u001B[43m \u001B[49m\u001B[38;5;28;43mglobals\u001B[39;49m\u001B[43m)\u001B[49m\u001B[38;5;241;43m.\u001B[39;49m\u001B[43mtimeit\u001B[49m\u001B[43m(\u001B[49m\u001B[43mnumber\u001B[49m\u001B[43m)\u001B[49m\n",
      "File \u001B[0;32m~/anaconda3/envs/qutip-env/lib/python3.10/timeit.py:178\u001B[0m, in \u001B[0;36mTimer.timeit\u001B[0;34m(self, number)\u001B[0m\n\u001B[1;32m    176\u001B[0m gc\u001B[38;5;241m.\u001B[39mdisable()\n\u001B[1;32m    177\u001B[0m \u001B[38;5;28;01mtry\u001B[39;00m:\n\u001B[0;32m--> 178\u001B[0m     timing \u001B[38;5;241m=\u001B[39m \u001B[38;5;28;43mself\u001B[39;49m\u001B[38;5;241;43m.\u001B[39;49m\u001B[43minner\u001B[49m\u001B[43m(\u001B[49m\u001B[43mit\u001B[49m\u001B[43m,\u001B[49m\u001B[43m \u001B[49m\u001B[38;5;28;43mself\u001B[39;49m\u001B[38;5;241;43m.\u001B[39;49m\u001B[43mtimer\u001B[49m\u001B[43m)\u001B[49m\n\u001B[1;32m    179\u001B[0m \u001B[38;5;28;01mfinally\u001B[39;00m:\n\u001B[1;32m    180\u001B[0m     \u001B[38;5;28;01mif\u001B[39;00m gcold:\n",
      "File \u001B[0;32m<timeit-src>:6\u001B[0m, in \u001B[0;36minner\u001B[0;34m(_it, _timer, _stmt)\u001B[0m\n",
      "File \u001B[0;32m~/anaconda3/envs/qutip-env/lib/python3.10/site-packages/swifter/swifter.py:339\u001B[0m, in \u001B[0;36mDataFrameAccessor._wrapped_apply.<locals>.wrapped\u001B[0;34m()\u001B[0m\n\u001B[1;32m    337\u001B[0m \u001B[38;5;28;01mdef\u001B[39;00m \u001B[38;5;21mwrapped\u001B[39m():\n\u001B[1;32m    338\u001B[0m     \u001B[38;5;28;01mwith\u001B[39;00m suppress_stdout_stderr_logging():\n\u001B[0;32m--> 339\u001B[0m         \u001B[38;5;28;43mself\u001B[39;49m\u001B[38;5;241;43m.\u001B[39;49m\u001B[43m_obj\u001B[49m\u001B[38;5;241;43m.\u001B[39;49m\u001B[43miloc\u001B[49m\u001B[43m[\u001B[49m\u001B[38;5;28;43mself\u001B[39;49m\u001B[38;5;241;43m.\u001B[39;49m\u001B[43m_SAMPLE_INDEX\u001B[49m\u001B[43m]\u001B[49m\u001B[38;5;241;43m.\u001B[39;49m\u001B[43mapply\u001B[49m\u001B[43m(\u001B[49m\n\u001B[1;32m    340\u001B[0m \u001B[43m            \u001B[49m\u001B[43mfunc\u001B[49m\u001B[43m,\u001B[49m\u001B[43m \u001B[49m\u001B[43maxis\u001B[49m\u001B[38;5;241;43m=\u001B[39;49m\u001B[43maxis\u001B[49m\u001B[43m,\u001B[49m\u001B[43m \u001B[49m\u001B[43mraw\u001B[49m\u001B[38;5;241;43m=\u001B[39;49m\u001B[43mraw\u001B[49m\u001B[43m,\u001B[49m\u001B[43m \u001B[49m\u001B[43mresult_type\u001B[49m\u001B[38;5;241;43m=\u001B[39;49m\u001B[43mresult_type\u001B[49m\u001B[43m,\u001B[49m\u001B[43m \u001B[49m\u001B[43margs\u001B[49m\u001B[38;5;241;43m=\u001B[39;49m\u001B[43margs\u001B[49m\u001B[43m,\u001B[49m\u001B[43m \u001B[49m\u001B[38;5;241;43m*\u001B[39;49m\u001B[38;5;241;43m*\u001B[39;49m\u001B[43mkwds\u001B[49m\n\u001B[1;32m    341\u001B[0m \u001B[43m        \u001B[49m\u001B[43m)\u001B[49m\n",
      "File \u001B[0;32m~/anaconda3/envs/qutip-env/lib/python3.10/site-packages/pandas/core/frame.py:9555\u001B[0m, in \u001B[0;36mDataFrame.apply\u001B[0;34m(self, func, axis, raw, result_type, args, **kwargs)\u001B[0m\n\u001B[1;32m   9544\u001B[0m \u001B[38;5;28;01mfrom\u001B[39;00m \u001B[38;5;21;01mpandas\u001B[39;00m\u001B[38;5;21;01m.\u001B[39;00m\u001B[38;5;21;01mcore\u001B[39;00m\u001B[38;5;21;01m.\u001B[39;00m\u001B[38;5;21;01mapply\u001B[39;00m \u001B[38;5;28;01mimport\u001B[39;00m frame_apply\n\u001B[1;32m   9546\u001B[0m op \u001B[38;5;241m=\u001B[39m frame_apply(\n\u001B[1;32m   9547\u001B[0m     \u001B[38;5;28mself\u001B[39m,\n\u001B[1;32m   9548\u001B[0m     func\u001B[38;5;241m=\u001B[39mfunc,\n\u001B[0;32m   (...)\u001B[0m\n\u001B[1;32m   9553\u001B[0m     kwargs\u001B[38;5;241m=\u001B[39mkwargs,\n\u001B[1;32m   9554\u001B[0m )\n\u001B[0;32m-> 9555\u001B[0m \u001B[38;5;28;01mreturn\u001B[39;00m \u001B[43mop\u001B[49m\u001B[38;5;241;43m.\u001B[39;49m\u001B[43mapply\u001B[49m\u001B[43m(\u001B[49m\u001B[43m)\u001B[49m\u001B[38;5;241m.\u001B[39m__finalize__(\u001B[38;5;28mself\u001B[39m, method\u001B[38;5;241m=\u001B[39m\u001B[38;5;124m\"\u001B[39m\u001B[38;5;124mapply\u001B[39m\u001B[38;5;124m\"\u001B[39m)\n",
      "File \u001B[0;32m~/anaconda3/envs/qutip-env/lib/python3.10/site-packages/pandas/core/apply.py:746\u001B[0m, in \u001B[0;36mFrameApply.apply\u001B[0;34m(self)\u001B[0m\n\u001B[1;32m    743\u001B[0m \u001B[38;5;28;01melif\u001B[39;00m \u001B[38;5;28mself\u001B[39m\u001B[38;5;241m.\u001B[39mraw:\n\u001B[1;32m    744\u001B[0m     \u001B[38;5;28;01mreturn\u001B[39;00m \u001B[38;5;28mself\u001B[39m\u001B[38;5;241m.\u001B[39mapply_raw()\n\u001B[0;32m--> 746\u001B[0m \u001B[38;5;28;01mreturn\u001B[39;00m \u001B[38;5;28;43mself\u001B[39;49m\u001B[38;5;241;43m.\u001B[39;49m\u001B[43mapply_standard\u001B[49m\u001B[43m(\u001B[49m\u001B[43m)\u001B[49m\n",
      "File \u001B[0;32m~/anaconda3/envs/qutip-env/lib/python3.10/site-packages/pandas/core/apply.py:873\u001B[0m, in \u001B[0;36mFrameApply.apply_standard\u001B[0;34m(self)\u001B[0m\n\u001B[1;32m    872\u001B[0m \u001B[38;5;28;01mdef\u001B[39;00m \u001B[38;5;21mapply_standard\u001B[39m(\u001B[38;5;28mself\u001B[39m):\n\u001B[0;32m--> 873\u001B[0m     results, res_index \u001B[38;5;241m=\u001B[39m \u001B[38;5;28;43mself\u001B[39;49m\u001B[38;5;241;43m.\u001B[39;49m\u001B[43mapply_series_generator\u001B[49m\u001B[43m(\u001B[49m\u001B[43m)\u001B[49m\n\u001B[1;32m    875\u001B[0m     \u001B[38;5;66;03m# wrap results\u001B[39;00m\n\u001B[1;32m    876\u001B[0m     \u001B[38;5;28;01mreturn\u001B[39;00m \u001B[38;5;28mself\u001B[39m\u001B[38;5;241m.\u001B[39mwrap_results(results, res_index)\n",
      "File \u001B[0;32m~/anaconda3/envs/qutip-env/lib/python3.10/site-packages/pandas/core/apply.py:889\u001B[0m, in \u001B[0;36mFrameApply.apply_series_generator\u001B[0;34m(self)\u001B[0m\n\u001B[1;32m    886\u001B[0m \u001B[38;5;28;01mwith\u001B[39;00m option_context(\u001B[38;5;124m\"\u001B[39m\u001B[38;5;124mmode.chained_assignment\u001B[39m\u001B[38;5;124m\"\u001B[39m, \u001B[38;5;28;01mNone\u001B[39;00m):\n\u001B[1;32m    887\u001B[0m     \u001B[38;5;28;01mfor\u001B[39;00m i, v \u001B[38;5;129;01min\u001B[39;00m \u001B[38;5;28menumerate\u001B[39m(series_gen):\n\u001B[1;32m    888\u001B[0m         \u001B[38;5;66;03m# ignore SettingWithCopy here in case the user mutates\u001B[39;00m\n\u001B[0;32m--> 889\u001B[0m         results[i] \u001B[38;5;241m=\u001B[39m \u001B[38;5;28;43mself\u001B[39;49m\u001B[38;5;241;43m.\u001B[39;49m\u001B[43mf\u001B[49m\u001B[43m(\u001B[49m\u001B[43mv\u001B[49m\u001B[43m)\u001B[49m\n\u001B[1;32m    890\u001B[0m         \u001B[38;5;28;01mif\u001B[39;00m \u001B[38;5;28misinstance\u001B[39m(results[i], ABCSeries):\n\u001B[1;32m    891\u001B[0m             \u001B[38;5;66;03m# If we have a view on v, we need to make a copy because\u001B[39;00m\n\u001B[1;32m    892\u001B[0m             \u001B[38;5;66;03m#  series_generator will swap out the underlying data\u001B[39;00m\n\u001B[1;32m    893\u001B[0m             results[i] \u001B[38;5;241m=\u001B[39m results[i]\u001B[38;5;241m.\u001B[39mcopy(deep\u001B[38;5;241m=\u001B[39m\u001B[38;5;28;01mFalse\u001B[39;00m)\n",
      "Cell \u001B[0;32mIn [52], line 1\u001B[0m, in \u001B[0;36m<lambda>\u001B[0;34m(row)\u001B[0m\n\u001B[0;32m----> 1\u001B[0m df\u001B[38;5;241m.\u001B[39minsert(\u001B[38;5;241m3\u001B[39m, \u001B[38;5;124m'\u001B[39m\u001B[38;5;124mbest_cost_value\u001B[39m\u001B[38;5;124m'\u001B[39m, df\u001B[38;5;241m.\u001B[39mswifter\u001B[38;5;241m.\u001B[39mapply(\u001B[38;5;28;01mlambda\u001B[39;00m row: \u001B[43mbest_cost_value\u001B[49m\u001B[43m(\u001B[49m\u001B[43mrow\u001B[49m\u001B[43m[\u001B[49m\u001B[38;5;124;43m'\u001B[39;49m\u001B[38;5;124;43mqaoa\u001B[39;49m\u001B[38;5;124;43m'\u001B[39;49m\u001B[43m]\u001B[49m\u001B[43m)\u001B[49m, axis\u001B[38;5;241m=\u001B[39m\u001B[38;5;241m1\u001B[39m))\n",
      "Cell \u001B[0;32mIn [50], line 2\u001B[0m, in \u001B[0;36mbest_cost_value\u001B[0;34m(qaoa)\u001B[0m\n\u001B[1;32m      1\u001B[0m \u001B[38;5;28;01mdef\u001B[39;00m \u001B[38;5;21mbest_cost_value\u001B[39m(qaoa:QAOA):\n\u001B[0;32m----> 2\u001B[0m     \u001B[38;5;28;01mreturn\u001B[39;00m \u001B[43mqaoa\u001B[49m\u001B[38;5;241;43m.\u001B[39;49m\u001B[43mH\u001B[49m\u001B[38;5;241;43m.\u001B[39;49m\u001B[43mgroundstate\u001B[49m\u001B[43m(\u001B[49m\u001B[43m)\u001B[49m[\u001B[38;5;241m0\u001B[39m]\n",
      "File \u001B[0;32m~/anaconda3/envs/qutip-env/lib/python3.10/site-packages/qutip/qobj.py:1792\u001B[0m, in \u001B[0;36mQobj.groundstate\u001B[0;34m(self, sparse, tol, maxiter, safe)\u001B[0m\n\u001B[1;32m   1790\u001B[0m \u001B[38;5;28;01melse\u001B[39;00m:\n\u001B[1;32m   1791\u001B[0m     evals \u001B[38;5;241m=\u001B[39m \u001B[38;5;241m1\u001B[39m\n\u001B[0;32m-> 1792\u001B[0m grndval, grndvec \u001B[38;5;241m=\u001B[39m \u001B[43msp_eigs\u001B[49m\u001B[43m(\u001B[49m\u001B[38;5;28;43mself\u001B[39;49m\u001B[38;5;241;43m.\u001B[39;49m\u001B[43mdata\u001B[49m\u001B[43m,\u001B[49m\u001B[43m \u001B[49m\u001B[38;5;28;43mself\u001B[39;49m\u001B[38;5;241;43m.\u001B[39;49m\u001B[43misherm\u001B[49m\u001B[43m,\u001B[49m\u001B[43m \u001B[49m\u001B[43msparse\u001B[49m\u001B[38;5;241;43m=\u001B[39;49m\u001B[43msparse\u001B[49m\u001B[43m,\u001B[49m\n\u001B[1;32m   1793\u001B[0m \u001B[43m                           \u001B[49m\u001B[43meigvals\u001B[49m\u001B[38;5;241;43m=\u001B[39;49m\u001B[43mevals\u001B[49m\u001B[43m,\u001B[49m\u001B[43m \u001B[49m\u001B[43mtol\u001B[49m\u001B[38;5;241;43m=\u001B[39;49m\u001B[43mtol\u001B[49m\u001B[43m,\u001B[49m\u001B[43m \u001B[49m\u001B[43mmaxiter\u001B[49m\u001B[38;5;241;43m=\u001B[39;49m\u001B[43mmaxiter\u001B[49m\u001B[43m)\u001B[49m\n\u001B[1;32m   1794\u001B[0m \u001B[38;5;28;01mif\u001B[39;00m safe:\n\u001B[1;32m   1795\u001B[0m     tol \u001B[38;5;241m=\u001B[39m \u001B[38;5;241m1e-15\u001B[39m \u001B[38;5;28;01mif\u001B[39;00m tol \u001B[38;5;241m==\u001B[39m \u001B[38;5;241m0\u001B[39m \u001B[38;5;28;01melse\u001B[39;00m tol\n",
      "File \u001B[0;32m~/anaconda3/envs/qutip-env/lib/python3.10/site-packages/qutip/sparse.py:377\u001B[0m, in \u001B[0;36msp_eigs\u001B[0;34m(data, isherm, vecs, sparse, sort, eigvals, tol, maxiter)\u001B[0m\n\u001B[1;32m    374\u001B[0m     evals, evecs \u001B[38;5;241m=\u001B[39m _sp_eigs(data, isherm, vecs, N, eigvals, num_large,\n\u001B[1;32m    375\u001B[0m                             num_small, tol, maxiter)\n\u001B[1;32m    376\u001B[0m \u001B[38;5;28;01melse\u001B[39;00m:\n\u001B[0;32m--> 377\u001B[0m     evals, evecs \u001B[38;5;241m=\u001B[39m \u001B[43m_dense_eigs\u001B[49m\u001B[43m(\u001B[49m\u001B[43mdata\u001B[49m\u001B[38;5;241;43m.\u001B[39;49m\u001B[43mtoarray\u001B[49m\u001B[43m(\u001B[49m\u001B[43m)\u001B[49m\u001B[43m,\u001B[49m\u001B[43m \u001B[49m\u001B[43misherm\u001B[49m\u001B[43m,\u001B[49m\u001B[43m \u001B[49m\u001B[43mvecs\u001B[49m\u001B[43m,\u001B[49m\u001B[43m \u001B[49m\u001B[43mN\u001B[49m\u001B[43m,\u001B[49m\u001B[43m \u001B[49m\u001B[43meigvals\u001B[49m\u001B[43m,\u001B[49m\n\u001B[1;32m    378\u001B[0m \u001B[43m                               \u001B[49m\u001B[43mnum_large\u001B[49m\u001B[43m,\u001B[49m\u001B[43m \u001B[49m\u001B[43mnum_small\u001B[49m\u001B[43m)\u001B[49m\n\u001B[1;32m    380\u001B[0m \u001B[38;5;28;01mif\u001B[39;00m sort \u001B[38;5;241m==\u001B[39m \u001B[38;5;124m'\u001B[39m\u001B[38;5;124mhigh\u001B[39m\u001B[38;5;124m'\u001B[39m:  \u001B[38;5;66;03m# flip arrays to largest values first\u001B[39;00m\n\u001B[1;32m    381\u001B[0m     \u001B[38;5;28;01mif\u001B[39;00m vecs:\n",
      "File \u001B[0;32m~/anaconda3/envs/qutip-env/lib/python3.10/site-packages/qutip/sparse.py:179\u001B[0m, in \u001B[0;36m_dense_eigs\u001B[0;34m(data, isherm, vecs, N, eigvals, num_large, num_small)\u001B[0m\n\u001B[1;32m    177\u001B[0m \u001B[38;5;28;01melse\u001B[39;00m:\n\u001B[1;32m    178\u001B[0m     \u001B[38;5;28;01mif\u001B[39;00m num_small \u001B[38;5;241m>\u001B[39m \u001B[38;5;241m0\u001B[39m:\n\u001B[0;32m--> 179\u001B[0m         evals, evecs \u001B[38;5;241m=\u001B[39m \u001B[43meigh\u001B[49m\u001B[43m(\u001B[49m\n\u001B[1;32m    180\u001B[0m \u001B[43m            \u001B[49m\u001B[43mdata\u001B[49m\u001B[43m,\u001B[49m\u001B[43m \u001B[49m\u001B[43meigvals\u001B[49m\u001B[38;5;241;43m=\u001B[39;49m\u001B[43m[\u001B[49m\u001B[38;5;241;43m0\u001B[39;49m\u001B[43m,\u001B[49m\u001B[43m \u001B[49m\u001B[43mnum_small\u001B[49m\u001B[43m \u001B[49m\u001B[38;5;241;43m-\u001B[39;49m\u001B[43m \u001B[49m\u001B[38;5;241;43m1\u001B[39;49m\u001B[43m]\u001B[49m\u001B[43m)\u001B[49m\n\u001B[1;32m    181\u001B[0m     \u001B[38;5;28;01mif\u001B[39;00m num_large \u001B[38;5;241m>\u001B[39m \u001B[38;5;241m0\u001B[39m:\n\u001B[1;32m    182\u001B[0m         evals, evecs \u001B[38;5;241m=\u001B[39m eigh(\n\u001B[1;32m    183\u001B[0m             data, eigvals\u001B[38;5;241m=\u001B[39m[N \u001B[38;5;241m-\u001B[39m num_large, N \u001B[38;5;241m-\u001B[39m \u001B[38;5;241m1\u001B[39m])\n",
      "File \u001B[0;32m~/anaconda3/envs/qutip-env/lib/python3.10/site-packages/scipy/linalg/_decomp.py:547\u001B[0m, in \u001B[0;36meigh\u001B[0;34m(a, b, lower, eigvals_only, overwrite_a, overwrite_b, turbo, eigvals, type, check_finite, subset_by_index, subset_by_value, driver)\u001B[0m\n\u001B[1;32m    544\u001B[0m         lwork_args \u001B[38;5;241m=\u001B[39m {\u001B[38;5;124m'\u001B[39m\u001B[38;5;124mlwork\u001B[39m\u001B[38;5;124m'\u001B[39m: lw}\n\u001B[1;32m    546\u001B[0m     drv_args\u001B[38;5;241m.\u001B[39mupdate({\u001B[38;5;124m'\u001B[39m\u001B[38;5;124mlower\u001B[39m\u001B[38;5;124m'\u001B[39m: lower, \u001B[38;5;124m'\u001B[39m\u001B[38;5;124mcompute_v\u001B[39m\u001B[38;5;124m'\u001B[39m: \u001B[38;5;241m0\u001B[39m \u001B[38;5;28;01mif\u001B[39;00m _job \u001B[38;5;241m==\u001B[39m \u001B[38;5;124m\"\u001B[39m\u001B[38;5;124mN\u001B[39m\u001B[38;5;124m\"\u001B[39m \u001B[38;5;28;01melse\u001B[39;00m \u001B[38;5;241m1\u001B[39m})\n\u001B[0;32m--> 547\u001B[0m     w, v, \u001B[38;5;241m*\u001B[39mother_args, info \u001B[38;5;241m=\u001B[39m \u001B[43mdrv\u001B[49m\u001B[43m(\u001B[49m\u001B[43ma\u001B[49m\u001B[38;5;241;43m=\u001B[39;49m\u001B[43ma1\u001B[49m\u001B[43m,\u001B[49m\u001B[43m \u001B[49m\u001B[38;5;241;43m*\u001B[39;49m\u001B[38;5;241;43m*\u001B[39;49m\u001B[43mdrv_args\u001B[49m\u001B[43m,\u001B[49m\u001B[43m \u001B[49m\u001B[38;5;241;43m*\u001B[39;49m\u001B[38;5;241;43m*\u001B[39;49m\u001B[43mlwork_args\u001B[49m\u001B[43m)\u001B[49m\n\u001B[1;32m    549\u001B[0m \u001B[38;5;28;01melse\u001B[39;00m:  \u001B[38;5;66;03m# Generalized problem\u001B[39;00m\n\u001B[1;32m    550\u001B[0m     \u001B[38;5;66;03m# 'gvd' doesn't have lwork query\u001B[39;00m\n\u001B[1;32m    551\u001B[0m     \u001B[38;5;28;01mif\u001B[39;00m driver \u001B[38;5;241m==\u001B[39m \u001B[38;5;124m\"\u001B[39m\u001B[38;5;124mgvd\u001B[39m\u001B[38;5;124m\"\u001B[39m:\n",
      "\u001B[0;31mKeyboardInterrupt\u001B[0m: "
     ]
    }
   ],
   "source": [
    "df.insert(3, 'best_cost_value', df.swifter.apply(lambda row: best_cost_value(row['qaoa']), axis=1))"
   ]
  },
  {
   "cell_type": "code",
   "execution_count": 53,
   "metadata": {
    "collapsed": false
   },
   "outputs": [
    {
     "data": {
      "application/vnd.jupyter.widget-view+json": {
       "model_id": "87cc587059ca48b49d904094a2bf782c",
       "version_major": 2,
       "version_minor": 0
      },
      "text/plain": [
       "Pandas Apply:   0%|          | 0/1000 [00:00<?, ?it/s]"
      ]
     },
     "metadata": {},
     "output_type": "display_data"
    }
   ],
   "source": [
    "df.insert(3, 'approximation_ratio', df.swifter.apply(lambda row: approximation_ratio(row['bin_answer'],row['best_cost_value'],row['qaoa']), axis=1))"
   ]
  },
  {
   "cell_type": "code",
   "execution_count": 56,
   "metadata": {
    "collapsed": false
   },
   "outputs": [
    {
     "data": {
      "application/vnd.jupyter.widget-view+json": {
       "model_id": "7585b0a37c434d5f86895482390f9003",
       "version_major": 2,
       "version_minor": 0
      },
      "text/plain": [
       "Pandas Apply:   0%|          | 0/1000 [00:00<?, ?it/s]"
      ]
     },
     "metadata": {},
     "output_type": "display_data"
    }
   ],
   "source": [
    "df.insert(3, 'expectation_of_approximation_ratio', df.swifter.apply(lambda row: expectation_of_approximation_ratio(row['final_state'],row['best_cost_value'],row['qaoa']), axis=1))"
   ]
  },
  {
   "cell_type": "code",
   "execution_count": 25,
   "metadata": {
    "collapsed": false
   },
   "outputs": [],
   "source": [
    "# with open('..//benchmarks//n10_data.p', 'wb') as file:\n",
    "#     pickle.dump(df,file)"
   ]
  },
  {
   "cell_type": "code",
   "execution_count": null,
   "metadata": {
    "collapsed": false
   },
   "outputs": [],
   "source": []
  }
 ],
 "metadata": {
  "kernelspec": {
   "display_name": "Python 3.10.6 ('qutip-env')",
   "language": "python",
   "name": "python3"
  },
  "language_info": {
   "codemirror_mode": {
    "name": "ipython",
    "version": 3
   },
   "file_extension": ".py",
   "mimetype": "text/x-python",
   "name": "python",
   "nbconvert_exporter": "python",
   "pygments_lexer": "ipython3",
   "version": "3.10.6"
  },
  "orig_nbformat": 4,
  "vscode": {
   "interpreter": {
    "hash": "fe45c953e7d91ced0867b19789acd0ab1d9439aa0b1f4fae31fd46e88f74aeab"
   }
  }
 },
 "nbformat": 4,
 "nbformat_minor": 2
}
