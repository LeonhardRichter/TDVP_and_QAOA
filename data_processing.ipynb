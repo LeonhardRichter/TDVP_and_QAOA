{
 "cells": [
  {
   "cell_type": "code",
   "execution_count": 1,
   "metadata": {
    "pycharm": {
     "name": "#%%\n"
    }
   },
   "outputs": [],
   "source": [
    "import math \n",
    "import numpy as np\n",
    "import pandas as pd\n",
    "import plotly.express as px\n",
    "import plotly.graph_objects as go\n",
    "import random as rng\n",
    "import networkx as nx\n",
    "import matplotlib.pyplot as plt\n",
    "import pickle\n",
    "from typing import Union, List, Any\n",
    "from qaoa_and_tdvp import QAOA, tdvp_optimize_qaoa, scipy_optimize, QAOAResult, Qobj\n",
    "from MaxCut import MaxCut\n",
    "from itertools import *\n",
    "\n",
    "from qutip import tensor, basis, Qobj\n",
    "from qutip.qip.operations import expand_operator, rz\n",
    "\n",
    "from benchmark import (\n",
    "    get_all_connected,\n",
    "    get_connected_rn_graph,\n",
    "    get_rn_qubo,\n",
    "    select_if_connected,\n",
    "    Benchmark,\n",
    ")\n",
    "from qutip.parallel import parallel_map, serial_map"
   ]
  },
  {
   "cell_type": "markdown",
   "metadata": {
    "collapsed": false,
    "pycharm": {
     "name": "#%% md\n"
    }
   },
   "source": [
    "# convert data into DataFrame"
   ]
  },
  {
   "cell_type": "code",
   "execution_count": 6,
   "metadata": {
    "collapsed": false,
    "pycharm": {
     "name": "#%%\n"
    }
   },
   "outputs": [],
   "source": [
    "with open(\"..//benchmarks//RK45_n10_p-1-5_Delta-1.p\",\"rb\") as file:\n",
    "    data: Benchmark = pickle.load(file)\n",
    "\n",
    "scipy_results = list()\n",
    "for d in data.results:\n",
    "    items = d.get(\"tdvp\").__dict__.items()\n",
    "    for k,v in items:\n",
    "        d[k]=v\n",
    "        d[\"algorithm\"] = \"tdvp\"\n",
    "    d[\"n\"] = d[\"_qaoa\"].n\n",
    "    dd = d.copy()\n",
    "    items = dd.get(\"scipy\").__dict__.items()\n",
    "    for k,v in items:\n",
    "        dd[k]=v\n",
    "        dd[\"algorithm\"] = \"scipy\"\n",
    "    dd[\"n\"] = dd[\"_qaoa\"].n\n",
    "    scipy_results.append(dd)\n",
    "\n",
    "data.results.extend(scipy_results)\n",
    "\n",
    "df = pd.DataFrame(data.results)\n",
    "df.pop(\"tdvp\")\n",
    "df.pop(\"scipy\")\n",
    "cols = df.columns.tolist()\n",
    "cols = cols[-1:] + cols[:-1]\n",
    "df = df[cols]\n",
    "\n",
    "df.insert(2,\"algorithm\",df.pop(\"algorithm\"))\n",
    "df.insert(3,\"_optimal_fun_value\",df.pop(\"_optimal_fun_value\"))\n",
    "df.insert(4,\"_num_fun_calls\",df.pop(\"_num_fun_calls\"))\n",
    "df.insert(5,\"_num_steps\",df.pop(\"_num_steps\"))\n",
    "df.insert(6,\"_prob\",df.pop(\"_prob\"))\n",
    "\n",
    "df_tdvp = df[df.algorithm.eq(\"tdvp\")]\n",
    "df_scipy = df[df.algorithm.eq(\"scipy\")]"
   ]
  },
  {
   "cell_type": "code",
   "execution_count": null,
   "outputs": [],
   "source": [
    "df"
   ],
   "metadata": {
    "collapsed": false,
    "pycharm": {
     "name": "#%%\n"
    }
   }
  }
 ],
 "metadata": {
  "kernelspec": {
   "display_name": "Python 3.10.6 ('qutip-env')",
   "language": "python",
   "name": "python3"
  },
  "language_info": {
   "codemirror_mode": {
    "name": "ipython",
    "version": 3
   },
   "file_extension": ".py",
   "mimetype": "text/x-python",
   "name": "python",
   "nbconvert_exporter": "python",
   "pygments_lexer": "ipython3",
   "version": "3.10.6"
  },
  "orig_nbformat": 4,
  "vscode": {
   "interpreter": {
    "hash": "fe45c953e7d91ced0867b19789acd0ab1d9439aa0b1f4fae31fd46e88f74aeab"
   }
  }
 },
 "nbformat": 4,
 "nbformat_minor": 2
}