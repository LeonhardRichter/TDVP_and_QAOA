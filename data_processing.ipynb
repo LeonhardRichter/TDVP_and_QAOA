{
 "cells": [
  {
   "cell_type": "code",
   "execution_count": 1,
   "metadata": {
    "pycharm": {
     "name": "#%%\n"
    }
   },
   "outputs": [],
   "source": [
    "import math \n",
    "import numpy as np\n",
    "from numpy.typing import NDArray\n",
    "import pandas as pd\n",
    "import plotly.express as px\n",
    "import plotly.graph_objects as go\n",
    "import random as rng\n",
    "import networkx as nx\n",
    "import matplotlib.pyplot as plt\n",
    "import pickle\n",
    "from typing import Union, List, Any\n",
    "from qaoa_and_tdvp import QAOA, tdvp_optimize_qaoa, scipy_optimize, QAOAResult, Qobj\n",
    "from MaxCut import MaxCut\n",
    "from itertools import *\n",
    "\n",
    "from qutip import tensor, basis, Qobj, expect, variance\n",
    "from qutip.operators import qeye, sigmax, sigmay, sigmaz\n",
    "from qutip.qip.operations import expand_operator, rz\n",
    "\n",
    "import swifter\n",
    "\n",
    "from benchmark import (\n",
    "    get_all_connected,\n",
    "    get_connected_rn_graph,\n",
    "    get_rn_qubo,\n",
    "    select_if_connected,\n",
    "    Benchmark,\n",
    ")\n",
    "from qutip.parallel import parallel_map, serial_map"
   ]
  },
  {
   "cell_type": "markdown",
   "metadata": {
    "collapsed": false,
    "pycharm": {
     "name": "#%% md\n"
    }
   },
   "source": [
    "# convert data into DataFrame"
   ]
  },
  {
   "cell_type": "code",
   "execution_count": 58,
   "outputs": [],
   "source": [
    "with open('..//benchmarks//n10_data.p','rb') as file:\n",
    "    df = pickle.load(file)"
   ],
   "metadata": {
    "collapsed": false,
    "pycharm": {
     "name": "#%%\n"
    }
   }
  },
  {
   "cell_type": "code",
   "execution_count": 3,
   "metadata": {
    "collapsed": false,
    "pycharm": {
     "name": "#%%\n"
    }
   },
   "outputs": [],
   "source": [
    "# with open(\"..//benchmarks//RK45_n10_p-1-5_Delta-1.p\",\"rb\") as file:\n",
    "#     data: Benchmark = pickle.load(file)\n",
    "#\n",
    "# scipy_results = list()\n",
    "# for d in data.results:\n",
    "#     items = d.get(\"tdvp\").__dict__.items()\n",
    "#     for k,v in items:\n",
    "#         d[k]=v\n",
    "#         d[\"algorithm\"] = \"tdvp\"\n",
    "#     d[\"n\"] = d[\"_qaoa\"].n\n",
    "#     dd = d.copy()\n",
    "#     items = dd.get(\"scipy\").__dict__.items()\n",
    "#     for k,v in items:\n",
    "#         dd[k]=v\n",
    "#         dd[\"algorithm\"] = \"scipy\"\n",
    "#     dd[\"n\"] = dd[\"_qaoa\"].n\n",
    "#     scipy_results.append(dd)\n",
    "#\n",
    "# data.results.extend(scipy_results)\n",
    "#\n",
    "# df = pd.DataFrame(data.results)\n",
    "# df.pop(\"tdvp\")\n",
    "# df.pop(\"scipy\")\n",
    "# cols = df.columns.tolist()\n",
    "# cols = cols[-1:] + cols[:-1]\n",
    "# df = df[cols]\n",
    "#\n",
    "# df['steps'] = df.apply(lambda row: int(row['_num_steps']) if row.algorithm==\"tdvp\" else row['_num_fun_calls'], axis=1)\n",
    "#\n",
    "# df.insert(2,\"algorithm\",df.pop(\"algorithm\"))\n",
    "# df.insert(3,\"_optimal_fun_value\",df.pop(\"_optimal_fun_value\"))\n",
    "# df.insert(4,'steps', df.pop('steps'))\n",
    "# df.insert(6,\"_prob\",df.pop(\"_prob\"))\n",
    "#\n",
    "#\n",
    "# df_tdvp = df[df.algorithm.eq(\"tdvp\")]\n",
    "# df_scipy = df[df.algorithm.eq(\"scipy\")]\n",
    "#\n",
    "# df.rename(columns={\"_optimal_fun_value\":\"C\", \"_prob\":\"prob\", '_duration':'duration', '_optimal_state':'final_state', '_optimal_parameters':'final_parameters', '_num_gates':'num_gates','_qaoa':'qaoa'}, inplace=True)"
   ]
  },
  {
   "cell_type": "code",
   "execution_count": 59,
   "outputs": [
    {
     "data": {
      "text/plain": "      n  p algorithm  expectation_of_approximation_ratio  approximation_ratio  \\\n0    10  1      tdvp                            0.154335             0.119048   \n1    10  2      tdvp                            0.131486             1.000000   \n2    10  3      tdvp                            0.232425             1.000000   \n3    10  4      tdvp                            0.218356             0.595238   \n4    10  5      tdvp                            0.111067             0.523810   \n..   .. ..       ...                                 ...                  ...   \n995  10  1     scipy                            0.930109             1.000000   \n996  10  2     scipy                            0.153012             0.033333   \n997  10  3     scipy                            0.211586             0.700000   \n998  10  4     scipy                            0.416602             0.800000   \n999  10  5     scipy                            0.323300             0.866667   \n\n     best_cost_value  bin_answer  answer   gate_count  circuit_count  ...  \\\n0              -42.0  0010111010     186   27098552.0        81001.0  ...   \n1              -42.0  0000000000       0   34491304.0       303751.0  ...   \n2              -42.0  0000000000       0  -79764144.0       749251.0  ...   \n3              -42.0  0010011000     152 -484958592.0      1485001.0  ...   \n4              -42.0  0000110010      50 -858162940.0      1569376.0  ...   \n..               ...         ...     ...          ...            ...  ...   \n995            -30.0  0000000000       0      11880.0           99.0  ...   \n996            -30.0  1011010100     724     112800.0          470.0  ...   \n997            -30.0  1001000100     580     159120.0          442.0  ...   \n998            -30.0  0100000000     256     375840.0          783.0  ...   \n999            -30.0  1000000000     512     600600.0         1001.0  ...   \n\n     _parameter_path  _num_fun_calls  _num_steps    duration  \\\n0               None              20        24.0   10.024673   \n1               None              26        30.0   43.018689   \n2               None              32        37.0  105.185971   \n3               None              38        44.0  244.791884   \n4               None              26        31.0  328.186238   \n..               ...             ...         ...         ...   \n995             None              98         NaN    6.088192   \n996             None             469         NaN   57.908112   \n997             None             441         NaN   81.819692   \n998             None             782         NaN  194.630926   \n999             None            1000         NaN  311.914628   \n\n                                           final_state  \\\n0    Quantum object: dims = [[2, 2, 2, 2, 2, 2, 2, ...   \n1    Quantum object: dims = [[2, 2, 2, 2, 2, 2, 2, ...   \n2    Quantum object: dims = [[2, 2, 2, 2, 2, 2, 2, ...   \n3    Quantum object: dims = [[2, 2, 2, 2, 2, 2, 2, ...   \n4    Quantum object: dims = [[2, 2, 2, 2, 2, 2, 2, ...   \n..                                                 ...   \n995  Quantum object: dims = [[2, 2, 2, 2, 2, 2, 2, ...   \n996  Quantum object: dims = [[2, 2, 2, 2, 2, 2, 2, ...   \n997  Quantum object: dims = [[2, 2, 2, 2, 2, 2, 2, ...   \n998  Quantum object: dims = [[2, 2, 2, 2, 2, 2, 2, ...   \n999  Quantum object: dims = [[2, 2, 2, 2, 2, 2, 2, ...   \n\n                                      final_parameters  \\\n0             (0.8493584338845096, 0.9903816866539071)   \n1    (0.897119778539972, 0.8061971496211522, 0.8727...   \n2    (0.8398889328861309, 1.0662341829920257, 0.880...   \n3    (0.9248620211813144, 1.1375408981648616, 0.807...   \n4    (0.8464597461633876, 1.0563072405050975, 1.152...   \n..                                                 ...   \n995         [2.3626721807847217, -0.15676991175280042]   \n996  [0.8804501181503313, 1.822291141013481, 0.9091...   \n997  [0.7559838546298562, 0.39163966121792393, 1.29...   \n998  [2.3414604674448056, 1.0393519895807521, 0.655...   \n999  [0.6821433391236832, 1.5810972552205955, 1.316...   \n\n                                          _orig_result  num_gates  \\\n0    {'t': [0.0, 0.11734882842785752, 0.67900509421...      15343   \n1    {'t': [0.0, 0.13675405274738983, 0.65103925319...      92061   \n2    {'t': [0.0, 0.105645202418896, 0.3909706632630...     337710   \n3    {'t': [0.0, 0.09382788175041508, 0.40693789987...     893299   \n4    {'t': [0.0, 0.10295826275518528, 0.44471718620...    1182725   \n..                                                 ...        ...   \n995  {'x': [2.3626721807847217, -0.1567699117528004...       6370   \n996  {'x': [0.8804501181503313, 1.822291141013481, ...      60970   \n997  {'x': [0.7559838546298562, 0.39163966121792393...      85995   \n998  {'x': [2.3414604674448056, 1.0393519895807521,...     203320   \n999  {'x': [0.6821433391236832, 1.5810972552205955,...     325000   \n\n                                              qaoa  \\\n0    <qaoa_and_tdvp.QAOA object at 0x7fdb8bf8e320>   \n1    <qaoa_and_tdvp.QAOA object at 0x7fdb8bf8e9e0>   \n2    <qaoa_and_tdvp.QAOA object at 0x7fdb8bf8f400>   \n3    <qaoa_and_tdvp.QAOA object at 0x7fdb8bf8faf0>   \n4    <qaoa_and_tdvp.QAOA object at 0x7fdb8bf8c190>   \n..                                             ...   \n995  <qaoa_and_tdvp.QAOA object at 0x7fdb8b721de0>   \n996  <qaoa_and_tdvp.QAOA object at 0x7fdb8b722320>   \n997  <qaoa_and_tdvp.QAOA object at 0x7fdb8b722830>   \n998  <qaoa_and_tdvp.QAOA object at 0x7fdb8b722d40>   \n999  <qaoa_and_tdvp.QAOA object at 0x7fdb8b723250>   \n\n                                           groundspace  \n0    [Quantum object: dims = [[2, 2, 2, 2, 2, 2, 2,...  \n1    [Quantum object: dims = [[2, 2, 2, 2, 2, 2, 2,...  \n2    [Quantum object: dims = [[2, 2, 2, 2, 2, 2, 2,...  \n3    [Quantum object: dims = [[2, 2, 2, 2, 2, 2, 2,...  \n4    [Quantum object: dims = [[2, 2, 2, 2, 2, 2, 2,...  \n..                                                 ...  \n995  [Quantum object: dims = [[2, 2, 2, 2, 2, 2, 2,...  \n996  [Quantum object: dims = [[2, 2, 2, 2, 2, 2, 2,...  \n997  [Quantum object: dims = [[2, 2, 2, 2, 2, 2, 2,...  \n998  [Quantum object: dims = [[2, 2, 2, 2, 2, 2, 2,...  \n999  [Quantum object: dims = [[2, 2, 2, 2, 2, 2, 2,...  \n\n[1000 rows x 32 columns]",
      "text/html": "<div>\n<style scoped>\n    .dataframe tbody tr th:only-of-type {\n        vertical-align: middle;\n    }\n\n    .dataframe tbody tr th {\n        vertical-align: top;\n    }\n\n    .dataframe thead th {\n        text-align: right;\n    }\n</style>\n<table border=\"1\" class=\"dataframe\">\n  <thead>\n    <tr style=\"text-align: right;\">\n      <th></th>\n      <th>n</th>\n      <th>p</th>\n      <th>algorithm</th>\n      <th>expectation_of_approximation_ratio</th>\n      <th>approximation_ratio</th>\n      <th>best_cost_value</th>\n      <th>bin_answer</th>\n      <th>answer</th>\n      <th>gate_count</th>\n      <th>circuit_count</th>\n      <th>...</th>\n      <th>_parameter_path</th>\n      <th>_num_fun_calls</th>\n      <th>_num_steps</th>\n      <th>duration</th>\n      <th>final_state</th>\n      <th>final_parameters</th>\n      <th>_orig_result</th>\n      <th>num_gates</th>\n      <th>qaoa</th>\n      <th>groundspace</th>\n    </tr>\n  </thead>\n  <tbody>\n    <tr>\n      <th>0</th>\n      <td>10</td>\n      <td>1</td>\n      <td>tdvp</td>\n      <td>0.154335</td>\n      <td>0.119048</td>\n      <td>-42.0</td>\n      <td>0010111010</td>\n      <td>186</td>\n      <td>27098552.0</td>\n      <td>81001.0</td>\n      <td>...</td>\n      <td>None</td>\n      <td>20</td>\n      <td>24.0</td>\n      <td>10.024673</td>\n      <td>Quantum object: dims = [[2, 2, 2, 2, 2, 2, 2, ...</td>\n      <td>(0.8493584338845096, 0.9903816866539071)</td>\n      <td>{'t': [0.0, 0.11734882842785752, 0.67900509421...</td>\n      <td>15343</td>\n      <td>&lt;qaoa_and_tdvp.QAOA object at 0x7fdb8bf8e320&gt;</td>\n      <td>[Quantum object: dims = [[2, 2, 2, 2, 2, 2, 2,...</td>\n    </tr>\n    <tr>\n      <th>1</th>\n      <td>10</td>\n      <td>2</td>\n      <td>tdvp</td>\n      <td>0.131486</td>\n      <td>1.000000</td>\n      <td>-42.0</td>\n      <td>0000000000</td>\n      <td>0</td>\n      <td>34491304.0</td>\n      <td>303751.0</td>\n      <td>...</td>\n      <td>None</td>\n      <td>26</td>\n      <td>30.0</td>\n      <td>43.018689</td>\n      <td>Quantum object: dims = [[2, 2, 2, 2, 2, 2, 2, ...</td>\n      <td>(0.897119778539972, 0.8061971496211522, 0.8727...</td>\n      <td>{'t': [0.0, 0.13675405274738983, 0.65103925319...</td>\n      <td>92061</td>\n      <td>&lt;qaoa_and_tdvp.QAOA object at 0x7fdb8bf8e9e0&gt;</td>\n      <td>[Quantum object: dims = [[2, 2, 2, 2, 2, 2, 2,...</td>\n    </tr>\n    <tr>\n      <th>2</th>\n      <td>10</td>\n      <td>3</td>\n      <td>tdvp</td>\n      <td>0.232425</td>\n      <td>1.000000</td>\n      <td>-42.0</td>\n      <td>0000000000</td>\n      <td>0</td>\n      <td>-79764144.0</td>\n      <td>749251.0</td>\n      <td>...</td>\n      <td>None</td>\n      <td>32</td>\n      <td>37.0</td>\n      <td>105.185971</td>\n      <td>Quantum object: dims = [[2, 2, 2, 2, 2, 2, 2, ...</td>\n      <td>(0.8398889328861309, 1.0662341829920257, 0.880...</td>\n      <td>{'t': [0.0, 0.105645202418896, 0.3909706632630...</td>\n      <td>337710</td>\n      <td>&lt;qaoa_and_tdvp.QAOA object at 0x7fdb8bf8f400&gt;</td>\n      <td>[Quantum object: dims = [[2, 2, 2, 2, 2, 2, 2,...</td>\n    </tr>\n    <tr>\n      <th>3</th>\n      <td>10</td>\n      <td>4</td>\n      <td>tdvp</td>\n      <td>0.218356</td>\n      <td>0.595238</td>\n      <td>-42.0</td>\n      <td>0010011000</td>\n      <td>152</td>\n      <td>-484958592.0</td>\n      <td>1485001.0</td>\n      <td>...</td>\n      <td>None</td>\n      <td>38</td>\n      <td>44.0</td>\n      <td>244.791884</td>\n      <td>Quantum object: dims = [[2, 2, 2, 2, 2, 2, 2, ...</td>\n      <td>(0.9248620211813144, 1.1375408981648616, 0.807...</td>\n      <td>{'t': [0.0, 0.09382788175041508, 0.40693789987...</td>\n      <td>893299</td>\n      <td>&lt;qaoa_and_tdvp.QAOA object at 0x7fdb8bf8faf0&gt;</td>\n      <td>[Quantum object: dims = [[2, 2, 2, 2, 2, 2, 2,...</td>\n    </tr>\n    <tr>\n      <th>4</th>\n      <td>10</td>\n      <td>5</td>\n      <td>tdvp</td>\n      <td>0.111067</td>\n      <td>0.523810</td>\n      <td>-42.0</td>\n      <td>0000110010</td>\n      <td>50</td>\n      <td>-858162940.0</td>\n      <td>1569376.0</td>\n      <td>...</td>\n      <td>None</td>\n      <td>26</td>\n      <td>31.0</td>\n      <td>328.186238</td>\n      <td>Quantum object: dims = [[2, 2, 2, 2, 2, 2, 2, ...</td>\n      <td>(0.8464597461633876, 1.0563072405050975, 1.152...</td>\n      <td>{'t': [0.0, 0.10295826275518528, 0.44471718620...</td>\n      <td>1182725</td>\n      <td>&lt;qaoa_and_tdvp.QAOA object at 0x7fdb8bf8c190&gt;</td>\n      <td>[Quantum object: dims = [[2, 2, 2, 2, 2, 2, 2,...</td>\n    </tr>\n    <tr>\n      <th>...</th>\n      <td>...</td>\n      <td>...</td>\n      <td>...</td>\n      <td>...</td>\n      <td>...</td>\n      <td>...</td>\n      <td>...</td>\n      <td>...</td>\n      <td>...</td>\n      <td>...</td>\n      <td>...</td>\n      <td>...</td>\n      <td>...</td>\n      <td>...</td>\n      <td>...</td>\n      <td>...</td>\n      <td>...</td>\n      <td>...</td>\n      <td>...</td>\n      <td>...</td>\n      <td>...</td>\n    </tr>\n    <tr>\n      <th>995</th>\n      <td>10</td>\n      <td>1</td>\n      <td>scipy</td>\n      <td>0.930109</td>\n      <td>1.000000</td>\n      <td>-30.0</td>\n      <td>0000000000</td>\n      <td>0</td>\n      <td>11880.0</td>\n      <td>99.0</td>\n      <td>...</td>\n      <td>None</td>\n      <td>98</td>\n      <td>NaN</td>\n      <td>6.088192</td>\n      <td>Quantum object: dims = [[2, 2, 2, 2, 2, 2, 2, ...</td>\n      <td>[2.3626721807847217, -0.15676991175280042]</td>\n      <td>{'x': [2.3626721807847217, -0.1567699117528004...</td>\n      <td>6370</td>\n      <td>&lt;qaoa_and_tdvp.QAOA object at 0x7fdb8b721de0&gt;</td>\n      <td>[Quantum object: dims = [[2, 2, 2, 2, 2, 2, 2,...</td>\n    </tr>\n    <tr>\n      <th>996</th>\n      <td>10</td>\n      <td>2</td>\n      <td>scipy</td>\n      <td>0.153012</td>\n      <td>0.033333</td>\n      <td>-30.0</td>\n      <td>1011010100</td>\n      <td>724</td>\n      <td>112800.0</td>\n      <td>470.0</td>\n      <td>...</td>\n      <td>None</td>\n      <td>469</td>\n      <td>NaN</td>\n      <td>57.908112</td>\n      <td>Quantum object: dims = [[2, 2, 2, 2, 2, 2, 2, ...</td>\n      <td>[0.8804501181503313, 1.822291141013481, 0.9091...</td>\n      <td>{'x': [0.8804501181503313, 1.822291141013481, ...</td>\n      <td>60970</td>\n      <td>&lt;qaoa_and_tdvp.QAOA object at 0x7fdb8b722320&gt;</td>\n      <td>[Quantum object: dims = [[2, 2, 2, 2, 2, 2, 2,...</td>\n    </tr>\n    <tr>\n      <th>997</th>\n      <td>10</td>\n      <td>3</td>\n      <td>scipy</td>\n      <td>0.211586</td>\n      <td>0.700000</td>\n      <td>-30.0</td>\n      <td>1001000100</td>\n      <td>580</td>\n      <td>159120.0</td>\n      <td>442.0</td>\n      <td>...</td>\n      <td>None</td>\n      <td>441</td>\n      <td>NaN</td>\n      <td>81.819692</td>\n      <td>Quantum object: dims = [[2, 2, 2, 2, 2, 2, 2, ...</td>\n      <td>[0.7559838546298562, 0.39163966121792393, 1.29...</td>\n      <td>{'x': [0.7559838546298562, 0.39163966121792393...</td>\n      <td>85995</td>\n      <td>&lt;qaoa_and_tdvp.QAOA object at 0x7fdb8b722830&gt;</td>\n      <td>[Quantum object: dims = [[2, 2, 2, 2, 2, 2, 2,...</td>\n    </tr>\n    <tr>\n      <th>998</th>\n      <td>10</td>\n      <td>4</td>\n      <td>scipy</td>\n      <td>0.416602</td>\n      <td>0.800000</td>\n      <td>-30.0</td>\n      <td>0100000000</td>\n      <td>256</td>\n      <td>375840.0</td>\n      <td>783.0</td>\n      <td>...</td>\n      <td>None</td>\n      <td>782</td>\n      <td>NaN</td>\n      <td>194.630926</td>\n      <td>Quantum object: dims = [[2, 2, 2, 2, 2, 2, 2, ...</td>\n      <td>[2.3414604674448056, 1.0393519895807521, 0.655...</td>\n      <td>{'x': [2.3414604674448056, 1.0393519895807521,...</td>\n      <td>203320</td>\n      <td>&lt;qaoa_and_tdvp.QAOA object at 0x7fdb8b722d40&gt;</td>\n      <td>[Quantum object: dims = [[2, 2, 2, 2, 2, 2, 2,...</td>\n    </tr>\n    <tr>\n      <th>999</th>\n      <td>10</td>\n      <td>5</td>\n      <td>scipy</td>\n      <td>0.323300</td>\n      <td>0.866667</td>\n      <td>-30.0</td>\n      <td>1000000000</td>\n      <td>512</td>\n      <td>600600.0</td>\n      <td>1001.0</td>\n      <td>...</td>\n      <td>None</td>\n      <td>1000</td>\n      <td>NaN</td>\n      <td>311.914628</td>\n      <td>Quantum object: dims = [[2, 2, 2, 2, 2, 2, 2, ...</td>\n      <td>[0.6821433391236832, 1.5810972552205955, 1.316...</td>\n      <td>{'x': [0.6821433391236832, 1.5810972552205955,...</td>\n      <td>325000</td>\n      <td>&lt;qaoa_and_tdvp.QAOA object at 0x7fdb8b723250&gt;</td>\n      <td>[Quantum object: dims = [[2, 2, 2, 2, 2, 2, 2,...</td>\n    </tr>\n  </tbody>\n</table>\n<p>1000 rows × 32 columns</p>\n</div>"
     },
     "execution_count": 59,
     "metadata": {},
     "output_type": "execute_result"
    }
   ],
   "source": [
    "df"
   ],
   "metadata": {
    "collapsed": false,
    "pycharm": {
     "name": "#%%\n"
    }
   }
  },
  {
   "cell_type": "markdown",
   "source": [
    "# Compute performance measures"
   ],
   "metadata": {
    "collapsed": false,
    "pycharm": {
     "name": "#%% md\n"
    }
   }
  },
  {
   "cell_type": "code",
   "execution_count": 5,
   "outputs": [
    {
     "data": {
      "text/plain": "Index(['n', 'p', 'algorithm', 'groundspace_overlap', 'groundspace_sharpness',\n       'C', 'steps', 'delta_0', 'prob', 'tdvp_stepsize', 'tdvp_grad_tol',\n       'tdvp_lineq_solver', '_message', '_optimizer_name', '_sucess',\n       '_parameter_path', '_num_fun_calls', '_num_steps', 'duration',\n       'final_state', 'final_parameters', '_orig_result', 'num_gates', 'qaoa',\n       'groundspace'],\n      dtype='object')"
     },
     "execution_count": 5,
     "metadata": {},
     "output_type": "execute_result"
    }
   ],
   "source": [
    "df.columns"
   ],
   "metadata": {
    "collapsed": false,
    "pycharm": {
     "name": "#%%\n"
    }
   }
  },
  {
   "cell_type": "code",
   "execution_count": 49,
   "outputs": [],
   "source": [
    "def prob(num:int, state:Qobj):\n",
    "    n = state.shape[0]\n",
    "    return abs(state.overlap(basis(n,num)))**2\n",
    "\n",
    "def answer(state:Qobj):\n",
    "    return max(range(state.shape[0]), key=lambda x:prob(x,state))\n",
    "\n",
    "def bin_answer(state:Qobj):\n",
    "    return format(answer(state),  f'0{len(state.dims[0])}b')"
   ],
   "metadata": {
    "collapsed": false,
    "pycharm": {
     "name": "#%%\n"
    }
   }
  },
  {
   "cell_type": "code",
   "execution_count": 50,
   "outputs": [],
   "source": [
    "def best_cost_value(qaoa:QAOA):\n",
    "    return qaoa.H.groundstate()[0]\n",
    "\n",
    "def approximation_ratio(bin_answer:int, best_cost_value:float, qaoa:QAOA):\n",
    "    i = list(int(b) for b in bin_answer)\n",
    "    dims = [2 for _ in range(qaoa.n)]\n",
    "    return expect(qaoa.H,basis(dims,i))/best_cost_value\n",
    "\n",
    "def expectation_of_approximation_ratio(state:Qobj, best_cost_value:float, qaoa:QAOA):\n",
    "    return (expect(qaoa.H, state))/best_cost_value\n"
   ],
   "metadata": {
    "collapsed": false,
    "pycharm": {
     "name": "#%%\n"
    }
   }
  },
  {
   "cell_type": "code",
   "execution_count": 8,
   "outputs": [],
   "source": [
    "def num_metric_gates(n:int,p:int,qubo:NDArray):\n",
    "    Q = np.count_nonzero(qubo)\n",
    "    N = 2*p*(n+Q)\n",
    "    C1 = 1/2 * n**4 + 2*n**3 + 7/2*n**2\n",
    "    C2 = n**4 + 5/2*(n**3 + n**2)\n",
    "    return N/p*C1*(1/6*p**3 - 1/6*p + p**2) + (2*C2-N*C1)*(1/2*p**2 + 1/2*p)\n",
    "\n",
    "def num_gradient_gates(n:int,p:int,qubo:NDArray):\n",
    "    Q = np.count_nonzero(qubo)\n",
    "    N = 2*p*(n+Q)\n",
    "    return (n**4 -2*n**3 +n**2)/4 * (2*N+4) + 3*n*(n*(n-1))/2*(2*(N+3)) + 2*n**2*(2*N+3)\n",
    "\n",
    "def num_qaoa_gates(n:int,p:int, qubo:NDArray):\n",
    "    Q = np.count_nonzero(qubo)\n",
    "    return 2*p*(n+Q)\n",
    "\n",
    "def circuit_count(steps:int, algorithm:str, p:int, n:int):\n",
    "    if algorithm =='tdvp':\n",
    "        return steps*(p**2 + p)*(1/8*n**4 +1/2*n**3 -5/8*n**2) + 1\n",
    "    if algorithm ==\"scipy\":\n",
    "        return steps + 1\n",
    "\n",
    "def gate_count(steps:int, algorithm:str, qaoa:QAOA, p:int, n:int):\n",
    "    if algorithm=='tdvp':\n",
    "        return steps*(num_metric_gates(n,p,qaoa.qubo) + num_gradient_gates(n,p,qaoa.qubo)) + num_qaoa_gates(n,p,qaoa.qubo)\n",
    "    if algorithm=='scipy':\n",
    "        return (1+steps)*num_qaoa_gates(n,p,qaoa.qubo)"
   ],
   "metadata": {
    "collapsed": false,
    "pycharm": {
     "name": "#%%\n"
    }
   }
  },
  {
   "cell_type": "code",
   "execution_count": 9,
   "outputs": [],
   "source": [
    "def groundspace(qaoa:QAOA):\n",
    "    eigenenergies, eigenstates = qaoa.H.eigenstates(sort='low')\n",
    "    groundenergy = eigenenergies[0]\n",
    "\n",
    "    num_of_eigenstates = 0\n",
    "    for e in eigenenergies:\n",
    "        if e==groundenergy:\n",
    "            num_of_eigenstates +=1\n",
    "        if e != groundenergy:\n",
    "            break\n",
    "    return eigenstates[:num_of_eigenstates]\n",
    "\n",
    "def groundspace_overlap(groundstates:List[Qobj], state:Qobj):\n",
    "    return  sum(abs(g.overlap(state))**2 for g in groundstates)\n",
    "\n",
    "def groundspace_sharpness(groundstates:List[Qobj], state:Qobj):\n",
    "    P_0 = sum(g*g.dag() for g in groundstates)\n",
    "    return math.sqrt(variance(P_0,state))\n"
   ],
   "metadata": {
    "collapsed": false,
    "pycharm": {
     "name": "#%%\n"
    }
   }
  },
  {
   "cell_type": "code",
   "execution_count": 10,
   "outputs": [],
   "source": [
    "# df['groundspace'] = df.swifter.apply(lambda row: groundspace(row.qaoa), axis=1)"
   ],
   "metadata": {
    "collapsed": false,
    "pycharm": {
     "name": "#%%\n"
    }
   }
  },
  {
   "cell_type": "code",
   "execution_count": 11,
   "outputs": [
    {
     "data": {
      "text/plain": "Pandas Apply:   0%|          | 0/1000 [00:00<?, ?it/s]",
      "application/vnd.jupyter.widget-view+json": {
       "version_major": 2,
       "version_minor": 0,
       "model_id": "704bc78961d148d79da96782d9a2cf73"
      }
     },
     "metadata": {},
     "output_type": "display_data"
    },
    {
     "ename": "ValueError",
     "evalue": "cannot insert groundspace_overlap, already exists",
     "output_type": "error",
     "traceback": [
      "\u001B[0;31m---------------------------------------------------------------------------\u001B[0m",
      "\u001B[0;31mValueError\u001B[0m                                Traceback (most recent call last)",
      "Cell \u001B[0;32mIn [11], line 1\u001B[0m\n\u001B[0;32m----> 1\u001B[0m \u001B[43mdf\u001B[49m\u001B[38;5;241;43m.\u001B[39;49m\u001B[43minsert\u001B[49m\u001B[43m(\u001B[49m\u001B[38;5;241;43m3\u001B[39;49m\u001B[43m,\u001B[49m\u001B[38;5;124;43m'\u001B[39;49m\u001B[38;5;124;43mgroundspace_overlap\u001B[39;49m\u001B[38;5;124;43m'\u001B[39;49m\u001B[43m,\u001B[49m\u001B[43m \u001B[49m\u001B[43mdf\u001B[49m\u001B[38;5;241;43m.\u001B[39;49m\u001B[43mswifter\u001B[49m\u001B[38;5;241;43m.\u001B[39;49m\u001B[43mapply\u001B[49m\u001B[43m(\u001B[49m\u001B[38;5;28;43;01mlambda\u001B[39;49;00m\u001B[43m \u001B[49m\u001B[43mrow\u001B[49m\u001B[43m:\u001B[49m\u001B[43m \u001B[49m\u001B[43mgroundspace_overlap\u001B[49m\u001B[43m(\u001B[49m\u001B[43mrow\u001B[49m\u001B[43m[\u001B[49m\u001B[38;5;124;43m'\u001B[39;49m\u001B[38;5;124;43mgroundspace\u001B[39;49m\u001B[38;5;124;43m'\u001B[39;49m\u001B[43m]\u001B[49m\u001B[43m,\u001B[49m\u001B[43m \u001B[49m\u001B[43mrow\u001B[49m\u001B[43m[\u001B[49m\u001B[38;5;124;43m'\u001B[39;49m\u001B[38;5;124;43mfinal_state\u001B[39;49m\u001B[38;5;124;43m'\u001B[39;49m\u001B[43m]\u001B[49m\u001B[43m)\u001B[49m\u001B[43m,\u001B[49m\u001B[43m \u001B[49m\u001B[43maxis\u001B[49m\u001B[38;5;241;43m=\u001B[39;49m\u001B[38;5;241;43m1\u001B[39;49m\u001B[43m)\u001B[49m\u001B[43m)\u001B[49m\n",
      "File \u001B[0;32m~/anaconda3/envs/qutip-env/lib/python3.10/site-packages/pandas/core/frame.py:4806\u001B[0m, in \u001B[0;36mDataFrame.insert\u001B[0;34m(self, loc, column, value, allow_duplicates)\u001B[0m\n\u001B[1;32m   4800\u001B[0m     \u001B[38;5;28;01mraise\u001B[39;00m \u001B[38;5;167;01mValueError\u001B[39;00m(\n\u001B[1;32m   4801\u001B[0m         \u001B[38;5;124m\"\u001B[39m\u001B[38;5;124mCannot specify \u001B[39m\u001B[38;5;124m'\u001B[39m\u001B[38;5;124mallow_duplicates=True\u001B[39m\u001B[38;5;124m'\u001B[39m\u001B[38;5;124m when \u001B[39m\u001B[38;5;124m\"\u001B[39m\n\u001B[1;32m   4802\u001B[0m         \u001B[38;5;124m\"\u001B[39m\u001B[38;5;124m'\u001B[39m\u001B[38;5;124mself.flags.allows_duplicate_labels\u001B[39m\u001B[38;5;124m'\u001B[39m\u001B[38;5;124m is False.\u001B[39m\u001B[38;5;124m\"\u001B[39m\n\u001B[1;32m   4803\u001B[0m     )\n\u001B[1;32m   4804\u001B[0m \u001B[38;5;28;01mif\u001B[39;00m \u001B[38;5;129;01mnot\u001B[39;00m allow_duplicates \u001B[38;5;129;01mand\u001B[39;00m column \u001B[38;5;129;01min\u001B[39;00m \u001B[38;5;28mself\u001B[39m\u001B[38;5;241m.\u001B[39mcolumns:\n\u001B[1;32m   4805\u001B[0m     \u001B[38;5;66;03m# Should this be a different kind of error??\u001B[39;00m\n\u001B[0;32m-> 4806\u001B[0m     \u001B[38;5;28;01mraise\u001B[39;00m \u001B[38;5;167;01mValueError\u001B[39;00m(\u001B[38;5;124mf\u001B[39m\u001B[38;5;124m\"\u001B[39m\u001B[38;5;124mcannot insert \u001B[39m\u001B[38;5;132;01m{\u001B[39;00mcolumn\u001B[38;5;132;01m}\u001B[39;00m\u001B[38;5;124m, already exists\u001B[39m\u001B[38;5;124m\"\u001B[39m)\n\u001B[1;32m   4807\u001B[0m \u001B[38;5;28;01mif\u001B[39;00m \u001B[38;5;129;01mnot\u001B[39;00m \u001B[38;5;28misinstance\u001B[39m(loc, \u001B[38;5;28mint\u001B[39m):\n\u001B[1;32m   4808\u001B[0m     \u001B[38;5;28;01mraise\u001B[39;00m \u001B[38;5;167;01mTypeError\u001B[39;00m(\u001B[38;5;124m\"\u001B[39m\u001B[38;5;124mloc must be int\u001B[39m\u001B[38;5;124m\"\u001B[39m)\n",
      "\u001B[0;31mValueError\u001B[0m: cannot insert groundspace_overlap, already exists"
     ]
    }
   ],
   "source": [
    "# df.insert(3,'groundspace_overlap', df.swifter.apply(lambda row: groundspace_overlap(row['groundspace'], row['final_state']), axis=1))"
   ],
   "metadata": {
    "collapsed": false,
    "pycharm": {
     "name": "#%%\n"
    }
   }
  },
  {
   "cell_type": "code",
   "execution_count": 12,
   "outputs": [
    {
     "data": {
      "text/plain": "Pandas Apply:   0%|          | 0/1000 [00:00<?, ?it/s]",
      "application/vnd.jupyter.widget-view+json": {
       "version_major": 2,
       "version_minor": 0,
       "model_id": "80bb343b12384f70ad09b733342e537b"
      }
     },
     "metadata": {},
     "output_type": "display_data"
    },
    {
     "ename": "ValueError",
     "evalue": "cannot insert groundspace_sharpness, already exists",
     "output_type": "error",
     "traceback": [
      "\u001B[0;31m---------------------------------------------------------------------------\u001B[0m",
      "\u001B[0;31mValueError\u001B[0m                                Traceback (most recent call last)",
      "Cell \u001B[0;32mIn [12], line 1\u001B[0m\n\u001B[0;32m----> 1\u001B[0m \u001B[43mdf\u001B[49m\u001B[38;5;241;43m.\u001B[39;49m\u001B[43minsert\u001B[49m\u001B[43m(\u001B[49m\u001B[38;5;241;43m4\u001B[39;49m\u001B[43m,\u001B[49m\u001B[43m \u001B[49m\u001B[38;5;124;43m'\u001B[39;49m\u001B[38;5;124;43mgroundspace_sharpness\u001B[39;49m\u001B[38;5;124;43m'\u001B[39;49m\u001B[43m,\u001B[49m\u001B[43m \u001B[49m\u001B[43mdf\u001B[49m\u001B[38;5;241;43m.\u001B[39;49m\u001B[43mswifter\u001B[49m\u001B[38;5;241;43m.\u001B[39;49m\u001B[43mapply\u001B[49m\u001B[43m(\u001B[49m\u001B[38;5;28;43;01mlambda\u001B[39;49;00m\u001B[43m \u001B[49m\u001B[43mrow\u001B[49m\u001B[43m:\u001B[49m\u001B[43m \u001B[49m\u001B[43mgroundspace_sharpness\u001B[49m\u001B[43m(\u001B[49m\u001B[43mrow\u001B[49m\u001B[43m[\u001B[49m\u001B[38;5;124;43m'\u001B[39;49m\u001B[38;5;124;43mgroundspace\u001B[39;49m\u001B[38;5;124;43m'\u001B[39;49m\u001B[43m]\u001B[49m\u001B[43m,\u001B[49m\u001B[43m \u001B[49m\u001B[43mrow\u001B[49m\u001B[43m[\u001B[49m\u001B[38;5;124;43m'\u001B[39;49m\u001B[38;5;124;43mfinal_state\u001B[39;49m\u001B[38;5;124;43m'\u001B[39;49m\u001B[43m]\u001B[49m\u001B[43m)\u001B[49m\u001B[43m,\u001B[49m\u001B[43m \u001B[49m\u001B[43maxis\u001B[49m\u001B[38;5;241;43m=\u001B[39;49m\u001B[38;5;241;43m1\u001B[39;49m\u001B[43m)\u001B[49m\u001B[43m)\u001B[49m\n",
      "File \u001B[0;32m~/anaconda3/envs/qutip-env/lib/python3.10/site-packages/pandas/core/frame.py:4806\u001B[0m, in \u001B[0;36mDataFrame.insert\u001B[0;34m(self, loc, column, value, allow_duplicates)\u001B[0m\n\u001B[1;32m   4800\u001B[0m     \u001B[38;5;28;01mraise\u001B[39;00m \u001B[38;5;167;01mValueError\u001B[39;00m(\n\u001B[1;32m   4801\u001B[0m         \u001B[38;5;124m\"\u001B[39m\u001B[38;5;124mCannot specify \u001B[39m\u001B[38;5;124m'\u001B[39m\u001B[38;5;124mallow_duplicates=True\u001B[39m\u001B[38;5;124m'\u001B[39m\u001B[38;5;124m when \u001B[39m\u001B[38;5;124m\"\u001B[39m\n\u001B[1;32m   4802\u001B[0m         \u001B[38;5;124m\"\u001B[39m\u001B[38;5;124m'\u001B[39m\u001B[38;5;124mself.flags.allows_duplicate_labels\u001B[39m\u001B[38;5;124m'\u001B[39m\u001B[38;5;124m is False.\u001B[39m\u001B[38;5;124m\"\u001B[39m\n\u001B[1;32m   4803\u001B[0m     )\n\u001B[1;32m   4804\u001B[0m \u001B[38;5;28;01mif\u001B[39;00m \u001B[38;5;129;01mnot\u001B[39;00m allow_duplicates \u001B[38;5;129;01mand\u001B[39;00m column \u001B[38;5;129;01min\u001B[39;00m \u001B[38;5;28mself\u001B[39m\u001B[38;5;241m.\u001B[39mcolumns:\n\u001B[1;32m   4805\u001B[0m     \u001B[38;5;66;03m# Should this be a different kind of error??\u001B[39;00m\n\u001B[0;32m-> 4806\u001B[0m     \u001B[38;5;28;01mraise\u001B[39;00m \u001B[38;5;167;01mValueError\u001B[39;00m(\u001B[38;5;124mf\u001B[39m\u001B[38;5;124m\"\u001B[39m\u001B[38;5;124mcannot insert \u001B[39m\u001B[38;5;132;01m{\u001B[39;00mcolumn\u001B[38;5;132;01m}\u001B[39;00m\u001B[38;5;124m, already exists\u001B[39m\u001B[38;5;124m\"\u001B[39m)\n\u001B[1;32m   4807\u001B[0m \u001B[38;5;28;01mif\u001B[39;00m \u001B[38;5;129;01mnot\u001B[39;00m \u001B[38;5;28misinstance\u001B[39m(loc, \u001B[38;5;28mint\u001B[39m):\n\u001B[1;32m   4808\u001B[0m     \u001B[38;5;28;01mraise\u001B[39;00m \u001B[38;5;167;01mTypeError\u001B[39;00m(\u001B[38;5;124m\"\u001B[39m\u001B[38;5;124mloc must be int\u001B[39m\u001B[38;5;124m\"\u001B[39m)\n",
      "\u001B[0;31mValueError\u001B[0m: cannot insert groundspace_sharpness, already exists"
     ]
    }
   ],
   "source": [
    "# df.insert(4, 'groundspace_sharpness', df.swifter.apply(lambda row: groundspace_sharpness(row['groundspace'], row['final_state']), axis=1))"
   ],
   "metadata": {
    "collapsed": false,
    "pycharm": {
     "name": "#%%\n"
    }
   }
  },
  {
   "cell_type": "code",
   "execution_count": 14,
   "outputs": [
    {
     "data": {
      "text/plain": "0        24\n1        30\n2        37\n3        44\n4        31\n       ... \n995      98\n996     469\n997     441\n998     782\n999    1000\nName: steps, Length: 1000, dtype: int64"
     },
     "execution_count": 14,
     "metadata": {},
     "output_type": "execute_result"
    }
   ],
   "source": [
    "df['steps']"
   ],
   "metadata": {
    "collapsed": false,
    "pycharm": {
     "name": "#%%\n"
    }
   }
  },
  {
   "cell_type": "code",
   "execution_count": 15,
   "outputs": [
    {
     "data": {
      "text/plain": "Pandas Apply:   0%|          | 0/1000 [00:00<?, ?it/s]",
      "application/vnd.jupyter.widget-view+json": {
       "version_major": 2,
       "version_minor": 0,
       "model_id": "54c38f5b990a4e60a869be154a0a95b4"
      }
     },
     "metadata": {},
     "output_type": "display_data"
    }
   ],
   "source": [
    "df['circuit_count']= df.swifter.apply(lambda row: circuit_count(row['steps'], row['algorithm'], row['p'], row['n']), axis=1)"
   ],
   "metadata": {
    "collapsed": false,
    "pycharm": {
     "name": "#%%\n"
    }
   }
  },
  {
   "cell_type": "code",
   "execution_count": 18,
   "outputs": [
    {
     "data": {
      "text/plain": "Pandas Apply:   0%|          | 0/1000 [00:00<?, ?it/s]",
      "application/vnd.jupyter.widget-view+json": {
       "version_major": 2,
       "version_minor": 0,
       "model_id": "a7cbfd163680438aa6e39c2922f9c33c"
      }
     },
     "metadata": {},
     "output_type": "display_data"
    }
   ],
   "source": [
    "df['gate_count']= df.swifter.apply(lambda row: gate_count(row['steps'], row['algorithm'],row['qaoa'], row['p'], row['n']), axis=1)"
   ],
   "metadata": {
    "collapsed": false,
    "pycharm": {
     "name": "#%%\n"
    }
   }
  },
  {
   "cell_type": "code",
   "execution_count": 19,
   "outputs": [
    {
     "data": {
      "text/plain": "Pandas Apply:   0%|          | 0/1000 [00:00<?, ?it/s]",
      "application/vnd.jupyter.widget-view+json": {
       "version_major": 2,
       "version_minor": 0,
       "model_id": "ab8556fd53e441948798c40c5c32858e"
      }
     },
     "metadata": {},
     "output_type": "display_data"
    }
   ],
   "source": [
    "df['answer'] = df.swifter.apply(lambda row: answer(row['final_state']), axis=1)"
   ],
   "metadata": {
    "collapsed": false,
    "pycharm": {
     "name": "#%%\n"
    }
   }
  },
  {
   "cell_type": "code",
   "execution_count": 51,
   "outputs": [
    {
     "data": {
      "text/plain": "Pandas Apply:   0%|          | 0/1000 [00:00<?, ?it/s]",
      "application/vnd.jupyter.widget-view+json": {
       "version_major": 2,
       "version_minor": 0,
       "model_id": "49042352e24b4a5aa7183cea27bfe533"
      }
     },
     "metadata": {},
     "output_type": "display_data"
    }
   ],
   "source": [
    "df['bin_answer'] = df.swifter.apply(lambda row: bin_answer(row['final_state']), axis=1)"
   ],
   "metadata": {
    "collapsed": false,
    "pycharm": {
     "name": "#%%\n"
    }
   }
  },
  {
   "cell_type": "code",
   "execution_count": 52,
   "outputs": [
    {
     "ename": "KeyboardInterrupt",
     "evalue": "",
     "output_type": "error",
     "traceback": [
      "\u001B[0;31m---------------------------------------------------------------------------\u001B[0m",
      "\u001B[0;31mAttributeError\u001B[0m                            Traceback (most recent call last)",
      "File \u001B[0;32m~/anaconda3/envs/qutip-env/lib/python3.10/site-packages/swifter/swifter.py:427\u001B[0m, in \u001B[0;36mDataFrameAccessor.apply\u001B[0;34m(self, func, axis, raw, result_type, args, **kwds)\u001B[0m\n\u001B[1;32m    426\u001B[0m \u001B[38;5;28;01mwith\u001B[39;00m suppress_stdout_stderr_logging():\n\u001B[0;32m--> 427\u001B[0m     tmp_df \u001B[38;5;241m=\u001B[39m \u001B[43mfunc\u001B[49m\u001B[43m(\u001B[49m\u001B[43msample\u001B[49m\u001B[43m,\u001B[49m\u001B[43m \u001B[49m\u001B[38;5;241;43m*\u001B[39;49m\u001B[43margs\u001B[49m\u001B[43m,\u001B[49m\u001B[43m \u001B[49m\u001B[38;5;241;43m*\u001B[39;49m\u001B[38;5;241;43m*\u001B[39;49m\u001B[43mkwds\u001B[49m\u001B[43m)\u001B[49m\n\u001B[1;32m    428\u001B[0m     sample_df \u001B[38;5;241m=\u001B[39m sample\u001B[38;5;241m.\u001B[39mapply(func, axis\u001B[38;5;241m=\u001B[39maxis, raw\u001B[38;5;241m=\u001B[39mraw, result_type\u001B[38;5;241m=\u001B[39mresult_type, args\u001B[38;5;241m=\u001B[39margs, \u001B[38;5;241m*\u001B[39m\u001B[38;5;241m*\u001B[39mkwds)\n",
      "Cell \u001B[0;32mIn [52], line 1\u001B[0m, in \u001B[0;36m<lambda>\u001B[0;34m(row)\u001B[0m\n\u001B[0;32m----> 1\u001B[0m df\u001B[38;5;241m.\u001B[39minsert(\u001B[38;5;241m3\u001B[39m, \u001B[38;5;124m'\u001B[39m\u001B[38;5;124mbest_cost_value\u001B[39m\u001B[38;5;124m'\u001B[39m, df\u001B[38;5;241m.\u001B[39mswifter\u001B[38;5;241m.\u001B[39mapply(\u001B[38;5;28;01mlambda\u001B[39;00m row: \u001B[43mbest_cost_value\u001B[49m\u001B[43m(\u001B[49m\u001B[43mrow\u001B[49m\u001B[43m[\u001B[49m\u001B[38;5;124;43m'\u001B[39;49m\u001B[38;5;124;43mqaoa\u001B[39;49m\u001B[38;5;124;43m'\u001B[39;49m\u001B[43m]\u001B[49m\u001B[43m)\u001B[49m, axis\u001B[38;5;241m=\u001B[39m\u001B[38;5;241m1\u001B[39m))\n",
      "Cell \u001B[0;32mIn [50], line 2\u001B[0m, in \u001B[0;36mbest_cost_value\u001B[0;34m(qaoa)\u001B[0m\n\u001B[1;32m      1\u001B[0m \u001B[38;5;28;01mdef\u001B[39;00m \u001B[38;5;21mbest_cost_value\u001B[39m(qaoa:QAOA):\n\u001B[0;32m----> 2\u001B[0m     \u001B[38;5;28;01mreturn\u001B[39;00m \u001B[43mqaoa\u001B[49m\u001B[38;5;241;43m.\u001B[39;49m\u001B[43mH\u001B[49m\u001B[38;5;241m.\u001B[39mgroundstate()[\u001B[38;5;241m0\u001B[39m]\n",
      "File \u001B[0;32m~/anaconda3/envs/qutip-env/lib/python3.10/site-packages/pandas/core/generic.py:5902\u001B[0m, in \u001B[0;36mNDFrame.__getattr__\u001B[0;34m(self, name)\u001B[0m\n\u001B[1;32m   5901\u001B[0m     \u001B[38;5;28;01mreturn\u001B[39;00m \u001B[38;5;28mself\u001B[39m[name]\n\u001B[0;32m-> 5902\u001B[0m \u001B[38;5;28;01mreturn\u001B[39;00m \u001B[38;5;28;43mobject\u001B[39;49m\u001B[38;5;241;43m.\u001B[39;49m\u001B[38;5;21;43m__getattribute__\u001B[39;49m\u001B[43m(\u001B[49m\u001B[38;5;28;43mself\u001B[39;49m\u001B[43m,\u001B[49m\u001B[43m \u001B[49m\u001B[43mname\u001B[49m\u001B[43m)\u001B[49m\n",
      "\u001B[0;31mAttributeError\u001B[0m: 'Series' object has no attribute 'H'",
      "\nDuring handling of the above exception, another exception occurred:\n",
      "\u001B[0;31mKeyboardInterrupt\u001B[0m                         Traceback (most recent call last)",
      "Cell \u001B[0;32mIn [52], line 1\u001B[0m\n\u001B[0;32m----> 1\u001B[0m df\u001B[38;5;241m.\u001B[39minsert(\u001B[38;5;241m3\u001B[39m, \u001B[38;5;124m'\u001B[39m\u001B[38;5;124mbest_cost_value\u001B[39m\u001B[38;5;124m'\u001B[39m, \u001B[43mdf\u001B[49m\u001B[38;5;241;43m.\u001B[39;49m\u001B[43mswifter\u001B[49m\u001B[38;5;241;43m.\u001B[39;49m\u001B[43mapply\u001B[49m\u001B[43m(\u001B[49m\u001B[38;5;28;43;01mlambda\u001B[39;49;00m\u001B[43m \u001B[49m\u001B[43mrow\u001B[49m\u001B[43m:\u001B[49m\u001B[43m \u001B[49m\u001B[43mbest_cost_value\u001B[49m\u001B[43m(\u001B[49m\u001B[43mrow\u001B[49m\u001B[43m[\u001B[49m\u001B[38;5;124;43m'\u001B[39;49m\u001B[38;5;124;43mqaoa\u001B[39;49m\u001B[38;5;124;43m'\u001B[39;49m\u001B[43m]\u001B[49m\u001B[43m)\u001B[49m\u001B[43m,\u001B[49m\u001B[43m \u001B[49m\u001B[43maxis\u001B[49m\u001B[38;5;241;43m=\u001B[39;49m\u001B[38;5;241;43m1\u001B[39;49m\u001B[43m)\u001B[49m)\n",
      "File \u001B[0;32m~/anaconda3/envs/qutip-env/lib/python3.10/site-packages/swifter/swifter.py:436\u001B[0m, in \u001B[0;36mDataFrameAccessor.apply\u001B[0;34m(self, func, axis, raw, result_type, args, **kwds)\u001B[0m\n\u001B[1;32m    434\u001B[0m \u001B[38;5;28;01mexcept\u001B[39;00m ERRORS_TO_HANDLE:  \u001B[38;5;66;03m# if can't vectorize, estimate time to pandas apply\u001B[39;00m\n\u001B[1;32m    435\u001B[0m     wrapped \u001B[38;5;241m=\u001B[39m \u001B[38;5;28mself\u001B[39m\u001B[38;5;241m.\u001B[39m_wrapped_apply(func, axis\u001B[38;5;241m=\u001B[39maxis, raw\u001B[38;5;241m=\u001B[39mraw, result_type\u001B[38;5;241m=\u001B[39mresult_type, args\u001B[38;5;241m=\u001B[39margs, \u001B[38;5;241m*\u001B[39m\u001B[38;5;241m*\u001B[39mkwds)\n\u001B[0;32m--> 436\u001B[0m     timed \u001B[38;5;241m=\u001B[39m \u001B[43mtimeit\u001B[49m\u001B[38;5;241;43m.\u001B[39;49m\u001B[43mtimeit\u001B[49m\u001B[43m(\u001B[49m\u001B[43mwrapped\u001B[49m\u001B[43m,\u001B[49m\u001B[43m \u001B[49m\u001B[43mnumber\u001B[49m\u001B[38;5;241;43m=\u001B[39;49m\u001B[43mN_REPEATS\u001B[49m\u001B[43m)\u001B[49m\n\u001B[1;32m    437\u001B[0m     sample_proc_est \u001B[38;5;241m=\u001B[39m timed \u001B[38;5;241m/\u001B[39m N_REPEATS\n\u001B[1;32m    438\u001B[0m     est_apply_duration \u001B[38;5;241m=\u001B[39m sample_proc_est \u001B[38;5;241m/\u001B[39m \u001B[38;5;28mself\u001B[39m\u001B[38;5;241m.\u001B[39m_SAMPLE_SIZE \u001B[38;5;241m*\u001B[39m \u001B[38;5;28mself\u001B[39m\u001B[38;5;241m.\u001B[39m_nrows\n",
      "File \u001B[0;32m~/anaconda3/envs/qutip-env/lib/python3.10/timeit.py:234\u001B[0m, in \u001B[0;36mtimeit\u001B[0;34m(stmt, setup, timer, number, globals)\u001B[0m\n\u001B[1;32m    231\u001B[0m \u001B[38;5;28;01mdef\u001B[39;00m \u001B[38;5;21mtimeit\u001B[39m(stmt\u001B[38;5;241m=\u001B[39m\u001B[38;5;124m\"\u001B[39m\u001B[38;5;124mpass\u001B[39m\u001B[38;5;124m\"\u001B[39m, setup\u001B[38;5;241m=\u001B[39m\u001B[38;5;124m\"\u001B[39m\u001B[38;5;124mpass\u001B[39m\u001B[38;5;124m\"\u001B[39m, timer\u001B[38;5;241m=\u001B[39mdefault_timer,\n\u001B[1;32m    232\u001B[0m            number\u001B[38;5;241m=\u001B[39mdefault_number, \u001B[38;5;28mglobals\u001B[39m\u001B[38;5;241m=\u001B[39m\u001B[38;5;28;01mNone\u001B[39;00m):\n\u001B[1;32m    233\u001B[0m     \u001B[38;5;124;03m\"\"\"Convenience function to create Timer object and call timeit method.\"\"\"\u001B[39;00m\n\u001B[0;32m--> 234\u001B[0m     \u001B[38;5;28;01mreturn\u001B[39;00m \u001B[43mTimer\u001B[49m\u001B[43m(\u001B[49m\u001B[43mstmt\u001B[49m\u001B[43m,\u001B[49m\u001B[43m \u001B[49m\u001B[43msetup\u001B[49m\u001B[43m,\u001B[49m\u001B[43m \u001B[49m\u001B[43mtimer\u001B[49m\u001B[43m,\u001B[49m\u001B[43m \u001B[49m\u001B[38;5;28;43mglobals\u001B[39;49m\u001B[43m)\u001B[49m\u001B[38;5;241;43m.\u001B[39;49m\u001B[43mtimeit\u001B[49m\u001B[43m(\u001B[49m\u001B[43mnumber\u001B[49m\u001B[43m)\u001B[49m\n",
      "File \u001B[0;32m~/anaconda3/envs/qutip-env/lib/python3.10/timeit.py:178\u001B[0m, in \u001B[0;36mTimer.timeit\u001B[0;34m(self, number)\u001B[0m\n\u001B[1;32m    176\u001B[0m gc\u001B[38;5;241m.\u001B[39mdisable()\n\u001B[1;32m    177\u001B[0m \u001B[38;5;28;01mtry\u001B[39;00m:\n\u001B[0;32m--> 178\u001B[0m     timing \u001B[38;5;241m=\u001B[39m \u001B[38;5;28;43mself\u001B[39;49m\u001B[38;5;241;43m.\u001B[39;49m\u001B[43minner\u001B[49m\u001B[43m(\u001B[49m\u001B[43mit\u001B[49m\u001B[43m,\u001B[49m\u001B[43m \u001B[49m\u001B[38;5;28;43mself\u001B[39;49m\u001B[38;5;241;43m.\u001B[39;49m\u001B[43mtimer\u001B[49m\u001B[43m)\u001B[49m\n\u001B[1;32m    179\u001B[0m \u001B[38;5;28;01mfinally\u001B[39;00m:\n\u001B[1;32m    180\u001B[0m     \u001B[38;5;28;01mif\u001B[39;00m gcold:\n",
      "File \u001B[0;32m<timeit-src>:6\u001B[0m, in \u001B[0;36minner\u001B[0;34m(_it, _timer, _stmt)\u001B[0m\n",
      "File \u001B[0;32m~/anaconda3/envs/qutip-env/lib/python3.10/site-packages/swifter/swifter.py:339\u001B[0m, in \u001B[0;36mDataFrameAccessor._wrapped_apply.<locals>.wrapped\u001B[0;34m()\u001B[0m\n\u001B[1;32m    337\u001B[0m \u001B[38;5;28;01mdef\u001B[39;00m \u001B[38;5;21mwrapped\u001B[39m():\n\u001B[1;32m    338\u001B[0m     \u001B[38;5;28;01mwith\u001B[39;00m suppress_stdout_stderr_logging():\n\u001B[0;32m--> 339\u001B[0m         \u001B[38;5;28;43mself\u001B[39;49m\u001B[38;5;241;43m.\u001B[39;49m\u001B[43m_obj\u001B[49m\u001B[38;5;241;43m.\u001B[39;49m\u001B[43miloc\u001B[49m\u001B[43m[\u001B[49m\u001B[38;5;28;43mself\u001B[39;49m\u001B[38;5;241;43m.\u001B[39;49m\u001B[43m_SAMPLE_INDEX\u001B[49m\u001B[43m]\u001B[49m\u001B[38;5;241;43m.\u001B[39;49m\u001B[43mapply\u001B[49m\u001B[43m(\u001B[49m\n\u001B[1;32m    340\u001B[0m \u001B[43m            \u001B[49m\u001B[43mfunc\u001B[49m\u001B[43m,\u001B[49m\u001B[43m \u001B[49m\u001B[43maxis\u001B[49m\u001B[38;5;241;43m=\u001B[39;49m\u001B[43maxis\u001B[49m\u001B[43m,\u001B[49m\u001B[43m \u001B[49m\u001B[43mraw\u001B[49m\u001B[38;5;241;43m=\u001B[39;49m\u001B[43mraw\u001B[49m\u001B[43m,\u001B[49m\u001B[43m \u001B[49m\u001B[43mresult_type\u001B[49m\u001B[38;5;241;43m=\u001B[39;49m\u001B[43mresult_type\u001B[49m\u001B[43m,\u001B[49m\u001B[43m \u001B[49m\u001B[43margs\u001B[49m\u001B[38;5;241;43m=\u001B[39;49m\u001B[43margs\u001B[49m\u001B[43m,\u001B[49m\u001B[43m \u001B[49m\u001B[38;5;241;43m*\u001B[39;49m\u001B[38;5;241;43m*\u001B[39;49m\u001B[43mkwds\u001B[49m\n\u001B[1;32m    341\u001B[0m \u001B[43m        \u001B[49m\u001B[43m)\u001B[49m\n",
      "File \u001B[0;32m~/anaconda3/envs/qutip-env/lib/python3.10/site-packages/pandas/core/frame.py:9555\u001B[0m, in \u001B[0;36mDataFrame.apply\u001B[0;34m(self, func, axis, raw, result_type, args, **kwargs)\u001B[0m\n\u001B[1;32m   9544\u001B[0m \u001B[38;5;28;01mfrom\u001B[39;00m \u001B[38;5;21;01mpandas\u001B[39;00m\u001B[38;5;21;01m.\u001B[39;00m\u001B[38;5;21;01mcore\u001B[39;00m\u001B[38;5;21;01m.\u001B[39;00m\u001B[38;5;21;01mapply\u001B[39;00m \u001B[38;5;28;01mimport\u001B[39;00m frame_apply\n\u001B[1;32m   9546\u001B[0m op \u001B[38;5;241m=\u001B[39m frame_apply(\n\u001B[1;32m   9547\u001B[0m     \u001B[38;5;28mself\u001B[39m,\n\u001B[1;32m   9548\u001B[0m     func\u001B[38;5;241m=\u001B[39mfunc,\n\u001B[0;32m   (...)\u001B[0m\n\u001B[1;32m   9553\u001B[0m     kwargs\u001B[38;5;241m=\u001B[39mkwargs,\n\u001B[1;32m   9554\u001B[0m )\n\u001B[0;32m-> 9555\u001B[0m \u001B[38;5;28;01mreturn\u001B[39;00m \u001B[43mop\u001B[49m\u001B[38;5;241;43m.\u001B[39;49m\u001B[43mapply\u001B[49m\u001B[43m(\u001B[49m\u001B[43m)\u001B[49m\u001B[38;5;241m.\u001B[39m__finalize__(\u001B[38;5;28mself\u001B[39m, method\u001B[38;5;241m=\u001B[39m\u001B[38;5;124m\"\u001B[39m\u001B[38;5;124mapply\u001B[39m\u001B[38;5;124m\"\u001B[39m)\n",
      "File \u001B[0;32m~/anaconda3/envs/qutip-env/lib/python3.10/site-packages/pandas/core/apply.py:746\u001B[0m, in \u001B[0;36mFrameApply.apply\u001B[0;34m(self)\u001B[0m\n\u001B[1;32m    743\u001B[0m \u001B[38;5;28;01melif\u001B[39;00m \u001B[38;5;28mself\u001B[39m\u001B[38;5;241m.\u001B[39mraw:\n\u001B[1;32m    744\u001B[0m     \u001B[38;5;28;01mreturn\u001B[39;00m \u001B[38;5;28mself\u001B[39m\u001B[38;5;241m.\u001B[39mapply_raw()\n\u001B[0;32m--> 746\u001B[0m \u001B[38;5;28;01mreturn\u001B[39;00m \u001B[38;5;28;43mself\u001B[39;49m\u001B[38;5;241;43m.\u001B[39;49m\u001B[43mapply_standard\u001B[49m\u001B[43m(\u001B[49m\u001B[43m)\u001B[49m\n",
      "File \u001B[0;32m~/anaconda3/envs/qutip-env/lib/python3.10/site-packages/pandas/core/apply.py:873\u001B[0m, in \u001B[0;36mFrameApply.apply_standard\u001B[0;34m(self)\u001B[0m\n\u001B[1;32m    872\u001B[0m \u001B[38;5;28;01mdef\u001B[39;00m \u001B[38;5;21mapply_standard\u001B[39m(\u001B[38;5;28mself\u001B[39m):\n\u001B[0;32m--> 873\u001B[0m     results, res_index \u001B[38;5;241m=\u001B[39m \u001B[38;5;28;43mself\u001B[39;49m\u001B[38;5;241;43m.\u001B[39;49m\u001B[43mapply_series_generator\u001B[49m\u001B[43m(\u001B[49m\u001B[43m)\u001B[49m\n\u001B[1;32m    875\u001B[0m     \u001B[38;5;66;03m# wrap results\u001B[39;00m\n\u001B[1;32m    876\u001B[0m     \u001B[38;5;28;01mreturn\u001B[39;00m \u001B[38;5;28mself\u001B[39m\u001B[38;5;241m.\u001B[39mwrap_results(results, res_index)\n",
      "File \u001B[0;32m~/anaconda3/envs/qutip-env/lib/python3.10/site-packages/pandas/core/apply.py:889\u001B[0m, in \u001B[0;36mFrameApply.apply_series_generator\u001B[0;34m(self)\u001B[0m\n\u001B[1;32m    886\u001B[0m \u001B[38;5;28;01mwith\u001B[39;00m option_context(\u001B[38;5;124m\"\u001B[39m\u001B[38;5;124mmode.chained_assignment\u001B[39m\u001B[38;5;124m\"\u001B[39m, \u001B[38;5;28;01mNone\u001B[39;00m):\n\u001B[1;32m    887\u001B[0m     \u001B[38;5;28;01mfor\u001B[39;00m i, v \u001B[38;5;129;01min\u001B[39;00m \u001B[38;5;28menumerate\u001B[39m(series_gen):\n\u001B[1;32m    888\u001B[0m         \u001B[38;5;66;03m# ignore SettingWithCopy here in case the user mutates\u001B[39;00m\n\u001B[0;32m--> 889\u001B[0m         results[i] \u001B[38;5;241m=\u001B[39m \u001B[38;5;28;43mself\u001B[39;49m\u001B[38;5;241;43m.\u001B[39;49m\u001B[43mf\u001B[49m\u001B[43m(\u001B[49m\u001B[43mv\u001B[49m\u001B[43m)\u001B[49m\n\u001B[1;32m    890\u001B[0m         \u001B[38;5;28;01mif\u001B[39;00m \u001B[38;5;28misinstance\u001B[39m(results[i], ABCSeries):\n\u001B[1;32m    891\u001B[0m             \u001B[38;5;66;03m# If we have a view on v, we need to make a copy because\u001B[39;00m\n\u001B[1;32m    892\u001B[0m             \u001B[38;5;66;03m#  series_generator will swap out the underlying data\u001B[39;00m\n\u001B[1;32m    893\u001B[0m             results[i] \u001B[38;5;241m=\u001B[39m results[i]\u001B[38;5;241m.\u001B[39mcopy(deep\u001B[38;5;241m=\u001B[39m\u001B[38;5;28;01mFalse\u001B[39;00m)\n",
      "Cell \u001B[0;32mIn [52], line 1\u001B[0m, in \u001B[0;36m<lambda>\u001B[0;34m(row)\u001B[0m\n\u001B[0;32m----> 1\u001B[0m df\u001B[38;5;241m.\u001B[39minsert(\u001B[38;5;241m3\u001B[39m, \u001B[38;5;124m'\u001B[39m\u001B[38;5;124mbest_cost_value\u001B[39m\u001B[38;5;124m'\u001B[39m, df\u001B[38;5;241m.\u001B[39mswifter\u001B[38;5;241m.\u001B[39mapply(\u001B[38;5;28;01mlambda\u001B[39;00m row: \u001B[43mbest_cost_value\u001B[49m\u001B[43m(\u001B[49m\u001B[43mrow\u001B[49m\u001B[43m[\u001B[49m\u001B[38;5;124;43m'\u001B[39;49m\u001B[38;5;124;43mqaoa\u001B[39;49m\u001B[38;5;124;43m'\u001B[39;49m\u001B[43m]\u001B[49m\u001B[43m)\u001B[49m, axis\u001B[38;5;241m=\u001B[39m\u001B[38;5;241m1\u001B[39m))\n",
      "Cell \u001B[0;32mIn [50], line 2\u001B[0m, in \u001B[0;36mbest_cost_value\u001B[0;34m(qaoa)\u001B[0m\n\u001B[1;32m      1\u001B[0m \u001B[38;5;28;01mdef\u001B[39;00m \u001B[38;5;21mbest_cost_value\u001B[39m(qaoa:QAOA):\n\u001B[0;32m----> 2\u001B[0m     \u001B[38;5;28;01mreturn\u001B[39;00m \u001B[43mqaoa\u001B[49m\u001B[38;5;241;43m.\u001B[39;49m\u001B[43mH\u001B[49m\u001B[38;5;241;43m.\u001B[39;49m\u001B[43mgroundstate\u001B[49m\u001B[43m(\u001B[49m\u001B[43m)\u001B[49m[\u001B[38;5;241m0\u001B[39m]\n",
      "File \u001B[0;32m~/anaconda3/envs/qutip-env/lib/python3.10/site-packages/qutip/qobj.py:1792\u001B[0m, in \u001B[0;36mQobj.groundstate\u001B[0;34m(self, sparse, tol, maxiter, safe)\u001B[0m\n\u001B[1;32m   1790\u001B[0m \u001B[38;5;28;01melse\u001B[39;00m:\n\u001B[1;32m   1791\u001B[0m     evals \u001B[38;5;241m=\u001B[39m \u001B[38;5;241m1\u001B[39m\n\u001B[0;32m-> 1792\u001B[0m grndval, grndvec \u001B[38;5;241m=\u001B[39m \u001B[43msp_eigs\u001B[49m\u001B[43m(\u001B[49m\u001B[38;5;28;43mself\u001B[39;49m\u001B[38;5;241;43m.\u001B[39;49m\u001B[43mdata\u001B[49m\u001B[43m,\u001B[49m\u001B[43m \u001B[49m\u001B[38;5;28;43mself\u001B[39;49m\u001B[38;5;241;43m.\u001B[39;49m\u001B[43misherm\u001B[49m\u001B[43m,\u001B[49m\u001B[43m \u001B[49m\u001B[43msparse\u001B[49m\u001B[38;5;241;43m=\u001B[39;49m\u001B[43msparse\u001B[49m\u001B[43m,\u001B[49m\n\u001B[1;32m   1793\u001B[0m \u001B[43m                           \u001B[49m\u001B[43meigvals\u001B[49m\u001B[38;5;241;43m=\u001B[39;49m\u001B[43mevals\u001B[49m\u001B[43m,\u001B[49m\u001B[43m \u001B[49m\u001B[43mtol\u001B[49m\u001B[38;5;241;43m=\u001B[39;49m\u001B[43mtol\u001B[49m\u001B[43m,\u001B[49m\u001B[43m \u001B[49m\u001B[43mmaxiter\u001B[49m\u001B[38;5;241;43m=\u001B[39;49m\u001B[43mmaxiter\u001B[49m\u001B[43m)\u001B[49m\n\u001B[1;32m   1794\u001B[0m \u001B[38;5;28;01mif\u001B[39;00m safe:\n\u001B[1;32m   1795\u001B[0m     tol \u001B[38;5;241m=\u001B[39m \u001B[38;5;241m1e-15\u001B[39m \u001B[38;5;28;01mif\u001B[39;00m tol \u001B[38;5;241m==\u001B[39m \u001B[38;5;241m0\u001B[39m \u001B[38;5;28;01melse\u001B[39;00m tol\n",
      "File \u001B[0;32m~/anaconda3/envs/qutip-env/lib/python3.10/site-packages/qutip/sparse.py:377\u001B[0m, in \u001B[0;36msp_eigs\u001B[0;34m(data, isherm, vecs, sparse, sort, eigvals, tol, maxiter)\u001B[0m\n\u001B[1;32m    374\u001B[0m     evals, evecs \u001B[38;5;241m=\u001B[39m _sp_eigs(data, isherm, vecs, N, eigvals, num_large,\n\u001B[1;32m    375\u001B[0m                             num_small, tol, maxiter)\n\u001B[1;32m    376\u001B[0m \u001B[38;5;28;01melse\u001B[39;00m:\n\u001B[0;32m--> 377\u001B[0m     evals, evecs \u001B[38;5;241m=\u001B[39m \u001B[43m_dense_eigs\u001B[49m\u001B[43m(\u001B[49m\u001B[43mdata\u001B[49m\u001B[38;5;241;43m.\u001B[39;49m\u001B[43mtoarray\u001B[49m\u001B[43m(\u001B[49m\u001B[43m)\u001B[49m\u001B[43m,\u001B[49m\u001B[43m \u001B[49m\u001B[43misherm\u001B[49m\u001B[43m,\u001B[49m\u001B[43m \u001B[49m\u001B[43mvecs\u001B[49m\u001B[43m,\u001B[49m\u001B[43m \u001B[49m\u001B[43mN\u001B[49m\u001B[43m,\u001B[49m\u001B[43m \u001B[49m\u001B[43meigvals\u001B[49m\u001B[43m,\u001B[49m\n\u001B[1;32m    378\u001B[0m \u001B[43m                               \u001B[49m\u001B[43mnum_large\u001B[49m\u001B[43m,\u001B[49m\u001B[43m \u001B[49m\u001B[43mnum_small\u001B[49m\u001B[43m)\u001B[49m\n\u001B[1;32m    380\u001B[0m \u001B[38;5;28;01mif\u001B[39;00m sort \u001B[38;5;241m==\u001B[39m \u001B[38;5;124m'\u001B[39m\u001B[38;5;124mhigh\u001B[39m\u001B[38;5;124m'\u001B[39m:  \u001B[38;5;66;03m# flip arrays to largest values first\u001B[39;00m\n\u001B[1;32m    381\u001B[0m     \u001B[38;5;28;01mif\u001B[39;00m vecs:\n",
      "File \u001B[0;32m~/anaconda3/envs/qutip-env/lib/python3.10/site-packages/qutip/sparse.py:179\u001B[0m, in \u001B[0;36m_dense_eigs\u001B[0;34m(data, isherm, vecs, N, eigvals, num_large, num_small)\u001B[0m\n\u001B[1;32m    177\u001B[0m \u001B[38;5;28;01melse\u001B[39;00m:\n\u001B[1;32m    178\u001B[0m     \u001B[38;5;28;01mif\u001B[39;00m num_small \u001B[38;5;241m>\u001B[39m \u001B[38;5;241m0\u001B[39m:\n\u001B[0;32m--> 179\u001B[0m         evals, evecs \u001B[38;5;241m=\u001B[39m \u001B[43meigh\u001B[49m\u001B[43m(\u001B[49m\n\u001B[1;32m    180\u001B[0m \u001B[43m            \u001B[49m\u001B[43mdata\u001B[49m\u001B[43m,\u001B[49m\u001B[43m \u001B[49m\u001B[43meigvals\u001B[49m\u001B[38;5;241;43m=\u001B[39;49m\u001B[43m[\u001B[49m\u001B[38;5;241;43m0\u001B[39;49m\u001B[43m,\u001B[49m\u001B[43m \u001B[49m\u001B[43mnum_small\u001B[49m\u001B[43m \u001B[49m\u001B[38;5;241;43m-\u001B[39;49m\u001B[43m \u001B[49m\u001B[38;5;241;43m1\u001B[39;49m\u001B[43m]\u001B[49m\u001B[43m)\u001B[49m\n\u001B[1;32m    181\u001B[0m     \u001B[38;5;28;01mif\u001B[39;00m num_large \u001B[38;5;241m>\u001B[39m \u001B[38;5;241m0\u001B[39m:\n\u001B[1;32m    182\u001B[0m         evals, evecs \u001B[38;5;241m=\u001B[39m eigh(\n\u001B[1;32m    183\u001B[0m             data, eigvals\u001B[38;5;241m=\u001B[39m[N \u001B[38;5;241m-\u001B[39m num_large, N \u001B[38;5;241m-\u001B[39m \u001B[38;5;241m1\u001B[39m])\n",
      "File \u001B[0;32m~/anaconda3/envs/qutip-env/lib/python3.10/site-packages/scipy/linalg/_decomp.py:547\u001B[0m, in \u001B[0;36meigh\u001B[0;34m(a, b, lower, eigvals_only, overwrite_a, overwrite_b, turbo, eigvals, type, check_finite, subset_by_index, subset_by_value, driver)\u001B[0m\n\u001B[1;32m    544\u001B[0m         lwork_args \u001B[38;5;241m=\u001B[39m {\u001B[38;5;124m'\u001B[39m\u001B[38;5;124mlwork\u001B[39m\u001B[38;5;124m'\u001B[39m: lw}\n\u001B[1;32m    546\u001B[0m     drv_args\u001B[38;5;241m.\u001B[39mupdate({\u001B[38;5;124m'\u001B[39m\u001B[38;5;124mlower\u001B[39m\u001B[38;5;124m'\u001B[39m: lower, \u001B[38;5;124m'\u001B[39m\u001B[38;5;124mcompute_v\u001B[39m\u001B[38;5;124m'\u001B[39m: \u001B[38;5;241m0\u001B[39m \u001B[38;5;28;01mif\u001B[39;00m _job \u001B[38;5;241m==\u001B[39m \u001B[38;5;124m\"\u001B[39m\u001B[38;5;124mN\u001B[39m\u001B[38;5;124m\"\u001B[39m \u001B[38;5;28;01melse\u001B[39;00m \u001B[38;5;241m1\u001B[39m})\n\u001B[0;32m--> 547\u001B[0m     w, v, \u001B[38;5;241m*\u001B[39mother_args, info \u001B[38;5;241m=\u001B[39m \u001B[43mdrv\u001B[49m\u001B[43m(\u001B[49m\u001B[43ma\u001B[49m\u001B[38;5;241;43m=\u001B[39;49m\u001B[43ma1\u001B[49m\u001B[43m,\u001B[49m\u001B[43m \u001B[49m\u001B[38;5;241;43m*\u001B[39;49m\u001B[38;5;241;43m*\u001B[39;49m\u001B[43mdrv_args\u001B[49m\u001B[43m,\u001B[49m\u001B[43m \u001B[49m\u001B[38;5;241;43m*\u001B[39;49m\u001B[38;5;241;43m*\u001B[39;49m\u001B[43mlwork_args\u001B[49m\u001B[43m)\u001B[49m\n\u001B[1;32m    549\u001B[0m \u001B[38;5;28;01melse\u001B[39;00m:  \u001B[38;5;66;03m# Generalized problem\u001B[39;00m\n\u001B[1;32m    550\u001B[0m     \u001B[38;5;66;03m# 'gvd' doesn't have lwork query\u001B[39;00m\n\u001B[1;32m    551\u001B[0m     \u001B[38;5;28;01mif\u001B[39;00m driver \u001B[38;5;241m==\u001B[39m \u001B[38;5;124m\"\u001B[39m\u001B[38;5;124mgvd\u001B[39m\u001B[38;5;124m\"\u001B[39m:\n",
      "\u001B[0;31mKeyboardInterrupt\u001B[0m: "
     ]
    }
   ],
   "source": [
    "df.insert(3, 'best_cost_value', df.swifter.apply(lambda row: best_cost_value(row['qaoa']), axis=1))"
   ],
   "metadata": {
    "collapsed": false,
    "pycharm": {
     "name": "#%%\n"
    }
   }
  },
  {
   "cell_type": "code",
   "execution_count": 53,
   "outputs": [
    {
     "data": {
      "text/plain": "Pandas Apply:   0%|          | 0/1000 [00:00<?, ?it/s]",
      "application/vnd.jupyter.widget-view+json": {
       "version_major": 2,
       "version_minor": 0,
       "model_id": "87cc587059ca48b49d904094a2bf782c"
      }
     },
     "metadata": {},
     "output_type": "display_data"
    }
   ],
   "source": [
    "df.insert(3, 'approximation_ratio', df.swifter.apply(lambda row: approximation_ratio(row['bin_answer'],row['best_cost_value'],row['qaoa']), axis=1))"
   ],
   "metadata": {
    "collapsed": false,
    "pycharm": {
     "name": "#%%\n"
    }
   }
  },
  {
   "cell_type": "code",
   "execution_count": 56,
   "outputs": [
    {
     "data": {
      "text/plain": "Pandas Apply:   0%|          | 0/1000 [00:00<?, ?it/s]",
      "application/vnd.jupyter.widget-view+json": {
       "version_major": 2,
       "version_minor": 0,
       "model_id": "7585b0a37c434d5f86895482390f9003"
      }
     },
     "metadata": {},
     "output_type": "display_data"
    }
   ],
   "source": [
    "df.insert(3, 'expectation_of_approximation_ratio', df.swifter.apply(lambda row: expectation_of_approximation_ratio(row['final_state'],row['best_cost_value'],row['qaoa']), axis=1))"
   ],
   "metadata": {
    "collapsed": false,
    "pycharm": {
     "name": "#%%\n"
    }
   }
  },
  {
   "cell_type": "code",
   "execution_count": 57,
   "outputs": [],
   "source": [
    "with open('..//benchmarks//n10_data.p', 'wb') as file:\n",
    "    pickle.dump(df,file)"
   ],
   "metadata": {
    "collapsed": false,
    "pycharm": {
     "name": "#%%\n"
    }
   }
  },
  {
   "cell_type": "code",
   "execution_count": null,
   "outputs": [],
   "source": [],
   "metadata": {
    "collapsed": false,
    "pycharm": {
     "name": "#%%\n"
    }
   }
  }
 ],
 "metadata": {
  "kernelspec": {
   "display_name": "Python 3.10.6 ('qutip-env')",
   "language": "python",
   "name": "python3"
  },
  "language_info": {
   "codemirror_mode": {
    "name": "ipython",
    "version": 3
   },
   "file_extension": ".py",
   "mimetype": "text/x-python",
   "name": "python",
   "nbconvert_exporter": "python",
   "pygments_lexer": "ipython3",
   "version": "3.10.6"
  },
  "orig_nbformat": 4,
  "vscode": {
   "interpreter": {
    "hash": "fe45c953e7d91ced0867b19789acd0ab1d9439aa0b1f4fae31fd46e88f74aeab"
   }
  }
 },
 "nbformat": 4,
 "nbformat_minor": 2
}