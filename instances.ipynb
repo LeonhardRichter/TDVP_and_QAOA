{
 "cells": [
  {
   "cell_type": "code",
   "execution_count": 1,
   "metadata": {},
   "outputs": [],
   "source": [
    "import numpy as np\n",
    "import random as rng\n",
    "import networkx as nx\n",
    "import pickle\n",
    "from MaxCut import MaxCut\n",
    "from qaoa_and_tdvp import QAOA\n",
    "from typing import Union"
   ]
  },
  {
   "cell_type": "code",
   "execution_count": 2,
   "metadata": {},
   "outputs": [],
   "source": [
    "def get_connected_rn_graphs( number_of_nodes:int, p:float,number_of_graphs:int=1,)->list[nx.Graph]:\n",
    "    assert 0<=p<=1, \"p must be between 0 and 1\"\n",
    "    selected_graphs = []\n",
    "    while len(selected_graphs) < number_of_graphs:\n",
    "        graph = nx.fast_gnp_random_graph(number_of_nodes, p)\n",
    "        if nx.is_connected(graph):\n",
    "            selected_graphs.append(graph)\n",
    "    return selected_graphs\n",
    "\n",
    "def select_if_connected(graph:nx.Graph, number_of_nodes:int)-> Union[nx.Graph,None]:\n",
    "        if graph.number_of_nodes() == number_of_nodes and nx.is_connected(graph):\n",
    "            return graph\n",
    "        \n",
    "def get_all_connected(n:int) -> list[nx.Graph]:\n",
    "    assert n<=7,\"only up to 7 nodes supported\" \n",
    "    return list(filter(lambda g:select_if_connected(g,n),nx.graph_atlas_g()))\n",
    "    "
   ]
  },
  {
   "cell_type": "code",
   "execution_count": 3,
   "metadata": {},
   "outputs": [],
   "source": [
    "def get_rn_qubo(size:int, num:int=1, pars_within:set=None)->np.matrix:\n",
    "    qubos = list()\n",
    "    for _ in range(num):\n",
    "        rn = np.random.uniform(-1,1,size=(size,size))\n",
    "        qubos.append((rn + rn.T)/2)\n",
    "        \n",
    "    if num==1:\n",
    "        return qubos[0]\n",
    "    if num !=1:\n",
    "        return qubos"
   ]
  },
  {
   "cell_type": "code",
   "execution_count": 10,
   "metadata": {},
   "outputs": [],
   "source": [
    "with open(\"instances/n4_graphs.p\",\"rb\") as file:\n",
    "    graphs4 = pickle.load(file)\n"
   ]
  },
  {
   "cell_type": "code",
   "execution_count": 12,
   "metadata": {},
   "outputs": [],
   "source": [
    "with open(\"instances/n5_graphs.p\",\"rb\") as file:\n",
    "    graphs5 = pickle.load(file)\n"
   ]
  },
  {
   "cell_type": "code",
   "execution_count": 13,
   "metadata": {},
   "outputs": [],
   "source": [
    "with open(\"instances/n6_graphs.p\",\"rb\") as file:\n",
    "    graphs6 = pickle.load(file)\n"
   ]
  },
  {
   "cell_type": "code",
   "execution_count": 17,
   "metadata": {},
   "outputs": [
    {
     "data": {
      "text/plain": [
       "21"
      ]
     },
     "execution_count": 17,
     "metadata": {},
     "output_type": "execute_result"
    }
   ],
   "source": [
    "len(graphs5)"
   ]
  },
  {
   "cell_type": "code",
   "execution_count": null,
   "metadata": {},
   "outputs": [],
   "source": []
  },
  {
   "cell_type": "code",
   "execution_count": 45,
   "metadata": {},
   "outputs": [],
   "source": [
    "instanances_4 = list()\n",
    "with open(\"instances/n4_graphs.p\",\"rb\") as file:\n",
    "    graphs = pickle.load(file)\n",
    "    for g in graphs:\n",
    "        instanances_4.append(MaxCut(g,draw=False))"
   ]
  },
  {
   "cell_type": "code",
   "execution_count": 46,
   "metadata": {},
   "outputs": [],
   "source": [
    "with open(\"instances/n4_instances.p\",\"wb\") as file:\n",
    "    pickle.dump(instanances_4,file)"
   ]
  },
  {
   "cell_type": "code",
   "execution_count": null,
   "metadata": {},
   "outputs": [],
   "source": []
  }
 ],
 "metadata": {
  "kernelspec": {
   "display_name": "Python 3.10.6 ('qutip-env')",
   "language": "python",
   "name": "python3"
  },
  "language_info": {
   "codemirror_mode": {
    "name": "ipython",
    "version": 3
   },
   "file_extension": ".py",
   "mimetype": "text/x-python",
   "name": "python",
   "nbconvert_exporter": "python",
   "pygments_lexer": "ipython3",
   "version": "3.10.6"
  },
  "orig_nbformat": 4,
  "vscode": {
   "interpreter": {
    "hash": "fe45c953e7d91ced0867b19789acd0ab1d9439aa0b1f4fae31fd46e88f74aeab"
   }
  }
 },
 "nbformat": 4,
 "nbformat_minor": 2
}
