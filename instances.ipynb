{
 "cells": [
  {
   "cell_type": "code",
   "execution_count": 2,
   "metadata": {},
   "outputs": [],
   "source": [
    "import numpy as np\n",
    "import networkx as nx\n",
    "import pickle"
   ]
  },
  {
   "cell_type": "code",
   "execution_count": 3,
   "metadata": {},
   "outputs": [],
   "source": [
    "def get_connected_rn_graphs( number_of_nodes:int, p:float,number_of_graphs:int=1,)->list[nx.Graph]:\n",
    "    assert 0<=p<=1, \"p must be between 0 and 1\"\n",
    "    selected_graphs = []\n",
    "    while len(selected_graphs) < number_of_graphs:\n",
    "        graph = nx.fast_gnp_random_graph(number_of_nodes, p)\n",
    "        if nx.is_connected(graph):\n",
    "            selected_graphs.append(graph)\n",
    "    return selected_graphs\n",
    "\n",
    "def select_if_connected(graph:nx.Graph, number_of_nodes:int)-> nx.Graph|None:\n",
    "        if graph.number_of_nodes() == number_of_nodes and nx.is_connected(graph):\n",
    "            return graph\n",
    "        \n",
    "def get_all_connected(n:int) -> list[nx.Graph]:\n",
    "    assert n<=7,\"only up to 7 nodes supported\" \n",
    "    return list(filter(lambda g:select_if_connected(g,n),nx.graph_atlas_g()))\n",
    "    "
   ]
  },
  {
   "cell_type": "code",
   "execution_count": 4,
   "metadata": {},
   "outputs": [],
   "source": [
    "def get_rn_qubo(size:int, num:int=1, pars_within:set=None)->np.matrix:\n",
    "    qubos = list()\n",
    "    for _ in range(num):\n",
    "        rn = np.random.uniform(-1,1,size=(size,size))\n",
    "        qubos.append((rn + rn.T)/2)\n",
    "        \n",
    "    if num==1:\n",
    "        return qubos[0]\n",
    "    if num !=1:\n",
    "        return qubos"
   ]
  },
  {
   "cell_type": "code",
   "execution_count": 5,
   "metadata": {},
   "outputs": [],
   "source": [
    "n4_graphs = get_all_connected(4)\n",
    "n5_graphs = get_all_connected(5)\n",
    "n6_graphs = get_all_connected(6)\n",
    "n7_graphs = get_all_connected(7)\n",
    "n10_rn_graphs = get_connected_rn_graphs(10,0.5,100)"
   ]
  },
  {
   "cell_type": "code",
   "execution_count": 6,
   "metadata": {},
   "outputs": [],
   "source": [
    "rn_qubos = get_rn_qubo(10,100)"
   ]
  },
  {
   "cell_type": "code",
   "execution_count": 7,
   "metadata": {},
   "outputs": [],
   "source": [
    "for n in range(4,10):\n",
    "    with open(f\"rn_n{n}_qubos.p\",\"wb\") as file:\n",
    "        pickle.dump(get_rn_qubo(n,100),file)\n",
    "        "
   ]
  },
  {
   "cell_type": "code",
   "execution_count": null,
   "metadata": {},
   "outputs": [],
   "source": []
  }
 ],
 "metadata": {
  "kernelspec": {
   "display_name": "Python 3.10.6 ('qutip-env')",
   "language": "python",
   "name": "python3"
  },
  "language_info": {
   "codemirror_mode": {
    "name": "ipython",
    "version": 3
   },
   "file_extension": ".py",
   "mimetype": "text/x-python",
   "name": "python",
   "nbconvert_exporter": "python",
   "pygments_lexer": "ipython3",
   "version": "3.10.6"
  },
  "orig_nbformat": 4,
  "vscode": {
   "interpreter": {
    "hash": "fe45c953e7d91ced0867b19789acd0ab1d9439aa0b1f4fae31fd46e88f74aeab"
   }
  }
 },
 "nbformat": 4,
 "nbformat_minor": 2
}
