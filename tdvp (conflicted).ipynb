{
 "cells": [
  {
   "cell_type": "markdown",
   "metadata": {},
   "source": [
    "# TDVP numerical test \\#1\n",
    "\n",
    "The goal is to use the TDVP to simulate the time evolution of a simple Hamiltonian, when state space is restricted to some manifold Furthermore a goal is to compare this method with directly solving the SE and projecting to the manifold.\n",
    "\n",
    "The first example will be $\\mathcal{M}= S^2$ and $H=\\sigma_x$ to generate an X-rotation of a 1-qubit system. Note that the Bloch-sphere is a restriction of the entire 2-dim $\\mathcal{H}$ onto a sphere. "
   ]
  },
  {
   "cell_type": "code",
   "execution_count": 23,
   "metadata": {},
   "outputs": [],
   "source": [
    "from math import *\n",
    "import numpy as np\n",
    "import scipy as sp\n",
    "\n",
    "import jax\n",
    "import jax.numpy as jnp\n",
    "\n",
    "import matplotlib.pyplot as plt\n",
    "\n",
    "import qutip as qt"
   ]
  },
  {
   "cell_type": "code",
   "execution_count": 4,
   "metadata": {},
   "outputs": [],
   "source": [
    "H = qt.sigmax().full()"
   ]
  },
  {
   "cell_type": "code",
   "execution_count": 31,
   "metadata": {},
   "outputs": [],
   "source": [
    "def psi(params:np.array):\n",
    "    theta, phi = params\n",
    "    ket0=qt.basis(2,0).full()\n",
    "    ket1=qt.basis(2,1).full()\n",
    "    assert -np.pi<=theta<np.pi, f\"theta={theta} out of bounds.\"\n",
    "    assert 0<=phi<2*np.pi, f\"phi={phi} out of bounds.\"\n",
    "    return np.cos(theta/2)*ket0 + np.exp(1j*phi)*np.sin(theta/2)*ket1"
   ]
  },
  {
   "cell_type": "code",
   "execution_count": 32,
   "metadata": {},
   "outputs": [
    {
     "data": {
      "text/plain": [
       "array([[0.70710678+0.j],\n",
       "       [0.70710678+0.j]])"
      ]
     },
     "execution_count": 32,
     "metadata": {},
     "output_type": "execute_result"
    }
   ],
   "source": [
    "psi([pi/2,0])"
   ]
  },
  {
   "cell_type": "code",
   "execution_count": 33,
   "metadata": {},
   "outputs": [],
   "source": [
    "jacpsi = jax.jacfwd(psi)"
   ]
  },
  {
   "cell_type": "code",
   "execution_count": 34,
   "metadata": {},
   "outputs": [],
   "source": [
    "z=np.array([1.1,2.2])"
   ]
  },
  {
   "cell_type": "code",
   "execution_count": 36,
   "metadata": {},
   "outputs": [
    {
     "ename": "TracerArrayConversionError",
     "evalue": "The numpy.ndarray conversion method __array__() was called on the JAX Tracer object Traced<ConcreteArray(0.550000011920929, dtype=float32)>with<JVPTrace(level=2/0)> with\n  primal = DeviceArray(0.55, dtype=float32)\n  tangent = Traced<ShapedArray(float32[])>with<BatchTrace(level=1/0)> with\n    val = DeviceArray([0.5, 0. ], dtype=float32)\n    batch_dim = 0\nSee https://jax.readthedocs.io/en/latest/errors.html#jax.errors.TracerArrayConversionError",
     "output_type": "error",
     "traceback": [
      "\u001b[0;31m---------------------------------------------------------------------------\u001b[0m",
      "\u001b[0;31mTracerArrayConversionError\u001b[0m                Traceback (most recent call last)",
      "\u001b[1;32m/home/leonhard/Documents/Uni/Bachelor/Semester 8/Bachelorarbeit /TDVP_and_QAOA/tdvp.ipynb Cell 8'\u001b[0m in \u001b[0;36m<cell line: 1>\u001b[0;34m()\u001b[0m\n\u001b[0;32m----> <a href='vscode-notebook-cell:/home/leonhard/Documents/Uni/Bachelor/Semester%208/Bachelorarbeit%20/TDVP_and_QAOA/tdvp.ipynb#ch0000006?line=0'>1</a>\u001b[0m jacpsi(z)\n",
      "File \u001b[0;32m~/anaconda3/envs/qutip-env/lib/python3.10/site-packages/jax/_src/api.py:1104\u001b[0m, in \u001b[0;36mjacfwd.<locals>.jacfun\u001b[0;34m(*args, **kwargs)\u001b[0m\n\u001b[1;32m   <a href='file:///home/leonhard/anaconda3/envs/qutip-env/lib/python3.10/site-packages/jax/_src/api.py?line=1101'>1102</a>\u001b[0m \u001b[39mif\u001b[39;00m \u001b[39mnot\u001b[39;00m has_aux:\n\u001b[1;32m   <a href='file:///home/leonhard/anaconda3/envs/qutip-env/lib/python3.10/site-packages/jax/_src/api.py?line=1102'>1103</a>\u001b[0m   pushfwd \u001b[39m=\u001b[39m partial(_jvp, f_partial, dyn_args)\n\u001b[0;32m-> <a href='file:///home/leonhard/anaconda3/envs/qutip-env/lib/python3.10/site-packages/jax/_src/api.py?line=1103'>1104</a>\u001b[0m   y, jac \u001b[39m=\u001b[39m vmap(pushfwd, out_axes\u001b[39m=\u001b[39;49m(\u001b[39mNone\u001b[39;49;00m, \u001b[39m-\u001b[39;49m\u001b[39m1\u001b[39;49m))(_std_basis(dyn_args))\n\u001b[1;32m   <a href='file:///home/leonhard/anaconda3/envs/qutip-env/lib/python3.10/site-packages/jax/_src/api.py?line=1104'>1105</a>\u001b[0m \u001b[39melse\u001b[39;00m:\n\u001b[1;32m   <a href='file:///home/leonhard/anaconda3/envs/qutip-env/lib/python3.10/site-packages/jax/_src/api.py?line=1105'>1106</a>\u001b[0m   pushfwd \u001b[39m=\u001b[39m partial(_jvp, f_partial, dyn_args, has_aux\u001b[39m=\u001b[39m\u001b[39mTrue\u001b[39;00m)\n",
      "    \u001b[0;31m[... skipping hidden 5 frame]\u001b[0m\n",
      "\u001b[1;32m/home/leonhard/Documents/Uni/Bachelor/Semester 8/Bachelorarbeit /TDVP_and_QAOA/tdvp.ipynb Cell 4'\u001b[0m in \u001b[0;36mpsi\u001b[0;34m(params)\u001b[0m\n\u001b[1;32m      <a href='vscode-notebook-cell:/home/leonhard/Documents/Uni/Bachelor/Semester%208/Bachelorarbeit%20/TDVP_and_QAOA/tdvp.ipynb#ch0000003?line=4'>5</a>\u001b[0m \u001b[39massert\u001b[39;00m \u001b[39m-\u001b[39mnp\u001b[39m.\u001b[39mpi\u001b[39m<\u001b[39m\u001b[39m=\u001b[39mtheta\u001b[39m<\u001b[39mnp\u001b[39m.\u001b[39mpi, \u001b[39mf\u001b[39m\u001b[39m\"\u001b[39m\u001b[39mtheta=\u001b[39m\u001b[39m{\u001b[39;00mtheta\u001b[39m}\u001b[39;00m\u001b[39m out of bounds.\u001b[39m\u001b[39m\"\u001b[39m\n\u001b[1;32m      <a href='vscode-notebook-cell:/home/leonhard/Documents/Uni/Bachelor/Semester%208/Bachelorarbeit%20/TDVP_and_QAOA/tdvp.ipynb#ch0000003?line=5'>6</a>\u001b[0m \u001b[39massert\u001b[39;00m \u001b[39m0\u001b[39m\u001b[39m<\u001b[39m\u001b[39m=\u001b[39mphi\u001b[39m<\u001b[39m\u001b[39m2\u001b[39m\u001b[39m*\u001b[39mnp\u001b[39m.\u001b[39mpi, \u001b[39mf\u001b[39m\u001b[39m\"\u001b[39m\u001b[39mphi=\u001b[39m\u001b[39m{\u001b[39;00mphi\u001b[39m}\u001b[39;00m\u001b[39m out of bounds.\u001b[39m\u001b[39m\"\u001b[39m\n\u001b[0;32m----> <a href='vscode-notebook-cell:/home/leonhard/Documents/Uni/Bachelor/Semester%208/Bachelorarbeit%20/TDVP_and_QAOA/tdvp.ipynb#ch0000003?line=6'>7</a>\u001b[0m \u001b[39mreturn\u001b[39;00m np\u001b[39m.\u001b[39;49mcos(theta\u001b[39m/\u001b[39;49m\u001b[39m2\u001b[39;49m)\u001b[39m*\u001b[39mket0 \u001b[39m+\u001b[39m np\u001b[39m.\u001b[39mexp(\u001b[39m1\u001b[39mj\u001b[39m*\u001b[39mphi)\u001b[39m*\u001b[39mnp\u001b[39m.\u001b[39msin(theta\u001b[39m/\u001b[39m\u001b[39m2\u001b[39m)\u001b[39m*\u001b[39mket1\n",
      "File \u001b[0;32m~/anaconda3/envs/qutip-env/lib/python3.10/site-packages/jax/core.py:534\u001b[0m, in \u001b[0;36mTracer.__array__\u001b[0;34m(self, *args, **kw)\u001b[0m\n\u001b[1;32m    <a href='file:///home/leonhard/anaconda3/envs/qutip-env/lib/python3.10/site-packages/jax/core.py?line=532'>533</a>\u001b[0m \u001b[39mdef\u001b[39;00m \u001b[39m__array__\u001b[39m(\u001b[39mself\u001b[39m, \u001b[39m*\u001b[39margs, \u001b[39m*\u001b[39m\u001b[39m*\u001b[39mkw):\n\u001b[0;32m--> <a href='file:///home/leonhard/anaconda3/envs/qutip-env/lib/python3.10/site-packages/jax/core.py?line=533'>534</a>\u001b[0m   \u001b[39mraise\u001b[39;00m TracerArrayConversionError(\u001b[39mself\u001b[39m)\n",
      "\u001b[0;31mTracerArrayConversionError\u001b[0m: The numpy.ndarray conversion method __array__() was called on the JAX Tracer object Traced<ConcreteArray(0.550000011920929, dtype=float32)>with<JVPTrace(level=2/0)> with\n  primal = DeviceArray(0.55, dtype=float32)\n  tangent = Traced<ShapedArray(float32[])>with<BatchTrace(level=1/0)> with\n    val = DeviceArray([0.5, 0. ], dtype=float32)\n    batch_dim = 0\nSee https://jax.readthedocs.io/en/latest/errors.html#jax.errors.TracerArrayConversionError"
     ]
    }
   ],
   "source": [
    "jacpsi(z)"
   ]
  },
  {
   "cell_type": "code",
   "execution_count": 41,
   "metadata": {},
   "outputs": [],
   "source": [
    "def f(X):\n",
    "    x,y = X \n",
    "    return np.array([x**2+y, 5*+np.sin(y)]) "
   ]
  },
  {
   "cell_type": "code",
   "execution_count": 43,
   "metadata": {},
   "outputs": [
    {
     "ename": "TracerArrayConversionError",
     "evalue": "The numpy.ndarray conversion method __array__() was called on the JAX Tracer object Traced<ConcreteArray(1.0, dtype=float32)>with<JVPTrace(level=2/0)> with\n  primal = DeviceArray(1., dtype=float32)\n  tangent = Traced<ShapedArray(float32[])>with<BatchTrace(level=1/0)> with\n    val = DeviceArray([0., 1.], dtype=float32)\n    batch_dim = 0\nSee https://jax.readthedocs.io/en/latest/errors.html#jax.errors.TracerArrayConversionError",
     "output_type": "error",
     "traceback": [
      "\u001b[0;31m---------------------------------------------------------------------------\u001b[0m",
      "\u001b[0;31mTracerArrayConversionError\u001b[0m                Traceback (most recent call last)",
      "\u001b[1;32m/home/leonhard/Documents/Uni/Bachelor/Semester 8/Bachelorarbeit /TDVP_and_QAOA/tdvp.ipynb Cell 10'\u001b[0m in \u001b[0;36m<cell line: 3>\u001b[0;34m()\u001b[0m\n\u001b[1;32m      <a href='vscode-notebook-cell:/home/leonhard/Documents/Uni/Bachelor/Semester%208/Bachelorarbeit%20/TDVP_and_QAOA/tdvp.ipynb#ch0000014?line=0'>1</a>\u001b[0m jf \u001b[39m=\u001b[39m jax\u001b[39m.\u001b[39mjacfwd(f)\n\u001b[1;32m      <a href='vscode-notebook-cell:/home/leonhard/Documents/Uni/Bachelor/Semester%208/Bachelorarbeit%20/TDVP_and_QAOA/tdvp.ipynb#ch0000014?line=1'>2</a>\u001b[0m X\u001b[39m=\u001b[39mnp\u001b[39m.\u001b[39marray([\u001b[39m1.0\u001b[39m,\u001b[39m1.0\u001b[39m])\n\u001b[0;32m----> <a href='vscode-notebook-cell:/home/leonhard/Documents/Uni/Bachelor/Semester%208/Bachelorarbeit%20/TDVP_and_QAOA/tdvp.ipynb#ch0000014?line=2'>3</a>\u001b[0m jf(X)\n",
      "File \u001b[0;32m~/anaconda3/envs/qutip-env/lib/python3.10/site-packages/jax/_src/api.py:1104\u001b[0m, in \u001b[0;36mjacfwd.<locals>.jacfun\u001b[0;34m(*args, **kwargs)\u001b[0m\n\u001b[1;32m   <a href='file:///home/leonhard/anaconda3/envs/qutip-env/lib/python3.10/site-packages/jax/_src/api.py?line=1101'>1102</a>\u001b[0m \u001b[39mif\u001b[39;00m \u001b[39mnot\u001b[39;00m has_aux:\n\u001b[1;32m   <a href='file:///home/leonhard/anaconda3/envs/qutip-env/lib/python3.10/site-packages/jax/_src/api.py?line=1102'>1103</a>\u001b[0m   pushfwd \u001b[39m=\u001b[39m partial(_jvp, f_partial, dyn_args)\n\u001b[0;32m-> <a href='file:///home/leonhard/anaconda3/envs/qutip-env/lib/python3.10/site-packages/jax/_src/api.py?line=1103'>1104</a>\u001b[0m   y, jac \u001b[39m=\u001b[39m vmap(pushfwd, out_axes\u001b[39m=\u001b[39;49m(\u001b[39mNone\u001b[39;49;00m, \u001b[39m-\u001b[39;49m\u001b[39m1\u001b[39;49m))(_std_basis(dyn_args))\n\u001b[1;32m   <a href='file:///home/leonhard/anaconda3/envs/qutip-env/lib/python3.10/site-packages/jax/_src/api.py?line=1104'>1105</a>\u001b[0m \u001b[39melse\u001b[39;00m:\n\u001b[1;32m   <a href='file:///home/leonhard/anaconda3/envs/qutip-env/lib/python3.10/site-packages/jax/_src/api.py?line=1105'>1106</a>\u001b[0m   pushfwd \u001b[39m=\u001b[39m partial(_jvp, f_partial, dyn_args, has_aux\u001b[39m=\u001b[39m\u001b[39mTrue\u001b[39;00m)\n",
      "    \u001b[0;31m[... skipping hidden 5 frame]\u001b[0m\n",
      "\u001b[1;32m/home/leonhard/Documents/Uni/Bachelor/Semester 8/Bachelorarbeit /TDVP_and_QAOA/tdvp.ipynb Cell 9'\u001b[0m in \u001b[0;36mf\u001b[0;34m(X)\u001b[0m\n\u001b[1;32m      <a href='vscode-notebook-cell:/home/leonhard/Documents/Uni/Bachelor/Semester%208/Bachelorarbeit%20/TDVP_and_QAOA/tdvp.ipynb#ch0000013?line=0'>1</a>\u001b[0m \u001b[39mdef\u001b[39;00m \u001b[39mf\u001b[39m(X):\n\u001b[1;32m      <a href='vscode-notebook-cell:/home/leonhard/Documents/Uni/Bachelor/Semester%208/Bachelorarbeit%20/TDVP_and_QAOA/tdvp.ipynb#ch0000013?line=1'>2</a>\u001b[0m     x,y \u001b[39m=\u001b[39m X\n\u001b[0;32m----> <a href='vscode-notebook-cell:/home/leonhard/Documents/Uni/Bachelor/Semester%208/Bachelorarbeit%20/TDVP_and_QAOA/tdvp.ipynb#ch0000013?line=2'>3</a>\u001b[0m     \u001b[39mreturn\u001b[39;00m np\u001b[39m.\u001b[39marray([x\u001b[39m*\u001b[39m\u001b[39m*\u001b[39m\u001b[39m2\u001b[39m\u001b[39m+\u001b[39my, \u001b[39m5\u001b[39m\u001b[39m*\u001b[39m\u001b[39m+\u001b[39mnp\u001b[39m.\u001b[39;49msin(y)])\n",
      "File \u001b[0;32m~/anaconda3/envs/qutip-env/lib/python3.10/site-packages/jax/core.py:534\u001b[0m, in \u001b[0;36mTracer.__array__\u001b[0;34m(self, *args, **kw)\u001b[0m\n\u001b[1;32m    <a href='file:///home/leonhard/anaconda3/envs/qutip-env/lib/python3.10/site-packages/jax/core.py?line=532'>533</a>\u001b[0m \u001b[39mdef\u001b[39;00m \u001b[39m__array__\u001b[39m(\u001b[39mself\u001b[39m, \u001b[39m*\u001b[39margs, \u001b[39m*\u001b[39m\u001b[39m*\u001b[39mkw):\n\u001b[0;32m--> <a href='file:///home/leonhard/anaconda3/envs/qutip-env/lib/python3.10/site-packages/jax/core.py?line=533'>534</a>\u001b[0m   \u001b[39mraise\u001b[39;00m TracerArrayConversionError(\u001b[39mself\u001b[39m)\n",
      "\u001b[0;31mTracerArrayConversionError\u001b[0m: The numpy.ndarray conversion method __array__() was called on the JAX Tracer object Traced<ConcreteArray(1.0, dtype=float32)>with<JVPTrace(level=2/0)> with\n  primal = DeviceArray(1., dtype=float32)\n  tangent = Traced<ShapedArray(float32[])>with<BatchTrace(level=1/0)> with\n    val = DeviceArray([0., 1.], dtype=float32)\n    batch_dim = 0\nSee https://jax.readthedocs.io/en/latest/errors.html#jax.errors.TracerArrayConversionError"
     ]
    }
   ],
   "source": [
    "jf = jax.jacfwd(f)\n",
    "X=np.array([1.0,1.0])\n",
    "jf(X)"
   ]
  },
  {
   "cell_type": "code",
   "execution_count": null,
   "metadata": {},
   "outputs": [],
   "source": []
  }
 ],
 "metadata": {
  "interpreter": {
   "hash": "fe45c953e7d91ced0867b19789acd0ab1d9439aa0b1f4fae31fd46e88f74aeab"
  },
  "kernelspec": {
   "display_name": "Python 3.10.4 ('qutip-env')",
   "language": "python",
   "name": "python3"
  },
  "language_info": {
   "codemirror_mode": {
    "name": "ipython",
    "version": 3
   },
   "file_extension": ".py",
   "mimetype": "text/x-python",
   "name": "python",
   "nbconvert_exporter": "python",
   "pygments_lexer": "ipython3",
   "version": "3.10.4"
  },
  "orig_nbformat": 4
 },
 "nbformat": 4,
 "nbformat_minor": 2
}
